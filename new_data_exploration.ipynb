{
 "cells": [
  {
   "cell_type": "code",
   "execution_count": 7,
   "metadata": {},
   "outputs": [
    {
     "data": {
      "text/plain": [
       "True"
      ]
     },
     "execution_count": 7,
     "metadata": {},
     "output_type": "execute_result"
    }
   ],
   "source": [
    "import pandas as pd\n",
    "import polars as pl\n",
    "from v3.state import v3Pool\n",
    "\n",
    "from dotenv import load_dotenv\n",
    "import os\n",
    "\n",
    "load_dotenv()"
   ]
  },
  {
   "cell_type": "code",
   "execution_count": 3,
   "metadata": {},
   "outputs": [
    {
     "data": {
      "text/plain": [
       "'/Users/larsankile/code/defi-measurement'"
      ]
     },
     "execution_count": 3,
     "metadata": {},
     "output_type": "execute_result"
    }
   ],
   "source": [
    "os.environ[\"V3_POLARS_PATH\"]"
   ]
  },
  {
   "cell_type": "code",
   "execution_count": null,
   "metadata": {},
   "outputs": [],
   "source": [
    "df = pd.read_parquet(\"openethdata_eth_data.parquet.gzip\")\n",
    "\n",
    "df.shape"
   ]
  },
  {
   "cell_type": "code",
   "execution_count": 6,
   "metadata": {},
   "outputs": [
    {
     "name": "stdout",
     "output_type": "stream",
     "text": [
      "Using data path /Users/larsankile/code/defi-measurement/data\n",
      "Starting table factory_pool_created\n",
      "shape: (1, 2)\n",
      "┌───────────┬───────────┐\n",
      "│ min_block ┆ max_block │\n",
      "│ ---       ┆ ---       │\n",
      "│ i64       ┆ i64       │\n",
      "╞═══════════╪═══════════╡\n",
      "│ 12369739  ┆ 20249444  │\n",
      "└───────────┴───────────┘\n",
      "Found 12369739 to 20249444\n",
      "Found data - Updated to 20249400 to 20249444\n",
      "Starting at 20249400\n",
      "Going from 20249400 to 20249443\n",
      "No data found for 20249400 to 20249443\n",
      "Starting table pool_initialize_events\n",
      "shape: (1, 2)\n",
      "┌───────────┬───────────┐\n",
      "│ min_block ┆ max_block │\n",
      "│ ---       ┆ ---       │\n",
      "│ i64       ┆ i64       │\n",
      "╞═══════════╪═══════════╡\n",
      "│ 12369739  ┆ 20249444  │\n",
      "└───────────┴───────────┘\n",
      "Found 12369739 to 20249444\n",
      "Found data - Updated to 20249400 to 20249444\n",
      "Starting at 20249400\n",
      "Going from 20249400 to 20249443\n",
      "No data found for 20249400 to 20249443\n",
      "Starting table pool_swap_events\n",
      "shape: (1, 2)\n",
      "┌───────────┬───────────┐\n",
      "│ min_block ┆ max_block │\n",
      "│ ---       ┆ ---       │\n",
      "│ i64       ┆ i64       │\n",
      "╞═══════════╪═══════════╡\n",
      "│ 12369886  ┆ 20249341  │\n",
      "└───────────┴───────────┘\n",
      "Found 12369886 to 20249341\n",
      "Found data - Updated to 20248674 to 20249341\n",
      "Starting at 20248674\n",
      "Going from 20248674 to 20249340\n",
      "Starting at 20249190\n",
      "Going from 20249190 to 20249340\n",
      "No data found for 20249190 to 20249340\n",
      "Starting table pool_mint_burn_events\n",
      "shape: (1, 2)\n",
      "┌───────────┬───────────┐\n",
      "│ min_block ┆ max_block │\n",
      "│ ---       ┆ ---       │\n",
      "│ i64       ┆ i64       │\n",
      "╞═══════════╪═══════════╡\n",
      "│ 12369821  ┆ 20249207  │\n",
      "└───────────┴───────────┘\n",
      "Found 12369821 to 20249207\n",
      "Found data - Updated to 20248857 to 20249207\n",
      "Starting at 20248857\n",
      "Going from 20248857 to 20249206\n",
      "No data found for 20248857 to 20249206\n"
     ]
    }
   ],
   "source": [
    "address = \"0xCBCdF9626bC03E24f779434178A73a0B4bad62eD\"\n",
    "eth = v3Pool(\n",
    "    address,\n",
    "    \"ethereum\",\n",
    "    update=True,\n",
    "    update_from=\"allium\",\n",
    ")"
   ]
  },
  {
   "cell_type": "code",
   "execution_count": 8,
   "metadata": {},
   "outputs": [
    {
     "data": {
      "text/plain": [
       "(29160689, 19)"
      ]
     },
     "execution_count": 8,
     "metadata": {},
     "output_type": "execute_result"
    }
   ],
   "source": [
    "df = pl.read_parquet(\"/Users/larsankile/code/defi-measurement/data/pool_swap_events/*.parquet\")\n",
    "\n",
    "df.shape"
   ]
  },
  {
   "cell_type": "code",
   "execution_count": 9,
   "metadata": {},
   "outputs": [
    {
     "data": {
      "text/plain": [
       "['chain_name',\n",
       " 'address',\n",
       " 'block_timestamp',\n",
       " 'block_number',\n",
       " 'transaction_hash',\n",
       " 'log_index',\n",
       " 'sender',\n",
       " 'recipient',\n",
       " 'amount0',\n",
       " 'amount1',\n",
       " 'sqrtPriceX96',\n",
       " 'liquidity',\n",
       " 'tick',\n",
       " 'to_address',\n",
       " 'from_address',\n",
       " 'transaction_index',\n",
       " 'gas_price',\n",
       " 'gas_used',\n",
       " 'l1_fee']"
      ]
     },
     "execution_count": 9,
     "metadata": {},
     "output_type": "execute_result"
    }
   ],
   "source": [
    "df.columns"
   ]
  },
  {
   "cell_type": "code",
   "execution_count": 11,
   "metadata": {},
   "outputs": [
    {
     "data": {
      "text/plain": [
       "20083"
      ]
     },
     "execution_count": 11,
     "metadata": {},
     "output_type": "execute_result"
    }
   ],
   "source": [
    "# Get the number of unique pool addresses in the dataset\n",
    "df.select(\"address\").n_unique()"
   ]
  },
  {
   "cell_type": "code",
   "execution_count": 16,
   "metadata": {},
   "outputs": [
    {
     "data": {
      "text/plain": [
       "['0x84ea2e00fd6c4d08e88c5f59265b79de530bea0b',\n",
       " '0x5764a6f2212d502bc5970f9f129ffcd61e5d7563',\n",
       " '0xcd9dab5e666de980cecdc180cb31f296733e2587',\n",
       " '0x381fe4eb128db1621647ca00965da3f9e09f4fac',\n",
       " '0x5764a6f2212d502bc5970f9f129ffcd61e5d7563',\n",
       " '0x5764a6f2212d502bc5970f9f129ffcd61e5d7563',\n",
       " '0x5764a6f2212d502bc5970f9f129ffcd61e5d7563',\n",
       " '0xe0e1b825474ae06e7e932e214a735640c9bc3e71',\n",
       " '0x5764a6f2212d502bc5970f9f129ffcd61e5d7563',\n",
       " '0x5764a6f2212d502bc5970f9f129ffcd61e5d7563']"
      ]
     },
     "execution_count": 16,
     "metadata": {},
     "output_type": "execute_result"
    }
   ],
   "source": [
    "df.get_column(\"address\")[:10].to_list()"
   ]
  },
  {
   "cell_type": "code",
   "execution_count": null,
   "metadata": {},
   "outputs": [],
   "source": []
  }
 ],
 "metadata": {
  "kernelspec": {
   "display_name": "venv",
   "language": "python",
   "name": "python3"
  },
  "language_info": {
   "codemirror_mode": {
    "name": "ipython",
    "version": 3
   },
   "file_extension": ".py",
   "mimetype": "text/x-python",
   "name": "python",
   "nbconvert_exporter": "python",
   "pygments_lexer": "ipython3",
   "version": "3.11.4"
  }
 },
 "nbformat": 4,
 "nbformat_minor": 2
}
