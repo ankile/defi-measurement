{
 "cells": [
  {
   "cell_type": "code",
   "execution_count": 1,
   "metadata": {},
   "outputs": [
    {
     "data": {
      "text/plain": [
       "True"
      ]
     },
     "execution_count": 1,
     "metadata": {},
     "output_type": "execute_result"
    }
   ],
   "source": [
    "import os\n",
    "import pandas as pd\n",
    "from dotenv import load_dotenv\n",
    "\n",
    "load_dotenv()"
   ]
  },
  {
   "cell_type": "code",
   "execution_count": 2,
   "metadata": {},
   "outputs": [],
   "source": [
    "postgres_uri_mp = os.environ[\"POSTGRESQL_URI_MP\"]"
   ]
  },
  {
   "cell_type": "code",
   "execution_count": 14,
   "metadata": {},
   "outputs": [
    {
     "name": "stdout",
     "output_type": "stream",
     "text": [
      "(2453440, 9)\n"
     ]
    },
    {
     "data": {
      "text/html": [
       "<div>\n",
       "<style scoped>\n",
       "    .dataframe tbody tr th:only-of-type {\n",
       "        vertical-align: middle;\n",
       "    }\n",
       "\n",
       "    .dataframe tbody tr th {\n",
       "        vertical-align: top;\n",
       "    }\n",
       "\n",
       "    .dataframe thead th {\n",
       "        text-align: right;\n",
       "    }\n",
       "</style>\n",
       "<table border=\"1\" class=\"dataframe\">\n",
       "  <thead>\n",
       "    <tr style=\"text-align: right;\">\n",
       "      <th></th>\n",
       "      <th>date</th>\n",
       "      <th>slot</th>\n",
       "      <th>block_number</th>\n",
       "      <th>relay</th>\n",
       "      <th>builder_pubkey</th>\n",
       "      <th>proposer_pubkey</th>\n",
       "      <th>mevboost_value</th>\n",
       "      <th>builder</th>\n",
       "      <th>validator</th>\n",
       "    </tr>\n",
       "  </thead>\n",
       "  <tbody>\n",
       "    <tr>\n",
       "      <th>2030943</th>\n",
       "      <td>2022-09-15 08:33:47</td>\n",
       "      <td>4700567</td>\n",
       "      <td>15537940</td>\n",
       "      <td>flashbots</td>\n",
       "      <td>0xa1dead01e65f0a0eee7b5170223f20c8f0cbf122eac3...</td>\n",
       "      <td>0xa606aca2180226fc69e0652134eca4c7f4a428585c11...</td>\n",
       "      <td>0.283204</td>\n",
       "      <td>Flashbots</td>\n",
       "      <td>0xa606aca2180226fc69e0652134eca4c7f4a428585c11...</td>\n",
       "    </tr>\n",
       "    <tr>\n",
       "      <th>2241547</th>\n",
       "      <td>2022-09-15 08:35:23</td>\n",
       "      <td>4700575</td>\n",
       "      <td>15537948</td>\n",
       "      <td>flashbots</td>\n",
       "      <td>0xa1dead01e65f0a0eee7b5170223f20c8f0cbf122eac3...</td>\n",
       "      <td>0x9489e9354f515580f6a949f69eed311eeb26b268b744...</td>\n",
       "      <td>0.845802</td>\n",
       "      <td>Flashbots</td>\n",
       "      <td>0x9489e9354f515580f6a949f69eed311eeb26b268b744...</td>\n",
       "    </tr>\n",
       "    <tr>\n",
       "      <th>1700016</th>\n",
       "      <td>2022-09-15 08:41:35</td>\n",
       "      <td>4700606</td>\n",
       "      <td>15537978</td>\n",
       "      <td>flashbots</td>\n",
       "      <td>0x81beef03aafd3dd33ffd7deb337407142c80fea2690e...</td>\n",
       "      <td>0x82d5ebc6c3ef5eda41dcbb1cbdfd5863ab6e4d16b137...</td>\n",
       "      <td>0.213524</td>\n",
       "      <td>Flashbots</td>\n",
       "      <td>stakewise</td>\n",
       "    </tr>\n",
       "    <tr>\n",
       "      <th>1923763</th>\n",
       "      <td>2022-09-15 08:59:11</td>\n",
       "      <td>4700694</td>\n",
       "      <td>15538064</td>\n",
       "      <td>flashbots</td>\n",
       "      <td>0xa1dead01e65f0a0eee7b5170223f20c8f0cbf122eac3...</td>\n",
       "      <td>0x8e7d5eed0f72cd56e547e2fabea19a65668577fd2d64...</td>\n",
       "      <td>0.113136</td>\n",
       "      <td>Flashbots</td>\n",
       "      <td>0x8e7d5eed0f72cd56e547e2fabea19a65668577fd2d64...</td>\n",
       "    </tr>\n",
       "    <tr>\n",
       "      <th>205280</th>\n",
       "      <td>2022-09-15 09:05:11</td>\n",
       "      <td>4700724</td>\n",
       "      <td>15538094</td>\n",
       "      <td>flashbots</td>\n",
       "      <td>0xa1dead01e65f0a0eee7b5170223f20c8f0cbf122eac3...</td>\n",
       "      <td>0xae1426c22c5c0d91d62c5a224759f44569a0a52e6cb8...</td>\n",
       "      <td>0.637987</td>\n",
       "      <td>Flashbots</td>\n",
       "      <td>rocketpool</td>\n",
       "    </tr>\n",
       "  </tbody>\n",
       "</table>\n",
       "</div>"
      ],
      "text/plain": [
       "                       date     slot  block_number      relay  \\\n",
       "2030943 2022-09-15 08:33:47  4700567      15537940  flashbots   \n",
       "2241547 2022-09-15 08:35:23  4700575      15537948  flashbots   \n",
       "1700016 2022-09-15 08:41:35  4700606      15537978  flashbots   \n",
       "1923763 2022-09-15 08:59:11  4700694      15538064  flashbots   \n",
       "205280  2022-09-15 09:05:11  4700724      15538094  flashbots   \n",
       "\n",
       "                                            builder_pubkey  \\\n",
       "2030943  0xa1dead01e65f0a0eee7b5170223f20c8f0cbf122eac3...   \n",
       "2241547  0xa1dead01e65f0a0eee7b5170223f20c8f0cbf122eac3...   \n",
       "1700016  0x81beef03aafd3dd33ffd7deb337407142c80fea2690e...   \n",
       "1923763  0xa1dead01e65f0a0eee7b5170223f20c8f0cbf122eac3...   \n",
       "205280   0xa1dead01e65f0a0eee7b5170223f20c8f0cbf122eac3...   \n",
       "\n",
       "                                           proposer_pubkey  mevboost_value  \\\n",
       "2030943  0xa606aca2180226fc69e0652134eca4c7f4a428585c11...        0.283204   \n",
       "2241547  0x9489e9354f515580f6a949f69eed311eeb26b268b744...        0.845802   \n",
       "1700016  0x82d5ebc6c3ef5eda41dcbb1cbdfd5863ab6e4d16b137...        0.213524   \n",
       "1923763  0x8e7d5eed0f72cd56e547e2fabea19a65668577fd2d64...        0.113136   \n",
       "205280   0xae1426c22c5c0d91d62c5a224759f44569a0a52e6cb8...        0.637987   \n",
       "\n",
       "           builder                                          validator  \n",
       "2030943  Flashbots  0xa606aca2180226fc69e0652134eca4c7f4a428585c11...  \n",
       "2241547  Flashbots  0x9489e9354f515580f6a949f69eed311eeb26b268b744...  \n",
       "1700016  Flashbots                                          stakewise  \n",
       "1923763  Flashbots  0x8e7d5eed0f72cd56e547e2fabea19a65668577fd2d64...  \n",
       "205280   Flashbots                                         rocketpool  "
      ]
     },
     "execution_count": 14,
     "metadata": {},
     "output_type": "execute_result"
    }
   ],
   "source": [
    "# TODO: Convert to use Azure Blob Storage\n",
    "df = pd.read_parquet(\"/Users/larsankile/Downloads/openethdata_eth_data.parquet.gzip\").sort_values(\"block_number\")\n",
    "\n",
    "# Filter out all transactions that are 'missed'\n",
    "df = df[df.proposer_pubkey != \"missed\"]\n",
    "df = df[~df.block_number.isna()]\n",
    "df = df[~df.relay.isnull()]\n",
    "df = df.astype({\"block_number\": int})\n",
    "df = df.assign(mevboost_value=df.mevboost_value.astype(float) / 10**18)\n",
    "\n",
    "print(df.shape)\n",
    "\n",
    "df.head()"
   ]
  },
  {
   "cell_type": "code",
   "execution_count": 15,
   "metadata": {},
   "outputs": [
    {
     "data": {
      "text/plain": [
       "(0, 9)"
      ]
     },
     "execution_count": 15,
     "metadata": {},
     "output_type": "execute_result"
    }
   ],
   "source": [
    "# Convert the\n",
    "df[df.mevboost_value.isnull()].shape"
   ]
  },
  {
   "cell_type": "code",
   "execution_count": 16,
   "metadata": {},
   "outputs": [
    {
     "data": {
      "text/plain": [
       "2453440"
      ]
     },
     "execution_count": 16,
     "metadata": {},
     "output_type": "execute_result"
    }
   ],
   "source": [
    "df.to_sql(\"mev_boost\", postgres_uri_mp, if_exists=\"replace\", index=False, method=\"multi\", chunksize=100_000)"
   ]
  },
  {
   "cell_type": "code",
   "execution_count": null,
   "metadata": {},
   "outputs": [],
   "source": []
  },
  {
   "cell_type": "code",
   "execution_count": null,
   "metadata": {},
   "outputs": [],
   "source": []
  },
  {
   "cell_type": "code",
   "execution_count": null,
   "metadata": {},
   "outputs": [],
   "source": []
  }
 ],
 "metadata": {
  "kernelspec": {
   "display_name": "venv",
   "language": "python",
   "name": "python3"
  },
  "language_info": {
   "codemirror_mode": {
    "name": "ipython",
    "version": 3
   },
   "file_extension": ".py",
   "mimetype": "text/x-python",
   "name": "python",
   "nbconvert_exporter": "python",
   "pygments_lexer": "ipython3",
   "version": "3.11.4"
  },
  "orig_nbformat": 4
 },
 "nbformat": 4,
 "nbformat_minor": 2
}
