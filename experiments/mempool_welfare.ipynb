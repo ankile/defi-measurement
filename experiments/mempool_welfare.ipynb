{
 "cells": [
  {
   "attachments": {},
   "cell_type": "markdown",
   "metadata": {},
   "source": [
    "# Measure transaction price for mempool transactions before/after private transactions\n",
    "\n",
    "\n",
    "Rationale:\n",
    "- Transactions sent to the public mempool are presumably not intended to be manipulative or adversarial\n",
    "- It is therefore safe to assume that when we run blocks of only transactions from the public mempool, there is no sandwhiches\n",
    "- Then, we can compare the prices that the transactions from the public mempool would get if they were alone with the price they actually got\n",
    "- If the difference is large, this might indicate that MEV was extracted (of course, could also just be random)"
   ]
  },
  {
   "attachments": {},
   "cell_type": "markdown",
   "metadata": {},
   "source": [
    "## Imports and connections"
   ]
  },
  {
   "cell_type": "code",
   "execution_count": null,
   "metadata": {},
   "outputs": [],
   "source": []
  },
  {
   "attachments": {},
   "cell_type": "markdown",
   "metadata": {},
   "source": [
    "## Get swap data\n",
    "\n",
    "Here we need to find blocks where there are a sufficient number of transactions from the public mempool any given pool to make it possible to perform meaningful counterfactual analyses.\n",
    "\n",
    "Note: I should probably combine the mempool transactions in MongoDB with the Postgres database before this to make sure we have as big a data pool as possible."
   ]
  },
  {
   "cell_type": "code",
   "execution_count": null,
   "metadata": {},
   "outputs": [],
   "source": []
  },
  {
   "attachments": {},
   "cell_type": "markdown",
   "metadata": {},
   "source": [
    "## Run the baseline case of how the block was"
   ]
  },
  {
   "cell_type": "code",
   "execution_count": null,
   "metadata": {},
   "outputs": [],
   "source": []
  },
  {
   "attachments": {},
   "cell_type": "markdown",
   "metadata": {},
   "source": [
    "## Run the block without any private transactions"
   ]
  },
  {
   "cell_type": "code",
   "execution_count": null,
   "metadata": {},
   "outputs": [],
   "source": []
  },
  {
   "attachments": {},
   "cell_type": "markdown",
   "metadata": {},
   "source": [
    "## Run the block according to the sequencing rule"
   ]
  },
  {
   "cell_type": "code",
   "execution_count": null,
   "metadata": {},
   "outputs": [],
   "source": []
  },
  {
   "attachments": {},
   "cell_type": "markdown",
   "metadata": {},
   "source": [
    "## Compare the results"
   ]
  },
  {
   "cell_type": "code",
   "execution_count": null,
   "metadata": {},
   "outputs": [],
   "source": []
  }
 ],
 "metadata": {
  "language_info": {
   "name": "python"
  },
  "orig_nbformat": 4
 },
 "nbformat": 4,
 "nbformat_minor": 2
}
