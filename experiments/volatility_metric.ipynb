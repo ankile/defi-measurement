{
 "cells": [
  {
   "cell_type": "code",
   "execution_count": 1,
   "metadata": {},
   "outputs": [],
   "source": [
    "%load_ext autoreload\n",
    "%autoreload 2"
   ]
  },
  {
   "cell_type": "code",
   "execution_count": 2,
   "metadata": {},
   "outputs": [],
   "source": [
    "import sys\n",
    "\n",
    "current_path = sys.path[0]\n",
    "sys.path.append(current_path[:current_path.find('defi-measurement')] + \"liquidity-distribution-history\")"
   ]
  },
  {
   "cell_type": "code",
   "execution_count": 14,
   "metadata": {},
   "outputs": [
    {
     "data": {
      "text/plain": [
       "True"
      ]
     },
     "execution_count": 14,
     "metadata": {},
     "output_type": "execute_result"
    }
   ],
   "source": [
    "import os\n",
    "from pool_state import v3Pool\n",
    "import numpy as np\n",
    "import matplotlib.pyplot as plt\n",
    "\n",
    "import json\n",
    "\n",
    "import pandas as pd\n",
    "from prisma import Prisma\n",
    "\n",
    "\n",
    "from dotenv import load_dotenv\n",
    "\n",
    "\n",
    "load_dotenv(override=True)"
   ]
  },
  {
   "cell_type": "code",
   "execution_count": 4,
   "metadata": {},
   "outputs": [],
   "source": [
    "postgres_uri = os.getenv(\"POSTGRES_URI\")\n",
    "\n",
    "assert postgres_uri is not None, \"Connection string to Postgres is not set\""
   ]
  },
  {
   "cell_type": "code",
   "execution_count": 73,
   "metadata": {},
   "outputs": [],
   "source": [
    "pool_symbols = json.load(open(\"../addresses/pool_tokens.json\", \"r\"))\n",
    "\n",
    "# Take out the 10 first pools of the dictionary\n",
    "# pool_symbols = {k: pool_symbols[k] for k in list(pool_symbols)[:10]}"
   ]
  },
  {
   "cell_type": "code",
   "execution_count": 74,
   "metadata": {},
   "outputs": [
    {
     "name": "stdout",
     "output_type": "stream",
     "text": [
      "341,772\n"
     ]
    }
   ],
   "source": [
    "client = Prisma()\n",
    "await client.connect()\n",
    "\n",
    "print(f\"{await client.swap.count():,}\")"
   ]
  },
  {
   "cell_type": "code",
   "execution_count": 75,
   "metadata": {},
   "outputs": [
    {
     "name": "stdout",
     "output_type": "stream",
     "text": [
      "56,838 blocks from 2023-06-16 22:24:23+00:00 to 2023-06-25 04:11:59+00:00\n"
     ]
    }
   ],
   "source": [
    "swaps_v3 = await client.swap.find_many()\n",
    "swap_df = pd.DataFrame([swap.dict() for swap in swaps_v3])\n",
    "\n",
    "# Filter out certain swaps if needed\n",
    "swap_df.address = swap_df.address.str.lower()\n",
    "\n",
    "swap_df.amount0 = swap_df.amount0.astype(float)\n",
    "swap_df.amount1 = swap_df.amount1.astype(float)\n",
    "\n",
    "print(f\"{swap_df.block_number.nunique():,} blocks from {swap_df.block_timestamp.min()} to {swap_df.block_timestamp.max()}\")"
   ]
  },
  {
   "cell_type": "code",
   "execution_count": 84,
   "metadata": {},
   "outputs": [
    {
     "name": "stdout",
     "output_type": "stream",
     "text": [
      "1,190 blocks from 2023-06-16 22:28:11+00:00 to 2023-06-25 04:00:11+00:00\n"
     ]
    }
   ],
   "source": [
    "\n",
    "filtered_df = swap_df[swap_df.address == \"0x5777d92f208679db4b9778590fa3cab3ac9e2168\"]\n",
    "\n",
    "print(f\"{filtered_df.block_number.nunique():,} blocks from {filtered_df.block_timestamp.min()} to {filtered_df.block_timestamp.max()}\")"
   ]
  },
  {
   "cell_type": "code",
   "execution_count": 85,
   "metadata": {},
   "outputs": [
    {
     "data": {
      "text/plain": [
       "block_number  address                                   \n",
       "17542788      0x5777d92f208679db4b9778590fa3cab3ac9e2168    3\n",
       "17551511      0x5777d92f208679db4b9778590fa3cab3ac9e2168    3\n",
       "17535895      0x5777d92f208679db4b9778590fa3cab3ac9e2168    2\n",
       "17524809      0x5777d92f208679db4b9778590fa3cab3ac9e2168    2\n",
       "17526565      0x5777d92f208679db4b9778590fa3cab3ac9e2168    2\n",
       "Name: transaction_hash, dtype: int64"
      ]
     },
     "execution_count": 85,
     "metadata": {},
     "output_type": "execute_result"
    }
   ],
   "source": [
    "swapcounts = filtered_df.groupby(['block_number', 'address']).count().transaction_hash.sort_values(ascending=False)\n",
    "\n",
    "swapcounts.head()"
   ]
  },
  {
   "cell_type": "code",
   "execution_count": 77,
   "metadata": {},
   "outputs": [
    {
     "name": "stdout",
     "output_type": "stream",
     "text": [
      "More than 3 swaps: 4,623 / 281,369 (1.64%)\n",
      "More than 4 swaps: 2,130 / 281,369 (0.76%)\n"
     ]
    }
   ],
   "source": [
    "print(f'More than 3 swaps: {(swapcounts > 3).sum():,} / {swapcounts.shape[0]:,} ({(swapcounts > 3).sum() / swapcounts.shape[0]:.2%})')\n",
    "print(f'More than 4 swaps: {(swapcounts > 4).sum():,} / {swapcounts.shape[0]:,} ({(swapcounts > 4).sum() / swapcounts.shape[0]:.2%})')"
   ]
  },
  {
   "cell_type": "code",
   "execution_count": 86,
   "metadata": {},
   "outputs": [],
   "source": [
    "# pool_address = \"0x5777d92f208679db4b9778590fa3cab3ac9e2168\"\n",
    "# block_number = 17_500_000\n",
    "\n",
    "# Start with block and pool with the most swaps\n",
    "block_number = int(swapcounts.index.get_level_values(0).values[0])\n",
    "pool_address = str(swapcounts.index.get_level_values(1)[0])\n"
   ]
  },
  {
   "cell_type": "code",
   "execution_count": 87,
   "metadata": {},
   "outputs": [
    {
     "name": "stdout",
     "output_type": "stream",
     "text": [
      "3 swaps in block 17,542,788 for pool DAI-USDC\n"
     ]
    },
    {
     "data": {
      "text/html": [
       "<div>\n",
       "<style scoped>\n",
       "    .dataframe tbody tr th:only-of-type {\n",
       "        vertical-align: middle;\n",
       "    }\n",
       "\n",
       "    .dataframe tbody tr th {\n",
       "        vertical-align: top;\n",
       "    }\n",
       "\n",
       "    .dataframe thead th {\n",
       "        text-align: right;\n",
       "    }\n",
       "</style>\n",
       "<table border=\"1\" class=\"dataframe\">\n",
       "  <thead>\n",
       "    <tr style=\"text-align: right;\">\n",
       "      <th></th>\n",
       "      <th>transaction_hash</th>\n",
       "      <th>block_timestamp</th>\n",
       "      <th>block_number</th>\n",
       "      <th>transaction_index</th>\n",
       "      <th>log_index</th>\n",
       "      <th>sender</th>\n",
       "      <th>recipient</th>\n",
       "      <th>amount0</th>\n",
       "      <th>amount1</th>\n",
       "      <th>sqrtPriceX96</th>\n",
       "      <th>liquidity</th>\n",
       "      <th>tick</th>\n",
       "      <th>address</th>\n",
       "      <th>from_address</th>\n",
       "      <th>to_address</th>\n",
       "      <th>from_mempool</th>\n",
       "    </tr>\n",
       "  </thead>\n",
       "  <tbody>\n",
       "    <tr>\n",
       "      <th>45830</th>\n",
       "      <td>0xf1d01d7db0dddefee82a52673953f50e9546237e4fb9...</td>\n",
       "      <td>2023-06-23 14:13:23+00:00</td>\n",
       "      <td>17542788</td>\n",
       "      <td>0</td>\n",
       "      <td>3</td>\n",
       "      <td>0xDef1C0ded9bec7F1a1670819833240f027b25EfF</td>\n",
       "      <td>0x1231DEB6f5749EF6cE6943a275A1D3E7486F4EaE</td>\n",
       "      <td>-2.468736e+22</td>\n",
       "      <td>2.468897e+10</td>\n",
       "      <td>79226782781262163655244</td>\n",
       "      <td>534054320675063789444239</td>\n",
       "      <td>-276325</td>\n",
       "      <td>0x5777d92f208679db4b9778590fa3cab3ac9e2168</td>\n",
       "      <td>0xDef1C0ded9bec7F1a1670819833240f027b25EfF</td>\n",
       "      <td>0x1231DEB6f5749EF6cE6943a275A1D3E7486F4EaE</td>\n",
       "      <td>False</td>\n",
       "    </tr>\n",
       "    <tr>\n",
       "      <th>45831</th>\n",
       "      <td>0x62d0d9b120c260ebd44bd674307c9b94817675766d1f...</td>\n",
       "      <td>2023-06-23 14:13:23+00:00</td>\n",
       "      <td>17542788</td>\n",
       "      <td>1</td>\n",
       "      <td>22</td>\n",
       "      <td>0x2d2A7d56773ae7d5c7b9f1B57f7Be05039447B4D</td>\n",
       "      <td>0x2d2A7d56773ae7d5c7b9f1B57f7Be05039447B4D</td>\n",
       "      <td>1.316008e+21</td>\n",
       "      <td>-1.315831e+09</td>\n",
       "      <td>79226782586055734981739</td>\n",
       "      <td>534054320675063789444239</td>\n",
       "      <td>-276325</td>\n",
       "      <td>0x5777d92f208679db4b9778590fa3cab3ac9e2168</td>\n",
       "      <td>0x2d2A7d56773ae7d5c7b9f1B57f7Be05039447B4D</td>\n",
       "      <td>0x2d2A7d56773ae7d5c7b9f1B57f7Be05039447B4D</td>\n",
       "      <td>False</td>\n",
       "    </tr>\n",
       "    <tr>\n",
       "      <th>45840</th>\n",
       "      <td>0x0017747a1676630718b77fdc9981911da77714692639...</td>\n",
       "      <td>2023-06-23 14:13:23+00:00</td>\n",
       "      <td>17542788</td>\n",
       "      <td>38</td>\n",
       "      <td>178</td>\n",
       "      <td>0x3fC91A3afd70395Cd496C647d5a6CC9D4B2b7FAD</td>\n",
       "      <td>0xBfEbCaf188D023964F2B66Fc1d2394E43776A1F6</td>\n",
       "      <td>-1.866270e+23</td>\n",
       "      <td>1.866392e+11</td>\n",
       "      <td>79226810271637180086716</td>\n",
       "      <td>534054320675063789444239</td>\n",
       "      <td>-276325</td>\n",
       "      <td>0x5777d92f208679db4b9778590fa3cab3ac9e2168</td>\n",
       "      <td>0x3fC91A3afd70395Cd496C647d5a6CC9D4B2b7FAD</td>\n",
       "      <td>0xBfEbCaf188D023964F2B66Fc1d2394E43776A1F6</td>\n",
       "      <td>True</td>\n",
       "    </tr>\n",
       "  </tbody>\n",
       "</table>\n",
       "</div>"
      ],
      "text/plain": [
       "                                        transaction_hash  \\\n",
       "45830  0xf1d01d7db0dddefee82a52673953f50e9546237e4fb9...   \n",
       "45831  0x62d0d9b120c260ebd44bd674307c9b94817675766d1f...   \n",
       "45840  0x0017747a1676630718b77fdc9981911da77714692639...   \n",
       "\n",
       "                block_timestamp  block_number  transaction_index  log_index  \\\n",
       "45830 2023-06-23 14:13:23+00:00      17542788                  0          3   \n",
       "45831 2023-06-23 14:13:23+00:00      17542788                  1         22   \n",
       "45840 2023-06-23 14:13:23+00:00      17542788                 38        178   \n",
       "\n",
       "                                           sender  \\\n",
       "45830  0xDef1C0ded9bec7F1a1670819833240f027b25EfF   \n",
       "45831  0x2d2A7d56773ae7d5c7b9f1B57f7Be05039447B4D   \n",
       "45840  0x3fC91A3afd70395Cd496C647d5a6CC9D4B2b7FAD   \n",
       "\n",
       "                                        recipient       amount0       amount1  \\\n",
       "45830  0x1231DEB6f5749EF6cE6943a275A1D3E7486F4EaE -2.468736e+22  2.468897e+10   \n",
       "45831  0x2d2A7d56773ae7d5c7b9f1B57f7Be05039447B4D  1.316008e+21 -1.315831e+09   \n",
       "45840  0xBfEbCaf188D023964F2B66Fc1d2394E43776A1F6 -1.866270e+23  1.866392e+11   \n",
       "\n",
       "                  sqrtPriceX96                 liquidity     tick  \\\n",
       "45830  79226782781262163655244  534054320675063789444239  -276325   \n",
       "45831  79226782586055734981739  534054320675063789444239  -276325   \n",
       "45840  79226810271637180086716  534054320675063789444239  -276325   \n",
       "\n",
       "                                          address  \\\n",
       "45830  0x5777d92f208679db4b9778590fa3cab3ac9e2168   \n",
       "45831  0x5777d92f208679db4b9778590fa3cab3ac9e2168   \n",
       "45840  0x5777d92f208679db4b9778590fa3cab3ac9e2168   \n",
       "\n",
       "                                     from_address  \\\n",
       "45830  0xDef1C0ded9bec7F1a1670819833240f027b25EfF   \n",
       "45831  0x2d2A7d56773ae7d5c7b9f1B57f7Be05039447B4D   \n",
       "45840  0x3fC91A3afd70395Cd496C647d5a6CC9D4B2b7FAD   \n",
       "\n",
       "                                       to_address  from_mempool  \n",
       "45830  0x1231DEB6f5749EF6cE6943a275A1D3E7486F4EaE         False  \n",
       "45831  0x2d2A7d56773ae7d5c7b9f1B57f7Be05039447B4D         False  \n",
       "45840  0xBfEbCaf188D023964F2B66Fc1d2394E43776A1F6          True  "
      ]
     },
     "execution_count": 87,
     "metadata": {},
     "output_type": "execute_result"
    }
   ],
   "source": [
    "\n",
    "pool_info = pool_symbols[pool_address]\n",
    "swap_block = filtered_df[(filtered_df.block_number == block_number) & (filtered_df.address == pool_address)]\n",
    "\n",
    "print(f'{swap_block.shape[0]:,} swaps in block {block_number:,} for pool {pool_info[\"name\"]}')\n",
    "\n",
    "tokens = [pool_info['token0'], pool_info['token1']]\n",
    "\n",
    "swap_block.head()"
   ]
  },
  {
   "cell_type": "markdown",
   "metadata": {},
   "source": [
    "### 1. Historical Liquidity Distribution / Market Depth\n",
    "* Useful when investors want to manually investigate liquidity distribution in history\n",
    "* Current implementation: \n",
    "    - Input: as_of (can be intra-block)\n",
    "    - Output: liquidity at each tick\n",
    "* Quick iteration:\n",
    "    - Input: time_range, frequency\n",
    "    - Output: dataframe of liquidity distribution at each point in time + gif displaying liquidity dynamics\n"
   ]
  },
  {
   "cell_type": "code",
   "execution_count": 88,
   "metadata": {},
   "outputs": [
    {
     "name": "stdout",
     "output_type": "stream",
     "text": [
      "\n",
      "pool_add              = \"0x5777d92f208679db4b9778590fa3cab3ac9e2168\"  # DAI-USDC\n",
      "block_number          = 17_542_788\n",
      "\n"
     ]
    }
   ],
   "source": [
    "print(f\"\"\"\n",
    "pool_add              = \"{pool_address}\"  # {pool_symbols[pool_address]['name']}\n",
    "block_number          = {block_number:_}\n",
    "\"\"\")"
   ]
  },
  {
   "cell_type": "code",
   "execution_count": 89,
   "metadata": {},
   "outputs": [
    {
     "name": "stdout",
     "output_type": "stream",
     "text": [
      "Establishing schema\n",
      "Updating factory\n",
      "Updating from V3Factory_PoolCreated for 0x5777d92f208679db4b9778590fa3cab3ac9e2168\n",
      "Nothing to update for factory above block 17495411\n",
      "Updating block_info\n",
      "Updating from ethereum_block_heuristics for 0x5777d92f208679db4b9778590fa3cab3ac9e2168\n",
      "Nothing to update for block_info above block 17571702\n",
      "Updating initialize\n",
      "Updating from ethereum_uniswap_v3_pool_evt_initialize for 0x5777d92f208679db4b9778590fa3cab3ac9e2168\n",
      "Nothing to update for initialize above block 17495411\n",
      "Filling mb\n",
      "Selecting from MintBurnV3-labeled\n",
      "Selecting as-of 17575597 block\n",
      "Inserting mintburn into database\n",
      "Inserting chunk number 0 of size 500000.0\n",
      "Updating collects\n",
      "Updating from collect_all for 0x5777d92f208679db4b9778590fa3cab3ac9e2168\n",
      "Nothing to update for collects above block 17533607\n",
      "Filling swaps\n",
      "Selecting from swap\n",
      "Inserting swaps into database\n",
      "Inserting chunk number 0 of size 500000.0\n"
     ]
    },
    {
     "name": "stderr",
     "output_type": "stream",
     "text": [
      "/Users/larsankile/Code/liquidity-distribution-history/pool_state.py:496: UserWarning: pandas only supports SQLAlchemy connectable (engine/connection) or database string URI or sqlite3 DBAPI2 connection. Other DBAPI2 objects are not tested. Please consider using SQLAlchemy.\n",
      "  swaps = pd.read_sql(q, self.conn)\n",
      "/Users/larsankile/Code/liquidity-distribution-history/pool_state.py:512: UserWarning: pandas only supports SQLAlchemy connectable (engine/connection) or database string URI or sqlite3 DBAPI2 connection. Other DBAPI2 objects are not tested. Please consider using SQLAlchemy.\n",
      "  mb = pd.read_sql(q, self.conn)\n",
      "/Users/larsankile/Code/liquidity-distribution-history/pool_state.py:544: UserWarning: pandas only supports SQLAlchemy connectable (engine/connection) or database string URI or sqlite3 DBAPI2 connection. Other DBAPI2 objects are not tested. Please consider using SQLAlchemy.\n",
      "  block_info = pd.read_sql(q, self.conn)\n",
      "/Users/larsankile/Code/liquidity-distribution-history/pool_state.py:145: UserWarning: pandas only supports SQLAlchemy connectable (engine/connection) or database string URI or sqlite3 DBAPI2 connection. Other DBAPI2 objects are not tested. Please consider using SQLAlchemy.\n",
      "  factory = pd.read_sql(\n"
     ]
    },
    {
     "name": "stdout",
     "output_type": "stream",
     "text": [
      "Initializing liquidity\n",
      "CPU times: user 34.2 s, sys: 35.7 s, total: 1min 9s\n",
      "Wall time: 7min 17s\n"
     ]
    }
   ],
   "source": [
    "%%time\n",
    "########### INPUT BLOCK ###############\n",
    "transaction_index     = 0\n",
    "#######################################\n",
    "\n",
    "as_of = block_number + transaction_index / 1e4\n",
    "# pool = v3Pool(pool_address, initialize=False, database_url=postgres_uri)\n",
    "pool = v3Pool(\n",
    "    pool_address,\n",
    "    connStr=postgres_uri,\n",
    "    initialize=True,\n",
    "    load_data=True,\n",
    "    update=True,\n",
    ")\n",
    "\n",
    "x, y = pool.createLiq(as_of)\n",
    "x, y = np.array(x), np.array(y)\n",
    "price = pool.getPriceAt(as_of)"
   ]
  },
  {
   "cell_type": "code",
   "execution_count": 98,
   "metadata": {},
   "outputs": [
    {
     "name": "stdout",
     "output_type": "stream",
     "text": [
      "Price range: 0.9990 - 1.0010\n"
     ]
    },
    {
     "data": {
      "text/plain": [
       "Text(0.5, 1.0, 'Liquidity Distribution as of block number 17542788.0')"
      ]
     },
     "execution_count": 98,
     "metadata": {},
     "output_type": "execute_result"
    },
    {
     "data": {
      "image/png": "[encoded data removed]",
      "text/plain": [
       "<Figure size 640x480 with 1 Axes>"
      ]
     },
     "metadata": {},
     "output_type": "display_data"
    }
   ],
   "source": [
    "\n",
    "liq_df = pd.DataFrame(x, columns=[\"ticks\"])\n",
    "liq_df[\"liquidity\"] = y\n",
    "liq_df['px'] = 1 / (1.0001 ** liq_df['ticks'])\n",
    "\n",
    "display_price_lower   = 0.999\n",
    "display_price_upper   = 1.001\n",
    "\n",
    "# Find upper and lower price bounds\n",
    "\n",
    "liq_df = liq_df.set_index(\"px\").sort_index()\n",
    "# liq_df = liq_df.assign(cum_liq=liq_df.liquidity.cumsum())\n",
    "\n",
    "# total_liq = liq_df.liquidity.sum()\n",
    "\n",
    "# liq_df = liq_df.assign(cum_liq_pct=liq_df.cum_liq / total_liq)\n",
    "\n",
    "# liq_95 = liq_df[(liq_df.cum_liq_pct > 0.025) & (liq_df.cum_liq_pct < 0.975)]\n",
    "\n",
    "# display_price_lower = liq_95.index.min()\n",
    "# display_price_upper = liq_95.index.max()\n",
    "\n",
    "print(f\"Price range: {display_price_lower:.4f} - {display_price_upper:.4f}\")\n",
    "\n",
    "plot_df = liq_df[(liq_df.index < display_price_upper) & (liq_df.index > display_price_lower)]\n",
    "# plot_df = liq_df  # .set_index(\"px\")\n",
    "\n",
    "fig, ax = plt.subplots()\n",
    "\n",
    "ax.plot(plot_df['liquidity'], label=\"Liquidity at tick\", color='mediumpurple')\n",
    "# ax.axvline(price, color = 'black', linestyle = \"--\")\n",
    "ax.legend()\n",
    "ax.set_ylabel(\"Liquidity (in billions)\")\n",
    "ax.set_xlabel(f\"Price ({pool_symbols[pool_address]['name']})\")\n",
    "ax.set_title('Liquidity Distribution as of block number {}'.format(as_of))"
   ]
  },
  {
   "cell_type": "code",
   "execution_count": 44,
   "metadata": {},
   "outputs": [
    {
     "ename": "KeyError",
     "evalue": "\"None of ['px'] are in the columns\"",
     "output_type": "error",
     "traceback": [
      "\u001b[0;31m---------------------------------------------------------------------------\u001b[0m",
      "\u001b[0;31mKeyError\u001b[0m                                  Traceback (most recent call last)",
      "\u001b[0;32m/var/folders/6d/wrp7yt79313dtt7_k8qv7jt80000gn/T/ipykernel_10723/3710799316.py\u001b[0m in \u001b[0;36m?\u001b[0;34m()\u001b[0m\n\u001b[0;32m----> 1\u001b[0;31m \u001b[0mliq_df\u001b[0m \u001b[0;34m=\u001b[0m \u001b[0mliq_df\u001b[0m\u001b[0;34m.\u001b[0m\u001b[0mset_index\u001b[0m\u001b[0;34m(\u001b[0m\u001b[0;34m\"px\"\u001b[0m\u001b[0;34m)\u001b[0m\u001b[0;34m.\u001b[0m\u001b[0msort_index\u001b[0m\u001b[0;34m(\u001b[0m\u001b[0;34m)\u001b[0m\u001b[0;34m\u001b[0m\u001b[0;34m\u001b[0m\u001b[0m\n\u001b[0m",
      "\u001b[0;32m~/Code/defi-measurement/venv/lib/python3.11/site-packages/pandas/core/frame.py\u001b[0m in \u001b[0;36m?\u001b[0;34m(self, keys, drop, append, inplace, verify_integrity)\u001b[0m\n\u001b[1;32m   5855\u001b[0m                     \u001b[0;32mif\u001b[0m \u001b[0;32mnot\u001b[0m \u001b[0mfound\u001b[0m\u001b[0;34m:\u001b[0m\u001b[0;34m\u001b[0m\u001b[0;34m\u001b[0m\u001b[0m\n\u001b[1;32m   5856\u001b[0m                         \u001b[0mmissing\u001b[0m\u001b[0;34m.\u001b[0m\u001b[0mappend\u001b[0m\u001b[0;34m(\u001b[0m\u001b[0mcol\u001b[0m\u001b[0;34m)\u001b[0m\u001b[0;34m\u001b[0m\u001b[0;34m\u001b[0m\u001b[0m\n\u001b[1;32m   5857\u001b[0m \u001b[0;34m\u001b[0m\u001b[0m\n\u001b[1;32m   5858\u001b[0m         \u001b[0;32mif\u001b[0m \u001b[0mmissing\u001b[0m\u001b[0;34m:\u001b[0m\u001b[0;34m\u001b[0m\u001b[0;34m\u001b[0m\u001b[0m\n\u001b[0;32m-> 5859\u001b[0;31m             \u001b[0;32mraise\u001b[0m \u001b[0mKeyError\u001b[0m\u001b[0;34m(\u001b[0m\u001b[0;34mf\"None of {missing} are in the columns\"\u001b[0m\u001b[0;34m)\u001b[0m\u001b[0;34m\u001b[0m\u001b[0;34m\u001b[0m\u001b[0m\n\u001b[0m\u001b[1;32m   5860\u001b[0m \u001b[0;34m\u001b[0m\u001b[0m\n\u001b[1;32m   5861\u001b[0m         \u001b[0;32mif\u001b[0m \u001b[0minplace\u001b[0m\u001b[0;34m:\u001b[0m\u001b[0;34m\u001b[0m\u001b[0;34m\u001b[0m\u001b[0m\n\u001b[1;32m   5862\u001b[0m             \u001b[0mframe\u001b[0m \u001b[0;34m=\u001b[0m \u001b[0mself\u001b[0m\u001b[0;34m\u001b[0m\u001b[0;34m\u001b[0m\u001b[0m\n",
      "\u001b[0;31mKeyError\u001b[0m: \"None of ['px'] are in the columns\""
     ]
    }
   ],
   "source": []
  },
  {
   "cell_type": "code",
   "execution_count": null,
   "metadata": {},
   "outputs": [],
   "source": [
    "\n",
    "# get min and max tick\n",
    "%%time\n",
    "########### INPUT BLOCK ###############\n",
    "\n",
    "\n",
    "swapParams            = {'tokenIn': '0xc02aaa39b223fe8d0a0e5c4f27ead9083c756cc2',\n",
    "                         'input': 1.26241e+21,\n",
    "                         'gasFee': True,\n",
    "                         'as_of': block_number + transaction_index / 1e4}\n",
    "    \n",
    "swaps_params = []\n",
    "\n",
    "for i, (amount0, amount1) in swap_block[['amount0', 'amount1']].iterrows():\n",
    "    if amount0 > 0:\n",
    "        amount_in = amount0\n",
    "        token_in = tokens[0]\n",
    "    else:\n",
    "        amount_in = amount1\n",
    "        token_in = tokens[1]\n",
    "\n",
    "    swaps_params.append({'tokenIn': token_in, 'input': amount_in, 'gasFee': True})\n",
    "\n",
    "\n",
    "#######################################\n",
    "\n",
    "pool = v3Pool(\n",
    "    pool_address=pool_address,\n",
    "    database_url=postgres_uri,\n",
    "    initialize=False,\n",
    ")\n",
    "\n",
    "block_results = []\n",
    "\n",
    "sqrt_P = pool.getPriceAt(block_number)\n",
    "\n",
    "for i, swap_param in enumerate(swaps_params):\n",
    "    output, heur = pool.swapIn({**swap_param, 'as_of': block_number + i / 1e4, 'givenPrice': sqrt_P})\n",
    "\n",
    "    summ = {\n",
    "        'total_output': output,\n",
    "        'totalFee': heur[0],\n",
    "        'crossed_ticks': heur[1], \n",
    "        'liquidity_in_range': heur[2], \n",
    "        'sqrt_P': heur[3], \n",
    "        'sqrtP_next': heur[4], \n",
    "        'inRangeTest': heur[5], \n",
    "        'swapInMinusFee': heur[6], \n",
    "        'zeroForOne': heur[7], \n",
    "        'gas_fee': heur[8]\n",
    "    }\n",
    "\n",
    "    sqrt_P = heur[3]\n",
    "\n",
    "    block_results.append({\n",
    "        'output': output,\n",
    "        **summ,\n",
    "    })\n",
    "\n",
    "print('tx details summary: ')\n",
    "print(pd.Series(summ).to_string())"
   ]
  },
  {
   "cell_type": "markdown",
   "metadata": {},
   "source": [
    "## Test the baseline case with Liquidity for USD/ETH 0.3%"
   ]
  },
  {
   "cell_type": "code",
   "execution_count": 111,
   "metadata": {},
   "outputs": [],
   "source": [
    "def plot_liquidity(pool_add, block_number, transaction_index, display_price_lower, display_price_upper, initialize=False):\n",
    "    as_of = block_number + transaction_index / 1e4\n",
    "    pool = v3Pool(pool_add, initialize=initialize, connStr=postgres_uri)\n",
    "    x, y = pool.createLiq(as_of)\n",
    "    x, y = np.array(x), np.array(y)\n",
    "    px = pool.getPriceAt(as_of)\n",
    "    liq_df = pd.DataFrame(x, columns=[\"ticks\"])\n",
    "    liq_df[\"liquidity\"] = y\n",
    "    liq_df['px'] = 1 / (1.0001 ** liq_df['ticks']) * 1e12  # \\sqrt{P} \\cdot x = L ???\n",
    "\n",
    "    plot_df = liq_df[(liq_df['px'] < display_price_upper) & (liq_df['px'] > display_price_lower)].set_index(\"px\")\n",
    "\n",
    "    fig, ax = plt.subplots()\n",
    "\n",
    "    ax.plot(plot_df['liquidity'], label = \"Liquidity at tick\", color = 'mediumpurple')\n",
    "    ax.axvline((1 / px ** 2) * 1e12, color = 'black', linestyle = \"--\")\n",
    "    ax.legend()\n",
    "    ax.set_ylabel(\"Liquidity (in billions)\")\n",
    "    ax.set_xlabel(\"Price (USDC/ETH)\")\n",
    "    ax.set_title(f'Liquidity Distribution as of block number {int(as_of)}')\n",
    "\n",
    "    # Make the x-axis be logarithmic\n",
    "    ax.set_xscale('log')"
   ]
  },
  {
   "cell_type": "code",
   "execution_count": 102,
   "metadata": {},
   "outputs": [
    {
     "name": "stderr",
     "output_type": "stream",
     "text": [
      "/Users/larsankile/Code/liquidity-distribution-history/pool_state.py:477: UserWarning: pandas only supports SQLAlchemy connectable (engine/connection) or database string URI or sqlite3 DBAPI2 connection. Other DBAPI2 objects are not tested. Please consider using SQLAlchemy.\n",
      "  swaps = pd.read_sql(q, self.conn)\n",
      "/Users/larsankile/Code/liquidity-distribution-history/pool_state.py:493: UserWarning: pandas only supports SQLAlchemy connectable (engine/connection) or database string URI or sqlite3 DBAPI2 connection. Other DBAPI2 objects are not tested. Please consider using SQLAlchemy.\n",
      "  mb = pd.read_sql(q, self.conn)\n",
      "/Users/larsankile/Code/liquidity-distribution-history/pool_state.py:524: UserWarning: pandas only supports SQLAlchemy connectable (engine/connection) or database string URI or sqlite3 DBAPI2 connection. Other DBAPI2 objects are not tested. Please consider using SQLAlchemy.\n",
      "  block_info = pd.read_sql(q, self.conn)\n",
      "/Users/larsankile/Code/liquidity-distribution-history/pool_state.py:145: UserWarning: pandas only supports SQLAlchemy connectable (engine/connection) or database string URI or sqlite3 DBAPI2 connection. Other DBAPI2 objects are not tested. Please consider using SQLAlchemy.\n",
      "  factory = pd.read_sql(\n"
     ]
    },
    {
     "name": "stdout",
     "output_type": "stream",
     "text": [
      "Initializing liquidity\n",
      "CPU times: user 25.7 s, sys: 24 s, total: 49.7 s\n",
      "Wall time: 2min 51s\n"
     ]
    },
    {
     "data": {
      "image/png": "[encoded data removed]",
      "text/plain": [
       "<Figure size 640x480 with 1 Axes>"
      ]
     },
     "metadata": {},
     "output_type": "display_data"
    }
   ],
   "source": [
    "%%time\n",
    "########### INPUT BLOCK ###############\n",
    "\n",
    "pool_add              = '0x8ad599c3a0ff1de082011efddc58f1908eb6e6d8'\n",
    "block_number          = 14814941\n",
    "transaction_index     = 0\n",
    "display_price_lower   = 1000\n",
    "display_price_upper   = 7000\n",
    "\n",
    "#######################################\n",
    "\n",
    "plot_liquidity(pool_add, block_number, transaction_index, display_price_lower, display_price_upper)\n"
   ]
  },
  {
   "cell_type": "code",
   "execution_count": null,
   "metadata": {},
   "outputs": [],
   "source": []
  }
 ],
 "metadata": {
  "kernelspec": {
   "display_name": "venv",
   "language": "python",
   "name": "python3"
  },
  "language_info": {
   "codemirror_mode": {
    "name": "ipython",
    "version": 3
   },
   "file_extension": ".py",
   "mimetype": "text/x-python",
   "name": "python",
   "nbconvert_exporter": "python",
   "pygments_lexer": "ipython3",
   "version": "3.11.3"
  },
  "orig_nbformat": 4
 },
 "nbformat": 4,
 "nbformat_minor": 2
}
