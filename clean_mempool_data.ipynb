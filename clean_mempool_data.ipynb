{
 "cells": [
  {
   "cell_type": "code",
   "execution_count": 1,
   "metadata": {},
   "outputs": [],
   "source": [
    "from web3 import Web3\n",
    "from tqdm import tqdm, trange\n",
    "import pandas as pd\n",
    "\n",
    "from datetime import datetime\n",
    "\n",
    "import matplotlib.pyplot as plt\n",
    "\n",
    "# Import python dotenv\n",
    "from dotenv import load_dotenv\n",
    "\n",
    "import os\n",
    "\n",
    "# Import mongodb client\n",
    "from pymongo import MongoClient, UpdateOne, DESCENDING, ASCENDING, InsertOne, DeleteOne"
   ]
  },
  {
   "cell_type": "code",
   "execution_count": null,
   "metadata": {},
   "outputs": [],
   "source": [
    "\n",
    "load_dotenv()\n",
    "# Connect to local node\n",
    "w3 = Web3(Web3.HTTPProvider('http://localhost:8545'))\n",
    "\n",
    "\n",
    "# Connect to mongodb\n",
    "client = MongoClient(os.getenv(\"MONGODB_CONNECTION_STRING\"))\n",
    "\n",
    "# Get database\n",
    "mempool = client.transactions.mempool\n",
    "\n",
    "mempool.estimated_document_count()"
   ]
  },
  {
   "cell_type": "code",
   "execution_count": 2,
   "metadata": {},
   "outputs": [
    {
     "name": "stdout",
     "output_type": "stream",
     "text": [
      "The highest value for 'ts' is: 2023-06-22 19:42:37.576000\n"
     ]
    }
   ],
   "source": [
    "# Get the document with the highest value for 'your_field'\n",
    "document = mempool.find_one(sort=[('ts', DESCENDING)])\n",
    "\n",
    "# Extract the highest value\n",
    "max_value = document and document['ts']\n",
    "\n",
    "print(f\"The highest value for 'ts' is: {max_value}\")"
   ]
  },
  {
   "cell_type": "code",
   "execution_count": 3,
   "metadata": {},
   "outputs": [],
   "source": [
    "cols_of_interest = [\n",
    "    \"_id\",\n",
    "    \"ts\",\n",
    "    \"timestamp\",\n",
    "    \"gasPrice\",\n",
    "    \"formattedDate\",    \n",
    "    \"hash\",\n",
    "]"
   ]
  },
  {
   "cell_type": "code",
   "execution_count": 4,
   "metadata": {},
   "outputs": [
    {
     "data": {
      "text/html": [
       "<div>\n",
       "<style scoped>\n",
       "    .dataframe tbody tr th:only-of-type {\n",
       "        vertical-align: middle;\n",
       "    }\n",
       "\n",
       "    .dataframe tbody tr th {\n",
       "        vertical-align: top;\n",
       "    }\n",
       "\n",
       "    .dataframe thead th {\n",
       "        text-align: right;\n",
       "    }\n",
       "</style>\n",
       "<table border=\"1\" class=\"dataframe\">\n",
       "  <thead>\n",
       "    <tr style=\"text-align: right;\">\n",
       "      <th></th>\n",
       "      <th>_id</th>\n",
       "      <th>ts</th>\n",
       "      <th>timestamp</th>\n",
       "      <th>gasPrice</th>\n",
       "      <th>formattedDate</th>\n",
       "      <th>hash</th>\n",
       "    </tr>\n",
       "  </thead>\n",
       "  <tbody>\n",
       "    <tr>\n",
       "      <th>0</th>\n",
       "      <td>0x0b8f5ef16b2e250ede5c051cd1cd1b99933da9a72da8...</td>\n",
       "      <td>2023-06-22 19:42:37.576</td>\n",
       "      <td>1.687463e+12</td>\n",
       "      <td>17.768019</td>\n",
       "      <td>NaN</td>\n",
       "      <td>0x0b8f5ef16b2e250ede5c051cd1cd1b99933da9a72da8...</td>\n",
       "    </tr>\n",
       "    <tr>\n",
       "      <th>1</th>\n",
       "      <td>0x6111fc676e94ee03a598c10d45a6b68384c08eb2ed50...</td>\n",
       "      <td>2023-06-22 19:42:35.773</td>\n",
       "      <td>1.687463e+12</td>\n",
       "      <td>16.651814</td>\n",
       "      <td>NaN</td>\n",
       "      <td>0x6111fc676e94ee03a598c10d45a6b68384c08eb2ed50...</td>\n",
       "    </tr>\n",
       "    <tr>\n",
       "      <th>2</th>\n",
       "      <td>0x01c46ea15c651d26775852440c580a997e03f1baa6f3...</td>\n",
       "      <td>2023-06-22 19:42:35.311</td>\n",
       "      <td>1.687463e+12</td>\n",
       "      <td>16.651814</td>\n",
       "      <td>NaN</td>\n",
       "      <td>0x01c46ea15c651d26775852440c580a997e03f1baa6f3...</td>\n",
       "    </tr>\n",
       "    <tr>\n",
       "      <th>3</th>\n",
       "      <td>0x3c3e8c80a243c618b33e8c76e494eb9869257738dfe3...</td>\n",
       "      <td>2023-06-22 19:42:33.123</td>\n",
       "      <td>1.687463e+12</td>\n",
       "      <td>20.369237</td>\n",
       "      <td>NaN</td>\n",
       "      <td>0x3c3e8c80a243c618b33e8c76e494eb9869257738dfe3...</td>\n",
       "    </tr>\n",
       "    <tr>\n",
       "      <th>4</th>\n",
       "      <td>0xd1fc8a9278a37402a882b651dc0541d5fb1a439ef91f...</td>\n",
       "      <td>2023-06-22 19:42:29.991</td>\n",
       "      <td>1.687463e+12</td>\n",
       "      <td>17.768019</td>\n",
       "      <td>NaN</td>\n",
       "      <td>0xd1fc8a9278a37402a882b651dc0541d5fb1a439ef91f...</td>\n",
       "    </tr>\n",
       "    <tr>\n",
       "      <th>...</th>\n",
       "      <td>...</td>\n",
       "      <td>...</td>\n",
       "      <td>...</td>\n",
       "      <td>...</td>\n",
       "      <td>...</td>\n",
       "      <td>...</td>\n",
       "    </tr>\n",
       "    <tr>\n",
       "      <th>9995</th>\n",
       "      <td>0xbc823c8aca7927010469eb755e7acb2bfd3181352c26...</td>\n",
       "      <td>2023-06-22 17:38:26.614</td>\n",
       "      <td>1.687456e+12</td>\n",
       "      <td>27.832564</td>\n",
       "      <td>NaN</td>\n",
       "      <td>0xbc823c8aca7927010469eb755e7acb2bfd3181352c26...</td>\n",
       "    </tr>\n",
       "    <tr>\n",
       "      <th>9996</th>\n",
       "      <td>0x5361ccb22aecec53718a9b67b68b0503b3e4e7f4ab38...</td>\n",
       "      <td>2023-06-22 17:38:26.523</td>\n",
       "      <td>1.687456e+12</td>\n",
       "      <td>30.000000</td>\n",
       "      <td>NaN</td>\n",
       "      <td>0x5361ccb22aecec53718a9b67b68b0503b3e4e7f4ab38...</td>\n",
       "    </tr>\n",
       "    <tr>\n",
       "      <th>9997</th>\n",
       "      <td>0x6c0ad75b2c9c55d2f1ef07249faa3384b0e014db6c1b...</td>\n",
       "      <td>2023-06-22 17:38:25.945</td>\n",
       "      <td>1.687456e+12</td>\n",
       "      <td>1.000000</td>\n",
       "      <td>2023-06-20T00:48:49.650Z</td>\n",
       "      <td>0x6c0ad75b2c9c55d2f1ef07249faa3384b0e014db6c1b...</td>\n",
       "    </tr>\n",
       "    <tr>\n",
       "      <th>9998</th>\n",
       "      <td>0xa27841ea8033e624ff0b294a0e99fb54a882eda55e80...</td>\n",
       "      <td>2023-06-22 17:38:25.934</td>\n",
       "      <td>1.687456e+12</td>\n",
       "      <td>1.100000</td>\n",
       "      <td>NaN</td>\n",
       "      <td>0xa27841ea8033e624ff0b294a0e99fb54a882eda55e80...</td>\n",
       "    </tr>\n",
       "    <tr>\n",
       "      <th>9999</th>\n",
       "      <td>0xb2706ab0ccd05a029f78a074398112ce98bb8eecd863...</td>\n",
       "      <td>2023-06-22 17:38:25.871</td>\n",
       "      <td>1.687456e+12</td>\n",
       "      <td>1.000000</td>\n",
       "      <td>NaN</td>\n",
       "      <td>0xb2706ab0ccd05a029f78a074398112ce98bb8eecd863...</td>\n",
       "    </tr>\n",
       "  </tbody>\n",
       "</table>\n",
       "<p>10000 rows × 6 columns</p>\n",
       "</div>"
      ],
      "text/plain": [
       "                                                    _id  \\\n",
       "0     0x0b8f5ef16b2e250ede5c051cd1cd1b99933da9a72da8...   \n",
       "1     0x6111fc676e94ee03a598c10d45a6b68384c08eb2ed50...   \n",
       "2     0x01c46ea15c651d26775852440c580a997e03f1baa6f3...   \n",
       "3     0x3c3e8c80a243c618b33e8c76e494eb9869257738dfe3...   \n",
       "4     0xd1fc8a9278a37402a882b651dc0541d5fb1a439ef91f...   \n",
       "...                                                 ...   \n",
       "9995  0xbc823c8aca7927010469eb755e7acb2bfd3181352c26...   \n",
       "9996  0x5361ccb22aecec53718a9b67b68b0503b3e4e7f4ab38...   \n",
       "9997  0x6c0ad75b2c9c55d2f1ef07249faa3384b0e014db6c1b...   \n",
       "9998  0xa27841ea8033e624ff0b294a0e99fb54a882eda55e80...   \n",
       "9999  0xb2706ab0ccd05a029f78a074398112ce98bb8eecd863...   \n",
       "\n",
       "                          ts     timestamp   gasPrice  \\\n",
       "0    2023-06-22 19:42:37.576  1.687463e+12  17.768019   \n",
       "1    2023-06-22 19:42:35.773  1.687463e+12  16.651814   \n",
       "2    2023-06-22 19:42:35.311  1.687463e+12  16.651814   \n",
       "3    2023-06-22 19:42:33.123  1.687463e+12  20.369237   \n",
       "4    2023-06-22 19:42:29.991  1.687463e+12  17.768019   \n",
       "...                      ...           ...        ...   \n",
       "9995 2023-06-22 17:38:26.614  1.687456e+12  27.832564   \n",
       "9996 2023-06-22 17:38:26.523  1.687456e+12  30.000000   \n",
       "9997 2023-06-22 17:38:25.945  1.687456e+12   1.000000   \n",
       "9998 2023-06-22 17:38:25.934  1.687456e+12   1.100000   \n",
       "9999 2023-06-22 17:38:25.871  1.687456e+12   1.000000   \n",
       "\n",
       "                 formattedDate  \\\n",
       "0                          NaN   \n",
       "1                          NaN   \n",
       "2                          NaN   \n",
       "3                          NaN   \n",
       "4                          NaN   \n",
       "...                        ...   \n",
       "9995                       NaN   \n",
       "9996                       NaN   \n",
       "9997  2023-06-20T00:48:49.650Z   \n",
       "9998                       NaN   \n",
       "9999                       NaN   \n",
       "\n",
       "                                                   hash  \n",
       "0     0x0b8f5ef16b2e250ede5c051cd1cd1b99933da9a72da8...  \n",
       "1     0x6111fc676e94ee03a598c10d45a6b68384c08eb2ed50...  \n",
       "2     0x01c46ea15c651d26775852440c580a997e03f1baa6f3...  \n",
       "3     0x3c3e8c80a243c618b33e8c76e494eb9869257738dfe3...  \n",
       "4     0xd1fc8a9278a37402a882b651dc0541d5fb1a439ef91f...  \n",
       "...                                                 ...  \n",
       "9995  0xbc823c8aca7927010469eb755e7acb2bfd3181352c26...  \n",
       "9996  0x5361ccb22aecec53718a9b67b68b0503b3e4e7f4ab38...  \n",
       "9997  0x6c0ad75b2c9c55d2f1ef07249faa3384b0e014db6c1b...  \n",
       "9998  0xa27841ea8033e624ff0b294a0e99fb54a882eda55e80...  \n",
       "9999  0xb2706ab0ccd05a029f78a074398112ce98bb8eecd863...  \n",
       "\n",
       "[10000 rows x 6 columns]"
      ]
     },
     "execution_count": 4,
     "metadata": {},
     "output_type": "execute_result"
    }
   ],
   "source": [
    "# Get transactions from after a certain time\n",
    "cursor = mempool.find(sort=[('ts', DESCENDING)], limit=10_000)\n",
    "\n",
    "df = pd.DataFrame(list(cursor))[cols_of_interest]\n",
    "df"
   ]
  },
  {
   "cell_type": "code",
   "execution_count": 5,
   "metadata": {},
   "outputs": [
    {
     "data": {
      "text/plain": [
       "'0x7956311ae4300cae4c32aafe13de940b3032bbea0c6003e94aaf822bd01451a3'"
      ]
     },
     "execution_count": 5,
     "metadata": {},
     "output_type": "execute_result"
    }
   ],
   "source": [
    "df[~df.formattedDate.isna()].iloc[0]._id"
   ]
  },
  {
   "cell_type": "markdown",
   "metadata": {},
   "source": [
    "## Update documents without `ts` field"
   ]
  },
  {
   "cell_type": "code",
   "execution_count": 6,
   "metadata": {},
   "outputs": [
    {
     "name": "stderr",
     "output_type": "stream",
     "text": [
      "130530it [00:26, 4981.01it/s]\n"
     ]
    }
   ],
   "source": [
    "# find documents where 'fieldName' does not exist\n",
    "results = mempool.find({'ts': {'$exists': False}})\n",
    "\n",
    "# iterate over the sorted results\n",
    "docs = list(tqdm(results))"
   ]
  },
  {
   "cell_type": "code",
   "execution_count": 8,
   "metadata": {},
   "outputs": [
    {
     "data": {
      "text/plain": [
       "{'_id': ObjectId('648ce10f18e0fbc3c3482f75'),\n",
       " 'hash': '0x303936c1821da2e23c08fe2171947028ac394fe6d7eb5338d2643365a867b348',\n",
       " 'type': 2,\n",
       " 'accessList': [],\n",
       " 'blockHash': None,\n",
       " 'blockNumber': None,\n",
       " 'transactionIndex': None,\n",
       " 'confirmations': 0,\n",
       " 'from': '0x4899951FFa90d493c58DC1db8760f15c8Ed2873A',\n",
       " 'gasPrice': 30.998999649,\n",
       " 'maxPriorityFeePerGas': {'_hex': '0xb2d05e00', '_isBigNumber': True},\n",
       " 'maxFeePerGas': {'_hex': '0x0737af3261', '_isBigNumber': True},\n",
       " 'gasLimit': 361022,\n",
       " 'to': '0x7a250d5630B4cF539739dF2C5dAcb4c659F2488D',\n",
       " 'value': {'_hex': '0x7c585087238004', '_isBigNumber': True},\n",
       " 'nonce': 5,\n",
       " 'data': '0xb6f9de95000000000000000000000000000000000000000000000000000000000000000000000000000000000000000000000000000000000000000000000000000000800000000000000000000000004899951ffa90d493c58dc1db8760f15c8ed2873a00000000000000000000000000000000000000000000000000000000648ce1850000000000000000000000000000000000000000000000000000000000000002000000000000000000000000c02aaa39b223fe8d0a0e5c4f27ead9083c756cc20000000000000000000000002fbed9912927c41e805e2070f4725d10a23f65cb',\n",
       " 'r': '0x3ec77096015513173f748789efa07e133cb6e8d5fc33a6c72872fc43b768be7f',\n",
       " 's': '0x72c6022d23e8b61229dbce344da3d96a6d5a4b36c99cf1c0e335866523936580',\n",
       " 'v': 1,\n",
       " 'creates': None,\n",
       " 'chainId': 1,\n",
       " 'uniswapVersion': 'v2',\n",
       " 'timestamp': 1686954255202.0,\n",
       " 'formattedDate': '2023-06-16T22:24:15.202Z',\n",
       " 'gasPriceRaw': {'_hex': '0x0737af3261', '_isBigNumber': True},\n",
       " 'gasLimitRaw': {'_hex': '0x05823e', '_isBigNumber': True}}"
      ]
     },
     "execution_count": 8,
     "metadata": {},
     "output_type": "execute_result"
    }
   ],
   "source": [
    "docs[0]"
   ]
  },
  {
   "cell_type": "markdown",
   "metadata": {},
   "source": [
    "From the above, we can see that we have a `timestamp` field that gives us milliseconds since the Epoch, and a `formattedDate`---both of which are pretty useless. Therefore, I want to convert the `timestamp` into a native MongoDB `Date` object with time for UTC, and then drop `formattedDate`."
   ]
  },
  {
   "cell_type": "code",
   "execution_count": 16,
   "metadata": {},
   "outputs": [
    {
     "name": "stderr",
     "output_type": "stream",
     "text": [
      "100%|██████████| 130530/130530 [00:00<00:00, 865786.20it/s]\n"
     ]
    }
   ],
   "source": [
    "# Iterate over all docs in docs and add the timestamp\n",
    "for doc in tqdm(docs):\n",
    "    timestamp = doc['timestamp']\n",
    "\n",
    "    # Create datetime object from timestamp (milliseconds since epoch)\n",
    "    dt = datetime.fromtimestamp(timestamp / 1000)\n",
    "\n",
    "    # Remove formatted date\n",
    "    del doc['formattedDate']\n",
    "\n",
    "    # Add timestamp\n",
    "    doc['ts'] = dt\n"
   ]
  },
  {
   "cell_type": "code",
   "execution_count": 17,
   "metadata": {},
   "outputs": [
    {
     "data": {
      "text/plain": [
       "{'_id': ObjectId('648ce10f18e0fbc3c3482f75'),\n",
       " 'hash': '0x303936c1821da2e23c08fe2171947028ac394fe6d7eb5338d2643365a867b348',\n",
       " 'type': 2,\n",
       " 'accessList': [],\n",
       " 'blockHash': None,\n",
       " 'blockNumber': None,\n",
       " 'transactionIndex': None,\n",
       " 'confirmations': 0,\n",
       " 'from': '0x4899951FFa90d493c58DC1db8760f15c8Ed2873A',\n",
       " 'gasPrice': 30.998999649,\n",
       " 'maxPriorityFeePerGas': {'_hex': '0xb2d05e00', '_isBigNumber': True},\n",
       " 'maxFeePerGas': {'_hex': '0x0737af3261', '_isBigNumber': True},\n",
       " 'gasLimit': 361022,\n",
       " 'to': '0x7a250d5630B4cF539739dF2C5dAcb4c659F2488D',\n",
       " 'value': {'_hex': '0x7c585087238004', '_isBigNumber': True},\n",
       " 'nonce': 5,\n",
       " 'data': '0xb6f9de95000000000000000000000000000000000000000000000000000000000000000000000000000000000000000000000000000000000000000000000000000000800000000000000000000000004899951ffa90d493c58dc1db8760f15c8ed2873a00000000000000000000000000000000000000000000000000000000648ce1850000000000000000000000000000000000000000000000000000000000000002000000000000000000000000c02aaa39b223fe8d0a0e5c4f27ead9083c756cc20000000000000000000000002fbed9912927c41e805e2070f4725d10a23f65cb',\n",
       " 'r': '0x3ec77096015513173f748789efa07e133cb6e8d5fc33a6c72872fc43b768be7f',\n",
       " 's': '0x72c6022d23e8b61229dbce344da3d96a6d5a4b36c99cf1c0e335866523936580',\n",
       " 'v': 1,\n",
       " 'creates': None,\n",
       " 'chainId': 1,\n",
       " 'uniswapVersion': 'v2',\n",
       " 'timestamp': 1686954255202.0,\n",
       " 'gasPriceRaw': {'_hex': '0x0737af3261', '_isBigNumber': True},\n",
       " 'gasLimitRaw': {'_hex': '0x05823e', '_isBigNumber': True},\n",
       " 'ts': datetime.datetime(2023, 6, 16, 22, 24, 15, 202000)}"
      ]
     },
     "execution_count": 17,
     "metadata": {},
     "output_type": "execute_result"
    }
   ],
   "source": [
    "docs[0]"
   ]
  },
  {
   "cell_type": "markdown",
   "metadata": {},
   "source": [
    "### Update documents without `ts` field"
   ]
  },
  {
   "cell_type": "code",
   "execution_count": 22,
   "metadata": {},
   "outputs": [
    {
     "data": {
      "text/plain": [
       "{'_id': ObjectId('648ce10f18e0fbc3c3482f75'),\n",
       " 'hash': '0x303936c1821da2e23c08fe2171947028ac394fe6d7eb5338d2643365a867b348',\n",
       " 'type': 2,\n",
       " 'accessList': [],\n",
       " 'blockHash': None,\n",
       " 'blockNumber': None,\n",
       " 'transactionIndex': None,\n",
       " 'confirmations': 0,\n",
       " 'from': '0x4899951FFa90d493c58DC1db8760f15c8Ed2873A',\n",
       " 'gasPrice': 30.998999649,\n",
       " 'maxPriorityFeePerGas': {'_hex': '0xb2d05e00', '_isBigNumber': True},\n",
       " 'maxFeePerGas': {'_hex': '0x0737af3261', '_isBigNumber': True},\n",
       " 'gasLimit': 361022,\n",
       " 'to': '0x7a250d5630B4cF539739dF2C5dAcb4c659F2488D',\n",
       " 'value': {'_hex': '0x7c585087238004', '_isBigNumber': True},\n",
       " 'nonce': 5,\n",
       " 'data': '0xb6f9de95000000000000000000000000000000000000000000000000000000000000000000000000000000000000000000000000000000000000000000000000000000800000000000000000000000004899951ffa90d493c58dc1db8760f15c8ed2873a00000000000000000000000000000000000000000000000000000000648ce1850000000000000000000000000000000000000000000000000000000000000002000000000000000000000000c02aaa39b223fe8d0a0e5c4f27ead9083c756cc20000000000000000000000002fbed9912927c41e805e2070f4725d10a23f65cb',\n",
       " 'r': '0x3ec77096015513173f748789efa07e133cb6e8d5fc33a6c72872fc43b768be7f',\n",
       " 's': '0x72c6022d23e8b61229dbce344da3d96a6d5a4b36c99cf1c0e335866523936580',\n",
       " 'v': 1,\n",
       " 'creates': None,\n",
       " 'chainId': 1,\n",
       " 'uniswapVersion': 'v2',\n",
       " 'timestamp': 1686954255202.0,\n",
       " 'formattedDate': '2023-06-16T22:24:15.202Z',\n",
       " 'gasPriceRaw': {'_hex': '0x0737af3261', '_isBigNumber': True},\n",
       " 'gasLimitRaw': {'_hex': '0x05823e', '_isBigNumber': True}}"
      ]
     },
     "execution_count": 22,
     "metadata": {},
     "output_type": "execute_result"
    }
   ],
   "source": [
    "# Before:\n",
    "mempool.find_one({'_id': docs[0]['_id']})"
   ]
  },
  {
   "cell_type": "code",
   "execution_count": 34,
   "metadata": {},
   "outputs": [
    {
     "name": "stderr",
     "output_type": "stream",
     "text": [
      "  3%|▎         | 1/32 [00:02<01:04,  2.09s/it]"
     ]
    },
    {
     "name": "stdout",
     "output_type": "stream",
     "text": [
      "Updated 0 documents\n"
     ]
    },
    {
     "name": "stderr",
     "output_type": "stream",
     "text": [
      "  6%|▋         | 2/32 [00:14<03:57,  7.92s/it]"
     ]
    },
    {
     "name": "stdout",
     "output_type": "stream",
     "text": [
      "Updated 255 documents\n"
     ]
    },
    {
     "name": "stderr",
     "output_type": "stream",
     "text": [
      "  9%|▉         | 3/32 [00:56<11:31, 23.85s/it]"
     ]
    },
    {
     "name": "stdout",
     "output_type": "stream",
     "text": [
      "Updated 1000 documents\n"
     ]
    },
    {
     "name": "stderr",
     "output_type": "stream",
     "text": [
      " 12%|█▎        | 4/32 [01:40<14:43, 31.57s/it]"
     ]
    },
    {
     "name": "stdout",
     "output_type": "stream",
     "text": [
      "Updated 1000 documents\n"
     ]
    },
    {
     "name": "stderr",
     "output_type": "stream",
     "text": [
      " 16%|█▌        | 5/32 [02:21<15:46, 35.04s/it]"
     ]
    },
    {
     "name": "stdout",
     "output_type": "stream",
     "text": [
      "Updated 1000 documents\n"
     ]
    },
    {
     "name": "stderr",
     "output_type": "stream",
     "text": [
      " 19%|█▉        | 6/32 [03:05<16:30, 38.09s/it]"
     ]
    },
    {
     "name": "stdout",
     "output_type": "stream",
     "text": [
      "Updated 1000 documents\n"
     ]
    },
    {
     "name": "stderr",
     "output_type": "stream",
     "text": [
      " 22%|██▏       | 7/32 [03:46<16:13, 38.94s/it]"
     ]
    },
    {
     "name": "stdout",
     "output_type": "stream",
     "text": [
      "Updated 1000 documents\n"
     ]
    },
    {
     "name": "stderr",
     "output_type": "stream",
     "text": [
      " 25%|██▌       | 8/32 [04:29<16:07, 40.33s/it]"
     ]
    },
    {
     "name": "stdout",
     "output_type": "stream",
     "text": [
      "Updated 1000 documents\n"
     ]
    },
    {
     "name": "stderr",
     "output_type": "stream",
     "text": [
      " 28%|██▊       | 9/32 [05:09<15:22, 40.10s/it]"
     ]
    },
    {
     "name": "stdout",
     "output_type": "stream",
     "text": [
      "Updated 1000 documents\n"
     ]
    },
    {
     "name": "stderr",
     "output_type": "stream",
     "text": [
      " 31%|███▏      | 10/32 [05:52<15:01, 40.99s/it]"
     ]
    },
    {
     "name": "stdout",
     "output_type": "stream",
     "text": [
      "Updated 1000 documents\n"
     ]
    },
    {
     "name": "stderr",
     "output_type": "stream",
     "text": [
      " 34%|███▍      | 11/32 [06:32<14:16, 40.77s/it]"
     ]
    },
    {
     "name": "stdout",
     "output_type": "stream",
     "text": [
      "Updated 1000 documents\n"
     ]
    },
    {
     "name": "stderr",
     "output_type": "stream",
     "text": [
      " 38%|███▊      | 12/32 [07:13<13:35, 40.78s/it]"
     ]
    },
    {
     "name": "stdout",
     "output_type": "stream",
     "text": [
      "Updated 1000 documents\n"
     ]
    },
    {
     "name": "stderr",
     "output_type": "stream",
     "text": [
      " 41%|████      | 13/32 [07:54<12:56, 40.87s/it]"
     ]
    },
    {
     "name": "stdout",
     "output_type": "stream",
     "text": [
      "Updated 1000 documents\n"
     ]
    },
    {
     "name": "stderr",
     "output_type": "stream",
     "text": [
      " 44%|████▍     | 14/32 [08:35<12:20, 41.11s/it]"
     ]
    },
    {
     "name": "stdout",
     "output_type": "stream",
     "text": [
      "Updated 1000 documents\n"
     ]
    },
    {
     "name": "stderr",
     "output_type": "stream",
     "text": [
      " 47%|████▋     | 15/32 [09:22<12:04, 42.64s/it]"
     ]
    },
    {
     "name": "stdout",
     "output_type": "stream",
     "text": [
      "Updated 1000 documents\n"
     ]
    },
    {
     "name": "stderr",
     "output_type": "stream",
     "text": [
      " 50%|█████     | 16/32 [10:02<11:10, 41.90s/it]"
     ]
    },
    {
     "name": "stdout",
     "output_type": "stream",
     "text": [
      "Updated 1000 documents\n"
     ]
    },
    {
     "name": "stderr",
     "output_type": "stream",
     "text": [
      " 53%|█████▎    | 17/32 [10:44<10:30, 42.04s/it]"
     ]
    },
    {
     "name": "stdout",
     "output_type": "stream",
     "text": [
      "Updated 1000 documents\n"
     ]
    },
    {
     "name": "stderr",
     "output_type": "stream",
     "text": [
      " 56%|█████▋    | 18/32 [11:24<09:41, 41.53s/it]"
     ]
    },
    {
     "name": "stdout",
     "output_type": "stream",
     "text": [
      "Updated 1000 documents\n"
     ]
    },
    {
     "name": "stderr",
     "output_type": "stream",
     "text": [
      " 59%|█████▉    | 19/32 [12:06<09:00, 41.58s/it]"
     ]
    },
    {
     "name": "stdout",
     "output_type": "stream",
     "text": [
      "Updated 1000 documents\n"
     ]
    },
    {
     "name": "stderr",
     "output_type": "stream",
     "text": [
      " 62%|██████▎   | 20/32 [12:47<08:16, 41.34s/it]"
     ]
    },
    {
     "name": "stdout",
     "output_type": "stream",
     "text": [
      "Updated 1000 documents\n"
     ]
    },
    {
     "name": "stderr",
     "output_type": "stream",
     "text": [
      " 66%|██████▌   | 21/32 [13:28<07:34, 41.29s/it]"
     ]
    },
    {
     "name": "stdout",
     "output_type": "stream",
     "text": [
      "Updated 1000 documents\n"
     ]
    },
    {
     "name": "stderr",
     "output_type": "stream",
     "text": [
      " 69%|██████▉   | 22/32 [14:10<06:54, 41.43s/it]"
     ]
    },
    {
     "name": "stdout",
     "output_type": "stream",
     "text": [
      "Updated 1000 documents\n"
     ]
    },
    {
     "name": "stderr",
     "output_type": "stream",
     "text": [
      " 72%|███████▏  | 23/32 [14:49<06:06, 40.77s/it]"
     ]
    },
    {
     "name": "stdout",
     "output_type": "stream",
     "text": [
      "Updated 1000 documents\n"
     ]
    },
    {
     "name": "stderr",
     "output_type": "stream",
     "text": [
      " 75%|███████▌  | 24/32 [15:34<05:35, 41.89s/it]"
     ]
    },
    {
     "name": "stdout",
     "output_type": "stream",
     "text": [
      "Updated 1000 documents\n"
     ]
    },
    {
     "name": "stderr",
     "output_type": "stream",
     "text": [
      " 78%|███████▊  | 25/32 [16:14<04:49, 41.35s/it]"
     ]
    },
    {
     "name": "stdout",
     "output_type": "stream",
     "text": [
      "Updated 1000 documents\n"
     ]
    },
    {
     "name": "stderr",
     "output_type": "stream",
     "text": [
      " 81%|████████▏ | 26/32 [16:58<04:12, 42.09s/it]"
     ]
    },
    {
     "name": "stdout",
     "output_type": "stream",
     "text": [
      "Updated 1000 documents\n"
     ]
    },
    {
     "name": "stderr",
     "output_type": "stream",
     "text": [
      " 84%|████████▍ | 27/32 [17:41<03:32, 42.51s/it]"
     ]
    },
    {
     "name": "stdout",
     "output_type": "stream",
     "text": [
      "Updated 1000 documents\n"
     ]
    },
    {
     "name": "stderr",
     "output_type": "stream",
     "text": [
      " 88%|████████▊ | 28/32 [18:22<02:48, 42.17s/it]"
     ]
    },
    {
     "name": "stdout",
     "output_type": "stream",
     "text": [
      "Updated 1000 documents\n"
     ]
    },
    {
     "name": "stderr",
     "output_type": "stream",
     "text": [
      " 91%|█████████ | 29/32 [19:05<02:06, 42.18s/it]"
     ]
    },
    {
     "name": "stdout",
     "output_type": "stream",
     "text": [
      "Updated 1000 documents\n"
     ]
    },
    {
     "name": "stderr",
     "output_type": "stream",
     "text": [
      " 94%|█████████▍| 30/32 [19:45<01:23, 41.58s/it]"
     ]
    },
    {
     "name": "stdout",
     "output_type": "stream",
     "text": [
      "Updated 1000 documents\n"
     ]
    },
    {
     "name": "stderr",
     "output_type": "stream",
     "text": [
      " 97%|█████████▋| 31/32 [20:26<00:41, 41.60s/it]"
     ]
    },
    {
     "name": "stdout",
     "output_type": "stream",
     "text": [
      "Updated 1000 documents\n"
     ]
    },
    {
     "name": "stderr",
     "output_type": "stream",
     "text": [
      "100%|██████████| 32/32 [20:48<00:00, 39.00s/it]"
     ]
    },
    {
     "name": "stdout",
     "output_type": "stream",
     "text": [
      "Updated 530 documents\n"
     ]
    },
    {
     "name": "stderr",
     "output_type": "stream",
     "text": [
      "\n"
     ]
    }
   ],
   "source": [
    "# 'docs' is your list of documents\n",
    "operations = [UpdateOne({'_id': doc['_id']}, {'$set': doc}) for doc in docs]\n",
    "\n",
    "# Bulk write in batches of 1000\n",
    "for i in trange(99_000, len(operations), 1000):\n",
    "    result = mempool.bulk_write(operations[i:i+1000], ordered=False)\n",
    "\n",
    "    print(f\"Updated {result.modified_count} documents\")"
   ]
  },
  {
   "cell_type": "code",
   "execution_count": 38,
   "metadata": {},
   "outputs": [
    {
     "data": {
      "text/plain": [
       "{'_id': ObjectId('648ce10f18e0fbc3c3482f75'),\n",
       " 'hash': '0x303936c1821da2e23c08fe2171947028ac394fe6d7eb5338d2643365a867b348',\n",
       " 'type': 2,\n",
       " 'accessList': [],\n",
       " 'blockHash': None,\n",
       " 'blockNumber': None,\n",
       " 'transactionIndex': None,\n",
       " 'confirmations': 0,\n",
       " 'from': '0x4899951FFa90d493c58DC1db8760f15c8Ed2873A',\n",
       " 'gasPrice': 30.998999649,\n",
       " 'maxPriorityFeePerGas': {'_hex': '0xb2d05e00', '_isBigNumber': True},\n",
       " 'maxFeePerGas': {'_hex': '0x0737af3261', '_isBigNumber': True},\n",
       " 'gasLimit': 361022,\n",
       " 'to': '0x7a250d5630B4cF539739dF2C5dAcb4c659F2488D',\n",
       " 'value': {'_hex': '0x7c585087238004', '_isBigNumber': True},\n",
       " 'nonce': 5,\n",
       " 'data': '0xb6f9de95000000000000000000000000000000000000000000000000000000000000000000000000000000000000000000000000000000000000000000000000000000800000000000000000000000004899951ffa90d493c58dc1db8760f15c8ed2873a00000000000000000000000000000000000000000000000000000000648ce1850000000000000000000000000000000000000000000000000000000000000002000000000000000000000000c02aaa39b223fe8d0a0e5c4f27ead9083c756cc20000000000000000000000002fbed9912927c41e805e2070f4725d10a23f65cb',\n",
       " 'r': '0x3ec77096015513173f748789efa07e133cb6e8d5fc33a6c72872fc43b768be7f',\n",
       " 's': '0x72c6022d23e8b61229dbce344da3d96a6d5a4b36c99cf1c0e335866523936580',\n",
       " 'v': 1,\n",
       " 'creates': None,\n",
       " 'chainId': 1,\n",
       " 'uniswapVersion': 'v2',\n",
       " 'timestamp': 1686954255202.0,\n",
       " 'formattedDate': '2023-06-16T22:24:15.202Z',\n",
       " 'gasPriceRaw': {'_hex': '0x0737af3261', '_isBigNumber': True},\n",
       " 'gasLimitRaw': {'_hex': '0x05823e', '_isBigNumber': True},\n",
       " 'ts': datetime.datetime(2023, 6, 16, 22, 24, 15, 202000)}"
      ]
     },
     "execution_count": 38,
     "metadata": {},
     "output_type": "execute_result"
    }
   ],
   "source": [
    "# After:\n",
    "mempool.find_one({'_id': docs[0]['_id']})"
   ]
  },
  {
   "cell_type": "markdown",
   "metadata": {},
   "source": [
    "## Update so that all transactions has the transaction hash as `_id`"
   ]
  },
  {
   "cell_type": "code",
   "execution_count": 39,
   "metadata": {},
   "outputs": [
    {
     "name": "stderr",
     "output_type": "stream",
     "text": [
      "74623it [00:39, 1894.90it/s]\n"
     ]
    },
    {
     "data": {
      "text/plain": [
       "74623"
      ]
     },
     "execution_count": 39,
     "metadata": {},
     "output_type": "execute_result"
    }
   ],
   "source": [
    "# Find documents where '_id' and 'hash' are not equal\n",
    "results = mempool.find({'$expr': {'$ne': ['$_id', '$hash']}})\n",
    "\n",
    "docs = list(tqdm(results))\n",
    "len(docs)"
   ]
  },
  {
   "cell_type": "code",
   "execution_count": null,
   "metadata": {},
   "outputs": [],
   "source": [
    "# Initialize a list to hold your operations\n",
    "operations = []\n",
    "\n",
    "for doc in docs:    \n",
    "    # Get the old _id\n",
    "    old_id = doc[\"_id\"]\n",
    "\n",
    "    # Create a copy of the old document, but replace the _id with the new_id\n",
    "    new_doc = doc.copy()\n",
    "    new_doc[\"_id\"] = doc[\"hash\"]\n",
    "\n",
    "    # Add an InsertOne operation for the new document and a DeleteOne operation for the old document\n",
    "    operations.append(InsertOne(new_doc))\n",
    "    operations.append(DeleteOne({\"_id\": old_id}))\n",
    "\n",
    "\n",
    "# Perform the operations in batches\n",
    "it = trange(0, len(operations), 1000)\n",
    "total_modified = 0\n",
    "for i in it:\n",
    "    result = mempool.bulk_write(operations[i:i+1000], ordered=False)\n",
    "    total_modified += result.modified_count\n",
    "    it.set_description(f\"Updated {result.modified_count} documents, {total_modified} total\")\n",
    "\n",
    "print(f\"Updated {total_modified} documents\")"
   ]
  }
 ],
 "metadata": {
  "kernelspec": {
   "display_name": "venv",
   "language": "python",
   "name": "python3"
  },
  "language_info": {
   "codemirror_mode": {
    "name": "ipython",
    "version": 3
   },
   "file_extension": ".py",
   "mimetype": "text/x-python",
   "name": "python",
   "nbconvert_exporter": "python",
   "pygments_lexer": "ipython3",
   "version": "3.11.3"
  },
  "orig_nbformat": 4
 },
 "nbformat": 4,
 "nbformat_minor": 2
}
