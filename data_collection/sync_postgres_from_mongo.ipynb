{
 "cells": [
  {
   "cell_type": "code",
   "execution_count": 2,
   "metadata": {},
   "outputs": [
    {
     "data": {
      "text/plain": [
       "True"
      ]
     },
     "execution_count": 2,
     "metadata": {},
     "output_type": "execute_result"
    }
   ],
   "source": [
    "import os\n",
    "\n",
    "from datetime import datetime\n",
    "\n",
    "from pymongo import MongoClient\n",
    "import psycopg2\n",
    "from dotenv import load_dotenv\n",
    "\n",
    "from tqdm import tqdm\n",
    "from tqdm.contrib.concurrent import process_map\n",
    "\n",
    "load_dotenv(override=True)"
   ]
  },
  {
   "cell_type": "code",
   "execution_count": 3,
   "metadata": {},
   "outputs": [],
   "source": [
    "mongo_uri = os.environ[\"MONGODB_CONNECTION_STRING\"]\n",
    "postgres_uri = os.environ[\"POSTGRESQL_URI_MP\"]"
   ]
  },
  {
   "cell_type": "code",
   "execution_count": 4,
   "metadata": {},
   "outputs": [],
   "source": [
    "# Connect to MongoDB\n",
    "mongo_client = MongoClient(mongo_uri)\n",
    "mongo_db = mongo_client['transactions']\n",
    "mongo_collection = mongo_db['mempool-hashes']\n",
    "\n",
    "# Connect to PostgreSQL\n",
    "pg_conn = psycopg2.connect(postgres_uri)\n",
    "pg_cursor = pg_conn.cursor()"
   ]
  },
  {
   "cell_type": "code",
   "execution_count": 4,
   "metadata": {},
   "outputs": [],
   "source": [
    "def process_chunk(skip, limit):\n",
    "    # Connect to MongoDB and PostgreSQL inside the function\n",
    "    mongo_client = MongoClient(mongo_uri)\n",
    "    mongo_db = mongo_client['transactions']\n",
    "    mongo_collection = mongo_db['mempool-hashes']\n",
    "    pg_conn = psycopg2.connect(postgres_uri)\n",
    "    pg_cursor = pg_conn.cursor()\n",
    "\n",
    "    # Initialize a counter for the number of records inserted\n",
    "    total_inserted = 0\n",
    "\n",
    "    # Iterate through a chunk of documents in the MongoDB collection\n",
    "    it = tqdm(mongo_collection.find().skip(skip).limit(limit), total=limit, desc=\"Inserting into PostgreSQL\")\n",
    "    for document in it:\n",
    "        it.set_postfix(total_inserted=total_inserted)\n",
    "        batch_records = [(hash['hash'], datetime.utcfromtimestamp(hash['timestamp'] / 1000)) for hash in document['hashes']]\n",
    "        insert_query = \"\"\"\n",
    "            INSERT INTO mempool_transactions (hash, first_seen) VALUES (%s, %s)\n",
    "            ON CONFLICT (hash) DO NOTHING\n",
    "        \"\"\"\n",
    "        pg_cursor.executemany(insert_query, batch_records)\n",
    "        pg_conn.commit()\n",
    "\n",
    "        total_inserted += pg_cursor.rowcount\n",
    "\n",
    "    # Close connections\n",
    "    pg_cursor.close()\n",
    "    pg_conn.close()\n",
    "    mongo_client.close()\n",
    "\n",
    "    return total_inserted\n"
   ]
  },
  {
   "cell_type": "code",
   "execution_count": 5,
   "metadata": {},
   "outputs": [
    {
     "data": {
      "application/vnd.jupyter.widget-view+json": {
       "model_id": "21adac3a79bd48c7817396929148253b",
       "version_major": 2,
       "version_minor": 0
      },
      "text/plain": [
       "  0%|          | 0/4 [00:00<?, ?it/s]"
      ]
     },
     "metadata": {},
     "output_type": "display_data"
    },
    {
     "name": "stderr",
     "output_type": "stream",
     "text": [
      "Inserting into PostgreSQL:   0%|          | 17/33790 [00:21<11:35:35,  1.24s/it, total_inserted=0]"
     ]
    }
   ],
   "source": [
    "# Get the total number of documents\n",
    "total_documents = mongo_collection.estimated_document_count()\n",
    "\n",
    "# Number of processes\n",
    "num_processes = 4\n",
    "\n",
    "# Chunk size\n",
    "chunk_size = total_documents // num_processes\n",
    "\n",
    "# Create separate lists for the skip and limit values\n",
    "skip_values = [i * chunk_size for i in range(num_processes)]\n",
    "limit_values = [chunk_size] * num_processes\n",
    "\n",
    "# Use process_map to call process_chunk in parallel and display progress bars\n",
    "results = process_map(process_chunk, skip_values, limit_values, max_workers=num_processes)\n",
    "\n",
    "# Sum the results to get the total number of records inserted\n",
    "total_inserted = sum(results)\n",
    "print(f\"Total records inserted: {total_inserted}\")"
   ]
  },
  {
   "cell_type": "code",
   "execution_count": null,
   "metadata": {},
   "outputs": [],
   "source": []
  }
 ],
 "metadata": {
  "kernelspec": {
   "display_name": "venv",
   "language": "python",
   "name": "python3"
  },
  "language_info": {
   "codemirror_mode": {
    "name": "ipython",
    "version": 3
   },
   "file_extension": ".py",
   "mimetype": "text/x-python",
   "name": "python",
   "nbconvert_exporter": "python",
   "pygments_lexer": "ipython3",
   "version": "3.11.0"
  },
  "orig_nbformat": 4
 },
 "nbformat": 4,
 "nbformat_minor": 2
}
