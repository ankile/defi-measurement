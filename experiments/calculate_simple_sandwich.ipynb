{
 "cells": [
  {
   "cell_type": "markdown",
   "metadata": {},
   "source": [
    "# Run Sandwich Attacks on Swaps from the Public Mempool"
   ]
  },
  {
   "cell_type": "code",
   "execution_count": 1,
   "metadata": {},
   "outputs": [],
   "source": [
    "%load_ext autoreload\n",
    "%autoreload 2"
   ]
  },
  {
   "cell_type": "code",
   "execution_count": 10,
   "metadata": {},
   "outputs": [],
   "source": [
    "import os\n",
    "import sys\n",
    "import math\n",
    "\n",
    "current_path = sys.path[0]\n",
    "sys.path.append(\n",
    "    current_path[: current_path.find(\"defi-measurement\")]\n",
    "    + \"liquidity-distribution-history\"\n",
    ")\n",
    "\n",
    "sys.path.append(\"..\")\n",
    "\n",
    "import time\n",
    "\n",
    "import matplotlib.pyplot as plt\n",
    "import numpy as np\n",
    "import pandas as pd\n",
    "\n",
    "\n",
    "from datetime import datetime, timezone\n",
    "\n",
    "\n",
    "# Set display options\n",
    "pd.set_option(\"display.max_colwidth\", None)  # Display entire cell content\n",
    "pd.set_option(\"display.max_rows\", 50)  # Display all rows\n",
    "pd.set_option(\"display.max_columns\", None)  # Display all columns\n",
    "\n",
    "\n",
    "from dotenv import load_dotenv\n",
    "from pool_state import v3Pool\n",
    "from sqlalchemy import create_engine\n",
    "from tqdm import tqdm\n",
    "\n",
    "from moralis import evm_api\n",
    "\n",
    "\n",
    "load_dotenv(override=True)\n",
    "# from experiments.random_permutations import load_pool\n",
    "\n",
    "from experiments.preload_pool_cache import load_pool_from_blob\n",
    "from experiments.calculate_simple_sandwich import (\n",
    "    get_data,\n",
    "    SwapData,\n",
    "    single_sandwich_mev,\n",
    "    max_frontrun,\n",
    "    auto_sandwich_mev,\n",
    "    SimpleSandwich,\n",
    ")\n",
    "\n",
    "\n",
    "from decimal import getcontext\n",
    "\n",
    "getcontext().prec = 100  # Set the precision high enough for our purposes\n",
    "\n",
    "\n",
    "# Read in the environment variables\n",
    "postgres_uri_mp = os.environ[\"POSTGRESQL_URI_MP\"]\n",
    "postgres_uri_us = os.environ[\"POSTGRESQL_URI_US\"]\n",
    "azure_storage_uri = os.environ[\"AZURE_STORAGE_CONNECTION_STRING\"]\n",
    "moralis_api_key = os.environ[\"MORALIS_API_KEY\"]"
   ]
  },
  {
   "cell_type": "markdown",
   "metadata": {},
   "source": [
    "## Get the Data"
   ]
  },
  {
   "cell_type": "markdown",
   "metadata": {},
   "source": [
    "### Populate the swap data we have with the block number that the swap appeared in"
   ]
  },
  {
   "cell_type": "code",
   "execution_count": 3,
   "metadata": {},
   "outputs": [
    {
     "data": {
      "text/html": [
       "<div>\n",
       "<style scoped>\n",
       "    .dataframe tbody tr th:only-of-type {\n",
       "        vertical-align: middle;\n",
       "    }\n",
       "\n",
       "    .dataframe tbody tr th {\n",
       "        vertical-align: top;\n",
       "    }\n",
       "\n",
       "    .dataframe thead th {\n",
       "        text-align: right;\n",
       "    }\n",
       "</style>\n",
       "<table border=\"1\" class=\"dataframe\">\n",
       "  <thead>\n",
       "    <tr style=\"text-align: right;\">\n",
       "      <th></th>\n",
       "      <th></th>\n",
       "      <th>amountIn</th>\n",
       "      <th>amountOutMin</th>\n",
       "      <th>token0</th>\n",
       "      <th>fee</th>\n",
       "      <th>token1</th>\n",
       "      <th>hash</th>\n",
       "      <th>first_seen</th>\n",
       "    </tr>\n",
       "    <tr>\n",
       "      <th>pool</th>\n",
       "      <th>block_number</th>\n",
       "      <th></th>\n",
       "      <th></th>\n",
       "      <th></th>\n",
       "      <th></th>\n",
       "      <th></th>\n",
       "      <th></th>\n",
       "      <th></th>\n",
       "    </tr>\n",
       "  </thead>\n",
       "  <tbody>\n",
       "    <tr>\n",
       "      <th rowspan=\"5\" valign=\"top\">0x88e6a0c2ddd26feeb64f039a2c41296fcb3f5640</th>\n",
       "      <th>17552211.0</th>\n",
       "      <td>3200000000</td>\n",
       "      <td>1608133671221393483</td>\n",
       "      <td>0xa0b86991c6218b36c1d19d4a2e9eb0ce3606eb48</td>\n",
       "      <td>500</td>\n",
       "      <td>0xc02aaa39b223fe8d0a0e5c4f27ead9083c756cc2</td>\n",
       "      <td>0xcccbb87fc3e5e2b7851adc2140f46603c39eebef648048d59904987f47a9aa50</td>\n",
       "      <td>2023-06-24 22:01:55.725000+00:00</td>\n",
       "    </tr>\n",
       "    <tr>\n",
       "      <th>17552242.0</th>\n",
       "      <td>303798589</td>\n",
       "      <td>160355281886090203</td>\n",
       "      <td>0xa0b86991c6218b36c1d19d4a2e9eb0ce3606eb48</td>\n",
       "      <td>500</td>\n",
       "      <td>0xc02aaa39b223fe8d0a0e5c4f27ead9083c756cc2</td>\n",
       "      <td>0x4c1da0dcc8367691658daa4bf50af22df275e8898975edfb96c65625da07098d</td>\n",
       "      <td>2023-06-24 22:08:01.821000+00:00</td>\n",
       "    </tr>\n",
       "    <tr>\n",
       "      <th>17552250.0</th>\n",
       "      <td>16102020684</td>\n",
       "      <td>8532306101844837653</td>\n",
       "      <td>0xa0b86991c6218b36c1d19d4a2e9eb0ce3606eb48</td>\n",
       "      <td>500</td>\n",
       "      <td>0xc02aaa39b223fe8d0a0e5c4f27ead9083c756cc2</td>\n",
       "      <td>0x94f9a95e35ef12f68ce0b4aa1a40a15e8f72472f5af549fc90dc884909db6522</td>\n",
       "      <td>2023-06-24 22:09:42.925000+00:00</td>\n",
       "    </tr>\n",
       "    <tr>\n",
       "      <th>17552252.0</th>\n",
       "      <td>6543850000</td>\n",
       "      <td>3467552154643320542</td>\n",
       "      <td>0xa0b86991c6218b36c1d19d4a2e9eb0ce3606eb48</td>\n",
       "      <td>500</td>\n",
       "      <td>0xc02aaa39b223fe8d0a0e5c4f27ead9083c756cc2</td>\n",
       "      <td>0xc708f2903a47f281da6eaa12ea3e35f5c396a2567e3f7478058c1102a11f2bd4</td>\n",
       "      <td>2023-06-24 22:10:01.413000+00:00</td>\n",
       "    </tr>\n",
       "    <tr>\n",
       "      <th>17552278.0</th>\n",
       "      <td>150000000</td>\n",
       "      <td>79798648054443290</td>\n",
       "      <td>0xa0b86991c6218b36c1d19d4a2e9eb0ce3606eb48</td>\n",
       "      <td>500</td>\n",
       "      <td>0xc02aaa39b223fe8d0a0e5c4f27ead9083c756cc2</td>\n",
       "      <td>0x3aebe0e7c4c49d9e98f394e4c5141b731ebf63c73a74b388bcb5258c61440fe3</td>\n",
       "      <td>2023-06-24 22:15:19.884000+00:00</td>\n",
       "    </tr>\n",
       "  </tbody>\n",
       "</table>\n",
       "</div>"
      ],
      "text/plain": [
       "                                                            amountIn  \\\n",
       "pool                                       block_number                \n",
       "0x88e6a0c2ddd26feeb64f039a2c41296fcb3f5640 17552211.0     3200000000   \n",
       "                                           17552242.0      303798589   \n",
       "                                           17552250.0    16102020684   \n",
       "                                           17552252.0     6543850000   \n",
       "                                           17552278.0      150000000   \n",
       "\n",
       "                                                                amountOutMin  \\\n",
       "pool                                       block_number                        \n",
       "0x88e6a0c2ddd26feeb64f039a2c41296fcb3f5640 17552211.0    1608133671221393483   \n",
       "                                           17552242.0     160355281886090203   \n",
       "                                           17552250.0    8532306101844837653   \n",
       "                                           17552252.0    3467552154643320542   \n",
       "                                           17552278.0      79798648054443290   \n",
       "\n",
       "                                                                                             token0  \\\n",
       "pool                                       block_number                                               \n",
       "0x88e6a0c2ddd26feeb64f039a2c41296fcb3f5640 17552211.0    0xa0b86991c6218b36c1d19d4a2e9eb0ce3606eb48   \n",
       "                                           17552242.0    0xa0b86991c6218b36c1d19d4a2e9eb0ce3606eb48   \n",
       "                                           17552250.0    0xa0b86991c6218b36c1d19d4a2e9eb0ce3606eb48   \n",
       "                                           17552252.0    0xa0b86991c6218b36c1d19d4a2e9eb0ce3606eb48   \n",
       "                                           17552278.0    0xa0b86991c6218b36c1d19d4a2e9eb0ce3606eb48   \n",
       "\n",
       "                                                         fee  \\\n",
       "pool                                       block_number        \n",
       "0x88e6a0c2ddd26feeb64f039a2c41296fcb3f5640 17552211.0    500   \n",
       "                                           17552242.0    500   \n",
       "                                           17552250.0    500   \n",
       "                                           17552252.0    500   \n",
       "                                           17552278.0    500   \n",
       "\n",
       "                                                                                             token1  \\\n",
       "pool                                       block_number                                               \n",
       "0x88e6a0c2ddd26feeb64f039a2c41296fcb3f5640 17552211.0    0xc02aaa39b223fe8d0a0e5c4f27ead9083c756cc2   \n",
       "                                           17552242.0    0xc02aaa39b223fe8d0a0e5c4f27ead9083c756cc2   \n",
       "                                           17552250.0    0xc02aaa39b223fe8d0a0e5c4f27ead9083c756cc2   \n",
       "                                           17552252.0    0xc02aaa39b223fe8d0a0e5c4f27ead9083c756cc2   \n",
       "                                           17552278.0    0xc02aaa39b223fe8d0a0e5c4f27ead9083c756cc2   \n",
       "\n",
       "                                                                                                                       hash  \\\n",
       "pool                                       block_number                                                                       \n",
       "0x88e6a0c2ddd26feeb64f039a2c41296fcb3f5640 17552211.0    0xcccbb87fc3e5e2b7851adc2140f46603c39eebef648048d59904987f47a9aa50   \n",
       "                                           17552242.0    0x4c1da0dcc8367691658daa4bf50af22df275e8898975edfb96c65625da07098d   \n",
       "                                           17552250.0    0x94f9a95e35ef12f68ce0b4aa1a40a15e8f72472f5af549fc90dc884909db6522   \n",
       "                                           17552252.0    0xc708f2903a47f281da6eaa12ea3e35f5c396a2567e3f7478058c1102a11f2bd4   \n",
       "                                           17552278.0    0x3aebe0e7c4c49d9e98f394e4c5141b731ebf63c73a74b388bcb5258c61440fe3   \n",
       "\n",
       "                                                                              first_seen  \n",
       "pool                                       block_number                                   \n",
       "0x88e6a0c2ddd26feeb64f039a2c41296fcb3f5640 17552211.0   2023-06-24 22:01:55.725000+00:00  \n",
       "                                           17552242.0   2023-06-24 22:08:01.821000+00:00  \n",
       "                                           17552250.0   2023-06-24 22:09:42.925000+00:00  \n",
       "                                           17552252.0   2023-06-24 22:10:01.413000+00:00  \n",
       "                                           17552278.0   2023-06-24 22:15:19.884000+00:00  "
      ]
     },
     "execution_count": 3,
     "metadata": {},
     "output_type": "execute_result"
    }
   ],
   "source": [
    "df = get_data()\n",
    "\n",
    "df.head()"
   ]
  },
  {
   "cell_type": "markdown",
   "metadata": {},
   "source": [
    "## Get a pool and do some initial testing"
   ]
  },
  {
   "cell_type": "code",
   "execution_count": 4,
   "metadata": {},
   "outputs": [
    {
     "data": {
      "text/plain": [
       "SwapData(pool='0x78d4e81fc84a1ce367e90936e49a74a9052137e8', block_number=17578916.0, amountIn='10000000000000000000', amountOutMin='466622823911182083', token0='0xc02aaa39b223fe8d0a0e5c4f27ead9083c756cc2', fee='10000', token1='0x2890df158d76e584877a1d17a85fea3aeeb85aa6', hash='0x503ff2a5421b7a3e9594051eb933ad5ea01a9ccc0d76a41b5fc2df945af2a7f2', first_seen=Timestamp('2023-06-28 16:09:49.897000+0000', tz='UTC'))"
      ]
     },
     "execution_count": 4,
     "metadata": {},
     "output_type": "execute_result"
    }
   ],
   "source": [
    "swap_data = df[df.hash == '0x503ff2a5421b7a3e9594051eb933ad5ea01a9ccc0d76a41b5fc2df945af2a7f2']\n",
    "\n",
    "swap = SwapData(**swap_data.reset_index().to_dict('records')[0]) # type: ignore\n",
    "\n",
    "swap"
   ]
  },
  {
   "cell_type": "code",
   "execution_count": 5,
   "metadata": {},
   "outputs": [
    {
     "name": "stdout",
     "output_type": "stream",
     "text": [
      "Loading pool from Azure blob storage cache\n"
     ]
    }
   ],
   "source": [
    "pool = load_pool_from_blob(\n",
    "    str(swap_data.index.get_level_values(0)[0]),\n",
    "    postgres_uri_us,\n",
    "    azure_storage_uri,\n",
    "    \"uniswap-v3-pool-cache\",\n",
    "    verbose=True,\n",
    "    invalidate_before_date=datetime(2023, 8, 16, tzinfo=timezone.utc),\n",
    ")"
   ]
  },
  {
   "cell_type": "code",
   "execution_count": 6,
   "metadata": {},
   "outputs": [
    {
     "name": "stdout",
     "output_type": "stream",
     "text": [
      "0: Trying 1000000.0\n",
      "1: Trying 2000000.0\n",
      "2: Trying 4000000.0\n",
      "3: Trying 8000000.0\n",
      "4: Trying 16000000.0\n",
      "5: Trying 32000000.0\n",
      "6: Trying 64000000.0\n",
      "7: Trying 128000000.0\n",
      "8: Trying 256000000.0\n",
      "9: Trying 512000000.0\n",
      "10: Trying 1024000000.0\n",
      "11: Trying 2048000000.0\n",
      "12: Trying 4096000000.0\n",
      "13: Trying 8192000000.0\n",
      "14: Trying 16384000000.0\n",
      "15: Trying 32768000000.0\n",
      "16: Trying 65536000000.0\n",
      "17: Trying 131072000000.0\n",
      "18: Trying 262144000000.0\n",
      "19: Trying 524288000000.0\n",
      "20: Trying 1048576000000.0\n",
      "21: Trying 2097152000000.0\n",
      "22: Trying 4194304000000.0\n",
      "23: Trying 8388608000000.0\n",
      "24: Trying 16777216000000.0\n",
      "25: Trying 33554432000000.0\n",
      "26: Trying 67108864000000.0\n",
      "27: Trying 134217728000000.0\n",
      "28: Trying 268435456000000.0\n",
      "29: Trying 536870912000000.0\n",
      "30: Trying 1073741824000000.0\n",
      "31: Trying 2147483648000000.0\n",
      "32: Trying 4294967296000000.0\n",
      "33: Trying 8589934592000000.0\n",
      "34: Trying 1.7179869184e+16\n",
      "35: Trying 3.4359738368e+16\n",
      "36: Trying 6.8719476736e+16\n",
      "37: Trying 1.37438953472e+17\n",
      "38: Trying 2.74877906944e+17\n",
      "0: Trying 1.37438953472e+17 - 2.74877906944e+17\n",
      "1: Trying 2.06158430208e+17 - 2.74877906944e+17\n",
      "2: Trying 2.40518168576e+17 - 2.74877906944e+17\n",
      "3: Trying 2.5769803776e+17 - 2.74877906944e+17\n",
      "4: Trying 2.66287972352e+17 - 2.74877906944e+17\n",
      "5: Trying 2.70582939648e+17 - 2.74877906944e+17\n",
      "6: Trying 2.72730423296e+17 - 2.74877906944e+17\n",
      "7: Trying 2.72730423296e+17 - 2.7380416512e+17\n",
      "8: Trying 2.72730423296e+17 - 2.73267294208e+17\n",
      "9: Trying 2.72730423296e+17 - 2.72998858752e+17\n",
      "10: Trying 2.72864641024e+17 - 2.72998858752e+17\n",
      "11: Trying 2.72931749888e+17 - 2.72998858752e+17\n",
      "12: Trying 2.7296530432e+17 - 2.72998858752e+17\n",
      "13: Trying 2.72982081536e+17 - 2.72998858752e+17\n",
      "14: Trying 2.72990470144e+17 - 2.72998858752e+17\n",
      "15: Trying 2.72994664448e+17 - 2.72998858752e+17\n",
      "16: Trying 2.72994664448e+17 - 2.729967616e+17\n"
     ]
    },
    {
     "data": {
      "text/plain": [
       "2.72994664448e+17"
      ]
     },
     "execution_count": 6,
     "metadata": {},
     "output_type": "execute_result"
    }
   ],
   "source": [
    "assert pool\n",
    "\n",
    "max_frontrun(\n",
    "    pool,\n",
    "    swap,\n",
    "    verbose=True,\n",
    ")"
   ]
  },
  {
   "cell_type": "code",
   "execution_count": 8,
   "metadata": {},
   "outputs": [
    {
     "name": "stdout",
     "output_type": "stream",
     "text": [
      "Profit: 0.003185129981081248\n",
      "Gas: 0.006719305386569982\n",
      "Prices: (4.56768883595478, 4.569668914667892, 4.642682234572798, 4.64065881939532)\n"
     ]
    }
   ],
   "source": [
    "assert pool is not None\n",
    "\n",
    "profit, gas, prices = single_sandwich_mev(\n",
    "    pool,\n",
    "    swap,\n",
    "    int(2.72994664448e+17),\n",
    "    pool_fee=True,\n",
    ")\n",
    "\n",
    "print(f\"Profit: {profit / 1e18}\")\n",
    "print(f\"Gas: {gas}\")\n",
    "print(f\"Prices: {prices}\")"
   ]
  },
  {
   "cell_type": "code",
   "execution_count": 9,
   "metadata": {},
   "outputs": [
    {
     "data": {
      "image/png": "[encoded data removed]",
      "text/plain": [
       "<Figure size 640x480 with 1 Axes>"
      ]
     },
     "metadata": {},
     "output_type": "display_data"
    }
   ],
   "source": [
    "plt.plot([1,2,3,4], prices);"
   ]
  },
  {
   "cell_type": "code",
   "execution_count": 16,
   "metadata": {},
   "outputs": [
    {
     "name": "stdout",
     "output_type": "stream",
     "text": [
      "Running 1.00e+12 <= 2.73e+19\n",
      "Running 2.00e+12 <= 2.73e+19\n",
      "Running 4.00e+12 <= 2.73e+19\n",
      "Running 8.00e+12 <= 2.73e+19\n",
      "Running 1.60e+13 <= 2.73e+19\n",
      "Running 3.20e+13 <= 2.73e+19\n",
      "Running 6.40e+13 <= 2.73e+19\n",
      "Running 1.28e+14 <= 2.73e+19\n",
      "Running 2.56e+14 <= 2.73e+19\n",
      "Running 5.12e+14 <= 2.73e+19\n",
      "Running 1.02e+15 <= 2.73e+19\n",
      "Running 2.05e+15 <= 2.73e+19\n",
      "Running 4.10e+15 <= 2.73e+19\n",
      "Running 8.19e+15 <= 2.73e+19\n",
      "Running 1.64e+16 <= 2.73e+19\n",
      "Running 3.28e+16 <= 2.73e+19\n",
      "Running 6.55e+16 <= 2.73e+19\n",
      "Running 1.31e+17 <= 2.73e+19\n",
      "Running 2.62e+17 <= 2.73e+19\n",
      "Running 5.24e+17 <= 2.73e+19\n",
      "Running 1.05e+18 <= 2.73e+19\n",
      "Running 2.10e+18 <= 2.73e+19\n",
      "Running 4.19e+18 <= 2.73e+19\n",
      "Running 8.39e+18 <= 2.73e+19\n",
      "Running 1.68e+19 <= 2.73e+19\n"
     ]
    }
   ],
   "source": [
    "# See if the profit of the profitable attack is maximized by inserting the maximum size frontrunning swap\n",
    "\n",
    "xs = []\n",
    "ys = []\n",
    "\n",
    "inp = 1e12\n",
    "\n",
    "while inp <= int(2.72994664448e+19):\n",
    "    print(f\"Running {inp:.2e} <= 2.73e+19\")\n",
    "    profit, gas, prices = single_sandwich_mev(\n",
    "        pool,\n",
    "        swap,\n",
    "        int(inp),\n",
    "        pool_fee=True,\n",
    "    )\n",
    "\n",
    "    xs.append(inp)\n",
    "    ys.append(profit)\n",
    "\n",
    "    inp *= 2"
   ]
  },
  {
   "cell_type": "code",
   "execution_count": 22,
   "metadata": {},
   "outputs": [
    {
     "data": {
      "image/png": "[encoded data removed]",
      "text/plain": [
       "<Figure size 640x480 with 1 Axes>"
      ]
     },
     "metadata": {},
     "output_type": "display_data"
    }
   ],
   "source": [
    "plt.plot(xs, ys)\n",
    "plt.loglog()\n",
    "plt.axvline(x=2.72994664448e+17, color='red')\n",
    "plt.title('Profit from simple sandwich trade as a function of frontrun size');"
   ]
  },
  {
   "cell_type": "code",
   "execution_count": 40,
   "metadata": {},
   "outputs": [
    {
     "name": "stdout",
     "output_type": "stream",
     "text": [
      "0: Trying 1000000.0\n",
      "1: Trying 10000000.0\n",
      "2: Trying 100000000.0\n",
      "3: Trying 1000000000.0\n",
      "4: Trying 10000000000.0\n",
      "5: Trying 100000000000.0\n",
      "6: Trying 1000000000000.0\n",
      "7: Trying 10000000000000.0\n",
      "0: Trying 1000000000000.0 - 10000000000000.0\n",
      "1: Trying 5500000000000.0 - 10000000000000.0\n",
      "2: Trying 5500000000000.0 - 7750000000000.0\n",
      "3: Trying 5500000000000.0 - 6625000000000.0\n",
      "4: Trying 6062500000000.0 - 6625000000000.0\n",
      "5: Trying 6343750000000.0 - 6625000000000.0\n",
      "6: Trying 6343750000000.0 - 6484375000000.0\n",
      "7: Trying 6343750000000.0 - 6414062500000.0\n",
      "8: Trying 6343750000000.0 - 6378906250000.0\n",
      "9: Trying 6343750000000.0 - 6361328125000.0\n",
      "10: Trying 6352539062500.0 - 6361328125000.0\n",
      "11: Trying 6352539062500.0 - 6356933593750.0\n",
      "12: Trying 6352539062500.0 - 6354736328125.0\n",
      "13: Trying 6352539062500.0 - 6353637695312.0\n",
      "14: Trying 6352539062500.0 - 6353088378906.0\n",
      "15: Trying 6352813720703.0 - 6353088378906.0\n",
      "16: Trying 6352951049804.0 - 6353088378906.0\n",
      "17: Trying 6353019714355.0 - 6353088378906.0\n",
      "18: Trying 6353019714355.0 - 6353054046630.0\n"
     ]
    },
    {
     "data": {
      "text/plain": [
       "AutoSandwichResult(profit=-6284193032.0, gas_fee=0.007010483569918752, frontrun_input=6353019714355.0, price_baseline=4.3577930944809406e-05, price_frontrun=4.4178991727856794e-05, price_user=4.417908996981208e-05, price_backrun=4.35782501103994e-05)"
      ]
     },
     "execution_count": 40,
     "metadata": {},
     "output_type": "execute_result"
    }
   ],
   "source": [
    "assert pool is not None\n",
    "\n",
    "auto_sandwich_mev(\n",
    "    pool,\n",
    "    swap,\n",
    "    start=1e12,\n",
    "    factor=10,\n",
    "    pool_fee=True,\n",
    "    verbose=True,\n",
    ")"
   ]
  },
  {
   "cell_type": "markdown",
   "metadata": {},
   "source": [
    "## Inspect the sandwiches created"
   ]
  },
  {
   "cell_type": "code",
   "execution_count": 7,
   "metadata": {},
   "outputs": [],
   "source": [
    "engine = create_engine(postgres_uri_mp)\n"
   ]
  },
  {
   "cell_type": "code",
   "execution_count": 23,
   "metadata": {},
   "outputs": [
    {
     "data": {
      "text/plain": [
       "(36102, 21)"
      ]
     },
     "execution_count": 23,
     "metadata": {},
     "output_type": "execute_result"
    }
   ],
   "source": [
    "\n",
    "sw = pd.read_sql_query(\n",
    "    \"\"\"\n",
    "    SELECT * FROM simple_sandwiches\n",
    "    \"\"\",\n",
    "    engine,\n",
    ")\n",
    "\n",
    "sw.shape"
   ]
  },
  {
   "cell_type": "code",
   "execution_count": 33,
   "metadata": {},
   "outputs": [
    {
     "data": {
      "image/png": "[encoded data removed]",
      "text/plain": [
       "<Figure size 1200x400 with 2 Axes>"
      ]
     },
     "metadata": {},
     "output_type": "display_data"
    }
   ],
   "source": [
    "_, (ax1, ax2) = plt.subplots(1, 2, figsize=(12, 4), sharex=True)\n",
    "\n",
    "profits = sw.profit_percent\n",
    "profits = profits[(profits < .5) & (profits > -.5)]\n",
    "\n",
    "(profits * 100).hist(bins=25, ax=ax1)\n",
    "(profits * 100).hist(bins=25, ax=ax2)\n",
    "\n",
    "# Make log y axis\n",
    "ax2.set_yscale('log')\n",
    "\n",
    "# Set titles\n",
    "ax1.set_title('Profit Percent')\n",
    "ax2.set_title('Profit Percent (log scale)')\n",
    "\n",
    "# Set x labels\n",
    "ax1.set_xlabel('Percent')\n",
    "ax2.set_xlabel('Percent')\n",
    "\n",
    "# Set y labels\n",
    "ax1.set_ylabel('Count')\n",
    "ax2.set_ylabel('Count (log  scale)');\n",
    "\n",
    "# Subtitle\n",
    "plt.suptitle('Profit Percent Distribution Across Pools (Simple Sandwich, preliminary)');\n",
    "\n",
    "plt.tight_layout()"
   ]
  },
  {
   "cell_type": "code",
   "execution_count": 16,
   "metadata": {},
   "outputs": [
    {
     "data": {
      "text/plain": [
       "0.8023819645501707"
      ]
     },
     "execution_count": 16,
     "metadata": {},
     "output_type": "execute_result"
    }
   ],
   "source": [
    "sw = sw.assign(profit_profitable=sw.profit_percent.apply(lambda x: x if x > 0 else 0))\n",
    "sw.profit_profitable.mean() * 100"
   ]
  },
  {
   "cell_type": "markdown",
   "metadata": {},
   "source": [
    "### Look at profitability relative to user swap size"
   ]
  },
  {
   "cell_type": "code",
   "execution_count": 27,
   "metadata": {},
   "outputs": [
    {
     "data": {
      "text/html": [
       "<div>\n",
       "<style scoped>\n",
       "    .dataframe tbody tr th:only-of-type {\n",
       "        vertical-align: middle;\n",
       "    }\n",
       "\n",
       "    .dataframe tbody tr th {\n",
       "        vertical-align: top;\n",
       "    }\n",
       "\n",
       "    .dataframe thead th {\n",
       "        text-align: right;\n",
       "    }\n",
       "</style>\n",
       "<table border=\"1\" class=\"dataframe\">\n",
       "  <thead>\n",
       "    <tr style=\"text-align: right;\">\n",
       "      <th></th>\n",
       "      <th>user_hash</th>\n",
       "      <th>block_number</th>\n",
       "      <th>pool</th>\n",
       "      <th>token_in</th>\n",
       "      <th>token_out</th>\n",
       "      <th>profit</th>\n",
       "      <th>profit_nofee</th>\n",
       "      <th>profit_float</th>\n",
       "      <th>profit_nofee_float</th>\n",
       "      <th>gas_fee_eth</th>\n",
       "      <th>frontrun_input</th>\n",
       "      <th>price_baseline</th>\n",
       "      <th>price_frontrun</th>\n",
       "      <th>price_user</th>\n",
       "      <th>price_backrun</th>\n",
       "      <th>profit_percent</th>\n",
       "      <th>frontrun_input_float</th>\n",
       "      <th>created_at</th>\n",
       "      <th>user_input_float</th>\n",
       "      <th>profit_per_user_input</th>\n",
       "      <th>profit_usd</th>\n",
       "    </tr>\n",
       "  </thead>\n",
       "  <tbody>\n",
       "    <tr>\n",
       "      <th>0</th>\n",
       "      <td>0x05d88cc399fbdf412d66e35fce4bc9d1755be1fc440d805a77864c16a01a8838</td>\n",
       "      <td>17753030</td>\n",
       "      <td>0x25392d7129040710f152174af5019004a6f9b18d</td>\n",
       "      <td>0xc02aaa39b223fe8d0a0e5c4f27ead9083c756cc2</td>\n",
       "      <td>0x72e4f9f808c49a2a61de9c5896298920dc4eeea9</td>\n",
       "      <td>1778929879162456.0</td>\n",
       "      <td>1941613944222956.0</td>\n",
       "      <td>1.778930e+15</td>\n",
       "      <td>1.941614e+15</td>\n",
       "      <td>0.003519</td>\n",
       "      <td>25950565338134760</td>\n",
       "      <td>504.388435</td>\n",
       "      <td>535.332921</td>\n",
       "      <td>555.601712</td>\n",
       "      <td>522.437820</td>\n",
       "      <td>0.068551</td>\n",
       "      <td>2.595057e+16</td>\n",
       "      <td>2023-08-17 17:44:43.031393+00:00</td>\n",
       "      <td>1.700000e+16</td>\n",
       "      <td>0.104643</td>\n",
       "      <td>3.331459</td>\n",
       "    </tr>\n",
       "    <tr>\n",
       "      <th>1</th>\n",
       "      <td>0x10efb78bd42f69d7954fbbeec3acf959b8f7f4153a0276dafdd11b0ad4701507</td>\n",
       "      <td>17764448</td>\n",
       "      <td>0x25392d7129040710f152174af5019004a6f9b18d</td>\n",
       "      <td>0xc02aaa39b223fe8d0a0e5c4f27ead9083c756cc2</td>\n",
       "      <td>0x72e4f9f808c49a2a61de9c5896298920dc4eeea9</td>\n",
       "      <td>0.0</td>\n",
       "      <td>0.0</td>\n",
       "      <td>0.000000e+00</td>\n",
       "      <td>0.000000e+00</td>\n",
       "      <td>0.011252</td>\n",
       "      <td>0.0</td>\n",
       "      <td>517.963473</td>\n",
       "      <td>517.963473</td>\n",
       "      <td>529.883886</td>\n",
       "      <td>529.883886</td>\n",
       "      <td>0.000000</td>\n",
       "      <td>0.000000e+00</td>\n",
       "      <td>2023-08-17 17:44:52.795973+00:00</td>\n",
       "      <td>1.000000e+16</td>\n",
       "      <td>0.000000</td>\n",
       "      <td>0.000000</td>\n",
       "    </tr>\n",
       "    <tr>\n",
       "      <th>2</th>\n",
       "      <td>0x49203f7ac3dafa54756f8fc2865e8a7e4fe2c3c45556e341a42e0d4cc4500891</td>\n",
       "      <td>17776161</td>\n",
       "      <td>0x25392d7129040710f152174af5019004a6f9b18d</td>\n",
       "      <td>0x72e4f9f808c49a2a61de9c5896298920dc4eeea9</td>\n",
       "      <td>0xc02aaa39b223fe8d0a0e5c4f27ead9083c756cc2</td>\n",
       "      <td>0.0</td>\n",
       "      <td>0.0</td>\n",
       "      <td>0.000000e+00</td>\n",
       "      <td>0.000000e+00</td>\n",
       "      <td>0.004118</td>\n",
       "      <td>0.0</td>\n",
       "      <td>487.441719</td>\n",
       "      <td>487.441719</td>\n",
       "      <td>477.649065</td>\n",
       "      <td>477.649065</td>\n",
       "      <td>0.000000</td>\n",
       "      <td>0.000000e+00</td>\n",
       "      <td>2023-08-17 17:45:02.491491+00:00</td>\n",
       "      <td>3.527956e+10</td>\n",
       "      <td>0.000000</td>\n",
       "      <td>0.000000</td>\n",
       "    </tr>\n",
       "    <tr>\n",
       "      <th>3</th>\n",
       "      <td>0x05d53b345edade3a4a199480188d6f0bdc5b5bb2d5e8e7b8d6ac3e6dd9f09e6d</td>\n",
       "      <td>17777471</td>\n",
       "      <td>0x25392d7129040710f152174af5019004a6f9b18d</td>\n",
       "      <td>0x72e4f9f808c49a2a61de9c5896298920dc4eeea9</td>\n",
       "      <td>0xc02aaa39b223fe8d0a0e5c4f27ead9083c756cc2</td>\n",
       "      <td>0.0</td>\n",
       "      <td>0.0</td>\n",
       "      <td>0.000000e+00</td>\n",
       "      <td>0.000000e+00</td>\n",
       "      <td>0.007774</td>\n",
       "      <td>0.0</td>\n",
       "      <td>620.815603</td>\n",
       "      <td>620.815603</td>\n",
       "      <td>573.170499</td>\n",
       "      <td>573.170499</td>\n",
       "      <td>0.000000</td>\n",
       "      <td>0.000000e+00</td>\n",
       "      <td>2023-08-17 17:45:12.194309+00:00</td>\n",
       "      <td>1.122925e+11</td>\n",
       "      <td>0.000000</td>\n",
       "      <td>0.000000</td>\n",
       "    </tr>\n",
       "    <tr>\n",
       "      <th>4</th>\n",
       "      <td>0x47c4252a2e6184cf3f2c60f89246a37319e0f295cd89c6dd7f7e504cdee0238b</td>\n",
       "      <td>17780063</td>\n",
       "      <td>0x25392d7129040710f152174af5019004a6f9b18d</td>\n",
       "      <td>0xc02aaa39b223fe8d0a0e5c4f27ead9083c756cc2</td>\n",
       "      <td>0x72e4f9f808c49a2a61de9c5896298920dc4eeea9</td>\n",
       "      <td>7146407185671376.0</td>\n",
       "      <td>7623944577911584.0</td>\n",
       "      <td>7.146407e+15</td>\n",
       "      <td>7.623945e+15</td>\n",
       "      <td>0.007776</td>\n",
       "      <td>77979125976562500</td>\n",
       "      <td>599.760274</td>\n",
       "      <td>692.749431</td>\n",
       "      <td>728.321738</td>\n",
       "      <td>626.503844</td>\n",
       "      <td>0.091645</td>\n",
       "      <td>7.797913e+16</td>\n",
       "      <td>2023-08-17 17:45:15.921576+00:00</td>\n",
       "      <td>2.982980e+16</td>\n",
       "      <td>0.239573</td>\n",
       "      <td>13.404745</td>\n",
       "    </tr>\n",
       "    <tr>\n",
       "      <th>...</th>\n",
       "      <td>...</td>\n",
       "      <td>...</td>\n",
       "      <td>...</td>\n",
       "      <td>...</td>\n",
       "      <td>...</td>\n",
       "      <td>...</td>\n",
       "      <td>...</td>\n",
       "      <td>...</td>\n",
       "      <td>...</td>\n",
       "      <td>...</td>\n",
       "      <td>...</td>\n",
       "      <td>...</td>\n",
       "      <td>...</td>\n",
       "      <td>...</td>\n",
       "      <td>...</td>\n",
       "      <td>...</td>\n",
       "      <td>...</td>\n",
       "      <td>...</td>\n",
       "      <td>...</td>\n",
       "      <td>...</td>\n",
       "      <td>...</td>\n",
       "    </tr>\n",
       "    <tr>\n",
       "      <th>36097</th>\n",
       "      <td>0x03b04379d5c5e05e72aba9e8815383ff6395dd38fdafe44c005abb0f71909397</td>\n",
       "      <td>17556140</td>\n",
       "      <td>0xb23ae88573926edba9c583d6c220212998bf9f67</td>\n",
       "      <td>0xc02aaa39b223fe8d0a0e5c4f27ead9083c756cc2</td>\n",
       "      <td>0x51187cab377ed5e1386042919a9c3d6b5ea402f0</td>\n",
       "      <td>1349180741824848.0</td>\n",
       "      <td>2878939101328064.0</td>\n",
       "      <td>1.349181e+15</td>\n",
       "      <td>2.878939e+15</td>\n",
       "      <td>0.003118</td>\n",
       "      <td>74547271728515620</td>\n",
       "      <td>0.044401</td>\n",
       "      <td>0.045722</td>\n",
       "      <td>0.046608</td>\n",
       "      <td>0.045250</td>\n",
       "      <td>0.018098</td>\n",
       "      <td>7.454727e+16</td>\n",
       "      <td>2023-08-17 14:17:16.204931+00:00</td>\n",
       "      <td>5.000000e+16</td>\n",
       "      <td>0.026984</td>\n",
       "      <td>NaN</td>\n",
       "    </tr>\n",
       "    <tr>\n",
       "      <th>36098</th>\n",
       "      <td>0x1e390263360bd9ffdf972fb854a7abde3e33e0f21ed25c4827122db536139eba</td>\n",
       "      <td>17556138</td>\n",
       "      <td>0xb23ae88573926edba9c583d6c220212998bf9f67</td>\n",
       "      <td>0xc02aaa39b223fe8d0a0e5c4f27ead9083c756cc2</td>\n",
       "      <td>0x51187cab377ed5e1386042919a9c3d6b5ea402f0</td>\n",
       "      <td>18373208045978.0</td>\n",
       "      <td>269980618216038.0</td>\n",
       "      <td>1.837321e+13</td>\n",
       "      <td>2.699806e+14</td>\n",
       "      <td>0.003714</td>\n",
       "      <td>12397050857543944</td>\n",
       "      <td>0.043927</td>\n",
       "      <td>0.044144</td>\n",
       "      <td>0.044624</td>\n",
       "      <td>0.044403</td>\n",
       "      <td>0.001482</td>\n",
       "      <td>1.239705e+16</td>\n",
       "      <td>2023-08-17 14:17:11.201846+00:00</td>\n",
       "      <td>2.700000e+16</td>\n",
       "      <td>0.000680</td>\n",
       "      <td>NaN</td>\n",
       "    </tr>\n",
       "    <tr>\n",
       "      <th>36099</th>\n",
       "      <td>0x846d18990d2922830a5301033706bac0630048ede43e1e579e24db1bbc33c130</td>\n",
       "      <td>17556124</td>\n",
       "      <td>0xb23ae88573926edba9c583d6c220212998bf9f67</td>\n",
       "      <td>0xc02aaa39b223fe8d0a0e5c4f27ead9083c756cc2</td>\n",
       "      <td>0x51187cab377ed5e1386042919a9c3d6b5ea402f0</td>\n",
       "      <td>7258061180084224.0</td>\n",
       "      <td>9923534159879936.0</td>\n",
       "      <td>7.258061e+15</td>\n",
       "      <td>9.923534e+15</td>\n",
       "      <td>0.003560</td>\n",
       "      <td>126422424316406260</td>\n",
       "      <td>0.043462</td>\n",
       "      <td>0.046375</td>\n",
       "      <td>0.048217</td>\n",
       "      <td>0.045105</td>\n",
       "      <td>0.057411</td>\n",
       "      <td>1.264224e+17</td>\n",
       "      <td>2023-08-17 14:17:05.562680+00:00</td>\n",
       "      <td>8.000000e+16</td>\n",
       "      <td>0.090726</td>\n",
       "      <td>NaN</td>\n",
       "    </tr>\n",
       "    <tr>\n",
       "      <th>36100</th>\n",
       "      <td>0xefab8dfa7a69e69532faf244010e84b7a6a3d9332b12faea27d6ba6f2477e324</td>\n",
       "      <td>17561951</td>\n",
       "      <td>0x11b815efb8f581194ae79006d24e0d814b7697f6</td>\n",
       "      <td>0xc02aaa39b223fe8d0a0e5c4f27ead9083c756cc2</td>\n",
       "      <td>0xdac17f958d2ee523a2206206994597c13d831ec7</td>\n",
       "      <td>-1189596804190044200</td>\n",
       "      <td>990094765850624.0</td>\n",
       "      <td>-1.189597e+18</td>\n",
       "      <td>9.900948e+14</td>\n",
       "      <td>0.003051</td>\n",
       "      <td>1193877499999999800000</td>\n",
       "      <td>0.000043</td>\n",
       "      <td>0.000043</td>\n",
       "      <td>0.000043</td>\n",
       "      <td>0.000043</td>\n",
       "      <td>-0.000996</td>\n",
       "      <td>1.193877e+21</td>\n",
       "      <td>2023-08-17 17:47:03.315504+00:00</td>\n",
       "      <td>1.000000e+17</td>\n",
       "      <td>-11.895968</td>\n",
       "      <td>NaN</td>\n",
       "    </tr>\n",
       "    <tr>\n",
       "      <th>36101</th>\n",
       "      <td>0xe1dd3556979a34f827225096a403cc35fa621a1243d691b503dde4562e7792be</td>\n",
       "      <td>17571388</td>\n",
       "      <td>0x60594a405d53811d3bc4766596efd80fd545a270</td>\n",
       "      <td>0xc02aaa39b223fe8d0a0e5c4f27ead9083c756cc2</td>\n",
       "      <td>0x6b175474e89094c44da98b954eedeac495271d0f</td>\n",
       "      <td>-84866436348805120</td>\n",
       "      <td>4975358296064.0</td>\n",
       "      <td>-8.486644e+16</td>\n",
       "      <td>4.975358e+12</td>\n",
       "      <td>0.010729</td>\n",
       "      <td>84979062499999990000</td>\n",
       "      <td>0.023051</td>\n",
       "      <td>0.023108</td>\n",
       "      <td>0.023108</td>\n",
       "      <td>0.023051</td>\n",
       "      <td>-0.000999</td>\n",
       "      <td>8.497906e+19</td>\n",
       "      <td>2023-08-17 17:47:14.896214+00:00</td>\n",
       "      <td>1.000000e+15</td>\n",
       "      <td>-84.866436</td>\n",
       "      <td>NaN</td>\n",
       "    </tr>\n",
       "  </tbody>\n",
       "</table>\n",
       "<p>36102 rows × 21 columns</p>\n",
       "</div>"
      ],
      "text/plain": [
       "                                                                user_hash  \\\n",
       "0      0x05d88cc399fbdf412d66e35fce4bc9d1755be1fc440d805a77864c16a01a8838   \n",
       "1      0x10efb78bd42f69d7954fbbeec3acf959b8f7f4153a0276dafdd11b0ad4701507   \n",
       "2      0x49203f7ac3dafa54756f8fc2865e8a7e4fe2c3c45556e341a42e0d4cc4500891   \n",
       "3      0x05d53b345edade3a4a199480188d6f0bdc5b5bb2d5e8e7b8d6ac3e6dd9f09e6d   \n",
       "4      0x47c4252a2e6184cf3f2c60f89246a37319e0f295cd89c6dd7f7e504cdee0238b   \n",
       "...                                                                   ...   \n",
       "36097  0x03b04379d5c5e05e72aba9e8815383ff6395dd38fdafe44c005abb0f71909397   \n",
       "36098  0x1e390263360bd9ffdf972fb854a7abde3e33e0f21ed25c4827122db536139eba   \n",
       "36099  0x846d18990d2922830a5301033706bac0630048ede43e1e579e24db1bbc33c130   \n",
       "36100  0xefab8dfa7a69e69532faf244010e84b7a6a3d9332b12faea27d6ba6f2477e324   \n",
       "36101  0xe1dd3556979a34f827225096a403cc35fa621a1243d691b503dde4562e7792be   \n",
       "\n",
       "       block_number                                        pool  \\\n",
       "0          17753030  0x25392d7129040710f152174af5019004a6f9b18d   \n",
       "1          17764448  0x25392d7129040710f152174af5019004a6f9b18d   \n",
       "2          17776161  0x25392d7129040710f152174af5019004a6f9b18d   \n",
       "3          17777471  0x25392d7129040710f152174af5019004a6f9b18d   \n",
       "4          17780063  0x25392d7129040710f152174af5019004a6f9b18d   \n",
       "...             ...                                         ...   \n",
       "36097      17556140  0xb23ae88573926edba9c583d6c220212998bf9f67   \n",
       "36098      17556138  0xb23ae88573926edba9c583d6c220212998bf9f67   \n",
       "36099      17556124  0xb23ae88573926edba9c583d6c220212998bf9f67   \n",
       "36100      17561951  0x11b815efb8f581194ae79006d24e0d814b7697f6   \n",
       "36101      17571388  0x60594a405d53811d3bc4766596efd80fd545a270   \n",
       "\n",
       "                                         token_in  \\\n",
       "0      0xc02aaa39b223fe8d0a0e5c4f27ead9083c756cc2   \n",
       "1      0xc02aaa39b223fe8d0a0e5c4f27ead9083c756cc2   \n",
       "2      0x72e4f9f808c49a2a61de9c5896298920dc4eeea9   \n",
       "3      0x72e4f9f808c49a2a61de9c5896298920dc4eeea9   \n",
       "4      0xc02aaa39b223fe8d0a0e5c4f27ead9083c756cc2   \n",
       "...                                           ...   \n",
       "36097  0xc02aaa39b223fe8d0a0e5c4f27ead9083c756cc2   \n",
       "36098  0xc02aaa39b223fe8d0a0e5c4f27ead9083c756cc2   \n",
       "36099  0xc02aaa39b223fe8d0a0e5c4f27ead9083c756cc2   \n",
       "36100  0xc02aaa39b223fe8d0a0e5c4f27ead9083c756cc2   \n",
       "36101  0xc02aaa39b223fe8d0a0e5c4f27ead9083c756cc2   \n",
       "\n",
       "                                        token_out                profit  \\\n",
       "0      0x72e4f9f808c49a2a61de9c5896298920dc4eeea9    1778929879162456.0   \n",
       "1      0x72e4f9f808c49a2a61de9c5896298920dc4eeea9                   0.0   \n",
       "2      0xc02aaa39b223fe8d0a0e5c4f27ead9083c756cc2                   0.0   \n",
       "3      0xc02aaa39b223fe8d0a0e5c4f27ead9083c756cc2                   0.0   \n",
       "4      0x72e4f9f808c49a2a61de9c5896298920dc4eeea9    7146407185671376.0   \n",
       "...                                           ...                   ...   \n",
       "36097  0x51187cab377ed5e1386042919a9c3d6b5ea402f0    1349180741824848.0   \n",
       "36098  0x51187cab377ed5e1386042919a9c3d6b5ea402f0      18373208045978.0   \n",
       "36099  0x51187cab377ed5e1386042919a9c3d6b5ea402f0    7258061180084224.0   \n",
       "36100  0xdac17f958d2ee523a2206206994597c13d831ec7  -1189596804190044200   \n",
       "36101  0x6b175474e89094c44da98b954eedeac495271d0f    -84866436348805120   \n",
       "\n",
       "             profit_nofee  profit_float  profit_nofee_float  gas_fee_eth  \\\n",
       "0      1941613944222956.0  1.778930e+15        1.941614e+15     0.003519   \n",
       "1                     0.0  0.000000e+00        0.000000e+00     0.011252   \n",
       "2                     0.0  0.000000e+00        0.000000e+00     0.004118   \n",
       "3                     0.0  0.000000e+00        0.000000e+00     0.007774   \n",
       "4      7623944577911584.0  7.146407e+15        7.623945e+15     0.007776   \n",
       "...                   ...           ...                 ...          ...   \n",
       "36097  2878939101328064.0  1.349181e+15        2.878939e+15     0.003118   \n",
       "36098   269980618216038.0  1.837321e+13        2.699806e+14     0.003714   \n",
       "36099  9923534159879936.0  7.258061e+15        9.923534e+15     0.003560   \n",
       "36100   990094765850624.0 -1.189597e+18        9.900948e+14     0.003051   \n",
       "36101     4975358296064.0 -8.486644e+16        4.975358e+12     0.010729   \n",
       "\n",
       "               frontrun_input  price_baseline  price_frontrun  price_user  \\\n",
       "0           25950565338134760      504.388435      535.332921  555.601712   \n",
       "1                         0.0      517.963473      517.963473  529.883886   \n",
       "2                         0.0      487.441719      487.441719  477.649065   \n",
       "3                         0.0      620.815603      620.815603  573.170499   \n",
       "4           77979125976562500      599.760274      692.749431  728.321738   \n",
       "...                       ...             ...             ...         ...   \n",
       "36097       74547271728515620        0.044401        0.045722    0.046608   \n",
       "36098       12397050857543944        0.043927        0.044144    0.044624   \n",
       "36099      126422424316406260        0.043462        0.046375    0.048217   \n",
       "36100  1193877499999999800000        0.000043        0.000043    0.000043   \n",
       "36101    84979062499999990000        0.023051        0.023108    0.023108   \n",
       "\n",
       "       price_backrun  profit_percent  frontrun_input_float  \\\n",
       "0         522.437820        0.068551          2.595057e+16   \n",
       "1         529.883886        0.000000          0.000000e+00   \n",
       "2         477.649065        0.000000          0.000000e+00   \n",
       "3         573.170499        0.000000          0.000000e+00   \n",
       "4         626.503844        0.091645          7.797913e+16   \n",
       "...              ...             ...                   ...   \n",
       "36097       0.045250        0.018098          7.454727e+16   \n",
       "36098       0.044403        0.001482          1.239705e+16   \n",
       "36099       0.045105        0.057411          1.264224e+17   \n",
       "36100       0.000043       -0.000996          1.193877e+21   \n",
       "36101       0.023051       -0.000999          8.497906e+19   \n",
       "\n",
       "                            created_at  user_input_float  \\\n",
       "0     2023-08-17 17:44:43.031393+00:00      1.700000e+16   \n",
       "1     2023-08-17 17:44:52.795973+00:00      1.000000e+16   \n",
       "2     2023-08-17 17:45:02.491491+00:00      3.527956e+10   \n",
       "3     2023-08-17 17:45:12.194309+00:00      1.122925e+11   \n",
       "4     2023-08-17 17:45:15.921576+00:00      2.982980e+16   \n",
       "...                                ...               ...   \n",
       "36097 2023-08-17 14:17:16.204931+00:00      5.000000e+16   \n",
       "36098 2023-08-17 14:17:11.201846+00:00      2.700000e+16   \n",
       "36099 2023-08-17 14:17:05.562680+00:00      8.000000e+16   \n",
       "36100 2023-08-17 17:47:03.315504+00:00      1.000000e+17   \n",
       "36101 2023-08-17 17:47:14.896214+00:00      1.000000e+15   \n",
       "\n",
       "       profit_per_user_input  profit_usd  \n",
       "0                   0.104643    3.331459  \n",
       "1                   0.000000    0.000000  \n",
       "2                   0.000000    0.000000  \n",
       "3                   0.000000    0.000000  \n",
       "4                   0.239573   13.404745  \n",
       "...                      ...         ...  \n",
       "36097               0.026984         NaN  \n",
       "36098               0.000680         NaN  \n",
       "36099               0.090726         NaN  \n",
       "36100             -11.895968         NaN  \n",
       "36101             -84.866436         NaN  \n",
       "\n",
       "[36102 rows x 21 columns]"
      ]
     },
     "execution_count": 27,
     "metadata": {},
     "output_type": "execute_result"
    }
   ],
   "source": []
  },
  {
   "cell_type": "code",
   "execution_count": 25,
   "metadata": {},
   "outputs": [
    {
     "data": {
      "text/html": [
       "<div>\n",
       "<style scoped>\n",
       "    .dataframe tbody tr th:only-of-type {\n",
       "        vertical-align: middle;\n",
       "    }\n",
       "\n",
       "    .dataframe tbody tr th {\n",
       "        vertical-align: top;\n",
       "    }\n",
       "\n",
       "    .dataframe thead th {\n",
       "        text-align: right;\n",
       "    }\n",
       "</style>\n",
       "<table border=\"1\" class=\"dataframe\">\n",
       "  <thead>\n",
       "    <tr style=\"text-align: right;\">\n",
       "      <th></th>\n",
       "      <th>block_timestamp</th>\n",
       "      <th>block_number</th>\n",
       "      <th>transaction_hash</th>\n",
       "      <th>log_index</th>\n",
       "      <th>token0</th>\n",
       "      <th>token1</th>\n",
       "      <th>fee</th>\n",
       "      <th>tick_spacing</th>\n",
       "      <th>token0symbol</th>\n",
       "      <th>decimals0</th>\n",
       "      <th>token1symbol</th>\n",
       "      <th>decimals1</th>\n",
       "    </tr>\n",
       "    <tr>\n",
       "      <th>pool</th>\n",
       "      <th></th>\n",
       "      <th></th>\n",
       "      <th></th>\n",
       "      <th></th>\n",
       "      <th></th>\n",
       "      <th></th>\n",
       "      <th></th>\n",
       "      <th></th>\n",
       "      <th></th>\n",
       "      <th></th>\n",
       "      <th></th>\n",
       "      <th></th>\n",
       "    </tr>\n",
       "  </thead>\n",
       "  <tbody>\n",
       "    <tr>\n",
       "      <th>0x3ffedcddd268511acc44ae67845bdd56c8417fa4</th>\n",
       "      <td>2022-05-07 04:04:57+00:00</td>\n",
       "      <td>14727619</td>\n",
       "      <td>0x608b28353bd9e08824c450b60aeec0e24fdf8921049aa0acbc79c2276d0689f9</td>\n",
       "      <td>222</td>\n",
       "      <td>0x2260fac5e5542a773aa44fbcfedf7c193bc2c599</td>\n",
       "      <td>0x419d0d8bdd9af5e606ae2232ed285aff190e711b</td>\n",
       "      <td>100</td>\n",
       "      <td>1</td>\n",
       "      <td>WBTC</td>\n",
       "      <td>8.0</td>\n",
       "      <td>FUN</td>\n",
       "      <td>8.0</td>\n",
       "    </tr>\n",
       "    <tr>\n",
       "      <th>0xf8bc8c39a82506dc0709e626b2e882a014bb9838</th>\n",
       "      <td>2023-04-12 09:52:35+00:00</td>\n",
       "      <td>17031160</td>\n",
       "      <td>0x8c84ecaabba61d00af64fe4f272404d52cb06f60656ce0c1d467934f8fbed168</td>\n",
       "      <td>236</td>\n",
       "      <td>0x2b591e99afe9f32eaa6214f7b7629768c40eeb39</td>\n",
       "      <td>0x66a0f676479cee1d7373f3dc2e2952778bff5bd6</td>\n",
       "      <td>100</td>\n",
       "      <td>1</td>\n",
       "      <td>HEX</td>\n",
       "      <td>8.0</td>\n",
       "      <td>WISE</td>\n",
       "      <td>18.0</td>\n",
       "    </tr>\n",
       "    <tr>\n",
       "      <th>0xe82c5c1ec82124ddf833800a3b61a3ec7106b18b</th>\n",
       "      <td>2021-11-13 07:18:03+00:00</td>\n",
       "      <td>13606313</td>\n",
       "      <td>0x505efb367d2a29b2ddc89f38f36a20216238cd30673bab9847f3333e22a4945a</td>\n",
       "      <td>307</td>\n",
       "      <td>0x056fd409e1d7a124bd7017459dfea2f387b6d5cd</td>\n",
       "      <td>0x6b175474e89094c44da98b954eedeac495271d0f</td>\n",
       "      <td>100</td>\n",
       "      <td>1</td>\n",
       "      <td>GUSD</td>\n",
       "      <td>2.0</td>\n",
       "      <td>DAI</td>\n",
       "      <td>18.0</td>\n",
       "    </tr>\n",
       "    <tr>\n",
       "      <th>0x75bff91af9878f5ec3fede9b52d51159afc2430a</th>\n",
       "      <td>2022-05-07 04:20:49+00:00</td>\n",
       "      <td>14727691</td>\n",
       "      <td>0x2e3cc9a2dfa8d48930054952a844bef7303304250b738a445b9e1d1483c70f0b</td>\n",
       "      <td>371</td>\n",
       "      <td>0x419d0d8bdd9af5e606ae2232ed285aff190e711b</td>\n",
       "      <td>0x6b175474e89094c44da98b954eedeac495271d0f</td>\n",
       "      <td>100</td>\n",
       "      <td>1</td>\n",
       "      <td>FUN</td>\n",
       "      <td>8.0</td>\n",
       "      <td>DAI</td>\n",
       "      <td>18.0</td>\n",
       "    </tr>\n",
       "    <tr>\n",
       "      <th>0xd1000344c3a00846462b4624bb452621cf2ce001</th>\n",
       "      <td>2021-11-13 07:18:03+00:00</td>\n",
       "      <td>13606313</td>\n",
       "      <td>0xf9d2dab791e3a006f2ffdade52cbf6c4a8c49a9c8cba5dbe4793014d5e2b2d76</td>\n",
       "      <td>301</td>\n",
       "      <td>0x4fabb145d64652a948d72533023f6e7a623c7c53</td>\n",
       "      <td>0x6b175474e89094c44da98b954eedeac495271d0f</td>\n",
       "      <td>100</td>\n",
       "      <td>1</td>\n",
       "      <td>BUSD</td>\n",
       "      <td>18.0</td>\n",
       "      <td>DAI</td>\n",
       "      <td>18.0</td>\n",
       "    </tr>\n",
       "  </tbody>\n",
       "</table>\n",
       "</div>"
      ],
      "text/plain": [
       "                                                     block_timestamp  \\\n",
       "pool                                                                   \n",
       "0x3ffedcddd268511acc44ae67845bdd56c8417fa4 2022-05-07 04:04:57+00:00   \n",
       "0xf8bc8c39a82506dc0709e626b2e882a014bb9838 2023-04-12 09:52:35+00:00   \n",
       "0xe82c5c1ec82124ddf833800a3b61a3ec7106b18b 2021-11-13 07:18:03+00:00   \n",
       "0x75bff91af9878f5ec3fede9b52d51159afc2430a 2022-05-07 04:20:49+00:00   \n",
       "0xd1000344c3a00846462b4624bb452621cf2ce001 2021-11-13 07:18:03+00:00   \n",
       "\n",
       "                                            block_number  \\\n",
       "pool                                                       \n",
       "0x3ffedcddd268511acc44ae67845bdd56c8417fa4      14727619   \n",
       "0xf8bc8c39a82506dc0709e626b2e882a014bb9838      17031160   \n",
       "0xe82c5c1ec82124ddf833800a3b61a3ec7106b18b      13606313   \n",
       "0x75bff91af9878f5ec3fede9b52d51159afc2430a      14727691   \n",
       "0xd1000344c3a00846462b4624bb452621cf2ce001      13606313   \n",
       "\n",
       "                                                                                              transaction_hash  \\\n",
       "pool                                                                                                             \n",
       "0x3ffedcddd268511acc44ae67845bdd56c8417fa4  0x608b28353bd9e08824c450b60aeec0e24fdf8921049aa0acbc79c2276d0689f9   \n",
       "0xf8bc8c39a82506dc0709e626b2e882a014bb9838  0x8c84ecaabba61d00af64fe4f272404d52cb06f60656ce0c1d467934f8fbed168   \n",
       "0xe82c5c1ec82124ddf833800a3b61a3ec7106b18b  0x505efb367d2a29b2ddc89f38f36a20216238cd30673bab9847f3333e22a4945a   \n",
       "0x75bff91af9878f5ec3fede9b52d51159afc2430a  0x2e3cc9a2dfa8d48930054952a844bef7303304250b738a445b9e1d1483c70f0b   \n",
       "0xd1000344c3a00846462b4624bb452621cf2ce001  0xf9d2dab791e3a006f2ffdade52cbf6c4a8c49a9c8cba5dbe4793014d5e2b2d76   \n",
       "\n",
       "                                            log_index  \\\n",
       "pool                                                    \n",
       "0x3ffedcddd268511acc44ae67845bdd56c8417fa4        222   \n",
       "0xf8bc8c39a82506dc0709e626b2e882a014bb9838        236   \n",
       "0xe82c5c1ec82124ddf833800a3b61a3ec7106b18b        307   \n",
       "0x75bff91af9878f5ec3fede9b52d51159afc2430a        371   \n",
       "0xd1000344c3a00846462b4624bb452621cf2ce001        301   \n",
       "\n",
       "                                                                                token0  \\\n",
       "pool                                                                                     \n",
       "0x3ffedcddd268511acc44ae67845bdd56c8417fa4  0x2260fac5e5542a773aa44fbcfedf7c193bc2c599   \n",
       "0xf8bc8c39a82506dc0709e626b2e882a014bb9838  0x2b591e99afe9f32eaa6214f7b7629768c40eeb39   \n",
       "0xe82c5c1ec82124ddf833800a3b61a3ec7106b18b  0x056fd409e1d7a124bd7017459dfea2f387b6d5cd   \n",
       "0x75bff91af9878f5ec3fede9b52d51159afc2430a  0x419d0d8bdd9af5e606ae2232ed285aff190e711b   \n",
       "0xd1000344c3a00846462b4624bb452621cf2ce001  0x4fabb145d64652a948d72533023f6e7a623c7c53   \n",
       "\n",
       "                                                                                token1  \\\n",
       "pool                                                                                     \n",
       "0x3ffedcddd268511acc44ae67845bdd56c8417fa4  0x419d0d8bdd9af5e606ae2232ed285aff190e711b   \n",
       "0xf8bc8c39a82506dc0709e626b2e882a014bb9838  0x66a0f676479cee1d7373f3dc2e2952778bff5bd6   \n",
       "0xe82c5c1ec82124ddf833800a3b61a3ec7106b18b  0x6b175474e89094c44da98b954eedeac495271d0f   \n",
       "0x75bff91af9878f5ec3fede9b52d51159afc2430a  0x6b175474e89094c44da98b954eedeac495271d0f   \n",
       "0xd1000344c3a00846462b4624bb452621cf2ce001  0x6b175474e89094c44da98b954eedeac495271d0f   \n",
       "\n",
       "                                            fee tick_spacing token0symbol  \\\n",
       "pool                                                                        \n",
       "0x3ffedcddd268511acc44ae67845bdd56c8417fa4  100            1         WBTC   \n",
       "0xf8bc8c39a82506dc0709e626b2e882a014bb9838  100            1          HEX   \n",
       "0xe82c5c1ec82124ddf833800a3b61a3ec7106b18b  100            1         GUSD   \n",
       "0x75bff91af9878f5ec3fede9b52d51159afc2430a  100            1          FUN   \n",
       "0xd1000344c3a00846462b4624bb452621cf2ce001  100            1         BUSD   \n",
       "\n",
       "                                            decimals0 token1symbol  decimals1  \n",
       "pool                                                                           \n",
       "0x3ffedcddd268511acc44ae67845bdd56c8417fa4        8.0          FUN        8.0  \n",
       "0xf8bc8c39a82506dc0709e626b2e882a014bb9838        8.0         WISE       18.0  \n",
       "0xe82c5c1ec82124ddf833800a3b61a3ec7106b18b        2.0          DAI       18.0  \n",
       "0x75bff91af9878f5ec3fede9b52d51159afc2430a        8.0          DAI       18.0  \n",
       "0xd1000344c3a00846462b4624bb452621cf2ce001       18.0          DAI       18.0  "
      ]
     },
     "execution_count": 25,
     "metadata": {},
     "output_type": "execute_result"
    }
   ],
   "source": [
    "engine_us = create_engine(postgres_uri_us)\n",
    "\n",
    "pool_info = pd.read_sql_query(\"SELECT * FROM token_info\", engine_us).set_index('pool')\n",
    "\n",
    "pool_info.head()"
   ]
  },
  {
   "cell_type": "code",
   "execution_count": null,
   "metadata": {},
   "outputs": [],
   "source": [
    "pool_info = pool_info.assign(pool_name=pool_info.apply(lambda x: f\"{x['token0symbol']}-{x['token1symbol']}\", axis=1))\n",
    "\n",
    "pool_info = pool_info[['pool_name']]"
   ]
  },
  {
   "cell_type": "code",
   "execution_count": 30,
   "metadata": {},
   "outputs": [],
   "source": [
    "sw = pd.merge(sw, pool_info, on='pool', how='left')"
   ]
  },
  {
   "cell_type": "code",
   "execution_count": 31,
   "metadata": {},
   "outputs": [
    {
     "data": {
      "image/png": "[encoded data removed]",
      "text/plain": [
       "<Figure size 1600x500 with 1 Axes>"
      ]
     },
     "metadata": {},
     "output_type": "display_data"
    }
   ],
   "source": [
    "_, ax = plt.subplots(figsize=(16, 5))\n",
    "mean_per_pool = sw.groupby('pool_name').profit_profitable.mean()\n",
    "(mean_per_pool[mean_per_pool > 0] * 100).sort_values(ascending=False).plot.bar(ax=ax)\n",
    "\n",
    "ax.set_yscale('log');"
   ]
  },
  {
   "cell_type": "markdown",
   "metadata": {},
   "source": [
    "## Add profit values in USD"
   ]
  },
  {
   "cell_type": "code",
   "execution_count": 8,
   "metadata": {},
   "outputs": [],
   "source": [
    "from sqlalchemy import create_engine, Column, String, Float, Integer, MetaData, Table\n",
    "from sqlalchemy.orm import sessionmaker\n",
    "\n",
    "SessionLocal = sessionmaker(bind=engine)"
   ]
  },
  {
   "cell_type": "code",
   "execution_count": 18,
   "metadata": {},
   "outputs": [
    {
     "data": {
      "text/html": [
       "<div>\n",
       "<style scoped>\n",
       "    .dataframe tbody tr th:only-of-type {\n",
       "        vertical-align: middle;\n",
       "    }\n",
       "\n",
       "    .dataframe tbody tr th {\n",
       "        vertical-align: top;\n",
       "    }\n",
       "\n",
       "    .dataframe thead th {\n",
       "        text-align: right;\n",
       "    }\n",
       "</style>\n",
       "<table border=\"1\" class=\"dataframe\">\n",
       "  <thead>\n",
       "    <tr style=\"text-align: right;\">\n",
       "      <th></th>\n",
       "      <th>decimals</th>\n",
       "    </tr>\n",
       "    <tr>\n",
       "      <th>token</th>\n",
       "      <th></th>\n",
       "    </tr>\n",
       "  </thead>\n",
       "  <tbody>\n",
       "    <tr>\n",
       "      <th>0x2260fac5e5542a773aa44fbcfedf7c193bc2c599</th>\n",
       "      <td>8.0</td>\n",
       "    </tr>\n",
       "    <tr>\n",
       "      <th>0x2b591e99afe9f32eaa6214f7b7629768c40eeb39</th>\n",
       "      <td>8.0</td>\n",
       "    </tr>\n",
       "    <tr>\n",
       "      <th>0x056fd409e1d7a124bd7017459dfea2f387b6d5cd</th>\n",
       "      <td>2.0</td>\n",
       "    </tr>\n",
       "    <tr>\n",
       "      <th>0x419d0d8bdd9af5e606ae2232ed285aff190e711b</th>\n",
       "      <td>8.0</td>\n",
       "    </tr>\n",
       "    <tr>\n",
       "      <th>0x4fabb145d64652a948d72533023f6e7a623c7c53</th>\n",
       "      <td>18.0</td>\n",
       "    </tr>\n",
       "    <tr>\n",
       "      <th>...</th>\n",
       "      <td>...</td>\n",
       "    </tr>\n",
       "    <tr>\n",
       "      <th>0xe47c9edd0c2ec87c4a60b164f0564ef897e338fb</th>\n",
       "      <td>18.0</td>\n",
       "    </tr>\n",
       "    <tr>\n",
       "      <th>0xed21adccd7fb37d94114b211cb9ee7d602dfdb3f</th>\n",
       "      <td>2.0</td>\n",
       "    </tr>\n",
       "    <tr>\n",
       "      <th>0xf55b21f5bc66493d0abd269537e97f6b79da2b8a</th>\n",
       "      <td>18.0</td>\n",
       "    </tr>\n",
       "    <tr>\n",
       "      <th>0xf630a4234c9190a85e3d7bfc332f38a6a482ba05</th>\n",
       "      <td>18.0</td>\n",
       "    </tr>\n",
       "    <tr>\n",
       "      <th>0xfe03ba2d4245464df2dfa40110f901daac2a88e3</th>\n",
       "      <td>18.0</td>\n",
       "    </tr>\n",
       "  </tbody>\n",
       "</table>\n",
       "<p>9424 rows × 1 columns</p>\n",
       "</div>"
      ],
      "text/plain": [
       "                                            decimals\n",
       "token                                               \n",
       "0x2260fac5e5542a773aa44fbcfedf7c193bc2c599       8.0\n",
       "0x2b591e99afe9f32eaa6214f7b7629768c40eeb39       8.0\n",
       "0x056fd409e1d7a124bd7017459dfea2f387b6d5cd       2.0\n",
       "0x419d0d8bdd9af5e606ae2232ed285aff190e711b       8.0\n",
       "0x4fabb145d64652a948d72533023f6e7a623c7c53      18.0\n",
       "...                                              ...\n",
       "0xe47c9edd0c2ec87c4a60b164f0564ef897e338fb      18.0\n",
       "0xed21adccd7fb37d94114b211cb9ee7d602dfdb3f       2.0\n",
       "0xf55b21f5bc66493d0abd269537e97f6b79da2b8a      18.0\n",
       "0xf630a4234c9190a85e3d7bfc332f38a6a482ba05      18.0\n",
       "0xfe03ba2d4245464df2dfa40110f901daac2a88e3      18.0\n",
       "\n",
       "[9424 rows x 1 columns]"
      ]
     },
     "execution_count": 18,
     "metadata": {},
     "output_type": "execute_result"
    }
   ],
   "source": [
    "engine_us = create_engine(postgres_uri_us)\n",
    "\n",
    "token_info = pd.read_sql_table('token_info', engine_us)\n",
    "\n",
    "token_info0 = token_info[[\"token0\", \"decimals0\"]].rename(columns={\"token0\": \"token\", \"decimals0\": \"decimals\"})\n",
    "token_info1 = token_info[[\"token1\", \"decimals1\"]].rename(columns={\"token1\": \"token\", \"decimals1\": \"decimals\"})\n",
    "\n",
    "token_info = pd.concat([token_info0, token_info1], ignore_index=True).drop_duplicates().reset_index(drop=True).set_index(\"token\")\n",
    "\n",
    "token_info = token_info.dropna()\n",
    "\n",
    "token_info"
   ]
  },
  {
   "cell_type": "code",
   "execution_count": 21,
   "metadata": {},
   "outputs": [
    {
     "name": "stderr",
     "output_type": "stream",
     "text": [
      "  0%|          | 21/35869 [00:17<7:48:33,  1.28it/s, errors=1]"
     ]
    },
    {
     "name": "stdout",
     "output_type": "stream",
     "text": [
      "'0x3f63d380987f5d7c65b31a2a9d99bc2c446f920b'\n"
     ]
    },
    {
     "name": "stderr",
     "output_type": "stream",
     "text": [
      "  0%|          | 24/35869 [00:20<7:58:45,  1.25it/s, errors=2]"
     ]
    },
    {
     "name": "stdout",
     "output_type": "stream",
     "text": [
      "(500)\n",
      "Reason: Internal Server Error\n",
      "HTTP response headers: HTTPHeaderDict({'Date': 'Thu, 17 Aug 2023 21:13:26 GMT', 'Content-Type': 'application/json; charset=utf-8', 'Content-Length': '2', 'Connection': 'keep-alive', 'X-Powered-By': 'Express', 'Access-Control-Allow-Origin': '*', 'x-request-weight': '10', 'ETag': 'W/\"2-vyGp6PvFo4RvsFtPoIWeCReyIC8\"', 'Vary': 'Accept-Encoding', 'CF-Cache-Status': 'DYNAMIC', 'Server': 'cloudflare', 'CF-RAY': '7f84ebc16dde8269-IAD'})\n",
      "HTTP response body: b'{}'\n",
      "\n"
     ]
    },
    {
     "name": "stderr",
     "output_type": "stream",
     "text": [
      "  0%|          | 26/35869 [00:21<7:13:10,  1.38it/s, errors=3]"
     ]
    },
    {
     "name": "stdout",
     "output_type": "stream",
     "text": [
      "'0x3f63d380987f5d7c65b31a2a9d99bc2c446f920b'\n"
     ]
    },
    {
     "name": "stderr",
     "output_type": "stream",
     "text": [
      "  0%|          | 27/35869 [00:22<6:15:53,  1.59it/s, errors=4]"
     ]
    },
    {
     "name": "stdout",
     "output_type": "stream",
     "text": [
      "'0x3f63d380987f5d7c65b31a2a9d99bc2c446f920b'\n"
     ]
    },
    {
     "name": "stderr",
     "output_type": "stream",
     "text": [
      "  0%|          | 28/35869 [00:22<5:37:00,  1.77it/s, errors=5]"
     ]
    },
    {
     "name": "stdout",
     "output_type": "stream",
     "text": [
      "'0x3f63d380987f5d7c65b31a2a9d99bc2c446f920b'\n"
     ]
    },
    {
     "name": "stderr",
     "output_type": "stream",
     "text": [
      "  0%|          | 29/35869 [00:22<5:11:33,  1.92it/s, errors=6]"
     ]
    },
    {
     "name": "stdout",
     "output_type": "stream",
     "text": [
      "'0x3f63d380987f5d7c65b31a2a9d99bc2c446f920b'\n"
     ]
    },
    {
     "name": "stderr",
     "output_type": "stream",
     "text": [
      "  0%|          | 30/35869 [00:23<4:56:37,  2.01it/s, errors=7]"
     ]
    },
    {
     "name": "stdout",
     "output_type": "stream",
     "text": [
      "'0x3f63d380987f5d7c65b31a2a9d99bc2c446f920b'\n"
     ]
    },
    {
     "name": "stderr",
     "output_type": "stream",
     "text": [
      "  0%|          | 31/35869 [00:23<4:42:21,  2.12it/s, errors=8]"
     ]
    },
    {
     "name": "stdout",
     "output_type": "stream",
     "text": [
      "'0x3f63d380987f5d7c65b31a2a9d99bc2c446f920b'\n"
     ]
    },
    {
     "name": "stderr",
     "output_type": "stream",
     "text": [
      "  0%|          | 32/35869 [00:24<4:33:48,  2.18it/s, errors=9]"
     ]
    },
    {
     "name": "stdout",
     "output_type": "stream",
     "text": [
      "'0x3f63d380987f5d7c65b31a2a9d99bc2c446f920b'\n"
     ]
    },
    {
     "name": "stderr",
     "output_type": "stream",
     "text": [
      "  0%|          | 33/35869 [00:25<5:26:41,  1.83it/s, errors=10]"
     ]
    },
    {
     "name": "stdout",
     "output_type": "stream",
     "text": [
      "'0x3f63d380987f5d7c65b31a2a9d99bc2c446f920b'\n"
     ]
    },
    {
     "name": "stderr",
     "output_type": "stream",
     "text": [
      "  0%|          | 34/35869 [00:25<5:52:05,  1.70it/s, errors=11]"
     ]
    },
    {
     "name": "stdout",
     "output_type": "stream",
     "text": [
      "'0x3f63d380987f5d7c65b31a2a9d99bc2c446f920b'\n"
     ]
    },
    {
     "name": "stderr",
     "output_type": "stream",
     "text": [
      "  0%|          | 39/35869 [00:30<8:02:56,  1.24it/s, errors=12]"
     ]
    },
    {
     "name": "stdout",
     "output_type": "stream",
     "text": [
      "'0x3f63d380987f5d7c65b31a2a9d99bc2c446f920b'\n"
     ]
    },
    {
     "name": "stderr",
     "output_type": "stream",
     "text": [
      "  0%|          | 46/35869 [00:37<8:17:55,  1.20it/s, errors=13] "
     ]
    },
    {
     "name": "stdout",
     "output_type": "stream",
     "text": [
      "'0x3f63d380987f5d7c65b31a2a9d99bc2c446f920b'\n"
     ]
    },
    {
     "name": "stderr",
     "output_type": "stream",
     "text": [
      "  0%|          | 47/35869 [00:37<7:13:39,  1.38it/s, errors=14]"
     ]
    },
    {
     "name": "stdout",
     "output_type": "stream",
     "text": [
      "'0x3f63d380987f5d7c65b31a2a9d99bc2c446f920b'\n"
     ]
    },
    {
     "name": "stderr",
     "output_type": "stream",
     "text": [
      "  0%|          | 51/35869 [00:41<7:43:04,  1.29it/s, errors=15]"
     ]
    },
    {
     "name": "stdout",
     "output_type": "stream",
     "text": [
      "'0x3f63d380987f5d7c65b31a2a9d99bc2c446f920b'\n"
     ]
    },
    {
     "name": "stderr",
     "output_type": "stream",
     "text": [
      "  0%|          | 54/35869 [00:43<7:56:01,  1.25it/s, errors=16]"
     ]
    },
    {
     "name": "stdout",
     "output_type": "stream",
     "text": [
      "'0x2698931002b10a2206c3f8b36c8c168b01ea6c25'\n"
     ]
    },
    {
     "name": "stderr",
     "output_type": "stream",
     "text": [
      "  0%|          | 56/35869 [00:44<5:14:07,  1.90it/s, errors=18]"
     ]
    },
    {
     "name": "stdout",
     "output_type": "stream",
     "text": [
      "'0x2698931002b10a2206c3f8b36c8c168b01ea6c25'\n",
      "'0x2698931002b10a2206c3f8b36c8c168b01ea6c25'\n"
     ]
    },
    {
     "name": "stderr",
     "output_type": "stream",
     "text": [
      "  0%|          | 57/35869 [00:44<4:51:08,  2.05it/s, errors=19]"
     ]
    },
    {
     "name": "stdout",
     "output_type": "stream",
     "text": [
      "'0x2698931002b10a2206c3f8b36c8c168b01ea6c25'\n"
     ]
    },
    {
     "name": "stderr",
     "output_type": "stream",
     "text": [
      "  0%|          | 60/35869 [00:47<6:05:28,  1.63it/s, errors=20]"
     ]
    },
    {
     "name": "stdout",
     "output_type": "stream",
     "text": [
      "(500)\n",
      "Reason: Internal Server Error\n",
      "HTTP response headers: HTTPHeaderDict({'Date': 'Thu, 17 Aug 2023 21:13:53 GMT', 'Content-Type': 'application/json; charset=utf-8', 'Content-Length': '2', 'Connection': 'keep-alive', 'X-Powered-By': 'Express', 'Access-Control-Allow-Origin': '*', 'x-request-weight': '10', 'ETag': 'W/\"2-vyGp6PvFo4RvsFtPoIWeCReyIC8\"', 'Vary': 'Accept-Encoding', 'CF-Cache-Status': 'DYNAMIC', 'Server': 'cloudflare', 'CF-RAY': '7f84ec6a1dd420ac-IAD'})\n",
      "HTTP response body: b'{}'\n",
      "\n"
     ]
    },
    {
     "name": "stderr",
     "output_type": "stream",
     "text": [
      "  0%|          | 64/35869 [00:50<7:29:59,  1.33it/s, errors=21]"
     ]
    },
    {
     "name": "stdout",
     "output_type": "stream",
     "text": [
      "'0x2698931002b10a2206c3f8b36c8c168b01ea6c25'\n"
     ]
    },
    {
     "name": "stderr",
     "output_type": "stream",
     "text": [
      "  0%|          | 65/35869 [00:51<6:31:17,  1.53it/s, errors=22]"
     ]
    },
    {
     "name": "stdout",
     "output_type": "stream",
     "text": [
      "'0x2698931002b10a2206c3f8b36c8c168b01ea6c25'\n"
     ]
    },
    {
     "name": "stderr",
     "output_type": "stream",
     "text": [
      "  0%|          | 66/35869 [00:51<5:48:53,  1.71it/s, errors=23]"
     ]
    },
    {
     "name": "stdout",
     "output_type": "stream",
     "text": [
      "'0x2698931002b10a2206c3f8b36c8c168b01ea6c25'\n"
     ]
    },
    {
     "name": "stderr",
     "output_type": "stream",
     "text": [
      "  0%|          | 67/35869 [00:51<5:16:25,  1.89it/s, errors=24]"
     ]
    },
    {
     "name": "stdout",
     "output_type": "stream",
     "text": [
      "'0x2698931002b10a2206c3f8b36c8c168b01ea6c25'\n"
     ]
    },
    {
     "name": "stderr",
     "output_type": "stream",
     "text": [
      "  0%|          | 68/35869 [00:52<4:53:15,  2.03it/s, errors=25]"
     ]
    },
    {
     "name": "stdout",
     "output_type": "stream",
     "text": [
      "'0x2698931002b10a2206c3f8b36c8c168b01ea6c25'\n"
     ]
    },
    {
     "name": "stderr",
     "output_type": "stream",
     "text": [
      "  0%|          | 69/35869 [00:52<4:38:13,  2.14it/s, errors=26]"
     ]
    },
    {
     "name": "stdout",
     "output_type": "stream",
     "text": [
      "'0x2698931002b10a2206c3f8b36c8c168b01ea6c25'\n"
     ]
    },
    {
     "name": "stderr",
     "output_type": "stream",
     "text": [
      "  0%|          | 74/35869 [00:57<7:30:01,  1.33it/s, errors=27]"
     ]
    },
    {
     "name": "stdout",
     "output_type": "stream",
     "text": [
      "'0x2698931002b10a2206c3f8b36c8c168b01ea6c25'\n"
     ]
    },
    {
     "name": "stderr",
     "output_type": "stream",
     "text": [
      "  0%|          | 75/35869 [00:57<6:28:36,  1.54it/s, errors=28]"
     ]
    },
    {
     "name": "stdout",
     "output_type": "stream",
     "text": [
      "'0x2698931002b10a2206c3f8b36c8c168b01ea6c25'\n"
     ]
    },
    {
     "name": "stderr",
     "output_type": "stream",
     "text": [
      "  0%|          | 79/35869 [01:01<7:34:43,  1.31it/s, errors=29]"
     ]
    },
    {
     "name": "stdout",
     "output_type": "stream",
     "text": [
      "'0x2698931002b10a2206c3f8b36c8c168b01ea6c25'\n"
     ]
    },
    {
     "name": "stderr",
     "output_type": "stream",
     "text": [
      "  0%|          | 80/35869 [01:01<6:33:27,  1.52it/s, errors=30]"
     ]
    },
    {
     "name": "stdout",
     "output_type": "stream",
     "text": [
      "'0x2698931002b10a2206c3f8b36c8c168b01ea6c25'\n"
     ]
    },
    {
     "name": "stderr",
     "output_type": "stream",
     "text": [
      "  0%|          | 83/35869 [01:04<7:09:24,  1.39it/s, errors=31]"
     ]
    },
    {
     "name": "stdout",
     "output_type": "stream",
     "text": [
      "'0x2698931002b10a2206c3f8b36c8c168b01ea6c25'\n"
     ]
    },
    {
     "name": "stderr",
     "output_type": "stream",
     "text": [
      "  0%|          | 88/35869 [01:09<8:56:16,  1.11it/s, errors=32] "
     ]
    },
    {
     "name": "stdout",
     "output_type": "stream",
     "text": [
      "'0x95e05e2abbd26943874ac000d87c3d9e115b543c'\n"
     ]
    },
    {
     "name": "stderr",
     "output_type": "stream",
     "text": [
      "  0%|          | 89/35869 [01:09<7:31:25,  1.32it/s, errors=33]"
     ]
    },
    {
     "name": "stdout",
     "output_type": "stream",
     "text": [
      "'0x95e05e2abbd26943874ac000d87c3d9e115b543c'\n"
     ]
    },
    {
     "name": "stderr",
     "output_type": "stream",
     "text": [
      "  0%|          | 91/35869 [01:11<7:55:42,  1.25it/s, errors=34]"
     ]
    },
    {
     "name": "stdout",
     "output_type": "stream",
     "text": [
      "'0x95e05e2abbd26943874ac000d87c3d9e115b543c'\n"
     ]
    },
    {
     "name": "stderr",
     "output_type": "stream",
     "text": [
      "  0%|          | 93/35869 [01:13<8:08:35,  1.22it/s, errors=35]"
     ]
    },
    {
     "name": "stdout",
     "output_type": "stream",
     "text": [
      "'0x95e05e2abbd26943874ac000d87c3d9e115b543c'\n"
     ]
    },
    {
     "name": "stderr",
     "output_type": "stream",
     "text": [
      "  0%|          | 94/35869 [01:13<6:58:24,  1.43it/s, errors=36]"
     ]
    },
    {
     "name": "stdout",
     "output_type": "stream",
     "text": [
      "'0x95e05e2abbd26943874ac000d87c3d9e115b543c'\n"
     ]
    },
    {
     "name": "stderr",
     "output_type": "stream",
     "text": [
      "  0%|          | 96/35869 [01:15<8:28:59,  1.17it/s, errors=37]"
     ]
    },
    {
     "name": "stdout",
     "output_type": "stream",
     "text": [
      "'0x95e05e2abbd26943874ac000d87c3d9e115b543c'\n"
     ]
    },
    {
     "name": "stderr",
     "output_type": "stream",
     "text": [
      "  0%|          | 99/35869 [01:18<8:52:58,  1.12it/s, errors=38] "
     ]
    },
    {
     "name": "stdout",
     "output_type": "stream",
     "text": [
      "'0x95e05e2abbd26943874ac000d87c3d9e115b543c'\n"
     ]
    },
    {
     "name": "stderr",
     "output_type": "stream",
     "text": [
      "  0%|          | 100/35869 [01:19<7:54:56,  1.26it/s, errors=39]"
     ]
    },
    {
     "name": "stdout",
     "output_type": "stream",
     "text": [
      "'0x95e05e2abbd26943874ac000d87c3d9e115b543c'\n"
     ]
    },
    {
     "name": "stderr",
     "output_type": "stream",
     "text": [
      "  0%|          | 101/35869 [01:20<7:16:09,  1.37it/s, errors=40]"
     ]
    },
    {
     "name": "stdout",
     "output_type": "stream",
     "text": [
      "'0x95e05e2abbd26943874ac000d87c3d9e115b543c'\n"
     ]
    },
    {
     "name": "stderr",
     "output_type": "stream",
     "text": [
      "  0%|          | 104/35869 [01:23<8:35:52,  1.16it/s, errors=41]"
     ]
    },
    {
     "name": "stdout",
     "output_type": "stream",
     "text": [
      "'0x95e05e2abbd26943874ac000d87c3d9e115b543c'\n"
     ]
    },
    {
     "name": "stderr",
     "output_type": "stream",
     "text": [
      "  0%|          | 106/35869 [01:24<8:38:17,  1.15it/s, errors=42]"
     ]
    },
    {
     "name": "stdout",
     "output_type": "stream",
     "text": [
      "'0x95e05e2abbd26943874ac000d87c3d9e115b543c'\n"
     ]
    },
    {
     "name": "stderr",
     "output_type": "stream",
     "text": [
      "  0%|          | 109/35869 [01:27<8:53:05,  1.12it/s, errors=43] "
     ]
    },
    {
     "name": "stdout",
     "output_type": "stream",
     "text": [
      "'0x95e05e2abbd26943874ac000d87c3d9e115b543c'\n"
     ]
    },
    {
     "name": "stderr",
     "output_type": "stream",
     "text": [
      "  0%|          | 111/35869 [01:29<8:30:07,  1.17it/s, errors=44]"
     ]
    },
    {
     "name": "stdout",
     "output_type": "stream",
     "text": [
      "'0x95e05e2abbd26943874ac000d87c3d9e115b543c'\n"
     ]
    },
    {
     "name": "stderr",
     "output_type": "stream",
     "text": [
      "  0%|          | 112/35869 [01:30<7:35:12,  1.31it/s, errors=45]"
     ]
    },
    {
     "name": "stdout",
     "output_type": "stream",
     "text": [
      "'0x95e05e2abbd26943874ac000d87c3d9e115b543c'\n"
     ]
    },
    {
     "name": "stderr",
     "output_type": "stream",
     "text": [
      "  1%|          | 294/35869 [05:12<7:15:46,  1.36it/s, errors=47] "
     ]
    },
    {
     "name": "stdout",
     "output_type": "stream",
     "text": [
      "(401)\n",
      "Reason: Unauthorized\n",
      "HTTP response headers: HTTPHeaderDict({'Date': 'Thu, 17 Aug 2023 21:18:18 GMT', 'Content-Type': 'application/json; charset=utf-8', 'Content-Length': '25', 'Connection': 'keep-alive', 'X-Powered-By': 'Express', 'Access-Control-Allow-Origin': '*', 'ETag': 'W/\"19-aa5ews+8iO9r0nbrJ9a59/u0j00\"', 'Vary': 'Accept-Encoding', 'CF-Cache-Status': 'DYNAMIC', 'Server': 'cloudflare', 'CF-RAY': '7f84f2e1aa728245-IAD'})\n",
      "HTTP response body: b'{\"message\":\"Invalid key\"}'\n",
      "\n",
      "(401)\n",
      "Reason: Unauthorized\n",
      "HTTP response headers: HTTPHeaderDict({'Date': 'Thu, 17 Aug 2023 21:18:18 GMT', 'Content-Type': 'application/json; charset=utf-8', 'Content-Length': '25', 'Connection': 'keep-alive', 'X-Powered-By': 'Express', 'Access-Control-Allow-Origin': '*', 'ETag': 'W/\"19-aa5ews+8iO9r0nbrJ9a59/u0j00\"', 'Vary': 'Accept-Encoding', 'CF-Cache-Status': 'DYNAMIC', 'Server': 'cloudflare', 'CF-RAY': '7f84f2e3dda05728-IAD'})\n",
      "HTTP response body: b'{\"message\":\"Invalid key\"}'\n",
      "\n"
     ]
    },
    {
     "name": "stderr",
     "output_type": "stream",
     "text": [
      "  1%|          | 296/35869 [05:12<4:20:13,  2.28it/s, errors=49]"
     ]
    },
    {
     "name": "stdout",
     "output_type": "stream",
     "text": [
      "(401)\n",
      "Reason: Unauthorized\n",
      "HTTP response headers: HTTPHeaderDict({'Date': 'Thu, 17 Aug 2023 21:18:18 GMT', 'Content-Type': 'application/json; charset=utf-8', 'Content-Length': '25', 'Connection': 'keep-alive', 'X-Powered-By': 'Express', 'Access-Control-Allow-Origin': '*', 'ETag': 'W/\"19-aa5ews+8iO9r0nbrJ9a59/u0j00\"', 'Vary': 'Accept-Encoding', 'CF-Cache-Status': 'DYNAMIC', 'Server': 'cloudflare', 'CF-RAY': '7f84f2e4cdc5389d-IAD'})\n",
      "HTTP response body: b'{\"message\":\"Invalid key\"}'\n",
      "\n",
      "(401)\n",
      "Reason: Unauthorized\n",
      "HTTP response headers: HTTPHeaderDict({'Date': 'Thu, 17 Aug 2023 21:18:18 GMT', 'Content-Type': 'application/json; charset=utf-8', 'Content-Length': '25', 'Connection': 'keep-alive', 'X-Powered-By': 'Express', 'Access-Control-Allow-Origin': '*', 'ETag': 'W/\"19-aa5ews+8iO9r0nbrJ9a59/u0j00\"', 'Vary': 'Accept-Encoding', 'CF-Cache-Status': 'DYNAMIC', 'Server': 'cloudflare', 'CF-RAY': '7f84f2e5c8bc38fd-IAD'})\n",
      "HTTP response body: b'{\"message\":\"Invalid key\"}'\n",
      "\n"
     ]
    },
    {
     "name": "stderr",
     "output_type": "stream",
     "text": [
      "  1%|          | 298/35869 [05:12<2:54:19,  3.40it/s, errors=51]"
     ]
    },
    {
     "name": "stdout",
     "output_type": "stream",
     "text": [
      "(401)\n",
      "Reason: Unauthorized\n",
      "HTTP response headers: HTTPHeaderDict({'Date': 'Thu, 17 Aug 2023 21:18:18 GMT', 'Content-Type': 'application/json; charset=utf-8', 'Content-Length': '25', 'Connection': 'keep-alive', 'X-Powered-By': 'Express', 'Access-Control-Allow-Origin': '*', 'ETag': 'W/\"19-aa5ews+8iO9r0nbrJ9a59/u0j00\"', 'Vary': 'Accept-Encoding', 'CF-Cache-Status': 'DYNAMIC', 'Server': 'cloudflare', 'CF-RAY': '7f84f2e6a9972082-IAD'})\n",
      "HTTP response body: b'{\"message\":\"Invalid key\"}'\n",
      "\n",
      "(401)\n",
      "Reason: Unauthorized\n",
      "HTTP response headers: HTTPHeaderDict({'Date': 'Thu, 17 Aug 2023 21:18:18 GMT', 'Content-Type': 'application/json; charset=utf-8', 'Content-Length': '25', 'Connection': 'keep-alive', 'X-Powered-By': 'Express', 'Access-Control-Allow-Origin': '*', 'ETag': 'W/\"19-aa5ews+8iO9r0nbrJ9a59/u0j00\"', 'Vary': 'Accept-Encoding', 'CF-Cache-Status': 'DYNAMIC', 'Server': 'cloudflare', 'CF-RAY': '7f84f2e788295716-IAD'})\n",
      "HTTP response body: b'{\"message\":\"Invalid key\"}'\n",
      "\n"
     ]
    },
    {
     "name": "stderr",
     "output_type": "stream",
     "text": [
      "  1%|          | 300/35869 [05:13<2:10:56,  4.53it/s, errors=53]"
     ]
    },
    {
     "name": "stdout",
     "output_type": "stream",
     "text": [
      "(401)\n",
      "Reason: Unauthorized\n",
      "HTTP response headers: HTTPHeaderDict({'Date': 'Thu, 17 Aug 2023 21:18:19 GMT', 'Content-Type': 'application/json; charset=utf-8', 'Content-Length': '25', 'Connection': 'keep-alive', 'X-Powered-By': 'Express', 'Access-Control-Allow-Origin': '*', 'ETag': 'W/\"19-aa5ews+8iO9r0nbrJ9a59/u0j00\"', 'Vary': 'Accept-Encoding', 'CF-Cache-Status': 'DYNAMIC', 'Server': 'cloudflare', 'CF-RAY': '7f84f2e8adb681ac-IAD'})\n",
      "HTTP response body: b'{\"message\":\"Invalid key\"}'\n",
      "\n",
      "(401)\n",
      "Reason: Unauthorized\n",
      "HTTP response headers: HTTPHeaderDict({'Date': 'Thu, 17 Aug 2023 21:18:19 GMT', 'Content-Type': 'application/json; charset=utf-8', 'Content-Length': '25', 'Connection': 'keep-alive', 'X-Powered-By': 'Express', 'Access-Control-Allow-Origin': '*', 'ETag': 'W/\"19-aa5ews+8iO9r0nbrJ9a59/u0j00\"', 'Vary': 'Accept-Encoding', 'CF-Cache-Status': 'DYNAMIC', 'Server': 'cloudflare', 'CF-RAY': '7f84f2e99dd639ac-IAD'})\n",
      "HTTP response body: b'{\"message\":\"Invalid key\"}'\n",
      "\n"
     ]
    },
    {
     "name": "stderr",
     "output_type": "stream",
     "text": [
      "  1%|          | 302/35869 [05:13<1:51:32,  5.31it/s, errors=55]"
     ]
    },
    {
     "name": "stdout",
     "output_type": "stream",
     "text": [
      "(401)\n",
      "Reason: Unauthorized\n",
      "HTTP response headers: HTTPHeaderDict({'Date': 'Thu, 17 Aug 2023 21:18:19 GMT', 'Content-Type': 'application/json; charset=utf-8', 'Content-Length': '25', 'Connection': 'keep-alive', 'X-Powered-By': 'Express', 'Access-Control-Allow-Origin': '*', 'ETag': 'W/\"19-aa5ews+8iO9r0nbrJ9a59/u0j00\"', 'Vary': 'Accept-Encoding', 'CF-Cache-Status': 'DYNAMIC', 'Server': 'cloudflare', 'CF-RAY': '7f84f2ea9ac5599e-IAD'})\n",
      "HTTP response body: b'{\"message\":\"Invalid key\"}'\n",
      "\n",
      "(401)\n",
      "Reason: Unauthorized\n",
      "HTTP response headers: HTTPHeaderDict({'Date': 'Thu, 17 Aug 2023 21:18:19 GMT', 'Content-Type': 'application/json; charset=utf-8', 'Content-Length': '25', 'Connection': 'keep-alive', 'X-Powered-By': 'Express', 'Access-Control-Allow-Origin': '*', 'ETag': 'W/\"19-aa5ews+8iO9r0nbrJ9a59/u0j00\"', 'Vary': 'Accept-Encoding', 'CF-Cache-Status': 'DYNAMIC', 'Server': 'cloudflare', 'CF-RAY': '7f84f2eb8b609c42-IAD'})\n",
      "HTTP response body: b'{\"message\":\"Invalid key\"}'\n",
      "\n"
     ]
    },
    {
     "name": "stderr",
     "output_type": "stream",
     "text": [
      "  1%|          | 304/35869 [05:13<1:40:41,  5.89it/s, errors=57]"
     ]
    },
    {
     "name": "stdout",
     "output_type": "stream",
     "text": [
      "(401)\n",
      "Reason: Unauthorized\n",
      "HTTP response headers: HTTPHeaderDict({'Date': 'Thu, 17 Aug 2023 21:18:19 GMT', 'Content-Type': 'application/json; charset=utf-8', 'Content-Length': '25', 'Connection': 'keep-alive', 'X-Powered-By': 'Express', 'Access-Control-Allow-Origin': '*', 'ETag': 'W/\"19-aa5ews+8iO9r0nbrJ9a59/u0j00\"', 'Vary': 'Accept-Encoding', 'CF-Cache-Status': 'DYNAMIC', 'Server': 'cloudflare', 'CF-RAY': '7f84f2ec7967574c-IAD'})\n",
      "HTTP response body: b'{\"message\":\"Invalid key\"}'\n",
      "\n",
      "(401)\n",
      "Reason: Unauthorized\n",
      "HTTP response headers: HTTPHeaderDict({'Date': 'Thu, 17 Aug 2023 21:18:19 GMT', 'Content-Type': 'application/json; charset=utf-8', 'Content-Length': '25', 'Connection': 'keep-alive', 'X-Powered-By': 'Express', 'Access-Control-Allow-Origin': '*', 'ETag': 'W/\"19-aa5ews+8iO9r0nbrJ9a59/u0j00\"', 'Vary': 'Accept-Encoding', 'CF-Cache-Status': 'DYNAMIC', 'Server': 'cloudflare', 'CF-RAY': '7f84f2ed7df15878-IAD'})\n",
      "HTTP response body: b'{\"message\":\"Invalid key\"}'\n",
      "\n"
     ]
    },
    {
     "name": "stderr",
     "output_type": "stream",
     "text": [
      "  1%|          | 306/35869 [05:14<1:36:07,  6.17it/s, errors=59]"
     ]
    },
    {
     "name": "stdout",
     "output_type": "stream",
     "text": [
      "(401)\n",
      "Reason: Unauthorized\n",
      "HTTP response headers: HTTPHeaderDict({'Date': 'Thu, 17 Aug 2023 21:18:19 GMT', 'Content-Type': 'application/json; charset=utf-8', 'Content-Length': '25', 'Connection': 'keep-alive', 'X-Powered-By': 'Express', 'Access-Control-Allow-Origin': '*', 'ETag': 'W/\"19-aa5ews+8iO9r0nbrJ9a59/u0j00\"', 'Vary': 'Accept-Encoding', 'CF-Cache-Status': 'DYNAMIC', 'Server': 'cloudflare', 'CF-RAY': '7f84f2ee5da62048-IAD'})\n",
      "HTTP response body: b'{\"message\":\"Invalid key\"}'\n",
      "\n",
      "(401)\n",
      "Reason: Unauthorized\n",
      "HTTP response headers: HTTPHeaderDict({'Date': 'Thu, 17 Aug 2023 21:18:20 GMT', 'Content-Type': 'application/json; charset=utf-8', 'Content-Length': '25', 'Connection': 'keep-alive', 'X-Powered-By': 'Express', 'Access-Control-Allow-Origin': '*', 'ETag': 'W/\"19-aa5ews+8iO9r0nbrJ9a59/u0j00\"', 'Vary': 'Accept-Encoding', 'CF-Cache-Status': 'DYNAMIC', 'Server': 'cloudflare', 'CF-RAY': '7f84f2ef5e5720a8-IAD'})\n",
      "HTTP response body: b'{\"message\":\"Invalid key\"}'\n",
      "\n"
     ]
    },
    {
     "name": "stderr",
     "output_type": "stream",
     "text": [
      "  1%|          | 308/35869 [05:14<1:33:09,  6.36it/s, errors=61]"
     ]
    },
    {
     "name": "stdout",
     "output_type": "stream",
     "text": [
      "(401)\n",
      "Reason: Unauthorized\n",
      "HTTP response headers: HTTPHeaderDict({'Date': 'Thu, 17 Aug 2023 21:18:20 GMT', 'Content-Type': 'application/json; charset=utf-8', 'Content-Length': '25', 'Connection': 'keep-alive', 'X-Powered-By': 'Express', 'Access-Control-Allow-Origin': '*', 'ETag': 'W/\"19-aa5ews+8iO9r0nbrJ9a59/u0j00\"', 'Vary': 'Accept-Encoding', 'CF-Cache-Status': 'DYNAMIC', 'Server': 'cloudflare', 'CF-RAY': '7f84f2f05eec9c40-IAD'})\n",
      "HTTP response body: b'{\"message\":\"Invalid key\"}'\n",
      "\n",
      "(401)\n",
      "Reason: Unauthorized\n",
      "HTTP response headers: HTTPHeaderDict({'Date': 'Thu, 17 Aug 2023 21:18:20 GMT', 'Content-Type': 'application/json; charset=utf-8', 'Content-Length': '25', 'Connection': 'keep-alive', 'X-Powered-By': 'Express', 'Access-Control-Allow-Origin': '*', 'ETag': 'W/\"19-aa5ews+8iO9r0nbrJ9a59/u0j00\"', 'Vary': 'Accept-Encoding', 'CF-Cache-Status': 'DYNAMIC', 'Server': 'cloudflare', 'CF-RAY': '7f84f2f1489f824e-IAD'})\n",
      "HTTP response body: b'{\"message\":\"Invalid key\"}'\n",
      "\n"
     ]
    },
    {
     "name": "stderr",
     "output_type": "stream",
     "text": [
      "  1%|          | 310/35869 [05:14<1:31:54,  6.45it/s, errors=63]"
     ]
    },
    {
     "name": "stdout",
     "output_type": "stream",
     "text": [
      "(401)\n",
      "Reason: Unauthorized\n",
      "HTTP response headers: HTTPHeaderDict({'Date': 'Thu, 17 Aug 2023 21:18:20 GMT', 'Content-Type': 'application/json; charset=utf-8', 'Content-Length': '25', 'Connection': 'keep-alive', 'X-Powered-By': 'Express', 'Access-Control-Allow-Origin': '*', 'ETag': 'W/\"19-aa5ews+8iO9r0nbrJ9a59/u0j00\"', 'Vary': 'Accept-Encoding', 'CF-Cache-Status': 'DYNAMIC', 'Server': 'cloudflare', 'CF-RAY': '7f84f2f239e53994-IAD'})\n",
      "HTTP response body: b'{\"message\":\"Invalid key\"}'\n",
      "\n",
      "(401)\n",
      "Reason: Unauthorized\n",
      "HTTP response headers: HTTPHeaderDict({'Date': 'Thu, 17 Aug 2023 21:18:20 GMT', 'Content-Type': 'application/json; charset=utf-8', 'Content-Length': '25', 'Connection': 'keep-alive', 'X-Powered-By': 'Express', 'Access-Control-Allow-Origin': '*', 'ETag': 'W/\"19-aa5ews+8iO9r0nbrJ9a59/u0j00\"', 'Vary': 'Accept-Encoding', 'CF-Cache-Status': 'DYNAMIC', 'Server': 'cloudflare', 'CF-RAY': '7f84f2f32aa97f72-IAD'})\n",
      "HTTP response body: b'{\"message\":\"Invalid key\"}'\n",
      "\n"
     ]
    },
    {
     "name": "stderr",
     "output_type": "stream",
     "text": [
      "  1%|          | 312/35869 [05:15<1:31:44,  6.46it/s, errors=65]"
     ]
    },
    {
     "name": "stdout",
     "output_type": "stream",
     "text": [
      "(401)\n",
      "Reason: Unauthorized\n",
      "HTTP response headers: HTTPHeaderDict({'Date': 'Thu, 17 Aug 2023 21:18:20 GMT', 'Content-Type': 'application/json; charset=utf-8', 'Content-Length': '25', 'Connection': 'keep-alive', 'X-Powered-By': 'Express', 'Access-Control-Allow-Origin': '*', 'ETag': 'W/\"19-aa5ews+8iO9r0nbrJ9a59/u0j00\"', 'Vary': 'Accept-Encoding', 'CF-Cache-Status': 'DYNAMIC', 'Server': 'cloudflare', 'CF-RAY': '7f84f2f428921ffd-IAD'})\n",
      "HTTP response body: b'{\"message\":\"Invalid key\"}'\n",
      "\n",
      "(401)\n",
      "Reason: Unauthorized\n",
      "HTTP response headers: HTTPHeaderDict({'Date': 'Thu, 17 Aug 2023 21:18:20 GMT', 'Content-Type': 'application/json; charset=utf-8', 'Content-Length': '25', 'Connection': 'keep-alive', 'X-Powered-By': 'Express', 'Access-Control-Allow-Origin': '*', 'ETag': 'W/\"19-aa5ews+8iO9r0nbrJ9a59/u0j00\"', 'Vary': 'Accept-Encoding', 'CF-Cache-Status': 'DYNAMIC', 'Server': 'cloudflare', 'CF-RAY': '7f84f2f52db60619-IAD'})\n",
      "HTTP response body: b'{\"message\":\"Invalid key\"}'\n",
      "\n"
     ]
    },
    {
     "name": "stderr",
     "output_type": "stream",
     "text": [
      "  1%|          | 314/35869 [05:15<1:55:10,  5.14it/s, errors=67]"
     ]
    },
    {
     "name": "stdout",
     "output_type": "stream",
     "text": [
      "(401)\n",
      "Reason: Unauthorized\n",
      "HTTP response headers: HTTPHeaderDict({'Date': 'Thu, 17 Aug 2023 21:18:21 GMT', 'Content-Type': 'application/json; charset=utf-8', 'Content-Length': '25', 'Connection': 'keep-alive', 'X-Powered-By': 'Express', 'Access-Control-Allow-Origin': '*', 'ETag': 'W/\"19-aa5ews+8iO9r0nbrJ9a59/u0j00\"', 'Vary': 'Accept-Encoding', 'CF-Cache-Status': 'DYNAMIC', 'Server': 'cloudflare', 'CF-RAY': '7f84f2f61ba40632-IAD'})\n",
      "HTTP response body: b'{\"message\":\"Invalid key\"}'\n",
      "\n",
      "(401)\n",
      "Reason: Unauthorized\n",
      "HTTP response headers: HTTPHeaderDict({'Date': 'Thu, 17 Aug 2023 21:18:21 GMT', 'Content-Type': 'application/json; charset=utf-8', 'Content-Length': '25', 'Connection': 'keep-alive', 'X-Powered-By': 'Express', 'Access-Control-Allow-Origin': '*', 'ETag': 'W/\"19-aa5ews+8iO9r0nbrJ9a59/u0j00\"', 'Vary': 'Accept-Encoding', 'CF-Cache-Status': 'DYNAMIC', 'Server': 'cloudflare', 'CF-RAY': '7f84f2f83ddc8199-IAD'})\n",
      "HTTP response body: b'{\"message\":\"Invalid key\"}'\n",
      "\n"
     ]
    },
    {
     "name": "stderr",
     "output_type": "stream",
     "text": [
      "  1%|          | 316/35869 [05:15<1:42:21,  5.79it/s, errors=69]"
     ]
    },
    {
     "name": "stdout",
     "output_type": "stream",
     "text": [
      "(401)\n",
      "Reason: Unauthorized\n",
      "HTTP response headers: HTTPHeaderDict({'Date': 'Thu, 17 Aug 2023 21:18:21 GMT', 'Content-Type': 'application/json; charset=utf-8', 'Content-Length': '25', 'Connection': 'keep-alive', 'X-Powered-By': 'Express', 'Access-Control-Allow-Origin': '*', 'ETag': 'W/\"19-aa5ews+8iO9r0nbrJ9a59/u0j00\"', 'Vary': 'Accept-Encoding', 'CF-Cache-Status': 'DYNAMIC', 'Server': 'cloudflare', 'CF-RAY': '7f84f2f93a670935-IAD'})\n",
      "HTTP response body: b'{\"message\":\"Invalid key\"}'\n",
      "\n",
      "(401)\n",
      "Reason: Unauthorized\n",
      "HTTP response headers: HTTPHeaderDict({'Date': 'Thu, 17 Aug 2023 21:18:21 GMT', 'Content-Type': 'application/json; charset=utf-8', 'Content-Length': '25', 'Connection': 'keep-alive', 'X-Powered-By': 'Express', 'Access-Control-Allow-Origin': '*', 'ETag': 'W/\"19-aa5ews+8iO9r0nbrJ9a59/u0j00\"', 'Vary': 'Accept-Encoding', 'CF-Cache-Status': 'DYNAMIC', 'Server': 'cloudflare', 'CF-RAY': '7f84f2fa28970607-IAD'})\n",
      "HTTP response body: b'{\"message\":\"Invalid key\"}'\n",
      "\n"
     ]
    },
    {
     "name": "stderr",
     "output_type": "stream",
     "text": [
      "  1%|          | 318/35869 [05:16<1:37:04,  6.10it/s, errors=71]"
     ]
    },
    {
     "name": "stdout",
     "output_type": "stream",
     "text": [
      "(401)\n",
      "Reason: Unauthorized\n",
      "HTTP response headers: HTTPHeaderDict({'Date': 'Thu, 17 Aug 2023 21:18:21 GMT', 'Content-Type': 'application/json; charset=utf-8', 'Content-Length': '25', 'Connection': 'keep-alive', 'X-Powered-By': 'Express', 'Access-Control-Allow-Origin': '*', 'ETag': 'W/\"19-aa5ews+8iO9r0nbrJ9a59/u0j00\"', 'Vary': 'Accept-Encoding', 'CF-Cache-Status': 'DYNAMIC', 'Server': 'cloudflare', 'CF-RAY': '7f84f2fb2fe7394c-IAD'})\n",
      "HTTP response body: b'{\"message\":\"Invalid key\"}'\n",
      "\n",
      "(401)\n",
      "Reason: Unauthorized\n",
      "HTTP response headers: HTTPHeaderDict({'Date': 'Thu, 17 Aug 2023 21:18:22 GMT', 'Content-Type': 'application/json; charset=utf-8', 'Content-Length': '25', 'Connection': 'keep-alive', 'X-Powered-By': 'Express', 'Access-Control-Allow-Origin': '*', 'ETag': 'W/\"19-aa5ews+8iO9r0nbrJ9a59/u0j00\"', 'Vary': 'Accept-Encoding', 'CF-Cache-Status': 'DYNAMIC', 'Server': 'cloudflare', 'CF-RAY': '7f84f2fc194b3897-IAD'})\n",
      "HTTP response body: b'{\"message\":\"Invalid key\"}'\n",
      "\n"
     ]
    },
    {
     "name": "stderr",
     "output_type": "stream",
     "text": [
      "  1%|          | 320/35869 [05:16<1:32:36,  6.40it/s, errors=73]"
     ]
    },
    {
     "name": "stdout",
     "output_type": "stream",
     "text": [
      "(401)\n",
      "Reason: Unauthorized\n",
      "HTTP response headers: HTTPHeaderDict({'Date': 'Thu, 17 Aug 2023 21:18:22 GMT', 'Content-Type': 'application/json; charset=utf-8', 'Content-Length': '25', 'Connection': 'keep-alive', 'X-Powered-By': 'Express', 'Access-Control-Allow-Origin': '*', 'ETag': 'W/\"19-aa5ews+8iO9r0nbrJ9a59/u0j00\"', 'Vary': 'Accept-Encoding', 'CF-Cache-Status': 'DYNAMIC', 'Server': 'cloudflare', 'CF-RAY': '7f84f2fcfa4a3952-IAD'})\n",
      "HTTP response body: b'{\"message\":\"Invalid key\"}'\n",
      "\n",
      "(401)\n",
      "Reason: Unauthorized\n",
      "HTTP response headers: HTTPHeaderDict({'Date': 'Thu, 17 Aug 2023 21:18:22 GMT', 'Content-Type': 'application/json; charset=utf-8', 'Content-Length': '25', 'Connection': 'keep-alive', 'X-Powered-By': 'Express', 'Access-Control-Allow-Origin': '*', 'ETag': 'W/\"19-aa5ews+8iO9r0nbrJ9a59/u0j00\"', 'Vary': 'Accept-Encoding', 'CF-Cache-Status': 'DYNAMIC', 'Server': 'cloudflare', 'CF-RAY': '7f84f2fdfb7e4b87-IAD'})\n",
      "HTTP response body: b'{\"message\":\"Invalid key\"}'\n",
      "\n"
     ]
    },
    {
     "name": "stderr",
     "output_type": "stream",
     "text": [
      "  1%|          | 322/35869 [05:16<1:33:12,  6.36it/s, errors=75]"
     ]
    },
    {
     "name": "stdout",
     "output_type": "stream",
     "text": [
      "(401)\n",
      "Reason: Unauthorized\n",
      "HTTP response headers: HTTPHeaderDict({'Date': 'Thu, 17 Aug 2023 21:18:22 GMT', 'Content-Type': 'application/json; charset=utf-8', 'Content-Length': '25', 'Connection': 'keep-alive', 'X-Powered-By': 'Express', 'Access-Control-Allow-Origin': '*', 'ETag': 'W/\"19-aa5ews+8iO9r0nbrJ9a59/u0j00\"', 'Vary': 'Accept-Encoding', 'CF-Cache-Status': 'DYNAMIC', 'Server': 'cloudflare', 'CF-RAY': '7f84f2fefcec3b62-IAD'})\n",
      "HTTP response body: b'{\"message\":\"Invalid key\"}'\n",
      "\n",
      "(401)\n",
      "Reason: Unauthorized\n",
      "HTTP response headers: HTTPHeaderDict({'Date': 'Thu, 17 Aug 2023 21:18:22 GMT', 'Content-Type': 'application/json; charset=utf-8', 'Content-Length': '25', 'Connection': 'keep-alive', 'X-Powered-By': 'Express', 'Access-Control-Allow-Origin': '*', 'ETag': 'W/\"19-aa5ews+8iO9r0nbrJ9a59/u0j00\"', 'Vary': 'Accept-Encoding', 'CF-Cache-Status': 'DYNAMIC', 'Server': 'cloudflare', 'CF-RAY': '7f84f2fffdfc9c5b-IAD'})\n",
      "HTTP response body: b'{\"message\":\"Invalid key\"}'\n",
      "\n"
     ]
    },
    {
     "name": "stderr",
     "output_type": "stream",
     "text": [
      "  1%|          | 324/35869 [05:17<1:33:11,  6.36it/s, errors=77]"
     ]
    },
    {
     "name": "stdout",
     "output_type": "stream",
     "text": [
      "(401)\n",
      "Reason: Unauthorized\n",
      "HTTP response headers: HTTPHeaderDict({'Date': 'Thu, 17 Aug 2023 21:18:22 GMT', 'Content-Type': 'application/json; charset=utf-8', 'Content-Length': '25', 'Connection': 'keep-alive', 'X-Powered-By': 'Express', 'Access-Control-Allow-Origin': '*', 'ETag': 'W/\"19-aa5ews+8iO9r0nbrJ9a59/u0j00\"', 'Vary': 'Accept-Encoding', 'CF-Cache-Status': 'DYNAMIC', 'Server': 'cloudflare', 'CF-RAY': '7f84f300ec4b82ba-IAD'})\n",
      "HTTP response body: b'{\"message\":\"Invalid key\"}'\n",
      "\n",
      "(401)\n",
      "Reason: Unauthorized\n",
      "HTTP response headers: HTTPHeaderDict({'Date': 'Thu, 17 Aug 2023 21:18:23 GMT', 'Content-Type': 'application/json; charset=utf-8', 'Content-Length': '25', 'Connection': 'keep-alive', 'X-Powered-By': 'Express', 'Access-Control-Allow-Origin': '*', 'ETag': 'W/\"19-aa5ews+8iO9r0nbrJ9a59/u0j00\"', 'Vary': 'Accept-Encoding', 'CF-Cache-Status': 'DYNAMIC', 'Server': 'cloudflare', 'CF-RAY': '7f84f301dc0b9c46-IAD'})\n",
      "HTTP response body: b'{\"message\":\"Invalid key\"}'\n",
      "\n"
     ]
    },
    {
     "name": "stderr",
     "output_type": "stream",
     "text": [
      "  1%|          | 326/35869 [05:17<1:35:25,  6.21it/s, errors=79]"
     ]
    },
    {
     "name": "stdout",
     "output_type": "stream",
     "text": [
      "(401)\n",
      "Reason: Unauthorized\n",
      "HTTP response headers: HTTPHeaderDict({'Date': 'Thu, 17 Aug 2023 21:18:23 GMT', 'Content-Type': 'application/json; charset=utf-8', 'Content-Length': '25', 'Connection': 'keep-alive', 'X-Powered-By': 'Express', 'Access-Control-Allow-Origin': '*', 'ETag': 'W/\"19-aa5ews+8iO9r0nbrJ9a59/u0j00\"', 'Vary': 'Accept-Encoding', 'CF-Cache-Status': 'DYNAMIC', 'Server': 'cloudflare', 'CF-RAY': '7f84f302ddf605bf-IAD'})\n",
      "HTTP response body: b'{\"message\":\"Invalid key\"}'\n",
      "\n",
      "(401)\n",
      "Reason: Unauthorized\n",
      "HTTP response headers: HTTPHeaderDict({'Date': 'Thu, 17 Aug 2023 21:18:23 GMT', 'Content-Type': 'application/json; charset=utf-8', 'Content-Length': '25', 'Connection': 'keep-alive', 'X-Powered-By': 'Express', 'Access-Control-Allow-Origin': '*', 'ETag': 'W/\"19-aa5ews+8iO9r0nbrJ9a59/u0j00\"', 'Vary': 'Accept-Encoding', 'CF-Cache-Status': 'DYNAMIC', 'Server': 'cloudflare', 'CF-RAY': '7f84f303ff53081d-IAD'})\n",
      "HTTP response body: b'{\"message\":\"Invalid key\"}'\n",
      "\n"
     ]
    },
    {
     "name": "stderr",
     "output_type": "stream",
     "text": [
      "  1%|          | 328/35869 [05:17<1:35:05,  6.23it/s, errors=81]"
     ]
    },
    {
     "name": "stdout",
     "output_type": "stream",
     "text": [
      "(401)\n",
      "Reason: Unauthorized\n",
      "HTTP response headers: HTTPHeaderDict({'Date': 'Thu, 17 Aug 2023 21:18:23 GMT', 'Content-Type': 'application/json; charset=utf-8', 'Content-Length': '25', 'Connection': 'keep-alive', 'X-Powered-By': 'Express', 'Access-Control-Allow-Origin': '*', 'ETag': 'W/\"19-aa5ews+8iO9r0nbrJ9a59/u0j00\"', 'Vary': 'Accept-Encoding', 'CF-Cache-Status': 'DYNAMIC', 'Server': 'cloudflare', 'CF-RAY': '7f84f304df460a15-IAD'})\n",
      "HTTP response body: b'{\"message\":\"Invalid key\"}'\n",
      "\n",
      "(401)\n",
      "Reason: Unauthorized\n",
      "HTTP response headers: HTTPHeaderDict({'Date': 'Thu, 17 Aug 2023 21:18:23 GMT', 'Content-Type': 'application/json; charset=utf-8', 'Content-Length': '25', 'Connection': 'keep-alive', 'X-Powered-By': 'Express', 'Access-Control-Allow-Origin': '*', 'ETag': 'W/\"19-aa5ews+8iO9r0nbrJ9a59/u0j00\"', 'Vary': 'Accept-Encoding', 'CF-Cache-Status': 'DYNAMIC', 'Server': 'cloudflare', 'CF-RAY': '7f84f305dec30a11-IAD'})\n",
      "HTTP response body: b'{\"message\":\"Invalid key\"}'\n",
      "\n"
     ]
    },
    {
     "name": "stderr",
     "output_type": "stream",
     "text": [
      "  1%|          | 330/35869 [05:18<1:32:41,  6.39it/s, errors=83]"
     ]
    },
    {
     "name": "stdout",
     "output_type": "stream",
     "text": [
      "(401)\n",
      "Reason: Unauthorized\n",
      "HTTP response headers: HTTPHeaderDict({'Date': 'Thu, 17 Aug 2023 21:18:23 GMT', 'Content-Type': 'application/json; charset=utf-8', 'Content-Length': '25', 'Connection': 'keep-alive', 'X-Powered-By': 'Express', 'Access-Control-Allow-Origin': '*', 'ETag': 'W/\"19-aa5ews+8iO9r0nbrJ9a59/u0j00\"', 'Vary': 'Accept-Encoding', 'CF-Cache-Status': 'DYNAMIC', 'Server': 'cloudflare', 'CF-RAY': '7f84f306da0b8275-IAD'})\n",
      "HTTP response body: b'{\"message\":\"Invalid key\"}'\n",
      "\n",
      "(401)\n",
      "Reason: Unauthorized\n",
      "HTTP response headers: HTTPHeaderDict({'Date': 'Thu, 17 Aug 2023 21:18:23 GMT', 'Content-Type': 'application/json; charset=utf-8', 'Content-Length': '25', 'Connection': 'keep-alive', 'X-Powered-By': 'Express', 'Access-Control-Allow-Origin': '*', 'ETag': 'W/\"19-aa5ews+8iO9r0nbrJ9a59/u0j00\"', 'Vary': 'Accept-Encoding', 'CF-Cache-Status': 'DYNAMIC', 'Server': 'cloudflare', 'CF-RAY': '7f84f307dd983898-IAD'})\n",
      "HTTP response body: b'{\"message\":\"Invalid key\"}'\n",
      "\n"
     ]
    },
    {
     "name": "stderr",
     "output_type": "stream",
     "text": [
      "  1%|          | 332/35869 [05:18<1:30:15,  6.56it/s, errors=85]"
     ]
    },
    {
     "name": "stdout",
     "output_type": "stream",
     "text": [
      "(401)\n",
      "Reason: Unauthorized\n",
      "HTTP response headers: HTTPHeaderDict({'Date': 'Thu, 17 Aug 2023 21:18:24 GMT', 'Content-Type': 'application/json; charset=utf-8', 'Content-Length': '25', 'Connection': 'keep-alive', 'X-Powered-By': 'Express', 'Access-Control-Allow-Origin': '*', 'ETag': 'W/\"19-aa5ews+8iO9r0nbrJ9a59/u0j00\"', 'Vary': 'Accept-Encoding', 'CF-Cache-Status': 'DYNAMIC', 'Server': 'cloudflare', 'CF-RAY': '7f84f308ccfe3ae8-IAD'})\n",
      "HTTP response body: b'{\"message\":\"Invalid key\"}'\n",
      "\n",
      "(401)\n",
      "Reason: Unauthorized\n",
      "HTTP response headers: HTTPHeaderDict({'Date': 'Thu, 17 Aug 2023 21:18:24 GMT', 'Content-Type': 'application/json; charset=utf-8', 'Content-Length': '25', 'Connection': 'keep-alive', 'X-Powered-By': 'Express', 'Access-Control-Allow-Origin': '*', 'ETag': 'W/\"19-aa5ews+8iO9r0nbrJ9a59/u0j00\"', 'Vary': 'Accept-Encoding', 'CF-Cache-Status': 'DYNAMIC', 'Server': 'cloudflare', 'CF-RAY': '7f84f309bdd2064d-IAD'})\n",
      "HTTP response body: b'{\"message\":\"Invalid key\"}'\n",
      "\n"
     ]
    },
    {
     "name": "stderr",
     "output_type": "stream",
     "text": [
      "  1%|          | 333/35869 [05:18<1:33:37,  6.33it/s, errors=86]"
     ]
    },
    {
     "name": "stdout",
     "output_type": "stream",
     "text": [
      "(401)\n",
      "Reason: Unauthorized\n",
      "HTTP response headers: HTTPHeaderDict({'Date': 'Thu, 17 Aug 2023 21:18:24 GMT', 'Content-Type': 'application/json; charset=utf-8', 'Content-Length': '25', 'Connection': 'keep-alive', 'X-Powered-By': 'Express', 'Access-Control-Allow-Origin': '*', 'ETag': 'W/\"19-aa5ews+8iO9r0nbrJ9a59/u0j00\"', 'Vary': 'Accept-Encoding', 'CF-Cache-Status': 'DYNAMIC', 'Server': 'cloudflare', 'CF-RAY': '7f84f30abda73b3e-IAD'})\n",
      "HTTP response body: b'{\"message\":\"Invalid key\"}'\n",
      "\n"
     ]
    },
    {
     "name": "stderr",
     "output_type": "stream",
     "text": [
      "  1%|          | 335/35869 [05:19<1:55:36,  5.12it/s, errors=88]"
     ]
    },
    {
     "name": "stdout",
     "output_type": "stream",
     "text": [
      "(401)\n",
      "Reason: Unauthorized\n",
      "HTTP response headers: HTTPHeaderDict({'Date': 'Thu, 17 Aug 2023 21:18:24 GMT', 'Content-Type': 'application/json; charset=utf-8', 'Content-Length': '25', 'Connection': 'keep-alive', 'X-Powered-By': 'Express', 'Access-Control-Allow-Origin': '*', 'ETag': 'W/\"19-aa5ews+8iO9r0nbrJ9a59/u0j00\"', 'Vary': 'Accept-Encoding', 'CF-Cache-Status': 'DYNAMIC', 'Server': 'cloudflare', 'CF-RAY': '7f84f30bbafe081c-IAD'})\n",
      "HTTP response body: b'{\"message\":\"Invalid key\"}'\n",
      "\n",
      "(401)\n",
      "Reason: Unauthorized\n",
      "HTTP response headers: HTTPHeaderDict({'Date': 'Thu, 17 Aug 2023 21:18:24 GMT', 'Content-Type': 'application/json; charset=utf-8', 'Content-Length': '25', 'Connection': 'keep-alive', 'X-Powered-By': 'Express', 'Access-Control-Allow-Origin': '*', 'ETag': 'W/\"19-aa5ews+8iO9r0nbrJ9a59/u0j00\"', 'Vary': 'Accept-Encoding', 'CF-Cache-Status': 'DYNAMIC', 'Server': 'cloudflare', 'CF-RAY': '7f84f30ddb205b76-IAD'})\n",
      "HTTP response body: b'{\"message\":\"Invalid key\"}'\n",
      "\n"
     ]
    },
    {
     "name": "stderr",
     "output_type": "stream",
     "text": [
      "  1%|          | 337/35869 [05:19<1:40:43,  5.88it/s, errors=90]"
     ]
    },
    {
     "name": "stdout",
     "output_type": "stream",
     "text": [
      "(401)\n",
      "Reason: Unauthorized\n",
      "HTTP response headers: HTTPHeaderDict({'Date': 'Thu, 17 Aug 2023 21:18:25 GMT', 'Content-Type': 'application/json; charset=utf-8', 'Content-Length': '25', 'Connection': 'keep-alive', 'X-Powered-By': 'Express', 'Access-Control-Allow-Origin': '*', 'ETag': 'W/\"19-aa5ews+8iO9r0nbrJ9a59/u0j00\"', 'Vary': 'Accept-Encoding', 'CF-Cache-Status': 'DYNAMIC', 'Server': 'cloudflare', 'CF-RAY': '7f84f30eb833173f-IAD'})\n",
      "HTTP response body: b'{\"message\":\"Invalid key\"}'\n",
      "\n",
      "(401)\n",
      "Reason: Unauthorized\n",
      "HTTP response headers: HTTPHeaderDict({'Date': 'Thu, 17 Aug 2023 21:18:25 GMT', 'Content-Type': 'application/json; charset=utf-8', 'Content-Length': '25', 'Connection': 'keep-alive', 'X-Powered-By': 'Express', 'Access-Control-Allow-Origin': '*', 'ETag': 'W/\"19-aa5ews+8iO9r0nbrJ9a59/u0j00\"', 'Vary': 'Accept-Encoding', 'CF-Cache-Status': 'DYNAMIC', 'Server': 'cloudflare', 'CF-RAY': '7f84f30fabf420b2-IAD'})\n",
      "HTTP response body: b'{\"message\":\"Invalid key\"}'\n",
      "\n"
     ]
    },
    {
     "name": "stderr",
     "output_type": "stream",
     "text": [
      "  1%|          | 339/35869 [05:19<1:35:30,  6.20it/s, errors=92]"
     ]
    },
    {
     "name": "stdout",
     "output_type": "stream",
     "text": [
      "(401)\n",
      "Reason: Unauthorized\n",
      "HTTP response headers: HTTPHeaderDict({'Date': 'Thu, 17 Aug 2023 21:18:25 GMT', 'Content-Type': 'application/json; charset=utf-8', 'Content-Length': '25', 'Connection': 'keep-alive', 'X-Powered-By': 'Express', 'Access-Control-Allow-Origin': '*', 'ETag': 'W/\"19-aa5ews+8iO9r0nbrJ9a59/u0j00\"', 'Vary': 'Accept-Encoding', 'CF-Cache-Status': 'DYNAMIC', 'Server': 'cloudflare', 'CF-RAY': '7f84f310a9aa82a5-IAD'})\n",
      "HTTP response body: b'{\"message\":\"Invalid key\"}'\n",
      "\n",
      "(401)\n",
      "Reason: Unauthorized\n",
      "HTTP response headers: HTTPHeaderDict({'Date': 'Thu, 17 Aug 2023 21:18:25 GMT', 'Content-Type': 'application/json; charset=utf-8', 'Content-Length': '25', 'Connection': 'keep-alive', 'X-Powered-By': 'Express', 'Access-Control-Allow-Origin': '*', 'ETag': 'W/\"19-aa5ews+8iO9r0nbrJ9a59/u0j00\"', 'Vary': 'Accept-Encoding', 'CF-Cache-Status': 'DYNAMIC', 'Server': 'cloudflare', 'CF-RAY': '7f84f3119e22579a-IAD'})\n",
      "HTTP response body: b'{\"message\":\"Invalid key\"}'\n",
      "\n"
     ]
    },
    {
     "name": "stderr",
     "output_type": "stream",
     "text": [
      "  1%|          | 341/35869 [05:19<1:34:29,  6.27it/s, errors=94]"
     ]
    },
    {
     "name": "stdout",
     "output_type": "stream",
     "text": [
      "(401)\n",
      "Reason: Unauthorized\n",
      "HTTP response headers: HTTPHeaderDict({'Date': 'Thu, 17 Aug 2023 21:18:25 GMT', 'Content-Type': 'application/json; charset=utf-8', 'Content-Length': '25', 'Connection': 'keep-alive', 'X-Powered-By': 'Express', 'Access-Control-Allow-Origin': '*', 'ETag': 'W/\"19-aa5ews+8iO9r0nbrJ9a59/u0j00\"', 'Vary': 'Accept-Encoding', 'CF-Cache-Status': 'DYNAMIC', 'Server': 'cloudflare', 'CF-RAY': '7f84f31298e00594-IAD'})\n",
      "HTTP response body: b'{\"message\":\"Invalid key\"}'\n",
      "\n",
      "(401)\n",
      "Reason: Unauthorized\n",
      "HTTP response headers: HTTPHeaderDict({'Date': 'Thu, 17 Aug 2023 21:18:25 GMT', 'Content-Type': 'application/json; charset=utf-8', 'Content-Length': '25', 'Connection': 'keep-alive', 'X-Powered-By': 'Express', 'Access-Control-Allow-Origin': '*', 'ETag': 'W/\"19-aa5ews+8iO9r0nbrJ9a59/u0j00\"', 'Vary': 'Accept-Encoding', 'CF-Cache-Status': 'DYNAMIC', 'Server': 'cloudflare', 'CF-RAY': '7f84f313987a3ae1-IAD'})\n",
      "HTTP response body: b'{\"message\":\"Invalid key\"}'\n",
      "\n"
     ]
    },
    {
     "name": "stderr",
     "output_type": "stream",
     "text": [
      "  1%|          | 343/35869 [05:20<1:32:40,  6.39it/s, errors=96]"
     ]
    },
    {
     "name": "stdout",
     "output_type": "stream",
     "text": [
      "(401)\n",
      "Reason: Unauthorized\n",
      "HTTP response headers: HTTPHeaderDict({'Date': 'Thu, 17 Aug 2023 21:18:26 GMT', 'Content-Type': 'application/json; charset=utf-8', 'Content-Length': '25', 'Connection': 'keep-alive', 'X-Powered-By': 'Express', 'Access-Control-Allow-Origin': '*', 'ETag': 'W/\"19-aa5ews+8iO9r0nbrJ9a59/u0j00\"', 'Vary': 'Accept-Encoding', 'CF-Cache-Status': 'DYNAMIC', 'Server': 'cloudflare', 'CF-RAY': '7f84f3149b18381d-IAD'})\n",
      "HTTP response body: b'{\"message\":\"Invalid key\"}'\n",
      "\n",
      "(401)\n",
      "Reason: Unauthorized\n",
      "HTTP response headers: HTTPHeaderDict({'Date': 'Thu, 17 Aug 2023 21:18:26 GMT', 'Content-Type': 'application/json; charset=utf-8', 'Content-Length': '25', 'Connection': 'keep-alive', 'X-Powered-By': 'Express', 'Access-Control-Allow-Origin': '*', 'ETag': 'W/\"19-aa5ews+8iO9r0nbrJ9a59/u0j00\"', 'Vary': 'Accept-Encoding', 'CF-Cache-Status': 'DYNAMIC', 'Server': 'cloudflare', 'CF-RAY': '7f84f3158aa4172d-IAD'})\n",
      "HTTP response body: b'{\"message\":\"Invalid key\"}'\n",
      "\n"
     ]
    },
    {
     "name": "stderr",
     "output_type": "stream",
     "text": [
      "  1%|          | 345/35869 [05:20<1:29:38,  6.61it/s, errors=98]"
     ]
    },
    {
     "name": "stdout",
     "output_type": "stream",
     "text": [
      "(401)\n",
      "Reason: Unauthorized\n",
      "HTTP response headers: HTTPHeaderDict({'Date': 'Thu, 17 Aug 2023 21:18:26 GMT', 'Content-Type': 'application/json; charset=utf-8', 'Content-Length': '25', 'Connection': 'keep-alive', 'X-Powered-By': 'Express', 'Access-Control-Allow-Origin': '*', 'ETag': 'W/\"19-aa5ews+8iO9r0nbrJ9a59/u0j00\"', 'Vary': 'Accept-Encoding', 'CF-Cache-Status': 'DYNAMIC', 'Server': 'cloudflare', 'CF-RAY': '7f84f3167f191fe5-IAD'})\n",
      "HTTP response body: b'{\"message\":\"Invalid key\"}'\n",
      "\n",
      "(401)\n",
      "Reason: Unauthorized\n",
      "HTTP response headers: HTTPHeaderDict({'Date': 'Thu, 17 Aug 2023 21:18:26 GMT', 'Content-Type': 'application/json; charset=utf-8', 'Content-Length': '25', 'Connection': 'keep-alive', 'X-Powered-By': 'Express', 'Access-Control-Allow-Origin': '*', 'ETag': 'W/\"19-aa5ews+8iO9r0nbrJ9a59/u0j00\"', 'Vary': 'Accept-Encoding', 'CF-Cache-Status': 'DYNAMIC', 'Server': 'cloudflare', 'CF-RAY': '7f84f3175d46204b-IAD'})\n",
      "HTTP response body: b'{\"message\":\"Invalid key\"}'\n",
      "\n"
     ]
    },
    {
     "name": "stderr",
     "output_type": "stream",
     "text": [
      "  1%|          | 347/35869 [05:20<1:31:07,  6.50it/s, errors=100]"
     ]
    },
    {
     "name": "stdout",
     "output_type": "stream",
     "text": [
      "(401)\n",
      "Reason: Unauthorized\n",
      "HTTP response headers: HTTPHeaderDict({'Date': 'Thu, 17 Aug 2023 21:18:26 GMT', 'Content-Type': 'application/json; charset=utf-8', 'Content-Length': '25', 'Connection': 'keep-alive', 'X-Powered-By': 'Express', 'Access-Control-Allow-Origin': '*', 'ETag': 'W/\"19-aa5ews+8iO9r0nbrJ9a59/u0j00\"', 'Vary': 'Accept-Encoding', 'CF-Cache-Status': 'DYNAMIC', 'Server': 'cloudflare', 'CF-RAY': '7f84f3184d3781fd-IAD'})\n",
      "HTTP response body: b'{\"message\":\"Invalid key\"}'\n",
      "\n",
      "(401)\n",
      "Reason: Unauthorized\n",
      "HTTP response headers: HTTPHeaderDict({'Date': 'Thu, 17 Aug 2023 21:18:26 GMT', 'Content-Type': 'application/json; charset=utf-8', 'Content-Length': '25', 'Connection': 'keep-alive', 'X-Powered-By': 'Express', 'Access-Control-Allow-Origin': '*', 'ETag': 'W/\"19-aa5ews+8iO9r0nbrJ9a59/u0j00\"', 'Vary': 'Accept-Encoding', 'CF-Cache-Status': 'DYNAMIC', 'Server': 'cloudflare', 'CF-RAY': '7f84f31949b05914-IAD'})\n",
      "HTTP response body: b'{\"message\":\"Invalid key\"}'\n",
      "\n"
     ]
    },
    {
     "name": "stderr",
     "output_type": "stream",
     "text": [
      "  1%|          | 349/35869 [05:21<1:30:40,  6.53it/s, errors=102]"
     ]
    },
    {
     "name": "stdout",
     "output_type": "stream",
     "text": [
      "(401)\n",
      "Reason: Unauthorized\n",
      "HTTP response headers: HTTPHeaderDict({'Date': 'Thu, 17 Aug 2023 21:18:26 GMT', 'Content-Type': 'application/json; charset=utf-8', 'Content-Length': '25', 'Connection': 'keep-alive', 'X-Powered-By': 'Express', 'Access-Control-Allow-Origin': '*', 'ETag': 'W/\"19-aa5ews+8iO9r0nbrJ9a59/u0j00\"', 'Vary': 'Accept-Encoding', 'CF-Cache-Status': 'DYNAMIC', 'Server': 'cloudflare', 'CF-RAY': '7f84f31a5c3a3956-IAD'})\n",
      "HTTP response body: b'{\"message\":\"Invalid key\"}'\n",
      "\n",
      "(401)\n",
      "Reason: Unauthorized\n",
      "HTTP response headers: HTTPHeaderDict({'Date': 'Thu, 17 Aug 2023 21:18:27 GMT', 'Content-Type': 'application/json; charset=utf-8', 'Content-Length': '25', 'Connection': 'keep-alive', 'X-Powered-By': 'Express', 'Access-Control-Allow-Origin': '*', 'ETag': 'W/\"19-aa5ews+8iO9r0nbrJ9a59/u0j00\"', 'Vary': 'Accept-Encoding', 'CF-Cache-Status': 'DYNAMIC', 'Server': 'cloudflare', 'CF-RAY': '7f84f31b39af20c4-IAD'})\n",
      "HTTP response body: b'{\"message\":\"Invalid key\"}'\n",
      "\n"
     ]
    },
    {
     "name": "stderr",
     "output_type": "stream",
     "text": [
      "  1%|          | 351/35869 [05:21<1:30:28,  6.54it/s, errors=104]"
     ]
    },
    {
     "name": "stdout",
     "output_type": "stream",
     "text": [
      "(401)\n",
      "Reason: Unauthorized\n",
      "HTTP response headers: HTTPHeaderDict({'Date': 'Thu, 17 Aug 2023 21:18:27 GMT', 'Content-Type': 'application/json; charset=utf-8', 'Content-Length': '25', 'Connection': 'keep-alive', 'X-Powered-By': 'Express', 'Access-Control-Allow-Origin': '*', 'ETag': 'W/\"19-aa5ews+8iO9r0nbrJ9a59/u0j00\"', 'Vary': 'Accept-Encoding', 'CF-Cache-Status': 'DYNAMIC', 'Server': 'cloudflare', 'CF-RAY': '7f84f31c2bd38200-IAD'})\n",
      "HTTP response body: b'{\"message\":\"Invalid key\"}'\n",
      "\n",
      "(401)\n",
      "Reason: Unauthorized\n",
      "HTTP response headers: HTTPHeaderDict({'Date': 'Thu, 17 Aug 2023 21:18:27 GMT', 'Content-Type': 'application/json; charset=utf-8', 'Content-Length': '25', 'Connection': 'keep-alive', 'X-Powered-By': 'Express', 'Access-Control-Allow-Origin': '*', 'ETag': 'W/\"19-aa5ews+8iO9r0nbrJ9a59/u0j00\"', 'Vary': 'Accept-Encoding', 'CF-Cache-Status': 'DYNAMIC', 'Server': 'cloudflare', 'CF-RAY': '7f84f31d2f5f3b18-IAD'})\n",
      "HTTP response body: b'{\"message\":\"Invalid key\"}'\n",
      "\n"
     ]
    },
    {
     "name": "stderr",
     "output_type": "stream",
     "text": [
      "  1%|          | 353/35869 [05:21<1:31:16,  6.48it/s, errors=106]"
     ]
    },
    {
     "name": "stdout",
     "output_type": "stream",
     "text": [
      "(401)\n",
      "Reason: Unauthorized\n",
      "HTTP response headers: HTTPHeaderDict({'Date': 'Thu, 17 Aug 2023 21:18:27 GMT', 'Content-Type': 'application/json; charset=utf-8', 'Content-Length': '25', 'Connection': 'keep-alive', 'X-Powered-By': 'Express', 'Access-Control-Allow-Origin': '*', 'ETag': 'W/\"19-aa5ews+8iO9r0nbrJ9a59/u0j00\"', 'Vary': 'Accept-Encoding', 'CF-Cache-Status': 'DYNAMIC', 'Server': 'cloudflare', 'CF-RAY': '7f84f31e08881366-IAD'})\n",
      "HTTP response body: b'{\"message\":\"Invalid key\"}'\n",
      "\n",
      "(401)\n",
      "Reason: Unauthorized\n",
      "HTTP response headers: HTTPHeaderDict({'Date': 'Thu, 17 Aug 2023 21:18:27 GMT', 'Content-Type': 'application/json; charset=utf-8', 'Content-Length': '25', 'Connection': 'keep-alive', 'X-Powered-By': 'Express', 'Access-Control-Allow-Origin': '*', 'ETag': 'W/\"19-aa5ews+8iO9r0nbrJ9a59/u0j00\"', 'Vary': 'Accept-Encoding', 'CF-Cache-Status': 'DYNAMIC', 'Server': 'cloudflare', 'CF-RAY': '7f84f31f0c688000-IAD'})\n",
      "HTTP response body: b'{\"message\":\"Invalid key\"}'\n",
      "\n"
     ]
    },
    {
     "name": "stderr",
     "output_type": "stream",
     "text": [
      "  1%|          | 355/35869 [05:22<1:54:49,  5.15it/s, errors=108]"
     ]
    },
    {
     "name": "stdout",
     "output_type": "stream",
     "text": [
      "(401)\n",
      "Reason: Unauthorized\n",
      "HTTP response headers: HTTPHeaderDict({'Date': 'Thu, 17 Aug 2023 21:18:28 GMT', 'Content-Type': 'application/json; charset=utf-8', 'Content-Length': '25', 'Connection': 'keep-alive', 'X-Powered-By': 'Express', 'Access-Control-Allow-Origin': '*', 'ETag': 'W/\"19-aa5ews+8iO9r0nbrJ9a59/u0j00\"', 'Vary': 'Accept-Encoding', 'CF-Cache-Status': 'DYNAMIC', 'Server': 'cloudflare', 'CF-RAY': '7f84f3200fce39b5-IAD'})\n",
      "HTTP response body: b'{\"message\":\"Invalid key\"}'\n",
      "\n",
      "(401)\n",
      "Reason: Unauthorized\n",
      "HTTP response headers: HTTPHeaderDict({'Date': 'Thu, 17 Aug 2023 21:18:28 GMT', 'Content-Type': 'application/json; charset=utf-8', 'Content-Length': '25', 'Connection': 'keep-alive', 'X-Powered-By': 'Express', 'Access-Control-Allow-Origin': '*', 'ETag': 'W/\"19-aa5ews+8iO9r0nbrJ9a59/u0j00\"', 'Vary': 'Accept-Encoding', 'CF-Cache-Status': 'DYNAMIC', 'Server': 'cloudflare', 'CF-RAY': '7f84f3222b184b8a-IAD'})\n",
      "HTTP response body: b'{\"message\":\"Invalid key\"}'\n",
      "\n"
     ]
    },
    {
     "name": "stderr",
     "output_type": "stream",
     "text": [
      "  1%|          | 357/35869 [05:22<1:41:05,  5.85it/s, errors=110]"
     ]
    },
    {
     "name": "stdout",
     "output_type": "stream",
     "text": [
      "(401)\n",
      "Reason: Unauthorized\n",
      "HTTP response headers: HTTPHeaderDict({'Date': 'Thu, 17 Aug 2023 21:18:28 GMT', 'Content-Type': 'application/json; charset=utf-8', 'Content-Length': '25', 'Connection': 'keep-alive', 'X-Powered-By': 'Express', 'Access-Control-Allow-Origin': '*', 'ETag': 'W/\"19-aa5ews+8iO9r0nbrJ9a59/u0j00\"', 'Vary': 'Accept-Encoding', 'CF-Cache-Status': 'DYNAMIC', 'Server': 'cloudflare', 'CF-RAY': '7f84f3232b9307a4-IAD'})\n",
      "HTTP response body: b'{\"message\":\"Invalid key\"}'\n",
      "\n",
      "(401)\n",
      "Reason: Unauthorized\n",
      "HTTP response headers: HTTPHeaderDict({'Date': 'Thu, 17 Aug 2023 21:18:28 GMT', 'Content-Type': 'application/json; charset=utf-8', 'Content-Length': '25', 'Connection': 'keep-alive', 'X-Powered-By': 'Express', 'Access-Control-Allow-Origin': '*', 'ETag': 'W/\"19-aa5ews+8iO9r0nbrJ9a59/u0j00\"', 'Vary': 'Accept-Encoding', 'CF-Cache-Status': 'DYNAMIC', 'Server': 'cloudflare', 'CF-RAY': '7f84f3240de4082e-IAD'})\n",
      "HTTP response body: b'{\"message\":\"Invalid key\"}'\n",
      "\n"
     ]
    },
    {
     "name": "stderr",
     "output_type": "stream",
     "text": [
      "  1%|          | 359/35869 [05:22<1:41:22,  5.84it/s, errors=112]"
     ]
    },
    {
     "name": "stdout",
     "output_type": "stream",
     "text": [
      "(401)\n",
      "Reason: Unauthorized\n",
      "HTTP response headers: HTTPHeaderDict({'Date': 'Thu, 17 Aug 2023 21:18:28 GMT', 'Content-Type': 'application/json; charset=utf-8', 'Content-Length': '25', 'Connection': 'keep-alive', 'X-Powered-By': 'Express', 'Access-Control-Allow-Origin': '*', 'ETag': 'W/\"19-aa5ews+8iO9r0nbrJ9a59/u0j00\"', 'Vary': 'Accept-Encoding', 'CF-Cache-Status': 'DYNAMIC', 'Server': 'cloudflare', 'CF-RAY': '7f84f32508932024-IAD'})\n",
      "HTTP response body: b'{\"message\":\"Invalid key\"}'\n",
      "\n",
      "(401)\n",
      "Reason: Unauthorized\n",
      "HTTP response headers: HTTPHeaderDict({'Date': 'Thu, 17 Aug 2023 21:18:28 GMT', 'Content-Type': 'application/json; charset=utf-8', 'Content-Length': '25', 'Connection': 'keep-alive', 'X-Powered-By': 'Express', 'Access-Control-Allow-Origin': '*', 'ETag': 'W/\"19-aa5ews+8iO9r0nbrJ9a59/u0j00\"', 'Vary': 'Accept-Encoding', 'CF-Cache-Status': 'DYNAMIC', 'Server': 'cloudflare', 'CF-RAY': '7f84f3260fe220c0-IAD'})\n",
      "HTTP response body: b'{\"message\":\"Invalid key\"}'\n",
      "\n"
     ]
    },
    {
     "name": "stderr",
     "output_type": "stream",
     "text": [
      "  1%|          | 361/35869 [05:23<1:37:18,  6.08it/s, errors=114]"
     ]
    },
    {
     "name": "stdout",
     "output_type": "stream",
     "text": [
      "(401)\n",
      "Reason: Unauthorized\n",
      "HTTP response headers: HTTPHeaderDict({'Date': 'Thu, 17 Aug 2023 21:18:28 GMT', 'Content-Type': 'application/json; charset=utf-8', 'Content-Length': '25', 'Connection': 'keep-alive', 'X-Powered-By': 'Express', 'Access-Control-Allow-Origin': '*', 'ETag': 'W/\"19-aa5ews+8iO9r0nbrJ9a59/u0j00\"', 'Vary': 'Accept-Encoding', 'CF-Cache-Status': 'DYNAMIC', 'Server': 'cloudflare', 'CF-RAY': '7f84f3272c5b1745-IAD'})\n",
      "HTTP response body: b'{\"message\":\"Invalid key\"}'\n",
      "\n",
      "(401)\n",
      "Reason: Unauthorized\n",
      "HTTP response headers: HTTPHeaderDict({'Date': 'Thu, 17 Aug 2023 21:18:29 GMT', 'Content-Type': 'application/json; charset=utf-8', 'Content-Length': '25', 'Connection': 'keep-alive', 'X-Powered-By': 'Express', 'Access-Control-Allow-Origin': '*', 'ETag': 'W/\"19-aa5ews+8iO9r0nbrJ9a59/u0j00\"', 'Vary': 'Accept-Encoding', 'CF-Cache-Status': 'DYNAMIC', 'Server': 'cloudflare', 'CF-RAY': '7f84f3281f972d07-IAD'})\n",
      "HTTP response body: b'{\"message\":\"Invalid key\"}'\n",
      "\n"
     ]
    },
    {
     "name": "stderr",
     "output_type": "stream",
     "text": [
      "  1%|          | 363/35869 [05:23<1:33:50,  6.31it/s, errors=116]"
     ]
    },
    {
     "name": "stdout",
     "output_type": "stream",
     "text": [
      "(401)\n",
      "Reason: Unauthorized\n",
      "HTTP response headers: HTTPHeaderDict({'Date': 'Thu, 17 Aug 2023 21:18:29 GMT', 'Content-Type': 'application/json; charset=utf-8', 'Content-Length': '25', 'Connection': 'keep-alive', 'X-Powered-By': 'Express', 'Access-Control-Allow-Origin': '*', 'ETag': 'W/\"19-aa5ews+8iO9r0nbrJ9a59/u0j00\"', 'Vary': 'Accept-Encoding', 'CF-Cache-Status': 'DYNAMIC', 'Server': 'cloudflare', 'CF-RAY': '7f84f3292ecf0814-IAD'})\n",
      "HTTP response body: b'{\"message\":\"Invalid key\"}'\n",
      "\n",
      "(401)\n",
      "Reason: Unauthorized\n",
      "HTTP response headers: HTTPHeaderDict({'Date': 'Thu, 17 Aug 2023 21:18:29 GMT', 'Content-Type': 'application/json; charset=utf-8', 'Content-Length': '25', 'Connection': 'keep-alive', 'X-Powered-By': 'Express', 'Access-Control-Allow-Origin': '*', 'ETag': 'W/\"19-aa5ews+8iO9r0nbrJ9a59/u0j00\"', 'Vary': 'Accept-Encoding', 'CF-Cache-Status': 'DYNAMIC', 'Server': 'cloudflare', 'CF-RAY': '7f84f32a0d300649-IAD'})\n",
      "HTTP response body: b'{\"message\":\"Invalid key\"}'\n",
      "\n"
     ]
    },
    {
     "name": "stderr",
     "output_type": "stream",
     "text": [
      "  1%|          | 365/35869 [05:23<1:33:09,  6.35it/s, errors=118]"
     ]
    },
    {
     "name": "stdout",
     "output_type": "stream",
     "text": [
      "(401)\n",
      "Reason: Unauthorized\n",
      "HTTP response headers: HTTPHeaderDict({'Date': 'Thu, 17 Aug 2023 21:18:29 GMT', 'Content-Type': 'application/json; charset=utf-8', 'Content-Length': '25', 'Connection': 'keep-alive', 'X-Powered-By': 'Express', 'Access-Control-Allow-Origin': '*', 'ETag': 'W/\"19-aa5ews+8iO9r0nbrJ9a59/u0j00\"', 'Vary': 'Accept-Encoding', 'CF-Cache-Status': 'DYNAMIC', 'Server': 'cloudflare', 'CF-RAY': '7f84f32b18692057-IAD'})\n",
      "HTTP response body: b'{\"message\":\"Invalid key\"}'\n",
      "\n",
      "(401)\n",
      "Reason: Unauthorized\n",
      "HTTP response headers: HTTPHeaderDict({'Date': 'Thu, 17 Aug 2023 21:18:29 GMT', 'Content-Type': 'application/json; charset=utf-8', 'Content-Length': '25', 'Connection': 'keep-alive', 'X-Powered-By': 'Express', 'Access-Control-Allow-Origin': '*', 'ETag': 'W/\"19-aa5ews+8iO9r0nbrJ9a59/u0j00\"', 'Vary': 'Accept-Encoding', 'CF-Cache-Status': 'DYNAMIC', 'Server': 'cloudflare', 'CF-RAY': '7f84f32c0a41081e-IAD'})\n",
      "HTTP response body: b'{\"message\":\"Invalid key\"}'\n",
      "\n"
     ]
    },
    {
     "name": "stderr",
     "output_type": "stream",
     "text": [
      "  1%|          | 367/35869 [05:24<1:32:48,  6.38it/s, errors=120]"
     ]
    },
    {
     "name": "stdout",
     "output_type": "stream",
     "text": [
      "(401)\n",
      "Reason: Unauthorized\n",
      "HTTP response headers: HTTPHeaderDict({'Date': 'Thu, 17 Aug 2023 21:18:29 GMT', 'Content-Type': 'application/json; charset=utf-8', 'Content-Length': '25', 'Connection': 'keep-alive', 'X-Powered-By': 'Express', 'Access-Control-Allow-Origin': '*', 'ETag': 'W/\"19-aa5ews+8iO9r0nbrJ9a59/u0j00\"', 'Vary': 'Accept-Encoding', 'CF-Cache-Status': 'DYNAMIC', 'Server': 'cloudflare', 'CF-RAY': '7f84f32cf91e05e8-IAD'})\n",
      "HTTP response body: b'{\"message\":\"Invalid key\"}'\n",
      "\n",
      "(401)\n",
      "Reason: Unauthorized\n",
      "HTTP response headers: HTTPHeaderDict({'Date': 'Thu, 17 Aug 2023 21:18:30 GMT', 'Content-Type': 'application/json; charset=utf-8', 'Content-Length': '25', 'Connection': 'keep-alive', 'X-Powered-By': 'Express', 'Access-Control-Allow-Origin': '*', 'ETag': 'W/\"19-aa5ews+8iO9r0nbrJ9a59/u0j00\"', 'Vary': 'Accept-Encoding', 'CF-Cache-Status': 'DYNAMIC', 'Server': 'cloudflare', 'CF-RAY': '7f84f32e09f67faa-IAD'})\n",
      "HTTP response body: b'{\"message\":\"Invalid key\"}'\n",
      "\n"
     ]
    },
    {
     "name": "stderr",
     "output_type": "stream",
     "text": [
      "  1%|          | 369/35869 [05:24<1:31:27,  6.47it/s, errors=122]"
     ]
    },
    {
     "name": "stdout",
     "output_type": "stream",
     "text": [
      "(401)\n",
      "Reason: Unauthorized\n",
      "HTTP response headers: HTTPHeaderDict({'Date': 'Thu, 17 Aug 2023 21:18:30 GMT', 'Content-Type': 'application/json; charset=utf-8', 'Content-Length': '25', 'Connection': 'keep-alive', 'X-Powered-By': 'Express', 'Access-Control-Allow-Origin': '*', 'ETag': 'W/\"19-aa5ews+8iO9r0nbrJ9a59/u0j00\"', 'Vary': 'Accept-Encoding', 'CF-Cache-Status': 'DYNAMIC', 'Server': 'cloudflare', 'CF-RAY': '7f84f32eff0039a0-IAD'})\n",
      "HTTP response body: b'{\"message\":\"Invalid key\"}'\n",
      "\n",
      "(401)\n",
      "Reason: Unauthorized\n",
      "HTTP response headers: HTTPHeaderDict({'Date': 'Thu, 17 Aug 2023 21:18:30 GMT', 'Content-Type': 'application/json; charset=utf-8', 'Content-Length': '25', 'Connection': 'keep-alive', 'X-Powered-By': 'Express', 'Access-Control-Allow-Origin': '*', 'ETag': 'W/\"19-aa5ews+8iO9r0nbrJ9a59/u0j00\"', 'Vary': 'Accept-Encoding', 'CF-Cache-Status': 'DYNAMIC', 'Server': 'cloudflare', 'CF-RAY': '7f84f32fe88a38dd-IAD'})\n",
      "HTTP response body: b'{\"message\":\"Invalid key\"}'\n",
      "\n"
     ]
    },
    {
     "name": "stderr",
     "output_type": "stream",
     "text": [
      "  1%|          | 371/35869 [05:24<1:31:12,  6.49it/s, errors=124]"
     ]
    },
    {
     "name": "stdout",
     "output_type": "stream",
     "text": [
      "(401)\n",
      "Reason: Unauthorized\n",
      "HTTP response headers: HTTPHeaderDict({'Date': 'Thu, 17 Aug 2023 21:18:30 GMT', 'Content-Type': 'application/json; charset=utf-8', 'Content-Length': '25', 'Connection': 'keep-alive', 'X-Powered-By': 'Express', 'Access-Control-Allow-Origin': '*', 'ETag': 'W/\"19-aa5ews+8iO9r0nbrJ9a59/u0j00\"', 'Vary': 'Accept-Encoding', 'CF-Cache-Status': 'DYNAMIC', 'Server': 'cloudflare', 'CF-RAY': '7f84f330e8171fd3-IAD'})\n",
      "HTTP response body: b'{\"message\":\"Invalid key\"}'\n",
      "\n",
      "(401)\n",
      "Reason: Unauthorized\n",
      "HTTP response headers: HTTPHeaderDict({'Date': 'Thu, 17 Aug 2023 21:18:30 GMT', 'Content-Type': 'application/json; charset=utf-8', 'Content-Length': '25', 'Connection': 'keep-alive', 'X-Powered-By': 'Express', 'Access-Control-Allow-Origin': '*', 'ETag': 'W/\"19-aa5ews+8iO9r0nbrJ9a59/u0j00\"', 'Vary': 'Accept-Encoding', 'CF-Cache-Status': 'DYNAMIC', 'Server': 'cloudflare', 'CF-RAY': '7f84f331dd7e5848-IAD'})\n",
      "HTTP response body: b'{\"message\":\"Invalid key\"}'\n",
      "\n"
     ]
    },
    {
     "name": "stderr",
     "output_type": "stream",
     "text": [
      "  1%|          | 373/35869 [05:25<1:30:59,  6.50it/s, errors=126]"
     ]
    },
    {
     "name": "stdout",
     "output_type": "stream",
     "text": [
      "(401)\n",
      "Reason: Unauthorized\n",
      "HTTP response headers: HTTPHeaderDict({'Date': 'Thu, 17 Aug 2023 21:18:30 GMT', 'Content-Type': 'application/json; charset=utf-8', 'Content-Length': '25', 'Connection': 'keep-alive', 'X-Powered-By': 'Express', 'Access-Control-Allow-Origin': '*', 'ETag': 'W/\"19-aa5ews+8iO9r0nbrJ9a59/u0j00\"', 'Vary': 'Accept-Encoding', 'CF-Cache-Status': 'DYNAMIC', 'Server': 'cloudflare', 'CF-RAY': '7f84f332c9158272-IAD'})\n",
      "HTTP response body: b'{\"message\":\"Invalid key\"}'\n",
      "\n",
      "(401)\n",
      "Reason: Unauthorized\n",
      "HTTP response headers: HTTPHeaderDict({'Date': 'Thu, 17 Aug 2023 21:18:31 GMT', 'Content-Type': 'application/json; charset=utf-8', 'Content-Length': '25', 'Connection': 'keep-alive', 'X-Powered-By': 'Express', 'Access-Control-Allow-Origin': '*', 'ETag': 'W/\"19-aa5ews+8iO9r0nbrJ9a59/u0j00\"', 'Vary': 'Accept-Encoding', 'CF-Cache-Status': 'DYNAMIC', 'Server': 'cloudflare', 'CF-RAY': '7f84f333bbb73975-IAD'})\n",
      "HTTP response body: b'{\"message\":\"Invalid key\"}'\n",
      "\n"
     ]
    },
    {
     "name": "stderr",
     "output_type": "stream",
     "text": [
      "  1%|          | 375/35869 [05:25<1:58:36,  4.99it/s, errors=128]"
     ]
    },
    {
     "name": "stdout",
     "output_type": "stream",
     "text": [
      "(401)\n",
      "Reason: Unauthorized\n",
      "HTTP response headers: HTTPHeaderDict({'Date': 'Thu, 17 Aug 2023 21:18:31 GMT', 'Content-Type': 'application/json; charset=utf-8', 'Content-Length': '25', 'Connection': 'keep-alive', 'X-Powered-By': 'Express', 'Access-Control-Allow-Origin': '*', 'ETag': 'W/\"19-aa5ews+8iO9r0nbrJ9a59/u0j00\"', 'Vary': 'Accept-Encoding', 'CF-Cache-Status': 'DYNAMIC', 'Server': 'cloudflare', 'CF-RAY': '7f84f334be5c572e-IAD'})\n",
      "HTTP response body: b'{\"message\":\"Invalid key\"}'\n",
      "\n",
      "(401)\n",
      "Reason: Unauthorized\n",
      "HTTP response headers: HTTPHeaderDict({'Date': 'Thu, 17 Aug 2023 21:18:31 GMT', 'Content-Type': 'application/json; charset=utf-8', 'Content-Length': '25', 'Connection': 'keep-alive', 'X-Powered-By': 'Express', 'Access-Control-Allow-Origin': '*', 'ETag': 'W/\"19-aa5ews+8iO9r0nbrJ9a59/u0j00\"', 'Vary': 'Accept-Encoding', 'CF-Cache-Status': 'DYNAMIC', 'Server': 'cloudflare', 'CF-RAY': '7f84f3370992201c-IAD'})\n",
      "HTTP response body: b'{\"message\":\"Invalid key\"}'\n",
      "\n"
     ]
    },
    {
     "name": "stderr",
     "output_type": "stream",
     "text": [
      "  1%|          | 377/35869 [05:25<1:44:41,  5.65it/s, errors=130]"
     ]
    },
    {
     "name": "stdout",
     "output_type": "stream",
     "text": [
      "(401)\n",
      "Reason: Unauthorized\n",
      "HTTP response headers: HTTPHeaderDict({'Date': 'Thu, 17 Aug 2023 21:18:31 GMT', 'Content-Type': 'application/json; charset=utf-8', 'Content-Length': '25', 'Connection': 'keep-alive', 'X-Powered-By': 'Express', 'Access-Control-Allow-Origin': '*', 'ETag': 'W/\"19-aa5ews+8iO9r0nbrJ9a59/u0j00\"', 'Vary': 'Accept-Encoding', 'CF-Cache-Status': 'DYNAMIC', 'Server': 'cloudflare', 'CF-RAY': '7f84f337fb632d15-IAD'})\n",
      "HTTP response body: b'{\"message\":\"Invalid key\"}'\n",
      "\n",
      "(401)\n",
      "Reason: Unauthorized\n",
      "HTTP response headers: HTTPHeaderDict({'Date': 'Thu, 17 Aug 2023 21:18:31 GMT', 'Content-Type': 'application/json; charset=utf-8', 'Content-Length': '25', 'Connection': 'keep-alive', 'X-Powered-By': 'Express', 'Access-Control-Allow-Origin': '*', 'ETag': 'W/\"19-aa5ews+8iO9r0nbrJ9a59/u0j00\"', 'Vary': 'Accept-Encoding', 'CF-Cache-Status': 'DYNAMIC', 'Server': 'cloudflare', 'CF-RAY': '7f84f338fab05b34-IAD'})\n",
      "HTTP response body: b'{\"message\":\"Invalid key\"}'\n",
      "\n"
     ]
    },
    {
     "name": "stderr",
     "output_type": "stream",
     "text": [
      "  1%|          | 379/35869 [05:26<1:36:40,  6.12it/s, errors=132]"
     ]
    },
    {
     "name": "stdout",
     "output_type": "stream",
     "text": [
      "(401)\n",
      "Reason: Unauthorized\n",
      "HTTP response headers: HTTPHeaderDict({'Date': 'Thu, 17 Aug 2023 21:18:32 GMT', 'Content-Type': 'application/json; charset=utf-8', 'Content-Length': '25', 'Connection': 'keep-alive', 'X-Powered-By': 'Express', 'Access-Control-Allow-Origin': '*', 'ETag': 'W/\"19-aa5ews+8iO9r0nbrJ9a59/u0j00\"', 'Vary': 'Accept-Encoding', 'CF-Cache-Status': 'DYNAMIC', 'Server': 'cloudflare', 'CF-RAY': '7f84f339ec93387f-IAD'})\n",
      "HTTP response body: b'{\"message\":\"Invalid key\"}'\n",
      "\n",
      "(401)\n",
      "Reason: Unauthorized\n",
      "HTTP response headers: HTTPHeaderDict({'Date': 'Thu, 17 Aug 2023 21:18:32 GMT', 'Content-Type': 'application/json; charset=utf-8', 'Content-Length': '25', 'Connection': 'keep-alive', 'X-Powered-By': 'Express', 'Access-Control-Allow-Origin': '*', 'ETag': 'W/\"19-aa5ews+8iO9r0nbrJ9a59/u0j00\"', 'Vary': 'Accept-Encoding', 'CF-Cache-Status': 'DYNAMIC', 'Server': 'cloudflare', 'CF-RAY': '7f84f33ad95107a8-IAD'})\n",
      "HTTP response body: b'{\"message\":\"Invalid key\"}'\n",
      "\n"
     ]
    },
    {
     "name": "stderr",
     "output_type": "stream",
     "text": [
      "  1%|          | 381/35869 [05:26<1:34:23,  6.27it/s, errors=134]"
     ]
    },
    {
     "name": "stdout",
     "output_type": "stream",
     "text": [
      "(401)\n",
      "Reason: Unauthorized\n",
      "HTTP response headers: HTTPHeaderDict({'Date': 'Thu, 17 Aug 2023 21:18:32 GMT', 'Content-Type': 'application/json; charset=utf-8', 'Content-Length': '25', 'Connection': 'keep-alive', 'X-Powered-By': 'Express', 'Access-Control-Allow-Origin': '*', 'ETag': 'W/\"19-aa5ews+8iO9r0nbrJ9a59/u0j00\"', 'Vary': 'Accept-Encoding', 'CF-Cache-Status': 'DYNAMIC', 'Server': 'cloudflare', 'CF-RAY': '7f84f33bc8795a94-IAD'})\n",
      "HTTP response body: b'{\"message\":\"Invalid key\"}'\n",
      "\n",
      "(401)\n",
      "Reason: Unauthorized\n",
      "HTTP response headers: HTTPHeaderDict({'Date': 'Thu, 17 Aug 2023 21:18:32 GMT', 'Content-Type': 'application/json; charset=utf-8', 'Content-Length': '25', 'Connection': 'keep-alive', 'X-Powered-By': 'Express', 'Access-Control-Allow-Origin': '*', 'ETag': 'W/\"19-aa5ews+8iO9r0nbrJ9a59/u0j00\"', 'Vary': 'Accept-Encoding', 'CF-Cache-Status': 'DYNAMIC', 'Server': 'cloudflare', 'CF-RAY': '7f84f33cba129c8a-IAD'})\n",
      "HTTP response body: b'{\"message\":\"Invalid key\"}'\n",
      "\n"
     ]
    },
    {
     "name": "stderr",
     "output_type": "stream",
     "text": [
      "  1%|          | 383/35869 [05:26<1:33:43,  6.31it/s, errors=136]"
     ]
    },
    {
     "name": "stdout",
     "output_type": "stream",
     "text": [
      "(401)\n",
      "Reason: Unauthorized\n",
      "HTTP response headers: HTTPHeaderDict({'Date': 'Thu, 17 Aug 2023 21:18:32 GMT', 'Content-Type': 'application/json; charset=utf-8', 'Content-Length': '25', 'Connection': 'keep-alive', 'X-Powered-By': 'Express', 'Access-Control-Allow-Origin': '*', 'ETag': 'W/\"19-aa5ews+8iO9r0nbrJ9a59/u0j00\"', 'Vary': 'Accept-Encoding', 'CF-Cache-Status': 'DYNAMIC', 'Server': 'cloudflare', 'CF-RAY': '7f84f33dbfcf82f9-IAD'})\n",
      "HTTP response body: b'{\"message\":\"Invalid key\"}'\n",
      "\n",
      "(401)\n",
      "Reason: Unauthorized\n",
      "HTTP response headers: HTTPHeaderDict({'Date': 'Thu, 17 Aug 2023 21:18:32 GMT', 'Content-Type': 'application/json; charset=utf-8', 'Content-Length': '25', 'Connection': 'keep-alive', 'X-Powered-By': 'Express', 'Access-Control-Allow-Origin': '*', 'ETag': 'W/\"19-aa5ews+8iO9r0nbrJ9a59/u0j00\"', 'Vary': 'Accept-Encoding', 'CF-Cache-Status': 'DYNAMIC', 'Server': 'cloudflare', 'CF-RAY': '7f84f33ebd0e1727-IAD'})\n",
      "HTTP response body: b'{\"message\":\"Invalid key\"}'\n",
      "\n"
     ]
    },
    {
     "name": "stderr",
     "output_type": "stream",
     "text": [
      "  1%|          | 385/35869 [05:27<1:30:46,  6.52it/s, errors=138]"
     ]
    },
    {
     "name": "stdout",
     "output_type": "stream",
     "text": [
      "(401)\n",
      "Reason: Unauthorized\n",
      "HTTP response headers: HTTPHeaderDict({'Date': 'Thu, 17 Aug 2023 21:18:32 GMT', 'Content-Type': 'application/json; charset=utf-8', 'Content-Length': '25', 'Connection': 'keep-alive', 'X-Powered-By': 'Express', 'Access-Control-Allow-Origin': '*', 'ETag': 'W/\"19-aa5ews+8iO9r0nbrJ9a59/u0j00\"', 'Vary': 'Accept-Encoding', 'CF-Cache-Status': 'DYNAMIC', 'Server': 'cloudflare', 'CF-RAY': '7f84f33fbb46081f-IAD'})\n",
      "HTTP response body: b'{\"message\":\"Invalid key\"}'\n",
      "\n",
      "(401)\n",
      "Reason: Unauthorized\n",
      "HTTP response headers: HTTPHeaderDict({'Date': 'Thu, 17 Aug 2023 21:18:33 GMT', 'Content-Type': 'application/json; charset=utf-8', 'Content-Length': '25', 'Connection': 'keep-alive', 'X-Powered-By': 'Express', 'Access-Control-Allow-Origin': '*', 'ETag': 'W/\"19-aa5ews+8iO9r0nbrJ9a59/u0j00\"', 'Vary': 'Accept-Encoding', 'CF-Cache-Status': 'DYNAMIC', 'Server': 'cloudflare', 'CF-RAY': '7f84f340981b82f6-IAD'})\n",
      "HTTP response body: b'{\"message\":\"Invalid key\"}'\n",
      "\n"
     ]
    },
    {
     "name": "stderr",
     "output_type": "stream",
     "text": [
      "  1%|          | 387/35869 [05:27<1:31:56,  6.43it/s, errors=140]"
     ]
    },
    {
     "name": "stdout",
     "output_type": "stream",
     "text": [
      "(401)\n",
      "Reason: Unauthorized\n",
      "HTTP response headers: HTTPHeaderDict({'Date': 'Thu, 17 Aug 2023 21:18:33 GMT', 'Content-Type': 'application/json; charset=utf-8', 'Content-Length': '25', 'Connection': 'keep-alive', 'X-Powered-By': 'Express', 'Access-Control-Allow-Origin': '*', 'ETag': 'W/\"19-aa5ews+8iO9r0nbrJ9a59/u0j00\"', 'Vary': 'Accept-Encoding', 'CF-Cache-Status': 'DYNAMIC', 'Server': 'cloudflare', 'CF-RAY': '7f84f3418a28084b-IAD'})\n",
      "HTTP response body: b'{\"message\":\"Invalid key\"}'\n",
      "\n",
      "(401)\n",
      "Reason: Unauthorized\n",
      "HTTP response headers: HTTPHeaderDict({'Date': 'Thu, 17 Aug 2023 21:18:33 GMT', 'Content-Type': 'application/json; charset=utf-8', 'Content-Length': '25', 'Connection': 'keep-alive', 'X-Powered-By': 'Express', 'Access-Control-Allow-Origin': '*', 'ETag': 'W/\"19-aa5ews+8iO9r0nbrJ9a59/u0j00\"', 'Vary': 'Accept-Encoding', 'CF-Cache-Status': 'DYNAMIC', 'Server': 'cloudflare', 'CF-RAY': '7f84f3428ca83949-IAD'})\n",
      "HTTP response body: b'{\"message\":\"Invalid key\"}'\n",
      "\n"
     ]
    },
    {
     "name": "stderr",
     "output_type": "stream",
     "text": [
      "  1%|          | 389/35869 [05:27<1:32:06,  6.42it/s, errors=142]"
     ]
    },
    {
     "name": "stdout",
     "output_type": "stream",
     "text": [
      "(401)\n",
      "Reason: Unauthorized\n",
      "HTTP response headers: HTTPHeaderDict({'Date': 'Thu, 17 Aug 2023 21:18:33 GMT', 'Content-Type': 'application/json; charset=utf-8', 'Content-Length': '25', 'Connection': 'keep-alive', 'X-Powered-By': 'Express', 'Access-Control-Allow-Origin': '*', 'ETag': 'W/\"19-aa5ews+8iO9r0nbrJ9a59/u0j00\"', 'Vary': 'Accept-Encoding', 'CF-Cache-Status': 'DYNAMIC', 'Server': 'cloudflare', 'CF-RAY': '7f84f3438c0982fc-IAD'})\n",
      "HTTP response body: b'{\"message\":\"Invalid key\"}'\n",
      "\n",
      "(401)\n",
      "Reason: Unauthorized\n",
      "HTTP response headers: HTTPHeaderDict({'Date': 'Thu, 17 Aug 2023 21:18:33 GMT', 'Content-Type': 'application/json; charset=utf-8', 'Content-Length': '25', 'Connection': 'keep-alive', 'X-Powered-By': 'Express', 'Access-Control-Allow-Origin': '*', 'ETag': 'W/\"19-aa5ews+8iO9r0nbrJ9a59/u0j00\"', 'Vary': 'Accept-Encoding', 'CF-Cache-Status': 'DYNAMIC', 'Server': 'cloudflare', 'CF-RAY': '7f84f344899a8232-IAD'})\n",
      "HTTP response body: b'{\"message\":\"Invalid key\"}'\n",
      "\n"
     ]
    },
    {
     "name": "stderr",
     "output_type": "stream",
     "text": [
      "  1%|          | 391/35869 [05:28<1:30:19,  6.55it/s, errors=144]"
     ]
    },
    {
     "name": "stdout",
     "output_type": "stream",
     "text": [
      "(401)\n",
      "Reason: Unauthorized\n",
      "HTTP response headers: HTTPHeaderDict({'Date': 'Thu, 17 Aug 2023 21:18:33 GMT', 'Content-Type': 'application/json; charset=utf-8', 'Content-Length': '25', 'Connection': 'keep-alive', 'X-Powered-By': 'Express', 'Access-Control-Allow-Origin': '*', 'ETag': 'W/\"19-aa5ews+8iO9r0nbrJ9a59/u0j00\"', 'Vary': 'Accept-Encoding', 'CF-Cache-Status': 'DYNAMIC', 'Server': 'cloudflare', 'CF-RAY': '7f84f34579d957be-IAD'})\n",
      "HTTP response body: b'{\"message\":\"Invalid key\"}'\n",
      "\n",
      "(401)\n",
      "Reason: Unauthorized\n",
      "HTTP response headers: HTTPHeaderDict({'Date': 'Thu, 17 Aug 2023 21:18:33 GMT', 'Content-Type': 'application/json; charset=utf-8', 'Content-Length': '25', 'Connection': 'keep-alive', 'X-Powered-By': 'Express', 'Access-Control-Allow-Origin': '*', 'ETag': 'W/\"19-aa5ews+8iO9r0nbrJ9a59/u0j00\"', 'Vary': 'Accept-Encoding', 'CF-Cache-Status': 'DYNAMIC', 'Server': 'cloudflare', 'CF-RAY': '7f84f3465f6239af-IAD'})\n",
      "HTTP response body: b'{\"message\":\"Invalid key\"}'\n",
      "\n"
     ]
    },
    {
     "name": "stderr",
     "output_type": "stream",
     "text": [
      "  1%|          | 393/35869 [05:28<1:29:13,  6.63it/s, errors=146]"
     ]
    },
    {
     "name": "stdout",
     "output_type": "stream",
     "text": [
      "(401)\n",
      "Reason: Unauthorized\n",
      "HTTP response headers: HTTPHeaderDict({'Date': 'Thu, 17 Aug 2023 21:18:34 GMT', 'Content-Type': 'application/json; charset=utf-8', 'Content-Length': '25', 'Connection': 'keep-alive', 'X-Powered-By': 'Express', 'Access-Control-Allow-Origin': '*', 'ETag': 'W/\"19-aa5ews+8iO9r0nbrJ9a59/u0j00\"', 'Vary': 'Accept-Encoding', 'CF-Cache-Status': 'DYNAMIC', 'Server': 'cloudflare', 'CF-RAY': '7f84f3475e470aa9-IAD'})\n",
      "HTTP response body: b'{\"message\":\"Invalid key\"}'\n",
      "\n",
      "(401)\n",
      "Reason: Unauthorized\n",
      "HTTP response headers: HTTPHeaderDict({'Date': 'Thu, 17 Aug 2023 21:18:34 GMT', 'Content-Type': 'application/json; charset=utf-8', 'Content-Length': '25', 'Connection': 'keep-alive', 'X-Powered-By': 'Express', 'Access-Control-Allow-Origin': '*', 'ETag': 'W/\"19-aa5ews+8iO9r0nbrJ9a59/u0j00\"', 'Vary': 'Accept-Encoding', 'CF-Cache-Status': 'DYNAMIC', 'Server': 'cloudflare', 'CF-RAY': '7f84f3484b9620ab-IAD'})\n",
      "HTTP response body: b'{\"message\":\"Invalid key\"}'\n",
      "\n"
     ]
    },
    {
     "name": "stderr",
     "output_type": "stream",
     "text": [
      "  1%|          | 395/35869 [05:28<1:54:57,  5.14it/s, errors=148]"
     ]
    },
    {
     "name": "stdout",
     "output_type": "stream",
     "text": [
      "(401)\n",
      "Reason: Unauthorized\n",
      "HTTP response headers: HTTPHeaderDict({'Date': 'Thu, 17 Aug 2023 21:18:34 GMT', 'Content-Type': 'application/json; charset=utf-8', 'Content-Length': '25', 'Connection': 'keep-alive', 'X-Powered-By': 'Express', 'Access-Control-Allow-Origin': '*', 'ETag': 'W/\"19-aa5ews+8iO9r0nbrJ9a59/u0j00\"', 'Vary': 'Accept-Encoding', 'CF-Cache-Status': 'DYNAMIC', 'Server': 'cloudflare', 'CF-RAY': '7f84f34948cd5b47-IAD'})\n",
      "HTTP response body: b'{\"message\":\"Invalid key\"}'\n",
      "\n",
      "(401)\n",
      "Reason: Unauthorized\n",
      "HTTP response headers: HTTPHeaderDict({'Date': 'Thu, 17 Aug 2023 21:18:34 GMT', 'Content-Type': 'application/json; charset=utf-8', 'Content-Length': '25', 'Connection': 'keep-alive', 'X-Powered-By': 'Express', 'Access-Control-Allow-Origin': '*', 'ETag': 'W/\"19-aa5ews+8iO9r0nbrJ9a59/u0j00\"', 'Vary': 'Accept-Encoding', 'CF-Cache-Status': 'DYNAMIC', 'Server': 'cloudflare', 'CF-RAY': '7f84f34b686c398c-IAD'})\n",
      "HTTP response body: b'{\"message\":\"Invalid key\"}'\n",
      "\n"
     ]
    },
    {
     "name": "stderr",
     "output_type": "stream",
     "text": [
      "  1%|          | 397/35869 [05:29<1:46:04,  5.57it/s, errors=150]"
     ]
    },
    {
     "name": "stdout",
     "output_type": "stream",
     "text": [
      "(401)\n",
      "Reason: Unauthorized\n",
      "HTTP response headers: HTTPHeaderDict({'Date': 'Thu, 17 Aug 2023 21:18:34 GMT', 'Content-Type': 'application/json; charset=utf-8', 'Content-Length': '25', 'Connection': 'keep-alive', 'X-Powered-By': 'Express', 'Access-Control-Allow-Origin': '*', 'ETag': 'W/\"19-aa5ews+8iO9r0nbrJ9a59/u0j00\"', 'Vary': 'Accept-Encoding', 'CF-Cache-Status': 'DYNAMIC', 'Server': 'cloudflare', 'CF-RAY': '7f84f34c8deb0a8b-IAD'})\n",
      "HTTP response body: b'{\"message\":\"Invalid key\"}'\n",
      "\n",
      "(401)\n",
      "Reason: Unauthorized\n",
      "HTTP response headers: HTTPHeaderDict({'Date': 'Thu, 17 Aug 2023 21:18:35 GMT', 'Content-Type': 'application/json; charset=utf-8', 'Content-Length': '25', 'Connection': 'keep-alive', 'X-Powered-By': 'Express', 'Access-Control-Allow-Origin': '*', 'ETag': 'W/\"19-aa5ews+8iO9r0nbrJ9a59/u0j00\"', 'Vary': 'Accept-Encoding', 'CF-Cache-Status': 'DYNAMIC', 'Server': 'cloudflare', 'CF-RAY': '7f84f34d8892175a-IAD'})\n",
      "HTTP response body: b'{\"message\":\"Invalid key\"}'\n",
      "\n"
     ]
    },
    {
     "name": "stderr",
     "output_type": "stream",
     "text": [
      "  1%|          | 399/35869 [05:29<1:39:29,  5.94it/s, errors=152]"
     ]
    },
    {
     "name": "stdout",
     "output_type": "stream",
     "text": [
      "(401)\n",
      "Reason: Unauthorized\n",
      "HTTP response headers: HTTPHeaderDict({'Date': 'Thu, 17 Aug 2023 21:18:35 GMT', 'Content-Type': 'application/json; charset=utf-8', 'Content-Length': '25', 'Connection': 'keep-alive', 'X-Powered-By': 'Express', 'Access-Control-Allow-Origin': '*', 'ETag': 'W/\"19-aa5ews+8iO9r0nbrJ9a59/u0j00\"', 'Vary': 'Accept-Encoding', 'CF-Cache-Status': 'DYNAMIC', 'Server': 'cloudflare', 'CF-RAY': '7f84f34e799a58cc-IAD'})\n",
      "HTTP response body: b'{\"message\":\"Invalid key\"}'\n",
      "\n",
      "(401)\n",
      "Reason: Unauthorized\n",
      "HTTP response headers: HTTPHeaderDict({'Date': 'Thu, 17 Aug 2023 21:18:35 GMT', 'Content-Type': 'application/json; charset=utf-8', 'Content-Length': '25', 'Connection': 'keep-alive', 'X-Powered-By': 'Express', 'Access-Control-Allow-Origin': '*', 'ETag': 'W/\"19-aa5ews+8iO9r0nbrJ9a59/u0j00\"', 'Vary': 'Accept-Encoding', 'CF-Cache-Status': 'DYNAMIC', 'Server': 'cloudflare', 'CF-RAY': '7f84f34f8f510606-IAD'})\n",
      "HTTP response body: b'{\"message\":\"Invalid key\"}'\n",
      "\n"
     ]
    },
    {
     "name": "stderr",
     "output_type": "stream",
     "text": [
      "  1%|          | 401/35869 [05:29<1:37:09,  6.08it/s, errors=154]"
     ]
    },
    {
     "name": "stdout",
     "output_type": "stream",
     "text": [
      "(401)\n",
      "Reason: Unauthorized\n",
      "HTTP response headers: HTTPHeaderDict({'Date': 'Thu, 17 Aug 2023 21:18:35 GMT', 'Content-Type': 'application/json; charset=utf-8', 'Content-Length': '25', 'Connection': 'keep-alive', 'X-Powered-By': 'Express', 'Access-Control-Allow-Origin': '*', 'ETag': 'W/\"19-aa5ews+8iO9r0nbrJ9a59/u0j00\"', 'Vary': 'Accept-Encoding', 'CF-Cache-Status': 'DYNAMIC', 'Server': 'cloudflare', 'CF-RAY': '7f84f3506a613894-IAD'})\n",
      "HTTP response body: b'{\"message\":\"Invalid key\"}'\n",
      "\n",
      "(401)\n",
      "Reason: Unauthorized\n",
      "HTTP response headers: HTTPHeaderDict({'Date': 'Thu, 17 Aug 2023 21:18:35 GMT', 'Content-Type': 'application/json; charset=utf-8', 'Content-Length': '25', 'Connection': 'keep-alive', 'X-Powered-By': 'Express', 'Access-Control-Allow-Origin': '*', 'ETag': 'W/\"19-aa5ews+8iO9r0nbrJ9a59/u0j00\"', 'Vary': 'Accept-Encoding', 'CF-Cache-Status': 'DYNAMIC', 'Server': 'cloudflare', 'CF-RAY': '7f84f351895739b8-IAD'})\n",
      "HTTP response body: b'{\"message\":\"Invalid key\"}'\n",
      "\n"
     ]
    },
    {
     "name": "stderr",
     "output_type": "stream",
     "text": [
      "  1%|          | 403/35869 [05:30<1:32:55,  6.36it/s, errors=156]"
     ]
    },
    {
     "name": "stdout",
     "output_type": "stream",
     "text": [
      "(401)\n",
      "Reason: Unauthorized\n",
      "HTTP response headers: HTTPHeaderDict({'Date': 'Thu, 17 Aug 2023 21:18:35 GMT', 'Content-Type': 'application/json; charset=utf-8', 'Content-Length': '25', 'Connection': 'keep-alive', 'X-Powered-By': 'Express', 'Access-Control-Allow-Origin': '*', 'ETag': 'W/\"19-aa5ews+8iO9r0nbrJ9a59/u0j00\"', 'Vary': 'Accept-Encoding', 'CF-Cache-Status': 'DYNAMIC', 'Server': 'cloudflare', 'CF-RAY': '7f84f3527c1b802a-IAD'})\n",
      "HTTP response body: b'{\"message\":\"Invalid key\"}'\n",
      "\n",
      "(401)\n",
      "Reason: Unauthorized\n",
      "HTTP response headers: HTTPHeaderDict({'Date': 'Thu, 17 Aug 2023 21:18:36 GMT', 'Content-Type': 'application/json; charset=utf-8', 'Content-Length': '25', 'Connection': 'keep-alive', 'X-Powered-By': 'Express', 'Access-Control-Allow-Origin': '*', 'ETag': 'W/\"19-aa5ews+8iO9r0nbrJ9a59/u0j00\"', 'Vary': 'Accept-Encoding', 'CF-Cache-Status': 'DYNAMIC', 'Server': 'cloudflare', 'CF-RAY': '7f84f35368b33b44-IAD'})\n",
      "HTTP response body: b'{\"message\":\"Invalid key\"}'\n",
      "\n"
     ]
    },
    {
     "name": "stderr",
     "output_type": "stream",
     "text": [
      "  1%|          | 405/35869 [05:30<1:33:05,  6.35it/s, errors=158]"
     ]
    },
    {
     "name": "stdout",
     "output_type": "stream",
     "text": [
      "(401)\n",
      "Reason: Unauthorized\n",
      "HTTP response headers: HTTPHeaderDict({'Date': 'Thu, 17 Aug 2023 21:18:36 GMT', 'Content-Type': 'application/json; charset=utf-8', 'Content-Length': '25', 'Connection': 'keep-alive', 'X-Powered-By': 'Express', 'Access-Control-Allow-Origin': '*', 'ETag': 'W/\"19-aa5ews+8iO9r0nbrJ9a59/u0j00\"', 'Vary': 'Accept-Encoding', 'CF-Cache-Status': 'DYNAMIC', 'Server': 'cloudflare', 'CF-RAY': '7f84f35458de05ab-IAD'})\n",
      "HTTP response body: b'{\"message\":\"Invalid key\"}'\n",
      "\n",
      "(401)\n",
      "Reason: Unauthorized\n",
      "HTTP response headers: HTTPHeaderDict({'Date': 'Thu, 17 Aug 2023 21:18:36 GMT', 'Content-Type': 'application/json; charset=utf-8', 'Content-Length': '25', 'Connection': 'keep-alive', 'X-Powered-By': 'Express', 'Access-Control-Allow-Origin': '*', 'ETag': 'W/\"19-aa5ews+8iO9r0nbrJ9a59/u0j00\"', 'Vary': 'Accept-Encoding', 'CF-Cache-Status': 'DYNAMIC', 'Server': 'cloudflare', 'CF-RAY': '7f84f3555a3c094d-IAD'})\n",
      "HTTP response body: b'{\"message\":\"Invalid key\"}'\n",
      "\n"
     ]
    },
    {
     "name": "stderr",
     "output_type": "stream",
     "text": [
      "  1%|          | 407/35869 [05:30<1:29:43,  6.59it/s, errors=160]"
     ]
    },
    {
     "name": "stdout",
     "output_type": "stream",
     "text": [
      "(401)\n",
      "Reason: Unauthorized\n",
      "HTTP response headers: HTTPHeaderDict({'Date': 'Thu, 17 Aug 2023 21:18:36 GMT', 'Content-Type': 'application/json; charset=utf-8', 'Content-Length': '25', 'Connection': 'keep-alive', 'X-Powered-By': 'Express', 'Access-Control-Allow-Origin': '*', 'ETag': 'W/\"19-aa5ews+8iO9r0nbrJ9a59/u0j00\"', 'Vary': 'Accept-Encoding', 'CF-Cache-Status': 'DYNAMIC', 'Server': 'cloudflare', 'CF-RAY': '7f84f3564ffc8226-IAD'})\n",
      "HTTP response body: b'{\"message\":\"Invalid key\"}'\n",
      "\n",
      "(401)\n",
      "Reason: Unauthorized\n",
      "HTTP response headers: HTTPHeaderDict({'Date': 'Thu, 17 Aug 2023 21:18:36 GMT', 'Content-Type': 'application/json; charset=utf-8', 'Content-Length': '25', 'Connection': 'keep-alive', 'X-Powered-By': 'Express', 'Access-Control-Allow-Origin': '*', 'ETag': 'W/\"19-aa5ews+8iO9r0nbrJ9a59/u0j00\"', 'Vary': 'Accept-Encoding', 'CF-Cache-Status': 'DYNAMIC', 'Server': 'cloudflare', 'CF-RAY': '7f84f357385f39a6-IAD'})\n",
      "HTTP response body: b'{\"message\":\"Invalid key\"}'\n",
      "\n"
     ]
    },
    {
     "name": "stderr",
     "output_type": "stream",
     "text": [
      "  1%|          | 409/35869 [05:31<1:32:21,  6.40it/s, errors=162]"
     ]
    },
    {
     "name": "stdout",
     "output_type": "stream",
     "text": [
      "(401)\n",
      "Reason: Unauthorized\n",
      "HTTP response headers: HTTPHeaderDict({'Date': 'Thu, 17 Aug 2023 21:18:36 GMT', 'Content-Type': 'application/json; charset=utf-8', 'Content-Length': '25', 'Connection': 'keep-alive', 'X-Powered-By': 'Express', 'Access-Control-Allow-Origin': '*', 'ETag': 'W/\"19-aa5ews+8iO9r0nbrJ9a59/u0j00\"', 'Vary': 'Accept-Encoding', 'CF-Cache-Status': 'DYNAMIC', 'Server': 'cloudflare', 'CF-RAY': '7f84f358393f2d22-IAD'})\n",
      "HTTP response body: b'{\"message\":\"Invalid key\"}'\n",
      "\n",
      "(401)\n",
      "Reason: Unauthorized\n",
      "HTTP response headers: HTTPHeaderDict({'Date': 'Thu, 17 Aug 2023 21:18:37 GMT', 'Content-Type': 'application/json; charset=utf-8', 'Content-Length': '25', 'Connection': 'keep-alive', 'X-Powered-By': 'Express', 'Access-Control-Allow-Origin': '*', 'ETag': 'W/\"19-aa5ews+8iO9r0nbrJ9a59/u0j00\"', 'Vary': 'Accept-Encoding', 'CF-Cache-Status': 'DYNAMIC', 'Server': 'cloudflare', 'CF-RAY': '7f84f3592a133b3c-IAD'})\n",
      "HTTP response body: b'{\"message\":\"Invalid key\"}'\n",
      "\n"
     ]
    },
    {
     "name": "stderr",
     "output_type": "stream",
     "text": [
      "  1%|          | 409/35869 [05:31<7:58:36,  1.23it/s, errors=162]\n"
     ]
    },
    {
     "ename": "KeyboardInterrupt",
     "evalue": "",
     "output_type": "error",
     "traceback": [
      "\u001b[0;31m---------------------------------------------------------------------------\u001b[0m",
      "\u001b[0;31mKeyboardInterrupt\u001b[0m                         Traceback (most recent call last)",
      "Cell \u001b[0;32mIn[21], line 17\u001b[0m\n\u001b[1;32m     11\u001b[0m params \u001b[39m=\u001b[39m {\n\u001b[1;32m     12\u001b[0m     \u001b[39m\"\u001b[39m\u001b[39mchain\u001b[39m\u001b[39m\"\u001b[39m: \u001b[39m\"\u001b[39m\u001b[39meth\u001b[39m\u001b[39m\"\u001b[39m,\n\u001b[1;32m     13\u001b[0m     \u001b[39m\"\u001b[39m\u001b[39mto_block\u001b[39m\u001b[39m\"\u001b[39m: row\u001b[39m.\u001b[39mblock_number,\n\u001b[1;32m     14\u001b[0m     \u001b[39m\"\u001b[39m\u001b[39maddress\u001b[39m\u001b[39m\"\u001b[39m: row\u001b[39m.\u001b[39mtoken_in,\n\u001b[1;32m     15\u001b[0m }\n\u001b[1;32m     16\u001b[0m \u001b[39mtry\u001b[39;00m:\n\u001b[0;32m---> 17\u001b[0m     result \u001b[39m=\u001b[39m evm_api\u001b[39m.\u001b[39;49mtoken\u001b[39m.\u001b[39;49mget_token_price(\n\u001b[1;32m     18\u001b[0m         api_key\u001b[39m=\u001b[39;49mmoralis_api_key,\n\u001b[1;32m     19\u001b[0m         params\u001b[39m=\u001b[39;49mparams, \u001b[39m# type: ignore\u001b[39;49;00m\n\u001b[1;32m     20\u001b[0m     )\n\u001b[1;32m     21\u001b[0m \u001b[39mexcept\u001b[39;00m \u001b[39mException\u001b[39;00m \u001b[39mas\u001b[39;00m e:\n\u001b[1;32m     22\u001b[0m     \u001b[39mprint\u001b[39m(e)\n",
      "File \u001b[0;32m~/defi-measurement/venv/lib/python3.11/site-packages/moralis/evm_api/token/get_token_price.py:19\u001b[0m, in \u001b[0;36mget_token_price\u001b[0;34m(api_key, params)\u001b[0m\n\u001b[1;32m     17\u001b[0m query_params: typing\u001b[39m.\u001b[39mAny \u001b[39m=\u001b[39m {k: v \u001b[39mfor\u001b[39;00m k, v \u001b[39min\u001b[39;00m params\u001b[39m.\u001b[39mitems() \u001b[39mif\u001b[39;00m k \u001b[39min\u001b[39;00m RequestQueryParams\u001b[39m.\u001b[39m\u001b[39m__annotations__\u001b[39m\u001b[39m.\u001b[39mkeys()}\n\u001b[1;32m     18\u001b[0m path_params: typing\u001b[39m.\u001b[39mAny \u001b[39m=\u001b[39m {k: v \u001b[39mfor\u001b[39;00m k, v \u001b[39min\u001b[39;00m params\u001b[39m.\u001b[39mitems() \u001b[39mif\u001b[39;00m k \u001b[39min\u001b[39;00m RequestPathParams\u001b[39m.\u001b[39m\u001b[39m__annotations__\u001b[39m\u001b[39m.\u001b[39mkeys()}\n\u001b[0;32m---> 19\u001b[0m api_response \u001b[39m=\u001b[39m api_instance\u001b[39m.\u001b[39;49mget_token_price(\n\u001b[1;32m     20\u001b[0m     query_params\u001b[39m=\u001b[39;49mquery_params,\n\u001b[1;32m     21\u001b[0m     path_params\u001b[39m=\u001b[39;49mpath_params,\n\u001b[1;32m     22\u001b[0m     accept_content_types\u001b[39m=\u001b[39;49m(\n\u001b[1;32m     23\u001b[0m         \u001b[39m'\u001b[39;49m\u001b[39mapplication/json; charset=utf-8\u001b[39;49m\u001b[39m'\u001b[39;49m,\n\u001b[1;32m     24\u001b[0m     ),\n\u001b[1;32m     25\u001b[0m     skip_deserialization\u001b[39m=\u001b[39;49m\u001b[39mTrue\u001b[39;49;00m\n\u001b[1;32m     26\u001b[0m )\n\u001b[1;32m     28\u001b[0m \u001b[39mreturn\u001b[39;00m json\u001b[39m.\u001b[39mloads(api_response\u001b[39m.\u001b[39mresponse\u001b[39m.\u001b[39mdata)\n",
      "File \u001b[0;32m~/defi-measurement/venv/lib/python3.11/site-packages/openapi_evm_api/paths/erc20_address_price/get.py:305\u001b[0m, in \u001b[0;36mGetTokenPrice.get_token_price\u001b[0;34m(self, query_params, path_params, accept_content_types, stream, timeout, skip_deserialization)\u001b[0m\n\u001b[1;32m    296\u001b[0m \u001b[39mdef\u001b[39;00m \u001b[39mget_token_price\u001b[39m(\n\u001b[1;32m    297\u001b[0m     \u001b[39mself\u001b[39m,\n\u001b[1;32m    298\u001b[0m     query_params: RequestQueryParams \u001b[39m=\u001b[39m frozendict\u001b[39m.\u001b[39mfrozendict(),\n\u001b[0;32m   (...)\u001b[0m\n\u001b[1;32m    303\u001b[0m     skip_deserialization: \u001b[39mbool\u001b[39m \u001b[39m=\u001b[39m \u001b[39mFalse\u001b[39;00m,\n\u001b[1;32m    304\u001b[0m ):\n\u001b[0;32m--> 305\u001b[0m     \u001b[39mreturn\u001b[39;00m \u001b[39mself\u001b[39;49m\u001b[39m.\u001b[39;49m_get_token_price_oapg(\n\u001b[1;32m    306\u001b[0m         query_params\u001b[39m=\u001b[39;49mquery_params,\n\u001b[1;32m    307\u001b[0m         path_params\u001b[39m=\u001b[39;49mpath_params,\n\u001b[1;32m    308\u001b[0m         accept_content_types\u001b[39m=\u001b[39;49maccept_content_types,\n\u001b[1;32m    309\u001b[0m         stream\u001b[39m=\u001b[39;49mstream,\n\u001b[1;32m    310\u001b[0m         timeout\u001b[39m=\u001b[39;49mtimeout,\n\u001b[1;32m    311\u001b[0m         skip_deserialization\u001b[39m=\u001b[39;49mskip_deserialization\n\u001b[1;32m    312\u001b[0m     )\n",
      "File \u001b[0;32m~/defi-measurement/venv/lib/python3.11/site-packages/openapi_evm_api/paths/erc20_address_price/get.py:231\u001b[0m, in \u001b[0;36mBaseApi._get_token_price_oapg\u001b[0;34m(self, query_params, path_params, accept_content_types, stream, timeout, skip_deserialization)\u001b[0m\n\u001b[1;32m    228\u001b[0m     \u001b[39mfor\u001b[39;00m accept_content_type \u001b[39min\u001b[39;00m accept_content_types:\n\u001b[1;32m    229\u001b[0m         _headers\u001b[39m.\u001b[39madd(\u001b[39m'\u001b[39m\u001b[39mAccept\u001b[39m\u001b[39m'\u001b[39m, accept_content_type)\n\u001b[0;32m--> 231\u001b[0m response \u001b[39m=\u001b[39m \u001b[39mself\u001b[39;49m\u001b[39m.\u001b[39;49mapi_client\u001b[39m.\u001b[39;49mcall_api(\n\u001b[1;32m    232\u001b[0m     resource_path\u001b[39m=\u001b[39;49mused_path,\n\u001b[1;32m    233\u001b[0m     method\u001b[39m=\u001b[39;49m\u001b[39m'\u001b[39;49m\u001b[39mget\u001b[39;49m\u001b[39m'\u001b[39;49m\u001b[39m.\u001b[39;49mupper(),\n\u001b[1;32m    234\u001b[0m     headers\u001b[39m=\u001b[39;49m_headers,\n\u001b[1;32m    235\u001b[0m     auth_settings\u001b[39m=\u001b[39;49m_auth,\n\u001b[1;32m    236\u001b[0m     stream\u001b[39m=\u001b[39;49mstream,\n\u001b[1;32m    237\u001b[0m     timeout\u001b[39m=\u001b[39;49mtimeout,\n\u001b[1;32m    238\u001b[0m )\n\u001b[1;32m    240\u001b[0m \u001b[39mif\u001b[39;00m skip_deserialization:\n\u001b[1;32m    241\u001b[0m     api_response \u001b[39m=\u001b[39m api_client\u001b[39m.\u001b[39mApiResponseWithoutDeserialization(response\u001b[39m=\u001b[39mresponse)\n",
      "File \u001b[0;32m~/defi-measurement/venv/lib/python3.11/site-packages/openapi_evm_api/api_client.py:1139\u001b[0m, in \u001b[0;36mApiClient.call_api\u001b[0;34m(self, resource_path, method, headers, body, fields, auth_settings, async_req, stream, timeout, host)\u001b[0m\n\u001b[1;32m   1104\u001b[0m \u001b[39m\u001b[39m\u001b[39m\"\"\"Makes the HTTP request (synchronous) and returns deserialized data.\u001b[39;00m\n\u001b[1;32m   1105\u001b[0m \n\u001b[1;32m   1106\u001b[0m \u001b[39mTo make an async_req request, set the async_req parameter.\u001b[39;00m\n\u001b[0;32m   (...)\u001b[0m\n\u001b[1;32m   1135\u001b[0m \u001b[39m    then the method will return the response directly.\u001b[39;00m\n\u001b[1;32m   1136\u001b[0m \u001b[39m\"\"\"\u001b[39;00m\n\u001b[1;32m   1138\u001b[0m \u001b[39mif\u001b[39;00m \u001b[39mnot\u001b[39;00m async_req:\n\u001b[0;32m-> 1139\u001b[0m     \u001b[39mreturn\u001b[39;00m \u001b[39mself\u001b[39;49m\u001b[39m.\u001b[39;49m__call_api(\n\u001b[1;32m   1140\u001b[0m         resource_path,\n\u001b[1;32m   1141\u001b[0m         method,\n\u001b[1;32m   1142\u001b[0m         headers,\n\u001b[1;32m   1143\u001b[0m         body,\n\u001b[1;32m   1144\u001b[0m         fields,\n\u001b[1;32m   1145\u001b[0m         auth_settings,\n\u001b[1;32m   1146\u001b[0m         stream,\n\u001b[1;32m   1147\u001b[0m         timeout,\n\u001b[1;32m   1148\u001b[0m         host,\n\u001b[1;32m   1149\u001b[0m     )\n\u001b[1;32m   1151\u001b[0m \u001b[39mreturn\u001b[39;00m \u001b[39mself\u001b[39m\u001b[39m.\u001b[39mpool\u001b[39m.\u001b[39mapply_async(\n\u001b[1;32m   1152\u001b[0m     \u001b[39mself\u001b[39m\u001b[39m.\u001b[39m__call_api,\n\u001b[1;32m   1153\u001b[0m     (\n\u001b[0;32m   (...)\u001b[0m\n\u001b[1;32m   1164\u001b[0m     )\n\u001b[1;32m   1165\u001b[0m )\n",
      "File \u001b[0;32m~/defi-measurement/venv/lib/python3.11/site-packages/openapi_evm_api/api_client.py:1080\u001b[0m, in \u001b[0;36mApiClient.__call_api\u001b[0;34m(self, resource_path, method, headers, body, fields, auth_settings, stream, timeout, host)\u001b[0m\n\u001b[1;32m   1077\u001b[0m     url \u001b[39m=\u001b[39m host \u001b[39m+\u001b[39m resource_path\n\u001b[1;32m   1079\u001b[0m \u001b[39m# perform request and return response\u001b[39;00m\n\u001b[0;32m-> 1080\u001b[0m response \u001b[39m=\u001b[39m \u001b[39mself\u001b[39;49m\u001b[39m.\u001b[39;49mrequest(\n\u001b[1;32m   1081\u001b[0m     method,\n\u001b[1;32m   1082\u001b[0m     url,\n\u001b[1;32m   1083\u001b[0m     headers\u001b[39m=\u001b[39;49mused_headers,\n\u001b[1;32m   1084\u001b[0m     fields\u001b[39m=\u001b[39;49mfields,\n\u001b[1;32m   1085\u001b[0m     body\u001b[39m=\u001b[39;49mbody,\n\u001b[1;32m   1086\u001b[0m     stream\u001b[39m=\u001b[39;49mstream,\n\u001b[1;32m   1087\u001b[0m     timeout\u001b[39m=\u001b[39;49mtimeout,\n\u001b[1;32m   1088\u001b[0m )\n\u001b[1;32m   1089\u001b[0m \u001b[39mreturn\u001b[39;00m response\n",
      "File \u001b[0;32m~/defi-measurement/venv/lib/python3.11/site-packages/openapi_evm_api/api_client.py:1179\u001b[0m, in \u001b[0;36mApiClient.request\u001b[0;34m(self, method, url, headers, fields, body, stream, timeout)\u001b[0m\n\u001b[1;32m   1177\u001b[0m \u001b[39m\u001b[39m\u001b[39m\"\"\"Makes the HTTP request using RESTClient.\"\"\"\u001b[39;00m\n\u001b[1;32m   1178\u001b[0m \u001b[39mif\u001b[39;00m method \u001b[39m==\u001b[39m \u001b[39m\"\u001b[39m\u001b[39mGET\u001b[39m\u001b[39m\"\u001b[39m:\n\u001b[0;32m-> 1179\u001b[0m     \u001b[39mreturn\u001b[39;00m \u001b[39mself\u001b[39;49m\u001b[39m.\u001b[39;49mrest_client\u001b[39m.\u001b[39;49mGET(url,\n\u001b[1;32m   1180\u001b[0m                                 stream\u001b[39m=\u001b[39;49mstream,\n\u001b[1;32m   1181\u001b[0m                                 timeout\u001b[39m=\u001b[39;49mtimeout,\n\u001b[1;32m   1182\u001b[0m                                 headers\u001b[39m=\u001b[39;49mheaders)\n\u001b[1;32m   1183\u001b[0m \u001b[39melif\u001b[39;00m method \u001b[39m==\u001b[39m \u001b[39m\"\u001b[39m\u001b[39mHEAD\u001b[39m\u001b[39m\"\u001b[39m:\n\u001b[1;32m   1184\u001b[0m     \u001b[39mreturn\u001b[39;00m \u001b[39mself\u001b[39m\u001b[39m.\u001b[39mrest_client\u001b[39m.\u001b[39mHEAD(url,\n\u001b[1;32m   1185\u001b[0m                                  stream\u001b[39m=\u001b[39mstream,\n\u001b[1;32m   1186\u001b[0m                                  timeout\u001b[39m=\u001b[39mtimeout,\n\u001b[1;32m   1187\u001b[0m                                  headers\u001b[39m=\u001b[39mheaders)\n",
      "File \u001b[0;32m~/defi-measurement/venv/lib/python3.11/site-packages/openapi_evm_api/rest.py:202\u001b[0m, in \u001b[0;36mRESTClientObject.GET\u001b[0;34m(self, url, headers, stream, timeout, fields)\u001b[0m\n\u001b[1;32m    200\u001b[0m \u001b[39mdef\u001b[39;00m \u001b[39mGET\u001b[39m(\u001b[39mself\u001b[39m, url, headers\u001b[39m=\u001b[39m\u001b[39mNone\u001b[39;00m, stream\u001b[39m=\u001b[39m\u001b[39mFalse\u001b[39;00m,\n\u001b[1;32m    201\u001b[0m         timeout\u001b[39m=\u001b[39m\u001b[39mNone\u001b[39;00m, fields\u001b[39m=\u001b[39m\u001b[39mNone\u001b[39;00m) \u001b[39m-\u001b[39m\u001b[39m>\u001b[39m urllib3\u001b[39m.\u001b[39mHTTPResponse:\n\u001b[0;32m--> 202\u001b[0m     \u001b[39mreturn\u001b[39;00m \u001b[39mself\u001b[39;49m\u001b[39m.\u001b[39;49mrequest(\u001b[39m\"\u001b[39;49m\u001b[39mGET\u001b[39;49m\u001b[39m\"\u001b[39;49m, url,\n\u001b[1;32m    203\u001b[0m                         headers\u001b[39m=\u001b[39;49mheaders,\n\u001b[1;32m    204\u001b[0m                         stream\u001b[39m=\u001b[39;49mstream,\n\u001b[1;32m    205\u001b[0m                         timeout\u001b[39m=\u001b[39;49mtimeout,\n\u001b[1;32m    206\u001b[0m                         fields\u001b[39m=\u001b[39;49mfields)\n",
      "File \u001b[0;32m~/defi-measurement/venv/lib/python3.11/site-packages/openapi_evm_api/rest.py:186\u001b[0m, in \u001b[0;36mRESTClientObject.request\u001b[0;34m(self, method, url, headers, fields, body, stream, timeout)\u001b[0m\n\u001b[1;32m    183\u001b[0m             \u001b[39mraise\u001b[39;00m ApiException(status\u001b[39m=\u001b[39m\u001b[39m0\u001b[39m, reason\u001b[39m=\u001b[39mmsg)\n\u001b[1;32m    184\u001b[0m     \u001b[39m# For `GET`, `HEAD`\u001b[39;00m\n\u001b[1;32m    185\u001b[0m     \u001b[39melse\u001b[39;00m:\n\u001b[0;32m--> 186\u001b[0m         r \u001b[39m=\u001b[39m \u001b[39mself\u001b[39;49m\u001b[39m.\u001b[39;49mpool_manager\u001b[39m.\u001b[39;49mrequest(method, url,\n\u001b[1;32m    187\u001b[0m                                       preload_content\u001b[39m=\u001b[39;49m\u001b[39mnot\u001b[39;49;00m stream,\n\u001b[1;32m    188\u001b[0m                                       timeout\u001b[39m=\u001b[39;49mtimeout,\n\u001b[1;32m    189\u001b[0m                                       headers\u001b[39m=\u001b[39;49mheaders)\n\u001b[1;32m    190\u001b[0m \u001b[39mexcept\u001b[39;00m urllib3\u001b[39m.\u001b[39mexceptions\u001b[39m.\u001b[39mSSLError \u001b[39mas\u001b[39;00m e:\n\u001b[1;32m    191\u001b[0m     msg \u001b[39m=\u001b[39m \u001b[39m\"\u001b[39m\u001b[39m{0}\u001b[39;00m\u001b[39m\\n\u001b[39;00m\u001b[39m{1}\u001b[39;00m\u001b[39m\"\u001b[39m\u001b[39m.\u001b[39mformat(\u001b[39mtype\u001b[39m(e)\u001b[39m.\u001b[39m\u001b[39m__name__\u001b[39m, \u001b[39mstr\u001b[39m(e))\n",
      "File \u001b[0;32m~/defi-measurement/venv/lib/python3.11/site-packages/urllib3/request.py:74\u001b[0m, in \u001b[0;36mRequestMethods.request\u001b[0;34m(self, method, url, fields, headers, **urlopen_kw)\u001b[0m\n\u001b[1;32m     71\u001b[0m urlopen_kw[\u001b[39m\"\u001b[39m\u001b[39mrequest_url\u001b[39m\u001b[39m\"\u001b[39m] \u001b[39m=\u001b[39m url\n\u001b[1;32m     73\u001b[0m \u001b[39mif\u001b[39;00m method \u001b[39min\u001b[39;00m \u001b[39mself\u001b[39m\u001b[39m.\u001b[39m_encode_url_methods:\n\u001b[0;32m---> 74\u001b[0m     \u001b[39mreturn\u001b[39;00m \u001b[39mself\u001b[39;49m\u001b[39m.\u001b[39;49mrequest_encode_url(\n\u001b[1;32m     75\u001b[0m         method, url, fields\u001b[39m=\u001b[39;49mfields, headers\u001b[39m=\u001b[39;49mheaders, \u001b[39m*\u001b[39;49m\u001b[39m*\u001b[39;49murlopen_kw\n\u001b[1;32m     76\u001b[0m     )\n\u001b[1;32m     77\u001b[0m \u001b[39melse\u001b[39;00m:\n\u001b[1;32m     78\u001b[0m     \u001b[39mreturn\u001b[39;00m \u001b[39mself\u001b[39m\u001b[39m.\u001b[39mrequest_encode_body(\n\u001b[1;32m     79\u001b[0m         method, url, fields\u001b[39m=\u001b[39mfields, headers\u001b[39m=\u001b[39mheaders, \u001b[39m*\u001b[39m\u001b[39m*\u001b[39murlopen_kw\n\u001b[1;32m     80\u001b[0m     )\n",
      "File \u001b[0;32m~/defi-measurement/venv/lib/python3.11/site-packages/urllib3/request.py:96\u001b[0m, in \u001b[0;36mRequestMethods.request_encode_url\u001b[0;34m(self, method, url, fields, headers, **urlopen_kw)\u001b[0m\n\u001b[1;32m     93\u001b[0m \u001b[39mif\u001b[39;00m fields:\n\u001b[1;32m     94\u001b[0m     url \u001b[39m+\u001b[39m\u001b[39m=\u001b[39m \u001b[39m\"\u001b[39m\u001b[39m?\u001b[39m\u001b[39m\"\u001b[39m \u001b[39m+\u001b[39m urlencode(fields)\n\u001b[0;32m---> 96\u001b[0m \u001b[39mreturn\u001b[39;00m \u001b[39mself\u001b[39;49m\u001b[39m.\u001b[39;49murlopen(method, url, \u001b[39m*\u001b[39;49m\u001b[39m*\u001b[39;49mextra_kw)\n",
      "File \u001b[0;32m~/defi-measurement/venv/lib/python3.11/site-packages/urllib3/poolmanager.py:376\u001b[0m, in \u001b[0;36mPoolManager.urlopen\u001b[0;34m(self, method, url, redirect, **kw)\u001b[0m\n\u001b[1;32m    374\u001b[0m     response \u001b[39m=\u001b[39m conn\u001b[39m.\u001b[39murlopen(method, url, \u001b[39m*\u001b[39m\u001b[39m*\u001b[39mkw)\n\u001b[1;32m    375\u001b[0m \u001b[39melse\u001b[39;00m:\n\u001b[0;32m--> 376\u001b[0m     response \u001b[39m=\u001b[39m conn\u001b[39m.\u001b[39;49murlopen(method, u\u001b[39m.\u001b[39;49mrequest_uri, \u001b[39m*\u001b[39;49m\u001b[39m*\u001b[39;49mkw)\n\u001b[1;32m    378\u001b[0m redirect_location \u001b[39m=\u001b[39m redirect \u001b[39mand\u001b[39;00m response\u001b[39m.\u001b[39mget_redirect_location()\n\u001b[1;32m    379\u001b[0m \u001b[39mif\u001b[39;00m \u001b[39mnot\u001b[39;00m redirect_location:\n",
      "File \u001b[0;32m~/defi-measurement/venv/lib/python3.11/site-packages/urllib3/connectionpool.py:714\u001b[0m, in \u001b[0;36mHTTPConnectionPool.urlopen\u001b[0;34m(self, method, url, body, headers, retries, redirect, assert_same_host, timeout, pool_timeout, release_conn, chunked, body_pos, **response_kw)\u001b[0m\n\u001b[1;32m    711\u001b[0m     \u001b[39mself\u001b[39m\u001b[39m.\u001b[39m_prepare_proxy(conn)\n\u001b[1;32m    713\u001b[0m \u001b[39m# Make the request on the httplib connection object.\u001b[39;00m\n\u001b[0;32m--> 714\u001b[0m httplib_response \u001b[39m=\u001b[39m \u001b[39mself\u001b[39;49m\u001b[39m.\u001b[39;49m_make_request(\n\u001b[1;32m    715\u001b[0m     conn,\n\u001b[1;32m    716\u001b[0m     method,\n\u001b[1;32m    717\u001b[0m     url,\n\u001b[1;32m    718\u001b[0m     timeout\u001b[39m=\u001b[39;49mtimeout_obj,\n\u001b[1;32m    719\u001b[0m     body\u001b[39m=\u001b[39;49mbody,\n\u001b[1;32m    720\u001b[0m     headers\u001b[39m=\u001b[39;49mheaders,\n\u001b[1;32m    721\u001b[0m     chunked\u001b[39m=\u001b[39;49mchunked,\n\u001b[1;32m    722\u001b[0m )\n\u001b[1;32m    724\u001b[0m \u001b[39m# If we're going to release the connection in ``finally:``, then\u001b[39;00m\n\u001b[1;32m    725\u001b[0m \u001b[39m# the response doesn't need to know about the connection. Otherwise\u001b[39;00m\n\u001b[1;32m    726\u001b[0m \u001b[39m# it will also try to release it and we'll have a double-release\u001b[39;00m\n\u001b[1;32m    727\u001b[0m \u001b[39m# mess.\u001b[39;00m\n\u001b[1;32m    728\u001b[0m response_conn \u001b[39m=\u001b[39m conn \u001b[39mif\u001b[39;00m \u001b[39mnot\u001b[39;00m release_conn \u001b[39melse\u001b[39;00m \u001b[39mNone\u001b[39;00m\n",
      "File \u001b[0;32m~/defi-measurement/venv/lib/python3.11/site-packages/urllib3/connectionpool.py:403\u001b[0m, in \u001b[0;36mHTTPConnectionPool._make_request\u001b[0;34m(self, conn, method, url, timeout, chunked, **httplib_request_kw)\u001b[0m\n\u001b[1;32m    401\u001b[0m \u001b[39m# Trigger any extra validation we need to do.\u001b[39;00m\n\u001b[1;32m    402\u001b[0m \u001b[39mtry\u001b[39;00m:\n\u001b[0;32m--> 403\u001b[0m     \u001b[39mself\u001b[39;49m\u001b[39m.\u001b[39;49m_validate_conn(conn)\n\u001b[1;32m    404\u001b[0m \u001b[39mexcept\u001b[39;00m (SocketTimeout, BaseSSLError) \u001b[39mas\u001b[39;00m e:\n\u001b[1;32m    405\u001b[0m     \u001b[39m# Py2 raises this as a BaseSSLError, Py3 raises it as socket timeout.\u001b[39;00m\n\u001b[1;32m    406\u001b[0m     \u001b[39mself\u001b[39m\u001b[39m.\u001b[39m_raise_timeout(err\u001b[39m=\u001b[39me, url\u001b[39m=\u001b[39murl, timeout_value\u001b[39m=\u001b[39mconn\u001b[39m.\u001b[39mtimeout)\n",
      "File \u001b[0;32m~/defi-measurement/venv/lib/python3.11/site-packages/urllib3/connectionpool.py:1053\u001b[0m, in \u001b[0;36mHTTPSConnectionPool._validate_conn\u001b[0;34m(self, conn)\u001b[0m\n\u001b[1;32m   1051\u001b[0m \u001b[39m# Force connect early to allow us to validate the connection.\u001b[39;00m\n\u001b[1;32m   1052\u001b[0m \u001b[39mif\u001b[39;00m \u001b[39mnot\u001b[39;00m \u001b[39mgetattr\u001b[39m(conn, \u001b[39m\"\u001b[39m\u001b[39msock\u001b[39m\u001b[39m\"\u001b[39m, \u001b[39mNone\u001b[39;00m):  \u001b[39m# AppEngine might not have  `.sock`\u001b[39;00m\n\u001b[0;32m-> 1053\u001b[0m     conn\u001b[39m.\u001b[39;49mconnect()\n\u001b[1;32m   1055\u001b[0m \u001b[39mif\u001b[39;00m \u001b[39mnot\u001b[39;00m conn\u001b[39m.\u001b[39mis_verified:\n\u001b[1;32m   1056\u001b[0m     warnings\u001b[39m.\u001b[39mwarn(\n\u001b[1;32m   1057\u001b[0m         (\n\u001b[1;32m   1058\u001b[0m             \u001b[39m\"\u001b[39m\u001b[39mUnverified HTTPS request is being made to host \u001b[39m\u001b[39m'\u001b[39m\u001b[39m%s\u001b[39;00m\u001b[39m'\u001b[39m\u001b[39m. \u001b[39m\u001b[39m\"\u001b[39m\n\u001b[0;32m   (...)\u001b[0m\n\u001b[1;32m   1063\u001b[0m         InsecureRequestWarning,\n\u001b[1;32m   1064\u001b[0m     )\n",
      "File \u001b[0;32m~/defi-measurement/venv/lib/python3.11/site-packages/urllib3/connection.py:419\u001b[0m, in \u001b[0;36mHTTPSConnection.connect\u001b[0;34m(self)\u001b[0m\n\u001b[1;32m    410\u001b[0m \u001b[39mif\u001b[39;00m (\n\u001b[1;32m    411\u001b[0m     \u001b[39mnot\u001b[39;00m \u001b[39mself\u001b[39m\u001b[39m.\u001b[39mca_certs\n\u001b[1;32m    412\u001b[0m     \u001b[39mand\u001b[39;00m \u001b[39mnot\u001b[39;00m \u001b[39mself\u001b[39m\u001b[39m.\u001b[39mca_cert_dir\n\u001b[0;32m   (...)\u001b[0m\n\u001b[1;32m    415\u001b[0m     \u001b[39mand\u001b[39;00m \u001b[39mhasattr\u001b[39m(context, \u001b[39m\"\u001b[39m\u001b[39mload_default_certs\u001b[39m\u001b[39m\"\u001b[39m)\n\u001b[1;32m    416\u001b[0m ):\n\u001b[1;32m    417\u001b[0m     context\u001b[39m.\u001b[39mload_default_certs()\n\u001b[0;32m--> 419\u001b[0m \u001b[39mself\u001b[39m\u001b[39m.\u001b[39msock \u001b[39m=\u001b[39m ssl_wrap_socket(\n\u001b[1;32m    420\u001b[0m     sock\u001b[39m=\u001b[39;49mconn,\n\u001b[1;32m    421\u001b[0m     keyfile\u001b[39m=\u001b[39;49m\u001b[39mself\u001b[39;49m\u001b[39m.\u001b[39;49mkey_file,\n\u001b[1;32m    422\u001b[0m     certfile\u001b[39m=\u001b[39;49m\u001b[39mself\u001b[39;49m\u001b[39m.\u001b[39;49mcert_file,\n\u001b[1;32m    423\u001b[0m     key_password\u001b[39m=\u001b[39;49m\u001b[39mself\u001b[39;49m\u001b[39m.\u001b[39;49mkey_password,\n\u001b[1;32m    424\u001b[0m     ca_certs\u001b[39m=\u001b[39;49m\u001b[39mself\u001b[39;49m\u001b[39m.\u001b[39;49mca_certs,\n\u001b[1;32m    425\u001b[0m     ca_cert_dir\u001b[39m=\u001b[39;49m\u001b[39mself\u001b[39;49m\u001b[39m.\u001b[39;49mca_cert_dir,\n\u001b[1;32m    426\u001b[0m     ca_cert_data\u001b[39m=\u001b[39;49m\u001b[39mself\u001b[39;49m\u001b[39m.\u001b[39;49mca_cert_data,\n\u001b[1;32m    427\u001b[0m     server_hostname\u001b[39m=\u001b[39;49mserver_hostname,\n\u001b[1;32m    428\u001b[0m     ssl_context\u001b[39m=\u001b[39;49mcontext,\n\u001b[1;32m    429\u001b[0m     tls_in_tls\u001b[39m=\u001b[39;49mtls_in_tls,\n\u001b[1;32m    430\u001b[0m )\n\u001b[1;32m    432\u001b[0m \u001b[39m# If we're using all defaults and the connection\u001b[39;00m\n\u001b[1;32m    433\u001b[0m \u001b[39m# is TLSv1 or TLSv1.1 we throw a DeprecationWarning\u001b[39;00m\n\u001b[1;32m    434\u001b[0m \u001b[39m# for the host.\u001b[39;00m\n\u001b[1;32m    435\u001b[0m \u001b[39mif\u001b[39;00m (\n\u001b[1;32m    436\u001b[0m     default_ssl_context\n\u001b[1;32m    437\u001b[0m     \u001b[39mand\u001b[39;00m \u001b[39mself\u001b[39m\u001b[39m.\u001b[39mssl_version \u001b[39mis\u001b[39;00m \u001b[39mNone\u001b[39;00m\n\u001b[1;32m    438\u001b[0m     \u001b[39mand\u001b[39;00m \u001b[39mhasattr\u001b[39m(\u001b[39mself\u001b[39m\u001b[39m.\u001b[39msock, \u001b[39m\"\u001b[39m\u001b[39mversion\u001b[39m\u001b[39m\"\u001b[39m)\n\u001b[1;32m    439\u001b[0m     \u001b[39mand\u001b[39;00m \u001b[39mself\u001b[39m\u001b[39m.\u001b[39msock\u001b[39m.\u001b[39mversion() \u001b[39min\u001b[39;00m {\u001b[39m\"\u001b[39m\u001b[39mTLSv1\u001b[39m\u001b[39m\"\u001b[39m, \u001b[39m\"\u001b[39m\u001b[39mTLSv1.1\u001b[39m\u001b[39m\"\u001b[39m}\n\u001b[1;32m    440\u001b[0m ):\n",
      "File \u001b[0;32m~/defi-measurement/venv/lib/python3.11/site-packages/urllib3/util/ssl_.py:402\u001b[0m, in \u001b[0;36mssl_wrap_socket\u001b[0;34m(sock, keyfile, certfile, cert_reqs, ca_certs, server_hostname, ssl_version, ciphers, ssl_context, ca_cert_dir, key_password, ca_cert_data, tls_in_tls)\u001b[0m\n\u001b[1;32m    400\u001b[0m \u001b[39mif\u001b[39;00m ca_certs \u001b[39mor\u001b[39;00m ca_cert_dir \u001b[39mor\u001b[39;00m ca_cert_data:\n\u001b[1;32m    401\u001b[0m     \u001b[39mtry\u001b[39;00m:\n\u001b[0;32m--> 402\u001b[0m         context\u001b[39m.\u001b[39;49mload_verify_locations(ca_certs, ca_cert_dir, ca_cert_data)\n\u001b[1;32m    403\u001b[0m     \u001b[39mexcept\u001b[39;00m (\u001b[39mIOError\u001b[39;00m, \u001b[39mOSError\u001b[39;00m) \u001b[39mas\u001b[39;00m e:\n\u001b[1;32m    404\u001b[0m         \u001b[39mraise\u001b[39;00m SSLError(e)\n",
      "\u001b[0;31mKeyboardInterrupt\u001b[0m: "
     ]
    }
   ],
   "source": [
    "session = SessionLocal()\n",
    "\n",
    "\n",
    "rows = session.query(SimpleSandwich).all()\n",
    "errors = 0\n",
    "it = tqdm(rows)\n",
    "\n",
    "for row in it:\n",
    "    it.set_postfix(errors=errors)\n",
    "\n",
    "    params = {\n",
    "        \"chain\": \"eth\",\n",
    "        \"to_block\": row.block_number,\n",
    "        \"address\": row.token_in,\n",
    "    }\n",
    "    try:\n",
    "        result = evm_api.token.get_token_price(\n",
    "            api_key=moralis_api_key,\n",
    "            params=params, # type: ignore\n",
    "        )\n",
    "    except Exception as e:\n",
    "        print(e)\n",
    "        errors += 1\n",
    "        continue\n",
    "\n",
    "    if result is None or \"usdPrice\" not in result:\n",
    "        errors += 1\n",
    "        continue\n",
    "\n",
    "    try:\n",
    "        decimals = token_info.loc[row.token_in, \"decimals\"]\n",
    "    except KeyError as e:\n",
    "        print(e)\n",
    "        errors += 1\n",
    "        continue\n",
    "    \n",
    "\n",
    "    profit_usd_value = (row.profit_float / (10**decimals)) * result[\"usdPrice\"]\n",
    "    \n",
    "    # Update the table\n",
    "    row.profit_usd = profit_usd_value\n",
    "    session.commit()\n",
    "\n",
    "    time.sleep(0.01)\n",
    "\n",
    "session.close()\n",
    "\n",
    "session.close()"
   ]
  },
  {
   "cell_type": "markdown",
   "metadata": {},
   "source": [
    "## Spurious calculations"
   ]
  },
  {
   "cell_type": "code",
   "execution_count": null,
   "metadata": {},
   "outputs": [],
   "source": []
  },
  {
   "cell_type": "code",
   "execution_count": null,
   "metadata": {},
   "outputs": [
    {
     "data": {
      "text/plain": [
       "1694.1176470588234"
      ]
     },
     "execution_count": 1,
     "metadata": {},
     "output_type": "execute_result"
    }
   ],
   "source": [
    "# Given 17 seconds per sandwich, how many sandwiches can you make in a night?\n",
    "hours_per_night = 8\n",
    "seconds_per_sandwich = 17\n",
    "cpus = 1\n",
    "\n",
    "hours_per_night * 60 * 60 / seconds_per_sandwich * cpus"
   ]
  },
  {
   "cell_type": "code",
   "execution_count": null,
   "metadata": {},
   "outputs": [],
   "source": []
  },
  {
   "cell_type": "code",
   "execution_count": null,
   "metadata": {},
   "outputs": [],
   "source": []
  }
 ],
 "metadata": {
  "kernelspec": {
   "display_name": "venv",
   "language": "python",
   "name": "python3"
  },
  "language_info": {
   "codemirror_mode": {
    "name": "ipython",
    "version": 3
   },
   "file_extension": ".py",
   "mimetype": "text/x-python",
   "name": "python",
   "nbconvert_exporter": "python",
   "pygments_lexer": "ipython3",
   "version": "3.11.0rc1"
  },
  "orig_nbformat": 4
 },
 "nbformat": 4,
 "nbformat_minor": 2
}
