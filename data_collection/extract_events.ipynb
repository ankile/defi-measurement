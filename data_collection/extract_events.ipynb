{
 "cells": [
  {
   "cell_type": "markdown",
   "metadata": {},
   "source": [
    "# Process Swap Events on the blockchain"
   ]
  },
  {
   "cell_type": "code",
   "execution_count": 1,
   "metadata": {},
   "outputs": [
    {
     "data": {
      "text/plain": [
       "True"
      ]
     },
     "execution_count": 1,
     "metadata": {},
     "output_type": "execute_result"
    }
   ],
   "source": [
    "import json\n",
    "import bisect\n",
    "\n",
    "from web3 import Web3\n",
    "import pandas as pd\n",
    "from hexbytes import HexBytes\n",
    "\n",
    "from datetime import datetime\n",
    "\n",
    "import matplotlib.pyplot as plt\n",
    "import bisect\n",
    "from typing import cast\n",
    "# Import python dotenv\n",
    "from dotenv import load_dotenv\n",
    "import numpy as np\n",
    "import os\n",
    "\n",
    "\n",
    "from tqdm import tqdm, trange\n",
    "\n",
    "# Import sqlalchemy\n",
    "from sqlalchemy import create_engine\n",
    "\n",
    "from sqlalchemy import String, Column, DateTime, Boolean, Integer\n",
    "from sqlalchemy.orm.mapper import Mapper\n",
    "from sqlalchemy import Column, Integer, String, DateTime, Boolean\n",
    "from sqlalchemy.orm import declarative_base\n",
    "from sqlalchemy.orm import sessionmaker\n",
    "from sqlalchemy import create_engine, select, func, case\n",
    "\n",
    "from datetime import datetime\n",
    "\n",
    "\n",
    "from datetime import datetime\n",
    "from pydantic import BaseModel\n",
    "\n",
    "\n",
    "load_dotenv(override=True)"
   ]
  },
  {
   "cell_type": "code",
   "execution_count": 2,
   "metadata": {},
   "outputs": [],
   "source": [
    "w3 = Web3(Web3.HTTPProvider('http://localhost:8545'))"
   ]
  },
  {
   "cell_type": "code",
   "execution_count": 3,
   "metadata": {},
   "outputs": [],
   "source": [
    "postgres_uri = os.getenv(\"POSTGRESQL_URI_MP\")\n",
    "\n",
    "assert postgres_uri is not None, \"POSTGRESQL_URI is not set in .env file\"\n",
    "\n",
    "engine = create_engine(postgres_uri)"
   ]
  },
  {
   "cell_type": "code",
   "execution_count": 4,
   "metadata": {},
   "outputs": [],
   "source": [
    "# Load in the ABIs\n",
    "with open('../abi/UniswapV3Pool.json', 'r') as f:\n",
    "    uniswap_v3_pool_abi = json.load(f)\n",
    "\n",
    "with open('../abi/UniswapV2Pair.json', 'r') as f:\n",
    "    uniswap_v2_pair_abi = json.load(f)\n"
   ]
  },
  {
   "cell_type": "markdown",
   "metadata": {},
   "source": [
    "## Define Swap Schemas"
   ]
  },
  {
   "cell_type": "markdown",
   "metadata": {},
   "source": [
    "### Database Models"
   ]
  },
  {
   "cell_type": "code",
   "execution_count": 5,
   "metadata": {},
   "outputs": [],
   "source": [
    "# Swaps V2 table\n",
    "\"\"\"\n",
    "Field               Name        Type\n",
    "address            \tSTRING\t    NULLABLE\n",
    "block_timestamp    \tTIMESTAMP\tNULLABLE\n",
    "block_number       \tINTEGER\t    NULLABLE\n",
    "transaction_hash   \tSTRING\t    NULLABLE\n",
    "log_index          \tINTEGER\t    NULLABLE\n",
    "sender             \tSTRING\t    NULLABLE\n",
    "amount0In          \tSTRING\t    NULLABLE\n",
    "amount1In          \tSTRING\t    NULLABLE\n",
    "amount0Out         \tSTRING\t    NULLABLE\n",
    "amount1Out         \tSTRING\t    NULLABLE\n",
    "to                 \tSTRING\t    NULLABLE\n",
    "\"\"\";"
   ]
  },
  {
   "cell_type": "code",
   "execution_count": 6,
   "metadata": {},
   "outputs": [],
   "source": [
    "# Swap V3 table:\n",
    "\"\"\"\n",
    "block_timestamp     TIMESTAMP\tNULLABLE                        \n",
    "block_number        INTEGER\t    NULLABLE                        \n",
    "transaction_hash    STRING\t    NULLABLE                            \n",
    "log_index           INTEGER\t    NULLABLE                    \n",
    "sender              STRING\t    NULLABLE                \n",
    "recipient           STRING\t    NULLABLE                    \n",
    "amount0             STRING\t    NULLABLE                \n",
    "amount1             STRING\t    NULLABLE                \n",
    "sqrtPriceX96        STRING\t    NULLABLE                        \n",
    "liquidity           STRING\t    NULLABLE                    \n",
    "tick                STRING\t    NULLABLE                \n",
    "address             STRING\t    NULLABLE                \n",
    "from_address        STRING\t    NULLABLE                        \n",
    "to_address          STRING\t    NULLABLE                    \n",
    "transaction_index   INTEGER\t    NULLABLE                               \n",
    "\"\"\";"
   ]
  },
  {
   "cell_type": "code",
   "execution_count": 7,
   "metadata": {},
   "outputs": [],
   "source": [
    "Base = declarative_base()\n",
    "\n",
    "\n",
    "class SwapV2(Base):\n",
    "    __tablename__ = \"swaps_v2\"\n",
    "\n",
    "    # id = Column(Integer, primary_key=True, index=True, autoincrement=True)\n",
    "    transaction_hash = Column(String, index=True, nullable=False)\n",
    "    address = Column(String, nullable=False, index=True)\n",
    "    block_timestamp = Column(DateTime, nullable=False)\n",
    "    block_number = Column(Integer, nullable=False, index=True, primary_key=True)\n",
    "    transaction_index = Column(Integer, nullable=False, primary_key=True)\n",
    "    log_index = Column(Integer, nullable=False, primary_key=True)\n",
    "    sender = Column(String, nullable=False, index=True)\n",
    "    amount0_in = Column(String, nullable=False)\n",
    "    amount1_in = Column(String, nullable=False)\n",
    "    amount0_out = Column(String, nullable=False)\n",
    "    amount1_out = Column(String, nullable=False)\n",
    "    to = Column(String, nullable=False)\n",
    "    from_mempool = Column(Boolean, nullable=False)\n",
    "\n",
    "\n",
    "class SwapV3(Base):\n",
    "    __tablename__ = \"swaps\"\n",
    "\n",
    "    # id = Column(Integer, primary_key=True, index=True, autoincrement=True)\n",
    "    transaction_hash = Column(String, index=True)\n",
    "    block_timestamp = Column(DateTime, nullable=False)\n",
    "    block_number = Column(Integer, nullable=False, index=True, primary_key=True)\n",
    "    transaction_index = Column(Integer, nullable=False, primary_key=True)\n",
    "    log_index = Column(Integer, nullable=False, primary_key=True)\n",
    "    sender = Column(String, nullable=False, index=True)\n",
    "    recipient = Column(String, nullable=False, index=True)\n",
    "    amount0 = Column(String, nullable=False)\n",
    "    amount1 = Column(String, nullable=False)\n",
    "    sqrtPriceX96 = Column(String, nullable=False)\n",
    "    liquidity = Column(String, nullable=False)\n",
    "    tick = Column(String, nullable=False)\n",
    "    address = Column(String, nullable=False, index=True)\n",
    "    from_address = Column(String, nullable=False, index=True)\n",
    "    to_address = Column(String, nullable=False, index=True)\n",
    "    from_mempool = Column(Boolean)\n",
    "\n",
    "\n",
    "class MempoolTransaction(Base):\n",
    "    __tablename__ = \"mempool_transactions\"\n",
    "\n",
    "    hash = Column(String, primary_key=True, index=True)\n",
    "    # Time the transaction was first seen, timestamp with timezone (UTC), precision 3, not null\n",
    "    first_seen = Column(DateTime, nullable=False, index=True)\n",
    "\n",
    "class TransactionSource(Base):\n",
    "    __tablename__ = \"transaction_sources\"\n",
    "\n",
    "    hash = Column(String, primary_key=True, index=True)\n",
    "    mempool = Column(Boolean, nullable=False, index=True)"
   ]
  },
  {
   "cell_type": "code",
   "execution_count": 8,
   "metadata": {},
   "outputs": [],
   "source": [
    "# Create a Session class bound to this engine\n",
    "Session = sessionmaker(bind=engine)\n",
    "\n",
    "# Now create the table\n",
    "Base.metadata.create_all(engine)"
   ]
  },
  {
   "cell_type": "markdown",
   "metadata": {},
   "source": [
    "### Data Validation Classes"
   ]
  },
  {
   "cell_type": "code",
   "execution_count": 9,
   "metadata": {},
   "outputs": [],
   "source": [
    "even_v2_data = {\n",
    "    \"args\": {\n",
    "        \"sender\": \"0xD2A52F45C74b358ABE1428bC43F0ce9dDf130780\",\n",
    "        \"to\": \"0xB517850510997a34b4DdC8c3797B4F83fAd510c4\",\n",
    "        \"amount0In\": 2865737771099214,\n",
    "        \"amount1In\": 0,\n",
    "        \"amount0Out\": 0,\n",
    "        \"amount1Out\": 20711683288458725,\n",
    "    },\n",
    "    \"event\": \"Swap\",\n",
    "    \"logIndex\": 5,\n",
    "    \"transactionIndex\": 0,\n",
    "    \"transactionHash\": HexBytes(\n",
    "        \"0x65a44fa5806b9e3b6198c96fff88604612a597be45d3dabc86c3fe10359fe3ef\"\n",
    "    ),\n",
    "    \"address\": \"0x477514E2100DC0E94667f390e3117dc813AC2934\",\n",
    "    \"blockHash\": HexBytes(\n",
    "        \"0x34a8f45c8ccf010b35106e0e5c40954b3a03159d7de422be3e99ba3fa2a9e865\"\n",
    "    ),\n",
    "    \"blockNumber\": 17495444,\n",
    "};"
   ]
  },
  {
   "cell_type": "code",
   "execution_count": 10,
   "metadata": {},
   "outputs": [],
   "source": [
    "even_v3_data = {\n",
    "    \"args\": {\n",
    "        \"sender\": \"0x92F3f71CeF740ED5784874B8C70Ff87ECdF33588\",\n",
    "        \"recipient\": \"0x92F3f74efb71CeF740ED5784874B8C70Ff87ECdF33588\",\n",
    "        \"amount0\": 14146668836465334409,\n",
    "        \"amount1\": -26737897363,\n",
    "        \"sqrtPriceX96\": 3445279794781067888930523,\n",
    "        \"liquidity\": 607716593014265737873,\n",
    "        \"tick\": -200872,\n",
    "    },\n",
    "    \"event\": \"Swap\",\n",
    "    \"logIndex\": 22,\n",
    "    \"transactionIndex\": 4,\n",
    "    \"transactionHash\": HexBytes(\n",
    "        \"0x8e153cf3a5e292a3ad24e7f4bb4a4ae71ef1ec057f52735d13a0166ea03cb78f5\"\n",
    "    ),\n",
    "    \"address\": \"0x11b815efB8f581194ae79006d24E0d814B7697F6\",\n",
    "    \"blockHash\": HexBytes(\n",
    "        \"0x292f6bd15578754b33f5294b51cfad0b3bc6d9936a3365281926af00a11f38ee\"\n",
    "    ),\n",
    "    \"blockNumber\": 17549265,\n",
    "};"
   ]
  },
  {
   "cell_type": "code",
   "execution_count": 11,
   "metadata": {},
   "outputs": [],
   "source": [
    "class SwapArgsV2(BaseModel):\n",
    "    sender: str\n",
    "    to: str\n",
    "    amount0In: int\n",
    "    amount1In: int\n",
    "    amount0Out: int\n",
    "    amount1Out: int\n",
    "\n",
    "\n",
    "class SwapDataV2(BaseModel):\n",
    "    args: SwapArgsV2\n",
    "    logIndex: int\n",
    "    transactionIndex: int\n",
    "    event: str\n",
    "    address: str\n",
    "    blockNumber: int"
   ]
  },
  {
   "cell_type": "code",
   "execution_count": 12,
   "metadata": {},
   "outputs": [],
   "source": [
    "class SwapArgsV3(BaseModel):\n",
    "    sender: str\n",
    "    recipient: str\n",
    "    amount0: int\n",
    "    amount1: int\n",
    "    sqrtPriceX96: int\n",
    "    liquidity: int\n",
    "    tick: int\n",
    "\n",
    "class SwapDataV3(BaseModel):\n",
    "    args: SwapArgsV3\n",
    "    blockNumber: int\n",
    "    event: str\n",
    "    logIndex: int\n",
    "    transactionIndex: int\n",
    "    address: str\n",
    "    blockNumber: int"
   ]
  },
  {
   "cell_type": "markdown",
   "metadata": {},
   "source": [
    "## Ingest data from the blockchain into the Swap V2 and V3 tables\n",
    "\n",
    "- This should be changed to work directly on the Uniswap tables and just updates the heads of those\n",
    "- Next, I'll make a separate table to keep track transaction_hash --> mempool_{true,false}\n",
    "\n"
   ]
  },
  {
   "cell_type": "markdown",
   "metadata": {},
   "source": [
    "### Make functions to extract swap event data"
   ]
  },
  {
   "cell_type": "code",
   "execution_count": 13,
   "metadata": {},
   "outputs": [],
   "source": [
    "def get_v2_swaps_events(tx_hash):\n",
    "    # Get transaction receipt\n",
    "    tx_receipt = w3.eth.get_transaction_receipt(tx_hash)\n",
    "\n",
    "    liquidity_events = []\n",
    "\n",
    "    for log in tx_receipt['logs']:\n",
    "\n",
    "        contract = w3.eth.contract(abi=uniswap_v2_pair_abi, address=log['address'])\n",
    "    \n",
    "        # Parse the logs for Swap, Mint, and Burn events\n",
    "        try:\n",
    "            event_data = contract.events.Swap().process_log(log)\n",
    "        except:\n",
    "            continue\n",
    "\n",
    "        liquidity_events.append(event_data)\n",
    "\n",
    "    return liquidity_events"
   ]
  },
  {
   "cell_type": "code",
   "execution_count": 14,
   "metadata": {},
   "outputs": [],
   "source": [
    "def get_v3_swaps_events(tx_hash):\n",
    "    # Get transaction receipt\n",
    "    tx_receipt = w3.eth.get_transaction_receipt(tx_hash)\n",
    "\n",
    "    liquidity_events = []\n",
    "\n",
    "    for log in tx_receipt['logs']:\n",
    "\n",
    "        contract = w3.eth.contract(abi=uniswap_v3_pool_abi, address=log['address'])\n",
    "    \n",
    "        # Parse the logs for Swap, Mint, and Burn events\n",
    "        try:\n",
    "            event_data = contract.events.Swap().process_log(log)\n",
    "        except:\n",
    "            continue\n",
    "\n",
    "        liquidity_events.append(event_data)\n",
    "\n",
    "    return liquidity_events"
   ]
  },
  {
   "cell_type": "markdown",
   "metadata": {},
   "source": [
    "### Figure out what blocks to extract"
   ]
  },
  {
   "cell_type": "code",
   "execution_count": 15,
   "metadata": {},
   "outputs": [
    {
     "name": "stdout",
     "output_type": "stream",
     "text": [
      "Current block number: 17,589,474\n"
     ]
    }
   ],
   "source": [
    "# Get current block number\n",
    "current_block_number = w3.eth.block_number\n",
    "\n",
    "print(f'Current block number: {current_block_number:,}')"
   ]
  },
  {
   "cell_type": "code",
   "execution_count": 16,
   "metadata": {},
   "outputs": [
    {
     "name": "stdout",
     "output_type": "stream",
     "text": [
      "Min timestamp: 2023-06-24 22:00:37.327000+00:00, block number: 17,552,205\n"
     ]
    }
   ],
   "source": [
    "# Find the smallest `first_seen` in the `mempool_transactions` table\n",
    "stmt = select(func.min(MempoolTransaction.first_seen))\n",
    "\n",
    "with engine.connect() as connection:\n",
    "    result = connection.execute(stmt)\n",
    "    min_timestamp: datetime = cast(datetime, result.scalar())\n",
    "\n",
    "# Get the block number that preceeds the min timestamp\n",
    "block_number = bisect.bisect_right(list(range(0, current_block_number)), min_timestamp.timestamp(), key=lambda x: w3.eth.get_block(x).get('timestamp', 0))\n",
    "\n",
    "print(f'Min timestamp: {min_timestamp}, block number: {block_number:,}')"
   ]
  },
  {
   "cell_type": "code",
   "execution_count": 17,
   "metadata": {},
   "outputs": [
    {
     "name": "stdout",
     "output_type": "stream",
     "text": [
      "Total number of blocks to query: 37,270\n"
     ]
    }
   ],
   "source": [
    "# Generate a set of all block numbers between the block number of the transaction\n",
    "# and the current block number\n",
    "set_of_block_numbers = set(range(block_number, current_block_number + 1))\n",
    "\n",
    "print(f'Total number of blocks to query: {len(set_of_block_numbers):,}')"
   ]
  },
  {
   "cell_type": "code",
   "execution_count": 18,
   "metadata": {},
   "outputs": [
    {
     "name": "stdout",
     "output_type": "stream",
     "text": [
      "[17552205, 17552206, 17552227, 17552230, 17552264, 17552265, 17552300, 17552333, 17552365, 17552384]\n",
      "Number of blocks to process: 26,135\n"
     ]
    }
   ],
   "source": [
    "from typing import Set, Union\n",
    "\n",
    "\n",
    "def get_blocks_to_process(swap_table: Union[SwapV2, SwapV3], block_numbers: Set[int]) -> Set[int]:\n",
    "    # Find all blocks already in the database and remove them from the set\n",
    "    stmt = select(swap_table.block_number).order_by(swap_table.block_number)\n",
    "\n",
    "    stmt = stmt.where(swap_table.block_number > block_number)\n",
    "\n",
    "    with engine.connect() as connection:\n",
    "        result = connection.execute(stmt)\n",
    "\n",
    "    df = pd.DataFrame(result.fetchall(), columns=result.keys()) # type: ignore\n",
    "\n",
    "    block_numbers = block_numbers - set(df['block_number'])\n",
    "\n",
    "    return block_numbers\n",
    "\n",
    "block_numbers = sorted(list(get_blocks_to_process(SwapV2, set_of_block_numbers) | get_blocks_to_process(SwapV3, set_of_block_numbers)))\n",
    "\n",
    "print(block_numbers[:10])\n",
    "\n",
    "print(f'Number of blocks to process: {len(block_numbers):,}')\n"
   ]
  },
  {
   "cell_type": "markdown",
   "metadata": {},
   "source": [
    "### Run the extraction for V2 and V3"
   ]
  },
  {
   "cell_type": "code",
   "execution_count": null,
   "metadata": {},
   "outputs": [],
   "source": [
    "assert False, \"Has this been updated to the new schema?\"\n",
    "\n",
    "session = Session()\n",
    "swaps_to_insert = []\n",
    "\n",
    "it = tqdm(block_numbers)\n",
    "for block_number in it:\n",
    "    block = w3.eth.get_block(block_number)\n",
    "    \n",
    "    if 'transactions' not in block:\n",
    "        with open(f'./errors_v2.txt', 'a') as f:\n",
    "            f.writelines(f'Block {block_number} has no transactions\\n')\n",
    "        continue\n",
    "\n",
    "    block_timestamp = datetime.fromtimestamp(block['timestamp'] if 'timestamp' in block else 0)\n",
    "    it.set_description(f'Processing block {block_number:_} / {current_block_number:_} ({block_timestamp:%Y-%m-%d %H:%M})')\n",
    "\n",
    "    for transaction in block['transactions']:\n",
    "\n",
    "        # Get transaction hash\n",
    "        tx_hash = w3.to_hex(transaction).lower() # type: ignore\n",
    "\n",
    "        # Check if this transaction is in the mempool_transactions in PostgreSQL database\n",
    "        from_mempool = session.get(MempoolTransaction, tx_hash) is not None\n",
    "\n",
    "        # Get swaps V2 and V3 from transaction\n",
    "        swapsv2 = get_v2_swaps_events(tx_hash)\n",
    "        swapsv3 = get_v3_swaps_events(tx_hash)\n",
    "\n",
    "        for swap in swapsv2:\n",
    "            swap = SwapDataV2(**swap)\n",
    "\n",
    "            swap_to_insert = SwapV2(\n",
    "                transaction_hash=tx_hash,\n",
    "                address=swap.address,\n",
    "                block_timestamp=block_timestamp,\n",
    "                block_number=block_number,\n",
    "                transaction_index=swap.transactionIndex,\n",
    "                log_index=swap.logIndex,\n",
    "                sender=swap.args.sender,\n",
    "                amount0_in=swap.args.amount0In,\n",
    "                amount1_in=swap.args.amount1In,\n",
    "                amount0_out=swap.args.amount0Out,\n",
    "                amount1_out=swap.args.amount1Out,\n",
    "                to=swap.args.to,\n",
    "                from_mempool=from_mempool,\n",
    "            )\n",
    "\n",
    "            swaps_to_insert.append(swap_to_insert)\n",
    "            it.set_postfix({\"swaps_to_insert\": len(swaps_to_insert)})\n",
    "\n",
    "\n",
    "        for swap in swapsv3:\n",
    "            swap = SwapDataV3(**swap)\n",
    "\n",
    "            swap_to_insert = SwapV3(\n",
    "                transaction_hash=tx_hash,\n",
    "                block_timestamp=block_timestamp,\n",
    "                block_number=block_number,\n",
    "                log_index=swap.logIndex,\n",
    "                sender=swap.args.sender,\n",
    "                recipient=swap.args.recipient,\n",
    "                amount0=str(swap.args.amount0),\n",
    "                amount1=str(swap.args.amount1),\n",
    "                sqrtPriceX96=str(swap.args.sqrtPriceX96),\n",
    "                liquidity=str(swap.args.liquidity),\n",
    "                tick=str(swap.args.tick),\n",
    "                address=swap.address,\n",
    "                from_address=swap.args.sender,\n",
    "                to_address=swap.args.recipient,\n",
    "                transaction_index=swap.transactionIndex,\n",
    "                from_mempool=from_mempool,\n",
    "            )\n",
    "\n",
    "            swaps_to_insert.append(swap_to_insert)\n",
    "            it.set_postfix({\"swaps_to_insert\": len(swaps_to_insert)})\n",
    "            \n",
    "\n",
    "\n",
    "    # Checkpoint if we get more than 100 swaps\n",
    "    if len(swaps_to_insert) > 100:\n",
    "        # Insert the swaps into the database\n",
    "        for swap in swaps_to_insert:\n",
    "            session.merge(swap)\n",
    "        session.commit()\n",
    "\n",
    "        swaps_to_insert = []\n",
    "\n",
    "session.close()\n"
   ]
  },
  {
   "cell_type": "markdown",
   "metadata": {},
   "source": [
    "## Insert mempool_{true,false} into the database"
   ]
  },
  {
   "cell_type": "markdown",
   "metadata": {},
   "source": []
  }
 ],
 "metadata": {
  "kernelspec": {
   "display_name": "venv",
   "language": "python",
   "name": "python3"
  },
  "language_info": {
   "codemirror_mode": {
    "name": "ipython",
    "version": 3
   },
   "file_extension": ".py",
   "mimetype": "text/x-python",
   "name": "python",
   "nbconvert_exporter": "python",
   "pygments_lexer": "ipython3",
   "version": "3.11.0"
  },
  "orig_nbformat": 4
 },
 "nbformat": 4,
 "nbformat_minor": 2
}
