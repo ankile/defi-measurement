{
 "cells": [
  {
   "cell_type": "code",
   "execution_count": 1,
   "metadata": {},
   "outputs": [],
   "source": [
    "%load_ext autoreload\n",
    "%autoreload 2"
   ]
  },
  {
   "cell_type": "code",
   "execution_count": 2,
   "metadata": {},
   "outputs": [],
   "source": [
    "import sys\n",
    "\n",
    "sys.path.append(\"/Users/larsankile/Code/liquidity-distribution-history/\")"
   ]
  },
  {
   "cell_type": "code",
   "execution_count": 10,
   "metadata": {},
   "outputs": [
    {
     "data": {
      "text/plain": [
       "True"
      ]
     },
     "execution_count": 10,
     "metadata": {},
     "output_type": "execute_result"
    }
   ],
   "source": [
    "from pool_state import v3Pool\n",
    "\n",
    "import pandas as pd\n",
    "from prisma import Prisma\n",
    "\n",
    "\n",
    "from dotenv import load_dotenv\n",
    "\n",
    "\n",
    "load_dotenv(override=True)"
   ]
  },
  {
   "cell_type": "code",
   "execution_count": 14,
   "metadata": {},
   "outputs": [],
   "source": [
    "client = Prisma()\n",
    "await client.connect()\n",
    "\n",
    "await client.swap.count()"
   ]
  },
  {
   "cell_type": "code",
   "execution_count": 21,
   "metadata": {},
   "outputs": [],
   "source": [
    "swaps_v3 = await client.swap.find_many()"
   ]
  },
  {
   "cell_type": "code",
   "execution_count": 39,
   "metadata": {},
   "outputs": [
    {
     "name": "stdout",
     "output_type": "stream",
     "text": [
      "56,838 blocks from 2023-06-16 22:24:23+00:00 to 2023-06-25 04:11:59+00:00\n"
     ]
    },
    {
     "data": {
      "text/html": [
       "<div>\n",
       "<style scoped>\n",
       "    .dataframe tbody tr th:only-of-type {\n",
       "        vertical-align: middle;\n",
       "    }\n",
       "\n",
       "    .dataframe tbody tr th {\n",
       "        vertical-align: top;\n",
       "    }\n",
       "\n",
       "    .dataframe thead th {\n",
       "        text-align: right;\n",
       "    }\n",
       "</style>\n",
       "<table border=\"1\" class=\"dataframe\">\n",
       "  <thead>\n",
       "    <tr style=\"text-align: right;\">\n",
       "      <th></th>\n",
       "      <th>transaction_hash</th>\n",
       "      <th>block_timestamp</th>\n",
       "      <th>block_number</th>\n",
       "      <th>transaction_index</th>\n",
       "      <th>log_index</th>\n",
       "      <th>sender</th>\n",
       "      <th>recipient</th>\n",
       "      <th>amount0</th>\n",
       "      <th>amount1</th>\n",
       "      <th>sqrtPriceX96</th>\n",
       "      <th>liquidity</th>\n",
       "      <th>tick</th>\n",
       "      <th>address</th>\n",
       "      <th>from_address</th>\n",
       "      <th>to_address</th>\n",
       "      <th>from_mempool</th>\n",
       "    </tr>\n",
       "  </thead>\n",
       "  <tbody>\n",
       "    <tr>\n",
       "      <th>0</th>\n",
       "      <td>0x8009a5b544c00d7dbc98f09b44eb34b718db322869b3...</td>\n",
       "      <td>2023-06-16 22:24:23+00:00</td>\n",
       "      <td>17495345</td>\n",
       "      <td>98</td>\n",
       "      <td>295</td>\n",
       "      <td>0xDef1C0ded9bec7F1a1670819833240f027b25EfF</td>\n",
       "      <td>0x3E47965A595054BE56653a1D237A426233309c9E</td>\n",
       "      <td>-8542476354849</td>\n",
       "      <td>455654402709353356</td>\n",
       "      <td>18275694958246292902075973447291</td>\n",
       "      <td>3539836978395738419</td>\n",
       "      <td>108825</td>\n",
       "      <td>0x9e0905249CeEFfFB9605E034b534544684A58BE6</td>\n",
       "      <td>0xDef1C0ded9bec7F1a1670819833240f027b25EfF</td>\n",
       "      <td>0x3E47965A595054BE56653a1D237A426233309c9E</td>\n",
       "      <td>False</td>\n",
       "    </tr>\n",
       "    <tr>\n",
       "      <th>1</th>\n",
       "      <td>0x3e2371f3b011c3ca5bb3e21edaf4197cdb609ce0f7c2...</td>\n",
       "      <td>2023-06-16 22:24:35+00:00</td>\n",
       "      <td>17495346</td>\n",
       "      <td>2</td>\n",
       "      <td>27</td>\n",
       "      <td>0xE592427A0AEce92De3Edee1F18E0157C05861564</td>\n",
       "      <td>0xDEF171Fe48CF0115B1d80b88dc8eAB59176FEe57</td>\n",
       "      <td>-1574307151494113403411</td>\n",
       "      <td>1766521636780182160</td>\n",
       "      <td>2641052031392980960130223425</td>\n",
       "      <td>175211772026694486436642</td>\n",
       "      <td>-68027</td>\n",
       "      <td>0xE936f0073549AD8b1fA53583600d629Ba9375161</td>\n",
       "      <td>0xE592427A0AEce92De3Edee1F18E0157C05861564</td>\n",
       "      <td>0xDEF171Fe48CF0115B1d80b88dc8eAB59176FEe57</td>\n",
       "      <td>False</td>\n",
       "    </tr>\n",
       "    <tr>\n",
       "      <th>2</th>\n",
       "      <td>0xd0eeb237d2de4c87977dd1d88c64f888e68a4788222f...</td>\n",
       "      <td>2023-06-16 22:24:35+00:00</td>\n",
       "      <td>17495346</td>\n",
       "      <td>119</td>\n",
       "      <td>259</td>\n",
       "      <td>0x3fC91A3afd70395Cd496C647d5a6CC9D4B2b7FAD</td>\n",
       "      <td>0x3fC91A3afd70395Cd496C647d5a6CC9D4B2b7FAD</td>\n",
       "      <td>38730188992814572393</td>\n",
       "      <td>-607740296228321509</td>\n",
       "      <td>9974327118410483594753610929</td>\n",
       "      <td>83274147314440038309243</td>\n",
       "      <td>-41449</td>\n",
       "      <td>0x058D79a4C6eb5B11d0248993fFA1faa168DDd3C0</td>\n",
       "      <td>0x3fC91A3afd70395Cd496C647d5a6CC9D4B2b7FAD</td>\n",
       "      <td>0x3fC91A3afd70395Cd496C647d5a6CC9D4B2b7FAD</td>\n",
       "      <td>False</td>\n",
       "    </tr>\n",
       "    <tr>\n",
       "      <th>3</th>\n",
       "      <td>0x8280b3f12bd3e6e8530fe4eb6ee805f216644d995fde...</td>\n",
       "      <td>2023-06-16 22:24:47+00:00</td>\n",
       "      <td>17495347</td>\n",
       "      <td>1</td>\n",
       "      <td>5</td>\n",
       "      <td>0x3fC91A3afd70395Cd496C647d5a6CC9D4B2b7FAD</td>\n",
       "      <td>0x3fC91A3afd70395Cd496C647d5a6CC9D4B2b7FAD</td>\n",
       "      <td>144609078919</td>\n",
       "      <td>-84121696852463761579</td>\n",
       "      <td>1911357499820391692725701436214544</td>\n",
       "      <td>932435692349012659054</td>\n",
       "      <td>201829</td>\n",
       "      <td>0x88e6A0c2dDD26FEEb64F039a2c41296FcB3f5640</td>\n",
       "      <td>0x3fC91A3afd70395Cd496C647d5a6CC9D4B2b7FAD</td>\n",
       "      <td>0x3fC91A3afd70395Cd496C647d5a6CC9D4B2b7FAD</td>\n",
       "      <td>False</td>\n",
       "    </tr>\n",
       "    <tr>\n",
       "      <th>4</th>\n",
       "      <td>0x8280b3f12bd3e6e8530fe4eb6ee805f216644d995fde...</td>\n",
       "      <td>2023-06-16 22:24:47+00:00</td>\n",
       "      <td>17495347</td>\n",
       "      <td>1</td>\n",
       "      <td>8</td>\n",
       "      <td>0x3fC91A3afd70395Cd496C647d5a6CC9D4B2b7FAD</td>\n",
       "      <td>0x3fC91A3afd70395Cd496C647d5a6CC9D4B2b7FAD</td>\n",
       "      <td>36152269729</td>\n",
       "      <td>-36184364178</td>\n",
       "      <td>79267273712263644938102111529</td>\n",
       "      <td>117852460482612044</td>\n",
       "      <td>9</td>\n",
       "      <td>0x3416cF6C708Da44DB2624D63ea0AAef7113527C6</td>\n",
       "      <td>0x3fC91A3afd70395Cd496C647d5a6CC9D4B2b7FAD</td>\n",
       "      <td>0x3fC91A3afd70395Cd496C647d5a6CC9D4B2b7FAD</td>\n",
       "      <td>False</td>\n",
       "    </tr>\n",
       "  </tbody>\n",
       "</table>\n",
       "</div>"
      ],
      "text/plain": [
       "                                    transaction_hash  \\\n",
       "0  0x8009a5b544c00d7dbc98f09b44eb34b718db322869b3...   \n",
       "1  0x3e2371f3b011c3ca5bb3e21edaf4197cdb609ce0f7c2...   \n",
       "2  0xd0eeb237d2de4c87977dd1d88c64f888e68a4788222f...   \n",
       "3  0x8280b3f12bd3e6e8530fe4eb6ee805f216644d995fde...   \n",
       "4  0x8280b3f12bd3e6e8530fe4eb6ee805f216644d995fde...   \n",
       "\n",
       "            block_timestamp  block_number  transaction_index  log_index  \\\n",
       "0 2023-06-16 22:24:23+00:00      17495345                 98        295   \n",
       "1 2023-06-16 22:24:35+00:00      17495346                  2         27   \n",
       "2 2023-06-16 22:24:35+00:00      17495346                119        259   \n",
       "3 2023-06-16 22:24:47+00:00      17495347                  1          5   \n",
       "4 2023-06-16 22:24:47+00:00      17495347                  1          8   \n",
       "\n",
       "                                       sender  \\\n",
       "0  0xDef1C0ded9bec7F1a1670819833240f027b25EfF   \n",
       "1  0xE592427A0AEce92De3Edee1F18E0157C05861564   \n",
       "2  0x3fC91A3afd70395Cd496C647d5a6CC9D4B2b7FAD   \n",
       "3  0x3fC91A3afd70395Cd496C647d5a6CC9D4B2b7FAD   \n",
       "4  0x3fC91A3afd70395Cd496C647d5a6CC9D4B2b7FAD   \n",
       "\n",
       "                                    recipient                  amount0  \\\n",
       "0  0x3E47965A595054BE56653a1D237A426233309c9E           -8542476354849   \n",
       "1  0xDEF171Fe48CF0115B1d80b88dc8eAB59176FEe57  -1574307151494113403411   \n",
       "2  0x3fC91A3afd70395Cd496C647d5a6CC9D4B2b7FAD     38730188992814572393   \n",
       "3  0x3fC91A3afd70395Cd496C647d5a6CC9D4B2b7FAD             144609078919   \n",
       "4  0x3fC91A3afd70395Cd496C647d5a6CC9D4B2b7FAD              36152269729   \n",
       "\n",
       "                 amount1                        sqrtPriceX96  \\\n",
       "0     455654402709353356    18275694958246292902075973447291   \n",
       "1    1766521636780182160        2641052031392980960130223425   \n",
       "2    -607740296228321509        9974327118410483594753610929   \n",
       "3  -84121696852463761579  1911357499820391692725701436214544   \n",
       "4           -36184364178       79267273712263644938102111529   \n",
       "\n",
       "                  liquidity    tick  \\\n",
       "0       3539836978395738419  108825   \n",
       "1  175211772026694486436642  -68027   \n",
       "2   83274147314440038309243  -41449   \n",
       "3     932435692349012659054  201829   \n",
       "4        117852460482612044       9   \n",
       "\n",
       "                                      address  \\\n",
       "0  0x9e0905249CeEFfFB9605E034b534544684A58BE6   \n",
       "1  0xE936f0073549AD8b1fA53583600d629Ba9375161   \n",
       "2  0x058D79a4C6eb5B11d0248993fFA1faa168DDd3C0   \n",
       "3  0x88e6A0c2dDD26FEEb64F039a2c41296FcB3f5640   \n",
       "4  0x3416cF6C708Da44DB2624D63ea0AAef7113527C6   \n",
       "\n",
       "                                 from_address  \\\n",
       "0  0xDef1C0ded9bec7F1a1670819833240f027b25EfF   \n",
       "1  0xE592427A0AEce92De3Edee1F18E0157C05861564   \n",
       "2  0x3fC91A3afd70395Cd496C647d5a6CC9D4B2b7FAD   \n",
       "3  0x3fC91A3afd70395Cd496C647d5a6CC9D4B2b7FAD   \n",
       "4  0x3fC91A3afd70395Cd496C647d5a6CC9D4B2b7FAD   \n",
       "\n",
       "                                   to_address  from_mempool  \n",
       "0  0x3E47965A595054BE56653a1D237A426233309c9E         False  \n",
       "1  0xDEF171Fe48CF0115B1d80b88dc8eAB59176FEe57         False  \n",
       "2  0x3fC91A3afd70395Cd496C647d5a6CC9D4B2b7FAD         False  \n",
       "3  0x3fC91A3afd70395Cd496C647d5a6CC9D4B2b7FAD         False  \n",
       "4  0x3fC91A3afd70395Cd496C647d5a6CC9D4B2b7FAD         False  "
      ]
     },
     "execution_count": 39,
     "metadata": {},
     "output_type": "execute_result"
    }
   ],
   "source": [
    "df = pd.DataFrame([swap.dict() for swap in swaps_v3])\n",
    "\n",
    "print(f\"{df.block_number.nunique():,} blocks from {df.block_timestamp.min()} to {df.block_timestamp.max()}\")\n",
    "\n",
    "df.head()"
   ]
  },
  {
   "cell_type": "code",
   "execution_count": 40,
   "metadata": {},
   "outputs": [],
   "source": [
    "swapcounts = df.groupby(['block_number', 'address']).count().transaction_hash.sort_values(ascending=False)"
   ]
  },
  {
   "cell_type": "code",
   "execution_count": 42,
   "metadata": {},
   "outputs": [
    {
     "name": "stdout",
     "output_type": "stream",
     "text": [
      "More than 3 swaps: 4,623 / 281,369 (1.64%)\n",
      "More than 4 swaps: 2,130 / 281,369 (0.76%)\n"
     ]
    }
   ],
   "source": [
    "print(f'More than 3 swaps: {(swapcounts > 3).sum():,} / {swapcounts.shape[0]:,} ({(swapcounts > 3).sum() / swapcounts.shape[0]:.2%})')\n",
    "print(f'More than 4 swaps: {(swapcounts > 4).sum():,} / {swapcounts.shape[0]:,} ({(swapcounts > 4).sum() / swapcounts.shape[0]:.2%})')"
   ]
  },
  {
   "cell_type": "code",
   "execution_count": null,
   "metadata": {},
   "outputs": [],
   "source": [
    "# Start with block and pool with the most swaps\n",
    "block_number = swapcounts.index.get_level_values(0)[0]\n",
    "pool_address = swapcounts.index.get_level_values(1)[0]\n",
    "\n",
    "print(f'Block: {block_number}, Pool: {pool_address}')"
   ]
  }
 ],
 "metadata": {
  "kernelspec": {
   "display_name": "venv",
   "language": "python",
   "name": "python3"
  },
  "language_info": {
   "codemirror_mode": {
    "name": "ipython",
    "version": 3
   },
   "file_extension": ".py",
   "mimetype": "text/x-python",
   "name": "python",
   "nbconvert_exporter": "python",
   "pygments_lexer": "ipython3",
   "version": "3.11.3"
  },
  "orig_nbformat": 4
 },
 "nbformat": 4,
 "nbformat_minor": 2
}
