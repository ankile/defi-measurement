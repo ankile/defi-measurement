{
 "cells": [
  {
   "attachments": {},
   "cell_type": "markdown",
   "metadata": {},
   "source": [
    "# Process Swap Events on the blockchain"
   ]
  },
  {
   "cell_type": "code",
   "execution_count": 16,
   "metadata": {},
   "outputs": [
    {
     "data": {
      "text/plain": [
       "True"
      ]
     },
     "execution_count": 16,
     "metadata": {},
     "output_type": "execute_result"
    }
   ],
   "source": [
    "import json\n",
    "import bisect\n",
    "\n",
    "from web3 import Web3\n",
    "import pandas as pd\n",
    "from hexbytes import HexBytes\n",
    "\n",
    "from datetime import datetime\n",
    "\n",
    "import matplotlib.pyplot as plt\n",
    "import bisect\n",
    "from typing import cast\n",
    "# Import python dotenv\n",
    "from dotenv import load_dotenv\n",
    "import numpy as np\n",
    "import os\n",
    "\n",
    "\n",
    "from tqdm import tqdm, trange\n",
    "\n",
    "# Import sqlalchemy\n",
    "from sqlalchemy import create_engine\n",
    "\n",
    "from sqlalchemy import String, Column, DateTime, Boolean, Integer\n",
    "from sqlalchemy import Column, Integer, String, DateTime, Boolean\n",
    "from sqlalchemy.orm import declarative_base\n",
    "from sqlalchemy.orm import sessionmaker\n",
    "from sqlalchemy import create_engine, select, func\n",
    "\n",
    "from datetime import datetime\n",
    "\n",
    "\n",
    "from datetime import datetime\n",
    "from pydantic import BaseModel\n",
    "\n",
    "\n",
    "load_dotenv(override=True)"
   ]
  },
  {
   "cell_type": "code",
   "execution_count": 17,
   "metadata": {},
   "outputs": [],
   "source": [
    "w3 = Web3(Web3.HTTPProvider('http://localhost:8545'))"
   ]
  },
  {
   "cell_type": "code",
   "execution_count": 18,
   "metadata": {},
   "outputs": [],
   "source": [
    "postgres_uri = os.getenv(\"POSTGRESQL_URI_MP\")\n",
    "\n",
    "assert postgres_uri is not None, \"POSTGRESQL_URI is not set in .env file\"\n",
    "\n",
    "engine = create_engine(postgres_uri)"
   ]
  },
  {
   "cell_type": "code",
   "execution_count": 19,
   "metadata": {},
   "outputs": [],
   "source": [
    "# Load in the ABIs\n",
    "with open('../abi/UniswapV3Pool.json', 'r') as f:\n",
    "    uniswap_v3_pool_abi = json.load(f)\n",
    "\n",
    "with open('../abi/UniswapV2Pair.json', 'r') as f:\n",
    "    uniswap_v2_pair_abi = json.load(f)\n"
   ]
  },
  {
   "attachments": {},
   "cell_type": "markdown",
   "metadata": {},
   "source": [
    "## Define Swap Schemas"
   ]
  },
  {
   "attachments": {},
   "cell_type": "markdown",
   "metadata": {},
   "source": [
    "### Database Models"
   ]
  },
  {
   "cell_type": "code",
   "execution_count": 20,
   "metadata": {},
   "outputs": [],
   "source": [
    "# Swaps V2 table\n",
    "\"\"\"\n",
    "Field               Name        Type\n",
    "address            \tSTRING\t    NULLABLE\n",
    "block_timestamp    \tTIMESTAMP\tNULLABLE\n",
    "block_number       \tINTEGER\t    NULLABLE\n",
    "transaction_hash   \tSTRING\t    NULLABLE\n",
    "log_index          \tINTEGER\t    NULLABLE\n",
    "sender             \tSTRING\t    NULLABLE\n",
    "amount0In          \tSTRING\t    NULLABLE\n",
    "amount1In          \tSTRING\t    NULLABLE\n",
    "amount0Out         \tSTRING\t    NULLABLE\n",
    "amount1Out         \tSTRING\t    NULLABLE\n",
    "to                 \tSTRING\t    NULLABLE\n",
    "\"\"\";"
   ]
  },
  {
   "cell_type": "code",
   "execution_count": 21,
   "metadata": {},
   "outputs": [],
   "source": [
    "# Swap V3 table:\n",
    "\"\"\"\n",
    "block_timestamp     TIMESTAMP\tNULLABLE                        \n",
    "block_number        INTEGER\t    NULLABLE                        \n",
    "transaction_hash    STRING\t    NULLABLE                            \n",
    "log_index           INTEGER\t    NULLABLE                    \n",
    "sender              STRING\t    NULLABLE                \n",
    "recipient           STRING\t    NULLABLE                    \n",
    "amount0             STRING\t    NULLABLE                \n",
    "amount1             STRING\t    NULLABLE                \n",
    "sqrtPriceX96        STRING\t    NULLABLE                        \n",
    "liquidity           STRING\t    NULLABLE                    \n",
    "tick                STRING\t    NULLABLE                \n",
    "address             STRING\t    NULLABLE                \n",
    "from_address        STRING\t    NULLABLE                        \n",
    "to_address          STRING\t    NULLABLE                    \n",
    "transaction_index   INTEGER\t    NULLABLE                               \n",
    "\"\"\";"
   ]
  },
  {
   "cell_type": "code",
   "execution_count": 22,
   "metadata": {},
   "outputs": [],
   "source": [
    "Base = declarative_base()\n",
    "\n",
    "\n",
    "class SwapV2(Base):\n",
    "    __tablename__ = \"swaps_v2\"\n",
    "\n",
    "    # id = Column(Integer, primary_key=True, index=True, autoincrement=True)\n",
    "    transaction_hash = Column(String, index=True, nullable=False)\n",
    "    address = Column(String, nullable=False, index=True)\n",
    "    block_timestamp = Column(DateTime, nullable=False)\n",
    "    block_number = Column(Integer, nullable=False, index=True, primary_key=True)\n",
    "    transaction_index = Column(Integer, nullable=False, primary_key=True)\n",
    "    log_index = Column(Integer, nullable=False, primary_key=True)\n",
    "    sender = Column(String, nullable=False, index=True)\n",
    "    amount0_in = Column(String, nullable=False)\n",
    "    amount1_in = Column(String, nullable=False)\n",
    "    amount0_out = Column(String, nullable=False)\n",
    "    amount1_out = Column(String, nullable=False)\n",
    "    to = Column(String, nullable=False)\n",
    "    from_mempool = Column(Boolean, nullable=False)\n",
    "\n",
    "\n",
    "class SwapV3(Base):\n",
    "    __tablename__ = \"swaps\"\n",
    "\n",
    "    # id = Column(Integer, primary_key=True, index=True, autoincrement=True)\n",
    "    transaction_hash = Column(String, index=True)\n",
    "    block_timestamp = Column(DateTime, nullable=False)\n",
    "    block_number = Column(Integer, nullable=False, index=True, primary_key=True)\n",
    "    transaction_index = Column(Integer, nullable=False, primary_key=True)\n",
    "    log_index = Column(Integer, nullable=False, primary_key=True)\n",
    "    sender = Column(String, nullable=False, index=True)\n",
    "    recipient = Column(String, nullable=False, index=True)\n",
    "    amount0 = Column(String, nullable=False)\n",
    "    amount1 = Column(String, nullable=False)\n",
    "    sqrtPriceX96 = Column(String, nullable=False)\n",
    "    liquidity = Column(String, nullable=False)\n",
    "    tick = Column(String, nullable=False)\n",
    "    address = Column(String, nullable=False, index=True)\n",
    "    from_address = Column(String, nullable=False, index=True)\n",
    "    to_address = Column(String, nullable=False, index=True)\n",
    "    from_mempool = Column(Boolean)\n",
    "\n",
    "\n",
    "class MempoolTransaction(Base):\n",
    "    __tablename__ = \"mempool_transactions\"\n",
    "\n",
    "    hash = Column(String, primary_key=True, index=True)\n",
    "    # Time the transaction was first seen, timestamp with timezone (UTC), precision 3, not null\n",
    "    first_seen = Column(DateTime, nullable=False, index=True)\n",
    "\n",
    "class TransactionSource(Base):\n",
    "    __tablename__ = \"transaction_sources\"\n",
    "\n",
    "    hash = Column(String, primary_key=True, index=True)\n",
    "    mempool = Column(Boolean, nullable=False, index=True)"
   ]
  },
  {
   "cell_type": "code",
   "execution_count": 23,
   "metadata": {},
   "outputs": [],
   "source": [
    "# Create a Session class bound to this engine\n",
    "Session = sessionmaker(bind=engine)\n",
    "\n",
    "# Now create the table\n",
    "Base.metadata.create_all(engine)"
   ]
  },
  {
   "attachments": {},
   "cell_type": "markdown",
   "metadata": {},
   "source": [
    "### Data Validation Classes"
   ]
  },
  {
   "cell_type": "code",
   "execution_count": 24,
   "metadata": {},
   "outputs": [],
   "source": [
    "even_v2_data = {\n",
    "    \"args\": {\n",
    "        \"sender\": \"0xD2A52F45C74b358ABE1428bC43F0ce9dDf130780\",\n",
    "        \"to\": \"0xB517850510997a34b4DdC8c3797B4F83fAd510c4\",\n",
    "        \"amount0In\": 2865737771099214,\n",
    "        \"amount1In\": 0,\n",
    "        \"amount0Out\": 0,\n",
    "        \"amount1Out\": 20711683288458725,\n",
    "    },\n",
    "    \"event\": \"Swap\",\n",
    "    \"logIndex\": 5,\n",
    "    \"transactionIndex\": 0,\n",
    "    \"transactionHash\": HexBytes(\n",
    "        \"0x65a44fa5806b9e3b6198c96fff88604612a597be45d3dabc86c3fe10359fe3ef\"\n",
    "    ),\n",
    "    \"address\": \"0x477514E2100DC0E94667f390e3117dc813AC2934\",\n",
    "    \"blockHash\": HexBytes(\n",
    "        \"0x34a8f45c8ccf010b35106e0e5c40954b3a03159d7de422be3e99ba3fa2a9e865\"\n",
    "    ),\n",
    "    \"blockNumber\": 17495444,\n",
    "};"
   ]
  },
  {
   "cell_type": "code",
   "execution_count": 25,
   "metadata": {},
   "outputs": [],
   "source": [
    "even_v3_data = {\n",
    "    \"args\": {\n",
    "        \"sender\": \"0x92F3f71CeF740ED5784874B8C70Ff87ECdF33588\",\n",
    "        \"recipient\": \"0x92F3f74efb71CeF740ED5784874B8C70Ff87ECdF33588\",\n",
    "        \"amount0\": 14146668836465334409,\n",
    "        \"amount1\": -26737897363,\n",
    "        \"sqrtPriceX96\": 3445279794781067888930523,\n",
    "        \"liquidity\": 607716593014265737873,\n",
    "        \"tick\": -200872,\n",
    "    },\n",
    "    \"event\": \"Swap\",\n",
    "    \"logIndex\": 22,\n",
    "    \"transactionIndex\": 4,\n",
    "    \"transactionHash\": HexBytes(\n",
    "        \"0x8e153cf3a5e292a3ad24e7f4bb4a4ae71ef1ec057f52735d13a0166ea03cb78f5\"\n",
    "    ),\n",
    "    \"address\": \"0x11b815efB8f581194ae79006d24E0d814B7697F6\",\n",
    "    \"blockHash\": HexBytes(\n",
    "        \"0x292f6bd15578754b33f5294b51cfad0b3bc6d9936a3365281926af00a11f38ee\"\n",
    "    ),\n",
    "    \"blockNumber\": 17549265,\n",
    "};"
   ]
  },
  {
   "cell_type": "code",
   "execution_count": 26,
   "metadata": {},
   "outputs": [],
   "source": [
    "class SwapArgsV2(BaseModel):\n",
    "    sender: str\n",
    "    to: str\n",
    "    amount0In: int\n",
    "    amount1In: int\n",
    "    amount0Out: int\n",
    "    amount1Out: int\n",
    "\n",
    "\n",
    "class SwapDataV2(BaseModel):\n",
    "    args: SwapArgsV2\n",
    "    logIndex: int\n",
    "    transactionIndex: int\n",
    "    event: str\n",
    "    address: str\n",
    "    blockNumber: int"
   ]
  },
  {
   "cell_type": "code",
   "execution_count": 27,
   "metadata": {},
   "outputs": [],
   "source": [
    "class SwapArgsV3(BaseModel):\n",
    "    sender: str\n",
    "    recipient: str\n",
    "    amount0: int\n",
    "    amount1: int\n",
    "    sqrtPriceX96: int\n",
    "    liquidity: int\n",
    "    tick: int\n",
    "\n",
    "class SwapDataV3(BaseModel):\n",
    "    args: SwapArgsV3\n",
    "    blockNumber: int\n",
    "    event: str\n",
    "    logIndex: int\n",
    "    transactionIndex: int\n",
    "    address: str\n",
    "    blockNumber: int"
   ]
  },
  {
   "attachments": {},
   "cell_type": "markdown",
   "metadata": {},
   "source": [
    "## Ingest data from the blockchain into the Swap V2 and V3 tables\n",
    "\n",
    "- This should be changed to work directly on the Uniswap tables and just updates the heads of those\n",
    "- Next, I'll make a separate table to keep track transaction_hash --> mempool_{true,false}\n",
    "\n"
   ]
  },
  {
   "attachments": {},
   "cell_type": "markdown",
   "metadata": {},
   "source": [
    "### Make functions to extract swap event data"
   ]
  },
  {
   "cell_type": "code",
   "execution_count": 28,
   "metadata": {},
   "outputs": [],
   "source": [
    "def get_v2_swaps_events(tx_hash):\n",
    "    # Get transaction receipt\n",
    "    tx_receipt = w3.eth.get_transaction_receipt(tx_hash)\n",
    "\n",
    "    liquidity_events = []\n",
    "\n",
    "    for log in tx_receipt['logs']:\n",
    "\n",
    "        contract = w3.eth.contract(abi=uniswap_v2_pair_abi, address=log['address'])\n",
    "    \n",
    "        # Parse the logs for Swap, Mint, and Burn events\n",
    "        try:\n",
    "            event_data = contract.events.Swap().process_log(log)\n",
    "        except:\n",
    "            continue\n",
    "\n",
    "        liquidity_events.append(event_data)\n",
    "\n",
    "    return liquidity_events"
   ]
  },
  {
   "cell_type": "code",
   "execution_count": 29,
   "metadata": {},
   "outputs": [],
   "source": [
    "def get_v3_swaps_events(tx_hash):\n",
    "    # Get transaction receipt\n",
    "    tx_receipt = w3.eth.get_transaction_receipt(tx_hash)\n",
    "\n",
    "    liquidity_events = []\n",
    "\n",
    "    for log in tx_receipt['logs']:\n",
    "\n",
    "        contract = w3.eth.contract(abi=uniswap_v3_pool_abi, address=log['address'])\n",
    "    \n",
    "        # Parse the logs for Swap, Mint, and Burn events\n",
    "        try:\n",
    "            event_data = contract.events.Swap().process_log(log)\n",
    "        except:\n",
    "            continue\n",
    "\n",
    "        liquidity_events.append(event_data)\n",
    "\n",
    "    return liquidity_events"
   ]
  },
  {
   "attachments": {},
   "cell_type": "markdown",
   "metadata": {},
   "source": [
    "### Figure out what blocks to extract"
   ]
  },
  {
   "cell_type": "code",
   "execution_count": 30,
   "metadata": {},
   "outputs": [
    {
     "ename": "ConnectionError",
     "evalue": "HTTPConnectionPool(host='localhost', port=8545): Max retries exceeded with url: / (Caused by NewConnectionError('<urllib3.connection.HTTPConnection object at 0x16c5b3050>: Failed to establish a new connection: [Errno 61] Connection refused'))",
     "output_type": "error",
     "traceback": [
      "\u001b[0;31m---------------------------------------------------------------------------\u001b[0m",
      "\u001b[0;31mConnectionRefusedError\u001b[0m                    Traceback (most recent call last)",
      "File \u001b[0;32m~/code/defi-measurement/venv/lib/python3.11/site-packages/urllib3/connection.py:174\u001b[0m, in \u001b[0;36mHTTPConnection._new_conn\u001b[0;34m(self)\u001b[0m\n\u001b[1;32m    173\u001b[0m \u001b[39mtry\u001b[39;00m:\n\u001b[0;32m--> 174\u001b[0m     conn \u001b[39m=\u001b[39m connection\u001b[39m.\u001b[39;49mcreate_connection(\n\u001b[1;32m    175\u001b[0m         (\u001b[39mself\u001b[39;49m\u001b[39m.\u001b[39;49m_dns_host, \u001b[39mself\u001b[39;49m\u001b[39m.\u001b[39;49mport), \u001b[39mself\u001b[39;49m\u001b[39m.\u001b[39;49mtimeout, \u001b[39m*\u001b[39;49m\u001b[39m*\u001b[39;49mextra_kw\n\u001b[1;32m    176\u001b[0m     )\n\u001b[1;32m    178\u001b[0m \u001b[39mexcept\u001b[39;00m SocketTimeout:\n",
      "File \u001b[0;32m~/code/defi-measurement/venv/lib/python3.11/site-packages/urllib3/util/connection.py:95\u001b[0m, in \u001b[0;36mcreate_connection\u001b[0;34m(address, timeout, source_address, socket_options)\u001b[0m\n\u001b[1;32m     94\u001b[0m \u001b[39mif\u001b[39;00m err \u001b[39mis\u001b[39;00m \u001b[39mnot\u001b[39;00m \u001b[39mNone\u001b[39;00m:\n\u001b[0;32m---> 95\u001b[0m     \u001b[39mraise\u001b[39;00m err\n\u001b[1;32m     97\u001b[0m \u001b[39mraise\u001b[39;00m socket\u001b[39m.\u001b[39merror(\u001b[39m\"\u001b[39m\u001b[39mgetaddrinfo returns an empty list\u001b[39m\u001b[39m\"\u001b[39m)\n",
      "File \u001b[0;32m~/code/defi-measurement/venv/lib/python3.11/site-packages/urllib3/util/connection.py:85\u001b[0m, in \u001b[0;36mcreate_connection\u001b[0;34m(address, timeout, source_address, socket_options)\u001b[0m\n\u001b[1;32m     84\u001b[0m     sock\u001b[39m.\u001b[39mbind(source_address)\n\u001b[0;32m---> 85\u001b[0m sock\u001b[39m.\u001b[39;49mconnect(sa)\n\u001b[1;32m     86\u001b[0m \u001b[39mreturn\u001b[39;00m sock\n",
      "\u001b[0;31mConnectionRefusedError\u001b[0m: [Errno 61] Connection refused",
      "\nDuring handling of the above exception, another exception occurred:\n",
      "\u001b[0;31mNewConnectionError\u001b[0m                        Traceback (most recent call last)",
      "File \u001b[0;32m~/code/defi-measurement/venv/lib/python3.11/site-packages/urllib3/connectionpool.py:714\u001b[0m, in \u001b[0;36mHTTPConnectionPool.urlopen\u001b[0;34m(self, method, url, body, headers, retries, redirect, assert_same_host, timeout, pool_timeout, release_conn, chunked, body_pos, **response_kw)\u001b[0m\n\u001b[1;32m    713\u001b[0m \u001b[39m# Make the request on the httplib connection object.\u001b[39;00m\n\u001b[0;32m--> 714\u001b[0m httplib_response \u001b[39m=\u001b[39m \u001b[39mself\u001b[39;49m\u001b[39m.\u001b[39;49m_make_request(\n\u001b[1;32m    715\u001b[0m     conn,\n\u001b[1;32m    716\u001b[0m     method,\n\u001b[1;32m    717\u001b[0m     url,\n\u001b[1;32m    718\u001b[0m     timeout\u001b[39m=\u001b[39;49mtimeout_obj,\n\u001b[1;32m    719\u001b[0m     body\u001b[39m=\u001b[39;49mbody,\n\u001b[1;32m    720\u001b[0m     headers\u001b[39m=\u001b[39;49mheaders,\n\u001b[1;32m    721\u001b[0m     chunked\u001b[39m=\u001b[39;49mchunked,\n\u001b[1;32m    722\u001b[0m )\n\u001b[1;32m    724\u001b[0m \u001b[39m# If we're going to release the connection in ``finally:``, then\u001b[39;00m\n\u001b[1;32m    725\u001b[0m \u001b[39m# the response doesn't need to know about the connection. Otherwise\u001b[39;00m\n\u001b[1;32m    726\u001b[0m \u001b[39m# it will also try to release it and we'll have a double-release\u001b[39;00m\n\u001b[1;32m    727\u001b[0m \u001b[39m# mess.\u001b[39;00m\n",
      "File \u001b[0;32m~/code/defi-measurement/venv/lib/python3.11/site-packages/urllib3/connectionpool.py:415\u001b[0m, in \u001b[0;36mHTTPConnectionPool._make_request\u001b[0;34m(self, conn, method, url, timeout, chunked, **httplib_request_kw)\u001b[0m\n\u001b[1;32m    414\u001b[0m     \u001b[39melse\u001b[39;00m:\n\u001b[0;32m--> 415\u001b[0m         conn\u001b[39m.\u001b[39;49mrequest(method, url, \u001b[39m*\u001b[39;49m\u001b[39m*\u001b[39;49mhttplib_request_kw)\n\u001b[1;32m    417\u001b[0m \u001b[39m# We are swallowing BrokenPipeError (errno.EPIPE) since the server is\u001b[39;00m\n\u001b[1;32m    418\u001b[0m \u001b[39m# legitimately able to close the connection after sending a valid response.\u001b[39;00m\n\u001b[1;32m    419\u001b[0m \u001b[39m# With this behaviour, the received response is still readable.\u001b[39;00m\n",
      "File \u001b[0;32m~/code/defi-measurement/venv/lib/python3.11/site-packages/urllib3/connection.py:244\u001b[0m, in \u001b[0;36mHTTPConnection.request\u001b[0;34m(self, method, url, body, headers)\u001b[0m\n\u001b[1;32m    243\u001b[0m     headers[\u001b[39m\"\u001b[39m\u001b[39mUser-Agent\u001b[39m\u001b[39m\"\u001b[39m] \u001b[39m=\u001b[39m _get_default_user_agent()\n\u001b[0;32m--> 244\u001b[0m \u001b[39msuper\u001b[39;49m(HTTPConnection, \u001b[39mself\u001b[39;49m)\u001b[39m.\u001b[39;49mrequest(method, url, body\u001b[39m=\u001b[39;49mbody, headers\u001b[39m=\u001b[39;49mheaders)\n",
      "File \u001b[0;32m/opt/homebrew/Cellar/python@3.11/3.11.4_1/Frameworks/Python.framework/Versions/3.11/lib/python3.11/http/client.py:1286\u001b[0m, in \u001b[0;36mHTTPConnection.request\u001b[0;34m(self, method, url, body, headers, encode_chunked)\u001b[0m\n\u001b[1;32m   1285\u001b[0m \u001b[39m\u001b[39m\u001b[39m\"\"\"Send a complete request to the server.\"\"\"\u001b[39;00m\n\u001b[0;32m-> 1286\u001b[0m \u001b[39mself\u001b[39;49m\u001b[39m.\u001b[39;49m_send_request(method, url, body, headers, encode_chunked)\n",
      "File \u001b[0;32m/opt/homebrew/Cellar/python@3.11/3.11.4_1/Frameworks/Python.framework/Versions/3.11/lib/python3.11/http/client.py:1332\u001b[0m, in \u001b[0;36mHTTPConnection._send_request\u001b[0;34m(self, method, url, body, headers, encode_chunked)\u001b[0m\n\u001b[1;32m   1331\u001b[0m     body \u001b[39m=\u001b[39m _encode(body, \u001b[39m'\u001b[39m\u001b[39mbody\u001b[39m\u001b[39m'\u001b[39m)\n\u001b[0;32m-> 1332\u001b[0m \u001b[39mself\u001b[39;49m\u001b[39m.\u001b[39;49mendheaders(body, encode_chunked\u001b[39m=\u001b[39;49mencode_chunked)\n",
      "File \u001b[0;32m/opt/homebrew/Cellar/python@3.11/3.11.4_1/Frameworks/Python.framework/Versions/3.11/lib/python3.11/http/client.py:1281\u001b[0m, in \u001b[0;36mHTTPConnection.endheaders\u001b[0;34m(self, message_body, encode_chunked)\u001b[0m\n\u001b[1;32m   1280\u001b[0m     \u001b[39mraise\u001b[39;00m CannotSendHeader()\n\u001b[0;32m-> 1281\u001b[0m \u001b[39mself\u001b[39;49m\u001b[39m.\u001b[39;49m_send_output(message_body, encode_chunked\u001b[39m=\u001b[39;49mencode_chunked)\n",
      "File \u001b[0;32m/opt/homebrew/Cellar/python@3.11/3.11.4_1/Frameworks/Python.framework/Versions/3.11/lib/python3.11/http/client.py:1041\u001b[0m, in \u001b[0;36mHTTPConnection._send_output\u001b[0;34m(self, message_body, encode_chunked)\u001b[0m\n\u001b[1;32m   1040\u001b[0m \u001b[39mdel\u001b[39;00m \u001b[39mself\u001b[39m\u001b[39m.\u001b[39m_buffer[:]\n\u001b[0;32m-> 1041\u001b[0m \u001b[39mself\u001b[39;49m\u001b[39m.\u001b[39;49msend(msg)\n\u001b[1;32m   1043\u001b[0m \u001b[39mif\u001b[39;00m message_body \u001b[39mis\u001b[39;00m \u001b[39mnot\u001b[39;00m \u001b[39mNone\u001b[39;00m:\n\u001b[1;32m   1044\u001b[0m \n\u001b[1;32m   1045\u001b[0m     \u001b[39m# create a consistent interface to message_body\u001b[39;00m\n",
      "File \u001b[0;32m/opt/homebrew/Cellar/python@3.11/3.11.4_1/Frameworks/Python.framework/Versions/3.11/lib/python3.11/http/client.py:979\u001b[0m, in \u001b[0;36mHTTPConnection.send\u001b[0;34m(self, data)\u001b[0m\n\u001b[1;32m    978\u001b[0m \u001b[39mif\u001b[39;00m \u001b[39mself\u001b[39m\u001b[39m.\u001b[39mauto_open:\n\u001b[0;32m--> 979\u001b[0m     \u001b[39mself\u001b[39;49m\u001b[39m.\u001b[39;49mconnect()\n\u001b[1;32m    980\u001b[0m \u001b[39melse\u001b[39;00m:\n",
      "File \u001b[0;32m~/code/defi-measurement/venv/lib/python3.11/site-packages/urllib3/connection.py:205\u001b[0m, in \u001b[0;36mHTTPConnection.connect\u001b[0;34m(self)\u001b[0m\n\u001b[1;32m    204\u001b[0m \u001b[39mdef\u001b[39;00m \u001b[39mconnect\u001b[39m(\u001b[39mself\u001b[39m):\n\u001b[0;32m--> 205\u001b[0m     conn \u001b[39m=\u001b[39m \u001b[39mself\u001b[39;49m\u001b[39m.\u001b[39;49m_new_conn()\n\u001b[1;32m    206\u001b[0m     \u001b[39mself\u001b[39m\u001b[39m.\u001b[39m_prepare_conn(conn)\n",
      "File \u001b[0;32m~/code/defi-measurement/venv/lib/python3.11/site-packages/urllib3/connection.py:186\u001b[0m, in \u001b[0;36mHTTPConnection._new_conn\u001b[0;34m(self)\u001b[0m\n\u001b[1;32m    185\u001b[0m \u001b[39mexcept\u001b[39;00m SocketError \u001b[39mas\u001b[39;00m e:\n\u001b[0;32m--> 186\u001b[0m     \u001b[39mraise\u001b[39;00m NewConnectionError(\n\u001b[1;32m    187\u001b[0m         \u001b[39mself\u001b[39m, \u001b[39m\"\u001b[39m\u001b[39mFailed to establish a new connection: \u001b[39m\u001b[39m%s\u001b[39;00m\u001b[39m\"\u001b[39m \u001b[39m%\u001b[39m e\n\u001b[1;32m    188\u001b[0m     )\n\u001b[1;32m    190\u001b[0m \u001b[39mreturn\u001b[39;00m conn\n",
      "\u001b[0;31mNewConnectionError\u001b[0m: <urllib3.connection.HTTPConnection object at 0x16c5b3050>: Failed to establish a new connection: [Errno 61] Connection refused",
      "\nDuring handling of the above exception, another exception occurred:\n",
      "\u001b[0;31mMaxRetryError\u001b[0m                             Traceback (most recent call last)",
      "File \u001b[0;32m~/code/defi-measurement/venv/lib/python3.11/site-packages/requests/adapters.py:486\u001b[0m, in \u001b[0;36mHTTPAdapter.send\u001b[0;34m(self, request, stream, timeout, verify, cert, proxies)\u001b[0m\n\u001b[1;32m    485\u001b[0m \u001b[39mtry\u001b[39;00m:\n\u001b[0;32m--> 486\u001b[0m     resp \u001b[39m=\u001b[39m conn\u001b[39m.\u001b[39;49murlopen(\n\u001b[1;32m    487\u001b[0m         method\u001b[39m=\u001b[39;49mrequest\u001b[39m.\u001b[39;49mmethod,\n\u001b[1;32m    488\u001b[0m         url\u001b[39m=\u001b[39;49murl,\n\u001b[1;32m    489\u001b[0m         body\u001b[39m=\u001b[39;49mrequest\u001b[39m.\u001b[39;49mbody,\n\u001b[1;32m    490\u001b[0m         headers\u001b[39m=\u001b[39;49mrequest\u001b[39m.\u001b[39;49mheaders,\n\u001b[1;32m    491\u001b[0m         redirect\u001b[39m=\u001b[39;49m\u001b[39mFalse\u001b[39;49;00m,\n\u001b[1;32m    492\u001b[0m         assert_same_host\u001b[39m=\u001b[39;49m\u001b[39mFalse\u001b[39;49;00m,\n\u001b[1;32m    493\u001b[0m         preload_content\u001b[39m=\u001b[39;49m\u001b[39mFalse\u001b[39;49;00m,\n\u001b[1;32m    494\u001b[0m         decode_content\u001b[39m=\u001b[39;49m\u001b[39mFalse\u001b[39;49;00m,\n\u001b[1;32m    495\u001b[0m         retries\u001b[39m=\u001b[39;49m\u001b[39mself\u001b[39;49m\u001b[39m.\u001b[39;49mmax_retries,\n\u001b[1;32m    496\u001b[0m         timeout\u001b[39m=\u001b[39;49mtimeout,\n\u001b[1;32m    497\u001b[0m         chunked\u001b[39m=\u001b[39;49mchunked,\n\u001b[1;32m    498\u001b[0m     )\n\u001b[1;32m    500\u001b[0m \u001b[39mexcept\u001b[39;00m (ProtocolError, \u001b[39mOSError\u001b[39;00m) \u001b[39mas\u001b[39;00m err:\n",
      "File \u001b[0;32m~/code/defi-measurement/venv/lib/python3.11/site-packages/urllib3/connectionpool.py:798\u001b[0m, in \u001b[0;36mHTTPConnectionPool.urlopen\u001b[0;34m(self, method, url, body, headers, retries, redirect, assert_same_host, timeout, pool_timeout, release_conn, chunked, body_pos, **response_kw)\u001b[0m\n\u001b[1;32m    796\u001b[0m     e \u001b[39m=\u001b[39m ProtocolError(\u001b[39m\"\u001b[39m\u001b[39mConnection aborted.\u001b[39m\u001b[39m\"\u001b[39m, e)\n\u001b[0;32m--> 798\u001b[0m retries \u001b[39m=\u001b[39m retries\u001b[39m.\u001b[39;49mincrement(\n\u001b[1;32m    799\u001b[0m     method, url, error\u001b[39m=\u001b[39;49me, _pool\u001b[39m=\u001b[39;49m\u001b[39mself\u001b[39;49m, _stacktrace\u001b[39m=\u001b[39;49msys\u001b[39m.\u001b[39;49mexc_info()[\u001b[39m2\u001b[39;49m]\n\u001b[1;32m    800\u001b[0m )\n\u001b[1;32m    801\u001b[0m retries\u001b[39m.\u001b[39msleep()\n",
      "File \u001b[0;32m~/code/defi-measurement/venv/lib/python3.11/site-packages/urllib3/util/retry.py:592\u001b[0m, in \u001b[0;36mRetry.increment\u001b[0;34m(self, method, url, response, error, _pool, _stacktrace)\u001b[0m\n\u001b[1;32m    591\u001b[0m \u001b[39mif\u001b[39;00m new_retry\u001b[39m.\u001b[39mis_exhausted():\n\u001b[0;32m--> 592\u001b[0m     \u001b[39mraise\u001b[39;00m MaxRetryError(_pool, url, error \u001b[39mor\u001b[39;00m ResponseError(cause))\n\u001b[1;32m    594\u001b[0m log\u001b[39m.\u001b[39mdebug(\u001b[39m\"\u001b[39m\u001b[39mIncremented Retry for (url=\u001b[39m\u001b[39m'\u001b[39m\u001b[39m%s\u001b[39;00m\u001b[39m'\u001b[39m\u001b[39m): \u001b[39m\u001b[39m%r\u001b[39;00m\u001b[39m\"\u001b[39m, url, new_retry)\n",
      "\u001b[0;31mMaxRetryError\u001b[0m: HTTPConnectionPool(host='localhost', port=8545): Max retries exceeded with url: / (Caused by NewConnectionError('<urllib3.connection.HTTPConnection object at 0x16c5b3050>: Failed to establish a new connection: [Errno 61] Connection refused'))",
      "\nDuring handling of the above exception, another exception occurred:\n",
      "\u001b[0;31mConnectionError\u001b[0m                           Traceback (most recent call last)",
      "Cell \u001b[0;32mIn[30], line 2\u001b[0m\n\u001b[1;32m      1\u001b[0m \u001b[39m# Get current block number\u001b[39;00m\n\u001b[0;32m----> 2\u001b[0m current_block_number \u001b[39m=\u001b[39m w3\u001b[39m.\u001b[39;49meth\u001b[39m.\u001b[39;49mblock_number\n\u001b[1;32m      4\u001b[0m \u001b[39mprint\u001b[39m(\u001b[39mf\u001b[39m\u001b[39m'\u001b[39m\u001b[39mCurrent block number: \u001b[39m\u001b[39m{\u001b[39;00mcurrent_block_number\u001b[39m:\u001b[39;00m\u001b[39m,\u001b[39m\u001b[39m}\u001b[39;00m\u001b[39m'\u001b[39m)\n",
      "File \u001b[0;32m~/code/defi-measurement/venv/lib/python3.11/site-packages/web3/eth/eth.py:133\u001b[0m, in \u001b[0;36mEth.block_number\u001b[0;34m(self)\u001b[0m\n\u001b[1;32m    131\u001b[0m \u001b[39m@property\u001b[39m\n\u001b[1;32m    132\u001b[0m \u001b[39mdef\u001b[39;00m \u001b[39mblock_number\u001b[39m(\u001b[39mself\u001b[39m) \u001b[39m-\u001b[39m\u001b[39m>\u001b[39m BlockNumber:\n\u001b[0;32m--> 133\u001b[0m     \u001b[39mreturn\u001b[39;00m \u001b[39mself\u001b[39;49m\u001b[39m.\u001b[39;49mget_block_number()\n",
      "File \u001b[0;32m~/code/defi-measurement/venv/lib/python3.11/site-packages/web3/module.py:68\u001b[0m, in \u001b[0;36mretrieve_blocking_method_call_fn.<locals>.caller\u001b[0;34m(*args, **kwargs)\u001b[0m\n\u001b[1;32m     62\u001b[0m     \u001b[39mreturn\u001b[39;00m LogFilter(eth_module\u001b[39m=\u001b[39mmodule, filter_id\u001b[39m=\u001b[39merr\u001b[39m.\u001b[39mfilter_id)\n\u001b[1;32m     63\u001b[0m (\n\u001b[1;32m     64\u001b[0m     result_formatters,\n\u001b[1;32m     65\u001b[0m     error_formatters,\n\u001b[1;32m     66\u001b[0m     null_result_formatters,\n\u001b[1;32m     67\u001b[0m ) \u001b[39m=\u001b[39m response_formatters\n\u001b[0;32m---> 68\u001b[0m result \u001b[39m=\u001b[39m w3\u001b[39m.\u001b[39;49mmanager\u001b[39m.\u001b[39;49mrequest_blocking(\n\u001b[1;32m     69\u001b[0m     method_str, params, error_formatters, null_result_formatters\n\u001b[1;32m     70\u001b[0m )\n\u001b[1;32m     71\u001b[0m \u001b[39mreturn\u001b[39;00m apply_result_formatters(result_formatters, result)\n",
      "File \u001b[0;32m~/code/defi-measurement/venv/lib/python3.11/site-packages/web3/manager.py:231\u001b[0m, in \u001b[0;36mRequestManager.request_blocking\u001b[0;34m(self, method, params, error_formatters, null_result_formatters)\u001b[0m\n\u001b[1;32m    221\u001b[0m \u001b[39mdef\u001b[39;00m \u001b[39mrequest_blocking\u001b[39m(\n\u001b[1;32m    222\u001b[0m     \u001b[39mself\u001b[39m,\n\u001b[1;32m    223\u001b[0m     method: Union[RPCEndpoint, Callable[\u001b[39m.\u001b[39m\u001b[39m.\u001b[39m\u001b[39m.\u001b[39m, RPCEndpoint]],\n\u001b[0;32m   (...)\u001b[0m\n\u001b[1;32m    226\u001b[0m     null_result_formatters: Optional[Callable[\u001b[39m.\u001b[39m\u001b[39m.\u001b[39m\u001b[39m.\u001b[39m, Any]] \u001b[39m=\u001b[39m \u001b[39mNone\u001b[39;00m,\n\u001b[1;32m    227\u001b[0m ) \u001b[39m-\u001b[39m\u001b[39m>\u001b[39m Any:\n\u001b[1;32m    228\u001b[0m \u001b[39m    \u001b[39m\u001b[39m\"\"\"\u001b[39;00m\n\u001b[1;32m    229\u001b[0m \u001b[39m    Make a synchronous request using the provider\u001b[39;00m\n\u001b[1;32m    230\u001b[0m \u001b[39m    \"\"\"\u001b[39;00m\n\u001b[0;32m--> 231\u001b[0m     response \u001b[39m=\u001b[39m \u001b[39mself\u001b[39;49m\u001b[39m.\u001b[39;49m_make_request(method, params)\n\u001b[1;32m    232\u001b[0m     \u001b[39mreturn\u001b[39;00m \u001b[39mself\u001b[39m\u001b[39m.\u001b[39mformatted_response(\n\u001b[1;32m    233\u001b[0m         response, params, error_formatters, null_result_formatters\n\u001b[1;32m    234\u001b[0m     )\n",
      "File \u001b[0;32m~/code/defi-measurement/venv/lib/python3.11/site-packages/web3/manager.py:175\u001b[0m, in \u001b[0;36mRequestManager._make_request\u001b[0;34m(self, method, params)\u001b[0m\n\u001b[1;32m    171\u001b[0m request_func \u001b[39m=\u001b[39m provider\u001b[39m.\u001b[39mrequest_func(\n\u001b[1;32m    172\u001b[0m     cast(\u001b[39m\"\u001b[39m\u001b[39mWeb3\u001b[39m\u001b[39m\"\u001b[39m, \u001b[39mself\u001b[39m\u001b[39m.\u001b[39mw3), cast(MiddlewareOnion, \u001b[39mself\u001b[39m\u001b[39m.\u001b[39mmiddleware_onion)\n\u001b[1;32m    173\u001b[0m )\n\u001b[1;32m    174\u001b[0m \u001b[39mself\u001b[39m\u001b[39m.\u001b[39mlogger\u001b[39m.\u001b[39mdebug(\u001b[39mf\u001b[39m\u001b[39m\"\u001b[39m\u001b[39mMaking request. Method: \u001b[39m\u001b[39m{\u001b[39;00mmethod\u001b[39m}\u001b[39;00m\u001b[39m\"\u001b[39m)\n\u001b[0;32m--> 175\u001b[0m \u001b[39mreturn\u001b[39;00m request_func(method, params)\n",
      "File \u001b[0;32m~/code/defi-measurement/venv/lib/python3.11/site-packages/web3/middleware/formatting.py:99\u001b[0m, in \u001b[0;36mconstruct_web3_formatting_middleware.<locals>.formatter_middleware.<locals>.middleware\u001b[0;34m(method, params)\u001b[0m\n\u001b[1;32m     97\u001b[0m     formatter \u001b[39m=\u001b[39m request_formatters[method]\n\u001b[1;32m     98\u001b[0m     params \u001b[39m=\u001b[39m formatter(params)\n\u001b[0;32m---> 99\u001b[0m response \u001b[39m=\u001b[39m make_request(method, params)\n\u001b[1;32m    101\u001b[0m \u001b[39mreturn\u001b[39;00m _apply_response_formatters(\n\u001b[1;32m    102\u001b[0m     method\u001b[39m=\u001b[39mmethod, response\u001b[39m=\u001b[39mresponse, \u001b[39m*\u001b[39m\u001b[39m*\u001b[39mformatters\n\u001b[1;32m    103\u001b[0m )\n",
      "File \u001b[0;32m~/code/defi-measurement/venv/lib/python3.11/site-packages/web3/middleware/gas_price_strategy.py:96\u001b[0m, in \u001b[0;36mgas_price_strategy_middleware.<locals>.middleware\u001b[0;34m(method, params)\u001b[0m\n\u001b[1;32m     92\u001b[0m     transaction \u001b[39m=\u001b[39m validate_transaction_params(\n\u001b[1;32m     93\u001b[0m         transaction, latest_block, generated_gas_price\n\u001b[1;32m     94\u001b[0m     )\n\u001b[1;32m     95\u001b[0m     \u001b[39mreturn\u001b[39;00m make_request(method, (transaction,))\n\u001b[0;32m---> 96\u001b[0m \u001b[39mreturn\u001b[39;00m make_request(method, params)\n",
      "File \u001b[0;32m~/code/defi-measurement/venv/lib/python3.11/site-packages/web3/middleware/formatting.py:99\u001b[0m, in \u001b[0;36mconstruct_web3_formatting_middleware.<locals>.formatter_middleware.<locals>.middleware\u001b[0;34m(method, params)\u001b[0m\n\u001b[1;32m     97\u001b[0m     formatter \u001b[39m=\u001b[39m request_formatters[method]\n\u001b[1;32m     98\u001b[0m     params \u001b[39m=\u001b[39m formatter(params)\n\u001b[0;32m---> 99\u001b[0m response \u001b[39m=\u001b[39m make_request(method, params)\n\u001b[1;32m    101\u001b[0m \u001b[39mreturn\u001b[39;00m _apply_response_formatters(\n\u001b[1;32m    102\u001b[0m     method\u001b[39m=\u001b[39mmethod, response\u001b[39m=\u001b[39mresponse, \u001b[39m*\u001b[39m\u001b[39m*\u001b[39mformatters\n\u001b[1;32m    103\u001b[0m )\n",
      "File \u001b[0;32m~/code/defi-measurement/venv/lib/python3.11/site-packages/web3/middleware/attrdict.py:38\u001b[0m, in \u001b[0;36mattrdict_middleware.<locals>.middleware\u001b[0;34m(method, params)\u001b[0m\n\u001b[1;32m     37\u001b[0m \u001b[39mdef\u001b[39;00m \u001b[39mmiddleware\u001b[39m(method: RPCEndpoint, params: Any) \u001b[39m-\u001b[39m\u001b[39m>\u001b[39m RPCResponse:\n\u001b[0;32m---> 38\u001b[0m     response \u001b[39m=\u001b[39m make_request(method, params)\n\u001b[1;32m     40\u001b[0m     \u001b[39mif\u001b[39;00m \u001b[39m\"\u001b[39m\u001b[39mresult\u001b[39m\u001b[39m\"\u001b[39m \u001b[39min\u001b[39;00m response:\n\u001b[1;32m     41\u001b[0m         \u001b[39mreturn\u001b[39;00m assoc(\n\u001b[1;32m     42\u001b[0m             response, \u001b[39m\"\u001b[39m\u001b[39mresult\u001b[39m\u001b[39m\"\u001b[39m, AttributeDict\u001b[39m.\u001b[39mrecursive(response[\u001b[39m\"\u001b[39m\u001b[39mresult\u001b[39m\u001b[39m\"\u001b[39m])\n\u001b[1;32m     43\u001b[0m         )\n",
      "File \u001b[0;32m~/code/defi-measurement/venv/lib/python3.11/site-packages/web3/middleware/formatting.py:99\u001b[0m, in \u001b[0;36mconstruct_web3_formatting_middleware.<locals>.formatter_middleware.<locals>.middleware\u001b[0;34m(method, params)\u001b[0m\n\u001b[1;32m     97\u001b[0m     formatter \u001b[39m=\u001b[39m request_formatters[method]\n\u001b[1;32m     98\u001b[0m     params \u001b[39m=\u001b[39m formatter(params)\n\u001b[0;32m---> 99\u001b[0m response \u001b[39m=\u001b[39m make_request(method, params)\n\u001b[1;32m    101\u001b[0m \u001b[39mreturn\u001b[39;00m _apply_response_formatters(\n\u001b[1;32m    102\u001b[0m     method\u001b[39m=\u001b[39mmethod, response\u001b[39m=\u001b[39mresponse, \u001b[39m*\u001b[39m\u001b[39m*\u001b[39mformatters\n\u001b[1;32m    103\u001b[0m )\n",
      "File \u001b[0;32m~/code/defi-measurement/venv/lib/python3.11/site-packages/web3/middleware/formatting.py:99\u001b[0m, in \u001b[0;36mconstruct_web3_formatting_middleware.<locals>.formatter_middleware.<locals>.middleware\u001b[0;34m(method, params)\u001b[0m\n\u001b[1;32m     97\u001b[0m     formatter \u001b[39m=\u001b[39m request_formatters[method]\n\u001b[1;32m     98\u001b[0m     params \u001b[39m=\u001b[39m formatter(params)\n\u001b[0;32m---> 99\u001b[0m response \u001b[39m=\u001b[39m make_request(method, params)\n\u001b[1;32m    101\u001b[0m \u001b[39mreturn\u001b[39;00m _apply_response_formatters(\n\u001b[1;32m    102\u001b[0m     method\u001b[39m=\u001b[39mmethod, response\u001b[39m=\u001b[39mresponse, \u001b[39m*\u001b[39m\u001b[39m*\u001b[39mformatters\n\u001b[1;32m    103\u001b[0m )\n",
      "File \u001b[0;32m~/code/defi-measurement/venv/lib/python3.11/site-packages/web3/middleware/formatting.py:99\u001b[0m, in \u001b[0;36mconstruct_web3_formatting_middleware.<locals>.formatter_middleware.<locals>.middleware\u001b[0;34m(method, params)\u001b[0m\n\u001b[1;32m     97\u001b[0m     formatter \u001b[39m=\u001b[39m request_formatters[method]\n\u001b[1;32m     98\u001b[0m     params \u001b[39m=\u001b[39m formatter(params)\n\u001b[0;32m---> 99\u001b[0m response \u001b[39m=\u001b[39m make_request(method, params)\n\u001b[1;32m    101\u001b[0m \u001b[39mreturn\u001b[39;00m _apply_response_formatters(\n\u001b[1;32m    102\u001b[0m     method\u001b[39m=\u001b[39mmethod, response\u001b[39m=\u001b[39mresponse, \u001b[39m*\u001b[39m\u001b[39m*\u001b[39mformatters\n\u001b[1;32m    103\u001b[0m )\n",
      "File \u001b[0;32m~/code/defi-measurement/venv/lib/python3.11/site-packages/web3/middleware/buffered_gas_estimate.py:43\u001b[0m, in \u001b[0;36mbuffered_gas_estimate_middleware.<locals>.middleware\u001b[0;34m(method, params)\u001b[0m\n\u001b[1;32m     37\u001b[0m         transaction \u001b[39m=\u001b[39m assoc(\n\u001b[1;32m     38\u001b[0m             transaction,\n\u001b[1;32m     39\u001b[0m             \u001b[39m\"\u001b[39m\u001b[39mgas\u001b[39m\u001b[39m\"\u001b[39m,\n\u001b[1;32m     40\u001b[0m             \u001b[39mhex\u001b[39m(get_buffered_gas_estimate(w3, transaction)),\n\u001b[1;32m     41\u001b[0m         )\n\u001b[1;32m     42\u001b[0m         \u001b[39mreturn\u001b[39;00m make_request(method, [transaction])\n\u001b[0;32m---> 43\u001b[0m \u001b[39mreturn\u001b[39;00m make_request(method, params)\n",
      "File \u001b[0;32m~/code/defi-measurement/venv/lib/python3.11/site-packages/web3/middleware/exception_retry_request.py:107\u001b[0m, in \u001b[0;36mexception_retry_middleware.<locals>.middleware\u001b[0;34m(method, params)\u001b[0m\n\u001b[1;32m    105\u001b[0m \u001b[39mfor\u001b[39;00m i \u001b[39min\u001b[39;00m \u001b[39mrange\u001b[39m(retries):\n\u001b[1;32m    106\u001b[0m     \u001b[39mtry\u001b[39;00m:\n\u001b[0;32m--> 107\u001b[0m         \u001b[39mreturn\u001b[39;00m make_request(method, params)\n\u001b[1;32m    108\u001b[0m     \u001b[39m# https://github.com/python/mypy/issues/5349\u001b[39;00m\n\u001b[1;32m    109\u001b[0m     \u001b[39mexcept\u001b[39;00m errors:  \u001b[39m# type: ignore\u001b[39;00m\n",
      "File \u001b[0;32m~/code/defi-measurement/venv/lib/python3.11/site-packages/web3/providers/rpc.py:90\u001b[0m, in \u001b[0;36mHTTPProvider.make_request\u001b[0;34m(self, method, params)\u001b[0m\n\u001b[1;32m     86\u001b[0m \u001b[39mself\u001b[39m\u001b[39m.\u001b[39mlogger\u001b[39m.\u001b[39mdebug(\n\u001b[1;32m     87\u001b[0m     \u001b[39mf\u001b[39m\u001b[39m\"\u001b[39m\u001b[39mMaking request HTTP. URI: \u001b[39m\u001b[39m{\u001b[39;00m\u001b[39mself\u001b[39m\u001b[39m.\u001b[39mendpoint_uri\u001b[39m}\u001b[39;00m\u001b[39m, Method: \u001b[39m\u001b[39m{\u001b[39;00mmethod\u001b[39m}\u001b[39;00m\u001b[39m\"\u001b[39m\n\u001b[1;32m     88\u001b[0m )\n\u001b[1;32m     89\u001b[0m request_data \u001b[39m=\u001b[39m \u001b[39mself\u001b[39m\u001b[39m.\u001b[39mencode_rpc_request(method, params)\n\u001b[0;32m---> 90\u001b[0m raw_response \u001b[39m=\u001b[39m make_post_request(\n\u001b[1;32m     91\u001b[0m     \u001b[39mself\u001b[39;49m\u001b[39m.\u001b[39;49mendpoint_uri, request_data, \u001b[39m*\u001b[39;49m\u001b[39m*\u001b[39;49m\u001b[39mself\u001b[39;49m\u001b[39m.\u001b[39;49mget_request_kwargs()\n\u001b[1;32m     92\u001b[0m )\n\u001b[1;32m     93\u001b[0m response \u001b[39m=\u001b[39m \u001b[39mself\u001b[39m\u001b[39m.\u001b[39mdecode_rpc_response(raw_response)\n\u001b[1;32m     94\u001b[0m \u001b[39mself\u001b[39m\u001b[39m.\u001b[39mlogger\u001b[39m.\u001b[39mdebug(\n\u001b[1;32m     95\u001b[0m     \u001b[39mf\u001b[39m\u001b[39m\"\u001b[39m\u001b[39mGetting response HTTP. URI: \u001b[39m\u001b[39m{\u001b[39;00m\u001b[39mself\u001b[39m\u001b[39m.\u001b[39mendpoint_uri\u001b[39m}\u001b[39;00m\u001b[39m, \u001b[39m\u001b[39m\"\u001b[39m\n\u001b[1;32m     96\u001b[0m     \u001b[39mf\u001b[39m\u001b[39m\"\u001b[39m\u001b[39mMethod: \u001b[39m\u001b[39m{\u001b[39;00mmethod\u001b[39m}\u001b[39;00m\u001b[39m, Response: \u001b[39m\u001b[39m{\u001b[39;00mresponse\u001b[39m}\u001b[39;00m\u001b[39m\"\u001b[39m\n\u001b[1;32m     97\u001b[0m )\n",
      "File \u001b[0;32m~/code/defi-measurement/venv/lib/python3.11/site-packages/web3/_utils/request.py:114\u001b[0m, in \u001b[0;36mmake_post_request\u001b[0;34m(endpoint_uri, data, *args, **kwargs)\u001b[0m\n\u001b[1;32m    111\u001b[0m \u001b[39mdef\u001b[39;00m \u001b[39mmake_post_request\u001b[39m(\n\u001b[1;32m    112\u001b[0m     endpoint_uri: URI, data: Union[\u001b[39mbytes\u001b[39m, Dict[\u001b[39mstr\u001b[39m, Any]], \u001b[39m*\u001b[39margs: Any, \u001b[39m*\u001b[39m\u001b[39m*\u001b[39mkwargs: Any\n\u001b[1;32m    113\u001b[0m ) \u001b[39m-\u001b[39m\u001b[39m>\u001b[39m \u001b[39mbytes\u001b[39m:\n\u001b[0;32m--> 114\u001b[0m     response \u001b[39m=\u001b[39m get_response_from_post_request(endpoint_uri, data\u001b[39m=\u001b[39;49mdata, \u001b[39m*\u001b[39;49margs, \u001b[39m*\u001b[39;49m\u001b[39m*\u001b[39;49mkwargs)\n\u001b[1;32m    115\u001b[0m     response\u001b[39m.\u001b[39mraise_for_status()\n\u001b[1;32m    116\u001b[0m     \u001b[39mreturn\u001b[39;00m response\u001b[39m.\u001b[39mcontent\n",
      "File \u001b[0;32m~/code/defi-measurement/venv/lib/python3.11/site-packages/web3/_utils/request.py:107\u001b[0m, in \u001b[0;36mget_response_from_post_request\u001b[0;34m(endpoint_uri, *args, **kwargs)\u001b[0m\n\u001b[1;32m    105\u001b[0m kwargs\u001b[39m.\u001b[39msetdefault(\u001b[39m\"\u001b[39m\u001b[39mtimeout\u001b[39m\u001b[39m\"\u001b[39m, DEFAULT_TIMEOUT)\n\u001b[1;32m    106\u001b[0m session \u001b[39m=\u001b[39m cache_and_return_session(endpoint_uri)\n\u001b[0;32m--> 107\u001b[0m response \u001b[39m=\u001b[39m session\u001b[39m.\u001b[39;49mpost(endpoint_uri, \u001b[39m*\u001b[39;49margs, \u001b[39m*\u001b[39;49m\u001b[39m*\u001b[39;49mkwargs)\n\u001b[1;32m    108\u001b[0m \u001b[39mreturn\u001b[39;00m response\n",
      "File \u001b[0;32m~/code/defi-measurement/venv/lib/python3.11/site-packages/requests/sessions.py:637\u001b[0m, in \u001b[0;36mSession.post\u001b[0;34m(self, url, data, json, **kwargs)\u001b[0m\n\u001b[1;32m    626\u001b[0m \u001b[39mdef\u001b[39;00m \u001b[39mpost\u001b[39m(\u001b[39mself\u001b[39m, url, data\u001b[39m=\u001b[39m\u001b[39mNone\u001b[39;00m, json\u001b[39m=\u001b[39m\u001b[39mNone\u001b[39;00m, \u001b[39m*\u001b[39m\u001b[39m*\u001b[39mkwargs):\n\u001b[1;32m    627\u001b[0m \u001b[39m    \u001b[39m\u001b[39mr\u001b[39m\u001b[39m\"\"\"Sends a POST request. Returns :class:`Response` object.\u001b[39;00m\n\u001b[1;32m    628\u001b[0m \n\u001b[1;32m    629\u001b[0m \u001b[39m    :param url: URL for the new :class:`Request` object.\u001b[39;00m\n\u001b[0;32m   (...)\u001b[0m\n\u001b[1;32m    634\u001b[0m \u001b[39m    :rtype: requests.Response\u001b[39;00m\n\u001b[1;32m    635\u001b[0m \u001b[39m    \"\"\"\u001b[39;00m\n\u001b[0;32m--> 637\u001b[0m     \u001b[39mreturn\u001b[39;00m \u001b[39mself\u001b[39;49m\u001b[39m.\u001b[39;49mrequest(\u001b[39m\"\u001b[39;49m\u001b[39mPOST\u001b[39;49m\u001b[39m\"\u001b[39;49m, url, data\u001b[39m=\u001b[39;49mdata, json\u001b[39m=\u001b[39;49mjson, \u001b[39m*\u001b[39;49m\u001b[39m*\u001b[39;49mkwargs)\n",
      "File \u001b[0;32m~/code/defi-measurement/venv/lib/python3.11/site-packages/requests/sessions.py:589\u001b[0m, in \u001b[0;36mSession.request\u001b[0;34m(self, method, url, params, data, headers, cookies, files, auth, timeout, allow_redirects, proxies, hooks, stream, verify, cert, json)\u001b[0m\n\u001b[1;32m    584\u001b[0m send_kwargs \u001b[39m=\u001b[39m {\n\u001b[1;32m    585\u001b[0m     \u001b[39m\"\u001b[39m\u001b[39mtimeout\u001b[39m\u001b[39m\"\u001b[39m: timeout,\n\u001b[1;32m    586\u001b[0m     \u001b[39m\"\u001b[39m\u001b[39mallow_redirects\u001b[39m\u001b[39m\"\u001b[39m: allow_redirects,\n\u001b[1;32m    587\u001b[0m }\n\u001b[1;32m    588\u001b[0m send_kwargs\u001b[39m.\u001b[39mupdate(settings)\n\u001b[0;32m--> 589\u001b[0m resp \u001b[39m=\u001b[39m \u001b[39mself\u001b[39;49m\u001b[39m.\u001b[39;49msend(prep, \u001b[39m*\u001b[39;49m\u001b[39m*\u001b[39;49msend_kwargs)\n\u001b[1;32m    591\u001b[0m \u001b[39mreturn\u001b[39;00m resp\n",
      "File \u001b[0;32m~/code/defi-measurement/venv/lib/python3.11/site-packages/requests/sessions.py:703\u001b[0m, in \u001b[0;36mSession.send\u001b[0;34m(self, request, **kwargs)\u001b[0m\n\u001b[1;32m    700\u001b[0m start \u001b[39m=\u001b[39m preferred_clock()\n\u001b[1;32m    702\u001b[0m \u001b[39m# Send the request\u001b[39;00m\n\u001b[0;32m--> 703\u001b[0m r \u001b[39m=\u001b[39m adapter\u001b[39m.\u001b[39;49msend(request, \u001b[39m*\u001b[39;49m\u001b[39m*\u001b[39;49mkwargs)\n\u001b[1;32m    705\u001b[0m \u001b[39m# Total elapsed time of the request (approximately)\u001b[39;00m\n\u001b[1;32m    706\u001b[0m elapsed \u001b[39m=\u001b[39m preferred_clock() \u001b[39m-\u001b[39m start\n",
      "File \u001b[0;32m~/code/defi-measurement/venv/lib/python3.11/site-packages/requests/adapters.py:519\u001b[0m, in \u001b[0;36mHTTPAdapter.send\u001b[0;34m(self, request, stream, timeout, verify, cert, proxies)\u001b[0m\n\u001b[1;32m    515\u001b[0m     \u001b[39mif\u001b[39;00m \u001b[39misinstance\u001b[39m(e\u001b[39m.\u001b[39mreason, _SSLError):\n\u001b[1;32m    516\u001b[0m         \u001b[39m# This branch is for urllib3 v1.22 and later.\u001b[39;00m\n\u001b[1;32m    517\u001b[0m         \u001b[39mraise\u001b[39;00m SSLError(e, request\u001b[39m=\u001b[39mrequest)\n\u001b[0;32m--> 519\u001b[0m     \u001b[39mraise\u001b[39;00m \u001b[39mConnectionError\u001b[39;00m(e, request\u001b[39m=\u001b[39mrequest)\n\u001b[1;32m    521\u001b[0m \u001b[39mexcept\u001b[39;00m ClosedPoolError \u001b[39mas\u001b[39;00m e:\n\u001b[1;32m    522\u001b[0m     \u001b[39mraise\u001b[39;00m \u001b[39mConnectionError\u001b[39;00m(e, request\u001b[39m=\u001b[39mrequest)\n",
      "\u001b[0;31mConnectionError\u001b[0m: HTTPConnectionPool(host='localhost', port=8545): Max retries exceeded with url: / (Caused by NewConnectionError('<urllib3.connection.HTTPConnection object at 0x16c5b3050>: Failed to establish a new connection: [Errno 61] Connection refused'))"
     ]
    }
   ],
   "source": [
    "# Get current block number\n",
    "current_block_number = w3.eth.block_number\n",
    "\n",
    "print(f'Current block number: {current_block_number:,}')"
   ]
  },
  {
   "cell_type": "code",
   "execution_count": 16,
   "metadata": {},
   "outputs": [
    {
     "name": "stdout",
     "output_type": "stream",
     "text": [
      "Min timestamp: 2023-06-24 22:00:37.327000+00:00, block number: 17,552,205\n"
     ]
    }
   ],
   "source": [
    "# Find the smallest `first_seen` in the `mempool_transactions` table\n",
    "stmt = select(func.min(MempoolTransaction.first_seen))\n",
    "\n",
    "with engine.connect() as connection:\n",
    "    result = connection.execute(stmt)\n",
    "    min_timestamp: datetime = cast(datetime, result.scalar())\n",
    "\n",
    "# Get the block number that preceeds the min timestamp\n",
    "block_number = bisect.bisect_right(list(range(0, current_block_number)), min_timestamp.timestamp(), key=lambda x: w3.eth.get_block(x).get('timestamp', 0))\n",
    "\n",
    "print(f'Min timestamp: {min_timestamp}, block number: {block_number:,}')"
   ]
  },
  {
   "cell_type": "code",
   "execution_count": 17,
   "metadata": {},
   "outputs": [
    {
     "name": "stdout",
     "output_type": "stream",
     "text": [
      "Total number of blocks to query: 37,270\n"
     ]
    }
   ],
   "source": [
    "# Generate a set of all block numbers between the block number of the transaction\n",
    "# and the current block number\n",
    "set_of_block_numbers = set(range(block_number, current_block_number + 1))\n",
    "\n",
    "print(f'Total number of blocks to query: {len(set_of_block_numbers):,}')"
   ]
  },
  {
   "cell_type": "code",
   "execution_count": 18,
   "metadata": {},
   "outputs": [
    {
     "name": "stdout",
     "output_type": "stream",
     "text": [
      "[17552205, 17552206, 17552227, 17552230, 17552264, 17552265, 17552300, 17552333, 17552365, 17552384]\n",
      "Number of blocks to process: 26,135\n"
     ]
    }
   ],
   "source": [
    "from typing import Set, Union\n",
    "\n",
    "\n",
    "def get_blocks_to_process(swap_table: Union[SwapV2, SwapV3], block_numbers: Set[int]) -> Set[int]:\n",
    "    # Find all blocks already in the database and remove them from the set\n",
    "    stmt = select(swap_table.block_number).order_by(swap_table.block_number)\n",
    "\n",
    "    stmt = stmt.where(swap_table.block_number > block_number)\n",
    "\n",
    "    with engine.connect() as connection:\n",
    "        result = connection.execute(stmt)\n",
    "\n",
    "    df = pd.DataFrame(result.fetchall(), columns=result.keys()) # type: ignore\n",
    "\n",
    "    block_numbers = block_numbers - cast(set[int], set(df['block_number'].astype(int)))\n",
    "\n",
    "    return block_numbers\n",
    "\n",
    "block_numbers = sorted(list(get_blocks_to_process(SwapV2, set_of_block_numbers) | get_blocks_to_process(SwapV3, set_of_block_numbers)))\n",
    "\n",
    "print(block_numbers[:10])\n",
    "\n",
    "print(f'Number of blocks to process: {len(block_numbers):,}')\n"
   ]
  },
  {
   "attachments": {},
   "cell_type": "markdown",
   "metadata": {},
   "source": [
    "### Run the extraction for V2 and V3"
   ]
  },
  {
   "cell_type": "code",
   "execution_count": null,
   "metadata": {},
   "outputs": [],
   "source": [
    "assert False, \"Has this been updated to the new schema?\"\n",
    "\n",
    "session = Session()\n",
    "swaps_to_insert = []\n",
    "\n",
    "it = tqdm(block_numbers)\n",
    "for block_number in it:\n",
    "    block = w3.eth.get_block(block_number)\n",
    "    \n",
    "    if 'transactions' not in block:\n",
    "        with open(f'./errors_v2.txt', 'a') as f:\n",
    "            f.writelines(f'Block {block_number} has no transactions\\n')\n",
    "        continue\n",
    "\n",
    "    block_timestamp = datetime.fromtimestamp(block['timestamp'] if 'timestamp' in block else 0)\n",
    "    it.set_description(f'Processing block {block_number:_} / {current_block_number:_} ({block_timestamp:%Y-%m-%d %H:%M})')\n",
    "\n",
    "    for transaction in block['transactions']:\n",
    "\n",
    "        # Get transaction hash\n",
    "        tx_hash = w3.to_hex(transaction).lower() # type: ignore\n",
    "\n",
    "        # Check if this transaction is in the mempool_transactions in PostgreSQL database\n",
    "        from_mempool = session.get(MempoolTransaction, tx_hash) is not None\n",
    "\n",
    "        # Get swaps V2 and V3 from transaction\n",
    "        swapsv2 = get_v2_swaps_events(tx_hash)\n",
    "        swapsv3 = get_v3_swaps_events(tx_hash)\n",
    "\n",
    "        for swap in swapsv2:\n",
    "            swap = SwapDataV2(**swap)\n",
    "\n",
    "            swap_to_insert = SwapV2(\n",
    "                transaction_hash=tx_hash,\n",
    "                address=swap.address,\n",
    "                block_timestamp=block_timestamp,\n",
    "                block_number=block_number,\n",
    "                transaction_index=swap.transactionIndex,\n",
    "                log_index=swap.logIndex,\n",
    "                sender=swap.args.sender,\n",
    "                amount0_in=swap.args.amount0In,\n",
    "                amount1_in=swap.args.amount1In,\n",
    "                amount0_out=swap.args.amount0Out,\n",
    "                amount1_out=swap.args.amount1Out,\n",
    "                to=swap.args.to,\n",
    "                from_mempool=from_mempool,\n",
    "            )\n",
    "\n",
    "            swaps_to_insert.append(swap_to_insert)\n",
    "            it.set_postfix({\"swaps_to_insert\": len(swaps_to_insert)})\n",
    "\n",
    "\n",
    "        for swap in swapsv3:\n",
    "            swap = SwapDataV3(**swap)\n",
    "\n",
    "            swap_to_insert = SwapV3(\n",
    "                transaction_hash=tx_hash,\n",
    "                block_timestamp=block_timestamp,\n",
    "                block_number=block_number,\n",
    "                log_index=swap.logIndex,\n",
    "                sender=swap.args.sender,\n",
    "                recipient=swap.args.recipient,\n",
    "                amount0=str(swap.args.amount0),\n",
    "                amount1=str(swap.args.amount1),\n",
    "                sqrtPriceX96=str(swap.args.sqrtPriceX96),\n",
    "                liquidity=str(swap.args.liquidity),\n",
    "                tick=str(swap.args.tick),\n",
    "                address=swap.address,\n",
    "                from_address=swap.args.sender,\n",
    "                to_address=swap.args.recipient,\n",
    "                transaction_index=swap.transactionIndex,\n",
    "                from_mempool=from_mempool,\n",
    "            )\n",
    "\n",
    "            swaps_to_insert.append(swap_to_insert)\n",
    "            it.set_postfix({\"swaps_to_insert\": len(swaps_to_insert)})\n",
    "            \n",
    "\n",
    "\n",
    "    # Checkpoint if we get more than 100 swaps\n",
    "    if len(swaps_to_insert) > 100:\n",
    "        # Insert the swaps into the database\n",
    "        for swap in swaps_to_insert:\n",
    "            session.merge(swap)\n",
    "        session.commit()\n",
    "\n",
    "        swaps_to_insert = []\n",
    "\n",
    "session.close()\n"
   ]
  },
  {
   "attachments": {},
   "cell_type": "markdown",
   "metadata": {},
   "source": [
    "## Insert mempool_{true,false} into the database"
   ]
  },
  {
   "attachments": {},
   "cell_type": "markdown",
   "metadata": {},
   "source": []
  }
 ],
 "metadata": {
  "kernelspec": {
   "display_name": "venv",
   "language": "python",
   "name": "python3"
  },
  "language_info": {
   "codemirror_mode": {
    "name": "ipython",
    "version": 3
   },
   "file_extension": ".py",
   "mimetype": "text/x-python",
   "name": "python",
   "nbconvert_exporter": "python",
   "pygments_lexer": "ipython3",
   "version": "3.11.4"
  },
  "orig_nbformat": 4
 },
 "nbformat": 4,
 "nbformat_minor": 2
}
