{
 "cells": [
  {
   "cell_type": "markdown",
   "metadata": {},
   "source": [
    "# Run Sandwich Attacks on Swaps from the Public Mempool"
   ]
  },
  {
   "cell_type": "code",
   "execution_count": 1,
   "metadata": {},
   "outputs": [],
   "source": [
    "%load_ext autoreload\n",
    "%autoreload 2"
   ]
  },
  {
   "cell_type": "code",
   "execution_count": 2,
   "metadata": {},
   "outputs": [],
   "source": [
    "import os\n",
    "import sys\n",
    "\n",
    "current_path = sys.path[0]\n",
    "sys.path.append(\n",
    "    current_path[: current_path.find(\"defi-measurement\")]\n",
    "    + \"liquidity-distribution-history\"\n",
    ")\n",
    "\n",
    "sys.path.append(\"..\")\n",
    "\n",
    "\n",
    "import matplotlib.pyplot as plt\n",
    "import numpy as np\n",
    "import pandas as pd\n",
    "import psycopg2\n",
    "import sqlalchemy\n",
    "from dotenv import load_dotenv\n",
    "from matplotlib.ticker import MaxNLocator\n",
    "from pool_state import v3Pool\n",
    "from sqlalchemy import create_engine\n",
    "from tqdm import tqdm\n",
    "from collections import deque\n",
    "\n",
    "load_dotenv(override=True)\n",
    "from experiments.random_permutations import load_pool\n",
    "\n",
    "from decimal import getcontext\n",
    "\n",
    "getcontext().prec = 100  # Set the precision high enough for our purposes\n",
    "\n",
    "\n",
    "# Read in the environment variables\n",
    "postgres_uri_mp = os.environ[\"POSTGRESQL_URI_MP\"]\n",
    "postgres_uri_us = os.environ[\"POSTGRESQL_URI_US\"]\n",
    "\n",
    "engine = create_engine(postgres_uri_mp)"
   ]
  },
  {
   "cell_type": "markdown",
   "metadata": {},
   "source": [
    "## Get the Data"
   ]
  },
  {
   "cell_type": "code",
   "execution_count": 3,
   "metadata": {},
   "outputs": [
    {
     "data": {
      "text/plain": [
       "(828111, 14)"
      ]
     },
     "execution_count": 3,
     "metadata": {},
     "output_type": "execute_result"
    }
   ],
   "source": [
    "query = \"\"\"\n",
    "SELECT *\n",
    "FROM SWAP_LIMIT_PRICE AS LIM\n",
    "INNER JOIN MEMPOOL_TRANSACTIONS AS MEM ON LIM.CALL_TX_HASH = MEM.HASH\n",
    "\"\"\"\n",
    "\n",
    "col_rename = dict(\n",
    "    call_block_number='block_number',\n",
    "    contract_address='pool',\n",
    ")\n",
    "\n",
    "df = pd.read_sql_query(query, engine).rename(columns=col_rename).sort_values(by=['pool', 'block_number'])\n",
    "\n",
    "df.shape"
   ]
  },
  {
   "cell_type": "code",
   "execution_count": 4,
   "metadata": {},
   "outputs": [
    {
     "data": {
      "text/plain": [
       "(692368.0, 135743.0, 828111)"
      ]
     },
     "execution_count": 4,
     "metadata": {},
     "output_type": "execute_result"
    }
   ],
   "source": [
    "swap_counts = df.groupby(by=['pool', 'block_number'])[['call_success']].count().sort_values('call_success', ascending=False)\n",
    "\n",
    "swap_counts[swap_counts == 1].call_success.sum(), swap_counts[swap_counts > 1].call_success.sum(), swap_counts.call_success.sum()"
   ]
  },
  {
   "cell_type": "markdown",
   "metadata": {},
   "source": [
    "## Create Sandwich Attacks on Single Swaps\n",
    "\n",
    "Start with this to validate the approach."
   ]
  },
  {
   "cell_type": "code",
   "execution_count": 5,
   "metadata": {},
   "outputs": [],
   "source": [
    "single_swap_blocks = swap_counts[swap_counts == 1].sort_index()\n",
    "\n",
    "# Make into a dictionary of the form {block: [block_number]}\n",
    "single_swap_blocks = single_swap_blocks.reset_index()\n",
    "single_swap_blocks = single_swap_blocks.groupby('pool')['block_number'].apply(list).to_dict()\n",
    "\n",
    "single_swap_blocks = dict(sorted(single_swap_blocks.items(), key=lambda item: len(item[1]), reverse=True))"
   ]
  },
  {
   "cell_type": "code",
   "execution_count": 6,
   "metadata": {},
   "outputs": [],
   "source": [
    "def get_mev_single():\n",
    "    pass"
   ]
  },
  {
   "cell_type": "code",
   "execution_count": 16,
   "metadata": {},
   "outputs": [
    {
     "name": "stderr",
     "output_type": "stream",
     "text": [
      "  0%|          | 0/3067 [00:00<?, ?it/s]"
     ]
    }
   ],
   "source": [
    "# Just starting to load some pools into the cache to speed up the process down the line\n",
    "for pool_addr, blocks in tqdm(single_swap_blocks.items()):\n",
    "    try:\n",
    "        pool = load_pool(pool_addr, postgres_uri_us, verbose=False)\n",
    "    except AssertionError:\n",
    "        print(f\"Pool {pool_addr} not found in the database\")\n",
    "        continue"
   ]
  },
  {
   "cell_type": "code",
   "execution_count": 15,
   "metadata": {},
   "outputs": [
    {
     "name": "stdout",
     "output_type": "stream",
     "text": [
      "Pool: 0x11b815efb8f581194ae79006d24e0d814b7697f6\n",
      "object\n",
      "Swap (1961174914507662484 for 3675671813)\n",
      "Next sqrt price: 4.330289341883109e-05 vs. sqrtPriceLimit: 4295128740\n",
      "object\n",
      "Swap (147050485429 for 61294088165826316401298985296330752)\n",
      "Next sqrt price: -2679.3742477103174 vs. sqrtPriceLimit: 3431989699364555050713088\n",
      "object\n",
      "Swap (1060000000 for 564618674187906368)\n",
      "Next sqrt price: 4.3317883458019664e-05 vs. sqrtPriceLimit: 1461446703485210103287273052203988822378723970341\n",
      "object\n",
      "Swap (-2000000000 for 3)\n",
      "Next sqrt price: 4.331788345802003e-05 vs. sqrtPriceLimit: 4295128740\n",
      "object\n",
      "Swap (580144155260846821 for 1088023731)\n",
      "Next sqrt price: 4.331709211496837e-05 vs. sqrtPriceLimit: 4295128740\n",
      "object\n",
      "Swap (145000000000000000 for 271937515)\n",
      "Next sqrt price: 4.3317065713542496e-05 vs. sqrtPriceLimit: 4295128740\n",
      "object\n",
      "Swap (5010000000 for 2668677726411982336)\n",
      "Next sqrt price: 4.3317624651417274e-05 vs. sqrtPriceLimit: 1461446703485210103287273052203988822378723970341\n",
      "object\n",
      "Swap (985000000 for 524673105513609280)\n",
      "Next sqrt price: 4.331772023367537e-05 vs. sqrtPriceLimit: 1461446703485210103287273052203988822378723970341\n",
      "object\n",
      "Swap (582514160754445486 for 1092494870)\n",
      "Next sqrt price: 4.331761416731559e-05 vs. sqrtPriceLimit: 4295128740\n",
      "object\n"
     ]
    },
    {
     "ename": "AssertionError",
     "evalue": "Not enough liquidity in pool",
     "output_type": "error",
     "traceback": [
      "\u001b[0;31m---------------------------------------------------------------------------\u001b[0m",
      "\u001b[0;31mAssertionError\u001b[0m                            Traceback (most recent call last)",
      "Cell \u001b[0;32mIn[15], line 21\u001b[0m\n\u001b[1;32m     12\u001b[0m \u001b[39mprint\u001b[39m(swap\u001b[39m.\u001b[39mdtypes)\n\u001b[1;32m     14\u001b[0m swap_params \u001b[39m=\u001b[39m         {\n\u001b[1;32m     15\u001b[0m     \u001b[39m\"\u001b[39m\u001b[39minput\u001b[39m\u001b[39m\"\u001b[39m: \u001b[39mint\u001b[39m(swap\u001b[39m.\u001b[39mamountSpecified),\n\u001b[1;32m     16\u001b[0m     \u001b[39m\"\u001b[39m\u001b[39mtokenIn\u001b[39m\u001b[39m\"\u001b[39m: pool\u001b[39m.\u001b[39mtoken0 \u001b[39mif\u001b[39;00m swap\u001b[39m.\u001b[39mzeroForOne \u001b[39melse\u001b[39;00m pool\u001b[39m.\u001b[39mtoken1,\n\u001b[1;32m     17\u001b[0m     \u001b[39m\"\u001b[39m\u001b[39mas_of\u001b[39m\u001b[39m\"\u001b[39m: swap\u001b[39m.\u001b[39mblock_number,\n\u001b[1;32m     18\u001b[0m     \u001b[39m\"\u001b[39m\u001b[39mgasFee\u001b[39m\u001b[39m\"\u001b[39m: \u001b[39mTrue\u001b[39;00m,\n\u001b[1;32m     19\u001b[0m }\n\u001b[0;32m---> 21\u001b[0m output, heur \u001b[39m=\u001b[39m pool\u001b[39m.\u001b[39;49mswap_in(swap_params, )\n\u001b[1;32m     24\u001b[0m \u001b[39mprint\u001b[39m(\u001b[39mf\u001b[39m\u001b[39m\"\u001b[39m\u001b[39mSwap (\u001b[39m\u001b[39m{\u001b[39;00mswap\u001b[39m.\u001b[39mamountSpecified\u001b[39m}\u001b[39;00m\u001b[39m for \u001b[39m\u001b[39m{\u001b[39;00moutput\u001b[39m}\u001b[39;00m\u001b[39m)\u001b[39m\u001b[39m\"\u001b[39m)\n\u001b[1;32m     25\u001b[0m \u001b[39mprint\u001b[39m(\u001b[39mf\u001b[39m\u001b[39m\"\u001b[39m\u001b[39mNext sqrt price: \u001b[39m\u001b[39m{\u001b[39;00mheur\u001b[39m.\u001b[39msqrtP_next\u001b[39m}\u001b[39;00m\u001b[39m vs. sqrtPriceLimit: \u001b[39m\u001b[39m{\u001b[39;00mswap\u001b[39m.\u001b[39msqrtPriceLimitX96\u001b[39m}\u001b[39;00m\u001b[39m\"\u001b[39m)\n",
      "File \u001b[0;32m~/code/liquidity-distribution-history/pool_state.py:1183\u001b[0m, in \u001b[0;36mv3Pool.swap_in\u001b[0;34m(self, swapParams, swap_df, inRangeValue, fees, find_max)\u001b[0m\n\u001b[1;32m   1182\u001b[0m \u001b[39mdef\u001b[39;00m \u001b[39mswap_in\u001b[39m(\u001b[39mself\u001b[39m, swapParams, swap_df\u001b[39m=\u001b[39m\u001b[39mNone\u001b[39;00m, inRangeValue\u001b[39m=\u001b[39m\u001b[39m\"\u001b[39m\u001b[39m\"\u001b[39m, fees\u001b[39m=\u001b[39m\u001b[39mFalse\u001b[39;00m, find_max\u001b[39m=\u001b[39m\u001b[39mFalse\u001b[39;00m) \u001b[39m-\u001b[39m\u001b[39m>\u001b[39m Tuple[\u001b[39mfloat\u001b[39m, Heur]:\n\u001b[0;32m-> 1183\u001b[0m     \u001b[39mreturn\u001b[39;00m \u001b[39mself\u001b[39;49m\u001b[39m.\u001b[39;49mswapIn(swapParams, swap_df, inRangeValue, fees, find_max)\n",
      "File \u001b[0;32m~/code/liquidity-distribution-history/pool_state.py:1073\u001b[0m, in \u001b[0;36mv3Pool.swapIn\u001b[0;34m(self, swapParams, swap_df, inRangeValue, fees, find_max)\u001b[0m\n\u001b[1;32m   1070\u001b[0m \u001b[39mif\u001b[39;00m find_max:\n\u001b[1;32m   1071\u001b[0m     \u001b[39mreturn\u001b[39;00m x_tick_sum\n\u001b[1;32m   1072\u001b[0m \u001b[39massert\u001b[39;00m (\n\u001b[0;32m-> 1073\u001b[0m     x_tick_sum \u001b[39m>\u001b[39m leftToSwap\n\u001b[1;32m   1074\u001b[0m ), \u001b[39m\"\u001b[39m\u001b[39mNot enough liquidity in pool\u001b[39m\u001b[39m\"\u001b[39m\n\u001b[1;32m   1075\u001b[0m liquid_tick \u001b[39m=\u001b[39m outOfRange[outOfRange[\u001b[39m\"\u001b[39m\u001b[39mcumulativeX\u001b[39m\u001b[39m\"\u001b[39m] \u001b[39m>\u001b[39m leftToSwap]\u001b[39m.\u001b[39miloc[\u001b[39m0\u001b[39m]\n\u001b[1;32m   1076\u001b[0m prev_ticks \u001b[39m=\u001b[39m outOfRange[outOfRange[\u001b[39m\"\u001b[39m\u001b[39mticks\u001b[39m\u001b[39m\"\u001b[39m] \u001b[39m>\u001b[39m liquid_tick[\u001b[39m\"\u001b[39m\u001b[39mticks\u001b[39m\u001b[39m\"\u001b[39m]]\n",
      "\u001b[0;31mAssertionError\u001b[0m: Not enough liquidity in pool"
     ]
    }
   ],
   "source": [
    "for pool_addr, blocks in single_swap_blocks.items():\n",
    "    print(f\"Pool: {pool_addr}\")\n",
    "    # pool = load_pool(pool_addr, postgres_uri_us)\n",
    "\n",
    "    for block in blocks:\n",
    "\n",
    "        swap = df[(df.pool == pool_addr) & (df.block_number == block)]\n",
    "        assert len(swap) == 1, f\"Expected 1 swap, got {len(swap)}\"\n",
    "\n",
    "        swap = swap.iloc[0]\n",
    "\n",
    "        print(swap.dtypes)\n",
    "\n",
    "        swap_params =         {\n",
    "            \"input\": int(swap.amountSpecified),\n",
    "            \"tokenIn\": pool.token0 if swap.zeroForOne else pool.token1,\n",
    "            \"as_of\": swap.block_number,\n",
    "            \"gasFee\": True,\n",
    "        }\n",
    "\n",
    "        output, heur = pool.swap_in(swap_params, )\n",
    "\n",
    "\n",
    "        print(f\"Swap ({swap.amountSpecified} for {output})\")\n",
    "        print(f\"Next sqrt price: {heur.sqrtP_next} vs. sqrtPriceLimit: {swap.sqrtPriceLimitX96}\")\n"
   ]
  },
  {
   "cell_type": "code",
   "execution_count": null,
   "metadata": {},
   "outputs": [],
   "source": []
  }
 ],
 "metadata": {
  "kernelspec": {
   "display_name": "venv",
   "language": "python",
   "name": "python3"
  },
  "language_info": {
   "codemirror_mode": {
    "name": "ipython",
    "version": 3
   },
   "file_extension": ".py",
   "mimetype": "text/x-python",
   "name": "python",
   "nbconvert_exporter": "python",
   "pygments_lexer": "ipython3",
   "version": "3.11.4"
  },
  "orig_nbformat": 4
 },
 "nbformat": 4,
 "nbformat_minor": 2
}
