{
 "cells": [
  {
   "cell_type": "code",
   "execution_count": 8,
   "metadata": {},
   "outputs": [
    {
     "data": {
      "text/plain": [
       "True"
      ]
     },
     "execution_count": 8,
     "metadata": {},
     "output_type": "execute_result"
    }
   ],
   "source": [
    "from web3 import Web3\n",
    "\n",
    "from web3.auto import w3\n",
    "from web3.middleware.geth_poa import geth_poa_middleware\n",
    "\n",
    "from eth_abi.abi import decode\n",
    "\n",
    "from dotenv import load_dotenv\n",
    "\n",
    "import os\n",
    "\n",
    "load_dotenv(override=True)\n"
   ]
  },
  {
   "cell_type": "code",
   "execution_count": 2,
   "metadata": {},
   "outputs": [],
   "source": [
    "web3 = Web3(Web3.HTTPProvider(\"https://mainnet.infura.io/v3/db0355f9beed4af58889a043d591db91\"))"
   ]
  },
  {
   "cell_type": "code",
   "execution_count": 3,
   "metadata": {},
   "outputs": [],
   "source": [
    "tx_hash = \"0xc3ce97ac430ac0cf5a56bbc1738619a9df9901320468629899b46a26b2118223\"\n",
    "tx = web3.eth.get_transaction(tx_hash)\n"
   ]
  },
  {
   "cell_type": "code",
   "execution_count": 4,
   "metadata": {},
   "outputs": [
    {
     "data": {
      "text/plain": [
       "AttributeDict({'accessList': [],\n",
       " 'blockHash': HexBytes('0x3456aa33f6569f988cbbe0d310655be3790e7bde606057c311440cdac3d38ffa'),\n",
       " 'blockNumber': 17642851,\n",
       " 'chainId': 1,\n",
       " 'from': '0x1c9D31413166Cb137769385530c7eBE386723e58',\n",
       " 'gas': 277648,\n",
       " 'gasPrice': 38854537533,\n",
       " 'hash': HexBytes('0xc3ce97ac430ac0cf5a56bbc1738619a9df9901320468629899b46a26b2118223'),\n",
       " 'input': '0x24856bc300000000000000000000000000000000000000000000000000000000000000400000000000000000000000000000000000000000000000000000000000000080000000000000000000000000000000000000000000000000000000000000000100000000000000000000000000000000000000000000000000000000000000000000000000000000000000000000000000000000000000000000000000000001000000000000000000000000000000000000000000000000000000000000002000000000000000000000000000000000000000000000000000000000000001200000000000000000000000001c9d31413166cb137769385530c7ebe386723e5800000000000000000000000000000000000000000f46251810dc0fc2b696038a00000000000000000000000000000000000000000000000000000001b761a4e600000000000000000000000000000000000000000000000000000000000000a0000000000000000000000000000000000000000000000000000000000000000100000000000000000000000000000000000000000000000000000000000000426982508145454ce325ddbe47a25d4ec3d2311933000bb8c02aaa39b223fe8d0a0e5c4f27ead9083c756cc20001f4a0b86991c6218b36c1d19d4a2e9eb0ce3606eb48000000000000000000000000000000000000000000000000000000000000',\n",
       " 'maxFeePerGas': 45845674968,\n",
       " 'maxPriorityFeePerGas': 2588016079,\n",
       " 'nonce': 550,\n",
       " 'r': HexBytes('0xa85bd95bdeb92ee7ae9c5d7a7ab58e3b48d7043478a33b7a366169104a390cc8'),\n",
       " 's': HexBytes('0x1b12a872d9be841b68a5e8e6aa441ebd231edb77e94503a6b1ed8ba7816aab7b'),\n",
       " 'to': '0x3fC91A3afd70395Cd496C647d5a6CC9D4B2b7FAD',\n",
       " 'transactionIndex': 30,\n",
       " 'type': 2,\n",
       " 'v': 1,\n",
       " 'value': 0})"
      ]
     },
     "execution_count": 4,
     "metadata": {},
     "output_type": "execute_result"
    }
   ],
   "source": [
    "tx"
   ]
  },
  {
   "cell_type": "code",
   "execution_count": 9,
   "metadata": {},
   "outputs": [
    {
     "ename": "CannotHandleRequest",
     "evalue": "Could not discover provider while making request: method:debug_traceTransaction\nparams:['0xc3ce97ac430ac0cf5a56bbc1738619a9df9901320468629899b46a26b2118223', {}]\n",
     "output_type": "error",
     "traceback": [
      "\u001b[0;31m---------------------------------------------------------------------------\u001b[0m",
      "\u001b[0;31mCannotHandleRequest\u001b[0m                       Traceback (most recent call last)",
      "Cell \u001b[0;32mIn[9], line 5\u001b[0m\n\u001b[1;32m      2\u001b[0m w3\u001b[39m.\u001b[39mmiddleware_onion\u001b[39m.\u001b[39minject(geth_poa_middleware, layer\u001b[39m=\u001b[39m\u001b[39m0\u001b[39m)\n\u001b[1;32m      4\u001b[0m \u001b[39m# Get trace\u001b[39;00m\n\u001b[0;32m----> 5\u001b[0m trace \u001b[39m=\u001b[39m w3\u001b[39m.\u001b[39;49mmanager\u001b[39m.\u001b[39;49mrequest_blocking(\u001b[39mf\u001b[39;49m\u001b[39m\"\u001b[39;49m\u001b[39mdebug_traceTransaction\u001b[39;49m\u001b[39m\"\u001b[39;49m, [tx_hash, {}])\n\u001b[1;32m      7\u001b[0m \u001b[39m# Extract calls to swap function\u001b[39;00m\n\u001b[1;32m      8\u001b[0m swap_calls \u001b[39m=\u001b[39m []\n",
      "File \u001b[0;32m~/code/defi-measurement/venv/lib/python3.11/site-packages/web3/manager.py:231\u001b[0m, in \u001b[0;36mRequestManager.request_blocking\u001b[0;34m(self, method, params, error_formatters, null_result_formatters)\u001b[0m\n\u001b[1;32m    221\u001b[0m \u001b[39mdef\u001b[39;00m \u001b[39mrequest_blocking\u001b[39m(\n\u001b[1;32m    222\u001b[0m     \u001b[39mself\u001b[39m,\n\u001b[1;32m    223\u001b[0m     method: Union[RPCEndpoint, Callable[\u001b[39m.\u001b[39m\u001b[39m.\u001b[39m\u001b[39m.\u001b[39m, RPCEndpoint]],\n\u001b[0;32m   (...)\u001b[0m\n\u001b[1;32m    226\u001b[0m     null_result_formatters: Optional[Callable[\u001b[39m.\u001b[39m\u001b[39m.\u001b[39m\u001b[39m.\u001b[39m, Any]] \u001b[39m=\u001b[39m \u001b[39mNone\u001b[39;00m,\n\u001b[1;32m    227\u001b[0m ) \u001b[39m-\u001b[39m\u001b[39m>\u001b[39m Any:\n\u001b[1;32m    228\u001b[0m \u001b[39m    \u001b[39m\u001b[39m\"\"\"\u001b[39;00m\n\u001b[1;32m    229\u001b[0m \u001b[39m    Make a synchronous request using the provider\u001b[39;00m\n\u001b[1;32m    230\u001b[0m \u001b[39m    \"\"\"\u001b[39;00m\n\u001b[0;32m--> 231\u001b[0m     response \u001b[39m=\u001b[39m \u001b[39mself\u001b[39;49m\u001b[39m.\u001b[39;49m_make_request(method, params)\n\u001b[1;32m    232\u001b[0m     \u001b[39mreturn\u001b[39;00m \u001b[39mself\u001b[39m\u001b[39m.\u001b[39mformatted_response(\n\u001b[1;32m    233\u001b[0m         response, params, error_formatters, null_result_formatters\n\u001b[1;32m    234\u001b[0m     )\n",
      "File \u001b[0;32m~/code/defi-measurement/venv/lib/python3.11/site-packages/web3/manager.py:175\u001b[0m, in \u001b[0;36mRequestManager._make_request\u001b[0;34m(self, method, params)\u001b[0m\n\u001b[1;32m    171\u001b[0m request_func \u001b[39m=\u001b[39m provider\u001b[39m.\u001b[39mrequest_func(\n\u001b[1;32m    172\u001b[0m     cast(\u001b[39m\"\u001b[39m\u001b[39mWeb3\u001b[39m\u001b[39m\"\u001b[39m, \u001b[39mself\u001b[39m\u001b[39m.\u001b[39mw3), cast(MiddlewareOnion, \u001b[39mself\u001b[39m\u001b[39m.\u001b[39mmiddleware_onion)\n\u001b[1;32m    173\u001b[0m )\n\u001b[1;32m    174\u001b[0m \u001b[39mself\u001b[39m\u001b[39m.\u001b[39mlogger\u001b[39m.\u001b[39mdebug(\u001b[39mf\u001b[39m\u001b[39m\"\u001b[39m\u001b[39mMaking request. Method: \u001b[39m\u001b[39m{\u001b[39;00mmethod\u001b[39m}\u001b[39;00m\u001b[39m\"\u001b[39m)\n\u001b[0;32m--> 175\u001b[0m \u001b[39mreturn\u001b[39;00m request_func(method, params)\n",
      "File \u001b[0;32m~/code/defi-measurement/venv/lib/python3.11/site-packages/web3/middleware/formatting.py:99\u001b[0m, in \u001b[0;36mconstruct_web3_formatting_middleware.<locals>.formatter_middleware.<locals>.middleware\u001b[0;34m(method, params)\u001b[0m\n\u001b[1;32m     97\u001b[0m     formatter \u001b[39m=\u001b[39m request_formatters[method]\n\u001b[1;32m     98\u001b[0m     params \u001b[39m=\u001b[39m formatter(params)\n\u001b[0;32m---> 99\u001b[0m response \u001b[39m=\u001b[39m make_request(method, params)\n\u001b[1;32m    101\u001b[0m \u001b[39mreturn\u001b[39;00m _apply_response_formatters(\n\u001b[1;32m    102\u001b[0m     method\u001b[39m=\u001b[39mmethod, response\u001b[39m=\u001b[39mresponse, \u001b[39m*\u001b[39m\u001b[39m*\u001b[39mformatters\n\u001b[1;32m    103\u001b[0m )\n",
      "File \u001b[0;32m~/code/defi-measurement/venv/lib/python3.11/site-packages/web3/middleware/gas_price_strategy.py:96\u001b[0m, in \u001b[0;36mgas_price_strategy_middleware.<locals>.middleware\u001b[0;34m(method, params)\u001b[0m\n\u001b[1;32m     92\u001b[0m     transaction \u001b[39m=\u001b[39m validate_transaction_params(\n\u001b[1;32m     93\u001b[0m         transaction, latest_block, generated_gas_price\n\u001b[1;32m     94\u001b[0m     )\n\u001b[1;32m     95\u001b[0m     \u001b[39mreturn\u001b[39;00m make_request(method, (transaction,))\n\u001b[0;32m---> 96\u001b[0m \u001b[39mreturn\u001b[39;00m make_request(method, params)\n",
      "File \u001b[0;32m~/code/defi-measurement/venv/lib/python3.11/site-packages/web3/middleware/formatting.py:99\u001b[0m, in \u001b[0;36mconstruct_web3_formatting_middleware.<locals>.formatter_middleware.<locals>.middleware\u001b[0;34m(method, params)\u001b[0m\n\u001b[1;32m     97\u001b[0m     formatter \u001b[39m=\u001b[39m request_formatters[method]\n\u001b[1;32m     98\u001b[0m     params \u001b[39m=\u001b[39m formatter(params)\n\u001b[0;32m---> 99\u001b[0m response \u001b[39m=\u001b[39m make_request(method, params)\n\u001b[1;32m    101\u001b[0m \u001b[39mreturn\u001b[39;00m _apply_response_formatters(\n\u001b[1;32m    102\u001b[0m     method\u001b[39m=\u001b[39mmethod, response\u001b[39m=\u001b[39mresponse, \u001b[39m*\u001b[39m\u001b[39m*\u001b[39mformatters\n\u001b[1;32m    103\u001b[0m )\n",
      "File \u001b[0;32m~/code/defi-measurement/venv/lib/python3.11/site-packages/web3/middleware/attrdict.py:38\u001b[0m, in \u001b[0;36mattrdict_middleware.<locals>.middleware\u001b[0;34m(method, params)\u001b[0m\n\u001b[1;32m     37\u001b[0m \u001b[39mdef\u001b[39;00m \u001b[39mmiddleware\u001b[39m(method: RPCEndpoint, params: Any) \u001b[39m-\u001b[39m\u001b[39m>\u001b[39m RPCResponse:\n\u001b[0;32m---> 38\u001b[0m     response \u001b[39m=\u001b[39m make_request(method, params)\n\u001b[1;32m     40\u001b[0m     \u001b[39mif\u001b[39;00m \u001b[39m\"\u001b[39m\u001b[39mresult\u001b[39m\u001b[39m\"\u001b[39m \u001b[39min\u001b[39;00m response:\n\u001b[1;32m     41\u001b[0m         \u001b[39mreturn\u001b[39;00m assoc(\n\u001b[1;32m     42\u001b[0m             response, \u001b[39m\"\u001b[39m\u001b[39mresult\u001b[39m\u001b[39m\"\u001b[39m, AttributeDict\u001b[39m.\u001b[39mrecursive(response[\u001b[39m\"\u001b[39m\u001b[39mresult\u001b[39m\u001b[39m\"\u001b[39m])\n\u001b[1;32m     43\u001b[0m         )\n",
      "File \u001b[0;32m~/code/defi-measurement/venv/lib/python3.11/site-packages/web3/middleware/formatting.py:99\u001b[0m, in \u001b[0;36mconstruct_web3_formatting_middleware.<locals>.formatter_middleware.<locals>.middleware\u001b[0;34m(method, params)\u001b[0m\n\u001b[1;32m     97\u001b[0m     formatter \u001b[39m=\u001b[39m request_formatters[method]\n\u001b[1;32m     98\u001b[0m     params \u001b[39m=\u001b[39m formatter(params)\n\u001b[0;32m---> 99\u001b[0m response \u001b[39m=\u001b[39m make_request(method, params)\n\u001b[1;32m    101\u001b[0m \u001b[39mreturn\u001b[39;00m _apply_response_formatters(\n\u001b[1;32m    102\u001b[0m     method\u001b[39m=\u001b[39mmethod, response\u001b[39m=\u001b[39mresponse, \u001b[39m*\u001b[39m\u001b[39m*\u001b[39mformatters\n\u001b[1;32m    103\u001b[0m )\n",
      "File \u001b[0;32m~/code/defi-measurement/venv/lib/python3.11/site-packages/web3/middleware/formatting.py:99\u001b[0m, in \u001b[0;36mconstruct_web3_formatting_middleware.<locals>.formatter_middleware.<locals>.middleware\u001b[0;34m(method, params)\u001b[0m\n\u001b[1;32m     97\u001b[0m     formatter \u001b[39m=\u001b[39m request_formatters[method]\n\u001b[1;32m     98\u001b[0m     params \u001b[39m=\u001b[39m formatter(params)\n\u001b[0;32m---> 99\u001b[0m response \u001b[39m=\u001b[39m make_request(method, params)\n\u001b[1;32m    101\u001b[0m \u001b[39mreturn\u001b[39;00m _apply_response_formatters(\n\u001b[1;32m    102\u001b[0m     method\u001b[39m=\u001b[39mmethod, response\u001b[39m=\u001b[39mresponse, \u001b[39m*\u001b[39m\u001b[39m*\u001b[39mformatters\n\u001b[1;32m    103\u001b[0m )\n",
      "File \u001b[0;32m~/code/defi-measurement/venv/lib/python3.11/site-packages/web3/middleware/formatting.py:99\u001b[0m, in \u001b[0;36mconstruct_web3_formatting_middleware.<locals>.formatter_middleware.<locals>.middleware\u001b[0;34m(method, params)\u001b[0m\n\u001b[1;32m     97\u001b[0m     formatter \u001b[39m=\u001b[39m request_formatters[method]\n\u001b[1;32m     98\u001b[0m     params \u001b[39m=\u001b[39m formatter(params)\n\u001b[0;32m---> 99\u001b[0m response \u001b[39m=\u001b[39m make_request(method, params)\n\u001b[1;32m    101\u001b[0m \u001b[39mreturn\u001b[39;00m _apply_response_formatters(\n\u001b[1;32m    102\u001b[0m     method\u001b[39m=\u001b[39mmethod, response\u001b[39m=\u001b[39mresponse, \u001b[39m*\u001b[39m\u001b[39m*\u001b[39mformatters\n\u001b[1;32m    103\u001b[0m )\n",
      "File \u001b[0;32m~/code/defi-measurement/venv/lib/python3.11/site-packages/web3/middleware/buffered_gas_estimate.py:43\u001b[0m, in \u001b[0;36mbuffered_gas_estimate_middleware.<locals>.middleware\u001b[0;34m(method, params)\u001b[0m\n\u001b[1;32m     37\u001b[0m         transaction \u001b[39m=\u001b[39m assoc(\n\u001b[1;32m     38\u001b[0m             transaction,\n\u001b[1;32m     39\u001b[0m             \u001b[39m\"\u001b[39m\u001b[39mgas\u001b[39m\u001b[39m\"\u001b[39m,\n\u001b[1;32m     40\u001b[0m             \u001b[39mhex\u001b[39m(get_buffered_gas_estimate(w3, transaction)),\n\u001b[1;32m     41\u001b[0m         )\n\u001b[1;32m     42\u001b[0m         \u001b[39mreturn\u001b[39;00m make_request(method, [transaction])\n\u001b[0;32m---> 43\u001b[0m \u001b[39mreturn\u001b[39;00m make_request(method, params)\n",
      "File \u001b[0;32m~/code/defi-measurement/venv/lib/python3.11/site-packages/web3/middleware/formatting.py:99\u001b[0m, in \u001b[0;36mconstruct_web3_formatting_middleware.<locals>.formatter_middleware.<locals>.middleware\u001b[0;34m(method, params)\u001b[0m\n\u001b[1;32m     97\u001b[0m     formatter \u001b[39m=\u001b[39m request_formatters[method]\n\u001b[1;32m     98\u001b[0m     params \u001b[39m=\u001b[39m formatter(params)\n\u001b[0;32m---> 99\u001b[0m response \u001b[39m=\u001b[39m make_request(method, params)\n\u001b[1;32m    101\u001b[0m \u001b[39mreturn\u001b[39;00m _apply_response_formatters(\n\u001b[1;32m    102\u001b[0m     method\u001b[39m=\u001b[39mmethod, response\u001b[39m=\u001b[39mresponse, \u001b[39m*\u001b[39m\u001b[39m*\u001b[39mformatters\n\u001b[1;32m    103\u001b[0m )\n",
      "File \u001b[0;32m~/code/defi-measurement/venv/lib/python3.11/site-packages/web3/providers/auto.py:93\u001b[0m, in \u001b[0;36mAutoProvider.make_request\u001b[0;34m(self, method, params)\u001b[0m\n\u001b[1;32m     91\u001b[0m \u001b[39mdef\u001b[39;00m \u001b[39mmake_request\u001b[39m(\u001b[39mself\u001b[39m, method: RPCEndpoint, params: Any) \u001b[39m-\u001b[39m\u001b[39m>\u001b[39m RPCResponse:\n\u001b[1;32m     92\u001b[0m     \u001b[39mtry\u001b[39;00m:\n\u001b[0;32m---> 93\u001b[0m         \u001b[39mreturn\u001b[39;00m \u001b[39mself\u001b[39;49m\u001b[39m.\u001b[39;49m_proxy_request(method, params)\n\u001b[1;32m     94\u001b[0m     \u001b[39mexcept\u001b[39;00m \u001b[39mOSError\u001b[39;00m:\n\u001b[1;32m     95\u001b[0m         \u001b[39mreturn\u001b[39;00m \u001b[39mself\u001b[39m\u001b[39m.\u001b[39m_proxy_request(method, params, use_cache\u001b[39m=\u001b[39m\u001b[39mFalse\u001b[39;00m)\n",
      "File \u001b[0;32m~/code/defi-measurement/venv/lib/python3.11/site-packages/web3/providers/auto.py:106\u001b[0m, in \u001b[0;36mAutoProvider._proxy_request\u001b[0;34m(self, method, params, use_cache)\u001b[0m\n\u001b[1;32m    104\u001b[0m provider \u001b[39m=\u001b[39m \u001b[39mself\u001b[39m\u001b[39m.\u001b[39m_get_active_provider(use_cache)\n\u001b[1;32m    105\u001b[0m \u001b[39mif\u001b[39;00m provider \u001b[39mis\u001b[39;00m \u001b[39mNone\u001b[39;00m:\n\u001b[0;32m--> 106\u001b[0m     \u001b[39mraise\u001b[39;00m CannotHandleRequest(\n\u001b[1;32m    107\u001b[0m         \u001b[39m\"\u001b[39m\u001b[39mCould not discover provider while making request: \u001b[39m\u001b[39m\"\u001b[39m\n\u001b[1;32m    108\u001b[0m         \u001b[39mf\u001b[39m\u001b[39m\"\u001b[39m\u001b[39mmethod:\u001b[39m\u001b[39m{\u001b[39;00mmethod\u001b[39m}\u001b[39;00m\u001b[39m\\n\u001b[39;00m\u001b[39mparams:\u001b[39m\u001b[39m{\u001b[39;00mparams\u001b[39m}\u001b[39;00m\u001b[39m\\n\u001b[39;00m\u001b[39m\"\u001b[39m\n\u001b[1;32m    109\u001b[0m     )\n\u001b[1;32m    111\u001b[0m \u001b[39mreturn\u001b[39;00m provider\u001b[39m.\u001b[39mmake_request(method, params)\n",
      "\u001b[0;31mCannotHandleRequest\u001b[0m: Could not discover provider while making request: method:debug_traceTransaction\nparams:['0xc3ce97ac430ac0cf5a56bbc1738619a9df9901320468629899b46a26b2118223', {}]\n"
     ]
    }
   ],
   "source": [
    "# Apply the necessary middleware\n",
    "w3.middleware_onion.inject(geth_poa_middleware, layer=0)\n",
    "\n",
    "# Get trace\n",
    "trace = w3.manager.request_blocking(f\"debug_traceTransaction\", [tx_hash, {}])\n",
    "\n",
    "# Extract calls to swap function\n",
    "swap_calls = []\n",
    "for action in trace['structLogs']:\n",
    "    if action['op'] == 'CALL':\n",
    "        input_data = action['stack'][-1]\n",
    "        method_id = w3.keccak(text='swap(address,bool,int256,uint160,bytes)')[:10].hex()\n",
    "        if input_data[:10] == method_id:\n",
    "            sqrt_price_limit_x96_hex = input_data[138:202]\n",
    "            sqrt_price_limit_x96 = int(sqrt_price_limit_x96_hex, 16)\n",
    "            swap_calls.append(sqrt_price_limit_x96)\n",
    "\n",
    "print(swap_calls)"
   ]
  },
  {
   "cell_type": "code",
   "execution_count": 31,
   "metadata": {},
   "outputs": [
    {
     "ename": "AttributeError",
     "evalue": "'Web3' object has no attribute 'sha3'",
     "output_type": "error",
     "traceback": [
      "\u001b[0;31m---------------------------------------------------------------------------\u001b[0m",
      "\u001b[0;31mAttributeError\u001b[0m                            Traceback (most recent call last)",
      "Cell \u001b[0;32mIn[31], line 5\u001b[0m\n\u001b[1;32m      2\u001b[0m input_data \u001b[39m=\u001b[39m tx[\u001b[39m'\u001b[39m\u001b[39minput\u001b[39m\u001b[39m'\u001b[39m]\n\u001b[1;32m      4\u001b[0m \u001b[39m# Function selector for 'exactInputSingle' function in Uniswap V3's contract\u001b[39;00m\n\u001b[0;32m----> 5\u001b[0m function_selector \u001b[39m=\u001b[39m w3\u001b[39m.\u001b[39mto_hex(w3\u001b[39m.\u001b[39;49msha3(text\u001b[39m=\u001b[39m\u001b[39m\"\u001b[39m\u001b[39mexactInputSingle((address,address,uint24,address,uint256,uint256,uint256,uint160))\u001b[39m\u001b[39m\"\u001b[39m)[:\u001b[39m4\u001b[39m])\n\u001b[1;32m      7\u001b[0m \u001b[39m# Check if the transaction's input data starts with the correct function selector\u001b[39;00m\n\u001b[1;32m      8\u001b[0m \u001b[39mif\u001b[39;00m \u001b[39mnot\u001b[39;00m input_data\u001b[39m.\u001b[39mstartswith(function_selector):\n",
      "\u001b[0;31mAttributeError\u001b[0m: 'Web3' object has no attribute 'sha3'"
     ]
    }
   ],
   "source": [
    "# Retrieve the transaction data\n",
    "input_data = tx['input']\n",
    "\n",
    "# Function selector for 'exactInputSingle' function in Uniswap V3's contract\n",
    "function_selector = w3.to_hex(w3.sha3(text=\"exactInputSingle((address,address,uint24,address,uint256,uint256,uint256,uint160))\")[:4])\n",
    "\n",
    "# Check if the transaction's input data starts with the correct function selector\n",
    "if not input_data.startswith(function_selector):\n",
    "    raise ValueError(\"Transaction didn't call the 'exactInputSingle' function\")\n",
    "\n",
    "# Remove the function selector from the input data\n",
    "input_data = input_data[len(function_selector):]\n",
    "\n",
    "# Decode the remaining input data\n",
    "params = decode(\n",
    "    ['address', 'address', 'uint24', 'address', 'uint256', 'uint256', 'uint256', 'uint160'],\n",
    "    bytes.fromhex(input_data)\n",
    ")\n",
    "\n",
    "# Extract the amountOutMinimum and sqrtPriceLimitX96 parameters\n",
    "amountOutMinimum = params[6]\n",
    "sqrtPriceLimitX96 = params[7]"
   ]
  },
  {
   "cell_type": "code",
   "execution_count": 23,
   "metadata": {},
   "outputs": [
    {
     "ename": "NameError",
     "evalue": "name 'amount_in' is not defined",
     "output_type": "error",
     "traceback": [
      "\u001b[0;31m---------------------------------------------------------------------------\u001b[0m",
      "\u001b[0;31mNameError\u001b[0m                                 Traceback (most recent call last)",
      "Cell \u001b[0;32mIn[23], line 1\u001b[0m\n\u001b[0;32m----> 1\u001b[0m \u001b[39mprint\u001b[39m(\u001b[39mf\u001b[39m\u001b[39m\"\u001b[39m\u001b[39mAmount in: \u001b[39m\u001b[39m{\u001b[39;00mamount_in\u001b[39m}\u001b[39;00m\u001b[39m\"\u001b[39m)\n\u001b[1;32m      2\u001b[0m \u001b[39mprint\u001b[39m(\u001b[39mf\u001b[39m\u001b[39m\"\u001b[39m\u001b[39mToken in: \u001b[39m\u001b[39m{\u001b[39;00mtoken_in\u001b[39m}\u001b[39;00m\u001b[39m\"\u001b[39m)\n\u001b[1;32m      3\u001b[0m \u001b[39mprint\u001b[39m(\u001b[39mf\u001b[39m\u001b[39m\"\u001b[39m\u001b[39mToken out: \u001b[39m\u001b[39m{\u001b[39;00mtoken_out\u001b[39m}\u001b[39;00m\u001b[39m\"\u001b[39m)\n",
      "\u001b[0;31mNameError\u001b[0m: name 'amount_in' is not defined"
     ]
    }
   ],
   "source": [
    "print(f\"Amount in: {amount_in}\")\n",
    "print(f\"Token in: {token_in}\")\n",
    "print(f\"Token out: {token_out}\")\n",
    "print(f\"Fee: {fee}\")\n",
    "print(f\"Deadline: {deadline}\")\n",
    "print(f\"Amount out minimum: {amount_out_minimum}\")\n",
    "print(f\"Square root price limit: {sqrt_price_limit}\")\n"
   ]
  },
  {
   "cell_type": "code",
   "execution_count": null,
   "metadata": {},
   "outputs": [],
   "source": []
  }
 ],
 "metadata": {
  "kernelspec": {
   "display_name": "venv",
   "language": "python",
   "name": "python3"
  },
  "language_info": {
   "codemirror_mode": {
    "name": "ipython",
    "version": 3
   },
   "file_extension": ".py",
   "mimetype": "text/x-python",
   "name": "python",
   "nbconvert_exporter": "python",
   "pygments_lexer": "ipython3",
   "version": "3.11.4"
  },
  "orig_nbformat": 4
 },
 "nbformat": 4,
 "nbformat_minor": 2
}
