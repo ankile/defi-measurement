{
 "cells": [
  {
   "cell_type": "code",
   "execution_count": 1,
   "metadata": {},
   "outputs": [],
   "source": [
    "import os\n",
    "import sys\n",
    "\n",
    "current_path = sys.path[0]\n",
    "sys.path.append(\n",
    "    current_path[: current_path.find(\"defi-measurement\")]\n",
    "    + \"liquidity-distribution-history\"\n",
    ")\n",
    "\n",
    "sys.path.append(\"..\")\n",
    "\n",
    "\n",
    "import matplotlib.pyplot as plt\n",
    "import numpy as np\n",
    "import pandas as pd\n",
    "import psycopg2\n",
    "import sqlalchemy\n",
    "from dotenv import load_dotenv\n",
    "from matplotlib.ticker import MaxNLocator\n",
    "from pool_state import v3Pool\n",
    "from sqlalchemy import create_engine\n",
    "from tqdm import tqdm\n",
    "from collections import deque\n",
    "\n",
    "load_dotenv(override=True)\n",
    "from experiments.random_permutations import load_pool\n",
    "\n",
    "from decimal import getcontext\n",
    "\n",
    "getcontext().prec = 100  # Set the precision high enough for our purposes\n",
    "\n",
    "\n",
    "# Read in the environment variables\n",
    "postgres_uri = os.environ[\"POSTGRESQL_URI_US\"]\n",
    "blobstorage_uri = os.environ[\"AZURE_STORAGE_CONNECTION_STRING\"]\n",
    "\n",
    "engine = create_engine(postgres_uri)"
   ]
  },
  {
   "cell_type": "markdown",
   "metadata": {},
   "source": []
  },
  {
   "cell_type": "code",
   "execution_count": null,
   "metadata": {},
   "outputs": [],
   "source": []
  }
 ],
 "metadata": {
  "kernelspec": {
   "display_name": "venv",
   "language": "python",
   "name": "python3"
  },
  "language_info": {
   "codemirror_mode": {
    "name": "ipython",
    "version": 3
   },
   "file_extension": ".py",
   "mimetype": "text/x-python",
   "name": "python",
   "nbconvert_exporter": "python",
   "pygments_lexer": "ipython3",
   "version": "3.11.4"
  },
  "orig_nbformat": 4
 },
 "nbformat": 4,
 "nbformat_minor": 2
}
