{
 "cells": [
  {
   "cell_type": "code",
   "execution_count": 1,
   "metadata": {},
   "outputs": [
    {
     "data": {
      "text/plain": [
       "True"
      ]
     },
     "execution_count": 1,
     "metadata": {},
     "output_type": "execute_result"
    }
   ],
   "source": [
    "from web3 import Web3\n",
    "import pandas as pd\n",
    "from datetime import datetime\n",
    "from prisma import Prisma\n",
    "\n",
    "from dotenv import load_dotenv\n",
    "\n",
    "from prisma.models import \n",
    "load_dotenv(override=True)"
   ]
  },
  {
   "cell_type": "code",
   "execution_count": 3,
   "metadata": {},
   "outputs": [
    {
     "ename": "ClientAlreadyRegisteredError",
     "evalue": "A client has already been registered.",
     "output_type": "error",
     "traceback": [
      "\u001b[0;31m---------------------------------------------------------------------------\u001b[0m",
      "\u001b[0;31mClientAlreadyRegisteredError\u001b[0m              Traceback (most recent call last)",
      "Cell \u001b[0;32mIn[3], line 1\u001b[0m\n\u001b[0;32m----> 1\u001b[0m db \u001b[39m=\u001b[39m Prisma(auto_register\u001b[39m=\u001b[39;49m\u001b[39mTrue\u001b[39;49;00m)\n\u001b[1;32m      2\u001b[0m db\u001b[39m.\u001b[39mconnect()\n",
      "File \u001b[0;32m~/Code/defi-measurement/venv/lib/python3.11/site-packages/prisma/client.py:204\u001b[0m, in \u001b[0;36mPrisma.__init__\u001b[0;34m(self, use_dotenv, log_queries, auto_register, datasource, connect_timeout, http)\u001b[0m\n\u001b[1;32m    201\u001b[0m     load_env()\n\u001b[1;32m    203\u001b[0m \u001b[39mif\u001b[39;00m auto_register:\n\u001b[0;32m--> 204\u001b[0m     register(\u001b[39mself\u001b[39;49m)\n",
      "File \u001b[0;32m~/Code/defi-measurement/venv/lib/python3.11/site-packages/prisma/client.py:128\u001b[0m, in \u001b[0;36mregister\u001b[0;34m(client)\u001b[0m\n\u001b[1;32m    125\u001b[0m \u001b[39mglobal\u001b[39;00m _registered_client\n\u001b[1;32m    127\u001b[0m \u001b[39mif\u001b[39;00m _registered_client \u001b[39mis\u001b[39;00m \u001b[39mnot\u001b[39;00m \u001b[39mNone\u001b[39;00m:\n\u001b[0;32m--> 128\u001b[0m     \u001b[39mraise\u001b[39;00m errors\u001b[39m.\u001b[39mClientAlreadyRegisteredError()\n\u001b[1;32m    130\u001b[0m \u001b[39mif\u001b[39;00m \u001b[39mnot\u001b[39;00m \u001b[39misinstance\u001b[39m(client, Prisma) \u001b[39mand\u001b[39;00m \u001b[39mnot\u001b[39;00m \u001b[39mcallable\u001b[39m(client):\n\u001b[1;32m    131\u001b[0m     \u001b[39mraise\u001b[39;00m \u001b[39mTypeError\u001b[39;00m(\n\u001b[1;32m    132\u001b[0m         \u001b[39mf\u001b[39m\u001b[39m'\u001b[39m\u001b[39mExpected either a \u001b[39m\u001b[39m{\u001b[39;00mPrisma\u001b[39m}\u001b[39;00m\u001b[39m instance or a function that returns a \u001b[39m\u001b[39m{\u001b[39;00mPrisma\u001b[39m}\u001b[39;00m\u001b[39m but got \u001b[39m\u001b[39m{\u001b[39;00mclient\u001b[39m}\u001b[39;00m\u001b[39m instead.\u001b[39m\u001b[39m'\u001b[39m\n\u001b[1;32m    133\u001b[0m     )\n",
      "\u001b[0;31mClientAlreadyRegisteredError\u001b[0m: A client has already been registered."
     ]
    }
   ],
   "source": [
    "db = Prisma(auto_register=True)"
   ]
  },
  {
   "cell_type": "code",
   "execution_count": null,
   "metadata": {},
   "outputs": [],
   "source": []
  }
 ],
 "metadata": {
  "kernelspec": {
   "display_name": "venv",
   "language": "python",
   "name": "python3"
  },
  "language_info": {
   "codemirror_mode": {
    "name": "ipython",
    "version": 3
   },
   "file_extension": ".py",
   "mimetype": "text/x-python",
   "name": "python",
   "nbconvert_exporter": "python",
   "pygments_lexer": "ipython3",
   "version": "3.11.3"
  },
  "orig_nbformat": 4
 },
 "nbformat": 4,
 "nbformat_minor": 2
}
