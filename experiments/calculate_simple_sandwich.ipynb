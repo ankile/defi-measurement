{
 "cells": [
  {
   "cell_type": "markdown",
   "metadata": {},
   "source": [
    "# Run Sandwich Attacks on Swaps from the Public Mempool"
   ]
  },
  {
   "cell_type": "code",
   "execution_count": 3,
   "metadata": {},
   "outputs": [],
   "source": [
    "%load_ext autoreload\n",
    "%autoreload 2"
   ]
  },
  {
   "cell_type": "code",
   "execution_count": 31,
   "metadata": {},
   "outputs": [],
   "source": [
    "import os\n",
    "import sys\n",
    "import math\n",
    "\n",
    "current_path = sys.path[0]\n",
    "sys.path.append(\n",
    "    current_path[: current_path.find(\"defi-measurement\")]\n",
    "    + \"liquidity-distribution-history\"\n",
    ")\n",
    "\n",
    "sys.path.append(\"..\")\n",
    "\n",
    "\n",
    "import matplotlib.pyplot as plt\n",
    "import numpy as np\n",
    "import pandas as pd\n",
    "\n",
    "\n",
    "from datetime import datetime, timezone\n",
    "\n",
    "\n",
    "# Set display options\n",
    "pd.set_option(\"display.max_colwidth\", None)  # Display entire cell content\n",
    "pd.set_option(\"display.max_rows\", 50)  # Display all rows\n",
    "pd.set_option(\"display.max_columns\", None)  # Display all columns\n",
    "\n",
    "\n",
    "from dotenv import load_dotenv\n",
    "from pool_state import v3Pool\n",
    "from sqlalchemy import create_engine\n",
    "from tqdm import tqdm\n",
    "\n",
    "load_dotenv(override=True)\n",
    "# from experiments.random_permutations import load_pool\n",
    "\n",
    "from experiments.preload_pool_cache import load_pool_from_blob\n",
    "from experiments.calculate_simple_sandwich import (\n",
    "    get_data,\n",
    "    SwapData,\n",
    "    single_sandwich_mev,\n",
    "    max_frontrun,\n",
    "    auto_sandwich_mev,\n",
    ")\n",
    "\n",
    "\n",
    "from decimal import getcontext\n",
    "\n",
    "getcontext().prec = 100  # Set the precision high enough for our purposes\n",
    "\n",
    "\n",
    "# Read in the environment variables\n",
    "postgres_uri_mp = os.environ[\"POSTGRESQL_URI_MP\"]\n",
    "postgres_uri_us = os.environ[\"POSTGRESQL_URI_US\"]\n",
    "azure_storage_uri = os.environ[\"AZURE_STORAGE_CONNECTION_STRING\"]"
   ]
  },
  {
   "cell_type": "markdown",
   "metadata": {},
   "source": [
    "## Get the Data"
   ]
  },
  {
   "cell_type": "markdown",
   "metadata": {},
   "source": [
    "### Populate the swap data we have with the block number that the swap appeared in"
   ]
  },
  {
   "cell_type": "code",
   "execution_count": 4,
   "metadata": {},
   "outputs": [
    {
     "data": {
      "text/html": [
       "<div>\n",
       "<style scoped>\n",
       "    .dataframe tbody tr th:only-of-type {\n",
       "        vertical-align: middle;\n",
       "    }\n",
       "\n",
       "    .dataframe tbody tr th {\n",
       "        vertical-align: top;\n",
       "    }\n",
       "\n",
       "    .dataframe thead th {\n",
       "        text-align: right;\n",
       "    }\n",
       "</style>\n",
       "<table border=\"1\" class=\"dataframe\">\n",
       "  <thead>\n",
       "    <tr style=\"text-align: right;\">\n",
       "      <th></th>\n",
       "      <th></th>\n",
       "      <th>amountIn</th>\n",
       "      <th>amountOutMin</th>\n",
       "      <th>token0</th>\n",
       "      <th>fee</th>\n",
       "      <th>token1</th>\n",
       "      <th>hash</th>\n",
       "      <th>first_seen</th>\n",
       "    </tr>\n",
       "    <tr>\n",
       "      <th>pool</th>\n",
       "      <th>block_number</th>\n",
       "      <th></th>\n",
       "      <th></th>\n",
       "      <th></th>\n",
       "      <th></th>\n",
       "      <th></th>\n",
       "      <th></th>\n",
       "      <th></th>\n",
       "    </tr>\n",
       "  </thead>\n",
       "  <tbody>\n",
       "    <tr>\n",
       "      <th rowspan=\"5\" valign=\"top\">0x11b815efb8f581194ae79006d24e0d814b7697f6</th>\n",
       "      <th>17663582.0</th>\n",
       "      <td>1000000000000000000</td>\n",
       "      <td>1853593534</td>\n",
       "      <td>0xc02aaa39b223fe8d0a0e5c4f27ead9083c756cc2</td>\n",
       "      <td>500</td>\n",
       "      <td>0xdac17f958d2ee523a2206206994597c13d831ec7</td>\n",
       "      <td>0x4a2bbabb83084f8e296da188b818ce1a2f8c074e21afd9ce57cce4f81bbe368b</td>\n",
       "      <td>2023-07-10 13:33:02.376000+00:00</td>\n",
       "    </tr>\n",
       "    <tr>\n",
       "      <th>17663705.0</th>\n",
       "      <td>550000000000000000</td>\n",
       "      <td>1014298222</td>\n",
       "      <td>0xc02aaa39b223fe8d0a0e5c4f27ead9083c756cc2</td>\n",
       "      <td>500</td>\n",
       "      <td>0xdac17f958d2ee523a2206206994597c13d831ec7</td>\n",
       "      <td>0x630017383a082d953bfd45833375addb200f2079b21249887d78e2ce40f5ada5</td>\n",
       "      <td>2023-07-10 13:58:09.280000+00:00</td>\n",
       "    </tr>\n",
       "    <tr>\n",
       "      <th>17664008.0</th>\n",
       "      <td>57896044618658097711785492504343953926634992332820282019728792003956564819968</td>\n",
       "      <td>4871971661</td>\n",
       "      <td>0xc02aaa39b223fe8d0a0e5c4f27ead9083c756cc2</td>\n",
       "      <td>500</td>\n",
       "      <td>0xdac17f958d2ee523a2206206994597c13d831ec7</td>\n",
       "      <td>0x8e89c13331a3c3151ce620eb87d71da9d4907e33ccd47786d0200793de62785c</td>\n",
       "      <td>2023-07-10 14:59:29.102000+00:00</td>\n",
       "    </tr>\n",
       "    <tr>\n",
       "      <th>17664143.0</th>\n",
       "      <td>5003888921383035880</td>\n",
       "      <td>9296674466</td>\n",
       "      <td>0xc02aaa39b223fe8d0a0e5c4f27ead9083c756cc2</td>\n",
       "      <td>500</td>\n",
       "      <td>0xdac17f958d2ee523a2206206994597c13d831ec7</td>\n",
       "      <td>0x785722a78b734d9a6463f8162d961f208469920590de7ddea9b96937c4d9a296</td>\n",
       "      <td>2023-07-10 15:27:00.811000+00:00</td>\n",
       "    </tr>\n",
       "    <tr>\n",
       "      <th>17664166.0</th>\n",
       "      <td>57896044618658097711785492504343953926634992332820282019728792003956564819968</td>\n",
       "      <td>7218919681</td>\n",
       "      <td>0xc02aaa39b223fe8d0a0e5c4f27ead9083c756cc2</td>\n",
       "      <td>500</td>\n",
       "      <td>0xdac17f958d2ee523a2206206994597c13d831ec7</td>\n",
       "      <td>0x3932c625983790b7781219da7d91122d94176e3201cf492d102c75e752b06407</td>\n",
       "      <td>2023-07-10 15:31:49.895000+00:00</td>\n",
       "    </tr>\n",
       "  </tbody>\n",
       "</table>\n",
       "</div>"
      ],
      "text/plain": [
       "                                                                                                                              amountIn  \\\n",
       "pool                                       block_number                                                                                  \n",
       "0x11b815efb8f581194ae79006d24e0d814b7697f6 17663582.0                                                              1000000000000000000   \n",
       "                                           17663705.0                                                               550000000000000000   \n",
       "                                           17664008.0    57896044618658097711785492504343953926634992332820282019728792003956564819968   \n",
       "                                           17664143.0                                                              5003888921383035880   \n",
       "                                           17664166.0    57896044618658097711785492504343953926634992332820282019728792003956564819968   \n",
       "\n",
       "                                                        amountOutMin  \\\n",
       "pool                                       block_number                \n",
       "0x11b815efb8f581194ae79006d24e0d814b7697f6 17663582.0     1853593534   \n",
       "                                           17663705.0     1014298222   \n",
       "                                           17664008.0     4871971661   \n",
       "                                           17664143.0     9296674466   \n",
       "                                           17664166.0     7218919681   \n",
       "\n",
       "                                                                                             token0  \\\n",
       "pool                                       block_number                                               \n",
       "0x11b815efb8f581194ae79006d24e0d814b7697f6 17663582.0    0xc02aaa39b223fe8d0a0e5c4f27ead9083c756cc2   \n",
       "                                           17663705.0    0xc02aaa39b223fe8d0a0e5c4f27ead9083c756cc2   \n",
       "                                           17664008.0    0xc02aaa39b223fe8d0a0e5c4f27ead9083c756cc2   \n",
       "                                           17664143.0    0xc02aaa39b223fe8d0a0e5c4f27ead9083c756cc2   \n",
       "                                           17664166.0    0xc02aaa39b223fe8d0a0e5c4f27ead9083c756cc2   \n",
       "\n",
       "                                                         fee  \\\n",
       "pool                                       block_number        \n",
       "0x11b815efb8f581194ae79006d24e0d814b7697f6 17663582.0    500   \n",
       "                                           17663705.0    500   \n",
       "                                           17664008.0    500   \n",
       "                                           17664143.0    500   \n",
       "                                           17664166.0    500   \n",
       "\n",
       "                                                                                             token1  \\\n",
       "pool                                       block_number                                               \n",
       "0x11b815efb8f581194ae79006d24e0d814b7697f6 17663582.0    0xdac17f958d2ee523a2206206994597c13d831ec7   \n",
       "                                           17663705.0    0xdac17f958d2ee523a2206206994597c13d831ec7   \n",
       "                                           17664008.0    0xdac17f958d2ee523a2206206994597c13d831ec7   \n",
       "                                           17664143.0    0xdac17f958d2ee523a2206206994597c13d831ec7   \n",
       "                                           17664166.0    0xdac17f958d2ee523a2206206994597c13d831ec7   \n",
       "\n",
       "                                                                                                                       hash  \\\n",
       "pool                                       block_number                                                                       \n",
       "0x11b815efb8f581194ae79006d24e0d814b7697f6 17663582.0    0x4a2bbabb83084f8e296da188b818ce1a2f8c074e21afd9ce57cce4f81bbe368b   \n",
       "                                           17663705.0    0x630017383a082d953bfd45833375addb200f2079b21249887d78e2ce40f5ada5   \n",
       "                                           17664008.0    0x8e89c13331a3c3151ce620eb87d71da9d4907e33ccd47786d0200793de62785c   \n",
       "                                           17664143.0    0x785722a78b734d9a6463f8162d961f208469920590de7ddea9b96937c4d9a296   \n",
       "                                           17664166.0    0x3932c625983790b7781219da7d91122d94176e3201cf492d102c75e752b06407   \n",
       "\n",
       "                                                                              first_seen  \n",
       "pool                                       block_number                                   \n",
       "0x11b815efb8f581194ae79006d24e0d814b7697f6 17663582.0   2023-07-10 13:33:02.376000+00:00  \n",
       "                                           17663705.0   2023-07-10 13:58:09.280000+00:00  \n",
       "                                           17664008.0   2023-07-10 14:59:29.102000+00:00  \n",
       "                                           17664143.0   2023-07-10 15:27:00.811000+00:00  \n",
       "                                           17664166.0   2023-07-10 15:31:49.895000+00:00  "
      ]
     },
     "execution_count": 4,
     "metadata": {},
     "output_type": "execute_result"
    }
   ],
   "source": [
    "df = get_data()\n",
    "\n",
    "df.head()"
   ]
  },
  {
   "cell_type": "markdown",
   "metadata": {},
   "source": [
    "## Get a pool and do some initial testing"
   ]
  },
  {
   "cell_type": "code",
   "execution_count": 10,
   "metadata": {},
   "outputs": [
    {
     "data": {
      "text/plain": [
       "SwapData(pool='0x11b815efb8f581194ae79006d24e0d814b7697f6', block_number=17665590.0, amountIn='993550000', amountOutMin='508791592163898637', token0='0xdac17f958d2ee523a2206206994597c13d831ec7', fee='500', token1='0xc02aaa39b223fe8d0a0e5c4f27ead9083c756cc2', hash='0xa8dc098718e26494e7c0f541cd35fbed814059c6326e3381f481fe2423e209a7', first_seen=Timestamp('2023-07-10 20:19:32.781000+0000', tz='UTC'))"
      ]
     },
     "execution_count": 10,
     "metadata": {},
     "output_type": "execute_result"
    }
   ],
   "source": [
    "swap_data = df[df.hash == '0xa8dc098718e26494e7c0f541cd35fbed814059c6326e3381f481fe2423e209a7']\n",
    "\n",
    "swap = SwapData(**swap_data.reset_index().to_dict('records')[0]) # type: ignore\n",
    "\n",
    "swap"
   ]
  },
  {
   "cell_type": "code",
   "execution_count": 7,
   "metadata": {},
   "outputs": [
    {
     "name": "stdout",
     "output_type": "stream",
     "text": [
      "Loading pool from Azure blob storage cache\n"
     ]
    }
   ],
   "source": [
    "pool = load_pool_from_blob(\n",
    "    str(swap_data.index.get_level_values(0)[0]),\n",
    "    postgres_uri_us,\n",
    "    azure_storage_uri,\n",
    "    \"uniswap-v3-pool-cache\",\n",
    "    verbose=True,\n",
    "    invalidate_before_date=datetime(2023, 8, 16, tzinfo=timezone.utc),\n",
    ")"
   ]
  },
  {
   "cell_type": "code",
   "execution_count": 28,
   "metadata": {},
   "outputs": [
    {
     "name": "stdout",
     "output_type": "stream",
     "text": [
      "Profit: -6271838079\n",
      "Gas: 0.007010483569918752\n",
      "Prices: (4.3577930944809406e-05, 4.4177764460898176e-05, 4.4177862702853464e-05, 4.357825011449746e-05)\n"
     ]
    }
   ],
   "source": [
    "assert pool is not None\n",
    "\n",
    "profit, gas, prices = single_sandwich_mev(\n",
    "    pool,\n",
    "    swap,\n",
    "    int(6340608000000),\n",
    "    pool_fee=True,\n",
    ")\n",
    "\n",
    "print(f\"Profit: {profit}\")\n",
    "print(f\"Gas: {gas}\")\n",
    "print(f\"Prices: {prices}\")"
   ]
  },
  {
   "cell_type": "code",
   "execution_count": 29,
   "metadata": {},
   "outputs": [
    {
     "data": {
      "image/png": "[encoded data removed]",
      "text/plain": [
       "<Figure size 640x480 with 1 Axes>"
      ]
     },
     "metadata": {},
     "output_type": "display_data"
    }
   ],
   "source": [
    "plt.plot([1,2,3,4], prices);"
   ]
  },
  {
   "cell_type": "code",
   "execution_count": 27,
   "metadata": {},
   "outputs": [
    {
     "name": "stdout",
     "output_type": "stream",
     "text": [
      "0: Trying 1000000.0\n",
      "1: Trying 2000000.0\n",
      "2: Trying 4000000.0\n",
      "3: Trying 8000000.0\n",
      "4: Trying 16000000.0\n",
      "5: Trying 32000000.0\n",
      "6: Trying 64000000.0\n",
      "7: Trying 128000000.0\n",
      "8: Trying 256000000.0\n",
      "9: Trying 512000000.0\n",
      "10: Trying 1024000000.0\n",
      "11: Trying 2048000000.0\n",
      "12: Trying 4096000000.0\n",
      "13: Trying 8192000000.0\n",
      "14: Trying 16384000000.0\n",
      "15: Trying 32768000000.0\n",
      "16: Trying 65536000000.0\n",
      "17: Trying 131072000000.0\n",
      "18: Trying 262144000000.0\n",
      "19: Trying 524288000000.0\n",
      "20: Trying 1048576000000.0\n",
      "21: Trying 2097152000000.0\n",
      "22: Trying 4194304000000.0\n",
      "23: Trying 8388608000000.0\n",
      "0: Trying 4194304000000.0 - 8388608000000.0\n",
      "1: Trying 6291456000000.0 - 8388608000000.0\n",
      "2: Trying 6291456000000.0 - 7340032000000.0\n",
      "3: Trying 6291456000000.0 - 6815744000000.0\n",
      "4: Trying 6291456000000.0 - 6553600000000.0\n",
      "5: Trying 6291456000000.0 - 6422528000000.0\n",
      "6: Trying 6291456000000.0 - 6356992000000.0\n",
      "7: Trying 6324224000000.0 - 6356992000000.0\n",
      "8: Trying 6340608000000.0 - 6356992000000.0\n"
     ]
    },
    {
     "data": {
      "text/plain": [
       "6340608000000.0"
      ]
     },
     "execution_count": 27,
     "metadata": {},
     "output_type": "execute_result"
    }
   ],
   "source": [
    "assert pool\n",
    "\n",
    "max_frontrun(\n",
    "    pool,\n",
    "    swap,\n",
    "    verbose=True,\n",
    ")"
   ]
  },
  {
   "cell_type": "code",
   "execution_count": 40,
   "metadata": {},
   "outputs": [
    {
     "name": "stdout",
     "output_type": "stream",
     "text": [
      "0: Trying 1000000.0\n",
      "1: Trying 10000000.0\n",
      "2: Trying 100000000.0\n",
      "3: Trying 1000000000.0\n",
      "4: Trying 10000000000.0\n",
      "5: Trying 100000000000.0\n",
      "6: Trying 1000000000000.0\n",
      "7: Trying 10000000000000.0\n",
      "0: Trying 1000000000000.0 - 10000000000000.0\n",
      "1: Trying 5500000000000.0 - 10000000000000.0\n",
      "2: Trying 5500000000000.0 - 7750000000000.0\n",
      "3: Trying 5500000000000.0 - 6625000000000.0\n",
      "4: Trying 6062500000000.0 - 6625000000000.0\n",
      "5: Trying 6343750000000.0 - 6625000000000.0\n",
      "6: Trying 6343750000000.0 - 6484375000000.0\n",
      "7: Trying 6343750000000.0 - 6414062500000.0\n",
      "8: Trying 6343750000000.0 - 6378906250000.0\n",
      "9: Trying 6343750000000.0 - 6361328125000.0\n",
      "10: Trying 6352539062500.0 - 6361328125000.0\n",
      "11: Trying 6352539062500.0 - 6356933593750.0\n",
      "12: Trying 6352539062500.0 - 6354736328125.0\n",
      "13: Trying 6352539062500.0 - 6353637695312.0\n",
      "14: Trying 6352539062500.0 - 6353088378906.0\n",
      "15: Trying 6352813720703.0 - 6353088378906.0\n",
      "16: Trying 6352951049804.0 - 6353088378906.0\n",
      "17: Trying 6353019714355.0 - 6353088378906.0\n",
      "18: Trying 6353019714355.0 - 6353054046630.0\n"
     ]
    },
    {
     "data": {
      "text/plain": [
       "AutoSandwichResult(profit=-6284193032.0, gas_fee=0.007010483569918752, frontrun_input=6353019714355.0, price_baseline=4.3577930944809406e-05, price_frontrun=4.4178991727856794e-05, price_user=4.417908996981208e-05, price_backrun=4.35782501103994e-05)"
      ]
     },
     "execution_count": 40,
     "metadata": {},
     "output_type": "execute_result"
    }
   ],
   "source": [
    "assert pool is not None\n",
    "\n",
    "auto_sandwich_mev(\n",
    "    pool,\n",
    "    swap,\n",
    "    start=1e12,\n",
    "    factor=10,\n",
    "    pool_fee=True,\n",
    "    verbose=True,\n",
    ")"
   ]
  },
  {
   "cell_type": "markdown",
   "metadata": {},
   "source": [
    "## Spurious calculations"
   ]
  },
  {
   "cell_type": "code",
   "execution_count": null,
   "metadata": {},
   "outputs": [
    {
     "data": {
      "text/plain": [
       "1694.1176470588234"
      ]
     },
     "execution_count": 1,
     "metadata": {},
     "output_type": "execute_result"
    }
   ],
   "source": [
    "# Given 17 seconds per sandwich, how many sandwiches can you make in a night?\n",
    "hours_per_night = 8\n",
    "seconds_per_sandwich = 17\n",
    "cpus = 1\n",
    "\n",
    "hours_per_night * 60 * 60 / seconds_per_sandwich * cpus"
   ]
  },
  {
   "cell_type": "code",
   "execution_count": null,
   "metadata": {},
   "outputs": [],
   "source": []
  },
  {
   "cell_type": "code",
   "execution_count": null,
   "metadata": {},
   "outputs": [],
   "source": []
  }
 ],
 "metadata": {
  "kernelspec": {
   "display_name": "venv",
   "language": "python",
   "name": "python3"
  },
  "language_info": {
   "codemirror_mode": {
    "name": "ipython",
    "version": 3
   },
   "file_extension": ".py",
   "mimetype": "text/x-python",
   "name": "python",
   "nbconvert_exporter": "python",
   "pygments_lexer": "ipython3",
   "version": "3.11.0rc1"
  },
  "orig_nbformat": 4
 },
 "nbformat": 4,
 "nbformat_minor": 2
}
