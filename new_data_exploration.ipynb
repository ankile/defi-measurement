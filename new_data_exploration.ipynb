{
 "cells": [
  {
   "cell_type": "code",
   "execution_count": 2,
   "metadata": {},
   "outputs": [
    {
     "ename": "ValueError",
     "evalue": "numpy.dtype size changed, may indicate binary incompatibility. Expected 96 from C header, got 88 from PyObject",
     "output_type": "error",
     "traceback": [
      "\u001b[0;31m---------------------------------------------------------------------------\u001b[0m",
      "\u001b[0;31mValueError\u001b[0m                                Traceback (most recent call last)",
      "Cell \u001b[0;32mIn[2], line 1\u001b[0m\n\u001b[0;32m----> 1\u001b[0m \u001b[38;5;28;01mimport\u001b[39;00m \u001b[38;5;21;01mpandas\u001b[39;00m \u001b[38;5;28;01mas\u001b[39;00m \u001b[38;5;21;01mpd\u001b[39;00m\n\u001b[1;32m      2\u001b[0m \u001b[38;5;28;01mimport\u001b[39;00m \u001b[38;5;21;01mpolars\u001b[39;00m \u001b[38;5;28;01mas\u001b[39;00m \u001b[38;5;21;01mpl\u001b[39;00m\n\u001b[1;32m      3\u001b[0m \u001b[38;5;28;01mfrom\u001b[39;00m \u001b[38;5;21;01mv3\u001b[39;00m\u001b[38;5;21;01m.\u001b[39;00m\u001b[38;5;21;01mstate\u001b[39;00m \u001b[38;5;28;01mimport\u001b[39;00m v3Pool\n",
      "File \u001b[0;32m~/code/defi-measurement/venv/lib/python3.11/site-packages/pandas/__init__.py:22\u001b[0m\n\u001b[1;32m     19\u001b[0m \u001b[38;5;28;01mdel\u001b[39;00m _hard_dependencies, _dependency, _missing_dependencies\n\u001b[1;32m     21\u001b[0m \u001b[38;5;66;03m# numpy compat\u001b[39;00m\n\u001b[0;32m---> 22\u001b[0m \u001b[38;5;28;01mfrom\u001b[39;00m \u001b[38;5;21;01mpandas\u001b[39;00m\u001b[38;5;21;01m.\u001b[39;00m\u001b[38;5;21;01mcompat\u001b[39;00m \u001b[38;5;28;01mimport\u001b[39;00m is_numpy_dev \u001b[38;5;28;01mas\u001b[39;00m _is_numpy_dev  \u001b[38;5;66;03m# pyright: ignore # noqa:F401\u001b[39;00m\n\u001b[1;32m     24\u001b[0m \u001b[38;5;28;01mtry\u001b[39;00m:\n\u001b[1;32m     25\u001b[0m     \u001b[38;5;28;01mfrom\u001b[39;00m \u001b[38;5;21;01mpandas\u001b[39;00m\u001b[38;5;21;01m.\u001b[39;00m\u001b[38;5;21;01m_libs\u001b[39;00m \u001b[38;5;28;01mimport\u001b[39;00m hashtable \u001b[38;5;28;01mas\u001b[39;00m _hashtable, lib \u001b[38;5;28;01mas\u001b[39;00m _lib, tslib \u001b[38;5;28;01mas\u001b[39;00m _tslib\n",
      "File \u001b[0;32m~/code/defi-measurement/venv/lib/python3.11/site-packages/pandas/compat/__init__.py:25\u001b[0m\n\u001b[1;32m     17\u001b[0m \u001b[38;5;28;01mfrom\u001b[39;00m \u001b[38;5;21;01mpandas\u001b[39;00m\u001b[38;5;21;01m.\u001b[39;00m\u001b[38;5;21;01mcompat\u001b[39;00m\u001b[38;5;21;01m.\u001b[39;00m\u001b[38;5;21;01m_constants\u001b[39;00m \u001b[38;5;28;01mimport\u001b[39;00m (\n\u001b[1;32m     18\u001b[0m     IS64,\n\u001b[1;32m     19\u001b[0m     PY39,\n\u001b[0;32m   (...)\u001b[0m\n\u001b[1;32m     22\u001b[0m     PYPY,\n\u001b[1;32m     23\u001b[0m )\n\u001b[1;32m     24\u001b[0m \u001b[38;5;28;01mimport\u001b[39;00m \u001b[38;5;21;01mpandas\u001b[39;00m\u001b[38;5;21;01m.\u001b[39;00m\u001b[38;5;21;01mcompat\u001b[39;00m\u001b[38;5;21;01m.\u001b[39;00m\u001b[38;5;21;01mcompressors\u001b[39;00m\n\u001b[0;32m---> 25\u001b[0m \u001b[38;5;28;01mfrom\u001b[39;00m \u001b[38;5;21;01mpandas\u001b[39;00m\u001b[38;5;21;01m.\u001b[39;00m\u001b[38;5;21;01mcompat\u001b[39;00m\u001b[38;5;21;01m.\u001b[39;00m\u001b[38;5;21;01mnumpy\u001b[39;00m \u001b[38;5;28;01mimport\u001b[39;00m (\n\u001b[1;32m     26\u001b[0m     is_numpy_dev,\n\u001b[1;32m     27\u001b[0m     np_version_under1p21,\n\u001b[1;32m     28\u001b[0m )\n\u001b[1;32m     29\u001b[0m \u001b[38;5;28;01mfrom\u001b[39;00m \u001b[38;5;21;01mpandas\u001b[39;00m\u001b[38;5;21;01m.\u001b[39;00m\u001b[38;5;21;01mcompat\u001b[39;00m\u001b[38;5;21;01m.\u001b[39;00m\u001b[38;5;21;01mpyarrow\u001b[39;00m \u001b[38;5;28;01mimport\u001b[39;00m (\n\u001b[1;32m     30\u001b[0m     pa_version_under7p0,\n\u001b[1;32m     31\u001b[0m     pa_version_under8p0,\n\u001b[1;32m     32\u001b[0m     pa_version_under9p0,\n\u001b[1;32m     33\u001b[0m     pa_version_under11p0,\n\u001b[1;32m     34\u001b[0m )\n\u001b[1;32m     37\u001b[0m \u001b[38;5;28;01mdef\u001b[39;00m \u001b[38;5;21mset_function_name\u001b[39m(f: F, name: \u001b[38;5;28mstr\u001b[39m, \u001b[38;5;28mcls\u001b[39m) \u001b[38;5;241m-\u001b[39m\u001b[38;5;241m>\u001b[39m F:\n",
      "File \u001b[0;32m~/code/defi-measurement/venv/lib/python3.11/site-packages/pandas/compat/numpy/__init__.py:4\u001b[0m\n\u001b[1;32m      1\u001b[0m \u001b[38;5;124;03m\"\"\" support numpy compatibility across versions \"\"\"\u001b[39;00m\n\u001b[1;32m      2\u001b[0m \u001b[38;5;28;01mimport\u001b[39;00m \u001b[38;5;21;01mnumpy\u001b[39;00m \u001b[38;5;28;01mas\u001b[39;00m \u001b[38;5;21;01mnp\u001b[39;00m\n\u001b[0;32m----> 4\u001b[0m \u001b[38;5;28;01mfrom\u001b[39;00m \u001b[38;5;21;01mpandas\u001b[39;00m\u001b[38;5;21;01m.\u001b[39;00m\u001b[38;5;21;01mutil\u001b[39;00m\u001b[38;5;21;01m.\u001b[39;00m\u001b[38;5;21;01mversion\u001b[39;00m \u001b[38;5;28;01mimport\u001b[39;00m Version\n\u001b[1;32m      6\u001b[0m \u001b[38;5;66;03m# numpy versioning\u001b[39;00m\n\u001b[1;32m      7\u001b[0m _np_version \u001b[38;5;241m=\u001b[39m np\u001b[38;5;241m.\u001b[39m__version__\n",
      "File \u001b[0;32m~/code/defi-measurement/venv/lib/python3.11/site-packages/pandas/util/__init__.py:2\u001b[0m\n\u001b[1;32m      1\u001b[0m \u001b[38;5;66;03m# pyright: reportUnusedImport = false\u001b[39;00m\n\u001b[0;32m----> 2\u001b[0m \u001b[38;5;28;01mfrom\u001b[39;00m \u001b[38;5;21;01mpandas\u001b[39;00m\u001b[38;5;21;01m.\u001b[39;00m\u001b[38;5;21;01mutil\u001b[39;00m\u001b[38;5;21;01m.\u001b[39;00m\u001b[38;5;21;01m_decorators\u001b[39;00m \u001b[38;5;28;01mimport\u001b[39;00m (  \u001b[38;5;66;03m# noqa:F401\u001b[39;00m\n\u001b[1;32m      3\u001b[0m     Appender,\n\u001b[1;32m      4\u001b[0m     Substitution,\n\u001b[1;32m      5\u001b[0m     cache_readonly,\n\u001b[1;32m      6\u001b[0m )\n\u001b[1;32m      8\u001b[0m \u001b[38;5;28;01mfrom\u001b[39;00m \u001b[38;5;21;01mpandas\u001b[39;00m\u001b[38;5;21;01m.\u001b[39;00m\u001b[38;5;21;01mcore\u001b[39;00m\u001b[38;5;21;01m.\u001b[39;00m\u001b[38;5;21;01mutil\u001b[39;00m\u001b[38;5;21;01m.\u001b[39;00m\u001b[38;5;21;01mhashing\u001b[39;00m \u001b[38;5;28;01mimport\u001b[39;00m (  \u001b[38;5;66;03m# noqa:F401\u001b[39;00m\n\u001b[1;32m      9\u001b[0m     hash_array,\n\u001b[1;32m     10\u001b[0m     hash_pandas_object,\n\u001b[1;32m     11\u001b[0m )\n",
      "File \u001b[0;32m~/code/defi-measurement/venv/lib/python3.11/site-packages/pandas/util/_decorators.py:14\u001b[0m\n\u001b[1;32m      6\u001b[0m \u001b[38;5;28;01mfrom\u001b[39;00m \u001b[38;5;21;01mtyping\u001b[39;00m \u001b[38;5;28;01mimport\u001b[39;00m (\n\u001b[1;32m      7\u001b[0m     Any,\n\u001b[1;32m      8\u001b[0m     Callable,\n\u001b[1;32m      9\u001b[0m     Mapping,\n\u001b[1;32m     10\u001b[0m     cast,\n\u001b[1;32m     11\u001b[0m )\n\u001b[1;32m     12\u001b[0m \u001b[38;5;28;01mimport\u001b[39;00m \u001b[38;5;21;01mwarnings\u001b[39;00m\n\u001b[0;32m---> 14\u001b[0m \u001b[38;5;28;01mfrom\u001b[39;00m \u001b[38;5;21;01mpandas\u001b[39;00m\u001b[38;5;21;01m.\u001b[39;00m\u001b[38;5;21;01m_libs\u001b[39;00m\u001b[38;5;21;01m.\u001b[39;00m\u001b[38;5;21;01mproperties\u001b[39;00m \u001b[38;5;28;01mimport\u001b[39;00m cache_readonly\n\u001b[1;32m     15\u001b[0m \u001b[38;5;28;01mfrom\u001b[39;00m \u001b[38;5;21;01mpandas\u001b[39;00m\u001b[38;5;21;01m.\u001b[39;00m\u001b[38;5;21;01m_typing\u001b[39;00m \u001b[38;5;28;01mimport\u001b[39;00m (\n\u001b[1;32m     16\u001b[0m     F,\n\u001b[1;32m     17\u001b[0m     T,\n\u001b[1;32m     18\u001b[0m )\n\u001b[1;32m     19\u001b[0m \u001b[38;5;28;01mfrom\u001b[39;00m \u001b[38;5;21;01mpandas\u001b[39;00m\u001b[38;5;21;01m.\u001b[39;00m\u001b[38;5;21;01mutil\u001b[39;00m\u001b[38;5;21;01m.\u001b[39;00m\u001b[38;5;21;01m_exceptions\u001b[39;00m \u001b[38;5;28;01mimport\u001b[39;00m find_stack_level\n",
      "File \u001b[0;32m~/code/defi-measurement/venv/lib/python3.11/site-packages/pandas/_libs/__init__.py:13\u001b[0m\n\u001b[1;32m      1\u001b[0m __all__ \u001b[38;5;241m=\u001b[39m [\n\u001b[1;32m      2\u001b[0m     \u001b[38;5;124m\"\u001b[39m\u001b[38;5;124mNaT\u001b[39m\u001b[38;5;124m\"\u001b[39m,\n\u001b[1;32m      3\u001b[0m     \u001b[38;5;124m\"\u001b[39m\u001b[38;5;124mNaTType\u001b[39m\u001b[38;5;124m\"\u001b[39m,\n\u001b[0;32m   (...)\u001b[0m\n\u001b[1;32m      9\u001b[0m     \u001b[38;5;124m\"\u001b[39m\u001b[38;5;124mInterval\u001b[39m\u001b[38;5;124m\"\u001b[39m,\n\u001b[1;32m     10\u001b[0m ]\n\u001b[0;32m---> 13\u001b[0m \u001b[38;5;28;01mfrom\u001b[39;00m \u001b[38;5;21;01mpandas\u001b[39;00m\u001b[38;5;21;01m.\u001b[39;00m\u001b[38;5;21;01m_libs\u001b[39;00m\u001b[38;5;21;01m.\u001b[39;00m\u001b[38;5;21;01minterval\u001b[39;00m \u001b[38;5;28;01mimport\u001b[39;00m Interval\n\u001b[1;32m     14\u001b[0m \u001b[38;5;28;01mfrom\u001b[39;00m \u001b[38;5;21;01mpandas\u001b[39;00m\u001b[38;5;21;01m.\u001b[39;00m\u001b[38;5;21;01m_libs\u001b[39;00m\u001b[38;5;21;01m.\u001b[39;00m\u001b[38;5;21;01mtslibs\u001b[39;00m \u001b[38;5;28;01mimport\u001b[39;00m (\n\u001b[1;32m     15\u001b[0m     NaT,\n\u001b[1;32m     16\u001b[0m     NaTType,\n\u001b[0;32m   (...)\u001b[0m\n\u001b[1;32m     21\u001b[0m     iNaT,\n\u001b[1;32m     22\u001b[0m )\n",
      "File \u001b[0;32m~/code/defi-measurement/venv/lib/python3.11/site-packages/pandas/_libs/interval.pyx:1\u001b[0m, in \u001b[0;36minit pandas._libs.interval\u001b[0;34m()\u001b[0m\n",
      "\u001b[0;31mValueError\u001b[0m: numpy.dtype size changed, may indicate binary incompatibility. Expected 96 from C header, got 88 from PyObject"
     ]
    }
   ],
   "source": [
    "import pandas as pd\n",
    "import polars as pl\n",
    "from v3.state import v3Pool\n",
    "\n",
    "from dotenv import load_dotenv\n",
    "import os\n",
    "\n",
    "load_dotenv()"
   ]
  },
  {
   "cell_type": "code",
   "execution_count": 3,
   "metadata": {},
   "outputs": [
    {
     "data": {
      "text/plain": [
       "'/Users/larsankile/code/defi-measurement'"
      ]
     },
     "execution_count": 3,
     "metadata": {},
     "output_type": "execute_result"
    }
   ],
   "source": [
    "os.environ[\"V3_POLARS_PATH\"]"
   ]
  },
  {
   "cell_type": "code",
   "execution_count": null,
   "metadata": {},
   "outputs": [],
   "source": [
    "df = pd.read_parquet(\"openethdata_eth_data.parquet.gzip\")\n",
    "\n",
    "df.shape"
   ]
  },
  {
   "cell_type": "code",
   "execution_count": 6,
   "metadata": {},
   "outputs": [
    {
     "name": "stdout",
     "output_type": "stream",
     "text": [
      "Using data path /Users/larsankile/code/defi-measurement/data\n",
      "Starting table factory_pool_created\n",
      "shape: (1, 2)\n",
      "┌───────────┬───────────┐\n",
      "│ min_block ┆ max_block │\n",
      "│ ---       ┆ ---       │\n",
      "│ i64       ┆ i64       │\n",
      "╞═══════════╪═══════════╡\n",
      "│ 12369739  ┆ 20249444  │\n",
      "└───────────┴───────────┘\n",
      "Found 12369739 to 20249444\n",
      "Found data - Updated to 20249400 to 20249444\n",
      "Starting at 20249400\n",
      "Going from 20249400 to 20249443\n",
      "No data found for 20249400 to 20249443\n",
      "Starting table pool_initialize_events\n",
      "shape: (1, 2)\n",
      "┌───────────┬───────────┐\n",
      "│ min_block ┆ max_block │\n",
      "│ ---       ┆ ---       │\n",
      "│ i64       ┆ i64       │\n",
      "╞═══════════╪═══════════╡\n",
      "│ 12369739  ┆ 20249444  │\n",
      "└───────────┴───────────┘\n",
      "Found 12369739 to 20249444\n",
      "Found data - Updated to 20249400 to 20249444\n",
      "Starting at 20249400\n",
      "Going from 20249400 to 20249443\n",
      "No data found for 20249400 to 20249443\n",
      "Starting table pool_swap_events\n",
      "shape: (1, 2)\n",
      "┌───────────┬───────────┐\n",
      "│ min_block ┆ max_block │\n",
      "│ ---       ┆ ---       │\n",
      "│ i64       ┆ i64       │\n",
      "╞═══════════╪═══════════╡\n",
      "│ 12369886  ┆ 20249341  │\n",
      "└───────────┴───────────┘\n",
      "Found 12369886 to 20249341\n",
      "Found data - Updated to 20248674 to 20249341\n",
      "Starting at 20248674\n",
      "Going from 20248674 to 20249340\n",
      "Starting at 20249190\n",
      "Going from 20249190 to 20249340\n",
      "No data found for 20249190 to 20249340\n",
      "Starting table pool_mint_burn_events\n",
      "shape: (1, 2)\n",
      "┌───────────┬───────────┐\n",
      "│ min_block ┆ max_block │\n",
      "│ ---       ┆ ---       │\n",
      "│ i64       ┆ i64       │\n",
      "╞═══════════╪═══════════╡\n",
      "│ 12369821  ┆ 20249207  │\n",
      "└───────────┴───────────┘\n",
      "Found 12369821 to 20249207\n",
      "Found data - Updated to 20248857 to 20249207\n",
      "Starting at 20248857\n",
      "Going from 20248857 to 20249206\n",
      "No data found for 20248857 to 20249206\n"
     ]
    }
   ],
   "source": [
    "address = \"0xCBCdF9626bC03E24f779434178A73a0B4bad62eD\"\n",
    "eth = v3Pool(\n",
    "    address,\n",
    "    \"ethereum\",\n",
    "    update=True,\n",
    "    update_from=\"allium\",\n",
    ")"
   ]
  },
  {
   "cell_type": "code",
   "execution_count": 8,
   "metadata": {},
   "outputs": [
    {
     "data": {
      "text/plain": [
       "(29160689, 19)"
      ]
     },
     "execution_count": 8,
     "metadata": {},
     "output_type": "execute_result"
    }
   ],
   "source": [
    "df = pl.read_parquet(\"/Users/larsankile/code/defi-measurement/data/pool_swap_events/*.parquet\")\n",
    "\n",
    "df.shape"
   ]
  },
  {
   "cell_type": "code",
   "execution_count": 9,
   "metadata": {},
   "outputs": [
    {
     "data": {
      "text/plain": [
       "['chain_name',\n",
       " 'address',\n",
       " 'block_timestamp',\n",
       " 'block_number',\n",
       " 'transaction_hash',\n",
       " 'log_index',\n",
       " 'sender',\n",
       " 'recipient',\n",
       " 'amount0',\n",
       " 'amount1',\n",
       " 'sqrtPriceX96',\n",
       " 'liquidity',\n",
       " 'tick',\n",
       " 'to_address',\n",
       " 'from_address',\n",
       " 'transaction_index',\n",
       " 'gas_price',\n",
       " 'gas_used',\n",
       " 'l1_fee']"
      ]
     },
     "execution_count": 9,
     "metadata": {},
     "output_type": "execute_result"
    }
   ],
   "source": [
    "df.columns"
   ]
  },
  {
   "cell_type": "code",
   "execution_count": 11,
   "metadata": {},
   "outputs": [
    {
     "data": {
      "text/plain": [
       "20083"
      ]
     },
     "execution_count": 11,
     "metadata": {},
     "output_type": "execute_result"
    }
   ],
   "source": [
    "# Get the number of unique pool addresses in the dataset\n",
    "df.select(\"address\").n_unique()"
   ]
  },
  {
   "cell_type": "code",
   "execution_count": 16,
   "metadata": {},
   "outputs": [
    {
     "data": {
      "text/plain": [
       "['0x84ea2e00fd6c4d08e88c5f59265b79de530bea0b',\n",
       " '0x5764a6f2212d502bc5970f9f129ffcd61e5d7563',\n",
       " '0xcd9dab5e666de980cecdc180cb31f296733e2587',\n",
       " '0x381fe4eb128db1621647ca00965da3f9e09f4fac',\n",
       " '0x5764a6f2212d502bc5970f9f129ffcd61e5d7563',\n",
       " '0x5764a6f2212d502bc5970f9f129ffcd61e5d7563',\n",
       " '0x5764a6f2212d502bc5970f9f129ffcd61e5d7563',\n",
       " '0xe0e1b825474ae06e7e932e214a735640c9bc3e71',\n",
       " '0x5764a6f2212d502bc5970f9f129ffcd61e5d7563',\n",
       " '0x5764a6f2212d502bc5970f9f129ffcd61e5d7563']"
      ]
     },
     "execution_count": 16,
     "metadata": {},
     "output_type": "execute_result"
    }
   ],
   "source": [
    "df.get_column(\"address\")[:10].to_list()"
   ]
  },
  {
   "cell_type": "markdown",
   "metadata": {},
   "source": [
    "# Look at metrics calculated with the new simulation code\n"
   ]
  },
  {
   "cell_type": "code",
   "execution_count": 1,
   "metadata": {},
   "outputs": [],
   "source": [
    "import polars as pl\n"
   ]
  },
  {
   "cell_type": "code",
   "execution_count": 2,
   "metadata": {},
   "outputs": [
    {
     "data": {
      "text/plain": [
       "(8100, 22)"
      ]
     },
     "execution_count": 2,
     "metadata": {},
     "output_type": "execute_result"
    }
   ],
   "source": [
    "metrics = pl.read_parquet(\"/Users/larsankile/code/defi-measurement/data/pool_block_metrics/*.parquet\")\n",
    "\n",
    "metrics.shape"
   ]
  },
  {
   "cell_type": "code",
   "execution_count": 4,
   "metadata": {},
   "outputs": [
    {
     "data": {
      "text/html": [
       "<div><style>\n",
       ".dataframe > thead > tr,\n",
       ".dataframe > tbody > tr {\n",
       "  text-align: right;\n",
       "  white-space: pre-wrap;\n",
       "}\n",
       "</style>\n",
       "<small>shape: (169, 22)</small><table border=\"1\" class=\"dataframe\"><thead><tr><th>block_number</th><th>pool_address</th><th>num_transactions</th><th>n_buys</th><th>n_sells</th><th>baseline_price</th><th>created_at</th><th>mev_boost</th><th>mev_boost_amount</th><th>realized_order</th><th>realized_prices</th><th>realized_l1</th><th>realized_l2</th><th>realized_linf</th><th>volume_heur_order</th><th>volume_heur_prices</th><th>volume_heur_l1</th><th>volume_heur_l2</th><th>volume_heur_linf</th><th>tstar_l1</th><th>tstar_l2</th><th>tstar_linf</th></tr><tr><td>i64</td><td>str</td><td>i64</td><td>i64</td><td>i64</td><td>f64</td><td>datetime[μs]</td><td>bool</td><td>f64</td><td>list[str]</td><td>list[f64]</td><td>f64</td><td>f64</td><td>f64</td><td>list[str]</td><td>list[f64]</td><td>f64</td><td>f64</td><td>f64</td><td>f64</td><td>f64</td><td>f64</td></tr></thead><tbody><tr><td>16618585</td><td>&quot;0x00cef0386ed94d738c8f8a74e8bf…</td><td>3</td><td>3</td><td>0</td><td>1.5938e-58</td><td>2024-07-07 17:53:39.256522</td><td>true</td><td>0.072646</td><td>[&quot;056_147&quot;, &quot;061_168&quot;, &quot;065_177&quot;]</td><td>[1.000454, 1.000454, 1.000454]</td><td>3.001363</td><td>1.732838</td><td>1.000454</td><td>[&quot;065_177&quot;, &quot;061_168&quot;, &quot;056_147&quot;]</td><td>[1.000454, 1.000454, 1.000454]</td><td>3.001363</td><td>1.732838</td><td>1.000454</td><td>3.001363</td><td>1.732838</td><td>1.000454</td></tr><tr><td>16619653</td><td>&quot;0x00cef0386ed94d738c8f8a74e8bf…</td><td>3</td><td>2</td><td>1</td><td>1.5946e-58</td><td>2024-07-07 17:53:39.589544</td><td>true</td><td>0.081305</td><td>[&quot;002_008&quot;, &quot;003_012&quot;, &quot;004_027&quot;]</td><td>[1.000964, 1.000964, 1.000964]</td><td>3.002892</td><td>1.73372</td><td>1.000964</td><td>[&quot;004_027&quot;, &quot;002_008&quot;, &quot;003_012&quot;]</td><td>[1.000964, 1.000964, 1.000964]</td><td>3.002892</td><td>1.73372</td><td>1.000964</td><td>3.002892</td><td>1.73372</td><td>1.000964</td></tr><tr><td>16618585</td><td>&quot;0x00cef0386ed94d738c8f8a74e8bf…</td><td>3</td><td>3</td><td>0</td><td>1.5938e-58</td><td>2024-07-07 17:56:07.669051</td><td>true</td><td>0.072646</td><td>[&quot;056_147&quot;, &quot;061_168&quot;, &quot;065_177&quot;]</td><td>[1.000454, 1.000454, 1.000454]</td><td>3.001363</td><td>1.732838</td><td>1.000454</td><td>[&quot;065_177&quot;, &quot;061_168&quot;, &quot;056_147&quot;]</td><td>[1.000454, 1.000454, 1.000454]</td><td>3.001363</td><td>1.732838</td><td>1.000454</td><td>3.001363</td><td>1.732838</td><td>1.000454</td></tr><tr><td>16619653</td><td>&quot;0x00cef0386ed94d738c8f8a74e8bf…</td><td>3</td><td>2</td><td>1</td><td>1.5946e-58</td><td>2024-07-07 17:56:07.990251</td><td>true</td><td>0.081305</td><td>[&quot;002_008&quot;, &quot;003_012&quot;, &quot;004_027&quot;]</td><td>[1.000964, 1.000964, 1.000964]</td><td>3.002892</td><td>1.73372</td><td>1.000964</td><td>[&quot;004_027&quot;, &quot;002_008&quot;, &quot;003_012&quot;]</td><td>[1.000964, 1.000964, 1.000964]</td><td>3.002892</td><td>1.73372</td><td>1.000964</td><td>3.002892</td><td>1.73372</td><td>1.000964</td></tr><tr><td>16620698</td><td>&quot;0x00cef0386ed94d738c8f8a74e8bf…</td><td>4</td><td>3</td><td>1</td><td>1.5947e-58</td><td>2024-07-07 17:56:08.403517</td><td>true</td><td>1.815118</td><td>[&quot;000_002&quot;, &quot;001_012&quot;, … &quot;028_050&quot;]</td><td>[1.001024, 1.001024, … 1.001024]</td><td>4.004096</td><td>2.002048</td><td>1.001024</td><td>[&quot;000_002&quot;, &quot;028_050&quot;, … &quot;002_028&quot;]</td><td>[1.001024, 1.001024, … 1.001024]</td><td>4.004096</td><td>2.002048</td><td>1.001024</td><td>4.004096</td><td>2.002048</td><td>1.001024</td></tr><tr><td>&hellip;</td><td>&hellip;</td><td>&hellip;</td><td>&hellip;</td><td>&hellip;</td><td>&hellip;</td><td>&hellip;</td><td>&hellip;</td><td>&hellip;</td><td>&hellip;</td><td>&hellip;</td><td>&hellip;</td><td>&hellip;</td><td>&hellip;</td><td>&hellip;</td><td>&hellip;</td><td>&hellip;</td><td>&hellip;</td><td>&hellip;</td><td>&hellip;</td><td>&hellip;</td><td>&hellip;</td></tr><tr><td>17051941</td><td>&quot;0x02469e30dd450de2e9de00d49d67…</td><td>5</td><td>2</td><td>3</td><td>2.4677e-55</td><td>2024-07-07 18:46:37.079515</td><td>true</td><td>0.027281</td><td>[&quot;000_006&quot;, &quot;001_010&quot;, … &quot;082_144&quot;]</td><td>[1549.014272, 1549.014272, … 1549.014272]</td><td>7745.071359</td><td>3463.70121</td><td>1549.014272</td><td>[&quot;000_006&quot;, &quot;002_024&quot;, … &quot;001_010&quot;]</td><td>[1549.014272, 1549.014272, … 1549.014272]</td><td>7745.071359</td><td>3463.70121</td><td>1549.014272</td><td>7745.071359</td><td>3463.70121</td><td>1549.014272</td></tr><tr><td>17367302</td><td>&quot;0x02469e30dd450de2e9de00d49d67…</td><td>3</td><td>2</td><td>1</td><td>2.1987e-55</td><td>2024-07-07 18:46:38.191979</td><td>true</td><td>0.164479</td><td>[&quot;007_053&quot;, &quot;008_057&quot;, &quot;009_066&quot;]</td><td>[1380.129355, 1380.129355, 1380.129355]</td><td>4140.388064</td><td>2390.454163</td><td>1380.129355</td><td>[&quot;009_066&quot;, &quot;007_053&quot;, &quot;008_057&quot;]</td><td>[1380.129355, 1380.129355, 1380.129355]</td><td>4140.388064</td><td>2390.454163</td><td>1380.129355</td><td>4140.388064</td><td>2390.454163</td><td>1380.129355</td></tr><tr><td>17620351</td><td>&quot;0x02469e30dd450de2e9de00d49d67…</td><td>5</td><td>2</td><td>3</td><td>2.1749e-55</td><td>2024-07-07 18:46:39.023472</td><td>true</td><td>1.342744</td><td>[&quot;001_011&quot;, &quot;002_017&quot;, … &quot;154_439&quot;]</td><td>[1365.191856, 1365.191856, … 1365.191856]</td><td>6825.959281</td><td>3052.661793</td><td>1365.191856</td><td>[&quot;002_017&quot;, &quot;153_434&quot;, … &quot;001_011&quot;]</td><td>[1365.191856, 1365.191856, … 1365.191856]</td><td>6825.959281</td><td>3052.661793</td><td>1365.191856</td><td>6825.959281</td><td>3052.661793</td><td>1365.191856</td></tr><tr><td>17679912</td><td>&quot;0x02469e30dd450de2e9de00d49d67…</td><td>3</td><td>2</td><td>1</td><td>2.1384e-55</td><td>2024-07-07 18:46:39.300189</td><td>true</td><td>0.036106</td><td>[&quot;001_008&quot;, &quot;002_011&quot;, &quot;003_018&quot;]</td><td>[1342.316258, 1342.316258, 1342.316258]</td><td>4026.948774</td><td>2324.959959</td><td>1342.316258</td><td>[&quot;001_008&quot;, &quot;002_011&quot;, &quot;003_018&quot;]</td><td>[1342.316258, 1342.316258, 1342.316258]</td><td>4026.948774</td><td>2324.959959</td><td>1342.316258</td><td>4026.948774</td><td>2324.959959</td><td>1342.316258</td></tr><tr><td>17679918</td><td>&quot;0x02469e30dd450de2e9de00d49d67…</td><td>5</td><td>3</td><td>2</td><td>2.0870e-55</td><td>2024-07-07 18:46:39.314057</td><td>true</td><td>0.069681</td><td>[&quot;000_002&quot;, &quot;001_011&quot;, … &quot;006_056&quot;]</td><td>[1310.035468, 1310.035468, … 1310.035468]</td><td>6550.17734</td><td>2929.328359</td><td>1310.035468</td><td>[&quot;000_002&quot;, &quot;001_011&quot;, … &quot;004_025&quot;]</td><td>[1310.035468, 1310.035468, … 1310.035468]</td><td>6550.17734</td><td>2929.328359</td><td>1310.035468</td><td>6550.17734</td><td>2929.328359</td><td>1310.035468</td></tr></tbody></table></div>"
      ],
      "text/plain": [
       "shape: (169, 22)\n",
       "┌────────────┬────────────┬───────────┬────────┬───┬───────────┬───────────┬───────────┬───────────┐\n",
       "│ block_numb ┆ pool_addre ┆ num_trans ┆ n_buys ┆ … ┆ volume_he ┆ tstar_l1  ┆ tstar_l2  ┆ tstar_lin │\n",
       "│ er         ┆ ss         ┆ actions   ┆ ---    ┆   ┆ ur_linf   ┆ ---       ┆ ---       ┆ f         │\n",
       "│ ---        ┆ ---        ┆ ---       ┆ i64    ┆   ┆ ---       ┆ f64       ┆ f64       ┆ ---       │\n",
       "│ i64        ┆ str        ┆ i64       ┆        ┆   ┆ f64       ┆           ┆           ┆ f64       │\n",
       "╞════════════╪════════════╪═══════════╪════════╪═══╪═══════════╪═══════════╪═══════════╪═══════════╡\n",
       "│ 16618585   ┆ 0x00cef038 ┆ 3         ┆ 3      ┆ … ┆ 1.000454  ┆ 3.001363  ┆ 1.732838  ┆ 1.000454  │\n",
       "│            ┆ 6ed94d738c ┆           ┆        ┆   ┆           ┆           ┆           ┆           │\n",
       "│            ┆ 8f8a74e8bf ┆           ┆        ┆   ┆           ┆           ┆           ┆           │\n",
       "│            ┆ …          ┆           ┆        ┆   ┆           ┆           ┆           ┆           │\n",
       "│ 16619653   ┆ 0x00cef038 ┆ 3         ┆ 2      ┆ … ┆ 1.000964  ┆ 3.002892  ┆ 1.73372   ┆ 1.000964  │\n",
       "│            ┆ 6ed94d738c ┆           ┆        ┆   ┆           ┆           ┆           ┆           │\n",
       "│            ┆ 8f8a74e8bf ┆           ┆        ┆   ┆           ┆           ┆           ┆           │\n",
       "│            ┆ …          ┆           ┆        ┆   ┆           ┆           ┆           ┆           │\n",
       "│ 16618585   ┆ 0x00cef038 ┆ 3         ┆ 3      ┆ … ┆ 1.000454  ┆ 3.001363  ┆ 1.732838  ┆ 1.000454  │\n",
       "│            ┆ 6ed94d738c ┆           ┆        ┆   ┆           ┆           ┆           ┆           │\n",
       "│            ┆ 8f8a74e8bf ┆           ┆        ┆   ┆           ┆           ┆           ┆           │\n",
       "│            ┆ …          ┆           ┆        ┆   ┆           ┆           ┆           ┆           │\n",
       "│ 16619653   ┆ 0x00cef038 ┆ 3         ┆ 2      ┆ … ┆ 1.000964  ┆ 3.002892  ┆ 1.73372   ┆ 1.000964  │\n",
       "│            ┆ 6ed94d738c ┆           ┆        ┆   ┆           ┆           ┆           ┆           │\n",
       "│            ┆ 8f8a74e8bf ┆           ┆        ┆   ┆           ┆           ┆           ┆           │\n",
       "│            ┆ …          ┆           ┆        ┆   ┆           ┆           ┆           ┆           │\n",
       "│ 16620698   ┆ 0x00cef038 ┆ 4         ┆ 3      ┆ … ┆ 1.001024  ┆ 4.004096  ┆ 2.002048  ┆ 1.001024  │\n",
       "│            ┆ 6ed94d738c ┆           ┆        ┆   ┆           ┆           ┆           ┆           │\n",
       "│            ┆ 8f8a74e8bf ┆           ┆        ┆   ┆           ┆           ┆           ┆           │\n",
       "│            ┆ …          ┆           ┆        ┆   ┆           ┆           ┆           ┆           │\n",
       "│ …          ┆ …          ┆ …         ┆ …      ┆ … ┆ …         ┆ …         ┆ …         ┆ …         │\n",
       "│ 17051941   ┆ 0x02469e30 ┆ 5         ┆ 2      ┆ … ┆ 1549.0142 ┆ 7745.0713 ┆ 3463.7012 ┆ 1549.0142 │\n",
       "│            ┆ dd450de2e9 ┆           ┆        ┆   ┆ 72        ┆ 59        ┆ 1         ┆ 72        │\n",
       "│            ┆ de00d49d67 ┆           ┆        ┆   ┆           ┆           ┆           ┆           │\n",
       "│            ┆ …          ┆           ┆        ┆   ┆           ┆           ┆           ┆           │\n",
       "│ 17367302   ┆ 0x02469e30 ┆ 3         ┆ 2      ┆ … ┆ 1380.1293 ┆ 4140.3880 ┆ 2390.4541 ┆ 1380.1293 │\n",
       "│            ┆ dd450de2e9 ┆           ┆        ┆   ┆ 55        ┆ 64        ┆ 63        ┆ 55        │\n",
       "│            ┆ de00d49d67 ┆           ┆        ┆   ┆           ┆           ┆           ┆           │\n",
       "│            ┆ …          ┆           ┆        ┆   ┆           ┆           ┆           ┆           │\n",
       "│ 17620351   ┆ 0x02469e30 ┆ 5         ┆ 2      ┆ … ┆ 1365.1918 ┆ 6825.9592 ┆ 3052.6617 ┆ 1365.1918 │\n",
       "│            ┆ dd450de2e9 ┆           ┆        ┆   ┆ 56        ┆ 81        ┆ 93        ┆ 56        │\n",
       "│            ┆ de00d49d67 ┆           ┆        ┆   ┆           ┆           ┆           ┆           │\n",
       "│            ┆ …          ┆           ┆        ┆   ┆           ┆           ┆           ┆           │\n",
       "│ 17679912   ┆ 0x02469e30 ┆ 3         ┆ 2      ┆ … ┆ 1342.3162 ┆ 4026.9487 ┆ 2324.9599 ┆ 1342.3162 │\n",
       "│            ┆ dd450de2e9 ┆           ┆        ┆   ┆ 58        ┆ 74        ┆ 59        ┆ 58        │\n",
       "│            ┆ de00d49d67 ┆           ┆        ┆   ┆           ┆           ┆           ┆           │\n",
       "│            ┆ …          ┆           ┆        ┆   ┆           ┆           ┆           ┆           │\n",
       "│ 17679918   ┆ 0x02469e30 ┆ 5         ┆ 3      ┆ … ┆ 1310.0354 ┆ 6550.1773 ┆ 2929.3283 ┆ 1310.0354 │\n",
       "│            ┆ dd450de2e9 ┆           ┆        ┆   ┆ 68        ┆ 4         ┆ 59        ┆ 68        │\n",
       "│            ┆ de00d49d67 ┆           ┆        ┆   ┆           ┆           ┆           ┆           │\n",
       "│            ┆ …          ┆           ┆        ┆   ┆           ┆           ┆           ┆           │\n",
       "└────────────┴────────────┴───────────┴────────┴───┴───────────┴───────────┴───────────┴───────────┘"
      ]
     },
     "execution_count": 4,
     "metadata": {},
     "output_type": "execute_result"
    }
   ],
   "source": [
    "metrics.filter(pl.col(\"num_transactions\") > 2)"
   ]
  },
  {
   "cell_type": "code",
   "execution_count": null,
   "metadata": {},
   "outputs": [],
   "source": []
  }
 ],
 "metadata": {
  "kernelspec": {
   "display_name": "venv",
   "language": "python",
   "name": "python3"
  },
  "language_info": {
   "codemirror_mode": {
    "name": "ipython",
    "version": 3
   },
   "file_extension": ".py",
   "mimetype": "text/x-python",
   "name": "python",
   "nbconvert_exporter": "python",
   "pygments_lexer": "ipython3",
   "version": "3.11.9"
  }
 },
 "nbformat": 4,
 "nbformat_minor": 2
}
