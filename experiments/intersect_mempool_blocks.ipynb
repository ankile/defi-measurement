{
 "cells": [
  {
   "cell_type": "code",
   "execution_count": 22,
   "metadata": {
    "notebookRunGroups": {
     "groupValue": "1"
    }
   },
   "outputs": [],
   "source": [
    "import json\n",
    "\n",
    "from web3 import Web3\n",
    "import pandas as pd\n",
    "\n",
    "from datetime import datetime\n",
    "\n",
    "import matplotlib.pyplot as plt\n",
    "import bisect\n",
    "\n",
    "# Import python dotenv\n",
    "from dotenv import load_dotenv\n",
    "import numpy as np\n",
    "import os\n",
    "\n",
    "from operator import itemgetter\n",
    "\n",
    "# Import mongodb client\n",
    "from pymongo import MongoClient, UpdateOne, DESCENDING, ASCENDING, InsertOne, DeleteOne\n",
    "\n",
    "from multiprocessing.pool import Pool\n",
    "from functools import reduce\n",
    "from tqdm import tqdm, trange"
   ]
  },
  {
   "cell_type": "code",
   "execution_count": 3,
   "metadata": {},
   "outputs": [
    {
     "data": {
      "text/plain": [
       "376042"
      ]
     },
     "execution_count": 3,
     "metadata": {},
     "output_type": "execute_result"
    }
   ],
   "source": [
    "\n",
    "load_dotenv()\n",
    "# Connect to local node\n",
    "w3 = Web3(Web3.HTTPProvider('http://localhost:8545'))\n",
    "\n",
    "\n",
    "# Connect to mongodb\n",
    "client = MongoClient(os.getenv(\"MONGO_URI\"))\n",
    "\n",
    "# Get database\n",
    "mempool = client.transactions.mempool\n",
    "\n",
    "mempool.estimated_document_count()"
   ]
  },
  {
   "cell_type": "code",
   "execution_count": 43,
   "metadata": {},
   "outputs": [
    {
     "data": {
      "text/plain": [
       "17495345"
      ]
     },
     "execution_count": 43,
     "metadata": {},
     "output_type": "execute_result"
    }
   ],
   "source": [
    "# What's the oldest transaction we have from the mempool?\n",
    "tx_hash = mempool.find_one(sort=[(\"timestamp\", ASCENDING)])[\"hash\"]\n",
    "\n",
    "# Get the block number of the oldest transaction\n",
    "block_number = w3.eth.get_transaction(tx_hash)[\"blockNumber\"]\n",
    "\n",
    "block_number"
   ]
  },
  {
   "cell_type": "code",
   "execution_count": 13,
   "metadata": {
    "notebookRunGroups": {
     "groupValue": "1"
    }
   },
   "outputs": [
    {
     "data": {
      "application/vnd.jupyter.widget-view+json": {
       "model_id": "35925555426b4e99aa9fce092367d5d3",
       "version_major": 2,
       "version_minor": 0
      },
      "text/plain": [
       "  0%|          | 0/100000 [00:00<?, ?it/s]"
      ]
     },
     "metadata": {},
     "output_type": "display_data"
    }
   ],
   "source": [
    "# Get the {limit} most recent transactions\n",
    "limit = 100_000\n",
    "mempool_transactions = mempool.find(sort=[('ts', DESCENDING)], limit=limit)\n",
    "mempool_transactions = list(tqdm(mempool_transactions, total=limit))"
   ]
  },
  {
   "cell_type": "code",
   "execution_count": 5,
   "metadata": {},
   "outputs": [
    {
     "name": "stdout",
     "output_type": "stream",
     "text": [
      "Index(['_id', 'hash', 'type', 'accessList', 'blockHash', 'blockNumber',\n",
      "       'transactionIndex', 'confirmations', 'from', 'gasPrice',\n",
      "       'maxPriorityFeePerGas', 'maxFeePerGas', 'gasLimit', 'to', 'value',\n",
      "       'nonce', 'data', 'r', 's', 'v', 'creates', 'chainId', 'routerContract',\n",
      "       'ts', 'timestamp', 'gasPriceRaw', 'gasLimitRaw', 'toChecksummed',\n",
      "       'totalTransactionsSeen', 'uniswapTransactionCount',\n",
      "       'uniswapShareOfTotal', 'formattedDate'],\n",
      "      dtype='object')\n",
      "(100000, 32)\n"
     ]
    },
    {
     "data": {
      "text/html": [
       "<div>\n",
       "<style scoped>\n",
       "    .dataframe tbody tr th:only-of-type {\n",
       "        vertical-align: middle;\n",
       "    }\n",
       "\n",
       "    .dataframe tbody tr th {\n",
       "        vertical-align: top;\n",
       "    }\n",
       "\n",
       "    .dataframe thead th {\n",
       "        text-align: right;\n",
       "    }\n",
       "</style>\n",
       "<table border=\"1\" class=\"dataframe\">\n",
       "  <thead>\n",
       "    <tr style=\"text-align: right;\">\n",
       "      <th></th>\n",
       "      <th>hash</th>\n",
       "      <th>ts</th>\n",
       "      <th>gasPrice</th>\n",
       "      <th>routerContract</th>\n",
       "      <th>value</th>\n",
       "      <th>from</th>\n",
       "      <th>to</th>\n",
       "    </tr>\n",
       "  </thead>\n",
       "  <tbody>\n",
       "    <tr>\n",
       "      <th>0</th>\n",
       "      <td>0x9b3e2578c470bb0a7d7a1df7cccded35a7ef174fea10...</td>\n",
       "      <td>2023-06-23 19:18:18.678</td>\n",
       "      <td>30.318008</td>\n",
       "      <td>UniversalRouter02</td>\n",
       "      <td>{'_hex': '0x04ce2006a1261f54', '_isBigNumber':...</td>\n",
       "      <td>0x3361475AD16dFb56367755C103475c2d02d53938</td>\n",
       "      <td>0x3fC91A3afd70395Cd496C647d5a6CC9D4B2b7FAD</td>\n",
       "    </tr>\n",
       "    <tr>\n",
       "      <th>1</th>\n",
       "      <td>0x32d5dca77e51b3ea1434aae97a28aa70a3c0de97bf6e...</td>\n",
       "      <td>2023-06-23 19:18:17.122</td>\n",
       "      <td>22.746484</td>\n",
       "      <td>UniversalRouter02</td>\n",
       "      <td>{'_hex': '0x00', '_isBigNumber': True}</td>\n",
       "      <td>0xc282d549e106FDeA2f2635466548192E161C261e</td>\n",
       "      <td>0x3fC91A3afd70395Cd496C647d5a6CC9D4B2b7FAD</td>\n",
       "    </tr>\n",
       "    <tr>\n",
       "      <th>2</th>\n",
       "      <td>0xb908fcb9a21030f7aebffec049091c015e6f1608610e...</td>\n",
       "      <td>2023-06-23 19:18:16.604</td>\n",
       "      <td>29.277980</td>\n",
       "      <td>UniversalRouter02</td>\n",
       "      <td>{'_hex': '0x0853a0d2313c0000', '_isBigNumber':...</td>\n",
       "      <td>0x4e477e060E1404fcec97f08FF5Be05b869c1DAed</td>\n",
       "      <td>0x3fC91A3afd70395Cd496C647d5a6CC9D4B2b7FAD</td>\n",
       "    </tr>\n",
       "    <tr>\n",
       "      <th>3</th>\n",
       "      <td>0x45126ebc803f8c53ba80fbd9b2eb6a1e5bc4d0b3479d...</td>\n",
       "      <td>2023-06-23 19:18:16.209</td>\n",
       "      <td>52.000000</td>\n",
       "      <td>UniswapV2Router02</td>\n",
       "      <td>{'_hex': '0x044d575b885f0000', '_isBigNumber':...</td>\n",
       "      <td>0x8F8097A2aF8EcB317f05ff284069afaA87763952</td>\n",
       "      <td>0x7a250d5630B4cF539739dF2C5dAcb4c659F2488D</td>\n",
       "    </tr>\n",
       "    <tr>\n",
       "      <th>4</th>\n",
       "      <td>0x3b89206a0a5ddc05a9f086b9d814d75968f60f7f65bc...</td>\n",
       "      <td>2023-06-23 19:18:15.777</td>\n",
       "      <td>26.935982</td>\n",
       "      <td>UniversalRouter02</td>\n",
       "      <td>{'_hex': '0x01d300bcd11635d2', '_isBigNumber':...</td>\n",
       "      <td>0x9c22cebB76ed68d241e2515D3fC0B0500C7Cb4b7</td>\n",
       "      <td>0x3fC91A3afd70395Cd496C647d5a6CC9D4B2b7FAD</td>\n",
       "    </tr>\n",
       "  </tbody>\n",
       "</table>\n",
       "</div>"
      ],
      "text/plain": [
       "                                                hash                      ts  \\\n",
       "0  0x9b3e2578c470bb0a7d7a1df7cccded35a7ef174fea10... 2023-06-23 19:18:18.678   \n",
       "1  0x32d5dca77e51b3ea1434aae97a28aa70a3c0de97bf6e... 2023-06-23 19:18:17.122   \n",
       "2  0xb908fcb9a21030f7aebffec049091c015e6f1608610e... 2023-06-23 19:18:16.604   \n",
       "3  0x45126ebc803f8c53ba80fbd9b2eb6a1e5bc4d0b3479d... 2023-06-23 19:18:16.209   \n",
       "4  0x3b89206a0a5ddc05a9f086b9d814d75968f60f7f65bc... 2023-06-23 19:18:15.777   \n",
       "\n",
       "    gasPrice     routerContract  \\\n",
       "0  30.318008  UniversalRouter02   \n",
       "1  22.746484  UniversalRouter02   \n",
       "2  29.277980  UniversalRouter02   \n",
       "3  52.000000  UniswapV2Router02   \n",
       "4  26.935982  UniversalRouter02   \n",
       "\n",
       "                                               value  \\\n",
       "0  {'_hex': '0x04ce2006a1261f54', '_isBigNumber':...   \n",
       "1             {'_hex': '0x00', '_isBigNumber': True}   \n",
       "2  {'_hex': '0x0853a0d2313c0000', '_isBigNumber':...   \n",
       "3  {'_hex': '0x044d575b885f0000', '_isBigNumber':...   \n",
       "4  {'_hex': '0x01d300bcd11635d2', '_isBigNumber':...   \n",
       "\n",
       "                                         from  \\\n",
       "0  0x3361475AD16dFb56367755C103475c2d02d53938   \n",
       "1  0xc282d549e106FDeA2f2635466548192E161C261e   \n",
       "2  0x4e477e060E1404fcec97f08FF5Be05b869c1DAed   \n",
       "3  0x8F8097A2aF8EcB317f05ff284069afaA87763952   \n",
       "4  0x9c22cebB76ed68d241e2515D3fC0B0500C7Cb4b7   \n",
       "\n",
       "                                           to  \n",
       "0  0x3fC91A3afd70395Cd496C647d5a6CC9D4B2b7FAD  \n",
       "1  0x3fC91A3afd70395Cd496C647d5a6CC9D4B2b7FAD  \n",
       "2  0x3fC91A3afd70395Cd496C647d5a6CC9D4B2b7FAD  \n",
       "3  0x7a250d5630B4cF539739dF2C5dAcb4c659F2488D  \n",
       "4  0x3fC91A3afd70395Cd496C647d5a6CC9D4B2b7FAD  "
      ]
     },
     "execution_count": 5,
     "metadata": {},
     "output_type": "execute_result"
    }
   ],
   "source": [
    "cols_of_interest = [\n",
    "    'hash',\n",
    "    'ts',\n",
    "    'gasPrice',\n",
    "    'routerContract',\n",
    "    'value',\n",
    "    'from',\n",
    "    'to',\n",
    "]\n",
    "\n",
    "# Convert to dataframe\n",
    "df = pd.DataFrame(mempool_transactions)\n",
    "print(df.columns)\n",
    "print(df.shape)\n",
    "df = df[cols_of_interest]\n",
    "df.head()"
   ]
  },
  {
   "cell_type": "code",
   "execution_count": 6,
   "metadata": {},
   "outputs": [
    {
     "data": {
      "text/plain": [
       "Timestamp('2023-06-22 17:27:04.392000')"
      ]
     },
     "execution_count": 6,
     "metadata": {},
     "output_type": "execute_result"
    }
   ],
   "source": [
    "# Find the oldest timestamp in the list of transactions\n",
    "oldest_ts = df['ts'].min()\n",
    "\n",
    "oldest_ts"
   ]
  },
  {
   "cell_type": "code",
   "execution_count": 7,
   "metadata": {},
   "outputs": [],
   "source": [
    "# Get latest block\n",
    "latest_block = w3.eth.get_block('latest')\n",
    "\n",
    "assert latest_block and 'number' in latest_block\n",
    "\n",
    "blocknumber = latest_block['number']"
   ]
  },
  {
   "cell_type": "code",
   "execution_count": 9,
   "metadata": {},
   "outputs": [
    {
     "data": {
      "text/plain": [
       "(17536636, datetime.datetime(2023, 6, 22, 17, 27, 11))"
      ]
     },
     "execution_count": 9,
     "metadata": {},
     "output_type": "execute_result"
    }
   ],
   "source": [
    "# Iterate backwards from latest block to oldest block until we find the block that is older than the oldest transaction in the mempool\n",
    "blocknumber = bisect.bisect_right(list(range(0, blocknumber)), oldest_ts.timestamp(), key=lambda x: w3.eth.get_block(x)['timestamp'])\n",
    "\n",
    "blocknumber, datetime.fromtimestamp(w3.eth.get_block(blocknumber)['timestamp'])"
   ]
  },
  {
   "cell_type": "code",
   "execution_count": 10,
   "metadata": {},
   "outputs": [
    {
     "data": {
      "application/vnd.jupyter.widget-view+json": {
       "model_id": "2c247efd2a97446197d0fc87964ea687",
       "version_major": 2,
       "version_minor": 0
      },
      "text/plain": [
       "  0%|          | 0/7665 [00:00<?, ?it/s]"
      ]
     },
     "metadata": {},
     "output_type": "display_data"
    },
    {
     "name": "stdout",
     "output_type": "stream",
     "text": [
      "Found 1,136,638 transactions in 7,665 blocks\n"
     ]
    }
   ],
   "source": [
    "# Get all transactions in all blocks from `blocknumber` to `latest_block`\n",
    "\n",
    "# Guardrail\n",
    "assert latest_block and 'number' in latest_block\n",
    "\n",
    "block_transactions = []\n",
    "blocks = []\n",
    "for i in trange(blocknumber, latest_block['number'] + 1):\n",
    "    block = w3.eth.get_block(i)\n",
    "    blocks.append(block)\n",
    "    if not 'transactions' in block:\n",
    "        continue\n",
    "\n",
    "    for tx in block['transactions']:\n",
    "        block_transactions.append(Web3.to_hex(tx))\n",
    "\n",
    "\n",
    "print(f\"Found {len(block_transactions):,} transactions in {len(blocks):,} blocks\")"
   ]
  },
  {
   "cell_type": "code",
   "execution_count": 25,
   "metadata": {},
   "outputs": [
    {
     "data": {
      "text/plain": [
       "['0xadcab3d7876583ee95b5b2c85a022ab6793fcd52b57463ca125d537ad1b700c7',\n",
       " '0xa963ce2e76e4a1a44165a1bd4ee945aa49c7c013ed106770ad915a65b6be9c63',\n",
       " '0xdbb21a39a3bae4daa8907860815a4d521c0044f5d5eb60a7a380e69f97a1304a',\n",
       " '0x31044094bc7c132084fb8664f3085a26766c6718f87d695e0f32b8cd64ea55dd',\n",
       " '0x5803bc81c33f6b7f69411d4858fb0d2870a4676ad8d6c1b6924f0d8cd1ed3040']"
      ]
     },
     "execution_count": 25,
     "metadata": {},
     "output_type": "execute_result"
    }
   ],
   "source": [
    "# Print example transactions hashes\n",
    "block_transactions[:5]"
   ]
  },
  {
   "cell_type": "code",
   "execution_count": 27,
   "metadata": {},
   "outputs": [
    {
     "data": {
      "text/plain": [
       "{'0xf164fC0Ec4E93095b804a4795bBe1e041497b92a': 'UniswapV2Router01',\n",
       " '0x7a250d5630B4cF539739dF2C5dAcb4c659F2488D': 'UniswapV2Router02',\n",
       " '0xE592427A0AEce92De3Edee1F18E0157C05861564': 'UniswapV3Router01',\n",
       " '0x68b3465833fb72A70ecDF485E0e4C7bD8665Fc45': 'UniswapV3Router02',\n",
       " '0xEf1c6E67703c7BD7107eed8303Fbe6EC2554BF6B': 'UniversalRouter01',\n",
       " '0x3fC91A3afd70395Cd496C647d5a6CC9D4B2b7FAD': 'UniversalRouter02'}"
      ]
     },
     "execution_count": 27,
     "metadata": {},
     "output_type": "execute_result"
    }
   ],
   "source": [
    "# Load in the router addresses from the router_addresses.json file\n",
    "with open('addresses/router_addresses.json', 'r') as f:\n",
    "    router_addresses = json.load(f)\n",
    "\n",
    "router_addresses"
   ]
  },
  {
   "cell_type": "code",
   "execution_count": 29,
   "metadata": {},
   "outputs": [
    {
     "name": "stderr",
     "output_type": "stream",
     "text": [
      "  1%|▏         | 15222/1174164 [00:49<1:02:38, 308.35it/s]\n"
     ]
    },
    {
     "ename": "KeyboardInterrupt",
     "evalue": "",
     "output_type": "error",
     "traceback": [
      "\u001b[0;31m---------------------------------------------------------------------------\u001b[0m",
      "\u001b[0;31mKeyboardInterrupt\u001b[0m                         Traceback (most recent call last)",
      "Cell \u001b[0;32mIn[29], line 5\u001b[0m\n\u001b[1;32m      2\u001b[0m router_transactions \u001b[39m=\u001b[39m []\n\u001b[1;32m      4\u001b[0m \u001b[39mfor\u001b[39;00m tx \u001b[39min\u001b[39;00m tqdm(block_transactions):\n\u001b[0;32m----> 5\u001b[0m     tx \u001b[39m=\u001b[39m w3\u001b[39m.\u001b[39;49meth\u001b[39m.\u001b[39;49mget_transaction(tx)\n\u001b[1;32m      6\u001b[0m     \u001b[39mif\u001b[39;00m \u001b[39m'\u001b[39m\u001b[39mto\u001b[39m\u001b[39m'\u001b[39m \u001b[39min\u001b[39;00m tx \u001b[39mand\u001b[39;00m tx[\u001b[39m'\u001b[39m\u001b[39mto\u001b[39m\u001b[39m'\u001b[39m] \u001b[39min\u001b[39;00m router_addresses \u001b[39mand\u001b[39;00m \u001b[39m'\u001b[39m\u001b[39mhash\u001b[39m\u001b[39m'\u001b[39m \u001b[39min\u001b[39;00m tx:\n\u001b[1;32m      7\u001b[0m         tx \u001b[39m=\u001b[39m {\u001b[39m*\u001b[39m\u001b[39m*\u001b[39mtx, \u001b[39m'\u001b[39m\u001b[39mrouterContract\u001b[39m\u001b[39m'\u001b[39m: router_addresses[tx[\u001b[39m'\u001b[39m\u001b[39mto\u001b[39m\u001b[39m'\u001b[39m]], \u001b[39m'\u001b[39m\u001b[39mhash\u001b[39m\u001b[39m'\u001b[39m: w3\u001b[39m.\u001b[39mto_hex(tx[\u001b[39m'\u001b[39m\u001b[39mhash\u001b[39m\u001b[39m'\u001b[39m])}\n",
      "File \u001b[0;32m~/defi-measurement/venv/lib/python3.11/site-packages/web3/eth/eth.py:301\u001b[0m, in \u001b[0;36mEth.get_transaction\u001b[0;34m(self, transaction_hash)\u001b[0m\n\u001b[1;32m    300\u001b[0m \u001b[39mdef\u001b[39;00m \u001b[39mget_transaction\u001b[39m(\u001b[39mself\u001b[39m, transaction_hash: _Hash32) \u001b[39m-\u001b[39m\u001b[39m>\u001b[39m TxData:\n\u001b[0;32m--> 301\u001b[0m     \u001b[39mreturn\u001b[39;00m \u001b[39mself\u001b[39;49m\u001b[39m.\u001b[39;49m_get_transaction(transaction_hash)\n",
      "File \u001b[0;32m~/defi-measurement/venv/lib/python3.11/site-packages/web3/module.py:68\u001b[0m, in \u001b[0;36mretrieve_blocking_method_call_fn.<locals>.caller\u001b[0;34m(*args, **kwargs)\u001b[0m\n\u001b[1;32m     62\u001b[0m     \u001b[39mreturn\u001b[39;00m LogFilter(eth_module\u001b[39m=\u001b[39mmodule, filter_id\u001b[39m=\u001b[39merr\u001b[39m.\u001b[39mfilter_id)\n\u001b[1;32m     63\u001b[0m (\n\u001b[1;32m     64\u001b[0m     result_formatters,\n\u001b[1;32m     65\u001b[0m     error_formatters,\n\u001b[1;32m     66\u001b[0m     null_result_formatters,\n\u001b[1;32m     67\u001b[0m ) \u001b[39m=\u001b[39m response_formatters\n\u001b[0;32m---> 68\u001b[0m result \u001b[39m=\u001b[39m w3\u001b[39m.\u001b[39;49mmanager\u001b[39m.\u001b[39;49mrequest_blocking(\n\u001b[1;32m     69\u001b[0m     method_str, params, error_formatters, null_result_formatters\n\u001b[1;32m     70\u001b[0m )\n\u001b[1;32m     71\u001b[0m \u001b[39mreturn\u001b[39;00m apply_result_formatters(result_formatters, result)\n",
      "File \u001b[0;32m~/defi-measurement/venv/lib/python3.11/site-packages/web3/manager.py:231\u001b[0m, in \u001b[0;36mRequestManager.request_blocking\u001b[0;34m(self, method, params, error_formatters, null_result_formatters)\u001b[0m\n\u001b[1;32m    221\u001b[0m \u001b[39mdef\u001b[39;00m \u001b[39mrequest_blocking\u001b[39m(\n\u001b[1;32m    222\u001b[0m     \u001b[39mself\u001b[39m,\n\u001b[1;32m    223\u001b[0m     method: Union[RPCEndpoint, Callable[\u001b[39m.\u001b[39m\u001b[39m.\u001b[39m\u001b[39m.\u001b[39m, RPCEndpoint]],\n\u001b[0;32m   (...)\u001b[0m\n\u001b[1;32m    226\u001b[0m     null_result_formatters: Optional[Callable[\u001b[39m.\u001b[39m\u001b[39m.\u001b[39m\u001b[39m.\u001b[39m, Any]] \u001b[39m=\u001b[39m \u001b[39mNone\u001b[39;00m,\n\u001b[1;32m    227\u001b[0m ) \u001b[39m-\u001b[39m\u001b[39m>\u001b[39m Any:\n\u001b[1;32m    228\u001b[0m \u001b[39m    \u001b[39m\u001b[39m\"\"\"\u001b[39;00m\n\u001b[1;32m    229\u001b[0m \u001b[39m    Make a synchronous request using the provider\u001b[39;00m\n\u001b[1;32m    230\u001b[0m \u001b[39m    \"\"\"\u001b[39;00m\n\u001b[0;32m--> 231\u001b[0m     response \u001b[39m=\u001b[39m \u001b[39mself\u001b[39;49m\u001b[39m.\u001b[39;49m_make_request(method, params)\n\u001b[1;32m    232\u001b[0m     \u001b[39mreturn\u001b[39;00m \u001b[39mself\u001b[39m\u001b[39m.\u001b[39mformatted_response(\n\u001b[1;32m    233\u001b[0m         response, params, error_formatters, null_result_formatters\n\u001b[1;32m    234\u001b[0m     )\n",
      "File \u001b[0;32m~/defi-measurement/venv/lib/python3.11/site-packages/web3/manager.py:175\u001b[0m, in \u001b[0;36mRequestManager._make_request\u001b[0;34m(self, method, params)\u001b[0m\n\u001b[1;32m    171\u001b[0m request_func \u001b[39m=\u001b[39m provider\u001b[39m.\u001b[39mrequest_func(\n\u001b[1;32m    172\u001b[0m     cast(\u001b[39m\"\u001b[39m\u001b[39mWeb3\u001b[39m\u001b[39m\"\u001b[39m, \u001b[39mself\u001b[39m\u001b[39m.\u001b[39mw3), cast(MiddlewareOnion, \u001b[39mself\u001b[39m\u001b[39m.\u001b[39mmiddleware_onion)\n\u001b[1;32m    173\u001b[0m )\n\u001b[1;32m    174\u001b[0m \u001b[39mself\u001b[39m\u001b[39m.\u001b[39mlogger\u001b[39m.\u001b[39mdebug(\u001b[39mf\u001b[39m\u001b[39m\"\u001b[39m\u001b[39mMaking request. Method: \u001b[39m\u001b[39m{\u001b[39;00mmethod\u001b[39m}\u001b[39;00m\u001b[39m\"\u001b[39m)\n\u001b[0;32m--> 175\u001b[0m \u001b[39mreturn\u001b[39;00m request_func(method, params)\n",
      "File \u001b[0;32m~/defi-measurement/venv/lib/python3.11/site-packages/web3/middleware/formatting.py:99\u001b[0m, in \u001b[0;36mconstruct_web3_formatting_middleware.<locals>.formatter_middleware.<locals>.middleware\u001b[0;34m(method, params)\u001b[0m\n\u001b[1;32m     97\u001b[0m     formatter \u001b[39m=\u001b[39m request_formatters[method]\n\u001b[1;32m     98\u001b[0m     params \u001b[39m=\u001b[39m formatter(params)\n\u001b[0;32m---> 99\u001b[0m response \u001b[39m=\u001b[39m make_request(method, params)\n\u001b[1;32m    101\u001b[0m \u001b[39mreturn\u001b[39;00m _apply_response_formatters(\n\u001b[1;32m    102\u001b[0m     method\u001b[39m=\u001b[39mmethod, response\u001b[39m=\u001b[39mresponse, \u001b[39m*\u001b[39m\u001b[39m*\u001b[39mformatters\n\u001b[1;32m    103\u001b[0m )\n",
      "File \u001b[0;32m~/defi-measurement/venv/lib/python3.11/site-packages/web3/middleware/gas_price_strategy.py:96\u001b[0m, in \u001b[0;36mgas_price_strategy_middleware.<locals>.middleware\u001b[0;34m(method, params)\u001b[0m\n\u001b[1;32m     92\u001b[0m     transaction \u001b[39m=\u001b[39m validate_transaction_params(\n\u001b[1;32m     93\u001b[0m         transaction, latest_block, generated_gas_price\n\u001b[1;32m     94\u001b[0m     )\n\u001b[1;32m     95\u001b[0m     \u001b[39mreturn\u001b[39;00m make_request(method, (transaction,))\n\u001b[0;32m---> 96\u001b[0m \u001b[39mreturn\u001b[39;00m make_request(method, params)\n",
      "File \u001b[0;32m~/defi-measurement/venv/lib/python3.11/site-packages/web3/middleware/formatting.py:99\u001b[0m, in \u001b[0;36mconstruct_web3_formatting_middleware.<locals>.formatter_middleware.<locals>.middleware\u001b[0;34m(method, params)\u001b[0m\n\u001b[1;32m     97\u001b[0m     formatter \u001b[39m=\u001b[39m request_formatters[method]\n\u001b[1;32m     98\u001b[0m     params \u001b[39m=\u001b[39m formatter(params)\n\u001b[0;32m---> 99\u001b[0m response \u001b[39m=\u001b[39m make_request(method, params)\n\u001b[1;32m    101\u001b[0m \u001b[39mreturn\u001b[39;00m _apply_response_formatters(\n\u001b[1;32m    102\u001b[0m     method\u001b[39m=\u001b[39mmethod, response\u001b[39m=\u001b[39mresponse, \u001b[39m*\u001b[39m\u001b[39m*\u001b[39mformatters\n\u001b[1;32m    103\u001b[0m )\n",
      "File \u001b[0;32m~/defi-measurement/venv/lib/python3.11/site-packages/web3/middleware/attrdict.py:38\u001b[0m, in \u001b[0;36mattrdict_middleware.<locals>.middleware\u001b[0;34m(method, params)\u001b[0m\n\u001b[1;32m     37\u001b[0m \u001b[39mdef\u001b[39;00m \u001b[39mmiddleware\u001b[39m(method: RPCEndpoint, params: Any) \u001b[39m-\u001b[39m\u001b[39m>\u001b[39m RPCResponse:\n\u001b[0;32m---> 38\u001b[0m     response \u001b[39m=\u001b[39m make_request(method, params)\n\u001b[1;32m     40\u001b[0m     \u001b[39mif\u001b[39;00m \u001b[39m\"\u001b[39m\u001b[39mresult\u001b[39m\u001b[39m\"\u001b[39m \u001b[39min\u001b[39;00m response:\n\u001b[1;32m     41\u001b[0m         \u001b[39mreturn\u001b[39;00m assoc(\n\u001b[1;32m     42\u001b[0m             response, \u001b[39m\"\u001b[39m\u001b[39mresult\u001b[39m\u001b[39m\"\u001b[39m, AttributeDict\u001b[39m.\u001b[39mrecursive(response[\u001b[39m\"\u001b[39m\u001b[39mresult\u001b[39m\u001b[39m\"\u001b[39m])\n\u001b[1;32m     43\u001b[0m         )\n",
      "File \u001b[0;32m~/defi-measurement/venv/lib/python3.11/site-packages/web3/middleware/formatting.py:99\u001b[0m, in \u001b[0;36mconstruct_web3_formatting_middleware.<locals>.formatter_middleware.<locals>.middleware\u001b[0;34m(method, params)\u001b[0m\n\u001b[1;32m     97\u001b[0m     formatter \u001b[39m=\u001b[39m request_formatters[method]\n\u001b[1;32m     98\u001b[0m     params \u001b[39m=\u001b[39m formatter(params)\n\u001b[0;32m---> 99\u001b[0m response \u001b[39m=\u001b[39m make_request(method, params)\n\u001b[1;32m    101\u001b[0m \u001b[39mreturn\u001b[39;00m _apply_response_formatters(\n\u001b[1;32m    102\u001b[0m     method\u001b[39m=\u001b[39mmethod, response\u001b[39m=\u001b[39mresponse, \u001b[39m*\u001b[39m\u001b[39m*\u001b[39mformatters\n\u001b[1;32m    103\u001b[0m )\n",
      "File \u001b[0;32m~/defi-measurement/venv/lib/python3.11/site-packages/web3/middleware/formatting.py:99\u001b[0m, in \u001b[0;36mconstruct_web3_formatting_middleware.<locals>.formatter_middleware.<locals>.middleware\u001b[0;34m(method, params)\u001b[0m\n\u001b[1;32m     97\u001b[0m     formatter \u001b[39m=\u001b[39m request_formatters[method]\n\u001b[1;32m     98\u001b[0m     params \u001b[39m=\u001b[39m formatter(params)\n\u001b[0;32m---> 99\u001b[0m response \u001b[39m=\u001b[39m make_request(method, params)\n\u001b[1;32m    101\u001b[0m \u001b[39mreturn\u001b[39;00m _apply_response_formatters(\n\u001b[1;32m    102\u001b[0m     method\u001b[39m=\u001b[39mmethod, response\u001b[39m=\u001b[39mresponse, \u001b[39m*\u001b[39m\u001b[39m*\u001b[39mformatters\n\u001b[1;32m    103\u001b[0m )\n",
      "File \u001b[0;32m~/defi-measurement/venv/lib/python3.11/site-packages/web3/middleware/formatting.py:99\u001b[0m, in \u001b[0;36mconstruct_web3_formatting_middleware.<locals>.formatter_middleware.<locals>.middleware\u001b[0;34m(method, params)\u001b[0m\n\u001b[1;32m     97\u001b[0m     formatter \u001b[39m=\u001b[39m request_formatters[method]\n\u001b[1;32m     98\u001b[0m     params \u001b[39m=\u001b[39m formatter(params)\n\u001b[0;32m---> 99\u001b[0m response \u001b[39m=\u001b[39m make_request(method, params)\n\u001b[1;32m    101\u001b[0m \u001b[39mreturn\u001b[39;00m _apply_response_formatters(\n\u001b[1;32m    102\u001b[0m     method\u001b[39m=\u001b[39mmethod, response\u001b[39m=\u001b[39mresponse, \u001b[39m*\u001b[39m\u001b[39m*\u001b[39mformatters\n\u001b[1;32m    103\u001b[0m )\n",
      "File \u001b[0;32m~/defi-measurement/venv/lib/python3.11/site-packages/web3/middleware/buffered_gas_estimate.py:43\u001b[0m, in \u001b[0;36mbuffered_gas_estimate_middleware.<locals>.middleware\u001b[0;34m(method, params)\u001b[0m\n\u001b[1;32m     37\u001b[0m         transaction \u001b[39m=\u001b[39m assoc(\n\u001b[1;32m     38\u001b[0m             transaction,\n\u001b[1;32m     39\u001b[0m             \u001b[39m\"\u001b[39m\u001b[39mgas\u001b[39m\u001b[39m\"\u001b[39m,\n\u001b[1;32m     40\u001b[0m             \u001b[39mhex\u001b[39m(get_buffered_gas_estimate(w3, transaction)),\n\u001b[1;32m     41\u001b[0m         )\n\u001b[1;32m     42\u001b[0m         \u001b[39mreturn\u001b[39;00m make_request(method, [transaction])\n\u001b[0;32m---> 43\u001b[0m \u001b[39mreturn\u001b[39;00m make_request(method, params)\n",
      "File \u001b[0;32m~/defi-measurement/venv/lib/python3.11/site-packages/web3/middleware/exception_retry_request.py:107\u001b[0m, in \u001b[0;36mexception_retry_middleware.<locals>.middleware\u001b[0;34m(method, params)\u001b[0m\n\u001b[1;32m    105\u001b[0m \u001b[39mfor\u001b[39;00m i \u001b[39min\u001b[39;00m \u001b[39mrange\u001b[39m(retries):\n\u001b[1;32m    106\u001b[0m     \u001b[39mtry\u001b[39;00m:\n\u001b[0;32m--> 107\u001b[0m         \u001b[39mreturn\u001b[39;00m make_request(method, params)\n\u001b[1;32m    108\u001b[0m     \u001b[39m# https://github.com/python/mypy/issues/5349\u001b[39;00m\n\u001b[1;32m    109\u001b[0m     \u001b[39mexcept\u001b[39;00m errors:  \u001b[39m# type: ignore\u001b[39;00m\n",
      "File \u001b[0;32m~/defi-measurement/venv/lib/python3.11/site-packages/web3/providers/rpc.py:90\u001b[0m, in \u001b[0;36mHTTPProvider.make_request\u001b[0;34m(self, method, params)\u001b[0m\n\u001b[1;32m     86\u001b[0m \u001b[39mself\u001b[39m\u001b[39m.\u001b[39mlogger\u001b[39m.\u001b[39mdebug(\n\u001b[1;32m     87\u001b[0m     \u001b[39mf\u001b[39m\u001b[39m\"\u001b[39m\u001b[39mMaking request HTTP. URI: \u001b[39m\u001b[39m{\u001b[39;00m\u001b[39mself\u001b[39m\u001b[39m.\u001b[39mendpoint_uri\u001b[39m}\u001b[39;00m\u001b[39m, Method: \u001b[39m\u001b[39m{\u001b[39;00mmethod\u001b[39m}\u001b[39;00m\u001b[39m\"\u001b[39m\n\u001b[1;32m     88\u001b[0m )\n\u001b[1;32m     89\u001b[0m request_data \u001b[39m=\u001b[39m \u001b[39mself\u001b[39m\u001b[39m.\u001b[39mencode_rpc_request(method, params)\n\u001b[0;32m---> 90\u001b[0m raw_response \u001b[39m=\u001b[39m make_post_request(\n\u001b[1;32m     91\u001b[0m     \u001b[39mself\u001b[39;49m\u001b[39m.\u001b[39;49mendpoint_uri, request_data, \u001b[39m*\u001b[39;49m\u001b[39m*\u001b[39;49m\u001b[39mself\u001b[39;49m\u001b[39m.\u001b[39;49mget_request_kwargs()\n\u001b[1;32m     92\u001b[0m )\n\u001b[1;32m     93\u001b[0m response \u001b[39m=\u001b[39m \u001b[39mself\u001b[39m\u001b[39m.\u001b[39mdecode_rpc_response(raw_response)\n\u001b[1;32m     94\u001b[0m \u001b[39mself\u001b[39m\u001b[39m.\u001b[39mlogger\u001b[39m.\u001b[39mdebug(\n\u001b[1;32m     95\u001b[0m     \u001b[39mf\u001b[39m\u001b[39m\"\u001b[39m\u001b[39mGetting response HTTP. URI: \u001b[39m\u001b[39m{\u001b[39;00m\u001b[39mself\u001b[39m\u001b[39m.\u001b[39mendpoint_uri\u001b[39m}\u001b[39;00m\u001b[39m, \u001b[39m\u001b[39m\"\u001b[39m\n\u001b[1;32m     96\u001b[0m     \u001b[39mf\u001b[39m\u001b[39m\"\u001b[39m\u001b[39mMethod: \u001b[39m\u001b[39m{\u001b[39;00mmethod\u001b[39m}\u001b[39;00m\u001b[39m, Response: \u001b[39m\u001b[39m{\u001b[39;00mresponse\u001b[39m}\u001b[39;00m\u001b[39m\"\u001b[39m\n\u001b[1;32m     97\u001b[0m )\n",
      "File \u001b[0;32m~/defi-measurement/venv/lib/python3.11/site-packages/web3/_utils/request.py:114\u001b[0m, in \u001b[0;36mmake_post_request\u001b[0;34m(endpoint_uri, data, *args, **kwargs)\u001b[0m\n\u001b[1;32m    111\u001b[0m \u001b[39mdef\u001b[39;00m \u001b[39mmake_post_request\u001b[39m(\n\u001b[1;32m    112\u001b[0m     endpoint_uri: URI, data: Union[\u001b[39mbytes\u001b[39m, Dict[\u001b[39mstr\u001b[39m, Any]], \u001b[39m*\u001b[39margs: Any, \u001b[39m*\u001b[39m\u001b[39m*\u001b[39mkwargs: Any\n\u001b[1;32m    113\u001b[0m ) \u001b[39m-\u001b[39m\u001b[39m>\u001b[39m \u001b[39mbytes\u001b[39m:\n\u001b[0;32m--> 114\u001b[0m     response \u001b[39m=\u001b[39m get_response_from_post_request(endpoint_uri, data\u001b[39m=\u001b[39;49mdata, \u001b[39m*\u001b[39;49margs, \u001b[39m*\u001b[39;49m\u001b[39m*\u001b[39;49mkwargs)\n\u001b[1;32m    115\u001b[0m     response\u001b[39m.\u001b[39mraise_for_status()\n\u001b[1;32m    116\u001b[0m     \u001b[39mreturn\u001b[39;00m response\u001b[39m.\u001b[39mcontent\n",
      "File \u001b[0;32m~/defi-measurement/venv/lib/python3.11/site-packages/web3/_utils/request.py:107\u001b[0m, in \u001b[0;36mget_response_from_post_request\u001b[0;34m(endpoint_uri, *args, **kwargs)\u001b[0m\n\u001b[1;32m    105\u001b[0m kwargs\u001b[39m.\u001b[39msetdefault(\u001b[39m\"\u001b[39m\u001b[39mtimeout\u001b[39m\u001b[39m\"\u001b[39m, DEFAULT_TIMEOUT)\n\u001b[1;32m    106\u001b[0m session \u001b[39m=\u001b[39m cache_and_return_session(endpoint_uri)\n\u001b[0;32m--> 107\u001b[0m response \u001b[39m=\u001b[39m session\u001b[39m.\u001b[39;49mpost(endpoint_uri, \u001b[39m*\u001b[39;49margs, \u001b[39m*\u001b[39;49m\u001b[39m*\u001b[39;49mkwargs)\n\u001b[1;32m    108\u001b[0m \u001b[39mreturn\u001b[39;00m response\n",
      "File \u001b[0;32m~/defi-measurement/venv/lib/python3.11/site-packages/requests/sessions.py:637\u001b[0m, in \u001b[0;36mSession.post\u001b[0;34m(self, url, data, json, **kwargs)\u001b[0m\n\u001b[1;32m    626\u001b[0m \u001b[39mdef\u001b[39;00m \u001b[39mpost\u001b[39m(\u001b[39mself\u001b[39m, url, data\u001b[39m=\u001b[39m\u001b[39mNone\u001b[39;00m, json\u001b[39m=\u001b[39m\u001b[39mNone\u001b[39;00m, \u001b[39m*\u001b[39m\u001b[39m*\u001b[39mkwargs):\n\u001b[1;32m    627\u001b[0m \u001b[39m    \u001b[39m\u001b[39mr\u001b[39m\u001b[39m\"\"\"Sends a POST request. Returns :class:`Response` object.\u001b[39;00m\n\u001b[1;32m    628\u001b[0m \n\u001b[1;32m    629\u001b[0m \u001b[39m    :param url: URL for the new :class:`Request` object.\u001b[39;00m\n\u001b[0;32m   (...)\u001b[0m\n\u001b[1;32m    634\u001b[0m \u001b[39m    :rtype: requests.Response\u001b[39;00m\n\u001b[1;32m    635\u001b[0m \u001b[39m    \"\"\"\u001b[39;00m\n\u001b[0;32m--> 637\u001b[0m     \u001b[39mreturn\u001b[39;00m \u001b[39mself\u001b[39;49m\u001b[39m.\u001b[39;49mrequest(\u001b[39m\"\u001b[39;49m\u001b[39mPOST\u001b[39;49m\u001b[39m\"\u001b[39;49m, url, data\u001b[39m=\u001b[39;49mdata, json\u001b[39m=\u001b[39;49mjson, \u001b[39m*\u001b[39;49m\u001b[39m*\u001b[39;49mkwargs)\n",
      "File \u001b[0;32m~/defi-measurement/venv/lib/python3.11/site-packages/requests/sessions.py:589\u001b[0m, in \u001b[0;36mSession.request\u001b[0;34m(self, method, url, params, data, headers, cookies, files, auth, timeout, allow_redirects, proxies, hooks, stream, verify, cert, json)\u001b[0m\n\u001b[1;32m    584\u001b[0m send_kwargs \u001b[39m=\u001b[39m {\n\u001b[1;32m    585\u001b[0m     \u001b[39m\"\u001b[39m\u001b[39mtimeout\u001b[39m\u001b[39m\"\u001b[39m: timeout,\n\u001b[1;32m    586\u001b[0m     \u001b[39m\"\u001b[39m\u001b[39mallow_redirects\u001b[39m\u001b[39m\"\u001b[39m: allow_redirects,\n\u001b[1;32m    587\u001b[0m }\n\u001b[1;32m    588\u001b[0m send_kwargs\u001b[39m.\u001b[39mupdate(settings)\n\u001b[0;32m--> 589\u001b[0m resp \u001b[39m=\u001b[39m \u001b[39mself\u001b[39;49m\u001b[39m.\u001b[39;49msend(prep, \u001b[39m*\u001b[39;49m\u001b[39m*\u001b[39;49msend_kwargs)\n\u001b[1;32m    591\u001b[0m \u001b[39mreturn\u001b[39;00m resp\n",
      "File \u001b[0;32m~/defi-measurement/venv/lib/python3.11/site-packages/requests/sessions.py:703\u001b[0m, in \u001b[0;36mSession.send\u001b[0;34m(self, request, **kwargs)\u001b[0m\n\u001b[1;32m    700\u001b[0m start \u001b[39m=\u001b[39m preferred_clock()\n\u001b[1;32m    702\u001b[0m \u001b[39m# Send the request\u001b[39;00m\n\u001b[0;32m--> 703\u001b[0m r \u001b[39m=\u001b[39m adapter\u001b[39m.\u001b[39;49msend(request, \u001b[39m*\u001b[39;49m\u001b[39m*\u001b[39;49mkwargs)\n\u001b[1;32m    705\u001b[0m \u001b[39m# Total elapsed time of the request (approximately)\u001b[39;00m\n\u001b[1;32m    706\u001b[0m elapsed \u001b[39m=\u001b[39m preferred_clock() \u001b[39m-\u001b[39m start\n",
      "File \u001b[0;32m~/defi-measurement/venv/lib/python3.11/site-packages/requests/adapters.py:486\u001b[0m, in \u001b[0;36mHTTPAdapter.send\u001b[0;34m(self, request, stream, timeout, verify, cert, proxies)\u001b[0m\n\u001b[1;32m    483\u001b[0m     timeout \u001b[39m=\u001b[39m TimeoutSauce(connect\u001b[39m=\u001b[39mtimeout, read\u001b[39m=\u001b[39mtimeout)\n\u001b[1;32m    485\u001b[0m \u001b[39mtry\u001b[39;00m:\n\u001b[0;32m--> 486\u001b[0m     resp \u001b[39m=\u001b[39m conn\u001b[39m.\u001b[39;49murlopen(\n\u001b[1;32m    487\u001b[0m         method\u001b[39m=\u001b[39;49mrequest\u001b[39m.\u001b[39;49mmethod,\n\u001b[1;32m    488\u001b[0m         url\u001b[39m=\u001b[39;49murl,\n\u001b[1;32m    489\u001b[0m         body\u001b[39m=\u001b[39;49mrequest\u001b[39m.\u001b[39;49mbody,\n\u001b[1;32m    490\u001b[0m         headers\u001b[39m=\u001b[39;49mrequest\u001b[39m.\u001b[39;49mheaders,\n\u001b[1;32m    491\u001b[0m         redirect\u001b[39m=\u001b[39;49m\u001b[39mFalse\u001b[39;49;00m,\n\u001b[1;32m    492\u001b[0m         assert_same_host\u001b[39m=\u001b[39;49m\u001b[39mFalse\u001b[39;49;00m,\n\u001b[1;32m    493\u001b[0m         preload_content\u001b[39m=\u001b[39;49m\u001b[39mFalse\u001b[39;49;00m,\n\u001b[1;32m    494\u001b[0m         decode_content\u001b[39m=\u001b[39;49m\u001b[39mFalse\u001b[39;49;00m,\n\u001b[1;32m    495\u001b[0m         retries\u001b[39m=\u001b[39;49m\u001b[39mself\u001b[39;49m\u001b[39m.\u001b[39;49mmax_retries,\n\u001b[1;32m    496\u001b[0m         timeout\u001b[39m=\u001b[39;49mtimeout,\n\u001b[1;32m    497\u001b[0m         chunked\u001b[39m=\u001b[39;49mchunked,\n\u001b[1;32m    498\u001b[0m     )\n\u001b[1;32m    500\u001b[0m \u001b[39mexcept\u001b[39;00m (ProtocolError, \u001b[39mOSError\u001b[39;00m) \u001b[39mas\u001b[39;00m err:\n\u001b[1;32m    501\u001b[0m     \u001b[39mraise\u001b[39;00m \u001b[39mConnectionError\u001b[39;00m(err, request\u001b[39m=\u001b[39mrequest)\n",
      "File \u001b[0;32m~/defi-measurement/venv/lib/python3.11/site-packages/urllib3/connectionpool.py:790\u001b[0m, in \u001b[0;36mHTTPConnectionPool.urlopen\u001b[0;34m(self, method, url, body, headers, retries, redirect, assert_same_host, timeout, pool_timeout, release_conn, chunked, body_pos, preload_content, decode_content, **response_kw)\u001b[0m\n\u001b[1;32m    787\u001b[0m response_conn \u001b[39m=\u001b[39m conn \u001b[39mif\u001b[39;00m \u001b[39mnot\u001b[39;00m release_conn \u001b[39melse\u001b[39;00m \u001b[39mNone\u001b[39;00m\n\u001b[1;32m    789\u001b[0m \u001b[39m# Make the request on the HTTPConnection object\u001b[39;00m\n\u001b[0;32m--> 790\u001b[0m response \u001b[39m=\u001b[39m \u001b[39mself\u001b[39;49m\u001b[39m.\u001b[39;49m_make_request(\n\u001b[1;32m    791\u001b[0m     conn,\n\u001b[1;32m    792\u001b[0m     method,\n\u001b[1;32m    793\u001b[0m     url,\n\u001b[1;32m    794\u001b[0m     timeout\u001b[39m=\u001b[39;49mtimeout_obj,\n\u001b[1;32m    795\u001b[0m     body\u001b[39m=\u001b[39;49mbody,\n\u001b[1;32m    796\u001b[0m     headers\u001b[39m=\u001b[39;49mheaders,\n\u001b[1;32m    797\u001b[0m     chunked\u001b[39m=\u001b[39;49mchunked,\n\u001b[1;32m    798\u001b[0m     retries\u001b[39m=\u001b[39;49mretries,\n\u001b[1;32m    799\u001b[0m     response_conn\u001b[39m=\u001b[39;49mresponse_conn,\n\u001b[1;32m    800\u001b[0m     preload_content\u001b[39m=\u001b[39;49mpreload_content,\n\u001b[1;32m    801\u001b[0m     decode_content\u001b[39m=\u001b[39;49mdecode_content,\n\u001b[1;32m    802\u001b[0m     \u001b[39m*\u001b[39;49m\u001b[39m*\u001b[39;49mresponse_kw,\n\u001b[1;32m    803\u001b[0m )\n\u001b[1;32m    805\u001b[0m \u001b[39m# Everything went great!\u001b[39;00m\n\u001b[1;32m    806\u001b[0m clean_exit \u001b[39m=\u001b[39m \u001b[39mTrue\u001b[39;00m\n",
      "File \u001b[0;32m~/defi-measurement/venv/lib/python3.11/site-packages/urllib3/connectionpool.py:536\u001b[0m, in \u001b[0;36mHTTPConnectionPool._make_request\u001b[0;34m(self, conn, method, url, body, headers, retries, timeout, chunked, response_conn, preload_content, decode_content, enforce_content_length)\u001b[0m\n\u001b[1;32m    534\u001b[0m \u001b[39m# Receive the response from the server\u001b[39;00m\n\u001b[1;32m    535\u001b[0m \u001b[39mtry\u001b[39;00m:\n\u001b[0;32m--> 536\u001b[0m     response \u001b[39m=\u001b[39m conn\u001b[39m.\u001b[39;49mgetresponse()\n\u001b[1;32m    537\u001b[0m \u001b[39mexcept\u001b[39;00m (BaseSSLError, \u001b[39mOSError\u001b[39;00m) \u001b[39mas\u001b[39;00m e:\n\u001b[1;32m    538\u001b[0m     \u001b[39mself\u001b[39m\u001b[39m.\u001b[39m_raise_timeout(err\u001b[39m=\u001b[39me, url\u001b[39m=\u001b[39murl, timeout_value\u001b[39m=\u001b[39mread_timeout)\n",
      "File \u001b[0;32m~/defi-measurement/venv/lib/python3.11/site-packages/urllib3/connection.py:454\u001b[0m, in \u001b[0;36mHTTPConnection.getresponse\u001b[0;34m(self)\u001b[0m\n\u001b[1;32m    451\u001b[0m \u001b[39mfrom\u001b[39;00m \u001b[39m.\u001b[39;00m\u001b[39mresponse\u001b[39;00m \u001b[39mimport\u001b[39;00m HTTPResponse\n\u001b[1;32m    453\u001b[0m \u001b[39m# Get the response from http.client.HTTPConnection\u001b[39;00m\n\u001b[0;32m--> 454\u001b[0m httplib_response \u001b[39m=\u001b[39m \u001b[39msuper\u001b[39;49m()\u001b[39m.\u001b[39;49mgetresponse()\n\u001b[1;32m    456\u001b[0m \u001b[39mtry\u001b[39;00m:\n\u001b[1;32m    457\u001b[0m     assert_header_parsing(httplib_response\u001b[39m.\u001b[39mmsg)\n",
      "File \u001b[0;32m/usr/lib/python3.11/http/client.py:1374\u001b[0m, in \u001b[0;36mHTTPConnection.getresponse\u001b[0;34m(self)\u001b[0m\n\u001b[1;32m   1372\u001b[0m \u001b[39mtry\u001b[39;00m:\n\u001b[1;32m   1373\u001b[0m     \u001b[39mtry\u001b[39;00m:\n\u001b[0;32m-> 1374\u001b[0m         response\u001b[39m.\u001b[39;49mbegin()\n\u001b[1;32m   1375\u001b[0m     \u001b[39mexcept\u001b[39;00m \u001b[39mConnectionError\u001b[39;00m:\n\u001b[1;32m   1376\u001b[0m         \u001b[39mself\u001b[39m\u001b[39m.\u001b[39mclose()\n",
      "File \u001b[0;32m/usr/lib/python3.11/http/client.py:318\u001b[0m, in \u001b[0;36mHTTPResponse.begin\u001b[0;34m(self)\u001b[0m\n\u001b[1;32m    316\u001b[0m \u001b[39m# read until we get a non-100 response\u001b[39;00m\n\u001b[1;32m    317\u001b[0m \u001b[39mwhile\u001b[39;00m \u001b[39mTrue\u001b[39;00m:\n\u001b[0;32m--> 318\u001b[0m     version, status, reason \u001b[39m=\u001b[39m \u001b[39mself\u001b[39;49m\u001b[39m.\u001b[39;49m_read_status()\n\u001b[1;32m    319\u001b[0m     \u001b[39mif\u001b[39;00m status \u001b[39m!=\u001b[39m CONTINUE:\n\u001b[1;32m    320\u001b[0m         \u001b[39mbreak\u001b[39;00m\n",
      "File \u001b[0;32m/usr/lib/python3.11/http/client.py:279\u001b[0m, in \u001b[0;36mHTTPResponse._read_status\u001b[0;34m(self)\u001b[0m\n\u001b[1;32m    278\u001b[0m \u001b[39mdef\u001b[39;00m \u001b[39m_read_status\u001b[39m(\u001b[39mself\u001b[39m):\n\u001b[0;32m--> 279\u001b[0m     line \u001b[39m=\u001b[39m \u001b[39mstr\u001b[39m(\u001b[39mself\u001b[39m\u001b[39m.\u001b[39mfp\u001b[39m.\u001b[39mreadline(_MAXLINE \u001b[39m+\u001b[39m \u001b[39m1\u001b[39m), \u001b[39m\"\u001b[39m\u001b[39miso-8859-1\u001b[39m\u001b[39m\"\u001b[39m)\n\u001b[1;32m    280\u001b[0m     \u001b[39mif\u001b[39;00m \u001b[39mlen\u001b[39m(line) \u001b[39m>\u001b[39m _MAXLINE:\n\u001b[1;32m    281\u001b[0m         \u001b[39mraise\u001b[39;00m LineTooLong(\u001b[39m\"\u001b[39m\u001b[39mstatus line\u001b[39m\u001b[39m\"\u001b[39m)\n",
      "File \u001b[0;32m/usr/lib/python3.11/socket.py:705\u001b[0m, in \u001b[0;36mSocketIO.readinto\u001b[0;34m(self, b)\u001b[0m\n\u001b[1;32m    703\u001b[0m \u001b[39mwhile\u001b[39;00m \u001b[39mTrue\u001b[39;00m:\n\u001b[1;32m    704\u001b[0m     \u001b[39mtry\u001b[39;00m:\n\u001b[0;32m--> 705\u001b[0m         \u001b[39mreturn\u001b[39;00m \u001b[39mself\u001b[39;49m\u001b[39m.\u001b[39;49m_sock\u001b[39m.\u001b[39;49mrecv_into(b)\n\u001b[1;32m    706\u001b[0m     \u001b[39mexcept\u001b[39;00m timeout:\n\u001b[1;32m    707\u001b[0m         \u001b[39mself\u001b[39m\u001b[39m.\u001b[39m_timeout_occurred \u001b[39m=\u001b[39m \u001b[39mTrue\u001b[39;00m\n",
      "\u001b[0;31mKeyboardInterrupt\u001b[0m: "
     ]
    }
   ],
   "source": [
    "# Filter out transactions that are not from the router contracts\n",
    "router_transactions = []\n",
    "\n",
    "for tx in tqdm(block_transactions):\n",
    "    tx = w3.eth.get_transaction(tx)\n",
    "    if 'to' in tx and tx['to'] in router_addresses and 'hash' in tx:\n",
    "        tx = {**tx, 'routerContract': router_addresses[tx['to']], 'hash': w3.to_hex(tx['hash'])}\n",
    "        router_transactions.append(tx)\n",
    "\n",
    "len(router_transactions)"
   ]
  },
  {
   "cell_type": "code",
   "execution_count": 101,
   "metadata": {},
   "outputs": [
    {
     "data": {
      "text/plain": [
       "{'blockHash': HexBytes('0x61e2d52aff99822c9006fb6a4648bb1288f9635863dd2fcf8dda7e704c8939d4'),\n",
       " 'blockNumber': 17537194,\n",
       " 'from': '0x9D320B140b00e42BA91aeC926D4C75858d4e2129',\n",
       " 'gas': 232842,\n",
       " 'gasPrice': 16353842006,\n",
       " 'maxFeePerGas': 24083780453,\n",
       " 'maxPriorityFeePerGas': 100000000,\n",
       " 'hash': '0x87100b6460dd86c1473ac9c0a3177c05db06272be0eefad29d0c0aa7b938a16a',\n",
       " 'input': '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',\n",
       " 'nonce': 245,\n",
       " 'to': '0x3fC91A3afd70395Cd496C647d5a6CC9D4B2b7FAD',\n",
       " 'transactionIndex': 44,\n",
       " 'value': 0,\n",
       " 'type': 2,\n",
       " 'accessList': [],\n",
       " 'chainId': 1,\n",
       " 'v': 0,\n",
       " 'r': HexBytes('0x6a6500a19e8a35513b557d66f23cb110781111e73f66080b83831a33505eb991'),\n",
       " 's': HexBytes('0x5e83e584a90d22f384a15559b868d2e51a4d32777342b1da4d9d956d9c5f654e'),\n",
       " 'routerContract': 'UniversalRouter02'}"
      ]
     },
     "execution_count": 101,
     "metadata": {},
     "output_type": "execute_result"
    }
   ],
   "source": [
    "router_transactions[1]"
   ]
  },
  {
   "cell_type": "code",
   "execution_count": 28,
   "metadata": {},
   "outputs": [
    {
     "ename": "NameError",
     "evalue": "name 'router_transactions' is not defined",
     "output_type": "error",
     "traceback": [
      "\u001b[0;31m---------------------------------------------------------------------------\u001b[0m",
      "\u001b[0;31mNameError\u001b[0m                                 Traceback (most recent call last)",
      "Cell \u001b[0;32mIn[28], line 2\u001b[0m\n\u001b[1;32m      1\u001b[0m \u001b[39m# Put all the transaction hashes in a set for both sets of transactions\u001b[39;00m\n\u001b[0;32m----> 2\u001b[0m block_transaction_set \u001b[39m=\u001b[39m \u001b[39mset\u001b[39m(\u001b[39mmap\u001b[39m(itemgetter(\u001b[39m'\u001b[39m\u001b[39mhash\u001b[39m\u001b[39m'\u001b[39m), router_transactions))\n\u001b[1;32m      3\u001b[0m mempool_transactions \u001b[39m=\u001b[39m \u001b[39mset\u001b[39m(df[\u001b[39m'\u001b[39m\u001b[39mhash\u001b[39m\u001b[39m'\u001b[39m])\n\u001b[1;32m      5\u001b[0m \u001b[39m# Find the intersection and the symmetric difference of the two sets\u001b[39;00m\n",
      "\u001b[0;31mNameError\u001b[0m: name 'router_transactions' is not defined"
     ]
    }
   ],
   "source": [
    "# Put all the transaction hashes in a set for both sets of transactions\n",
    "block_transaction_set = set(map(itemgetter('hash'), router_transactions))\n",
    "mempool_transactions = set(df['hash'])\n",
    "\n",
    "# Find the intersection and the symmetric difference of the two sets\n",
    "intersection = block_transaction_set.intersection(mempool_transactions)\n",
    "symmetric_difference = block_transaction_set.symmetric_difference(mempool_transactions)\n",
    "\n",
    "print(f\"Block: {len(block_transaction_set)}, Mempool: {len(mempool_transactions)}, Intersection: {len(intersection)}, Symmetric Difference: {len(symmetric_difference)}\")"
   ]
  },
  {
   "cell_type": "code",
   "execution_count": 98,
   "metadata": {},
   "outputs": [
    {
     "data": {
      "image/png": "[encoded data removed]",
      "text/plain": [
       "<Figure size 640x480 with 1 Axes>"
      ]
     },
     "metadata": {},
     "output_type": "display_data"
    }
   ],
   "source": [
    "# Make a bar chart showing:\n",
    "# - The number of transactions in blocks that came from the mempool\n",
    "# - The number of transactions in blocks that did not come from the mempool\n",
    "\n",
    "plt.bar(['Mempool', 'Private pools'], [len(intersection), len(block_transaction_set - mempool_transactions)])\n",
    "plt.xlabel('Source')\n",
    "plt.ylabel('Number of transactions')\n",
    "plt.title('Number of transactions in blocks that came from the mempool');"
   ]
  },
  {
   "cell_type": "markdown",
   "metadata": {},
   "source": [
    "### What kind of transaction did not make it to the blocks"
   ]
  },
  {
   "cell_type": "code",
   "execution_count": 78,
   "metadata": {},
   "outputs": [
    {
     "data": {
      "image/png": "[encoded data removed]",
      "text/plain": [
       "<Figure size 640x480 with 1 Axes>"
      ]
     },
     "metadata": {},
     "output_type": "display_data"
    }
   ],
   "source": [
    "# Make a dataframe of the transactions that are in the mempool but not in the blocks\n",
    "mempool_bad_transactions = df[df['hash'].isin(symmetric_difference)]\n",
    "\n",
    "# Plot histogram of gas prices limited to 50 gwei\n",
    "plt.hist(mempool_bad_transactions['gasPrice'], bins=100, range=(0, 50), label='Mempool')\n",
    "\n",
    "# Add vertical line for the current gas price converted to gwei\n",
    "curr_gas_price = w3.eth.gas_price / 1e9\n",
    "plt.axvline(curr_gas_price, color='red', linestyle='dashed', linewidth=1, label=f\"Current Gas Price: {curr_gas_price:.2f} Gwei\")\n",
    "plt.legend(frameon=False);"
   ]
  },
  {
   "cell_type": "markdown",
   "metadata": {},
   "source": [
    "### Histogram over the gas price for all transactions that made it to the blocks"
   ]
  },
  {
   "cell_type": "code",
   "execution_count": null,
   "metadata": {},
   "outputs": [],
   "source": [
    "# Plot histogram of gas prices limited to 50 gwei"
   ]
  },
  {
   "cell_type": "markdown",
   "metadata": {},
   "source": [
    "### Plot histogram over the gas price for all blocks collected"
   ]
  },
  {
   "cell_type": "code",
   "execution_count": 100,
   "metadata": {},
   "outputs": [
    {
     "data": {
      "image/png": "[encoded data removed]",
      "text/plain": [
       "<Figure size 640x480 with 1 Axes>"
      ]
     },
     "metadata": {},
     "output_type": "display_data"
    }
   ],
   "source": [
    "block_gas_prices = []\n",
    "\n",
    "for block in blocks:\n",
    "    block_gas_prices.append(block['baseFeePerGas'] / 1e9)\n",
    "\n",
    "plt.hist(block_gas_prices, bins=100)\n",
    "plt.axvline(curr_gas_price, color='red', linestyle='dashed', linewidth=1, label=f\"Current Gas Price: {curr_gas_price:.2f} Gwei\")\n",
    "plt.xlabel('Gas Price (Gwei)')\n",
    "plt.ylabel('Number of Blocks')\n",
    "plt.title(f'Distribution of Base Fee Per Gas in Blocks\\n(from block {blocknumber:,} to {latest_block[\"number\"]:,})')\n",
    "plt.legend(frameon=False);"
   ]
  },
  {
   "cell_type": "markdown",
   "metadata": {},
   "source": [
    "## Decoding the transactions Uniswap transactions from the blocks"
   ]
  },
  {
   "cell_type": "code",
   "execution_count": 14,
   "metadata": {},
   "outputs": [],
   "source": [
    "# Load in the ABIs\n",
    "with open('abi/UniswapV3Pool.json', 'r') as f:\n",
    "    uniswap_v3_pool_abi = json.load(f)\n",
    "\n",
    "with open('abi/UniswapV2Pair.json', 'r') as f:\n",
    "    uniswap_v2_pair_abi = json.load(f)"
   ]
  },
  {
   "cell_type": "code",
   "execution_count": 15,
   "metadata": {},
   "outputs": [],
   "source": [
    "def liquidity_events(tx_hash):\n",
    "    # Get transaction receipt\n",
    "    tx_receipt = w3.eth.get_transaction_receipt(tx_hash)\n",
    "\n",
    "    liquidity_events = []\n",
    "    events = [\"Swap\", \"Mint\", \"Burn\"]\n",
    "    abis = [uniswap_v2_pair_abi, uniswap_v3_pool_abi]\n",
    "\n",
    "    for log in tx_receipt['logs']:\n",
    "        # Try to parse the log using both V2 and V3 contract ABI\\\n",
    "\n",
    "        for abi in abis:\n",
    "            contract = w3.eth.contract(abi=abi, address=log['address'])\n",
    "        \n",
    "        \n",
    "            # Parse the logs for Swap, Mint, and Burn events\n",
    "            for event in events:\n",
    "                try:\n",
    "                    event_data = getattr(contract.events, event)().process_log(log)\n",
    "                except:\n",
    "                    continue\n",
    "\n",
    "                liquidity_events.append(event_data)\n",
    "\n",
    "    return liquidity_events"
   ]
  },
  {
   "cell_type": "code",
   "execution_count": 28,
   "metadata": {},
   "outputs": [],
   "source": [
    "limit = 100_000\n",
    "n_chunks = 6"
   ]
  },
  {
   "cell_type": "code",
   "execution_count": 36,
   "metadata": {},
   "outputs": [
    {
     "name": "stderr",
     "output_type": "stream",
     "text": [
      "100%|██████████| 16667/16667 [27:15<00:00, 10.19it/s]  \n",
      "100%|██████████| 16666/16666 [27:40<00:00, 10.04it/s]\n",
      "100%|██████████| 16667/16667 [28:16<00:00,  9.82it/s]\n",
      "100%|██████████| 16667/16667 [28:30<00:00,  9.75it/s]\n",
      "100%|██████████| 16666/16666 [28:52<00:00,  9.62it/s]\n",
      "100%|██████████| 16667/16667 [29:25<00:00,  9.44it/s]\n"
     ]
    }
   ],
   "source": [
    "%%time\n",
    "# Define the function to be used in a separate process\n",
    "def process_chunk(chunk):\n",
    "    all_events = []\n",
    "    for tx in tqdm(chunk):\n",
    "        all_events += liquidity_events(tx)\n",
    "    return all_events\n",
    "\n",
    "# Split the data into 4 chunks\n",
    "chunks = np.array_split(block_transactions[:limit], n_chunks)\n",
    "\n",
    "# Create a pool of processes\n",
    "with Pool(processes=n_chunks) as pool:\n",
    "    # Use the pool's map method to assign each chunk to a separate process\n",
    "    result = pool.map(process_chunk, chunks)\n",
    "\n",
    "# Combine the results from each process into a single list\n",
    "all_events = [event for sublist in result for event in sublist]"
   ]
  },
  {
   "cell_type": "code",
   "execution_count": 37,
   "metadata": {},
   "outputs": [
    {
     "data": {
      "text/plain": [
       "UniswapVersion  Event\n",
       "V2              Swap     16485\n",
       "                Mint       440\n",
       "                Burn       194\n",
       "V3              Swap      5536\n",
       "Name: count, dtype: int64"
      ]
     },
     "execution_count": 37,
     "metadata": {},
     "output_type": "execute_result"
    }
   ],
   "source": [
    "df = pd.DataFrame([{'UniswapVersion': 'V3' if 'sqrtPriceX96' in event.args else 'V2', 'Event': event.event} for event in all_events])\n",
    "\n",
    "df.groupby(\"UniswapVersion\").Event.value_counts()"
   ]
  },
  {
   "cell_type": "code",
   "execution_count": 39,
   "metadata": {},
   "outputs": [
    {
     "data": {
      "text/plain": [
       "False"
      ]
     },
     "execution_count": 39,
     "metadata": {},
     "output_type": "execute_result"
    }
   ],
   "source": [
    "\"0x819bc29517ade878e3c5b4d85a19b189c2aa1abe7a545447adfff77a35eeff2f\" in block_transactions[:limit]"
   ]
  },
  {
   "cell_type": "code",
   "execution_count": null,
   "metadata": {},
   "outputs": [],
   "source": []
  }
 ],
 "metadata": {
  "kernelspec": {
   "display_name": "venv",
   "language": "python",
   "name": "python3"
  },
  "language_info": {
   "codemirror_mode": {
    "name": "ipython",
    "version": 3
   },
   "file_extension": ".py",
   "mimetype": "text/x-python",
   "name": "python",
   "nbconvert_exporter": "python",
   "pygments_lexer": "ipython3",
   "version": "3.11.0"
  },
  "orig_nbformat": 4
 },
 "nbformat": 4,
 "nbformat_minor": 2
}
