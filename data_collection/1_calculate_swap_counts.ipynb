{
 "cells": [
  {
   "cell_type": "code",
   "execution_count": 15,
   "metadata": {},
   "outputs": [],
   "source": [
    "import polars as pl\n",
    "from pathlib import Path\n",
    "import matplotlib.pyplot as plt"
   ]
  },
  {
   "cell_type": "code",
   "execution_count": 3,
   "metadata": {},
   "outputs": [],
   "source": [
    "base = Path(\"/Users/larsankile/code/defi-measurement/data\")"
   ]
  },
  {
   "cell_type": "code",
   "execution_count": 19,
   "metadata": {},
   "outputs": [],
   "source": [
    "# Group by `address` and `block_number` and count the number of swaps\n",
    "# but do it lazily\n",
    "swap_counts = (\n",
    "    pl.scan_parquet(base / \"pool_swap_events/*.parquet\").group_by([\"address\", \"block_number\"]).agg(swap_count=pl.len())\n",
    ").collect()"
   ]
  },
  {
   "cell_type": "code",
   "execution_count": 21,
   "metadata": {},
   "outputs": [
    {
     "data": {
      "text/html": [
       "<div><style>\n",
       ".dataframe > thead > tr,\n",
       ".dataframe > tbody > tr {\n",
       "  text-align: right;\n",
       "  white-space: pre-wrap;\n",
       "}\n",
       "</style>\n",
       "<small>shape: (25_003_904, 3)</small><table border=\"1\" class=\"dataframe\"><thead><tr><th>address</th><th>block_number</th><th>swap_count</th></tr><tr><td>str</td><td>i64</td><td>u32</td></tr></thead><tbody><tr><td>&quot;0x88e6a0c2ddd26feeb64f039a2c41…</td><td>18474075</td><td>230</td></tr><tr><td>&quot;0xb5f36b7e7313a969aa5014007fc9…</td><td>20055819</td><td>206</td></tr><tr><td>&quot;0xa42bfbf7c87207874ce975b59d42…</td><td>18622654</td><td>159</td></tr><tr><td>&quot;0x89872444a66ce6f85232cb3b6540…</td><td>20193897</td><td>135</td></tr><tr><td>&quot;0x6505215f0aa54ccef41b24ee62ea…</td><td>18551883</td><td>129</td></tr><tr><td>&hellip;</td><td>&hellip;</td><td>&hellip;</td></tr><tr><td>&quot;0x37a981532d7a2754ec53f9fd86fc…</td><td>18872797</td><td>1</td></tr><tr><td>&quot;0xeec08e6cab52e83aa3f6d3224c6d…</td><td>18668114</td><td>1</td></tr><tr><td>&quot;0xd34e4855146ac0c6d0e4a652bd5f…</td><td>13657944</td><td>1</td></tr><tr><td>&quot;0xc2e9f25be6257c210d7adf0d4cd6…</td><td>13404064</td><td>1</td></tr><tr><td>&quot;0xe936f0073549ad8b1fa53583600d…</td><td>16873669</td><td>1</td></tr></tbody></table></div>"
      ],
      "text/plain": [
       "shape: (25_003_904, 3)\n",
       "┌─────────────────────────────────┬──────────────┬────────────┐\n",
       "│ address                         ┆ block_number ┆ swap_count │\n",
       "│ ---                             ┆ ---          ┆ ---        │\n",
       "│ str                             ┆ i64          ┆ u32        │\n",
       "╞═════════════════════════════════╪══════════════╪════════════╡\n",
       "│ 0x88e6a0c2ddd26feeb64f039a2c41… ┆ 18474075     ┆ 230        │\n",
       "│ 0xb5f36b7e7313a969aa5014007fc9… ┆ 20055819     ┆ 206        │\n",
       "│ 0xa42bfbf7c87207874ce975b59d42… ┆ 18622654     ┆ 159        │\n",
       "│ 0x89872444a66ce6f85232cb3b6540… ┆ 20193897     ┆ 135        │\n",
       "│ 0x6505215f0aa54ccef41b24ee62ea… ┆ 18551883     ┆ 129        │\n",
       "│ …                               ┆ …            ┆ …          │\n",
       "│ 0x37a981532d7a2754ec53f9fd86fc… ┆ 18872797     ┆ 1          │\n",
       "│ 0xeec08e6cab52e83aa3f6d3224c6d… ┆ 18668114     ┆ 1          │\n",
       "│ 0xd34e4855146ac0c6d0e4a652bd5f… ┆ 13657944     ┆ 1          │\n",
       "│ 0xc2e9f25be6257c210d7adf0d4cd6… ┆ 13404064     ┆ 1          │\n",
       "│ 0xe936f0073549ad8b1fa53583600d… ┆ 16873669     ┆ 1          │\n",
       "└─────────────────────────────────┴──────────────┴────────────┘"
      ]
     },
     "execution_count": 21,
     "metadata": {},
     "output_type": "execute_result"
    }
   ],
   "source": [
    "swap_counts.sort(\"swap_count\", descending=True)"
   ]
  },
  {
   "cell_type": "code",
   "execution_count": 18,
   "metadata": {},
   "outputs": [
    {
     "data": {
      "text/plain": [
       "[]"
      ]
     },
     "execution_count": 18,
     "metadata": {},
     "output_type": "execute_result"
    },
    {
     "data": {
      "image/png": "[encoded data removed]",
      "text/plain": [
       "<Figure size 640x480 with 1 Axes>"
      ]
     },
     "metadata": {},
     "output_type": "display_data"
    }
   ],
   "source": [
    "plt.hist(swap_counts.get_column(\"count\").to_numpy(), bins=100)\n",
    "plt.loglog()"
   ]
  },
  {
   "cell_type": "code",
   "execution_count": 22,
   "metadata": {},
   "outputs": [],
   "source": [
    "# Write the result to a file\n",
    "swap_counts.write_parquet(base / \"swap_counts.parquet\")"
   ]
  },
  {
   "cell_type": "code",
   "execution_count": null,
   "metadata": {},
   "outputs": [],
   "source": []
  }
 ],
 "metadata": {
  "kernelspec": {
   "display_name": "venv",
   "language": "python",
   "name": "python3"
  },
  "language_info": {
   "codemirror_mode": {
    "name": "ipython",
    "version": 3
   },
   "file_extension": ".py",
   "mimetype": "text/x-python",
   "name": "python",
   "nbconvert_exporter": "python",
   "pygments_lexer": "ipython3",
   "version": "3.11.4"
  }
 },
 "nbformat": 4,
 "nbformat_minor": 2
}
