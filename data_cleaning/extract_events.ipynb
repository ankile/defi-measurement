{
 "cells": [
  {
   "cell_type": "code",
   "execution_count": 26,
   "metadata": {},
   "outputs": [
    {
     "data": {
      "text/plain": [
       "True"
      ]
     },
     "execution_count": 26,
     "metadata": {},
     "output_type": "execute_result"
    }
   ],
   "source": [
    "import json\n",
    "\n",
    "from web3 import Web3\n",
    "import pandas as pd\n",
    "\n",
    "from datetime import datetime\n",
    "\n",
    "import matplotlib.pyplot as plt\n",
    "import bisect\n",
    "\n",
    "# Import python dotenv\n",
    "from dotenv import load_dotenv\n",
    "import numpy as np\n",
    "import os\n",
    "\n",
    "from operator import itemgetter\n",
    "\n",
    "from tqdm import tqdm, trange\n",
    "\n",
    "# Import sqlalchemy\n",
    "from sqlalchemy import create_engine\n",
    "\n",
    "from sqlalchemy import MetaData, Table, String, Column, Text, DateTime, Boolean, Integer, BigInteger, Float, ForeignKey, Numeric\n",
    "from sqlalchemy.orm.mapper import Mapper\n",
    "from datetime import datetime\n",
    "\n",
    "from pymongo import MongoClient, UpdateOne, DESCENDING, ASCENDING, InsertOne, DeleteOne\n",
    "\n",
    "\n",
    "load_dotenv(override=True)"
   ]
  },
  {
   "cell_type": "code",
   "execution_count": 2,
   "metadata": {},
   "outputs": [],
   "source": [
    "w3 = Web3(Web3.HTTPProvider('http://localhost:8545'))\n"
   ]
  },
  {
   "cell_type": "code",
   "execution_count": 3,
   "metadata": {},
   "outputs": [],
   "source": [
    "postgres_uri = os.getenv(\"POSTGRESQL_URI\")\n",
    "\n",
    "assert postgres_uri is not None, \"POSTGRESQL_URI is not set in .env file\"\n",
    "\n",
    "engine = create_engine(postgres_uri)"
   ]
  },
  {
   "cell_type": "code",
   "execution_count": 27,
   "metadata": {},
   "outputs": [
    {
     "data": {
      "text/plain": [
       "394313"
      ]
     },
     "execution_count": 27,
     "metadata": {},
     "output_type": "execute_result"
    }
   ],
   "source": [
    "# Connect to mongodb\n",
    "client = MongoClient(os.getenv(\"MONGO_URI\"))\n",
    "\n",
    "# Get database\n",
    "mempool = client.transactions.mempool\n",
    "\n",
    "mempool.estimated_document_count()"
   ]
  },
  {
   "cell_type": "code",
   "execution_count": 18,
   "metadata": {},
   "outputs": [],
   "source": [
    "metadata = MetaData()"
   ]
  },
  {
   "cell_type": "markdown",
   "metadata": {},
   "source": [
    "## Define Swap schema"
   ]
  },
  {
   "cell_type": "code",
   "execution_count": 19,
   "metadata": {},
   "outputs": [
    {
     "data": {
      "text/plain": [
       "'\\nblock_timestamp     TIMESTAMP\\tNULLABLE                        \\nblock_number        INTEGER\\t    NULLABLE                        \\ntransaction_hash    STRING\\t    NULLABLE                            \\nlog_index           INTEGER\\t    NULLABLE                    \\nsender              STRING\\t    NULLABLE                \\nrecipient           STRING\\t    NULLABLE                    \\namount0             STRING\\t    NULLABLE                \\namount1             STRING\\t    NULLABLE                \\nsqrtPriceX96        STRING\\t    NULLABLE                        \\nliquidity           STRING\\t    NULLABLE                    \\ntick                STRING\\t    NULLABLE                \\naddress             STRING\\t    NULLABLE                \\nfrom_address        STRING\\t    NULLABLE                        \\nto_address          STRING\\t    NULLABLE                    \\ntransaction_index   INTEGER\\t    NULLABLE                               \\n'"
      ]
     },
     "execution_count": 19,
     "metadata": {},
     "output_type": "execute_result"
    }
   ],
   "source": [
    "# Swap table:\n",
    "\n",
    "\"\"\"\n",
    "block_timestamp     TIMESTAMP\tNULLABLE                        \n",
    "block_number        INTEGER\t    NULLABLE                        \n",
    "transaction_hash    STRING\t    NULLABLE                            \n",
    "log_index           INTEGER\t    NULLABLE                    \n",
    "sender              STRING\t    NULLABLE                \n",
    "recipient           STRING\t    NULLABLE                    \n",
    "amount0             STRING\t    NULLABLE                \n",
    "amount1             STRING\t    NULLABLE                \n",
    "sqrtPriceX96        STRING\t    NULLABLE                        \n",
    "liquidity           STRING\t    NULLABLE                    \n",
    "tick                STRING\t    NULLABLE                \n",
    "address             STRING\t    NULLABLE                \n",
    "from_address        STRING\t    NULLABLE                        \n",
    "to_address          STRING\t    NULLABLE                    \n",
    "transaction_index   INTEGER\t    NULLABLE                               \n",
    "\"\"\""
   ]
  },
  {
   "cell_type": "code",
   "execution_count": 63,
   "metadata": {},
   "outputs": [],
   "source": [
    "from sqlalchemy import Column, Integer, String, DateTime, Boolean\n",
    "from sqlalchemy.orm import declarative_base\n",
    "from sqlalchemy.orm import sessionmaker\n",
    "\n",
    "Base = declarative_base()\n",
    "\n",
    "class Swap(Base):\n",
    "    __tablename__ = \"swaps\"\n",
    "\n",
    "    # id = Column(Integer, primary_key=True, index=True, autoincrement=True)\n",
    "    transaction_hash = Column(String, index=True)\n",
    "    block_timestamp = Column(DateTime, nullable=False)\n",
    "    block_number = Column(Integer, nullable=False, index=True, primary_key=True)\n",
    "    transaction_index = Column(Integer, nullable=False, primary_key=True)\n",
    "    log_index = Column(Integer, nullable=False, primary_key=True)\n",
    "    sender = Column(String, nullable=False, index=True)\n",
    "    recipient = Column(String, nullable=False, index=True)\n",
    "    amount0 = Column(String, nullable=False)\n",
    "    amount1 = Column(String, nullable=False)\n",
    "    sqrtPriceX96 = Column(String, nullable=False)\n",
    "    liquidity = Column(String, nullable=False)\n",
    "    tick = Column(String, nullable=False)\n",
    "    address = Column(String, nullable=False, index=True)\n",
    "    from_address = Column(String, nullable=False, index=True)\n",
    "    to_address = Column(String, nullable=False, index=True)\n",
    "    from_mempool = Column(Boolean)"
   ]
  },
  {
   "cell_type": "code",
   "execution_count": 64,
   "metadata": {},
   "outputs": [],
   "source": [
    "# Create a Session class bound to this engine\n",
    "Session = sessionmaker(bind=engine)\n",
    "\n",
    "# Now create the table\n",
    "Base.metadata.create_all(engine)"
   ]
  },
  {
   "cell_type": "markdown",
   "metadata": {},
   "source": [
    "## Ingest data from the blockchain into the Swap schema"
   ]
  },
  {
   "cell_type": "code",
   "execution_count": 66,
   "metadata": {},
   "outputs": [],
   "source": [
    "# Load in the ABIs\n",
    "with open('abi/UniswapV3Pool.json', 'r') as f:\n",
    "    uniswap_v3_pool_abi = json.load(f)\n",
    "\n",
    "with open('abi/UniswapV2Pair.json', 'r') as f:\n",
    "    uniswap_v2_pair_abi = json.load(f)\n",
    "\n",
    "def v3_swaps(tx_hash):\n",
    "    # Get transaction receipt\n",
    "    tx_receipt = w3.eth.get_transaction_receipt(tx_hash)\n",
    "\n",
    "    liquidity_events = []\n",
    "\n",
    "    for log in tx_receipt['logs']:\n",
    "\n",
    "        contract = w3.eth.contract(abi=uniswap_v3_pool_abi, address=log['address'])\n",
    "    \n",
    "        # Parse the logs for Swap, Mint, and Burn events\n",
    "        try:\n",
    "            event_data = contract.events.Swap().process_log(log)\n",
    "        except:\n",
    "            continue\n",
    "\n",
    "        liquidity_events.append(event_data)\n",
    "\n",
    "    return liquidity_events"
   ]
  },
  {
   "cell_type": "code",
   "execution_count": 67,
   "metadata": {},
   "outputs": [],
   "source": [
    "from datetime import datetime\n",
    "from pydantic import BaseModel\n",
    "\n",
    "class SwapArgs(BaseModel):\n",
    "    sender: str\n",
    "    recipient: str\n",
    "    amount0: int\n",
    "    amount1: int\n",
    "    sqrtPriceX96: int\n",
    "    liquidity: int\n",
    "    tick: int\n",
    "\n",
    "class SwapData(BaseModel):\n",
    "    args: SwapArgs\n",
    "    blockNumber: int\n",
    "    event: str\n",
    "    logIndex: int\n",
    "    transactionIndex: int\n",
    "    address: str\n",
    "    blockNumber: int"
   ]
  },
  {
   "cell_type": "code",
   "execution_count": 99,
   "metadata": {},
   "outputs": [
    {
     "name": "stderr",
     "output_type": "stream",
     "text": [
      " 24%|██▍       | 244/1000 [10:57<33:57,  2.69s/it, swaps_to_insert=26] \n"
     ]
    },
    {
     "ename": "KeyboardInterrupt",
     "evalue": "",
     "output_type": "error",
     "traceback": [
      "\u001b[0;31m---------------------------------------------------------------------------\u001b[0m",
      "\u001b[0;31mKeyboardInterrupt\u001b[0m                         Traceback (most recent call last)",
      "Cell \u001b[0;32mIn[99], line 23\u001b[0m\n\u001b[1;32m     20\u001b[0m tx_hash \u001b[39m=\u001b[39m w3\u001b[39m.\u001b[39mto_hex(transaction) \u001b[39m# type: ignore\u001b[39;00m\n\u001b[1;32m     22\u001b[0m \u001b[39m# Get swaps from transaction\u001b[39;00m\n\u001b[0;32m---> 23\u001b[0m swaps \u001b[39m=\u001b[39m v3_swaps(tx_hash)\n\u001b[1;32m     25\u001b[0m \u001b[39mfor\u001b[39;00m swap \u001b[39min\u001b[39;00m swaps:\n\u001b[1;32m     27\u001b[0m     swap \u001b[39m=\u001b[39m SwapData(\u001b[39m*\u001b[39m\u001b[39m*\u001b[39mswap)\n",
      "Cell \u001b[0;32mIn[66], line 16\u001b[0m, in \u001b[0;36mv3_swaps\u001b[0;34m(tx_hash)\u001b[0m\n\u001b[1;32m     12\u001b[0m liquidity_events \u001b[39m=\u001b[39m []\n\u001b[1;32m     14\u001b[0m \u001b[39mfor\u001b[39;00m log \u001b[39min\u001b[39;00m tx_receipt[\u001b[39m'\u001b[39m\u001b[39mlogs\u001b[39m\u001b[39m'\u001b[39m]:\n\u001b[0;32m---> 16\u001b[0m     contract \u001b[39m=\u001b[39m w3\u001b[39m.\u001b[39;49meth\u001b[39m.\u001b[39;49mcontract(abi\u001b[39m=\u001b[39;49muniswap_v3_pool_abi, address\u001b[39m=\u001b[39;49mlog[\u001b[39m'\u001b[39;49m\u001b[39maddress\u001b[39;49m\u001b[39m'\u001b[39;49m])\n\u001b[1;32m     18\u001b[0m     \u001b[39m# Parse the logs for Swap, Mint, and Burn events\u001b[39;00m\n\u001b[1;32m     19\u001b[0m     \u001b[39mtry\u001b[39;00m:\n",
      "File \u001b[0;32m~/defi-measurement/venv/lib/python3.11/site-packages/web3/eth/eth.py:652\u001b[0m, in \u001b[0;36mEth.contract\u001b[0;34m(self, address, **kwargs)\u001b[0m\n\u001b[1;32m    643\u001b[0m \u001b[39mdef\u001b[39;00m \u001b[39mcontract\u001b[39m(\n\u001b[1;32m    644\u001b[0m     \u001b[39mself\u001b[39m,\n\u001b[1;32m    645\u001b[0m     address: Optional[Union[Address, ChecksumAddress, ENS]] \u001b[39m=\u001b[39m \u001b[39mNone\u001b[39;00m,\n\u001b[1;32m    646\u001b[0m     \u001b[39m*\u001b[39m\u001b[39m*\u001b[39mkwargs: Any,\n\u001b[1;32m    647\u001b[0m ) \u001b[39m-\u001b[39m\u001b[39m>\u001b[39m Union[Type[Contract], Contract]:\n\u001b[1;32m    648\u001b[0m     ContractFactoryClass \u001b[39m=\u001b[39m kwargs\u001b[39m.\u001b[39mpop(\n\u001b[1;32m    649\u001b[0m         \u001b[39m\"\u001b[39m\u001b[39mContractFactoryClass\u001b[39m\u001b[39m\"\u001b[39m, \u001b[39mself\u001b[39m\u001b[39m.\u001b[39m_default_contract_factory\n\u001b[1;32m    650\u001b[0m     )\n\u001b[0;32m--> 652\u001b[0m     ContractFactory \u001b[39m=\u001b[39m ContractFactoryClass\u001b[39m.\u001b[39;49mfactory(\u001b[39mself\u001b[39;49m\u001b[39m.\u001b[39;49mw3, \u001b[39m*\u001b[39;49m\u001b[39m*\u001b[39;49mkwargs)\n\u001b[1;32m    654\u001b[0m     \u001b[39mif\u001b[39;00m address:\n\u001b[1;32m    655\u001b[0m         \u001b[39mreturn\u001b[39;00m ContractFactory(address)\n",
      "File \u001b[0;32m~/defi-measurement/venv/lib/python3.11/site-packages/web3/contract/contract.py:317\u001b[0m, in \u001b[0;36mContract.factory\u001b[0;34m(cls, w3, class_name, **kwargs)\u001b[0m\n\u001b[1;32m    301\u001b[0m normalizers \u001b[39m=\u001b[39m {\n\u001b[1;32m    302\u001b[0m     \u001b[39m\"\u001b[39m\u001b[39mabi\u001b[39m\u001b[39m\"\u001b[39m: normalize_abi,\n\u001b[1;32m    303\u001b[0m     \u001b[39m\"\u001b[39m\u001b[39maddress\u001b[39m\u001b[39m\"\u001b[39m: partial(normalize_address, w3\u001b[39m.\u001b[39mens),\n\u001b[1;32m    304\u001b[0m     \u001b[39m\"\u001b[39m\u001b[39mbytecode\u001b[39m\u001b[39m\"\u001b[39m: normalize_bytecode,\n\u001b[1;32m    305\u001b[0m     \u001b[39m\"\u001b[39m\u001b[39mbytecode_runtime\u001b[39m\u001b[39m\"\u001b[39m: normalize_bytecode,\n\u001b[1;32m    306\u001b[0m }\n\u001b[1;32m    308\u001b[0m contract \u001b[39m=\u001b[39m cast(\n\u001b[1;32m    309\u001b[0m     Contract,\n\u001b[1;32m    310\u001b[0m     PropertyCheckingFactory(\n\u001b[0;32m   (...)\u001b[0m\n\u001b[1;32m    315\u001b[0m     ),\n\u001b[1;32m    316\u001b[0m )\n\u001b[0;32m--> 317\u001b[0m contract\u001b[39m.\u001b[39mfunctions \u001b[39m=\u001b[39m ContractFunctions(\n\u001b[1;32m    318\u001b[0m     contract\u001b[39m.\u001b[39;49mabi, contract\u001b[39m.\u001b[39;49mw3, decode_tuples\u001b[39m=\u001b[39;49mcontract\u001b[39m.\u001b[39;49mdecode_tuples\n\u001b[1;32m    319\u001b[0m )\n\u001b[1;32m    320\u001b[0m contract\u001b[39m.\u001b[39mcaller \u001b[39m=\u001b[39m ContractCaller(\n\u001b[1;32m    321\u001b[0m     contract\u001b[39m.\u001b[39mabi,\n\u001b[1;32m    322\u001b[0m     contract\u001b[39m.\u001b[39mw3,\n\u001b[1;32m    323\u001b[0m     contract\u001b[39m.\u001b[39maddress,\n\u001b[1;32m    324\u001b[0m     decode_tuples\u001b[39m=\u001b[39mcontract\u001b[39m.\u001b[39mdecode_tuples,\n\u001b[1;32m    325\u001b[0m )\n\u001b[1;32m    326\u001b[0m contract\u001b[39m.\u001b[39mevents \u001b[39m=\u001b[39m ContractEvents(contract\u001b[39m.\u001b[39mabi, contract\u001b[39m.\u001b[39mw3)\n",
      "File \u001b[0;32m~/defi-measurement/venv/lib/python3.11/site-packages/web3/contract/contract.py:102\u001b[0m, in \u001b[0;36mContractFunctions.__init__\u001b[0;34m(self, abi, w3, address, decode_tuples)\u001b[0m\n\u001b[1;32m     95\u001b[0m \u001b[39mdef\u001b[39;00m \u001b[39m__init__\u001b[39m(\n\u001b[1;32m     96\u001b[0m     \u001b[39mself\u001b[39m,\n\u001b[1;32m     97\u001b[0m     abi: ABI,\n\u001b[0;32m   (...)\u001b[0m\n\u001b[1;32m    100\u001b[0m     decode_tuples: Optional[\u001b[39mbool\u001b[39m] \u001b[39m=\u001b[39m \u001b[39mFalse\u001b[39;00m,\n\u001b[1;32m    101\u001b[0m ) \u001b[39m-\u001b[39m\u001b[39m>\u001b[39m \u001b[39mNone\u001b[39;00m:\n\u001b[0;32m--> 102\u001b[0m     \u001b[39msuper\u001b[39;49m()\u001b[39m.\u001b[39;49m\u001b[39m__init__\u001b[39;49m(abi, w3, ContractFunction, address, decode_tuples)\n",
      "File \u001b[0;32m~/defi-measurement/venv/lib/python3.11/site-packages/web3/contract/base_contract.py:447\u001b[0m, in \u001b[0;36mBaseContractFunctions.__init__\u001b[0;34m(self, abi, w3, contract_function_class, address, decode_tuples)\u001b[0m\n\u001b[1;32m    442\u001b[0m \u001b[39mself\u001b[39m\u001b[39m.\u001b[39m_functions \u001b[39m=\u001b[39m filter_by_type(\u001b[39m\"\u001b[39m\u001b[39mfunction\u001b[39m\u001b[39m\"\u001b[39m, \u001b[39mself\u001b[39m\u001b[39m.\u001b[39mabi)\n\u001b[1;32m    443\u001b[0m \u001b[39mfor\u001b[39;00m func \u001b[39min\u001b[39;00m \u001b[39mself\u001b[39m\u001b[39m.\u001b[39m_functions:\n\u001b[1;32m    444\u001b[0m     \u001b[39msetattr\u001b[39m(\n\u001b[1;32m    445\u001b[0m         \u001b[39mself\u001b[39m,\n\u001b[1;32m    446\u001b[0m         func[\u001b[39m\"\u001b[39m\u001b[39mname\u001b[39m\u001b[39m\"\u001b[39m],\n\u001b[0;32m--> 447\u001b[0m         contract_function_class\u001b[39m.\u001b[39;49mfactory(\n\u001b[1;32m    448\u001b[0m             func[\u001b[39m\"\u001b[39;49m\u001b[39mname\u001b[39;49m\u001b[39m\"\u001b[39;49m],\n\u001b[1;32m    449\u001b[0m             w3\u001b[39m=\u001b[39;49m\u001b[39mself\u001b[39;49m\u001b[39m.\u001b[39;49mw3,\n\u001b[1;32m    450\u001b[0m             contract_abi\u001b[39m=\u001b[39;49m\u001b[39mself\u001b[39;49m\u001b[39m.\u001b[39;49mabi,\n\u001b[1;32m    451\u001b[0m             address\u001b[39m=\u001b[39;49m\u001b[39mself\u001b[39;49m\u001b[39m.\u001b[39;49maddress,\n\u001b[1;32m    452\u001b[0m             decode_tuples\u001b[39m=\u001b[39;49mdecode_tuples,\n\u001b[1;32m    453\u001b[0m             function_identifier\u001b[39m=\u001b[39;49mfunc[\u001b[39m\"\u001b[39;49m\u001b[39mname\u001b[39;49m\u001b[39m\"\u001b[39;49m],\n\u001b[1;32m    454\u001b[0m         ),\n\u001b[1;32m    455\u001b[0m     )\n",
      "File \u001b[0;32m~/defi-measurement/venv/lib/python3.11/site-packages/web3/contract/contract.py:424\u001b[0m, in \u001b[0;36mContractFunction.factory\u001b[0;34m(cls, class_name, **kwargs)\u001b[0m\n\u001b[1;32m    422\u001b[0m \u001b[39m@classmethod\u001b[39m\n\u001b[1;32m    423\u001b[0m \u001b[39mdef\u001b[39;00m \u001b[39mfactory\u001b[39m(\u001b[39mcls\u001b[39m, class_name: \u001b[39mstr\u001b[39m, \u001b[39m*\u001b[39m\u001b[39m*\u001b[39mkwargs: Any) \u001b[39m-\u001b[39m\u001b[39m>\u001b[39m \u001b[39m\"\u001b[39m\u001b[39mContractFunction\u001b[39m\u001b[39m\"\u001b[39m:\n\u001b[0;32m--> 424\u001b[0m     \u001b[39mreturn\u001b[39;00m PropertyCheckingFactory(class_name, (\u001b[39mcls\u001b[39;49m,), kwargs)(kwargs\u001b[39m.\u001b[39mget(\u001b[39m\"\u001b[39m\u001b[39mabi\u001b[39m\u001b[39m\"\u001b[39m))\n",
      "File \u001b[0;32m~/defi-measurement/venv/lib/python3.11/site-packages/web3/_utils/datatypes.py:48\u001b[0m, in \u001b[0;36mPropertyCheckingFactory.__new__\u001b[0;34m(mcs, name, bases, namespace, normalizers)\u001b[0m\n\u001b[1;32m     40\u001b[0m \u001b[39mdef\u001b[39;00m \u001b[39m__new__\u001b[39m(\n\u001b[1;32m     41\u001b[0m     mcs,\n\u001b[1;32m     42\u001b[0m     name: \u001b[39mstr\u001b[39m,\n\u001b[0;32m   (...)\u001b[0m\n\u001b[1;32m     45\u001b[0m     normalizers: Optional[Dict[\u001b[39mstr\u001b[39m, Any]] \u001b[39m=\u001b[39m \u001b[39mNone\u001b[39;00m,\n\u001b[1;32m     46\u001b[0m ) \u001b[39m-\u001b[39m\u001b[39m>\u001b[39m \u001b[39m\"\u001b[39m\u001b[39mPropertyCheckingFactory\u001b[39m\u001b[39m\"\u001b[39m:\n\u001b[1;32m     47\u001b[0m     all_bases \u001b[39m=\u001b[39m \u001b[39mset\u001b[39m(concat(base\u001b[39m.\u001b[39m\u001b[39m__mro__\u001b[39m \u001b[39mfor\u001b[39;00m base \u001b[39min\u001b[39;00m bases))\n\u001b[0;32m---> 48\u001b[0m     all_keys \u001b[39m=\u001b[39m \u001b[39mset\u001b[39m(concat(base\u001b[39m.\u001b[39;49m\u001b[39m__dict__\u001b[39;49m\u001b[39m.\u001b[39;49mkeys() \u001b[39mfor\u001b[39;49;00m base \u001b[39min\u001b[39;49;00m all_bases))\n\u001b[1;32m     50\u001b[0m     \u001b[39mfor\u001b[39;00m key \u001b[39min\u001b[39;00m namespace:\n\u001b[1;32m     51\u001b[0m         verify_attr(name, key, all_keys)\n",
      "\u001b[0;31mKeyboardInterrupt\u001b[0m: "
     ]
    }
   ],
   "source": [
    "start_block = 17_495_444\n",
    "blocks_to_process = 1_000\n",
    "\n",
    "swaps_to_insert = []\n",
    "\n",
    "it = trange(start_block, start_block + blocks_to_process)\n",
    "for block_number in it:\n",
    "    block = w3.eth.get_block(block_number)\n",
    "    \n",
    "    if 'transactions' not in block:\n",
    "        with open(f'./errors.txt', 'a') as f:\n",
    "            f.writelines(f'Block {block_number} has no transactions\\n')\n",
    "        continue\n",
    "\n",
    "    block_timestamp = datetime.fromtimestamp(block['timestamp'] if 'timestamp' in block else 0)\n",
    "\n",
    "    for transaction in block['transactions']:\n",
    "\n",
    "        # Get transaction hash\n",
    "        tx_hash = w3.to_hex(transaction) # type: ignore\n",
    "\n",
    "        # Get swaps from transaction\n",
    "        swaps = v3_swaps(tx_hash)\n",
    "\n",
    "        for swap in swaps:\n",
    "\n",
    "            swap = SwapData(**swap)\n",
    "\n",
    "            # Check if this transaction is in the mempool database from mongo\n",
    "            from_mempool = bool(mempool.find_one({'hash': tx_hash}))\n",
    "\n",
    "            swap_to_insert = Swap(\n",
    "                transaction_hash=tx_hash,\n",
    "                block_timestamp=block_timestamp,\n",
    "                block_number=block_number,\n",
    "                log_index=swap.logIndex,\n",
    "                sender=swap.args.sender,\n",
    "                recipient=swap.args.recipient,\n",
    "                amount0=str(swap.args.amount0),\n",
    "                amount1=str(swap.args.amount1),\n",
    "                sqrtPriceX96=str(swap.args.sqrtPriceX96),\n",
    "                liquidity=str(swap.args.liquidity),\n",
    "                tick=str(swap.args.tick),\n",
    "                address=swap.address,\n",
    "                from_address=swap.args.sender,\n",
    "                to_address=swap.args.recipient,\n",
    "                transaction_index=swap.transactionIndex,\n",
    "                from_mempool=from_mempool,\n",
    "            )\n",
    "\n",
    "            swaps_to_insert.append(swap_to_insert)\n",
    "            it.set_postfix({\"swaps_to_insert\": len(swaps_to_insert)})\n",
    "\n",
    "\n",
    "    # Checkpoint if we get more than 100 swaps\n",
    "    if len(swaps_to_insert) > 100:\n",
    "        # Insert the swaps into the database\n",
    "        with Session() as session:\n",
    "            for swap in swaps_to_insert:\n",
    "                session.merge(swap)\n",
    "            session.commit()\n",
    "\n",
    "        swaps_to_insert = []\n"
   ]
  },
  {
   "cell_type": "code",
   "execution_count": 92,
   "metadata": {},
   "outputs": [],
   "source": []
  },
  {
   "cell_type": "code",
   "execution_count": 98,
   "metadata": {},
   "outputs": [
    {
     "data": {
      "text/plain": [
       "['0xf17dabeadc1c5968387650ebdaab0b14b97168a7dbc096b652503ddd9aae42e4',\n",
       " '0x8ebe4d9171bd97bc026400de168aff6f0e78b23d1350f0e347a6cd5884ec2e42',\n",
       " '0x8b6f95d7c004a0996559df3f1c87e22698909c46bb429cc6ee8f35884d458c57',\n",
       " '0xca477dee6bef4733e03c6e45ffa3777e124acac488464dfe0db16b7dece24188',\n",
       " '0x528f0742665e6ff4b442a1c8c569070449fa256b86bd15f84f97aae258ee7d0d',\n",
       " '0x12916e6fb5c2448862bcf7276ac40fbd28ee35e7f29ab95ae57e796e5fd93c7e',\n",
       " '0x64291b6c47130673ff1af5020cae0128671e70449bd15a84bdb501b896ea80e5',\n",
       " '0x487d8033169bcacb8c4c9541f5c66126aa89fd4493984c051bc237c70de10ac3',\n",
       " '0x95edf1efe3014d47a31a0c9ab217122fe9be60527c2e4474f0f5a5ceb312c260',\n",
       " '0x20386bb814423cbcf8c2f707427a55e62b397896212a4d8f6ba2c85ea6817bba']"
      ]
     },
     "execution_count": 98,
     "metadata": {},
     "output_type": "execute_result"
    }
   ],
   "source": [
    "a = [x['hash'] for x in mempool.find(sort=[('ts', ASCENDING)]).skip(20).limit(10)]\n",
    "\n",
    "# all(a == a.lower() for a in a)\n",
    "\n",
    "a"
   ]
  },
  {
   "cell_type": "code",
   "execution_count": 84,
   "metadata": {},
   "outputs": [
    {
     "data": {
      "text/plain": [
       "True"
      ]
     },
     "execution_count": 84,
     "metadata": {},
     "output_type": "execute_result"
    }
   ],
   "source": [
    "'0x15db41e167afa3daefff6bec3b2198ceda006041029b41b457115e6bac0cd345' in a"
   ]
  },
  {
   "cell_type": "code",
   "execution_count": 86,
   "metadata": {},
   "outputs": [
    {
     "data": {
      "text/plain": [
       "True"
      ]
     },
     "execution_count": 86,
     "metadata": {},
     "output_type": "execute_result"
    }
   ],
   "source": [
    "bool(mempool.find_one({'hash': '0x15db41e167afa3daefff6bec3b2198ceda006041029b41b457115e6bac0cd345'}))"
   ]
  },
  {
   "cell_type": "code",
   "execution_count": null,
   "metadata": {},
   "outputs": [],
   "source": []
  }
 ],
 "metadata": {
  "kernelspec": {
   "display_name": "venv",
   "language": "python",
   "name": "python3"
  },
  "language_info": {
   "codemirror_mode": {
    "name": "ipython",
    "version": 3
   },
   "file_extension": ".py",
   "mimetype": "text/x-python",
   "name": "python",
   "nbconvert_exporter": "python",
   "pygments_lexer": "ipython3",
   "version": "3.11.0rc1"
  },
  "orig_nbformat": 4
 },
 "nbformat": 4,
 "nbformat_minor": 2
}
