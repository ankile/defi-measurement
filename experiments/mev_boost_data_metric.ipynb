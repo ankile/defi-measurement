{
 "cells": [
  {
   "cell_type": "code",
   "execution_count": 1,
   "metadata": {},
   "outputs": [],
   "source": [
    "%load_ext autoreload\n",
    "%autoreload 2"
   ]
  },
  {
   "cell_type": "code",
   "execution_count": 2,
   "metadata": {},
   "outputs": [],
   "source": [
    "import os\n",
    "import pandas as pd\n",
    "from dotenv import load_dotenv\n",
    "import numpy as np\n",
    "\n",
    "from tqdm import tqdm\n",
    "\n",
    "from sqlalchemy import create_engine, Column, Integer, String, Double, DateTime, Boolean, BigInteger, Float, ARRAY, CHAR\n",
    "from sqlalchemy.orm import sessionmaker, declarative_base\n",
    "\n",
    "from typing import cast\n",
    "\n",
    "\n",
    "load_dotenv()\n",
    "\n",
    "from datetime import datetime, timezone\n",
    "from preload_pool_cache import load_pool_from_blob"
   ]
  },
  {
   "cell_type": "code",
   "execution_count": 3,
   "metadata": {},
   "outputs": [],
   "source": [
    "postgres_uri_mp = os.environ[\"POSTGRESQL_URI_MP\"]\n",
    "postgres_uri_us = os.environ[\"POSTGRESQL_URI_US\"]\n",
    "azure_storage_uri = os.environ[\"AZURE_STORAGE_CONNECTION_STRING\"]"
   ]
  },
  {
   "cell_type": "markdown",
   "metadata": {},
   "source": [
    "## Get data"
   ]
  },
  {
   "cell_type": "code",
   "execution_count": 4,
   "metadata": {},
   "outputs": [
    {
     "name": "stdout",
     "output_type": "stream",
     "text": [
      "Min block: 15537940, Max block: 17959956\n"
     ]
    }
   ],
   "source": [
    "minmax_block = pd.read_sql_query(\n",
    "    \"\"\"\n",
    "    SELECT\n",
    "        MIN(block_number) AS min_block,\n",
    "        MAX(block_number) AS max_block\n",
    "    FROM\n",
    "        mev_boost\n",
    "    \"\"\",\n",
    "    postgres_uri_mp,\n",
    ")\n",
    "\n",
    "min_block = minmax_block[\"min_block\"][0]\n",
    "max_block = minmax_block[\"max_block\"][0]\n",
    "\n",
    "print(f\"Min block: {min_block}, Max block: {max_block}\")"
   ]
  },
  {
   "cell_type": "code",
   "execution_count": 6,
   "metadata": {},
   "outputs": [
    {
     "name": "stdout",
     "output_type": "stream",
     "text": [
      "(8131, 1)\n"
     ]
    },
    {
     "data": {
      "text/html": [
       "<div>\n",
       "<style scoped>\n",
       "    .dataframe tbody tr th:only-of-type {\n",
       "        vertical-align: middle;\n",
       "    }\n",
       "\n",
       "    .dataframe tbody tr th {\n",
       "        vertical-align: top;\n",
       "    }\n",
       "\n",
       "    .dataframe thead th {\n",
       "        text-align: right;\n",
       "    }\n",
       "</style>\n",
       "<table border=\"1\" class=\"dataframe\">\n",
       "  <thead>\n",
       "    <tr style=\"text-align: right;\">\n",
       "      <th></th>\n",
       "      <th>address</th>\n",
       "    </tr>\n",
       "  </thead>\n",
       "  <tbody>\n",
       "    <tr>\n",
       "      <th>0</th>\n",
       "      <td>0xb6c945c5c3473f70968fe4de3222561e0d465a58</td>\n",
       "    </tr>\n",
       "    <tr>\n",
       "      <th>1</th>\n",
       "      <td>0x9d2713fa2f387ed1284a4176e7841253b4da2a71</td>\n",
       "    </tr>\n",
       "    <tr>\n",
       "      <th>2</th>\n",
       "      <td>0x3fae0f474145a1a771f36bd188d1cc7057a91b06</td>\n",
       "    </tr>\n",
       "    <tr>\n",
       "      <th>3</th>\n",
       "      <td>0x44f9469d0d5393d3a01a0d4fa14fe7713c1ad1f7</td>\n",
       "    </tr>\n",
       "    <tr>\n",
       "      <th>4</th>\n",
       "      <td>0xf6ed2390be39c783ae78893c91669eeb635d0429</td>\n",
       "    </tr>\n",
       "  </tbody>\n",
       "</table>\n",
       "</div>"
      ],
      "text/plain": [
       "                                      address\n",
       "0  0xb6c945c5c3473f70968fe4de3222561e0d465a58\n",
       "1  0x9d2713fa2f387ed1284a4176e7841253b4da2a71\n",
       "2  0x3fae0f474145a1a771f36bd188d1cc7057a91b06\n",
       "3  0x44f9469d0d5393d3a01a0d4fa14fe7713c1ad1f7\n",
       "4  0xf6ed2390be39c783ae78893c91669eeb635d0429"
      ]
     },
     "execution_count": 6,
     "metadata": {},
     "output_type": "execute_result"
    }
   ],
   "source": [
    "addresses = pd.read_sql_query(\n",
    "    f\"\"\"\n",
    "    SELECT DISTINCT(address) FROM swap_counts\n",
    "    WHERE block_number >= {min_block}\n",
    "    AND block_number <= {max_block}\n",
    "    ORDER BY address ASC\n",
    "    \"\"\",\n",
    "    postgres_uri_us,\n",
    ")\n",
    "\n",
    "print(addresses.shape)\n",
    "addresses.head()"
   ]
  },
  {
   "cell_type": "code",
   "execution_count": 5,
   "metadata": {},
   "outputs": [],
   "source": [
    "def get_swaps_for_address(address, min_block, max_block):\n",
    "    return pd.read_sql_query(\n",
    "        f\"\"\"\n",
    "        SELECT * FROM swaps\n",
    "        WHERE block_number >= {min_block}\n",
    "        AND block_number <= {max_block}\n",
    "        AND address = '{address}'\n",
    "        \"\"\",\n",
    "        postgres_uri_us,\n",
    "    )\n"
   ]
  },
  {
   "cell_type": "code",
   "execution_count": 6,
   "metadata": {},
   "outputs": [
    {
     "data": {
      "text/plain": [
       "9536"
      ]
     },
     "execution_count": 6,
     "metadata": {},
     "output_type": "execute_result"
    }
   ],
   "source": [
    "decimals = pd.read_sql_query(\n",
    "    f\"\"\"\n",
    "    WITH tok AS (\n",
    "    SELECT token0 AS token, decimals0 AS decimals FROM token_info\n",
    "    UNION\n",
    "    SELECT token1 AS token, decimals1 AS decimals FROM token_info\n",
    "    )\n",
    "    SELECT * FROM tok\n",
    "    WHERE tok.decimals IS NOT NULL;\n",
    "    \"\"\",\n",
    "    postgres_uri_us,\n",
    ").set_index(\"token\")\n",
    "\n",
    "decimals = decimals.decimals.to_dict()\n",
    "\n",
    "len(decimals)"
   ]
  },
  {
   "cell_type": "code",
   "execution_count": 7,
   "metadata": {},
   "outputs": [],
   "source": [
    "token_info = pd.read_sql_query(\n",
    "    f\"\"\"\n",
    "    SELECT * FROM token_info\n",
    "    \"\"\",\n",
    "    postgres_uri_us,\n",
    ").set_index(\"pool\")[[\"token0\", \"token1\", \"decimals0\", \"decimals1\"]]\n",
    "\n",
    "token_info = token_info.to_dict()"
   ]
  },
  {
   "cell_type": "markdown",
   "metadata": {},
   "source": [
    "## Calculate the metric for each block-pool pair\n",
    "\n",
    "The three only interesting p-norms to focus on is l_1, l_2, and infinity-norm (i.e., max).\n",
    "\n",
    "I want the following columns in the metric table:\n",
    "- block number (bigint)\n",
    "- pool address (string)\n",
    "- number of transactions in the block-pool pair (int)\n",
    "- From MEV-boost (bool) \n",
    "- MEV-boost amount (double)\n",
    "- baseline price p_0 (double) # to check correlations\n",
    "- realized order \n",
    "- realized l_1 (double)\n",
    "- realized l_2 (double)\n",
    "- realized l_infinity (double)\n",
    "- Volume heuristic l_1 (double)\n",
    "- Volume heuristic l_2 (double)\n",
    "- Volume heuristic l_infinity (double)\n",
    "\n",
    "... and add more columns for l_1, l_2, and l_infinity when new heuristics are added.\n",
    "\n",
    "Plan:\n",
    "- Find the number of pool-blocknumber pairs and split them into equal sized based on the number of cores\n",
    "- Query to get a list of pool-blocknumber pairs for each core\n",
    "- For each pool-blocknumber pair, query the transactions and calculate the metrics\n",
    "- Save the metrics to the database"
   ]
  },
  {
   "cell_type": "code",
   "execution_count": 8,
   "metadata": {},
   "outputs": [
    {
     "name": "stdout",
     "output_type": "stream",
     "text": [
      "0x248c4c26f2a3c3b9025c6581a5b4f576ed1f3a78f857a8f4df81b0234dcd1dea\n"
     ]
    },
    {
     "data": {
      "text/plain": [
       "block_ts                                           2022-12-15 05:57:59\n",
       "block_number                                                  16188153\n",
       "tx_hash              0x248c4c26f2a3c3b9025c6581a5b4f576ed1f3a78f857...\n",
       "log_index                                                            2\n",
       "sender                      0x000000000035b5e5ad9019092c665357240f594e\n",
       "recipient                   0x000000000035b5e5ad9019092c665357240f594e\n",
       "amount0                                                     -128632716\n",
       "amount1                                             100000000000000000\n",
       "sqrtpricex96                        2205725684563943950859979373655521\n",
       "liquidity                                         13312430621130245758\n",
       "tick                                                            204694\n",
       "address                     0x8ad599c3a0ff1de082011efddc58f1908eb6e6d8\n",
       "to_address                  0x26ccc3a2052be5898d60683c7bb621047153bb19\n",
       "from_address                0x000000000035b5e5ad9019092c665357240f594e\n",
       "transaction_index                                                    0\n",
       "Name: 0, dtype: object"
      ]
     },
     "execution_count": 8,
     "metadata": {},
     "output_type": "execute_result"
    }
   ],
   "source": [
    "df = get_swaps_for_address(\"0x8ad599c3a0ff1de082011efddc58f1908eb6e6d8\", min_block, max_block)\n",
    "\n",
    "swap = df.iloc[0, :]\n",
    "\n",
    "print(swap.tx_hash)\n",
    "\n",
    "swap"
   ]
  },
  {
   "cell_type": "code",
   "execution_count": 10,
   "metadata": {},
   "outputs": [
    {
     "data": {
      "text/plain": [
       "-1286.32716"
      ]
     },
     "execution_count": 10,
     "metadata": {},
     "output_type": "execute_result"
    }
   ],
   "source": [
    "int(swap.amount0) / int(swap.amount1) / 10**(token_info[\"decimals0\"][swap.address] - token_info[\"decimals1\"][swap.address])"
   ]
  },
  {
   "cell_type": "code",
   "execution_count": 11,
   "metadata": {},
   "outputs": [],
   "source": [
    "def get_mev_boost_values() -> dict[int, float]:\n",
    "    res = pd.read_sql_query(\n",
    "        \"\"\"\n",
    "        SELECT block_number, mevboost_value\n",
    "        FROM\n",
    "            mev_boost\n",
    "        \"\"\",\n",
    "        postgres_uri_mp,\n",
    "    )\n",
    "    return dict(\n",
    "        zip(res.block_number, res.mevboost_value)   \n",
    "    )\n"
   ]
  },
  {
   "cell_type": "code",
   "execution_count": 12,
   "metadata": {},
   "outputs": [],
   "source": [
    "def get_pool_block_pairs(limit, offset) -> pd.DataFrame:\n",
    "    return pd.read_sql_query(\n",
    "        f\"\"\"\n",
    "        SELECT address, block_number FROM swap_counts\n",
    "        WHERE block_number >= 15537940 AND block_number <= 17959956\n",
    "        ORDER BY address ASC, block_number ASC\n",
    "        LIMIT {limit} OFFSET {offset}\n",
    "        \"\"\",\n",
    "        postgres_uri_us,\n",
    "    )"
   ]
  },
  {
   "cell_type": "code",
   "execution_count": 13,
   "metadata": {},
   "outputs": [],
   "source": [
    "mev_boost_values = get_mev_boost_values()"
   ]
  },
  {
   "cell_type": "code",
   "execution_count": 68,
   "metadata": {},
   "outputs": [
    {
     "data": {
      "text/plain": [
       "('0xc02aaa39b223fe8d0a0e5c4f27ead9083c756cc2', 100000000000000000)"
      ]
     },
     "execution_count": 68,
     "metadata": {},
     "output_type": "execute_result"
    }
   ],
   "source": [
    "token_in = token_info[\"token0\"][swap.address] if int(swap.amount0) > 0 else token_info[\"token1\"][swap.address]\n",
    "input_amount = int(swap.amount0) if int(swap.amount0) > 0 else int(swap.amount1)\n",
    "\n",
    "token_in, input_amount"
   ]
  },
  {
   "cell_type": "code",
   "execution_count": 14,
   "metadata": {},
   "outputs": [],
   "source": [
    "def get_price(sqrt_price, pool_addr):\n",
    "    return 1/(sqrt_price**2) / 10**(token_info[\"decimals0\"][pool_addr] - token_info[\"decimals1\"][pool_addr])"
   ]
  },
  {
   "cell_type": "code",
   "execution_count": 21,
   "metadata": {},
   "outputs": [
    {
     "name": "stdout",
     "output_type": "stream",
     "text": [
      "Loading pool from Azure blob storage cache\n"
     ]
    }
   ],
   "source": [
    "pool = load_pool_from_blob(\n",
    "    swap.address,\n",
    "    postgres_uri_us,\n",
    "    azure_storage_uri,\n",
    "    \"uniswap-v3-pool-cache\",\n",
    "    verbose=True,\n",
    "    invalidate_before_date=datetime(2023, 8, 18, tzinfo=timezone.utc),\n",
    ")"
   ]
  },
  {
   "cell_type": "code",
   "execution_count": null,
   "metadata": {},
   "outputs": [],
   "source": [
    "out, heur = pool.swapIn({\n",
    "    \"tokenIn\": token_in,\n",
    "    \"input\": input_amount,\n",
    "    \"as_of\": swap.block_number,\n",
    "    \"gas\": True,\n",
    "    # \"givenPrice\": curr_price,\n",
    "})\n",
    "out, heur"
   ]
  },
  {
   "cell_type": "code",
   "execution_count": 61,
   "metadata": {},
   "outputs": [
    {
     "data": {
      "text/plain": [
       "1290.1974130644476"
      ]
     },
     "execution_count": 61,
     "metadata": {},
     "output_type": "execute_result"
    }
   ],
   "source": [
    "get_price(heur.sqrtP_next, swap.address)"
   ]
  },
  {
   "cell_type": "code",
   "execution_count": 22,
   "metadata": {},
   "outputs": [],
   "source": [
    "def get_pool(address, it):\n",
    "    return load_pool_from_blob(\n",
    "        address,\n",
    "        postgres_uri_us,\n",
    "        azure_storage_uri,\n",
    "        \"uniswap-v3-pool-cache\",\n",
    "        verbose=False,\n",
    "        invalidate_before_date=datetime(2023, 8, 23, tzinfo=timezone.utc),\n",
    "        pbar=it,\n",
    "    )"
   ]
  },
  {
   "cell_type": "markdown",
   "metadata": {},
   "source": [
    "The three only interesting p-norms to focus on is l_1, l_2, and infinity-norm (i.e., max).\n",
    "\n",
    "I want the following columns in the metric table:\n",
    "- block number (bigint)\n",
    "- pool address (string)\n",
    "- number of transactions in the block-pool pair (int)\n",
    "- From MEV-boost (bool) \n",
    "- MEV-boost amount (double)\n",
    "- baseline price p_0 (double) # to check correlations\n",
    "- realized order (ARRAY(CHAR(7))) # (CONCAT(transaction_index, _, log_index))\n",
    "- realized prices (ARRAY(double))\n",
    "- realized l_1 (double)\n",
    "- realized l_2 (double)\n",
    "- realized l_infinity (double)\n",
    "- Volume heuristic order (ARRAY(CHAR(7))) # (CONCAT(transaction_index, _, log_index))\n",
    "- Volume heuristic prices (ARRAY(double))\n",
    "- Volume heuristic l_1 (double)\n",
    "- Volume heuristic l_2 (double)\n",
    "- Volume heuristic l_infinity (double)"
   ]
  },
  {
   "cell_type": "code",
   "execution_count": 16,
   "metadata": {},
   "outputs": [],
   "source": [
    "from sqlalchemy import Boolean\n",
    "\n",
    "\n",
    "engine_mp = create_engine(postgres_uri_mp)\n",
    "\n",
    "SessionLocalMP = sessionmaker(bind=engine_mp)\n",
    "\n",
    "program_start = datetime.now()\n",
    "Base = declarative_base()\n",
    "\n",
    "class BlockMetrics(Base):\n",
    "    __tablename__ = \"block_metrics\"\n",
    "\n",
    "    # Meta Data\n",
    "    block_number = Column(Integer, primary_key=True)\n",
    "    pool_address = Column(String, primary_key=True)\n",
    "    num_transactions = Column(Integer)\n",
    "    baseline_price = Column(Double)\n",
    "\n",
    "    # MEV Data\n",
    "    mev_boost = Column(Boolean)\n",
    "    mev_boost_amount = Column(Double)\n",
    "\n",
    "    # Realized Data\n",
    "    realized_order = Column(ARRAY(CHAR(7)))\n",
    "    realized_prices = Column(ARRAY(Double))\n",
    "    realized_l1 = Column(Double)\n",
    "    realized_l2 = Column(Double)\n",
    "    realized_linf = Column(Double)\n",
    "\n",
    "    # Volume Heuristic Data\n",
    "    volume_heur_order = Column(ARRAY(CHAR(7)))\n",
    "    volume_heur_prices = Column(ARRAY(Double))\n",
    "    volume_heur_l1 = Column(Double)\n",
    "    volume_heur_l2 = Column(Double)\n",
    "    volume_heur_linf = Column(Double)\n",
    "    \n",
    "\n",
    "Base.metadata.create_all(engine_mp)"
   ]
  },
  {
   "cell_type": "code",
   "execution_count": 17,
   "metadata": {},
   "outputs": [],
   "source": [
    "def norm(prices, norm):\n",
    "    if norm == 1:\n",
    "        return np.sum(np.abs(prices))\n",
    "    elif norm == 2:\n",
    "        return np.sqrt(np.sum(prices**2))\n",
    "    elif norm == np.inf:\n",
    "        return np.max(np.abs(prices))\n",
    "    else:\n",
    "        raise ValueError(\"Invalid norm\")\n",
    "    "
   ]
  },
  {
   "cell_type": "code",
   "execution_count": 18,
   "metadata": {},
   "outputs": [],
   "source": [
    "def do_swap(swap, curr_price, pool):            \n",
    "    token_in = token_info[\"token0\"][swap.address] if int(swap.amount0) > 0 else token_info[\"token1\"][swap.address]\n",
    "    input_amount = int(swap.amount0) if int(swap.amount0) > 0 else int(swap.amount1)\n",
    "\n",
    "    out, heur = pool.swapIn({\n",
    "        \"tokenIn\": token_in,\n",
    "        \"input\": input_amount,\n",
    "        \"as_of\": swap.block_number,\n",
    "        \"gas\": True,\n",
    "        \"givenPrice\": curr_price,\n",
    "    })\n",
    "\n",
    "    return out, heur"
   ]
  },
  {
   "cell_type": "code",
   "execution_count": 23,
   "metadata": {},
   "outputs": [
    {
     "name": "stderr",
     "output_type": "stream",
     "text": [
      "  0%|          | 0/1000 [00:00<?, ?it/s, Loading pool from database]                      "
     ]
    },
    {
     "ename": "KeyboardInterrupt",
     "evalue": "",
     "output_type": "error",
     "traceback": [
      "\u001b[0;31m---------------------------------------------------------------------------\u001b[0m",
      "\u001b[0;31mKeyboardInterrupt\u001b[0m                         Traceback (most recent call last)",
      "Cell \u001b[0;32mIn[23], line 4\u001b[0m\n\u001b[1;32m      1\u001b[0m pool_block_pairs \u001b[39m=\u001b[39m get_pool_block_pairs(\u001b[39m1_000\u001b[39m, \u001b[39m0\u001b[39m)\n\u001b[1;32m      3\u001b[0m it \u001b[39m=\u001b[39m tqdm(total\u001b[39m=\u001b[39mpool_block_pairs\u001b[39m.\u001b[39mshape[\u001b[39m0\u001b[39m])\n\u001b[0;32m----> 4\u001b[0m pool \u001b[39m=\u001b[39m get_pool(pool_block_pairs\u001b[39m.\u001b[39;49maddress[\u001b[39m0\u001b[39;49m], it)\n\u001b[1;32m      7\u001b[0m \u001b[39mfor\u001b[39;00m pool_addr, df \u001b[39min\u001b[39;00m pool_block_pairs\u001b[39m.\u001b[39mgroupby(\u001b[39m\"\u001b[39m\u001b[39maddress\u001b[39m\u001b[39m\"\u001b[39m):\n\u001b[1;32m      9\u001b[0m     \u001b[39mif\u001b[39;00m pool_addr \u001b[39m!=\u001b[39m pool\u001b[39m.\u001b[39mpool:\n",
      "Cell \u001b[0;32mIn[22], line 2\u001b[0m, in \u001b[0;36mget_pool\u001b[0;34m(address, it)\u001b[0m\n\u001b[1;32m      1\u001b[0m \u001b[39mdef\u001b[39;00m \u001b[39mget_pool\u001b[39m(address, it):\n\u001b[0;32m----> 2\u001b[0m     \u001b[39mreturn\u001b[39;00m load_pool_from_blob(\n\u001b[1;32m      3\u001b[0m         address,\n\u001b[1;32m      4\u001b[0m         postgres_uri_us,\n\u001b[1;32m      5\u001b[0m         azure_storage_uri,\n\u001b[1;32m      6\u001b[0m         \u001b[39m\"\u001b[39;49m\u001b[39muniswap-v3-pool-cache\u001b[39;49m\u001b[39m\"\u001b[39;49m,\n\u001b[1;32m      7\u001b[0m         verbose\u001b[39m=\u001b[39;49m\u001b[39mFalse\u001b[39;49;00m,\n\u001b[1;32m      8\u001b[0m         invalidate_before_date\u001b[39m=\u001b[39;49mdatetime(\u001b[39m2023\u001b[39;49m, \u001b[39m8\u001b[39;49m, \u001b[39m23\u001b[39;49m, tzinfo\u001b[39m=\u001b[39;49mtimezone\u001b[39m.\u001b[39;49mutc),\n\u001b[1;32m      9\u001b[0m         pbar\u001b[39m=\u001b[39;49mit,\n\u001b[1;32m     10\u001b[0m     )\n",
      "File \u001b[0;32m~/code/defi-measurement/experiments/preload_pool_cache.py:107\u001b[0m, in \u001b[0;36mload_pool_from_blob\u001b[0;34m(pool_address, postgres_uri, azure_connection_string, container_name, verbose, invalidate_before_date, pbar)\u001b[0m\n\u001b[1;32m     98\u001b[0m pool \u001b[39m=\u001b[39m v3Pool(\n\u001b[1;32m     99\u001b[0m     poolAdd\u001b[39m=\u001b[39mpool_address,\n\u001b[1;32m    100\u001b[0m     connStr\u001b[39m=\u001b[39mpostgres_uri,\n\u001b[0;32m   (...)\u001b[0m\n\u001b[1;32m    103\u001b[0m     verbose\u001b[39m=\u001b[39mverbose,\n\u001b[1;32m    104\u001b[0m )\n\u001b[1;32m    106\u001b[0m \u001b[39m# Save the cache to Azure Blob Storage\u001b[39;00m\n\u001b[0;32m--> 107\u001b[0m blob_client\u001b[39m.\u001b[39;49mupload_blob(pickle\u001b[39m.\u001b[39;49mdumps(pool), overwrite\u001b[39m=\u001b[39;49m\u001b[39mTrue\u001b[39;49;00m)\n\u001b[1;32m    109\u001b[0m \u001b[39mreturn\u001b[39;00m pool\n",
      "File \u001b[0;32m~/code/defi-measurement/venv/lib/python3.11/site-packages/azure/core/tracing/decorator.py:76\u001b[0m, in \u001b[0;36mdistributed_trace.<locals>.decorator.<locals>.wrapper_use_tracer\u001b[0;34m(*args, **kwargs)\u001b[0m\n\u001b[1;32m     74\u001b[0m span_impl_type \u001b[39m=\u001b[39m settings\u001b[39m.\u001b[39mtracing_implementation()\n\u001b[1;32m     75\u001b[0m \u001b[39mif\u001b[39;00m span_impl_type \u001b[39mis\u001b[39;00m \u001b[39mNone\u001b[39;00m:\n\u001b[0;32m---> 76\u001b[0m     \u001b[39mreturn\u001b[39;00m func(\u001b[39m*\u001b[39;49margs, \u001b[39m*\u001b[39;49m\u001b[39m*\u001b[39;49mkwargs)\n\u001b[1;32m     78\u001b[0m \u001b[39m# Merge span is parameter is set, but only if no explicit parent are passed\u001b[39;00m\n\u001b[1;32m     79\u001b[0m \u001b[39mif\u001b[39;00m merge_span \u001b[39mand\u001b[39;00m \u001b[39mnot\u001b[39;00m passed_in_parent:\n",
      "File \u001b[0;32m~/code/defi-measurement/venv/lib/python3.11/site-packages/azure/storage/blob/_blob_client.py:746\u001b[0m, in \u001b[0;36mBlobClient.upload_blob\u001b[0;34m(self, data, blob_type, length, metadata, **kwargs)\u001b[0m\n\u001b[1;32m    739\u001b[0m options \u001b[39m=\u001b[39m \u001b[39mself\u001b[39m\u001b[39m.\u001b[39m_upload_blob_options(\n\u001b[1;32m    740\u001b[0m     data,\n\u001b[1;32m    741\u001b[0m     blob_type\u001b[39m=\u001b[39mblob_type,\n\u001b[1;32m    742\u001b[0m     length\u001b[39m=\u001b[39mlength,\n\u001b[1;32m    743\u001b[0m     metadata\u001b[39m=\u001b[39mmetadata,\n\u001b[1;32m    744\u001b[0m     \u001b[39m*\u001b[39m\u001b[39m*\u001b[39mkwargs)\n\u001b[1;32m    745\u001b[0m \u001b[39mif\u001b[39;00m blob_type \u001b[39m==\u001b[39m BlobType\u001b[39m.\u001b[39mBlockBlob:\n\u001b[0;32m--> 746\u001b[0m     \u001b[39mreturn\u001b[39;00m upload_block_blob(\u001b[39m*\u001b[39;49m\u001b[39m*\u001b[39;49moptions)\n\u001b[1;32m    747\u001b[0m \u001b[39mif\u001b[39;00m blob_type \u001b[39m==\u001b[39m BlobType\u001b[39m.\u001b[39mPageBlob:\n\u001b[1;32m    748\u001b[0m     \u001b[39mreturn\u001b[39;00m upload_page_blob(\u001b[39m*\u001b[39m\u001b[39m*\u001b[39moptions)\n",
      "File \u001b[0;32m~/code/defi-measurement/venv/lib/python3.11/site-packages/azure/storage/blob/_upload_helpers.py:152\u001b[0m, in \u001b[0;36mupload_block_blob\u001b[0;34m(client, data, stream, length, overwrite, headers, validate_content, max_concurrency, blob_settings, encryption_options, **kwargs)\u001b[0m\n\u001b[1;32m    149\u001b[0m             \u001b[39m# V2 wraps the data stream with an encryption stream\u001b[39;00m\n\u001b[1;32m    150\u001b[0m             stream \u001b[39m=\u001b[39m GCMBlobEncryptionStream(cek, stream)\n\u001b[0;32m--> 152\u001b[0m     block_ids \u001b[39m=\u001b[39m upload_data_chunks(\n\u001b[1;32m    153\u001b[0m         service\u001b[39m=\u001b[39;49mclient,\n\u001b[1;32m    154\u001b[0m         uploader_class\u001b[39m=\u001b[39;49mBlockBlobChunkUploader,\n\u001b[1;32m    155\u001b[0m         total_size\u001b[39m=\u001b[39;49mtotal_size,\n\u001b[1;32m    156\u001b[0m         chunk_size\u001b[39m=\u001b[39;49mblob_settings\u001b[39m.\u001b[39;49mmax_block_size,\n\u001b[1;32m    157\u001b[0m         max_concurrency\u001b[39m=\u001b[39;49mmax_concurrency,\n\u001b[1;32m    158\u001b[0m         stream\u001b[39m=\u001b[39;49mstream,\n\u001b[1;32m    159\u001b[0m         validate_content\u001b[39m=\u001b[39;49mvalidate_content,\n\u001b[1;32m    160\u001b[0m         progress_hook\u001b[39m=\u001b[39;49mprogress_hook,\n\u001b[1;32m    161\u001b[0m         encryptor\u001b[39m=\u001b[39;49mencryptor,\n\u001b[1;32m    162\u001b[0m         padder\u001b[39m=\u001b[39;49mpadder,\n\u001b[1;32m    163\u001b[0m         headers\u001b[39m=\u001b[39;49mheaders,\n\u001b[1;32m    164\u001b[0m         \u001b[39m*\u001b[39;49m\u001b[39m*\u001b[39;49mkwargs\n\u001b[1;32m    165\u001b[0m     )\n\u001b[1;32m    166\u001b[0m \u001b[39melse\u001b[39;00m:\n\u001b[1;32m    167\u001b[0m     block_ids \u001b[39m=\u001b[39m upload_substream_blocks(\n\u001b[1;32m    168\u001b[0m         service\u001b[39m=\u001b[39mclient,\n\u001b[1;32m    169\u001b[0m         uploader_class\u001b[39m=\u001b[39mBlockBlobChunkUploader,\n\u001b[0;32m   (...)\u001b[0m\n\u001b[1;32m    177\u001b[0m         \u001b[39m*\u001b[39m\u001b[39m*\u001b[39mkwargs\n\u001b[1;32m    178\u001b[0m     )\n",
      "File \u001b[0;32m~/code/defi-measurement/venv/lib/python3.11/site-packages/azure/storage/blob/_shared/uploads.py:78\u001b[0m, in \u001b[0;36mupload_data_chunks\u001b[0;34m(service, uploader_class, total_size, chunk_size, max_concurrency, stream, validate_content, progress_hook, **kwargs)\u001b[0m\n\u001b[1;32m     76\u001b[0m         range_ids \u001b[39m=\u001b[39m _parallel_uploads(executor, uploader\u001b[39m.\u001b[39mprocess_chunk, upload_tasks, running_futures)\n\u001b[1;32m     77\u001b[0m \u001b[39melse\u001b[39;00m:\n\u001b[0;32m---> 78\u001b[0m     range_ids \u001b[39m=\u001b[39m [uploader\u001b[39m.\u001b[39;49mprocess_chunk(result) \u001b[39mfor\u001b[39;49;00m result \u001b[39min\u001b[39;49;00m uploader\u001b[39m.\u001b[39;49mget_chunk_streams()]\n\u001b[1;32m     79\u001b[0m \u001b[39mif\u001b[39;00m \u001b[39many\u001b[39m(range_ids):\n\u001b[1;32m     80\u001b[0m     \u001b[39mreturn\u001b[39;00m [r[\u001b[39m1\u001b[39m] \u001b[39mfor\u001b[39;00m r \u001b[39min\u001b[39;00m \u001b[39msorted\u001b[39m(range_ids, key\u001b[39m=\u001b[39m\u001b[39mlambda\u001b[39;00m r: r[\u001b[39m0\u001b[39m])]\n",
      "File \u001b[0;32m~/code/defi-measurement/venv/lib/python3.11/site-packages/azure/storage/blob/_shared/uploads.py:78\u001b[0m, in \u001b[0;36m<listcomp>\u001b[0;34m(.0)\u001b[0m\n\u001b[1;32m     76\u001b[0m         range_ids \u001b[39m=\u001b[39m _parallel_uploads(executor, uploader\u001b[39m.\u001b[39mprocess_chunk, upload_tasks, running_futures)\n\u001b[1;32m     77\u001b[0m \u001b[39melse\u001b[39;00m:\n\u001b[0;32m---> 78\u001b[0m     range_ids \u001b[39m=\u001b[39m [uploader\u001b[39m.\u001b[39;49mprocess_chunk(result) \u001b[39mfor\u001b[39;00m result \u001b[39min\u001b[39;00m uploader\u001b[39m.\u001b[39mget_chunk_streams()]\n\u001b[1;32m     79\u001b[0m \u001b[39mif\u001b[39;00m \u001b[39many\u001b[39m(range_ids):\n\u001b[1;32m     80\u001b[0m     \u001b[39mreturn\u001b[39;00m [r[\u001b[39m1\u001b[39m] \u001b[39mfor\u001b[39;00m r \u001b[39min\u001b[39;00m \u001b[39msorted\u001b[39m(range_ids, key\u001b[39m=\u001b[39m\u001b[39mlambda\u001b[39;00m r: r[\u001b[39m0\u001b[39m])]\n",
      "File \u001b[0;32m~/code/defi-measurement/venv/lib/python3.11/site-packages/azure/storage/blob/_shared/uploads.py:194\u001b[0m, in \u001b[0;36m_ChunkUploader.process_chunk\u001b[0;34m(self, chunk_data)\u001b[0m\n\u001b[1;32m    192\u001b[0m chunk_bytes \u001b[39m=\u001b[39m chunk_data[\u001b[39m1\u001b[39m]\n\u001b[1;32m    193\u001b[0m chunk_offset \u001b[39m=\u001b[39m chunk_data[\u001b[39m0\u001b[39m]\n\u001b[0;32m--> 194\u001b[0m \u001b[39mreturn\u001b[39;00m \u001b[39mself\u001b[39;49m\u001b[39m.\u001b[39;49m_upload_chunk_with_progress(chunk_offset, chunk_bytes)\n",
      "File \u001b[0;32m~/code/defi-measurement/venv/lib/python3.11/site-packages/azure/storage/blob/_shared/uploads.py:210\u001b[0m, in \u001b[0;36m_ChunkUploader._upload_chunk_with_progress\u001b[0;34m(self, chunk_offset, chunk_data)\u001b[0m\n\u001b[1;32m    209\u001b[0m \u001b[39mdef\u001b[39;00m \u001b[39m_upload_chunk_with_progress\u001b[39m(\u001b[39mself\u001b[39m, chunk_offset, chunk_data):\n\u001b[0;32m--> 210\u001b[0m     range_id \u001b[39m=\u001b[39m \u001b[39mself\u001b[39;49m\u001b[39m.\u001b[39;49m_upload_chunk(chunk_offset, chunk_data)\n\u001b[1;32m    211\u001b[0m     \u001b[39mself\u001b[39m\u001b[39m.\u001b[39m_update_progress(\u001b[39mlen\u001b[39m(chunk_data))\n\u001b[1;32m    212\u001b[0m     \u001b[39mreturn\u001b[39;00m range_id\n",
      "File \u001b[0;32m~/code/defi-measurement/venv/lib/python3.11/site-packages/azure/storage/blob/_shared/uploads.py:259\u001b[0m, in \u001b[0;36mBlockBlobChunkUploader._upload_chunk\u001b[0;34m(self, chunk_offset, chunk_data)\u001b[0m\n\u001b[1;32m    257\u001b[0m index \u001b[39m=\u001b[39m \u001b[39mf\u001b[39m\u001b[39m'\u001b[39m\u001b[39m{\u001b[39;00mchunk_offset\u001b[39m:\u001b[39;00m\u001b[39m032d\u001b[39m\u001b[39m}\u001b[39;00m\u001b[39m'\u001b[39m\n\u001b[1;32m    258\u001b[0m block_id \u001b[39m=\u001b[39m encode_base64(url_quote(encode_base64(index)))\n\u001b[0;32m--> 259\u001b[0m \u001b[39mself\u001b[39;49m\u001b[39m.\u001b[39;49mservice\u001b[39m.\u001b[39;49mstage_block(\n\u001b[1;32m    260\u001b[0m     block_id,\n\u001b[1;32m    261\u001b[0m     \u001b[39mlen\u001b[39;49m(chunk_data),\n\u001b[1;32m    262\u001b[0m     chunk_data,\n\u001b[1;32m    263\u001b[0m     data_stream_total\u001b[39m=\u001b[39;49m\u001b[39mself\u001b[39;49m\u001b[39m.\u001b[39;49mtotal_size,\n\u001b[1;32m    264\u001b[0m     upload_stream_current\u001b[39m=\u001b[39;49m\u001b[39mself\u001b[39;49m\u001b[39m.\u001b[39;49mprogress_total,\n\u001b[1;32m    265\u001b[0m     \u001b[39m*\u001b[39;49m\u001b[39m*\u001b[39;49m\u001b[39mself\u001b[39;49m\u001b[39m.\u001b[39;49mrequest_options\n\u001b[1;32m    266\u001b[0m )\n\u001b[1;32m    267\u001b[0m \u001b[39mreturn\u001b[39;00m index, block_id\n",
      "File \u001b[0;32m~/code/defi-measurement/venv/lib/python3.11/site-packages/azure/core/tracing/decorator.py:76\u001b[0m, in \u001b[0;36mdistributed_trace.<locals>.decorator.<locals>.wrapper_use_tracer\u001b[0;34m(*args, **kwargs)\u001b[0m\n\u001b[1;32m     74\u001b[0m span_impl_type \u001b[39m=\u001b[39m settings\u001b[39m.\u001b[39mtracing_implementation()\n\u001b[1;32m     75\u001b[0m \u001b[39mif\u001b[39;00m span_impl_type \u001b[39mis\u001b[39;00m \u001b[39mNone\u001b[39;00m:\n\u001b[0;32m---> 76\u001b[0m     \u001b[39mreturn\u001b[39;00m func(\u001b[39m*\u001b[39;49margs, \u001b[39m*\u001b[39;49m\u001b[39m*\u001b[39;49mkwargs)\n\u001b[1;32m     78\u001b[0m \u001b[39m# Merge span is parameter is set, but only if no explicit parent are passed\u001b[39;00m\n\u001b[1;32m     79\u001b[0m \u001b[39mif\u001b[39;00m merge_span \u001b[39mand\u001b[39;00m \u001b[39mnot\u001b[39;00m passed_in_parent:\n",
      "File \u001b[0;32m~/code/defi-measurement/venv/lib/python3.11/site-packages/azure/storage/blob/_generated/operations/_block_blob_operations.py:1222\u001b[0m, in \u001b[0;36mBlockBlobOperations.stage_block\u001b[0;34m(self, block_id, content_length, body, transactional_content_md5, transactional_content_crc64, timeout, request_id_parameter, lease_access_conditions, cpk_info, cpk_scope_info, **kwargs)\u001b[0m\n\u001b[1;32m   1219\u001b[0m request \u001b[39m=\u001b[39m _convert_request(request)\n\u001b[1;32m   1220\u001b[0m request\u001b[39m.\u001b[39murl \u001b[39m=\u001b[39m \u001b[39mself\u001b[39m\u001b[39m.\u001b[39m_client\u001b[39m.\u001b[39mformat_url(request\u001b[39m.\u001b[39murl)  \u001b[39m# type: ignore\u001b[39;00m\n\u001b[0;32m-> 1222\u001b[0m pipeline_response \u001b[39m=\u001b[39m \u001b[39mself\u001b[39;49m\u001b[39m.\u001b[39;49m_client\u001b[39m.\u001b[39;49m_pipeline\u001b[39m.\u001b[39;49mrun(  \u001b[39m# type: ignore # pylint: disable=protected-access\u001b[39;49;00m\n\u001b[1;32m   1223\u001b[0m     request, stream\u001b[39m=\u001b[39;49m\u001b[39mFalse\u001b[39;49;00m, \u001b[39m*\u001b[39;49m\u001b[39m*\u001b[39;49mkwargs\n\u001b[1;32m   1224\u001b[0m )\n\u001b[1;32m   1226\u001b[0m response \u001b[39m=\u001b[39m pipeline_response\u001b[39m.\u001b[39mhttp_response\n\u001b[1;32m   1228\u001b[0m \u001b[39mif\u001b[39;00m response\u001b[39m.\u001b[39mstatus_code \u001b[39mnot\u001b[39;00m \u001b[39min\u001b[39;00m [\u001b[39m201\u001b[39m]:\n",
      "File \u001b[0;32m~/code/defi-measurement/venv/lib/python3.11/site-packages/azure/core/pipeline/_base.py:202\u001b[0m, in \u001b[0;36mPipeline.run\u001b[0;34m(self, request, **kwargs)\u001b[0m\n\u001b[1;32m    200\u001b[0m pipeline_request: PipelineRequest[HTTPRequestType] \u001b[39m=\u001b[39m PipelineRequest(request, context)\n\u001b[1;32m    201\u001b[0m first_node \u001b[39m=\u001b[39m \u001b[39mself\u001b[39m\u001b[39m.\u001b[39m_impl_policies[\u001b[39m0\u001b[39m] \u001b[39mif\u001b[39;00m \u001b[39mself\u001b[39m\u001b[39m.\u001b[39m_impl_policies \u001b[39melse\u001b[39;00m _TransportRunner(\u001b[39mself\u001b[39m\u001b[39m.\u001b[39m_transport)\n\u001b[0;32m--> 202\u001b[0m \u001b[39mreturn\u001b[39;00m first_node\u001b[39m.\u001b[39;49msend(pipeline_request)\n",
      "File \u001b[0;32m~/code/defi-measurement/venv/lib/python3.11/site-packages/azure/core/pipeline/_base.py:70\u001b[0m, in \u001b[0;36m_SansIOHTTPPolicyRunner.send\u001b[0;34m(self, request)\u001b[0m\n\u001b[1;32m     68\u001b[0m _await_result(\u001b[39mself\u001b[39m\u001b[39m.\u001b[39m_policy\u001b[39m.\u001b[39mon_request, request)\n\u001b[1;32m     69\u001b[0m \u001b[39mtry\u001b[39;00m:\n\u001b[0;32m---> 70\u001b[0m     response \u001b[39m=\u001b[39m \u001b[39mself\u001b[39;49m\u001b[39m.\u001b[39;49mnext\u001b[39m.\u001b[39;49msend(request)\n\u001b[1;32m     71\u001b[0m \u001b[39mexcept\u001b[39;00m \u001b[39mException\u001b[39;00m:  \u001b[39m# pylint: disable=broad-except\u001b[39;00m\n\u001b[1;32m     72\u001b[0m     _await_result(\u001b[39mself\u001b[39m\u001b[39m.\u001b[39m_policy\u001b[39m.\u001b[39mon_exception, request)\n",
      "File \u001b[0;32m~/code/defi-measurement/venv/lib/python3.11/site-packages/azure/core/pipeline/_base.py:70\u001b[0m, in \u001b[0;36m_SansIOHTTPPolicyRunner.send\u001b[0;34m(self, request)\u001b[0m\n\u001b[1;32m     68\u001b[0m _await_result(\u001b[39mself\u001b[39m\u001b[39m.\u001b[39m_policy\u001b[39m.\u001b[39mon_request, request)\n\u001b[1;32m     69\u001b[0m \u001b[39mtry\u001b[39;00m:\n\u001b[0;32m---> 70\u001b[0m     response \u001b[39m=\u001b[39m \u001b[39mself\u001b[39;49m\u001b[39m.\u001b[39;49mnext\u001b[39m.\u001b[39;49msend(request)\n\u001b[1;32m     71\u001b[0m \u001b[39mexcept\u001b[39;00m \u001b[39mException\u001b[39;00m:  \u001b[39m# pylint: disable=broad-except\u001b[39;00m\n\u001b[1;32m     72\u001b[0m     _await_result(\u001b[39mself\u001b[39m\u001b[39m.\u001b[39m_policy\u001b[39m.\u001b[39mon_exception, request)\n",
      "    \u001b[0;31m[... skipping similar frames: _SansIOHTTPPolicyRunner.send at line 70 (2 times)]\u001b[0m\n",
      "File \u001b[0;32m~/code/defi-measurement/venv/lib/python3.11/site-packages/azure/core/pipeline/_base.py:70\u001b[0m, in \u001b[0;36m_SansIOHTTPPolicyRunner.send\u001b[0;34m(self, request)\u001b[0m\n\u001b[1;32m     68\u001b[0m _await_result(\u001b[39mself\u001b[39m\u001b[39m.\u001b[39m_policy\u001b[39m.\u001b[39mon_request, request)\n\u001b[1;32m     69\u001b[0m \u001b[39mtry\u001b[39;00m:\n\u001b[0;32m---> 70\u001b[0m     response \u001b[39m=\u001b[39m \u001b[39mself\u001b[39;49m\u001b[39m.\u001b[39;49mnext\u001b[39m.\u001b[39;49msend(request)\n\u001b[1;32m     71\u001b[0m \u001b[39mexcept\u001b[39;00m \u001b[39mException\u001b[39;00m:  \u001b[39m# pylint: disable=broad-except\u001b[39;00m\n\u001b[1;32m     72\u001b[0m     _await_result(\u001b[39mself\u001b[39m\u001b[39m.\u001b[39m_policy\u001b[39m.\u001b[39mon_exception, request)\n",
      "File \u001b[0;32m~/code/defi-measurement/venv/lib/python3.11/site-packages/azure/core/pipeline/policies/_redirect.py:156\u001b[0m, in \u001b[0;36mRedirectPolicy.send\u001b[0;34m(self, request)\u001b[0m\n\u001b[1;32m    154\u001b[0m redirect_settings \u001b[39m=\u001b[39m \u001b[39mself\u001b[39m\u001b[39m.\u001b[39mconfigure_redirects(request\u001b[39m.\u001b[39mcontext\u001b[39m.\u001b[39moptions)\n\u001b[1;32m    155\u001b[0m \u001b[39mwhile\u001b[39;00m retryable:\n\u001b[0;32m--> 156\u001b[0m     response \u001b[39m=\u001b[39m \u001b[39mself\u001b[39;49m\u001b[39m.\u001b[39;49mnext\u001b[39m.\u001b[39;49msend(request)\n\u001b[1;32m    157\u001b[0m     redirect_location \u001b[39m=\u001b[39m \u001b[39mself\u001b[39m\u001b[39m.\u001b[39mget_redirect_location(response)\n\u001b[1;32m    158\u001b[0m     \u001b[39mif\u001b[39;00m redirect_location \u001b[39mand\u001b[39;00m redirect_settings[\u001b[39m\"\u001b[39m\u001b[39mallow\u001b[39m\u001b[39m\"\u001b[39m]:\n",
      "File \u001b[0;32m~/code/defi-measurement/venv/lib/python3.11/site-packages/azure/core/pipeline/_base.py:70\u001b[0m, in \u001b[0;36m_SansIOHTTPPolicyRunner.send\u001b[0;34m(self, request)\u001b[0m\n\u001b[1;32m     68\u001b[0m _await_result(\u001b[39mself\u001b[39m\u001b[39m.\u001b[39m_policy\u001b[39m.\u001b[39mon_request, request)\n\u001b[1;32m     69\u001b[0m \u001b[39mtry\u001b[39;00m:\n\u001b[0;32m---> 70\u001b[0m     response \u001b[39m=\u001b[39m \u001b[39mself\u001b[39;49m\u001b[39m.\u001b[39;49mnext\u001b[39m.\u001b[39;49msend(request)\n\u001b[1;32m     71\u001b[0m \u001b[39mexcept\u001b[39;00m \u001b[39mException\u001b[39;00m:  \u001b[39m# pylint: disable=broad-except\u001b[39;00m\n\u001b[1;32m     72\u001b[0m     _await_result(\u001b[39mself\u001b[39m\u001b[39m.\u001b[39m_policy\u001b[39m.\u001b[39mon_exception, request)\n",
      "File \u001b[0;32m~/code/defi-measurement/venv/lib/python3.11/site-packages/azure/storage/blob/_shared/policies.py:520\u001b[0m, in \u001b[0;36mStorageRetryPolicy.send\u001b[0;34m(self, request)\u001b[0m\n\u001b[1;32m    518\u001b[0m \u001b[39mwhile\u001b[39;00m retries_remaining:\n\u001b[1;32m    519\u001b[0m     \u001b[39mtry\u001b[39;00m:\n\u001b[0;32m--> 520\u001b[0m         response \u001b[39m=\u001b[39m \u001b[39mself\u001b[39;49m\u001b[39m.\u001b[39;49mnext\u001b[39m.\u001b[39;49msend(request)\n\u001b[1;32m    521\u001b[0m         \u001b[39mif\u001b[39;00m is_retry(response, retry_settings[\u001b[39m'\u001b[39m\u001b[39mmode\u001b[39m\u001b[39m'\u001b[39m]):\n\u001b[1;32m    522\u001b[0m             retries_remaining \u001b[39m=\u001b[39m \u001b[39mself\u001b[39m\u001b[39m.\u001b[39mincrement(\n\u001b[1;32m    523\u001b[0m                 retry_settings,\n\u001b[1;32m    524\u001b[0m                 request\u001b[39m=\u001b[39mrequest\u001b[39m.\u001b[39mhttp_request,\n\u001b[1;32m    525\u001b[0m                 response\u001b[39m=\u001b[39mresponse\u001b[39m.\u001b[39mhttp_response)\n",
      "File \u001b[0;32m~/code/defi-measurement/venv/lib/python3.11/site-packages/azure/core/pipeline/_base.py:70\u001b[0m, in \u001b[0;36m_SansIOHTTPPolicyRunner.send\u001b[0;34m(self, request)\u001b[0m\n\u001b[1;32m     68\u001b[0m _await_result(\u001b[39mself\u001b[39m\u001b[39m.\u001b[39m_policy\u001b[39m.\u001b[39mon_request, request)\n\u001b[1;32m     69\u001b[0m \u001b[39mtry\u001b[39;00m:\n\u001b[0;32m---> 70\u001b[0m     response \u001b[39m=\u001b[39m \u001b[39mself\u001b[39;49m\u001b[39m.\u001b[39;49mnext\u001b[39m.\u001b[39;49msend(request)\n\u001b[1;32m     71\u001b[0m \u001b[39mexcept\u001b[39;00m \u001b[39mException\u001b[39;00m:  \u001b[39m# pylint: disable=broad-except\u001b[39;00m\n\u001b[1;32m     72\u001b[0m     _await_result(\u001b[39mself\u001b[39m\u001b[39m.\u001b[39m_policy\u001b[39m.\u001b[39mon_exception, request)\n",
      "File \u001b[0;32m~/code/defi-measurement/venv/lib/python3.11/site-packages/azure/core/pipeline/_base.py:70\u001b[0m, in \u001b[0;36m_SansIOHTTPPolicyRunner.send\u001b[0;34m(self, request)\u001b[0m\n\u001b[1;32m     68\u001b[0m _await_result(\u001b[39mself\u001b[39m\u001b[39m.\u001b[39m_policy\u001b[39m.\u001b[39mon_request, request)\n\u001b[1;32m     69\u001b[0m \u001b[39mtry\u001b[39;00m:\n\u001b[0;32m---> 70\u001b[0m     response \u001b[39m=\u001b[39m \u001b[39mself\u001b[39;49m\u001b[39m.\u001b[39;49mnext\u001b[39m.\u001b[39;49msend(request)\n\u001b[1;32m     71\u001b[0m \u001b[39mexcept\u001b[39;00m \u001b[39mException\u001b[39;00m:  \u001b[39m# pylint: disable=broad-except\u001b[39;00m\n\u001b[1;32m     72\u001b[0m     _await_result(\u001b[39mself\u001b[39m\u001b[39m.\u001b[39m_policy\u001b[39m.\u001b[39mon_exception, request)\n",
      "    \u001b[0;31m[... skipping similar frames: _SansIOHTTPPolicyRunner.send at line 70 (1 times)]\u001b[0m\n",
      "File \u001b[0;32m~/code/defi-measurement/venv/lib/python3.11/site-packages/azure/core/pipeline/_base.py:70\u001b[0m, in \u001b[0;36m_SansIOHTTPPolicyRunner.send\u001b[0;34m(self, request)\u001b[0m\n\u001b[1;32m     68\u001b[0m _await_result(\u001b[39mself\u001b[39m\u001b[39m.\u001b[39m_policy\u001b[39m.\u001b[39mon_request, request)\n\u001b[1;32m     69\u001b[0m \u001b[39mtry\u001b[39;00m:\n\u001b[0;32m---> 70\u001b[0m     response \u001b[39m=\u001b[39m \u001b[39mself\u001b[39;49m\u001b[39m.\u001b[39;49mnext\u001b[39m.\u001b[39;49msend(request)\n\u001b[1;32m     71\u001b[0m \u001b[39mexcept\u001b[39;00m \u001b[39mException\u001b[39;00m:  \u001b[39m# pylint: disable=broad-except\u001b[39;00m\n\u001b[1;32m     72\u001b[0m     _await_result(\u001b[39mself\u001b[39m\u001b[39m.\u001b[39m_policy\u001b[39m.\u001b[39mon_exception, request)\n",
      "File \u001b[0;32m~/code/defi-measurement/venv/lib/python3.11/site-packages/azure/storage/blob/_shared/policies.py:313\u001b[0m, in \u001b[0;36mStorageResponseHook.send\u001b[0;34m(self, request)\u001b[0m\n\u001b[1;32m    308\u001b[0m     upload_stream_current \u001b[39m=\u001b[39m request\u001b[39m.\u001b[39mcontext\u001b[39m.\u001b[39moptions\u001b[39m.\u001b[39mpop(\u001b[39m'\u001b[39m\u001b[39mupload_stream_current\u001b[39m\u001b[39m'\u001b[39m, \u001b[39mNone\u001b[39;00m)\n\u001b[1;32m    310\u001b[0m response_callback \u001b[39m=\u001b[39m request\u001b[39m.\u001b[39mcontext\u001b[39m.\u001b[39mget(\u001b[39m'\u001b[39m\u001b[39mresponse_callback\u001b[39m\u001b[39m'\u001b[39m) \u001b[39mor\u001b[39;00m \\\n\u001b[1;32m    311\u001b[0m     request\u001b[39m.\u001b[39mcontext\u001b[39m.\u001b[39moptions\u001b[39m.\u001b[39mpop(\u001b[39m'\u001b[39m\u001b[39mraw_response_hook\u001b[39m\u001b[39m'\u001b[39m, \u001b[39mself\u001b[39m\u001b[39m.\u001b[39m_response_callback)\n\u001b[0;32m--> 313\u001b[0m response \u001b[39m=\u001b[39m \u001b[39mself\u001b[39;49m\u001b[39m.\u001b[39;49mnext\u001b[39m.\u001b[39;49msend(request)\n\u001b[1;32m    315\u001b[0m will_retry \u001b[39m=\u001b[39m is_retry(response, request\u001b[39m.\u001b[39mcontext\u001b[39m.\u001b[39moptions\u001b[39m.\u001b[39mget(\u001b[39m'\u001b[39m\u001b[39mmode\u001b[39m\u001b[39m'\u001b[39m))\n\u001b[1;32m    316\u001b[0m \u001b[39m# Auth error could come from Bearer challenge, in which case this request will be made again\u001b[39;00m\n",
      "File \u001b[0;32m~/code/defi-measurement/venv/lib/python3.11/site-packages/azure/core/pipeline/_base.py:70\u001b[0m, in \u001b[0;36m_SansIOHTTPPolicyRunner.send\u001b[0;34m(self, request)\u001b[0m\n\u001b[1;32m     68\u001b[0m _await_result(\u001b[39mself\u001b[39m\u001b[39m.\u001b[39m_policy\u001b[39m.\u001b[39mon_request, request)\n\u001b[1;32m     69\u001b[0m \u001b[39mtry\u001b[39;00m:\n\u001b[0;32m---> 70\u001b[0m     response \u001b[39m=\u001b[39m \u001b[39mself\u001b[39;49m\u001b[39m.\u001b[39;49mnext\u001b[39m.\u001b[39;49msend(request)\n\u001b[1;32m     71\u001b[0m \u001b[39mexcept\u001b[39;00m \u001b[39mException\u001b[39;00m:  \u001b[39m# pylint: disable=broad-except\u001b[39;00m\n\u001b[1;32m     72\u001b[0m     _await_result(\u001b[39mself\u001b[39m\u001b[39m.\u001b[39m_policy\u001b[39m.\u001b[39mon_exception, request)\n",
      "File \u001b[0;32m~/code/defi-measurement/venv/lib/python3.11/site-packages/azure/core/pipeline/_base.py:70\u001b[0m, in \u001b[0;36m_SansIOHTTPPolicyRunner.send\u001b[0;34m(self, request)\u001b[0m\n\u001b[1;32m     68\u001b[0m _await_result(\u001b[39mself\u001b[39m\u001b[39m.\u001b[39m_policy\u001b[39m.\u001b[39mon_request, request)\n\u001b[1;32m     69\u001b[0m \u001b[39mtry\u001b[39;00m:\n\u001b[0;32m---> 70\u001b[0m     response \u001b[39m=\u001b[39m \u001b[39mself\u001b[39;49m\u001b[39m.\u001b[39;49mnext\u001b[39m.\u001b[39;49msend(request)\n\u001b[1;32m     71\u001b[0m \u001b[39mexcept\u001b[39;00m \u001b[39mException\u001b[39;00m:  \u001b[39m# pylint: disable=broad-except\u001b[39;00m\n\u001b[1;32m     72\u001b[0m     _await_result(\u001b[39mself\u001b[39m\u001b[39m.\u001b[39m_policy\u001b[39m.\u001b[39mon_exception, request)\n",
      "File \u001b[0;32m~/code/defi-measurement/venv/lib/python3.11/site-packages/azure/core/pipeline/_base.py:101\u001b[0m, in \u001b[0;36m_TransportRunner.send\u001b[0;34m(self, request)\u001b[0m\n\u001b[1;32m     91\u001b[0m \u001b[39mdef\u001b[39;00m \u001b[39msend\u001b[39m(\u001b[39mself\u001b[39m, request: PipelineRequest[HTTPRequestType]) \u001b[39m-\u001b[39m\u001b[39m>\u001b[39m PipelineResponse[HTTPRequestType, HTTPResponseType]:\n\u001b[1;32m     92\u001b[0m \u001b[39m    \u001b[39m\u001b[39m\"\"\"HTTP transport send method.\u001b[39;00m\n\u001b[1;32m     93\u001b[0m \n\u001b[1;32m     94\u001b[0m \u001b[39m    :param request: The PipelineRequest object.\u001b[39;00m\n\u001b[0;32m   (...)\u001b[0m\n\u001b[1;32m     97\u001b[0m \u001b[39m    :rtype: ~azure.core.pipeline.PipelineResponse\u001b[39;00m\n\u001b[1;32m     98\u001b[0m \u001b[39m    \"\"\"\u001b[39;00m\n\u001b[1;32m     99\u001b[0m     \u001b[39mreturn\u001b[39;00m PipelineResponse(\n\u001b[1;32m    100\u001b[0m         request\u001b[39m.\u001b[39mhttp_request,\n\u001b[0;32m--> 101\u001b[0m         \u001b[39mself\u001b[39;49m\u001b[39m.\u001b[39;49m_sender\u001b[39m.\u001b[39;49msend(request\u001b[39m.\u001b[39;49mhttp_request, \u001b[39m*\u001b[39;49m\u001b[39m*\u001b[39;49mrequest\u001b[39m.\u001b[39;49mcontext\u001b[39m.\u001b[39;49moptions),\n\u001b[1;32m    102\u001b[0m         context\u001b[39m=\u001b[39mrequest\u001b[39m.\u001b[39mcontext,\n\u001b[1;32m    103\u001b[0m     )\n",
      "File \u001b[0;32m~/code/defi-measurement/venv/lib/python3.11/site-packages/azure/storage/blob/_shared/base_client.py:329\u001b[0m, in \u001b[0;36mTransportWrapper.send\u001b[0;34m(self, request, **kwargs)\u001b[0m\n\u001b[1;32m    328\u001b[0m \u001b[39mdef\u001b[39;00m \u001b[39msend\u001b[39m(\u001b[39mself\u001b[39m, request, \u001b[39m*\u001b[39m\u001b[39m*\u001b[39mkwargs):\n\u001b[0;32m--> 329\u001b[0m     \u001b[39mreturn\u001b[39;00m \u001b[39mself\u001b[39;49m\u001b[39m.\u001b[39;49m_transport\u001b[39m.\u001b[39;49msend(request, \u001b[39m*\u001b[39;49m\u001b[39m*\u001b[39;49mkwargs)\n",
      "File \u001b[0;32m~/code/defi-measurement/venv/lib/python3.11/site-packages/azure/storage/blob/_shared/base_client.py:329\u001b[0m, in \u001b[0;36mTransportWrapper.send\u001b[0;34m(self, request, **kwargs)\u001b[0m\n\u001b[1;32m    328\u001b[0m \u001b[39mdef\u001b[39;00m \u001b[39msend\u001b[39m(\u001b[39mself\u001b[39m, request, \u001b[39m*\u001b[39m\u001b[39m*\u001b[39mkwargs):\n\u001b[0;32m--> 329\u001b[0m     \u001b[39mreturn\u001b[39;00m \u001b[39mself\u001b[39;49m\u001b[39m.\u001b[39;49m_transport\u001b[39m.\u001b[39;49msend(request, \u001b[39m*\u001b[39;49m\u001b[39m*\u001b[39;49mkwargs)\n",
      "File \u001b[0;32m~/code/defi-measurement/venv/lib/python3.11/site-packages/azure/core/pipeline/transport/_requests_basic.py:326\u001b[0m, in \u001b[0;36mRequestsTransport.send\u001b[0;34m(self, request, **kwargs)\u001b[0m\n\u001b[1;32m    324\u001b[0m         read_timeout \u001b[39m=\u001b[39m kwargs\u001b[39m.\u001b[39mpop(\u001b[39m\"\u001b[39m\u001b[39mread_timeout\u001b[39m\u001b[39m\"\u001b[39m, \u001b[39mself\u001b[39m\u001b[39m.\u001b[39mconnection_config\u001b[39m.\u001b[39mread_timeout)\n\u001b[1;32m    325\u001b[0m         timeout \u001b[39m=\u001b[39m (connection_timeout, read_timeout)\n\u001b[0;32m--> 326\u001b[0m     response \u001b[39m=\u001b[39m \u001b[39mself\u001b[39;49m\u001b[39m.\u001b[39;49msession\u001b[39m.\u001b[39;49mrequest(  \u001b[39m# type: ignore\u001b[39;49;00m\n\u001b[1;32m    327\u001b[0m         request\u001b[39m.\u001b[39;49mmethod,\n\u001b[1;32m    328\u001b[0m         request\u001b[39m.\u001b[39;49murl,\n\u001b[1;32m    329\u001b[0m         headers\u001b[39m=\u001b[39;49mrequest\u001b[39m.\u001b[39;49mheaders,\n\u001b[1;32m    330\u001b[0m         data\u001b[39m=\u001b[39;49mrequest\u001b[39m.\u001b[39;49mdata,\n\u001b[1;32m    331\u001b[0m         files\u001b[39m=\u001b[39;49mrequest\u001b[39m.\u001b[39;49mfiles,\n\u001b[1;32m    332\u001b[0m         verify\u001b[39m=\u001b[39;49mkwargs\u001b[39m.\u001b[39;49mpop(\u001b[39m\"\u001b[39;49m\u001b[39mconnection_verify\u001b[39;49m\u001b[39m\"\u001b[39;49m, \u001b[39mself\u001b[39;49m\u001b[39m.\u001b[39;49mconnection_config\u001b[39m.\u001b[39;49mverify),\n\u001b[1;32m    333\u001b[0m         timeout\u001b[39m=\u001b[39;49mtimeout,\n\u001b[1;32m    334\u001b[0m         cert\u001b[39m=\u001b[39;49mkwargs\u001b[39m.\u001b[39;49mpop(\u001b[39m\"\u001b[39;49m\u001b[39mconnection_cert\u001b[39;49m\u001b[39m\"\u001b[39;49m, \u001b[39mself\u001b[39;49m\u001b[39m.\u001b[39;49mconnection_config\u001b[39m.\u001b[39;49mcert),\n\u001b[1;32m    335\u001b[0m         allow_redirects\u001b[39m=\u001b[39;49m\u001b[39mFalse\u001b[39;49;00m,\n\u001b[1;32m    336\u001b[0m         \u001b[39m*\u001b[39;49m\u001b[39m*\u001b[39;49mkwargs\n\u001b[1;32m    337\u001b[0m     )\n\u001b[1;32m    338\u001b[0m     response\u001b[39m.\u001b[39mraw\u001b[39m.\u001b[39menforce_content_length \u001b[39m=\u001b[39m \u001b[39mTrue\u001b[39;00m\n\u001b[1;32m    340\u001b[0m \u001b[39mexcept\u001b[39;00m (\n\u001b[1;32m    341\u001b[0m     urllib3\u001b[39m.\u001b[39mexceptions\u001b[39m.\u001b[39mNewConnectionError,\n\u001b[1;32m    342\u001b[0m     urllib3\u001b[39m.\u001b[39mexceptions\u001b[39m.\u001b[39mConnectTimeoutError,\n\u001b[1;32m    343\u001b[0m ) \u001b[39mas\u001b[39;00m err:\n",
      "File \u001b[0;32m~/code/defi-measurement/venv/lib/python3.11/site-packages/requests/sessions.py:589\u001b[0m, in \u001b[0;36mSession.request\u001b[0;34m(self, method, url, params, data, headers, cookies, files, auth, timeout, allow_redirects, proxies, hooks, stream, verify, cert, json)\u001b[0m\n\u001b[1;32m    584\u001b[0m send_kwargs \u001b[39m=\u001b[39m {\n\u001b[1;32m    585\u001b[0m     \u001b[39m\"\u001b[39m\u001b[39mtimeout\u001b[39m\u001b[39m\"\u001b[39m: timeout,\n\u001b[1;32m    586\u001b[0m     \u001b[39m\"\u001b[39m\u001b[39mallow_redirects\u001b[39m\u001b[39m\"\u001b[39m: allow_redirects,\n\u001b[1;32m    587\u001b[0m }\n\u001b[1;32m    588\u001b[0m send_kwargs\u001b[39m.\u001b[39mupdate(settings)\n\u001b[0;32m--> 589\u001b[0m resp \u001b[39m=\u001b[39m \u001b[39mself\u001b[39;49m\u001b[39m.\u001b[39;49msend(prep, \u001b[39m*\u001b[39;49m\u001b[39m*\u001b[39;49msend_kwargs)\n\u001b[1;32m    591\u001b[0m \u001b[39mreturn\u001b[39;00m resp\n",
      "File \u001b[0;32m~/code/defi-measurement/venv/lib/python3.11/site-packages/requests/sessions.py:703\u001b[0m, in \u001b[0;36mSession.send\u001b[0;34m(self, request, **kwargs)\u001b[0m\n\u001b[1;32m    700\u001b[0m start \u001b[39m=\u001b[39m preferred_clock()\n\u001b[1;32m    702\u001b[0m \u001b[39m# Send the request\u001b[39;00m\n\u001b[0;32m--> 703\u001b[0m r \u001b[39m=\u001b[39m adapter\u001b[39m.\u001b[39;49msend(request, \u001b[39m*\u001b[39;49m\u001b[39m*\u001b[39;49mkwargs)\n\u001b[1;32m    705\u001b[0m \u001b[39m# Total elapsed time of the request (approximately)\u001b[39;00m\n\u001b[1;32m    706\u001b[0m elapsed \u001b[39m=\u001b[39m preferred_clock() \u001b[39m-\u001b[39m start\n",
      "File \u001b[0;32m~/code/defi-measurement/venv/lib/python3.11/site-packages/requests/adapters.py:486\u001b[0m, in \u001b[0;36mHTTPAdapter.send\u001b[0;34m(self, request, stream, timeout, verify, cert, proxies)\u001b[0m\n\u001b[1;32m    483\u001b[0m     timeout \u001b[39m=\u001b[39m TimeoutSauce(connect\u001b[39m=\u001b[39mtimeout, read\u001b[39m=\u001b[39mtimeout)\n\u001b[1;32m    485\u001b[0m \u001b[39mtry\u001b[39;00m:\n\u001b[0;32m--> 486\u001b[0m     resp \u001b[39m=\u001b[39m conn\u001b[39m.\u001b[39;49murlopen(\n\u001b[1;32m    487\u001b[0m         method\u001b[39m=\u001b[39;49mrequest\u001b[39m.\u001b[39;49mmethod,\n\u001b[1;32m    488\u001b[0m         url\u001b[39m=\u001b[39;49murl,\n\u001b[1;32m    489\u001b[0m         body\u001b[39m=\u001b[39;49mrequest\u001b[39m.\u001b[39;49mbody,\n\u001b[1;32m    490\u001b[0m         headers\u001b[39m=\u001b[39;49mrequest\u001b[39m.\u001b[39;49mheaders,\n\u001b[1;32m    491\u001b[0m         redirect\u001b[39m=\u001b[39;49m\u001b[39mFalse\u001b[39;49;00m,\n\u001b[1;32m    492\u001b[0m         assert_same_host\u001b[39m=\u001b[39;49m\u001b[39mFalse\u001b[39;49;00m,\n\u001b[1;32m    493\u001b[0m         preload_content\u001b[39m=\u001b[39;49m\u001b[39mFalse\u001b[39;49;00m,\n\u001b[1;32m    494\u001b[0m         decode_content\u001b[39m=\u001b[39;49m\u001b[39mFalse\u001b[39;49;00m,\n\u001b[1;32m    495\u001b[0m         retries\u001b[39m=\u001b[39;49m\u001b[39mself\u001b[39;49m\u001b[39m.\u001b[39;49mmax_retries,\n\u001b[1;32m    496\u001b[0m         timeout\u001b[39m=\u001b[39;49mtimeout,\n\u001b[1;32m    497\u001b[0m         chunked\u001b[39m=\u001b[39;49mchunked,\n\u001b[1;32m    498\u001b[0m     )\n\u001b[1;32m    500\u001b[0m \u001b[39mexcept\u001b[39;00m (ProtocolError, \u001b[39mOSError\u001b[39;00m) \u001b[39mas\u001b[39;00m err:\n\u001b[1;32m    501\u001b[0m     \u001b[39mraise\u001b[39;00m \u001b[39mConnectionError\u001b[39;00m(err, request\u001b[39m=\u001b[39mrequest)\n",
      "File \u001b[0;32m~/code/defi-measurement/venv/lib/python3.11/site-packages/urllib3/connectionpool.py:714\u001b[0m, in \u001b[0;36mHTTPConnectionPool.urlopen\u001b[0;34m(self, method, url, body, headers, retries, redirect, assert_same_host, timeout, pool_timeout, release_conn, chunked, body_pos, **response_kw)\u001b[0m\n\u001b[1;32m    711\u001b[0m     \u001b[39mself\u001b[39m\u001b[39m.\u001b[39m_prepare_proxy(conn)\n\u001b[1;32m    713\u001b[0m \u001b[39m# Make the request on the httplib connection object.\u001b[39;00m\n\u001b[0;32m--> 714\u001b[0m httplib_response \u001b[39m=\u001b[39m \u001b[39mself\u001b[39;49m\u001b[39m.\u001b[39;49m_make_request(\n\u001b[1;32m    715\u001b[0m     conn,\n\u001b[1;32m    716\u001b[0m     method,\n\u001b[1;32m    717\u001b[0m     url,\n\u001b[1;32m    718\u001b[0m     timeout\u001b[39m=\u001b[39;49mtimeout_obj,\n\u001b[1;32m    719\u001b[0m     body\u001b[39m=\u001b[39;49mbody,\n\u001b[1;32m    720\u001b[0m     headers\u001b[39m=\u001b[39;49mheaders,\n\u001b[1;32m    721\u001b[0m     chunked\u001b[39m=\u001b[39;49mchunked,\n\u001b[1;32m    722\u001b[0m )\n\u001b[1;32m    724\u001b[0m \u001b[39m# If we're going to release the connection in ``finally:``, then\u001b[39;00m\n\u001b[1;32m    725\u001b[0m \u001b[39m# the response doesn't need to know about the connection. Otherwise\u001b[39;00m\n\u001b[1;32m    726\u001b[0m \u001b[39m# it will also try to release it and we'll have a double-release\u001b[39;00m\n\u001b[1;32m    727\u001b[0m \u001b[39m# mess.\u001b[39;00m\n\u001b[1;32m    728\u001b[0m response_conn \u001b[39m=\u001b[39m conn \u001b[39mif\u001b[39;00m \u001b[39mnot\u001b[39;00m release_conn \u001b[39melse\u001b[39;00m \u001b[39mNone\u001b[39;00m\n",
      "File \u001b[0;32m~/code/defi-measurement/venv/lib/python3.11/site-packages/urllib3/connectionpool.py:415\u001b[0m, in \u001b[0;36mHTTPConnectionPool._make_request\u001b[0;34m(self, conn, method, url, timeout, chunked, **httplib_request_kw)\u001b[0m\n\u001b[1;32m    413\u001b[0m         conn\u001b[39m.\u001b[39mrequest_chunked(method, url, \u001b[39m*\u001b[39m\u001b[39m*\u001b[39mhttplib_request_kw)\n\u001b[1;32m    414\u001b[0m     \u001b[39melse\u001b[39;00m:\n\u001b[0;32m--> 415\u001b[0m         conn\u001b[39m.\u001b[39;49mrequest(method, url, \u001b[39m*\u001b[39;49m\u001b[39m*\u001b[39;49mhttplib_request_kw)\n\u001b[1;32m    417\u001b[0m \u001b[39m# We are swallowing BrokenPipeError (errno.EPIPE) since the server is\u001b[39;00m\n\u001b[1;32m    418\u001b[0m \u001b[39m# legitimately able to close the connection after sending a valid response.\u001b[39;00m\n\u001b[1;32m    419\u001b[0m \u001b[39m# With this behaviour, the received response is still readable.\u001b[39;00m\n\u001b[1;32m    420\u001b[0m \u001b[39mexcept\u001b[39;00m \u001b[39mBrokenPipeError\u001b[39;00m:\n\u001b[1;32m    421\u001b[0m     \u001b[39m# Python 3\u001b[39;00m\n",
      "File \u001b[0;32m~/code/defi-measurement/venv/lib/python3.11/site-packages/urllib3/connection.py:244\u001b[0m, in \u001b[0;36mHTTPConnection.request\u001b[0;34m(self, method, url, body, headers)\u001b[0m\n\u001b[1;32m    242\u001b[0m \u001b[39mif\u001b[39;00m \u001b[39m\"\u001b[39m\u001b[39muser-agent\u001b[39m\u001b[39m\"\u001b[39m \u001b[39mnot\u001b[39;00m \u001b[39min\u001b[39;00m (six\u001b[39m.\u001b[39mensure_str(k\u001b[39m.\u001b[39mlower()) \u001b[39mfor\u001b[39;00m k \u001b[39min\u001b[39;00m headers):\n\u001b[1;32m    243\u001b[0m     headers[\u001b[39m\"\u001b[39m\u001b[39mUser-Agent\u001b[39m\u001b[39m\"\u001b[39m] \u001b[39m=\u001b[39m _get_default_user_agent()\n\u001b[0;32m--> 244\u001b[0m \u001b[39msuper\u001b[39;49m(HTTPConnection, \u001b[39mself\u001b[39;49m)\u001b[39m.\u001b[39;49mrequest(method, url, body\u001b[39m=\u001b[39;49mbody, headers\u001b[39m=\u001b[39;49mheaders)\n",
      "File \u001b[0;32m/opt/homebrew/Cellar/python@3.11/3.11.4_1/Frameworks/Python.framework/Versions/3.11/lib/python3.11/http/client.py:1286\u001b[0m, in \u001b[0;36mHTTPConnection.request\u001b[0;34m(self, method, url, body, headers, encode_chunked)\u001b[0m\n\u001b[1;32m   1283\u001b[0m \u001b[39mdef\u001b[39;00m \u001b[39mrequest\u001b[39m(\u001b[39mself\u001b[39m, method, url, body\u001b[39m=\u001b[39m\u001b[39mNone\u001b[39;00m, headers\u001b[39m=\u001b[39m{}, \u001b[39m*\u001b[39m,\n\u001b[1;32m   1284\u001b[0m             encode_chunked\u001b[39m=\u001b[39m\u001b[39mFalse\u001b[39;00m):\n\u001b[1;32m   1285\u001b[0m \u001b[39m    \u001b[39m\u001b[39m\"\"\"Send a complete request to the server.\"\"\"\u001b[39;00m\n\u001b[0;32m-> 1286\u001b[0m     \u001b[39mself\u001b[39;49m\u001b[39m.\u001b[39;49m_send_request(method, url, body, headers, encode_chunked)\n",
      "File \u001b[0;32m/opt/homebrew/Cellar/python@3.11/3.11.4_1/Frameworks/Python.framework/Versions/3.11/lib/python3.11/http/client.py:1332\u001b[0m, in \u001b[0;36mHTTPConnection._send_request\u001b[0;34m(self, method, url, body, headers, encode_chunked)\u001b[0m\n\u001b[1;32m   1328\u001b[0m \u001b[39mif\u001b[39;00m \u001b[39misinstance\u001b[39m(body, \u001b[39mstr\u001b[39m):\n\u001b[1;32m   1329\u001b[0m     \u001b[39m# RFC 2616 Section 3.7.1 says that text default has a\u001b[39;00m\n\u001b[1;32m   1330\u001b[0m     \u001b[39m# default charset of iso-8859-1.\u001b[39;00m\n\u001b[1;32m   1331\u001b[0m     body \u001b[39m=\u001b[39m _encode(body, \u001b[39m'\u001b[39m\u001b[39mbody\u001b[39m\u001b[39m'\u001b[39m)\n\u001b[0;32m-> 1332\u001b[0m \u001b[39mself\u001b[39;49m\u001b[39m.\u001b[39;49mendheaders(body, encode_chunked\u001b[39m=\u001b[39;49mencode_chunked)\n",
      "File \u001b[0;32m/opt/homebrew/Cellar/python@3.11/3.11.4_1/Frameworks/Python.framework/Versions/3.11/lib/python3.11/http/client.py:1281\u001b[0m, in \u001b[0;36mHTTPConnection.endheaders\u001b[0;34m(self, message_body, encode_chunked)\u001b[0m\n\u001b[1;32m   1279\u001b[0m \u001b[39melse\u001b[39;00m:\n\u001b[1;32m   1280\u001b[0m     \u001b[39mraise\u001b[39;00m CannotSendHeader()\n\u001b[0;32m-> 1281\u001b[0m \u001b[39mself\u001b[39;49m\u001b[39m.\u001b[39;49m_send_output(message_body, encode_chunked\u001b[39m=\u001b[39;49mencode_chunked)\n",
      "File \u001b[0;32m/opt/homebrew/Cellar/python@3.11/3.11.4_1/Frameworks/Python.framework/Versions/3.11/lib/python3.11/http/client.py:1080\u001b[0m, in \u001b[0;36mHTTPConnection._send_output\u001b[0;34m(self, message_body, encode_chunked)\u001b[0m\n\u001b[1;32m   1076\u001b[0m     \u001b[39mif\u001b[39;00m encode_chunked \u001b[39mand\u001b[39;00m \u001b[39mself\u001b[39m\u001b[39m.\u001b[39m_http_vsn \u001b[39m==\u001b[39m \u001b[39m11\u001b[39m:\n\u001b[1;32m   1077\u001b[0m         \u001b[39m# chunked encoding\u001b[39;00m\n\u001b[1;32m   1078\u001b[0m         chunk \u001b[39m=\u001b[39m \u001b[39mf\u001b[39m\u001b[39m'\u001b[39m\u001b[39m{\u001b[39;00m\u001b[39mlen\u001b[39m(chunk)\u001b[39m:\u001b[39;00m\u001b[39mX\u001b[39m\u001b[39m}\u001b[39;00m\u001b[39m\\r\u001b[39;00m\u001b[39m\\n\u001b[39;00m\u001b[39m'\u001b[39m\u001b[39m.\u001b[39mencode(\u001b[39m'\u001b[39m\u001b[39mascii\u001b[39m\u001b[39m'\u001b[39m) \u001b[39m+\u001b[39m chunk \\\n\u001b[1;32m   1079\u001b[0m             \u001b[39m+\u001b[39m \u001b[39mb\u001b[39m\u001b[39m'\u001b[39m\u001b[39m\\r\u001b[39;00m\u001b[39m\\n\u001b[39;00m\u001b[39m'\u001b[39m\n\u001b[0;32m-> 1080\u001b[0m     \u001b[39mself\u001b[39;49m\u001b[39m.\u001b[39;49msend(chunk)\n\u001b[1;32m   1082\u001b[0m \u001b[39mif\u001b[39;00m encode_chunked \u001b[39mand\u001b[39;00m \u001b[39mself\u001b[39m\u001b[39m.\u001b[39m_http_vsn \u001b[39m==\u001b[39m \u001b[39m11\u001b[39m:\n\u001b[1;32m   1083\u001b[0m     \u001b[39m# end chunked transfer\u001b[39;00m\n\u001b[1;32m   1084\u001b[0m     \u001b[39mself\u001b[39m\u001b[39m.\u001b[39msend(\u001b[39mb\u001b[39m\u001b[39m'\u001b[39m\u001b[39m0\u001b[39m\u001b[39m\\r\u001b[39;00m\u001b[39m\\n\u001b[39;00m\u001b[39m\\r\u001b[39;00m\u001b[39m\\n\u001b[39;00m\u001b[39m'\u001b[39m)\n",
      "File \u001b[0;32m/opt/homebrew/Cellar/python@3.11/3.11.4_1/Frameworks/Python.framework/Versions/3.11/lib/python3.11/http/client.py:1002\u001b[0m, in \u001b[0;36mHTTPConnection.send\u001b[0;34m(self, data)\u001b[0m\n\u001b[1;32m   1000\u001b[0m sys\u001b[39m.\u001b[39maudit(\u001b[39m\"\u001b[39m\u001b[39mhttp.client.send\u001b[39m\u001b[39m\"\u001b[39m, \u001b[39mself\u001b[39m, data)\n\u001b[1;32m   1001\u001b[0m \u001b[39mtry\u001b[39;00m:\n\u001b[0;32m-> 1002\u001b[0m     \u001b[39mself\u001b[39;49m\u001b[39m.\u001b[39;49msock\u001b[39m.\u001b[39;49msendall(data)\n\u001b[1;32m   1003\u001b[0m \u001b[39mexcept\u001b[39;00m \u001b[39mTypeError\u001b[39;00m:\n\u001b[1;32m   1004\u001b[0m     \u001b[39mif\u001b[39;00m \u001b[39misinstance\u001b[39m(data, collections\u001b[39m.\u001b[39mabc\u001b[39m.\u001b[39mIterable):\n",
      "File \u001b[0;32m/opt/homebrew/Cellar/python@3.11/3.11.4_1/Frameworks/Python.framework/Versions/3.11/lib/python3.11/ssl.py:1241\u001b[0m, in \u001b[0;36mSSLSocket.sendall\u001b[0;34m(self, data, flags)\u001b[0m\n\u001b[1;32m   1239\u001b[0m         amount \u001b[39m=\u001b[39m \u001b[39mlen\u001b[39m(byte_view)\n\u001b[1;32m   1240\u001b[0m         \u001b[39mwhile\u001b[39;00m count \u001b[39m<\u001b[39m amount:\n\u001b[0;32m-> 1241\u001b[0m             v \u001b[39m=\u001b[39m \u001b[39mself\u001b[39;49m\u001b[39m.\u001b[39;49msend(byte_view[count:])\n\u001b[1;32m   1242\u001b[0m             count \u001b[39m+\u001b[39m\u001b[39m=\u001b[39m v\n\u001b[1;32m   1243\u001b[0m \u001b[39melse\u001b[39;00m:\n",
      "File \u001b[0;32m/opt/homebrew/Cellar/python@3.11/3.11.4_1/Frameworks/Python.framework/Versions/3.11/lib/python3.11/ssl.py:1210\u001b[0m, in \u001b[0;36mSSLSocket.send\u001b[0;34m(self, data, flags)\u001b[0m\n\u001b[1;32m   1206\u001b[0m     \u001b[39mif\u001b[39;00m flags \u001b[39m!=\u001b[39m \u001b[39m0\u001b[39m:\n\u001b[1;32m   1207\u001b[0m         \u001b[39mraise\u001b[39;00m \u001b[39mValueError\u001b[39;00m(\n\u001b[1;32m   1208\u001b[0m             \u001b[39m\"\u001b[39m\u001b[39mnon-zero flags not allowed in calls to send() on \u001b[39m\u001b[39m%s\u001b[39;00m\u001b[39m\"\u001b[39m \u001b[39m%\u001b[39m\n\u001b[1;32m   1209\u001b[0m             \u001b[39mself\u001b[39m\u001b[39m.\u001b[39m\u001b[39m__class__\u001b[39m)\n\u001b[0;32m-> 1210\u001b[0m     \u001b[39mreturn\u001b[39;00m \u001b[39mself\u001b[39m\u001b[39m.\u001b[39m_sslobj\u001b[39m.\u001b[39mwrite(data)\n\u001b[1;32m   1211\u001b[0m \u001b[39melse\u001b[39;00m:\n\u001b[1;32m   1212\u001b[0m     \u001b[39mreturn\u001b[39;00m \u001b[39msuper\u001b[39m()\u001b[39m.\u001b[39msend(data, flags)\n",
      "\u001b[0;31mKeyboardInterrupt\u001b[0m: "
     ]
    }
   ],
   "source": [
    "pool_block_pairs = get_pool_block_pairs(1_000, 0)\n",
    "\n",
    "it = tqdm(total=pool_block_pairs.shape[0])\n",
    "pool = get_pool(pool_block_pairs.address[0], it)\n",
    "\n",
    "\n",
    "for pool_addr, df in pool_block_pairs.groupby(\"address\"):\n",
    "\n",
    "    if pool_addr != pool.pool:\n",
    "        pool = get_pool(pool_addr, it)\n",
    "\n",
    "    swaps_for_pool = get_swaps_for_address(pool_addr, df.block_number.min(), df.block_number.max())\n",
    "\n",
    "    block_numbers = df.block_number.unique()\n",
    "\n",
    "    for block_number in df.block_number.unique():\n",
    "        swaps = swaps_for_pool[swaps_for_pool.block_number == block_number].sort_values(\"transaction_index\")\n",
    "\n",
    "        if swaps.shape[0] == 0:\n",
    "            continue\n",
    "\n",
    "        curr_price = pool.getPriceAt(block_number)\n",
    "\n",
    "        swap_metric = BlockMetrics(\n",
    "            block_number=block_number,\n",
    "            pool_address=pool_addr,\n",
    "            num_transactions=swaps.shape[0],\n",
    "            mev_boost=block_number in mev_boost_values,\n",
    "            mev_boost_amount=mev_boost_values.get(block_number, 0),\n",
    "            baseline_price=get_price(curr_price, pool_addr),\n",
    "        )\n",
    "\n",
    "        # Run the baseline measurement\n",
    "        prices = np.zeros(swaps.shape[0])\n",
    "        ordering = []\n",
    "        for i, (_, swap) in enumerate(swaps.iterrows()):\n",
    "\n",
    "            _, heur = do_swap(swap, curr_price, pool)\n",
    "\n",
    "            prices[i] = get_price(heur.sqrtP_next, swap) - swap_metric.baseline_price\n",
    "            ordering.append(f\"{swap.transaction_index:03}_{swap.log_index:03}\")\n",
    "            curr_price = heur.sqrtP_next\n",
    "\n",
    "        swap_metric.realized_prices = prices\n",
    "        swap_metric.realized_order = ordering\n",
    "        swap_metric.realized_l1 = norm(prices, 1)\n",
    "        swap_metric.realized_l2 = norm(prices, 2)\n",
    "        swap_metric.realized_linf = norm(prices, np.inf)\n",
    "\n",
    "        if swaps.shape[0] == 1:\n",
    "            swap_metric.volume_heur_prices = prices\n",
    "            swap_metric.volume_heur_order = ordering\n",
    "            swap_metric.volume_heur_l1 = swap_metric.realized_l1\n",
    "            swap_metric.volume_heur_l2 = swap_metric.realized_l2\n",
    "            swap_metric.volume_heur_linf = swap_metric.realized_linf\n",
    "            continue\n",
    "\n",
    "        # Run the volume heuristic measurement\n",
    "        curr_price = cast(float, pool.getPriceAt(block_number))\n",
    "        baseline_price = curr_price\n",
    "        prices = np.zeros(swaps.shape[0])\n",
    "        ordering = []\n",
    "\n",
    "        # Split the swaps into the set of buys and sells and order by volume ascending\n",
    "        buys = [row for _, row in swaps[swaps.amount0 > 0].sort_values(\"amount0\", ascending=False).iterrows()]\n",
    "        sells = [row for _, row in swaps[swaps.amount1 > 0].sort_values(\"amount1\", ascending=False).iterrows()]\n",
    "        i = 0\n",
    "\n",
    "        # While wer're still in the core\n",
    "        while len(buys) > 0 and len(sells) > 0:\n",
    "            if curr_price >= baseline_price:\n",
    "                swap = buys.pop(-1)\n",
    "            else:\n",
    "                swap = sells.pop(-1)\n",
    "\n",
    "            _, heur = do_swap(swap, curr_price, pool)\n",
    "\n",
    "            prices[i] = get_price(heur.sqrtP_next, swap) - swap_metric.baseline_price\n",
    "            ordering.append(f\"{swap.transaction_index:03}_{swap.log_index:03}\")\n",
    "            curr_price = heur.sqrtP_next\n",
    "\n",
    "            i += 1\n",
    "\n",
    "        # Process whatever is left in the tail\n",
    "        while len(buys) > 0:\n",
    "            swap = buys.pop(-1)\n",
    "\n",
    "            _, heur = do_swap(swap, curr_price, pool)\n",
    "\n",
    "            prices[i] = get_price(heur.sqrtP_next, swap) - swap_metric.baseline_price\n",
    "            ordering.append(f\"{swap.transaction_index:03}_{swap.log_index:03}\")\n",
    "            curr_price = heur.sqrtP_next\n",
    "\n",
    "            i += 1\n",
    "\n",
    "        while len(sells) > 0:\n",
    "            swap = sells.pop(-1)\n",
    "\n",
    "            _, heur = do_swap(swap, curr_price, pool)\n",
    "\n",
    "            prices[i] = get_price(heur.sqrtP_next, swap) - swap_metric.baseline_price\n",
    "            ordering.append(f\"{swap.transaction_index:03}_{swap.log_index:03}\")\n",
    "            curr_price = heur.sqrtP_next\n",
    "\n",
    "            i += 1\n",
    "\n",
    "        swap_metric.volume_heur_prices = prices\n",
    "        swap_metric.volume_heur_order = ordering\n",
    "        swap_metric.volume_heur_l1 = norm(prices, 1)\n",
    "        swap_metric.volume_heur_l2 = norm(prices, 2)\n",
    "        swap_metric.volume_heur_linf = norm(prices, np.inf)\n",
    "\n",
    "        with SessionLocalMP() as session:\n",
    "            session.add(swap_metric)\n",
    "            session.commit()\n",
    "            session.close()\n",
    "\n",
    "        it.update(1)\n"
   ]
  },
  {
   "cell_type": "code",
   "execution_count": null,
   "metadata": {},
   "outputs": [],
   "source": []
  }
 ],
 "metadata": {
  "kernelspec": {
   "display_name": "venv",
   "language": "python",
   "name": "python3"
  },
  "language_info": {
   "codemirror_mode": {
    "name": "ipython",
    "version": 3
   },
   "file_extension": ".py",
   "mimetype": "text/x-python",
   "name": "python",
   "nbconvert_exporter": "python",
   "pygments_lexer": "ipython3",
   "version": "3.11.4"
  },
  "orig_nbformat": 4
 },
 "nbformat": 4,
 "nbformat_minor": 2
}
