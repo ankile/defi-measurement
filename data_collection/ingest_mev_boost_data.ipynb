{
 "cells": [
  {
   "cell_type": "code",
   "execution_count": 4,
   "metadata": {},
   "outputs": [
    {
     "data": {
      "text/plain": [
       "True"
      ]
     },
     "execution_count": 4,
     "metadata": {},
     "output_type": "execute_result"
    }
   ],
   "source": [
    "import os\n",
    "import pandas as pd\n",
    "from dotenv import load_dotenv\n",
    "\n",
    "load_dotenv()"
   ]
  },
  {
   "cell_type": "code",
   "execution_count": 7,
   "metadata": {},
   "outputs": [],
   "source": [
    "postgres_uri_mp = os.environ[\"POSTGRESQL_URI_MP\"]"
   ]
  },
  {
   "cell_type": "code",
   "execution_count": 3,
   "metadata": {},
   "outputs": [
    {
     "name": "stdout",
     "output_type": "stream",
     "text": [
      "(2834350, 9)\n"
     ]
    },
    {
     "data": {
      "text/html": [
       "<div>\n",
       "<style scoped>\n",
       "    .dataframe tbody tr th:only-of-type {\n",
       "        vertical-align: middle;\n",
       "    }\n",
       "\n",
       "    .dataframe tbody tr th {\n",
       "        vertical-align: top;\n",
       "    }\n",
       "\n",
       "    .dataframe thead th {\n",
       "        text-align: right;\n",
       "    }\n",
       "</style>\n",
       "<table border=\"1\" class=\"dataframe\">\n",
       "  <thead>\n",
       "    <tr style=\"text-align: right;\">\n",
       "      <th></th>\n",
       "      <th>date</th>\n",
       "      <th>slot</th>\n",
       "      <th>block_number</th>\n",
       "      <th>relay</th>\n",
       "      <th>builder_pubkey</th>\n",
       "      <th>proposer_pubkey</th>\n",
       "      <th>mevboost_value</th>\n",
       "      <th>builder</th>\n",
       "      <th>validator</th>\n",
       "    </tr>\n",
       "  </thead>\n",
       "  <tbody>\n",
       "    <tr>\n",
       "      <th>923491</th>\n",
       "      <td>2022-09-15 06:42:59</td>\n",
       "      <td>4700013</td>\n",
       "      <td>15537394</td>\n",
       "      <td>None</td>\n",
       "      <td>None</td>\n",
       "      <td>0xa04520c5c37237e358cdd10d75d055d2e81ada151e63...</td>\n",
       "      <td>None</td>\n",
       "      <td>None</td>\n",
       "      <td>celsius</td>\n",
       "    </tr>\n",
       "    <tr>\n",
       "      <th>531576</th>\n",
       "      <td>2022-09-15 06:43:11</td>\n",
       "      <td>4700014</td>\n",
       "      <td>15537395</td>\n",
       "      <td>None</td>\n",
       "      <td>None</td>\n",
       "      <td>0xa605e658a0dd0dd77adb9fc2398f78f24c648125126d...</td>\n",
       "      <td>None</td>\n",
       "      <td>None</td>\n",
       "      <td>stakehound</td>\n",
       "    </tr>\n",
       "    <tr>\n",
       "      <th>667510</th>\n",
       "      <td>2022-09-15 06:43:23</td>\n",
       "      <td>4700015</td>\n",
       "      <td>15537396</td>\n",
       "      <td>None</td>\n",
       "      <td>None</td>\n",
       "      <td>0xb11a32a0f8f7acb81f959e7c68af49705bb64d78b41b...</td>\n",
       "      <td>None</td>\n",
       "      <td>None</td>\n",
       "      <td>lido</td>\n",
       "    </tr>\n",
       "    <tr>\n",
       "      <th>282876</th>\n",
       "      <td>2022-09-15 06:43:35</td>\n",
       "      <td>4700016</td>\n",
       "      <td>15537397</td>\n",
       "      <td>None</td>\n",
       "      <td>None</td>\n",
       "      <td>0x863b410dfb618b4f6b947f3ede710001aa274bc74b1d...</td>\n",
       "      <td>None</td>\n",
       "      <td>None</td>\n",
       "      <td>binance</td>\n",
       "    </tr>\n",
       "    <tr>\n",
       "      <th>215777</th>\n",
       "      <td>2022-09-15 06:43:47</td>\n",
       "      <td>4700017</td>\n",
       "      <td>15537398</td>\n",
       "      <td>None</td>\n",
       "      <td>None</td>\n",
       "      <td>0xb9be1d7a0a871eef07ca47796842b0449032462d69d2...</td>\n",
       "      <td>None</td>\n",
       "      <td>None</td>\n",
       "      <td>0xb9be1d7a0a871eef07ca47796842b0449032462d69d2...</td>\n",
       "    </tr>\n",
       "  </tbody>\n",
       "</table>\n",
       "</div>"
      ],
      "text/plain": [
       "                      date     slot  block_number relay builder_pubkey  \\\n",
       "923491 2022-09-15 06:42:59  4700013      15537394  None           None   \n",
       "531576 2022-09-15 06:43:11  4700014      15537395  None           None   \n",
       "667510 2022-09-15 06:43:23  4700015      15537396  None           None   \n",
       "282876 2022-09-15 06:43:35  4700016      15537397  None           None   \n",
       "215777 2022-09-15 06:43:47  4700017      15537398  None           None   \n",
       "\n",
       "                                          proposer_pubkey mevboost_value  \\\n",
       "923491  0xa04520c5c37237e358cdd10d75d055d2e81ada151e63...           None   \n",
       "531576  0xa605e658a0dd0dd77adb9fc2398f78f24c648125126d...           None   \n",
       "667510  0xb11a32a0f8f7acb81f959e7c68af49705bb64d78b41b...           None   \n",
       "282876  0x863b410dfb618b4f6b947f3ede710001aa274bc74b1d...           None   \n",
       "215777  0xb9be1d7a0a871eef07ca47796842b0449032462d69d2...           None   \n",
       "\n",
       "       builder                                          validator  \n",
       "923491    None                                            celsius  \n",
       "531576    None                                         stakehound  \n",
       "667510    None                                               lido  \n",
       "282876    None                                            binance  \n",
       "215777    None  0xb9be1d7a0a871eef07ca47796842b0449032462d69d2...  "
      ]
     },
     "execution_count": 3,
     "metadata": {},
     "output_type": "execute_result"
    }
   ],
   "source": [
    "df = pd.read_parquet('/Users/larsankile/Downloads/openethdata_eth_data.parquet.gzip').sort_values('block_number')\n",
    "\n",
    "# Filter out all transactions that are 'missed'\n",
    "df = df[df.proposer_pubkey != 'missed']\n",
    "df = df[~df.block_number.isna()]\n",
    "df = df.astype({'block_number': int})\n",
    "\n",
    "print(df.shape)\n",
    "\n",
    "df.head()"
   ]
  },
  {
   "cell_type": "code",
   "execution_count": 8,
   "metadata": {},
   "outputs": [],
   "source": [
    "df.to_sql('mev_boost', postgres_uri_mp, if_exists='replace', index=False, method='multi', chunksize=10_000)"
   ]
  },
  {
   "cell_type": "code",
   "execution_count": 25,
   "metadata": {},
   "outputs": [
    {
     "data": {
      "text/plain": [
       "(15537394, 17960034)"
      ]
     },
     "execution_count": 25,
     "metadata": {},
     "output_type": "execute_result"
    }
   ],
   "source": [
    "min_block, max_block = df.block_number.min(), df.block_number.max()\n",
    "\n",
    "min_block, max_block"
   ]
  },
  {
   "cell_type": "code",
   "execution_count": 28,
   "metadata": {},
   "outputs": [
    {
     "data": {
      "text/plain": [
       "0.13439060101963413"
      ]
     },
     "execution_count": 28,
     "metadata": {},
     "output_type": "execute_result"
    }
   ],
   "source": [
    "df[df.relay.isnull()].shape[0] / df.shape[0]"
   ]
  },
  {
   "cell_type": "code",
   "execution_count": 29,
   "metadata": {},
   "outputs": [
    {
     "data": {
      "text/plain": [
       "0.00012176793837799327"
      ]
     },
     "execution_count": 29,
     "metadata": {},
     "output_type": "execute_result"
    }
   ],
   "source": [
    "all_blocks = set(range(min_block, max_block + 1))\n",
    "not_boost = all_blocks - set(df.block_number.unique())\n",
    "\n",
    "len(not_boost) / len(all_blocks)"
   ]
  },
  {
   "cell_type": "code",
   "execution_count": 19,
   "metadata": {},
   "outputs": [
    {
     "data": {
      "text/plain": [
       "0.1343924334134456"
      ]
     },
     "execution_count": 19,
     "metadata": {},
     "output_type": "execute_result"
    }
   ],
   "source": [
    "df.builder_pubkey.isna().sum() / df.shape[0]"
   ]
  },
  {
   "cell_type": "code",
   "execution_count": 20,
   "metadata": {},
   "outputs": [
    {
     "data": {
      "text/plain": [
       "0.0"
      ]
     },
     "execution_count": 20,
     "metadata": {},
     "output_type": "execute_result"
    }
   ],
   "source": [
    "df.proposer_pubkey.isna().sum() / df.shape[0]"
   ]
  },
  {
   "cell_type": "code",
   "execution_count": 21,
   "metadata": {},
   "outputs": [
    {
     "data": {
      "text/plain": [
       "Timestamp('2023-08-21 02:09:35')"
      ]
     },
     "execution_count": 21,
     "metadata": {},
     "output_type": "execute_result"
    }
   ],
   "source": [
    "df.date.max()"
   ]
  },
  {
   "cell_type": "code",
   "execution_count": null,
   "metadata": {},
   "outputs": [],
   "source": []
  }
 ],
 "metadata": {
  "kernelspec": {
   "display_name": "venv",
   "language": "python",
   "name": "python3"
  },
  "language_info": {
   "codemirror_mode": {
    "name": "ipython",
    "version": 3
   },
   "file_extension": ".py",
   "mimetype": "text/x-python",
   "name": "python",
   "nbconvert_exporter": "python",
   "pygments_lexer": "ipython3",
   "version": "3.11.4"
  },
  "orig_nbformat": 4
 },
 "nbformat": 4,
 "nbformat_minor": 2
}
