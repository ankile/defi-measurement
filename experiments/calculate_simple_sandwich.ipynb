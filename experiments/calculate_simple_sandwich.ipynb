{
 "cells": [
  {
   "cell_type": "markdown",
   "metadata": {},
   "source": [
    "# Run Sandwich Attacks on Swaps from the Public Mempool"
   ]
  },
  {
   "cell_type": "code",
   "execution_count": 3,
   "metadata": {},
   "outputs": [],
   "source": [
    "%load_ext autoreload\n",
    "%autoreload 2"
   ]
  },
  {
   "cell_type": "code",
   "execution_count": 31,
   "metadata": {},
   "outputs": [],
   "source": [
    "import os\n",
    "import sys\n",
    "import math\n",
    "\n",
    "current_path = sys.path[0]\n",
    "sys.path.append(\n",
    "    current_path[: current_path.find(\"defi-measurement\")]\n",
    "    + \"liquidity-distribution-history\"\n",
    ")\n",
    "\n",
    "sys.path.append(\"..\")\n",
    "\n",
    "\n",
    "import matplotlib.pyplot as plt\n",
    "import numpy as np\n",
    "import pandas as pd\n",
    "\n",
    "\n",
    "from datetime import datetime, timezone\n",
    "\n",
    "\n",
    "# Set display options\n",
    "pd.set_option(\"display.max_colwidth\", None)  # Display entire cell content\n",
    "pd.set_option(\"display.max_rows\", 50)  # Display all rows\n",
    "pd.set_option(\"display.max_columns\", None)  # Display all columns\n",
    "\n",
    "\n",
    "from dotenv import load_dotenv\n",
    "from pool_state import v3Pool\n",
    "from sqlalchemy import create_engine\n",
    "from tqdm import tqdm\n",
    "\n",
    "load_dotenv(override=True)\n",
    "# from experiments.random_permutations import load_pool\n",
    "\n",
    "from experiments.preload_pool_cache import load_pool_from_blob\n",
    "from experiments.calculate_simple_sandwich import (\n",
    "    get_data,\n",
    "    SwapData,\n",
    "    single_sandwich_mev,\n",
    "    max_frontrun,\n",
    "    auto_sandwich_mev,\n",
    ")\n",
    "\n",
    "\n",
    "from decimal import getcontext\n",
    "\n",
    "getcontext().prec = 100  # Set the precision high enough for our purposes\n",
    "\n",
    "\n",
    "# Read in the environment variables\n",
    "postgres_uri_mp = os.environ[\"POSTGRESQL_URI_MP\"]\n",
    "postgres_uri_us = os.environ[\"POSTGRESQL_URI_US\"]\n",
    "azure_storage_uri = os.environ[\"AZURE_STORAGE_CONNECTION_STRING\"]"
   ]
  },
  {
   "cell_type": "markdown",
   "metadata": {},
   "source": [
    "## Get the Data"
   ]
  },
  {
   "cell_type": "markdown",
   "metadata": {},
   "source": [
    "### Populate the swap data we have with the block number that the swap appeared in"
   ]
  },
  {
   "cell_type": "code",
   "execution_count": 42,
   "metadata": {},
   "outputs": [
    {
     "data": {
      "text/html": [
       "<div>\n",
       "<style scoped>\n",
       "    .dataframe tbody tr th:only-of-type {\n",
       "        vertical-align: middle;\n",
       "    }\n",
       "\n",
       "    .dataframe tbody tr th {\n",
       "        vertical-align: top;\n",
       "    }\n",
       "\n",
       "    .dataframe thead th {\n",
       "        text-align: right;\n",
       "    }\n",
       "</style>\n",
       "<table border=\"1\" class=\"dataframe\">\n",
       "  <thead>\n",
       "    <tr style=\"text-align: right;\">\n",
       "      <th></th>\n",
       "      <th></th>\n",
       "      <th>amountIn</th>\n",
       "      <th>amountOutMin</th>\n",
       "      <th>token0</th>\n",
       "      <th>fee</th>\n",
       "      <th>token1</th>\n",
       "      <th>hash</th>\n",
       "      <th>first_seen</th>\n",
       "    </tr>\n",
       "    <tr>\n",
       "      <th>pool</th>\n",
       "      <th>block_number</th>\n",
       "      <th></th>\n",
       "      <th></th>\n",
       "      <th></th>\n",
       "      <th></th>\n",
       "      <th></th>\n",
       "      <th></th>\n",
       "      <th></th>\n",
       "    </tr>\n",
       "  </thead>\n",
       "  <tbody>\n",
       "    <tr>\n",
       "      <th rowspan=\"5\" valign=\"top\">0x88e6a0c2ddd26feeb64f039a2c41296fcb3f5640</th>\n",
       "      <th>17552211.0</th>\n",
       "      <td>3200000000</td>\n",
       "      <td>1608133671221393483</td>\n",
       "      <td>0xa0b86991c6218b36c1d19d4a2e9eb0ce3606eb48</td>\n",
       "      <td>500</td>\n",
       "      <td>0xc02aaa39b223fe8d0a0e5c4f27ead9083c756cc2</td>\n",
       "      <td>0xcccbb87fc3e5e2b7851adc2140f46603c39eebef648048d59904987f47a9aa50</td>\n",
       "      <td>2023-06-24 22:01:55.725000+00:00</td>\n",
       "    </tr>\n",
       "    <tr>\n",
       "      <th>17552242.0</th>\n",
       "      <td>303798589</td>\n",
       "      <td>160355281886090203</td>\n",
       "      <td>0xa0b86991c6218b36c1d19d4a2e9eb0ce3606eb48</td>\n",
       "      <td>500</td>\n",
       "      <td>0xc02aaa39b223fe8d0a0e5c4f27ead9083c756cc2</td>\n",
       "      <td>0x4c1da0dcc8367691658daa4bf50af22df275e8898975edfb96c65625da07098d</td>\n",
       "      <td>2023-06-24 22:08:01.821000+00:00</td>\n",
       "    </tr>\n",
       "    <tr>\n",
       "      <th>17552250.0</th>\n",
       "      <td>16102020684</td>\n",
       "      <td>8532306101844837653</td>\n",
       "      <td>0xa0b86991c6218b36c1d19d4a2e9eb0ce3606eb48</td>\n",
       "      <td>500</td>\n",
       "      <td>0xc02aaa39b223fe8d0a0e5c4f27ead9083c756cc2</td>\n",
       "      <td>0x94f9a95e35ef12f68ce0b4aa1a40a15e8f72472f5af549fc90dc884909db6522</td>\n",
       "      <td>2023-06-24 22:09:42.925000+00:00</td>\n",
       "    </tr>\n",
       "    <tr>\n",
       "      <th>17552252.0</th>\n",
       "      <td>6543850000</td>\n",
       "      <td>3467552154643320542</td>\n",
       "      <td>0xa0b86991c6218b36c1d19d4a2e9eb0ce3606eb48</td>\n",
       "      <td>500</td>\n",
       "      <td>0xc02aaa39b223fe8d0a0e5c4f27ead9083c756cc2</td>\n",
       "      <td>0xc708f2903a47f281da6eaa12ea3e35f5c396a2567e3f7478058c1102a11f2bd4</td>\n",
       "      <td>2023-06-24 22:10:01.413000+00:00</td>\n",
       "    </tr>\n",
       "    <tr>\n",
       "      <th>17552278.0</th>\n",
       "      <td>150000000</td>\n",
       "      <td>79798648054443290</td>\n",
       "      <td>0xa0b86991c6218b36c1d19d4a2e9eb0ce3606eb48</td>\n",
       "      <td>500</td>\n",
       "      <td>0xc02aaa39b223fe8d0a0e5c4f27ead9083c756cc2</td>\n",
       "      <td>0x3aebe0e7c4c49d9e98f394e4c5141b731ebf63c73a74b388bcb5258c61440fe3</td>\n",
       "      <td>2023-06-24 22:15:19.884000+00:00</td>\n",
       "    </tr>\n",
       "  </tbody>\n",
       "</table>\n",
       "</div>"
      ],
      "text/plain": [
       "                                                            amountIn  \\\n",
       "pool                                       block_number                \n",
       "0x88e6a0c2ddd26feeb64f039a2c41296fcb3f5640 17552211.0     3200000000   \n",
       "                                           17552242.0      303798589   \n",
       "                                           17552250.0    16102020684   \n",
       "                                           17552252.0     6543850000   \n",
       "                                           17552278.0      150000000   \n",
       "\n",
       "                                                                amountOutMin  \\\n",
       "pool                                       block_number                        \n",
       "0x88e6a0c2ddd26feeb64f039a2c41296fcb3f5640 17552211.0    1608133671221393483   \n",
       "                                           17552242.0     160355281886090203   \n",
       "                                           17552250.0    8532306101844837653   \n",
       "                                           17552252.0    3467552154643320542   \n",
       "                                           17552278.0      79798648054443290   \n",
       "\n",
       "                                                                                             token0  \\\n",
       "pool                                       block_number                                               \n",
       "0x88e6a0c2ddd26feeb64f039a2c41296fcb3f5640 17552211.0    0xa0b86991c6218b36c1d19d4a2e9eb0ce3606eb48   \n",
       "                                           17552242.0    0xa0b86991c6218b36c1d19d4a2e9eb0ce3606eb48   \n",
       "                                           17552250.0    0xa0b86991c6218b36c1d19d4a2e9eb0ce3606eb48   \n",
       "                                           17552252.0    0xa0b86991c6218b36c1d19d4a2e9eb0ce3606eb48   \n",
       "                                           17552278.0    0xa0b86991c6218b36c1d19d4a2e9eb0ce3606eb48   \n",
       "\n",
       "                                                         fee  \\\n",
       "pool                                       block_number        \n",
       "0x88e6a0c2ddd26feeb64f039a2c41296fcb3f5640 17552211.0    500   \n",
       "                                           17552242.0    500   \n",
       "                                           17552250.0    500   \n",
       "                                           17552252.0    500   \n",
       "                                           17552278.0    500   \n",
       "\n",
       "                                                                                             token1  \\\n",
       "pool                                       block_number                                               \n",
       "0x88e6a0c2ddd26feeb64f039a2c41296fcb3f5640 17552211.0    0xc02aaa39b223fe8d0a0e5c4f27ead9083c756cc2   \n",
       "                                           17552242.0    0xc02aaa39b223fe8d0a0e5c4f27ead9083c756cc2   \n",
       "                                           17552250.0    0xc02aaa39b223fe8d0a0e5c4f27ead9083c756cc2   \n",
       "                                           17552252.0    0xc02aaa39b223fe8d0a0e5c4f27ead9083c756cc2   \n",
       "                                           17552278.0    0xc02aaa39b223fe8d0a0e5c4f27ead9083c756cc2   \n",
       "\n",
       "                                                                                                                       hash  \\\n",
       "pool                                       block_number                                                                       \n",
       "0x88e6a0c2ddd26feeb64f039a2c41296fcb3f5640 17552211.0    0xcccbb87fc3e5e2b7851adc2140f46603c39eebef648048d59904987f47a9aa50   \n",
       "                                           17552242.0    0x4c1da0dcc8367691658daa4bf50af22df275e8898975edfb96c65625da07098d   \n",
       "                                           17552250.0    0x94f9a95e35ef12f68ce0b4aa1a40a15e8f72472f5af549fc90dc884909db6522   \n",
       "                                           17552252.0    0xc708f2903a47f281da6eaa12ea3e35f5c396a2567e3f7478058c1102a11f2bd4   \n",
       "                                           17552278.0    0x3aebe0e7c4c49d9e98f394e4c5141b731ebf63c73a74b388bcb5258c61440fe3   \n",
       "\n",
       "                                                                              first_seen  \n",
       "pool                                       block_number                                   \n",
       "0x88e6a0c2ddd26feeb64f039a2c41296fcb3f5640 17552211.0   2023-06-24 22:01:55.725000+00:00  \n",
       "                                           17552242.0   2023-06-24 22:08:01.821000+00:00  \n",
       "                                           17552250.0   2023-06-24 22:09:42.925000+00:00  \n",
       "                                           17552252.0   2023-06-24 22:10:01.413000+00:00  \n",
       "                                           17552278.0   2023-06-24 22:15:19.884000+00:00  "
      ]
     },
     "execution_count": 42,
     "metadata": {},
     "output_type": "execute_result"
    }
   ],
   "source": [
    "df = get_data()\n",
    "\n",
    "df.head()"
   ]
  },
  {
   "cell_type": "markdown",
   "metadata": {},
   "source": [
    "## Get a pool and do some initial testing"
   ]
  },
  {
   "cell_type": "code",
   "execution_count": 48,
   "metadata": {},
   "outputs": [
    {
     "data": {
      "text/plain": [
       "SwapData(pool='0x78d4e81fc84a1ce367e90936e49a74a9052137e8', block_number=17578916.0, amountIn='10000000000000000000', amountOutMin='466622823911182083', token0='0xc02aaa39b223fe8d0a0e5c4f27ead9083c756cc2', fee='10000', token1='0x2890df158d76e584877a1d17a85fea3aeeb85aa6', hash='0x503ff2a5421b7a3e9594051eb933ad5ea01a9ccc0d76a41b5fc2df945af2a7f2', first_seen=Timestamp('2023-06-28 16:09:49.897000+0000', tz='UTC'))"
      ]
     },
     "execution_count": 48,
     "metadata": {},
     "output_type": "execute_result"
    }
   ],
   "source": [
    "swap_data = df[df.hash == '0x503ff2a5421b7a3e9594051eb933ad5ea01a9ccc0d76a41b5fc2df945af2a7f2']\n",
    "\n",
    "swap = SwapData(**swap_data.reset_index().to_dict('records')[0]) # type: ignore\n",
    "\n",
    "swap"
   ]
  },
  {
   "cell_type": "code",
   "execution_count": 49,
   "metadata": {},
   "outputs": [
    {
     "name": "stdout",
     "output_type": "stream",
     "text": [
      "Loading pool from Azure blob storage cache\n"
     ]
    }
   ],
   "source": [
    "pool = load_pool_from_blob(\n",
    "    str(swap_data.index.get_level_values(0)[0]),\n",
    "    postgres_uri_us,\n",
    "    azure_storage_uri,\n",
    "    \"uniswap-v3-pool-cache\",\n",
    "    verbose=True,\n",
    "    invalidate_before_date=datetime(2023, 8, 16, tzinfo=timezone.utc),\n",
    ")"
   ]
  },
  {
   "cell_type": "code",
   "execution_count": 50,
   "metadata": {},
   "outputs": [
    {
     "name": "stdout",
     "output_type": "stream",
     "text": [
      "0: Trying 1000000.0\n",
      "1: Trying 2000000.0\n",
      "2: Trying 4000000.0\n",
      "3: Trying 8000000.0\n",
      "4: Trying 16000000.0\n",
      "5: Trying 32000000.0\n",
      "6: Trying 64000000.0\n",
      "7: Trying 128000000.0\n",
      "8: Trying 256000000.0\n",
      "9: Trying 512000000.0\n",
      "10: Trying 1024000000.0\n",
      "11: Trying 2048000000.0\n",
      "12: Trying 4096000000.0\n",
      "13: Trying 8192000000.0\n",
      "14: Trying 16384000000.0\n",
      "15: Trying 32768000000.0\n",
      "16: Trying 65536000000.0\n",
      "17: Trying 131072000000.0\n",
      "18: Trying 262144000000.0\n",
      "19: Trying 524288000000.0\n",
      "20: Trying 1048576000000.0\n",
      "21: Trying 2097152000000.0\n",
      "22: Trying 4194304000000.0\n",
      "23: Trying 8388608000000.0\n",
      "24: Trying 16777216000000.0\n",
      "25: Trying 33554432000000.0\n",
      "26: Trying 67108864000000.0\n",
      "27: Trying 134217728000000.0\n",
      "28: Trying 268435456000000.0\n",
      "29: Trying 536870912000000.0\n",
      "30: Trying 1073741824000000.0\n",
      "31: Trying 2147483648000000.0\n",
      "32: Trying 4294967296000000.0\n",
      "33: Trying 8589934592000000.0\n",
      "34: Trying 1.7179869184e+16\n",
      "35: Trying 3.4359738368e+16\n",
      "36: Trying 6.8719476736e+16\n",
      "37: Trying 1.37438953472e+17\n",
      "38: Trying 2.74877906944e+17\n",
      "0: Trying 1.37438953472e+17 - 2.74877906944e+17\n",
      "1: Trying 2.06158430208e+17 - 2.74877906944e+17\n",
      "2: Trying 2.40518168576e+17 - 2.74877906944e+17\n",
      "3: Trying 2.5769803776e+17 - 2.74877906944e+17\n",
      "4: Trying 2.66287972352e+17 - 2.74877906944e+17\n",
      "5: Trying 2.70582939648e+17 - 2.74877906944e+17\n",
      "6: Trying 2.72730423296e+17 - 2.74877906944e+17\n",
      "7: Trying 2.72730423296e+17 - 2.7380416512e+17\n",
      "8: Trying 2.72730423296e+17 - 2.73267294208e+17\n",
      "9: Trying 2.72730423296e+17 - 2.72998858752e+17\n",
      "10: Trying 2.72864641024e+17 - 2.72998858752e+17\n",
      "11: Trying 2.72931749888e+17 - 2.72998858752e+17\n",
      "12: Trying 2.7296530432e+17 - 2.72998858752e+17\n",
      "13: Trying 2.72982081536e+17 - 2.72998858752e+17\n",
      "14: Trying 2.72990470144e+17 - 2.72998858752e+17\n",
      "15: Trying 2.72994664448e+17 - 2.72998858752e+17\n",
      "16: Trying 2.72994664448e+17 - 2.729967616e+17\n"
     ]
    },
    {
     "data": {
      "text/plain": [
       "2.72994664448e+17"
      ]
     },
     "execution_count": 50,
     "metadata": {},
     "output_type": "execute_result"
    }
   ],
   "source": [
    "assert pool\n",
    "\n",
    "max_frontrun(\n",
    "    pool,\n",
    "    swap,\n",
    "    verbose=True,\n",
    ")"
   ]
  },
  {
   "cell_type": "code",
   "execution_count": 54,
   "metadata": {},
   "outputs": [
    {
     "name": "stdout",
     "output_type": "stream",
     "text": [
      "Profit: 0.003185129981081248\n",
      "Gas: 0.006719305386569982\n",
      "Prices: (4.56768883595478, 4.569668914667892, 4.642682234572798, 4.64065881939532)\n"
     ]
    }
   ],
   "source": [
    "assert pool is not None\n",
    "\n",
    "profit, gas, prices = single_sandwich_mev(\n",
    "    pool,\n",
    "    swap,\n",
    "    int(2.72994664448e+17),\n",
    "    pool_fee=True,\n",
    ")\n",
    "\n",
    "print(f\"Profit: {profit / 1e18}\")\n",
    "print(f\"Gas: {gas}\")\n",
    "print(f\"Prices: {prices}\")"
   ]
  },
  {
   "cell_type": "code",
   "execution_count": 53,
   "metadata": {},
   "outputs": [
    {
     "data": {
      "image/png": "[encoded data removed]",
      "text/plain": [
       "<Figure size 640x480 with 1 Axes>"
      ]
     },
     "metadata": {},
     "output_type": "display_data"
    }
   ],
   "source": [
    "plt.plot([1,2,3,4], prices);"
   ]
  },
  {
   "cell_type": "code",
   "execution_count": 40,
   "metadata": {},
   "outputs": [
    {
     "name": "stdout",
     "output_type": "stream",
     "text": [
      "0: Trying 1000000.0\n",
      "1: Trying 10000000.0\n",
      "2: Trying 100000000.0\n",
      "3: Trying 1000000000.0\n",
      "4: Trying 10000000000.0\n",
      "5: Trying 100000000000.0\n",
      "6: Trying 1000000000000.0\n",
      "7: Trying 10000000000000.0\n",
      "0: Trying 1000000000000.0 - 10000000000000.0\n",
      "1: Trying 5500000000000.0 - 10000000000000.0\n",
      "2: Trying 5500000000000.0 - 7750000000000.0\n",
      "3: Trying 5500000000000.0 - 6625000000000.0\n",
      "4: Trying 6062500000000.0 - 6625000000000.0\n",
      "5: Trying 6343750000000.0 - 6625000000000.0\n",
      "6: Trying 6343750000000.0 - 6484375000000.0\n",
      "7: Trying 6343750000000.0 - 6414062500000.0\n",
      "8: Trying 6343750000000.0 - 6378906250000.0\n",
      "9: Trying 6343750000000.0 - 6361328125000.0\n",
      "10: Trying 6352539062500.0 - 6361328125000.0\n",
      "11: Trying 6352539062500.0 - 6356933593750.0\n",
      "12: Trying 6352539062500.0 - 6354736328125.0\n",
      "13: Trying 6352539062500.0 - 6353637695312.0\n",
      "14: Trying 6352539062500.0 - 6353088378906.0\n",
      "15: Trying 6352813720703.0 - 6353088378906.0\n",
      "16: Trying 6352951049804.0 - 6353088378906.0\n",
      "17: Trying 6353019714355.0 - 6353088378906.0\n",
      "18: Trying 6353019714355.0 - 6353054046630.0\n"
     ]
    },
    {
     "data": {
      "text/plain": [
       "AutoSandwichResult(profit=-6284193032.0, gas_fee=0.007010483569918752, frontrun_input=6353019714355.0, price_baseline=4.3577930944809406e-05, price_frontrun=4.4178991727856794e-05, price_user=4.417908996981208e-05, price_backrun=4.35782501103994e-05)"
      ]
     },
     "execution_count": 40,
     "metadata": {},
     "output_type": "execute_result"
    }
   ],
   "source": [
    "assert pool is not None\n",
    "\n",
    "auto_sandwich_mev(\n",
    "    pool,\n",
    "    swap,\n",
    "    start=1e12,\n",
    "    factor=10,\n",
    "    pool_fee=True,\n",
    "    verbose=True,\n",
    ")"
   ]
  },
  {
   "cell_type": "markdown",
   "metadata": {},
   "source": [
    "## Inspect the sandwiches created"
   ]
  },
  {
   "cell_type": "code",
   "execution_count": 73,
   "metadata": {},
   "outputs": [
    {
     "data": {
      "text/plain": [
       "(1335, 17)"
      ]
     },
     "execution_count": 73,
     "metadata": {},
     "output_type": "execute_result"
    }
   ],
   "source": [
    "engine = create_engine(postgres_uri_mp)\n",
    "\n",
    "sw = pd.read_sql_query(\n",
    "    \"\"\"\n",
    "    SELECT * FROM simple_sandwiches\n",
    "    \"\"\",\n",
    "    engine,\n",
    ")\n",
    "\n",
    "sw.shape"
   ]
  },
  {
   "cell_type": "code",
   "execution_count": 72,
   "metadata": {},
   "outputs": [
    {
     "data": {
      "image/png": "[encoded data removed]",
      "text/plain": [
       "<Figure size 1200x400 with 2 Axes>"
      ]
     },
     "metadata": {},
     "output_type": "display_data"
    }
   ],
   "source": [
    "_, (ax1, ax2) = plt.subplots(1, 2, figsize=(12, 4), sharex=True)\n",
    "\n",
    "(sw.profit_percent * 100).hist(bins=25, ax=ax1)\n",
    "(sw.profit_percent * 100).hist(bins=25, ax=ax2);\n",
    "\n",
    "# Make log y axis\n",
    "ax2.set_yscale('log')\n",
    "\n",
    "# Set titles\n",
    "ax1.set_title('Profit Percent')\n",
    "ax2.set_title('Profit Percent (log scale)')\n",
    "\n",
    "# Set x labels\n",
    "ax1.set_xlabel('Percent')\n",
    "ax2.set_xlabel('Percent')\n",
    "\n",
    "# Set y labels\n",
    "ax1.set_ylabel('Count')\n",
    "ax2.set_ylabel('Count (log  scale)');\n",
    "\n",
    "# Subtitle\n",
    "plt.suptitle('Profit Percent Distribution Across Pools (Simple Sandwich, preliminary)');\n",
    "\n",
    "plt.tight_layout()"
   ]
  },
  {
   "cell_type": "code",
   "execution_count": null,
   "metadata": {},
   "outputs": [],
   "source": []
  },
  {
   "cell_type": "markdown",
   "metadata": {},
   "source": [
    "## Spurious calculations"
   ]
  },
  {
   "cell_type": "code",
   "execution_count": null,
   "metadata": {},
   "outputs": [],
   "source": []
  },
  {
   "cell_type": "code",
   "execution_count": null,
   "metadata": {},
   "outputs": [
    {
     "data": {
      "text/plain": [
       "1694.1176470588234"
      ]
     },
     "execution_count": 1,
     "metadata": {},
     "output_type": "execute_result"
    }
   ],
   "source": [
    "# Given 17 seconds per sandwich, how many sandwiches can you make in a night?\n",
    "hours_per_night = 8\n",
    "seconds_per_sandwich = 17\n",
    "cpus = 1\n",
    "\n",
    "hours_per_night * 60 * 60 / seconds_per_sandwich * cpus"
   ]
  },
  {
   "cell_type": "code",
   "execution_count": null,
   "metadata": {},
   "outputs": [],
   "source": []
  },
  {
   "cell_type": "code",
   "execution_count": null,
   "metadata": {},
   "outputs": [],
   "source": []
  }
 ],
 "metadata": {
  "kernelspec": {
   "display_name": "venv",
   "language": "python",
   "name": "python3"
  },
  "language_info": {
   "codemirror_mode": {
    "name": "ipython",
    "version": 3
   },
   "file_extension": ".py",
   "mimetype": "text/x-python",
   "name": "python",
   "nbconvert_exporter": "python",
   "pygments_lexer": "ipython3",
   "version": "3.11.0rc1"
  },
  "orig_nbformat": 4
 },
 "nbformat": 4,
 "nbformat_minor": 2
}
