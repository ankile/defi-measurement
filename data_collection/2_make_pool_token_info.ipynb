{
 "cells": [
  {
   "cell_type": "code",
   "execution_count": 1,
   "metadata": {},
   "outputs": [],
   "source": [
    "import polars as pl\n",
    "from pathlib import Path\n",
    "import matplotlib.pyplot as plt"
   ]
  },
  {
   "cell_type": "code",
   "execution_count": 9,
   "metadata": {},
   "outputs": [
    {
     "data": {
      "text/plain": [
       "polars.config.Config"
      ]
     },
     "execution_count": 9,
     "metadata": {},
     "output_type": "execute_result"
    }
   ],
   "source": [
    "# Set the column width to 1000\n",
    "pl.Config.set_fmt_str_lengths(1000)"
   ]
  },
  {
   "cell_type": "code",
   "execution_count": 3,
   "metadata": {},
   "outputs": [],
   "source": [
    "base = Path(\"/Users/larsankile/code/defi-measurement/data\")"
   ]
  },
  {
   "cell_type": "code",
   "execution_count": 4,
   "metadata": {},
   "outputs": [
    {
     "data": {
      "text/plain": [
       "['chain_name',\n",
       " 'block_timestamp',\n",
       " 'block_number',\n",
       " 'transaction_hash',\n",
       " 'log_index',\n",
       " 'token0',\n",
       " 'token1',\n",
       " 'fee',\n",
       " 'tickSpacing',\n",
       " 'pool']"
      ]
     },
     "execution_count": 4,
     "metadata": {},
     "output_type": "execute_result"
    }
   ],
   "source": [
    "pools = pl.read_parquet(base / \"factory_pool_created/*.parquet\")\n",
    "\n",
    "pools.columns"
   ]
  },
  {
   "cell_type": "code",
   "execution_count": 5,
   "metadata": {},
   "outputs": [
    {
     "data": {
      "text/plain": [
       "['address', 'symbol', 'name', 'decimals']"
      ]
     },
     "execution_count": 5,
     "metadata": {},
     "output_type": "execute_result"
    }
   ],
   "source": [
    "tokens = pl.read_parquet(base / \"uniswap-v3-tokens.parquet\")\n",
    "\n",
    "tokens.columns"
   ]
  },
  {
   "cell_type": "code",
   "execution_count": 12,
   "metadata": {},
   "outputs": [
    {
     "data": {
      "text/html": [
       "<div><style>\n",
       ".dataframe > thead > tr,\n",
       ".dataframe > tbody > tr {\n",
       "  text-align: right;\n",
       "  white-space: pre-wrap;\n",
       "}\n",
       "</style>\n",
       "<small>shape: (24_939, 14)</small><table border=\"1\" class=\"dataframe\"><thead><tr><th>chain_name</th><th>block_timestamp</th><th>block_number</th><th>transaction_hash</th><th>log_index</th><th>token0</th><th>token1</th><th>fee</th><th>tickSpacing</th><th>pool</th><th>symbol0</th><th>decimals0</th><th>symbol1</th><th>decimals1</th></tr><tr><td>str</td><td>datetime[μs, UTC]</td><td>i64</td><td>str</td><td>i64</td><td>str</td><td>str</td><td>f64</td><td>str</td><td>str</td><td>str</td><td>f64</td><td>str</td><td>f64</td></tr></thead><tbody><tr><td>&quot;ethereum&quot;</td><td>2023-05-25 13:12:59 UTC</td><td>17336379</td><td>&quot;0x4e47ed4be1863c6154d58933f58f9ee066c667e56704c8094c67e1828234c3fb&quot;</td><td>0</td><td>&quot;0x28c6ce090bf0d534815c59440a197e92b4cf718f&quot;</td><td>&quot;0xc02aaa39b223fe8d0a0e5c4f27ead9083c756cc2&quot;</td><td>10000.0</td><td>&quot;200&quot;</td><td>&quot;0x2476e13c3da1e0daf898a0b0d204226f2b857c2b&quot;</td><td>null</td><td>null</td><td>&quot;WETH&quot;</td><td>18.0</td></tr><tr><td>&quot;ethereum&quot;</td><td>2023-05-25 22:14:35 UTC</td><td>17339057</td><td>&quot;0x9e6db41b51720670c67021bf699446c8d4e85e6ce3f25da4b8d240e6a5152f47&quot;</td><td>417</td><td>&quot;0xc02aaa39b223fe8d0a0e5c4f27ead9083c756cc2&quot;</td><td>&quot;0xd741af14d4ef05a094c812611e848dbfef90981c&quot;</td><td>3000.0</td><td>&quot;60&quot;</td><td>&quot;0x448a70a160d6be76ec6cdf3a7ed9988d3eeebcd2&quot;</td><td>&quot;WETH&quot;</td><td>18.0</td><td>null</td><td>null</td></tr><tr><td>&quot;ethereum&quot;</td><td>2023-05-25 15:39:11 UTC</td><td>17337101</td><td>&quot;0xce1132de4d03a15a9b98a79d9543cb06c1017b2fb88e7f98ad8b18f94a232273&quot;</td><td>350</td><td>&quot;0x8ee08493373c48cf6923efd0d0573ff504f733b0&quot;</td><td>&quot;0xc02aaa39b223fe8d0a0e5c4f27ead9083c756cc2&quot;</td><td>100.0</td><td>&quot;1&quot;</td><td>&quot;0x33b8fe34bf752ea0971fcba65ac994f2c04ed6e4&quot;</td><td>null</td><td>null</td><td>&quot;WETH&quot;</td><td>18.0</td></tr><tr><td>&quot;ethereum&quot;</td><td>2023-05-25 19:57:35 UTC</td><td>17338379</td><td>&quot;0x37310c5f5a2442798a8ac6ea98034885da32fe15960f47b622aab38a5c80bac1&quot;</td><td>0</td><td>&quot;0x10ca7856ec495c112c783d17626c597cf7ffd977&quot;</td><td>&quot;0xc02aaa39b223fe8d0a0e5c4f27ead9083c756cc2&quot;</td><td>10000.0</td><td>&quot;200&quot;</td><td>&quot;0xf4eeb4ad7b13b981e95cbd571eca9e476b3d5412&quot;</td><td>null</td><td>null</td><td>&quot;WETH&quot;</td><td>18.0</td></tr><tr><td>&quot;ethereum&quot;</td><td>2023-05-25 05:55:23 UTC</td><td>17334222</td><td>&quot;0x9c719325a9a1a6893d710d0267c67067ab27a56b72a9d686f4a0cc56b524c839&quot;</td><td>453</td><td>&quot;0xb7ea5d7528a9f86368ff49524ed293f4266d11f2&quot;</td><td>&quot;0xc02aaa39b223fe8d0a0e5c4f27ead9083c756cc2&quot;</td><td>10000.0</td><td>&quot;200&quot;</td><td>&quot;0x262d0733b5e1440b1ce514b46dfc0184ca6a8eab&quot;</td><td>null</td><td>null</td><td>&quot;WETH&quot;</td><td>18.0</td></tr><tr><td>&hellip;</td><td>&hellip;</td><td>&hellip;</td><td>&hellip;</td><td>&hellip;</td><td>&hellip;</td><td>&hellip;</td><td>&hellip;</td><td>&hellip;</td><td>&hellip;</td><td>&hellip;</td><td>&hellip;</td><td>&hellip;</td><td>&hellip;</td></tr><tr><td>&quot;ethereum&quot;</td><td>2024-07-06 17:12:59 UTC</td><td>20248886</td><td>&quot;0x6a17c8e21d95b487e772243bbefaf671378b2f62742de9ef830e47acef3209aa&quot;</td><td>7</td><td>&quot;0xc02aaa39b223fe8d0a0e5c4f27ead9083c756cc2&quot;</td><td>&quot;0xf0d76555b129f88eadce08367bad18af7abdf47f&quot;</td><td>10000.0</td><td>&quot;200&quot;</td><td>&quot;0x4a5d841ca2de24073d224c613310cd7266be5a02&quot;</td><td>&quot;WETH&quot;</td><td>18.0</td><td>null</td><td>null</td></tr><tr><td>&quot;ethereum&quot;</td><td>2024-07-06 17:28:35 UTC</td><td>20248964</td><td>&quot;0x8b8ec6ac0a4cd625ea8ef68db7410df997dc2f24783ec95adbdcf6fd0078868b&quot;</td><td>43</td><td>&quot;0xc02aaa39b223fe8d0a0e5c4f27ead9083c756cc2&quot;</td><td>&quot;0xc62b229862e2b1689f281d44cbb95fb416ab69b6&quot;</td><td>100.0</td><td>&quot;1&quot;</td><td>&quot;0xd1054cdb9ec83e7929eccd1ca3d2f765dabe2a56&quot;</td><td>&quot;WETH&quot;</td><td>18.0</td><td>null</td><td>null</td></tr><tr><td>&quot;ethereum&quot;</td><td>2024-07-06 18:55:47 UTC</td><td>20249399</td><td>&quot;0x412977292aea40df6769d191e3db517b46af7f2da770346118abea5bab8e5096&quot;</td><td>42</td><td>&quot;0x0403a52fcb05e303bfc0246c5861a81ab09c1e8e&quot;</td><td>&quot;0xc02aaa39b223fe8d0a0e5c4f27ead9083c756cc2&quot;</td><td>10000.0</td><td>&quot;200&quot;</td><td>&quot;0x51947a286c484962372952bdf1d0fac2ec13b9d4&quot;</td><td>null</td><td>null</td><td>&quot;WETH&quot;</td><td>18.0</td></tr><tr><td>&quot;ethereum&quot;</td><td>2024-07-06 17:55:11 UTC</td><td>20249096</td><td>&quot;0xda0a0e7a1841091748d1d46227557db159dfdc8929cc2542efe80fc5f2578d0c&quot;</td><td>47</td><td>&quot;0xc02aaa39b223fe8d0a0e5c4f27ead9083c756cc2&quot;</td><td>&quot;0xdc9e9a763dacc0725e449c2ec68796daa43bc545&quot;</td><td>10000.0</td><td>&quot;200&quot;</td><td>&quot;0x59323595d439b71ba9c5fed04307467ea400edde&quot;</td><td>&quot;WETH&quot;</td><td>18.0</td><td>null</td><td>null</td></tr><tr><td>&quot;ethereum&quot;</td><td>2024-07-06 18:27:59 UTC</td><td>20249260</td><td>&quot;0x379eb59f2707d90ffcc3b9546ed3f5ee86c1046d5cee1fe40cd9fec5c0dd80a6&quot;</td><td>113</td><td>&quot;0xa0b86991c6218b36c1d19d4a2e9eb0ce3606eb48&quot;</td><td>&quot;0xc62b229862e2b1689f281d44cbb95fb416ab69b6&quot;</td><td>100.0</td><td>&quot;1&quot;</td><td>&quot;0x7c0c2f7fd0d926c332e0f8cfe815fbec24fe888f&quot;</td><td>&quot;USDC&quot;</td><td>6.0</td><td>null</td><td>null</td></tr></tbody></table></div>"
      ],
      "text/plain": [
       "shape: (24_939, 14)\n",
       "┌────────────┬─────────────────────────┬──────────────┬────────────────────────────────────────────────────────────────────┬───┬─────────┬───────────┬─────────┬───────────┐\n",
       "│ chain_name ┆ block_timestamp         ┆ block_number ┆ transaction_hash                                                   ┆ … ┆ symbol0 ┆ decimals0 ┆ symbol1 ┆ decimals1 │\n",
       "│ ---        ┆ ---                     ┆ ---          ┆ ---                                                                ┆   ┆ ---     ┆ ---       ┆ ---     ┆ ---       │\n",
       "│ str        ┆ datetime[μs, UTC]       ┆ i64          ┆ str                                                                ┆   ┆ str     ┆ f64       ┆ str     ┆ f64       │\n",
       "╞════════════╪═════════════════════════╪══════════════╪════════════════════════════════════════════════════════════════════╪═══╪═════════╪═══════════╪═════════╪═══════════╡\n",
       "│ ethereum   ┆ 2023-05-25 13:12:59 UTC ┆ 17336379     ┆ 0x4e47ed4be1863c6154d58933f58f9ee066c667e56704c8094c67e1828234c3fb ┆ … ┆ null    ┆ null      ┆ WETH    ┆ 18.0      │\n",
       "│ ethereum   ┆ 2023-05-25 22:14:35 UTC ┆ 17339057     ┆ 0x9e6db41b51720670c67021bf699446c8d4e85e6ce3f25da4b8d240e6a5152f47 ┆ … ┆ WETH    ┆ 18.0      ┆ null    ┆ null      │\n",
       "│ ethereum   ┆ 2023-05-25 15:39:11 UTC ┆ 17337101     ┆ 0xce1132de4d03a15a9b98a79d9543cb06c1017b2fb88e7f98ad8b18f94a232273 ┆ … ┆ null    ┆ null      ┆ WETH    ┆ 18.0      │\n",
       "│ ethereum   ┆ 2023-05-25 19:57:35 UTC ┆ 17338379     ┆ 0x37310c5f5a2442798a8ac6ea98034885da32fe15960f47b622aab38a5c80bac1 ┆ … ┆ null    ┆ null      ┆ WETH    ┆ 18.0      │\n",
       "│ ethereum   ┆ 2023-05-25 05:55:23 UTC ┆ 17334222     ┆ 0x9c719325a9a1a6893d710d0267c67067ab27a56b72a9d686f4a0cc56b524c839 ┆ … ┆ null    ┆ null      ┆ WETH    ┆ 18.0      │\n",
       "│ …          ┆ …                       ┆ …            ┆ …                                                                  ┆ … ┆ …       ┆ …         ┆ …       ┆ …         │\n",
       "│ ethereum   ┆ 2024-07-06 17:12:59 UTC ┆ 20248886     ┆ 0x6a17c8e21d95b487e772243bbefaf671378b2f62742de9ef830e47acef3209aa ┆ … ┆ WETH    ┆ 18.0      ┆ null    ┆ null      │\n",
       "│ ethereum   ┆ 2024-07-06 17:28:35 UTC ┆ 20248964     ┆ 0x8b8ec6ac0a4cd625ea8ef68db7410df997dc2f24783ec95adbdcf6fd0078868b ┆ … ┆ WETH    ┆ 18.0      ┆ null    ┆ null      │\n",
       "│ ethereum   ┆ 2024-07-06 18:55:47 UTC ┆ 20249399     ┆ 0x412977292aea40df6769d191e3db517b46af7f2da770346118abea5bab8e5096 ┆ … ┆ null    ┆ null      ┆ WETH    ┆ 18.0      │\n",
       "│ ethereum   ┆ 2024-07-06 17:55:11 UTC ┆ 20249096     ┆ 0xda0a0e7a1841091748d1d46227557db159dfdc8929cc2542efe80fc5f2578d0c ┆ … ┆ WETH    ┆ 18.0      ┆ null    ┆ null      │\n",
       "│ ethereum   ┆ 2024-07-06 18:27:59 UTC ┆ 20249260     ┆ 0x379eb59f2707d90ffcc3b9546ed3f5ee86c1046d5cee1fe40cd9fec5c0dd80a6 ┆ … ┆ USDC    ┆ 6.0       ┆ null    ┆ null      │\n",
       "└────────────┴─────────────────────────┴──────────────┴────────────────────────────────────────────────────────────────────┴───┴─────────┴───────────┴─────────┴───────────┘"
      ]
     },
     "execution_count": 12,
     "metadata": {},
     "output_type": "execute_result"
    }
   ],
   "source": [
    "# Prepare token_info_df by selecting only the columns we need and transforming address to lowercase\n",
    "token_info = tokens.select(pl.col(\"address\").str.to_lowercase().alias(\"address\"), pl.col(\"symbol\"), pl.col(\"decimals\"))\n",
    "\n",
    "# Join for token0 information, transforming token0 to lowercase\n",
    "result = pools.join(token_info, left_on=pl.col(\"token0\").str.to_lowercase(), right_on=\"address\", how=\"left\").rename(\n",
    "    {\"symbol\": \"symbol0\", \"decimals\": \"decimals0\"}\n",
    ")\n",
    "\n",
    "# Join for token1 information, transforming token1 to lowercase\n",
    "result = result.join(token_info, left_on=pl.col(\"token1\").str.to_lowercase(), right_on=\"address\", how=\"left\").rename(\n",
    "    {\"symbol\": \"symbol1\", \"decimals\": \"decimals1\"}\n",
    ")\n",
    "\n",
    "# Exclude the address columns\n",
    "result = result.select(pl.all().exclude(columns=[\"address\", \"address_right\"]))\n",
    "\n",
    "result"
   ]
  },
  {
   "cell_type": "code",
   "execution_count": 13,
   "metadata": {},
   "outputs": [
    {
     "data": {
      "text/html": [
       "<div><style>\n",
       ".dataframe > thead > tr,\n",
       ".dataframe > tbody > tr {\n",
       "  text-align: right;\n",
       "  white-space: pre-wrap;\n",
       "}\n",
       "</style>\n",
       "<small>shape: (3_196, 14)</small><table border=\"1\" class=\"dataframe\"><thead><tr><th>chain_name</th><th>block_timestamp</th><th>block_number</th><th>transaction_hash</th><th>log_index</th><th>token0</th><th>token1</th><th>fee</th><th>tickSpacing</th><th>pool</th><th>symbol0</th><th>decimals0</th><th>symbol1</th><th>decimals1</th></tr><tr><td>str</td><td>datetime[μs, UTC]</td><td>i64</td><td>str</td><td>i64</td><td>str</td><td>str</td><td>f64</td><td>str</td><td>str</td><td>str</td><td>f64</td><td>str</td><td>f64</td></tr></thead><tbody><tr><td>&quot;ethereum&quot;</td><td>2023-05-25 23:05:47 UTC</td><td>17339307</td><td>&quot;0x2f31841a5174d4470bd375358327473d735ec0be94718924fd39643f81b5c62a&quot;</td><td>198</td><td>&quot;0x6cf4cf8f827b350c474c3862dbf13298977ee42d&quot;</td><td>&quot;0xc02aaa39b223fe8d0a0e5c4f27ead9083c756cc2&quot;</td><td>10000.0</td><td>&quot;200&quot;</td><td>&quot;0x7bf4eaced115b261e02737bd656571e4bc335549&quot;</td><td>&quot;REV&quot;</td><td>18.0</td><td>&quot;WETH&quot;</td><td>18.0</td></tr><tr><td>&quot;ethereum&quot;</td><td>2023-05-25 22:59:59 UTC</td><td>17339278</td><td>&quot;0x1334b6ea3d67bf7d0913764eb739b22fb4d7231f790b635ed7a6acce2dbc61ab&quot;</td><td>299</td><td>&quot;0x40063963486c17be51743a18c016bfbd07e7ca15&quot;</td><td>&quot;0xc02aaa39b223fe8d0a0e5c4f27ead9083c756cc2&quot;</td><td>3000.0</td><td>&quot;60&quot;</td><td>&quot;0x5081c559e31403b7e77532a5c3a2099d3da5e672&quot;</td><td>&quot;RBE&quot;</td><td>18.0</td><td>&quot;WETH&quot;</td><td>18.0</td></tr><tr><td>&quot;ethereum&quot;</td><td>2023-05-25 09:01:47 UTC</td><td>17335142</td><td>&quot;0x448fb8123f1d14109d2cd042332ab6e7596315fb02f07c14e39f82157b7d07bc&quot;</td><td>264</td><td>&quot;0x0a4024d7ff45df2f9488649af70491d6beee6e80&quot;</td><td>&quot;0xc02aaa39b223fe8d0a0e5c4f27ead9083c756cc2&quot;</td><td>3000.0</td><td>&quot;60&quot;</td><td>&quot;0x28f354bbb13f7d6738424cd3c092607c8f907999&quot;</td><td>&quot;MRW&quot;</td><td>18.0</td><td>&quot;WETH&quot;</td><td>18.0</td></tr><tr><td>&quot;ethereum&quot;</td><td>2023-05-25 15:45:59 UTC</td><td>17337135</td><td>&quot;0x39cda277528951896de1307c245991b5abb9fdb4672af7b07700d5aa06f3e1f0&quot;</td><td>222</td><td>&quot;0x320dc0b6aafeb9fa7106799c9bbea3f02dde1f56&quot;</td><td>&quot;0xc02aaa39b223fe8d0a0e5c4f27ead9083c756cc2&quot;</td><td>10000.0</td><td>&quot;200&quot;</td><td>&quot;0x454743fb44e3d9fb1e21cc4b74e462e601140a49&quot;</td><td>&quot;CENSOR&quot;</td><td>18.0</td><td>&quot;WETH&quot;</td><td>18.0</td></tr><tr><td>&quot;ethereum&quot;</td><td>2023-05-25 07:43:11 UTC</td><td>17334755</td><td>&quot;0xba1b2b6941763e2c2d32065fec3a50a42e2628a2c138215354987786995dfad9&quot;</td><td>173</td><td>&quot;0x3cbbd2511139fd37497a5d01321b6aaf52c2b42f&quot;</td><td>&quot;0xc02aaa39b223fe8d0a0e5c4f27ead9083c756cc2&quot;</td><td>10000.0</td><td>&quot;200&quot;</td><td>&quot;0x2186bb4bad31902290a64e30912c3d8360a7ecbc&quot;</td><td>&quot;SQUID&quot;</td><td>18.0</td><td>&quot;WETH&quot;</td><td>18.0</td></tr><tr><td>&hellip;</td><td>&hellip;</td><td>&hellip;</td><td>&hellip;</td><td>&hellip;</td><td>&hellip;</td><td>&hellip;</td><td>&hellip;</td><td>&hellip;</td><td>&hellip;</td><td>&hellip;</td><td>&hellip;</td><td>&hellip;</td><td>&hellip;</td></tr><tr><td>&quot;ethereum&quot;</td><td>2024-07-01 23:09:23 UTC</td><td>20214859</td><td>&quot;0xaae81e0efcfec01262024e2e7b070c1183ccba27672b1a5970d7804f42b7a23c&quot;</td><td>0</td><td>&quot;0x0abdace70d3790235af448c88547603b945604ea&quot;</td><td>&quot;0xc02aaa39b223fe8d0a0e5c4f27ead9083c756cc2&quot;</td><td>10000.0</td><td>&quot;200&quot;</td><td>&quot;0x74f3710792b88bce2c80698efc8a7829ad37d777&quot;</td><td>&quot;DNT&quot;</td><td>18.0</td><td>&quot;WETH&quot;</td><td>18.0</td></tr><tr><td>&quot;ethereum&quot;</td><td>2024-07-02 17:28:35 UTC</td><td>20220320</td><td>&quot;0x2995d0178413cb29f91fa464aae4d7e8f4aa5524de9e5a932ef92a4adb8afe44&quot;</td><td>394</td><td>&quot;0x6ca9d0b650c7a4b3871ea898b9f1a7fd27fb1d58&quot;</td><td>&quot;0xdac17f958d2ee523a2206206994597c13d831ec7&quot;</td><td>100.0</td><td>&quot;1&quot;</td><td>&quot;0xe1ab3ac0495f991d2295b760418e255f4343571a&quot;</td><td>&quot;USD&quot;</td><td>18.0</td><td>&quot;USDT&quot;</td><td>6.0</td></tr><tr><td>&quot;ethereum&quot;</td><td>2024-07-02 02:29:47 UTC</td><td>20215859</td><td>&quot;0xfa0326f6103cd8eb15e375a86f9afec5385728a3592f3424a52051f38fdaef66&quot;</td><td>522</td><td>&quot;0xc02aaa39b223fe8d0a0e5c4f27ead9083c756cc2&quot;</td><td>&quot;0xf230b790e05390fc8295f4d3f60332c93bed42e2&quot;</td><td>10000.0</td><td>&quot;200&quot;</td><td>&quot;0x6792ff48f3164030f09f21cc5894fd5644418c30&quot;</td><td>&quot;WETH&quot;</td><td>18.0</td><td>&quot;TRX&quot;</td><td>6.0</td></tr><tr><td>&quot;ethereum&quot;</td><td>2024-07-02 04:29:59 UTC</td><td>20216455</td><td>&quot;0x715d861d8f7f3d80e1c52dcc6d977bfbb50de0c874e2c9b8bdde99b91d53b12f&quot;</td><td>305</td><td>&quot;0x456c636ca9fd54dbdd66de6c1c0feaf5637ddb7b&quot;</td><td>&quot;0xc02aaa39b223fe8d0a0e5c4f27ead9083c756cc2&quot;</td><td>10000.0</td><td>&quot;200&quot;</td><td>&quot;0x8b5d4632496407a5bb6cffd016319822177a372c&quot;</td><td>&quot;CIM&quot;</td><td>18.0</td><td>&quot;WETH&quot;</td><td>18.0</td></tr><tr><td>&quot;ethereum&quot;</td><td>2024-07-02 09:30:47 UTC</td><td>20217949</td><td>&quot;0xf3c89c64f0a11cff02117a681de956ea55622b32536d2a662f6d7bda1c0524ef&quot;</td><td>477</td><td>&quot;0xa0b86991c6218b36c1d19d4a2e9eb0ce3606eb48&quot;</td><td>&quot;0xb4272071ecadd69d933adcd19ca99fe80664fc08&quot;</td><td>10000.0</td><td>&quot;200&quot;</td><td>&quot;0x83480d992196f54cdba2a5a75f0795f5e82d7492&quot;</td><td>&quot;USDC&quot;</td><td>6.0</td><td>&quot;XCHF&quot;</td><td>18.0</td></tr></tbody></table></div>"
      ],
      "text/plain": [
       "shape: (3_196, 14)\n",
       "┌────────────┬─────────────────────────┬──────────────┬────────────────────────────────────────────────────────────────────┬───┬─────────┬───────────┬─────────┬───────────┐\n",
       "│ chain_name ┆ block_timestamp         ┆ block_number ┆ transaction_hash                                                   ┆ … ┆ symbol0 ┆ decimals0 ┆ symbol1 ┆ decimals1 │\n",
       "│ ---        ┆ ---                     ┆ ---          ┆ ---                                                                ┆   ┆ ---     ┆ ---       ┆ ---     ┆ ---       │\n",
       "│ str        ┆ datetime[μs, UTC]       ┆ i64          ┆ str                                                                ┆   ┆ str     ┆ f64       ┆ str     ┆ f64       │\n",
       "╞════════════╪═════════════════════════╪══════════════╪════════════════════════════════════════════════════════════════════╪═══╪═════════╪═══════════╪═════════╪═══════════╡\n",
       "│ ethereum   ┆ 2023-05-25 23:05:47 UTC ┆ 17339307     ┆ 0x2f31841a5174d4470bd375358327473d735ec0be94718924fd39643f81b5c62a ┆ … ┆ REV     ┆ 18.0      ┆ WETH    ┆ 18.0      │\n",
       "│ ethereum   ┆ 2023-05-25 22:59:59 UTC ┆ 17339278     ┆ 0x1334b6ea3d67bf7d0913764eb739b22fb4d7231f790b635ed7a6acce2dbc61ab ┆ … ┆ RBE     ┆ 18.0      ┆ WETH    ┆ 18.0      │\n",
       "│ ethereum   ┆ 2023-05-25 09:01:47 UTC ┆ 17335142     ┆ 0x448fb8123f1d14109d2cd042332ab6e7596315fb02f07c14e39f82157b7d07bc ┆ … ┆ MRW     ┆ 18.0      ┆ WETH    ┆ 18.0      │\n",
       "│ ethereum   ┆ 2023-05-25 15:45:59 UTC ┆ 17337135     ┆ 0x39cda277528951896de1307c245991b5abb9fdb4672af7b07700d5aa06f3e1f0 ┆ … ┆ CENSOR  ┆ 18.0      ┆ WETH    ┆ 18.0      │\n",
       "│ ethereum   ┆ 2023-05-25 07:43:11 UTC ┆ 17334755     ┆ 0xba1b2b6941763e2c2d32065fec3a50a42e2628a2c138215354987786995dfad9 ┆ … ┆ SQUID   ┆ 18.0      ┆ WETH    ┆ 18.0      │\n",
       "│ …          ┆ …                       ┆ …            ┆ …                                                                  ┆ … ┆ …       ┆ …         ┆ …       ┆ …         │\n",
       "│ ethereum   ┆ 2024-07-01 23:09:23 UTC ┆ 20214859     ┆ 0xaae81e0efcfec01262024e2e7b070c1183ccba27672b1a5970d7804f42b7a23c ┆ … ┆ DNT     ┆ 18.0      ┆ WETH    ┆ 18.0      │\n",
       "│ ethereum   ┆ 2024-07-02 17:28:35 UTC ┆ 20220320     ┆ 0x2995d0178413cb29f91fa464aae4d7e8f4aa5524de9e5a932ef92a4adb8afe44 ┆ … ┆ USD     ┆ 18.0      ┆ USDT    ┆ 6.0       │\n",
       "│ ethereum   ┆ 2024-07-02 02:29:47 UTC ┆ 20215859     ┆ 0xfa0326f6103cd8eb15e375a86f9afec5385728a3592f3424a52051f38fdaef66 ┆ … ┆ WETH    ┆ 18.0      ┆ TRX     ┆ 6.0       │\n",
       "│ ethereum   ┆ 2024-07-02 04:29:59 UTC ┆ 20216455     ┆ 0x715d861d8f7f3d80e1c52dcc6d977bfbb50de0c874e2c9b8bdde99b91d53b12f ┆ … ┆ CIM     ┆ 18.0      ┆ WETH    ┆ 18.0      │\n",
       "│ ethereum   ┆ 2024-07-02 09:30:47 UTC ┆ 20217949     ┆ 0xf3c89c64f0a11cff02117a681de956ea55622b32536d2a662f6d7bda1c0524ef ┆ … ┆ USDC    ┆ 6.0       ┆ XCHF    ┆ 18.0      │\n",
       "└────────────┴─────────────────────────┴──────────────┴────────────────────────────────────────────────────────────────────┴───┴─────────┴───────────┴─────────┴───────────┘"
      ]
     },
     "execution_count": 13,
     "metadata": {},
     "output_type": "execute_result"
    }
   ],
   "source": [
    "filtered_result = result.filter(pl.col(\"decimals0\").is_not_null() & pl.col(\"decimals1\").is_not_null())\n",
    "\n",
    "filtered_result"
   ]
  },
  {
   "cell_type": "code",
   "execution_count": 14,
   "metadata": {},
   "outputs": [],
   "source": [
    "# Save the result to a parquet file\n",
    "filtered_result.write_parquet(base / \"pool_token_info.parquet\")"
   ]
  },
  {
   "cell_type": "code",
   "execution_count": null,
   "metadata": {},
   "outputs": [],
   "source": []
  }
 ],
 "metadata": {
  "kernelspec": {
   "display_name": "venv",
   "language": "python",
   "name": "python3"
  },
  "language_info": {
   "codemirror_mode": {
    "name": "ipython",
    "version": 3
   },
   "file_extension": ".py",
   "mimetype": "text/x-python",
   "name": "python",
   "nbconvert_exporter": "python",
   "pygments_lexer": "ipython3",
   "version": "3.11.4"
  }
 },
 "nbformat": 4,
 "nbformat_minor": 2
}
