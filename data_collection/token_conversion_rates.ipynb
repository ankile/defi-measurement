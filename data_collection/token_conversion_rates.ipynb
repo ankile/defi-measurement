{
 "cells": [
  {
   "cell_type": "markdown",
   "metadata": {},
   "source": [
    "# Measure average swap volume for builders and relays\n"
   ]
  },
  {
   "cell_type": "code",
   "execution_count": 1,
   "metadata": {},
   "outputs": [],
   "source": [
    "%load_ext autoreload\n",
    "%autoreload 2"
   ]
  },
  {
   "cell_type": "code",
   "execution_count": 2,
   "metadata": {},
   "outputs": [],
   "source": [
    "import os\n",
    "import math\n",
    "import pandas as pd\n",
    "from dotenv import load_dotenv\n",
    "import numpy as np\n",
    "\n",
    "import statsmodels.api as sm\n",
    "\n",
    "from tqdm import tqdm\n",
    "from pathlib import Path\n",
    "\n",
    "from concurrent.futures import ThreadPoolExecutor\n",
    "from tqdm import trange, tqdm\n",
    "import numpy as np\n",
    "import pandas as pd\n",
    "\n",
    "import seaborn as sns\n",
    "\n",
    "import sys\n",
    "\n",
    "current_path = sys.path[0]\n",
    "sys.path.append(current_path[: current_path.find(\"defi-measurement\")] + \"liquidity-distribution-history\")\n",
    "\n",
    "sys.path.append(\"..\")\n",
    "\n",
    "import matplotlib.pyplot as plt\n",
    "import matplotlib.ticker as mticker\n",
    "from matplotlib.lines import Line2D\n",
    "\n",
    "# Adjust so all columns in dataframe are shown\n",
    "pd.set_option(\"display.max_columns\", None)\n",
    "\n",
    "# Set pandas display options column width\n",
    "pd.set_option(\"display.max_colwidth\", 1000)"
   ]
  },
  {
   "cell_type": "code",
   "execution_count": 3,
   "metadata": {},
   "outputs": [],
   "source": [
    "postgres_uri = os.environ[\"POSTGRESQL_URI\"]\n",
    "azure_storage_uri = os.environ[\"AZURE_STORAGE_CONNECTION_STRING\"]"
   ]
  },
  {
   "cell_type": "markdown",
   "metadata": {},
   "source": [
    "## General idea: Use ETH as a proxy for swap volume\n",
    "\n",
    "The assumption is that most the swaps happen between ETH and something else. First, though, verify this assumption.\n"
   ]
  },
  {
   "cell_type": "markdown",
   "metadata": {},
   "source": [
    "### How to measure\n"
   ]
  },
  {
   "cell_type": "code",
   "execution_count": 4,
   "metadata": {},
   "outputs": [],
   "source": [
    "weth_address = \"0xc02aaa39b223fe8d0a0e5c4f27ead9083c756cc2\""
   ]
  },
  {
   "cell_type": "markdown",
   "metadata": {},
   "source": [
    "From the below, we see that ~84% of transactions happen to or from ETH, so I think we can argue that it's a fair measure of swap volume.\n"
   ]
  },
  {
   "cell_type": "code",
   "execution_count": 19,
   "metadata": {},
   "outputs": [
    {
     "name": "stdout",
     "output_type": "stream",
     "text": [
      "Total swap count: 25_875_662, ETH swap count: 21_708_158\n",
      "ETH swap percentage: 83.89%\n"
     ]
    }
   ],
   "source": [
    "total_swap_count = pd.read_sql_query(\n",
    "    f\"\"\"\n",
    "    SELECT COUNT(*)\n",
    "    FROM swaps\n",
    "    JOIN factory ON address = pool\n",
    "    \"\"\",\n",
    "    postgres_uri,\n",
    ")[\"count\"][0]\n",
    "\n",
    "eth_swap_count = pd.read_sql_query(\n",
    "    f\"\"\"\n",
    "    SELECT COUNT(*)\n",
    "    FROM swaps\n",
    "    JOIN factory ON address = pool\n",
    "    WHERE token0 = '{weth_address}'\n",
    "        OR token1 = '{weth_address}'\n",
    "    \"\"\",\n",
    "    postgres_uri,\n",
    ")[\"count\"][0]\n",
    "\n",
    "print(f\"Total swap count: {total_swap_count:_}, ETH swap count: {eth_swap_count:_}\")\n",
    "print(f\"ETH swap percentage: {eth_swap_count / total_swap_count:.2%}\")"
   ]
  },
  {
   "cell_type": "markdown",
   "metadata": {},
   "source": [
    "### Measure average volume in ETH for each block\n",
    "\n",
    "The general approach will be to find the mean transaction volume in terms of ETH within each block.\n",
    "\n",
    "Then, we can easily join with the `mev_boost` table and calculate the mean for each builder and relay\n"
   ]
  },
  {
   "cell_type": "code",
   "execution_count": 20,
   "metadata": {},
   "outputs": [
    {
     "name": "stdout",
     "output_type": "stream",
     "text": [
      "Min block: 15_537_940, max block: 17_959_956\n"
     ]
    }
   ],
   "source": [
    "# Find the block range of the swaps that happened after MEV boost was deployed\n",
    "min_max_block = pd.read_sql_query(\n",
    "    f\"\"\"\n",
    "    SELECT MIN(block_number), MAX(block_number)\n",
    "    FROM mev_boost\n",
    "    \"\"\",\n",
    "    postgres_uri,\n",
    ")\n",
    "\n",
    "min_block = min_max_block[\"min\"][0]\n",
    "max_block = min_max_block[\"max\"][0]\n",
    "\n",
    "print(f\"Min block: {min_block:_}, max block: {max_block:_}\")"
   ]
  },
  {
   "cell_type": "code",
   "execution_count": 26,
   "metadata": {},
   "outputs": [],
   "source": [
    "def chunked_query(query, n_rows, chunksize=10_000):\n",
    "    dfs = pd.read_sql_query(\n",
    "        query,\n",
    "        postgres_uri,\n",
    "        chunksize=chunksize,\n",
    "    )\n",
    "\n",
    "    df = pd.concat(tqdm(dfs, total=math.ceil(n_rows / chunksize)))\n",
    "\n",
    "    return df"
   ]
  },
  {
   "cell_type": "code",
   "execution_count": 22,
   "metadata": {},
   "outputs": [
    {
     "name": "stdout",
     "output_type": "stream",
     "text": [
      "Total swap count: 7_091_514\n"
     ]
    }
   ],
   "source": [
    "# Get the total number of swaps that is in scope\n",
    "swaps_count = pd.read_sql_query(\n",
    "    f\"\"\"\n",
    "    SELECT COUNT(*)\n",
    "    FROM swaps\n",
    "    JOIN factory ON address = pool\n",
    "    WHERE (token0 = '{weth_address}'\n",
    "        OR \n",
    "        token1 = '{weth_address}')\n",
    "    AND swaps.block_number >= {min_block}\n",
    "    AND swaps.block_number <= {max_block}\n",
    "    \"\"\",\n",
    "    postgres_uri,\n",
    ")[\"count\"][0]\n",
    "\n",
    "print(f\"Total swap count: {swaps_count:_}\")"
   ]
  },
  {
   "cell_type": "code",
   "execution_count": null,
   "metadata": {},
   "outputs": [],
   "source": [
    "# Get all swaps that happened after MEV boost was deployed\n",
    "# where the token pair is WETH and another token\n",
    "swaps = pd.read_sql_query(\n",
    "    f\"\"\"\n",
    "    -- Selecting rows where token0 is wETH\n",
    "    SELECT swaps.block_number AS block_number, token0 AS token_address, amount0 AS amount\n",
    "    FROM swaps\n",
    "    JOIN factory ON address = pool\n",
    "    WHERE token0 = '{weth_address}'\n",
    "    AND swaps.block_number >= {min_block}\n",
    "    AND swaps.block_number <= {max_block}\n",
    "\n",
    "    UNION ALL\n",
    "\n",
    "    -- Selecting rows where token1 is wETH\n",
    "    SELECT swaps.block_number AS block_number, token1 AS token_address, amount1 AS amount\n",
    "    FROM swaps\n",
    "    JOIN factory ON address = pool\n",
    "    WHERE token1 = '{weth_address}'\n",
    "    AND swaps.block_number >= {min_block}\n",
    "    AND swaps.block_number <= {max_block}\n",
    "    \"\"\",\n",
    "    postgres_uri,\n",
    ")"
   ]
  },
  {
   "cell_type": "code",
   "execution_count": 30,
   "metadata": {},
   "outputs": [
    {
     "name": "stdout",
     "output_type": "stream",
     "text": [
      "Got 9_272_148 swaps in total, across 1_930_592 blocks\n"
     ]
    }
   ],
   "source": [
    "print(f\"Got {len(swaps):_} swaps in total, across {len(swaps['block_number'].unique()):_} blocks\")"
   ]
  },
  {
   "cell_type": "code",
   "execution_count": 28,
   "metadata": {},
   "outputs": [],
   "source": [
    "# Convert the amount to ETH from wei\n",
    "swaps.amount = swaps.amount.astype(float).abs() / 1e18"
   ]
  },
  {
   "cell_type": "code",
   "execution_count": 31,
   "metadata": {},
   "outputs": [
    {
     "data": {
      "text/html": [
       "<div>\n",
       "<style scoped>\n",
       "    .dataframe tbody tr th:only-of-type {\n",
       "        vertical-align: middle;\n",
       "    }\n",
       "\n",
       "    .dataframe tbody tr th {\n",
       "        vertical-align: top;\n",
       "    }\n",
       "\n",
       "    .dataframe thead th {\n",
       "        text-align: right;\n",
       "    }\n",
       "</style>\n",
       "<table border=\"1\" class=\"dataframe\">\n",
       "  <thead>\n",
       "    <tr style=\"text-align: right;\">\n",
       "      <th></th>\n",
       "      <th>block_number</th>\n",
       "      <th>token_address</th>\n",
       "      <th>amount</th>\n",
       "    </tr>\n",
       "  </thead>\n",
       "  <tbody>\n",
       "    <tr>\n",
       "      <th>0</th>\n",
       "      <td>17577508</td>\n",
       "      <td>0xc02aaa39b223fe8d0a0e5c4f27ead9083c756cc2</td>\n",
       "      <td>0.536606</td>\n",
       "    </tr>\n",
       "    <tr>\n",
       "      <th>1</th>\n",
       "      <td>17578272</td>\n",
       "      <td>0xc02aaa39b223fe8d0a0e5c4f27ead9083c756cc2</td>\n",
       "      <td>1.370000</td>\n",
       "    </tr>\n",
       "    <tr>\n",
       "      <th>2</th>\n",
       "      <td>17578589</td>\n",
       "      <td>0xc02aaa39b223fe8d0a0e5c4f27ead9083c756cc2</td>\n",
       "      <td>0.760908</td>\n",
       "    </tr>\n",
       "    <tr>\n",
       "      <th>3</th>\n",
       "      <td>17582383</td>\n",
       "      <td>0xc02aaa39b223fe8d0a0e5c4f27ead9083c756cc2</td>\n",
       "      <td>4.668950</td>\n",
       "    </tr>\n",
       "    <tr>\n",
       "      <th>4</th>\n",
       "      <td>17579971</td>\n",
       "      <td>0xc02aaa39b223fe8d0a0e5c4f27ead9083c756cc2</td>\n",
       "      <td>4.505060</td>\n",
       "    </tr>\n",
       "  </tbody>\n",
       "</table>\n",
       "</div>"
      ],
      "text/plain": [
       "   block_number                               token_address    amount\n",
       "0      17577508  0xc02aaa39b223fe8d0a0e5c4f27ead9083c756cc2  0.536606\n",
       "1      17578272  0xc02aaa39b223fe8d0a0e5c4f27ead9083c756cc2  1.370000\n",
       "2      17578589  0xc02aaa39b223fe8d0a0e5c4f27ead9083c756cc2  0.760908\n",
       "3      17582383  0xc02aaa39b223fe8d0a0e5c4f27ead9083c756cc2  4.668950\n",
       "4      17579971  0xc02aaa39b223fe8d0a0e5c4f27ead9083c756cc2  4.505060"
      ]
     },
     "execution_count": 31,
     "metadata": {},
     "output_type": "execute_result"
    }
   ],
   "source": [
    "swaps.head()"
   ]
  },
  {
   "cell_type": "code",
   "execution_count": 33,
   "metadata": {},
   "outputs": [
    {
     "data": {
      "text/plain": [
       "block_number\n",
       "15537940     9.348220\n",
       "15537941    34.401677\n",
       "15537943    29.511673\n",
       "15537944     0.657583\n",
       "15537946    11.057775\n",
       "              ...    \n",
       "17863998     0.030000\n",
       "17864000    13.748981\n",
       "17864005     4.991950\n",
       "17864008     0.958249\n",
       "17864015     2.896456\n",
       "Name: amount, Length: 1930592, dtype: float64"
      ]
     },
     "execution_count": 33,
     "metadata": {},
     "output_type": "execute_result"
    }
   ],
   "source": [
    "# Calculate mean swap size for each block\n",
    "block_mean_swap_size = swaps.groupby(\"block_number\").amount.mean()\n",
    "\n",
    "block_mean_swap_size"
   ]
  },
  {
   "cell_type": "code",
   "execution_count": 35,
   "metadata": {},
   "outputs": [
    {
     "data": {
      "text/plain": [
       "True"
      ]
     },
     "execution_count": 35,
     "metadata": {},
     "output_type": "execute_result"
    }
   ],
   "source": [
    "block_mean_swap_size.index.is_monotonic_increasing"
   ]
  },
  {
   "cell_type": "markdown",
   "metadata": {},
   "source": [
    "### Combine the mean volume per block with the mev_boost table\n"
   ]
  },
  {
   "cell_type": "code",
   "execution_count": 34,
   "metadata": {},
   "outputs": [
    {
     "data": {
      "text/html": [
       "<div>\n",
       "<style scoped>\n",
       "    .dataframe tbody tr th:only-of-type {\n",
       "        vertical-align: middle;\n",
       "    }\n",
       "\n",
       "    .dataframe tbody tr th {\n",
       "        vertical-align: top;\n",
       "    }\n",
       "\n",
       "    .dataframe thead th {\n",
       "        text-align: right;\n",
       "    }\n",
       "</style>\n",
       "<table border=\"1\" class=\"dataframe\">\n",
       "  <thead>\n",
       "    <tr style=\"text-align: right;\">\n",
       "      <th></th>\n",
       "      <th>date</th>\n",
       "      <th>slot</th>\n",
       "      <th>block_number</th>\n",
       "      <th>relay</th>\n",
       "      <th>builder_pubkey</th>\n",
       "      <th>proposer_pubkey</th>\n",
       "      <th>mevboost_value</th>\n",
       "      <th>builder</th>\n",
       "      <th>validator</th>\n",
       "    </tr>\n",
       "  </thead>\n",
       "  <tbody>\n",
       "    <tr>\n",
       "      <th>0</th>\n",
       "      <td>2022-09-15 08:33:47</td>\n",
       "      <td>4700567</td>\n",
       "      <td>15537940</td>\n",
       "      <td>flashbots</td>\n",
       "      <td>0xa1dead01e65f0a0eee7b5170223f20c8f0cbf122eac3324d61afbdb33a8885ff8cab2ef514ac2c7698ae0d6289ef27fc</td>\n",
       "      <td>0xa606aca2180226fc69e0652134eca4c7f4a428585c1122ab99c1606a53aaf9f7970df01e570b86a3bed7731d2fcbeca5</td>\n",
       "      <td>0.283204</td>\n",
       "      <td>Flashbots</td>\n",
       "      <td>0xa606aca2180226fc69e0652134eca4c7f4a428585c1122ab99c1606a53aaf9f7970df01e570b86a3bed7731d2fcbeca5</td>\n",
       "    </tr>\n",
       "    <tr>\n",
       "      <th>1</th>\n",
       "      <td>2022-09-15 08:35:23</td>\n",
       "      <td>4700575</td>\n",
       "      <td>15537948</td>\n",
       "      <td>flashbots</td>\n",
       "      <td>0xa1dead01e65f0a0eee7b5170223f20c8f0cbf122eac3324d61afbdb33a8885ff8cab2ef514ac2c7698ae0d6289ef27fc</td>\n",
       "      <td>0x9489e9354f515580f6a949f69eed311eeb26b268b7448b1ad6fcd4d82d855b54b355ccf7ee1a387c40203fce05f7e47c</td>\n",
       "      <td>0.845802</td>\n",
       "      <td>Flashbots</td>\n",
       "      <td>0x9489e9354f515580f6a949f69eed311eeb26b268b7448b1ad6fcd4d82d855b54b355ccf7ee1a387c40203fce05f7e47c</td>\n",
       "    </tr>\n",
       "    <tr>\n",
       "      <th>2</th>\n",
       "      <td>2022-09-15 08:41:35</td>\n",
       "      <td>4700606</td>\n",
       "      <td>15537978</td>\n",
       "      <td>flashbots</td>\n",
       "      <td>0x81beef03aafd3dd33ffd7deb337407142c80fea2690e5b3190cfc01bde5753f28982a7857c96172a75a234cb7bcb994f</td>\n",
       "      <td>0x82d5ebc6c3ef5eda41dcbb1cbdfd5863ab6e4d16b1375d4be6aa242649a2283249a40ee3f8874bce808c0b48bee4e4a4</td>\n",
       "      <td>0.213524</td>\n",
       "      <td>Flashbots</td>\n",
       "      <td>stakewise</td>\n",
       "    </tr>\n",
       "    <tr>\n",
       "      <th>3</th>\n",
       "      <td>2022-09-15 08:59:11</td>\n",
       "      <td>4700694</td>\n",
       "      <td>15538064</td>\n",
       "      <td>flashbots</td>\n",
       "      <td>0xa1dead01e65f0a0eee7b5170223f20c8f0cbf122eac3324d61afbdb33a8885ff8cab2ef514ac2c7698ae0d6289ef27fc</td>\n",
       "      <td>0x8e7d5eed0f72cd56e547e2fabea19a65668577fd2d64dbab3f00bae18715dbcda55ed73a2309e1e24f8fd53093574f74</td>\n",
       "      <td>0.113136</td>\n",
       "      <td>Flashbots</td>\n",
       "      <td>0x8e7d5eed0f72cd56e547e2fabea19a65668577fd2d64dbab3f00bae18715dbcda55ed73a2309e1e24f8fd53093574f74</td>\n",
       "    </tr>\n",
       "    <tr>\n",
       "      <th>4</th>\n",
       "      <td>2022-09-15 09:05:11</td>\n",
       "      <td>4700724</td>\n",
       "      <td>15538094</td>\n",
       "      <td>flashbots</td>\n",
       "      <td>0xa1dead01e65f0a0eee7b5170223f20c8f0cbf122eac3324d61afbdb33a8885ff8cab2ef514ac2c7698ae0d6289ef27fc</td>\n",
       "      <td>0xae1426c22c5c0d91d62c5a224759f44569a0a52e6cb8a19b9033a62b57940c788409a611c8eaf55e0cc6e9ca650e2fff</td>\n",
       "      <td>0.637987</td>\n",
       "      <td>Flashbots</td>\n",
       "      <td>rocketpool</td>\n",
       "    </tr>\n",
       "  </tbody>\n",
       "</table>\n",
       "</div>"
      ],
      "text/plain": [
       "                 date     slot  block_number      relay  \\\n",
       "0 2022-09-15 08:33:47  4700567      15537940  flashbots   \n",
       "1 2022-09-15 08:35:23  4700575      15537948  flashbots   \n",
       "2 2022-09-15 08:41:35  4700606      15537978  flashbots   \n",
       "3 2022-09-15 08:59:11  4700694      15538064  flashbots   \n",
       "4 2022-09-15 09:05:11  4700724      15538094  flashbots   \n",
       "\n",
       "                                                                                       builder_pubkey  \\\n",
       "0  0xa1dead01e65f0a0eee7b5170223f20c8f0cbf122eac3324d61afbdb33a8885ff8cab2ef514ac2c7698ae0d6289ef27fc   \n",
       "1  0xa1dead01e65f0a0eee7b5170223f20c8f0cbf122eac3324d61afbdb33a8885ff8cab2ef514ac2c7698ae0d6289ef27fc   \n",
       "2  0x81beef03aafd3dd33ffd7deb337407142c80fea2690e5b3190cfc01bde5753f28982a7857c96172a75a234cb7bcb994f   \n",
       "3  0xa1dead01e65f0a0eee7b5170223f20c8f0cbf122eac3324d61afbdb33a8885ff8cab2ef514ac2c7698ae0d6289ef27fc   \n",
       "4  0xa1dead01e65f0a0eee7b5170223f20c8f0cbf122eac3324d61afbdb33a8885ff8cab2ef514ac2c7698ae0d6289ef27fc   \n",
       "\n",
       "                                                                                      proposer_pubkey  \\\n",
       "0  0xa606aca2180226fc69e0652134eca4c7f4a428585c1122ab99c1606a53aaf9f7970df01e570b86a3bed7731d2fcbeca5   \n",
       "1  0x9489e9354f515580f6a949f69eed311eeb26b268b7448b1ad6fcd4d82d855b54b355ccf7ee1a387c40203fce05f7e47c   \n",
       "2  0x82d5ebc6c3ef5eda41dcbb1cbdfd5863ab6e4d16b1375d4be6aa242649a2283249a40ee3f8874bce808c0b48bee4e4a4   \n",
       "3  0x8e7d5eed0f72cd56e547e2fabea19a65668577fd2d64dbab3f00bae18715dbcda55ed73a2309e1e24f8fd53093574f74   \n",
       "4  0xae1426c22c5c0d91d62c5a224759f44569a0a52e6cb8a19b9033a62b57940c788409a611c8eaf55e0cc6e9ca650e2fff   \n",
       "\n",
       "   mevboost_value    builder  \\\n",
       "0        0.283204  Flashbots   \n",
       "1        0.845802  Flashbots   \n",
       "2        0.213524  Flashbots   \n",
       "3        0.113136  Flashbots   \n",
       "4        0.637987  Flashbots   \n",
       "\n",
       "                                                                                            validator  \n",
       "0  0xa606aca2180226fc69e0652134eca4c7f4a428585c1122ab99c1606a53aaf9f7970df01e570b86a3bed7731d2fcbeca5  \n",
       "1  0x9489e9354f515580f6a949f69eed311eeb26b268b7448b1ad6fcd4d82d855b54b355ccf7ee1a387c40203fce05f7e47c  \n",
       "2                                                                                           stakewise  \n",
       "3  0x8e7d5eed0f72cd56e547e2fabea19a65668577fd2d64dbab3f00bae18715dbcda55ed73a2309e1e24f8fd53093574f74  \n",
       "4                                                                                          rocketpool  "
      ]
     },
     "execution_count": 34,
     "metadata": {},
     "output_type": "execute_result"
    }
   ],
   "source": [
    "# Get the MEV boost information for each block\n",
    "mev_boost = pd.read_sql_query(\n",
    "    f\"\"\"\n",
    "    SELECT block_number, relay, builder\n",
    "    FROM mev_boost\n",
    "    \"\"\",\n",
    "    postgres_uri,\n",
    ")\n",
    "\n",
    "mev_boost.head()"
   ]
  },
  {
   "cell_type": "code",
   "execution_count": 38,
   "metadata": {},
   "outputs": [
    {
     "data": {
      "text/html": [
       "<div>\n",
       "<style scoped>\n",
       "    .dataframe tbody tr th:only-of-type {\n",
       "        vertical-align: middle;\n",
       "    }\n",
       "\n",
       "    .dataframe tbody tr th {\n",
       "        vertical-align: top;\n",
       "    }\n",
       "\n",
       "    .dataframe thead th {\n",
       "        text-align: right;\n",
       "    }\n",
       "</style>\n",
       "<table border=\"1\" class=\"dataframe\">\n",
       "  <thead>\n",
       "    <tr style=\"text-align: right;\">\n",
       "      <th></th>\n",
       "      <th>block_number</th>\n",
       "      <th>relay</th>\n",
       "      <th>builder</th>\n",
       "      <th>mean_swap_size</th>\n",
       "    </tr>\n",
       "  </thead>\n",
       "  <tbody>\n",
       "    <tr>\n",
       "      <th>0</th>\n",
       "      <td>15537940</td>\n",
       "      <td>flashbots</td>\n",
       "      <td>Flashbots</td>\n",
       "      <td>9.348220</td>\n",
       "    </tr>\n",
       "    <tr>\n",
       "      <th>1</th>\n",
       "      <td>15537948</td>\n",
       "      <td>flashbots</td>\n",
       "      <td>Flashbots</td>\n",
       "      <td>16.189291</td>\n",
       "    </tr>\n",
       "    <tr>\n",
       "      <th>2</th>\n",
       "      <td>15537978</td>\n",
       "      <td>flashbots</td>\n",
       "      <td>Flashbots</td>\n",
       "      <td>8.613524</td>\n",
       "    </tr>\n",
       "    <tr>\n",
       "      <th>3</th>\n",
       "      <td>15538064</td>\n",
       "      <td>flashbots</td>\n",
       "      <td>Flashbots</td>\n",
       "      <td>3.298476</td>\n",
       "    </tr>\n",
       "    <tr>\n",
       "      <th>4</th>\n",
       "      <td>15538094</td>\n",
       "      <td>flashbots</td>\n",
       "      <td>Flashbots</td>\n",
       "      <td>37.417355</td>\n",
       "    </tr>\n",
       "  </tbody>\n",
       "</table>\n",
       "</div>"
      ],
      "text/plain": [
       "   block_number      relay    builder  mean_swap_size\n",
       "0      15537940  flashbots  Flashbots        9.348220\n",
       "1      15537948  flashbots  Flashbots       16.189291\n",
       "2      15537978  flashbots  Flashbots        8.613524\n",
       "3      15538064  flashbots  Flashbots        3.298476\n",
       "4      15538094  flashbots  Flashbots       37.417355"
      ]
     },
     "execution_count": 38,
     "metadata": {},
     "output_type": "execute_result"
    }
   ],
   "source": [
    "# Add the mean volume information to the MEV boost dataframe\n",
    "mev_boost[\"mean_swap_size\"] = mev_boost.block_number.map(block_mean_swap_size)\n",
    "\n",
    "mev_boost.head()"
   ]
  },
  {
   "cell_type": "code",
   "execution_count": 42,
   "metadata": {},
   "outputs": [
    {
     "data": {
      "text/plain": [
       "(1930592, 2045239, 1651258)"
      ]
     },
     "execution_count": 42,
     "metadata": {},
     "output_type": "execute_result"
    }
   ],
   "source": [
    "# Check what is the coverage of the MEV boost data\n",
    "block_mean_swap_size.index.nunique(), mev_boost.block_number.nunique(), len(\n",
    "    set(block_mean_swap_size.index).intersection(set(mev_boost.block_number))\n",
    ")"
   ]
  },
  {
   "cell_type": "code",
   "execution_count": 44,
   "metadata": {},
   "outputs": [
    {
     "name": "stdout",
     "output_type": "stream",
     "text": [
      "Dropped 603494 (0.24597870744750228) rows with missing values\n"
     ]
    }
   ],
   "source": [
    "# Drop the missing values from the MEV boost dataframe\n",
    "len_before = len(mev_boost)\n",
    "mev_boost = mev_boost.dropna()\n",
    "len_after = len(mev_boost)\n",
    "\n",
    "print(f\"Dropped {len_before - len_after:_} ({(len_before - len_after) / len_before:.2%}) rows with missing values\")"
   ]
  },
  {
   "cell_type": "markdown",
   "metadata": {},
   "source": [
    "#### Visualize results for relays\n"
   ]
  },
  {
   "cell_type": "code",
   "execution_count": 77,
   "metadata": {},
   "outputs": [
    {
     "data": {
      "text/plain": [
       "Text(0, 0.5, 'Mean swap size')"
      ]
     },
     "execution_count": 77,
     "metadata": {},
     "output_type": "execute_result"
    },
    {
     "data": {
      "image/png": "[encoded data removed]",
      "text/plain": [
       "<Figure size 1000x500 with 1 Axes>"
      ]
     },
     "metadata": {},
     "output_type": "display_data"
    }
   ],
   "source": [
    "# Calculate the mean swap size for each relay\n",
    "relay_mean_swap_size = mev_boost.groupby(\"relay\").mean_swap_size.mean()\n",
    "\n",
    "# Plot it as a histogram\n",
    "fig, ax = plt.subplots(figsize=(10, 5))\n",
    "\n",
    "ax.bar(relay_mean_swap_size.index, relay_mean_swap_size)\n",
    "\n",
    "ax.axhline(mev_boost.mean_swap_size.mean(), color=\"red\", linestyle=\"--\")\n",
    "\n",
    "# Rotate the x-axis labels and align them to the right\n",
    "for tick in ax.get_xticklabels():\n",
    "    tick.set_rotation(45)\n",
    "    tick.set_horizontalalignment(\"right\")\n",
    "\n",
    "ax.set_title(\"Mean swap size distribution for each relay\")\n",
    "ax.set_xlabel(\"Relay\")\n",
    "ax.set_ylabel(\"Mean swap size\")"
   ]
  },
  {
   "cell_type": "markdown",
   "metadata": {},
   "source": [
    "#### Visualize results for builders\n"
   ]
  },
  {
   "cell_type": "code",
   "execution_count": 65,
   "metadata": {},
   "outputs": [],
   "source": [
    "# Grab only the builders from the original analysis\n",
    "builders = [\n",
    "    \"mars\",\n",
    "    \"Bob the builder\",\n",
    "    \"buildai.net\",\n",
    "    \"boba-builder.com\",\n",
    "    \"edennetwork.io\",\n",
    "    \"Flashbots SGX\",\n",
    "    \"builder0x69\",\n",
    "    \"lightspeedbuilder.info\",\n",
    "    \"beaverbuild.org\",\n",
    "    \"Flashbots\",\n",
    "    \"payload.de\",\n",
    "    \"eth-builder.com\",\n",
    "    \"BloXroute\",\n",
    "    \"gmbit.co\",\n",
    "    \"rsync-builder.xyz\",\n",
    "    \"Titan Builder\",\n",
    "    \"nfactorial.xyz\",\n",
    "    \"Blocknative\",\n",
    "    \"Manifold\",\n",
    "    \"f1b.io\",\n",
    "    \"Shared/Default\",\n",
    "    \"I can haz block?\",\n",
    "    \"finest artisanal blocks\",\n",
    "    \"0x83bee51799\",\n",
    "    \"Altruistic\",\n",
    "    \"Geth Go\",\n",
    "    \"It's Free Real Estate\",\n",
    "    \"manta-builder\",\n",
    "]"
   ]
  },
  {
   "cell_type": "code",
   "execution_count": 66,
   "metadata": {},
   "outputs": [],
   "source": [
    "# Map the builder names to something more readable\n",
    "name_mapping = {\n",
    "    \"Gambit Labs (https://gmbit.co)\": \"gmbit.co\",\n",
    "    \"BuildAI (https://buildai.net)\": \"buildai.net\",\n",
    "    \"https://edennetwork.io\": \"edennetwork.io\",\n",
    "    \"viva ultrasound&agnostic by 0x69\": \"Viva Ultrasound\",\n",
    "    \"0x83bee51799e65130296f5d60ce7d78119578db6045c3c3631980514abae0be0f9b65fe82eb0c9a79d6d99030112c874c\": \"0x83bee51799\",\n",
    "    \"https://eth-builder.com\": \"eth-builder.com\",\n",
    "}\n",
    "mev_boost.builder = mev_boost.builder.replace(name_mapping)"
   ]
  },
  {
   "cell_type": "code",
   "execution_count": 69,
   "metadata": {},
   "outputs": [
    {
     "data": {
      "text/html": [
       "<div>\n",
       "<style scoped>\n",
       "    .dataframe tbody tr th:only-of-type {\n",
       "        vertical-align: middle;\n",
       "    }\n",
       "\n",
       "    .dataframe tbody tr th {\n",
       "        vertical-align: top;\n",
       "    }\n",
       "\n",
       "    .dataframe thead th {\n",
       "        text-align: right;\n",
       "    }\n",
       "</style>\n",
       "<table border=\"1\" class=\"dataframe\">\n",
       "  <thead>\n",
       "    <tr style=\"text-align: right;\">\n",
       "      <th></th>\n",
       "      <th>block_number</th>\n",
       "      <th>relay</th>\n",
       "      <th>builder</th>\n",
       "      <th>mean_swap_size</th>\n",
       "    </tr>\n",
       "  </thead>\n",
       "  <tbody>\n",
       "    <tr>\n",
       "      <th>0</th>\n",
       "      <td>15537940</td>\n",
       "      <td>flashbots</td>\n",
       "      <td>Flashbots</td>\n",
       "      <td>9.348220</td>\n",
       "    </tr>\n",
       "    <tr>\n",
       "      <th>5</th>\n",
       "      <td>15538107</td>\n",
       "      <td>eden</td>\n",
       "      <td>edennetwork.io</td>\n",
       "      <td>0.557108</td>\n",
       "    </tr>\n",
       "    <tr>\n",
       "      <th>15</th>\n",
       "      <td>15538306</td>\n",
       "      <td>bloxroute (max profit)</td>\n",
       "      <td>Shared/Default</td>\n",
       "      <td>0.736810</td>\n",
       "    </tr>\n",
       "    <tr>\n",
       "      <th>43</th>\n",
       "      <td>15538613</td>\n",
       "      <td>flashbots</td>\n",
       "      <td>Geth Go</td>\n",
       "      <td>23.319068</td>\n",
       "    </tr>\n",
       "    <tr>\n",
       "      <th>1490</th>\n",
       "      <td>15547363</td>\n",
       "      <td>blocknative</td>\n",
       "      <td>Blocknative</td>\n",
       "      <td>94.275547</td>\n",
       "    </tr>\n",
       "  </tbody>\n",
       "</table>\n",
       "</div>"
      ],
      "text/plain": [
       "      block_number                   relay         builder  mean_swap_size\n",
       "0         15537940               flashbots       Flashbots        9.348220\n",
       "5         15538107                    eden  edennetwork.io        0.557108\n",
       "15        15538306  bloxroute (max profit)  Shared/Default        0.736810\n",
       "43        15538613               flashbots         Geth Go       23.319068\n",
       "1490      15547363             blocknative     Blocknative       94.275547"
      ]
     },
     "execution_count": 69,
     "metadata": {},
     "output_type": "execute_result"
    }
   ],
   "source": [
    "mev_boost_builders = mev_boost[mev_boost.builder.isin(builders)]\n",
    "\n",
    "mev_boost_builders.drop_duplicates(subset=[\"builder\"]).head()"
   ]
  },
  {
   "cell_type": "code",
   "execution_count": 78,
   "metadata": {},
   "outputs": [
    {
     "data": {
      "text/plain": [
       "Text(0, 0.5, 'Mean swap size')"
      ]
     },
     "execution_count": 78,
     "metadata": {},
     "output_type": "execute_result"
    },
    {
     "data": {
      "image/png": "[encoded data removed]",
      "text/plain": [
       "<Figure size 1000x500 with 1 Axes>"
      ]
     },
     "metadata": {},
     "output_type": "display_data"
    }
   ],
   "source": [
    "# Calculate the mean swap size for each builder\n",
    "builder_mean_swap_size = mev_boost_builders.groupby(\"builder\").mean_swap_size.mean()\n",
    "\n",
    "# Plot it as a histogram\n",
    "fig, ax = plt.subplots(figsize=(10, 5))\n",
    "\n",
    "ax.bar(builder_mean_swap_size.index, builder_mean_swap_size)\n",
    "\n",
    "# Add a line for the overall mean swap size\n",
    "ax.axhline(mev_boost_builders.mean_swap_size.mean(), color=\"red\", linestyle=\"--\")\n",
    "\n",
    "# Rotate the x-axis labels and align them to the right\n",
    "for tick in ax.get_xticklabels():\n",
    "    tick.set_rotation(45)\n",
    "    tick.set_horizontalalignment(\"right\")\n",
    "\n",
    "ax.set_title(\"Mean swap size distribution for each builder\")\n",
    "ax.set_xlabel(\"Builder\")\n",
    "ax.set_ylabel(\"Mean swap size\")"
   ]
  },
  {
   "cell_type": "code",
   "execution_count": null,
   "metadata": {},
   "outputs": [],
   "source": []
  }
 ],
 "metadata": {
  "kernelspec": {
   "display_name": "venv",
   "language": "python",
   "name": "python3"
  },
  "language_info": {
   "codemirror_mode": {
    "name": "ipython",
    "version": 3
   },
   "file_extension": ".py",
   "mimetype": "text/x-python",
   "name": "python",
   "nbconvert_exporter": "python",
   "pygments_lexer": "ipython3",
   "version": "3.11.4"
  }
 },
 "nbformat": 4,
 "nbformat_minor": 2
}
