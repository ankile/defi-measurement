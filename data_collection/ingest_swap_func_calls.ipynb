{
 "cells": [
  {
   "cell_type": "code",
   "execution_count": 18,
   "metadata": {},
   "outputs": [
    {
     "data": {
      "text/plain": [
       "True"
      ]
     },
     "execution_count": 18,
     "metadata": {},
     "output_type": "execute_result"
    }
   ],
   "source": [
    "import os\n",
    "\n",
    "import io\n",
    "\n",
    "from tqdm import tqdm\n",
    "from azure.storage.blob import BlobServiceClient\n",
    "from dotenv import load_dotenv\n",
    "\n",
    "from sqlalchemy import create_engine, String, Integer, Float, DateTime, Boolean, Text\n",
    "import pandas as pd\n",
    "\n",
    "load_dotenv(override=True)"
   ]
  },
  {
   "cell_type": "code",
   "execution_count": 19,
   "metadata": {},
   "outputs": [],
   "source": [
    "# Read in the environment variables\n",
    "postgres_uri = os.environ[\"POSTGRESQL_URI_MP\"]\n",
    "blobstorage_uri = os.environ[\"AZURE_STORAGE_CONNECTION_STRING\"]\n"
   ]
  },
  {
   "cell_type": "code",
   "execution_count": 7,
   "metadata": {},
   "outputs": [
    {
     "data": {
      "text/plain": [
       "[{'name': '01H7AZNSA0TM847GXK5Y4VEA37.csv', 'container': 'uniswap-v3-pair-call-swap', 'snapshot': None, 'version_id': None, 'is_current_version': None, 'blob_type': <BlobType.BLOCKBLOB: 'BlockBlob'>, 'metadata': {}, 'encrypted_metadata': None, 'last_modified': datetime.datetime(2023, 8, 9, 14, 51, 32, tzinfo=datetime.timezone.utc), 'etag': '0x8DB98E81F3ADB3D', 'size': 192706097, 'content_range': None, 'append_blob_committed_block_count': None, 'is_append_blob_sealed': None, 'page_blob_sequence_number': None, 'server_encrypted': True, 'copy': {'id': None, 'source': None, 'status': None, 'progress': None, 'completion_time': None, 'status_description': None, 'incremental_copy': None, 'destination_snapshot': None}, 'content_settings': {'content_type': 'text/csv', 'content_encoding': None, 'content_language': None, 'content_md5': None, 'content_disposition': None, 'cache_control': None}, 'lease': {'status': 'unlocked', 'state': 'available', 'duration': None}, 'blob_tier': None, 'rehydrate_priority': None, 'blob_tier_change_time': None, 'blob_tier_inferred': None, 'deleted': None, 'deleted_time': None, 'remaining_retention_days': None, 'creation_time': datetime.datetime(2023, 8, 9, 14, 51, 32, tzinfo=datetime.timezone.utc), 'archive_status': None, 'encryption_key_sha256': None, 'encryption_scope': None, 'request_server_encrypted': None, 'object_replication_source_properties': [], 'object_replication_destination_policy': None, 'last_accessed_on': None, 'tag_count': None, 'tags': None, 'immutability_policy': {'expiry_time': None, 'policy_mode': None}, 'has_legal_hold': None, 'has_versions_only': None},\n",
       " {'name': '01H7B0AY41GB2Z2KN2SN993JMD.csv', 'container': 'uniswap-v3-pair-call-swap', 'snapshot': None, 'version_id': None, 'is_current_version': None, 'blob_type': <BlobType.BLOCKBLOB: 'BlockBlob'>, 'metadata': {}, 'encrypted_metadata': None, 'last_modified': datetime.datetime(2023, 8, 9, 14, 51, 32, tzinfo=datetime.timezone.utc), 'etag': '0x8DB98E81F13F823', 'size': 194033280, 'content_range': None, 'append_blob_committed_block_count': None, 'is_append_blob_sealed': None, 'page_blob_sequence_number': None, 'server_encrypted': True, 'copy': {'id': None, 'source': None, 'status': None, 'progress': None, 'completion_time': None, 'status_description': None, 'incremental_copy': None, 'destination_snapshot': None}, 'content_settings': {'content_type': 'text/csv', 'content_encoding': None, 'content_language': None, 'content_md5': None, 'content_disposition': None, 'cache_control': None}, 'lease': {'status': 'unlocked', 'state': 'available', 'duration': None}, 'blob_tier': None, 'rehydrate_priority': None, 'blob_tier_change_time': None, 'blob_tier_inferred': None, 'deleted': None, 'deleted_time': None, 'remaining_retention_days': None, 'creation_time': datetime.datetime(2023, 8, 9, 14, 51, 32, tzinfo=datetime.timezone.utc), 'archive_status': None, 'encryption_key_sha256': None, 'encryption_scope': None, 'request_server_encrypted': None, 'object_replication_source_properties': [], 'object_replication_destination_policy': None, 'last_accessed_on': None, 'tag_count': None, 'tags': None, 'immutability_policy': {'expiry_time': None, 'policy_mode': None}, 'has_legal_hold': None, 'has_versions_only': None},\n",
       " {'name': '01H7B0P9KADSNWF94JJS19F8D5.csv', 'container': 'uniswap-v3-pair-call-swap', 'snapshot': None, 'version_id': None, 'is_current_version': None, 'blob_type': <BlobType.BLOCKBLOB: 'BlockBlob'>, 'metadata': {}, 'encrypted_metadata': None, 'last_modified': datetime.datetime(2023, 8, 9, 14, 51, 31, tzinfo=datetime.timezone.utc), 'etag': '0x8DB98E81EA826FD', 'size': 174337261, 'content_range': None, 'append_blob_committed_block_count': None, 'is_append_blob_sealed': None, 'page_blob_sequence_number': None, 'server_encrypted': True, 'copy': {'id': None, 'source': None, 'status': None, 'progress': None, 'completion_time': None, 'status_description': None, 'incremental_copy': None, 'destination_snapshot': None}, 'content_settings': {'content_type': 'text/csv', 'content_encoding': None, 'content_language': None, 'content_md5': None, 'content_disposition': None, 'cache_control': None}, 'lease': {'status': 'unlocked', 'state': 'available', 'duration': None}, 'blob_tier': None, 'rehydrate_priority': None, 'blob_tier_change_time': None, 'blob_tier_inferred': None, 'deleted': None, 'deleted_time': None, 'remaining_retention_days': None, 'creation_time': datetime.datetime(2023, 8, 9, 14, 51, 31, tzinfo=datetime.timezone.utc), 'archive_status': None, 'encryption_key_sha256': None, 'encryption_scope': None, 'request_server_encrypted': None, 'object_replication_source_properties': [], 'object_replication_destination_policy': None, 'last_accessed_on': None, 'tag_count': None, 'tags': None, 'immutability_policy': {'expiry_time': None, 'policy_mode': None}, 'has_legal_hold': None, 'has_versions_only': None},\n",
       " {'name': '01H7B106N1PC1WCES6P68KV7CS.csv', 'container': 'uniswap-v3-pair-call-swap', 'snapshot': None, 'version_id': None, 'is_current_version': None, 'blob_type': <BlobType.BLOCKBLOB: 'BlockBlob'>, 'metadata': {}, 'encrypted_metadata': None, 'last_modified': datetime.datetime(2023, 8, 9, 14, 51, 31, tzinfo=datetime.timezone.utc), 'etag': '0x8DB98E81E7CD7A6', 'size': 172087844, 'content_range': None, 'append_blob_committed_block_count': None, 'is_append_blob_sealed': None, 'page_blob_sequence_number': None, 'server_encrypted': True, 'copy': {'id': None, 'source': None, 'status': None, 'progress': None, 'completion_time': None, 'status_description': None, 'incremental_copy': None, 'destination_snapshot': None}, 'content_settings': {'content_type': 'text/csv', 'content_encoding': None, 'content_language': None, 'content_md5': None, 'content_disposition': None, 'cache_control': None}, 'lease': {'status': 'unlocked', 'state': 'available', 'duration': None}, 'blob_tier': None, 'rehydrate_priority': None, 'blob_tier_change_time': None, 'blob_tier_inferred': None, 'deleted': None, 'deleted_time': None, 'remaining_retention_days': None, 'creation_time': datetime.datetime(2023, 8, 9, 14, 51, 31, tzinfo=datetime.timezone.utc), 'archive_status': None, 'encryption_key_sha256': None, 'encryption_scope': None, 'request_server_encrypted': None, 'object_replication_source_properties': [], 'object_replication_destination_policy': None, 'last_accessed_on': None, 'tag_count': None, 'tags': None, 'immutability_policy': {'expiry_time': None, 'policy_mode': None}, 'has_legal_hold': None, 'has_versions_only': None},\n",
       " {'name': '01H7B1E9D0ACEZYWM6P7P1EPB2.csv', 'container': 'uniswap-v3-pair-call-swap', 'snapshot': None, 'version_id': None, 'is_current_version': None, 'blob_type': <BlobType.BLOCKBLOB: 'BlockBlob'>, 'metadata': {}, 'encrypted_metadata': None, 'last_modified': datetime.datetime(2023, 8, 9, 14, 51, 5, tzinfo=datetime.timezone.utc), 'etag': '0x8DB98E80F45669D', 'size': 172020033, 'content_range': None, 'append_blob_committed_block_count': None, 'is_append_blob_sealed': None, 'page_blob_sequence_number': None, 'server_encrypted': True, 'copy': {'id': None, 'source': None, 'status': None, 'progress': None, 'completion_time': None, 'status_description': None, 'incremental_copy': None, 'destination_snapshot': None}, 'content_settings': {'content_type': 'text/csv', 'content_encoding': None, 'content_language': None, 'content_md5': None, 'content_disposition': None, 'cache_control': None}, 'lease': {'status': 'unlocked', 'state': 'available', 'duration': None}, 'blob_tier': None, 'rehydrate_priority': None, 'blob_tier_change_time': None, 'blob_tier_inferred': None, 'deleted': None, 'deleted_time': None, 'remaining_retention_days': None, 'creation_time': datetime.datetime(2023, 8, 9, 14, 51, 5, tzinfo=datetime.timezone.utc), 'archive_status': None, 'encryption_key_sha256': None, 'encryption_scope': None, 'request_server_encrypted': None, 'object_replication_source_properties': [], 'object_replication_destination_policy': None, 'last_accessed_on': None, 'tag_count': None, 'tags': None, 'immutability_policy': {'expiry_time': None, 'policy_mode': None}, 'has_legal_hold': None, 'has_versions_only': None},\n",
       " {'name': '01H7B1Y78C0MVZQGE82AFBZR0B.csv', 'container': 'uniswap-v3-pair-call-swap', 'snapshot': None, 'version_id': None, 'is_current_version': None, 'blob_type': <BlobType.BLOCKBLOB: 'BlockBlob'>, 'metadata': {}, 'encrypted_metadata': None, 'last_modified': datetime.datetime(2023, 8, 9, 14, 51, 5, tzinfo=datetime.timezone.utc), 'etag': '0x8DB98E80F34C750', 'size': 172325691, 'content_range': None, 'append_blob_committed_block_count': None, 'is_append_blob_sealed': None, 'page_blob_sequence_number': None, 'server_encrypted': True, 'copy': {'id': None, 'source': None, 'status': None, 'progress': None, 'completion_time': None, 'status_description': None, 'incremental_copy': None, 'destination_snapshot': None}, 'content_settings': {'content_type': 'text/csv', 'content_encoding': None, 'content_language': None, 'content_md5': None, 'content_disposition': None, 'cache_control': None}, 'lease': {'status': 'unlocked', 'state': 'available', 'duration': None}, 'blob_tier': None, 'rehydrate_priority': None, 'blob_tier_change_time': None, 'blob_tier_inferred': None, 'deleted': None, 'deleted_time': None, 'remaining_retention_days': None, 'creation_time': datetime.datetime(2023, 8, 9, 14, 51, 5, tzinfo=datetime.timezone.utc), 'archive_status': None, 'encryption_key_sha256': None, 'encryption_scope': None, 'request_server_encrypted': None, 'object_replication_source_properties': [], 'object_replication_destination_policy': None, 'last_accessed_on': None, 'tag_count': None, 'tags': None, 'immutability_policy': {'expiry_time': None, 'policy_mode': None}, 'has_legal_hold': None, 'has_versions_only': None},\n",
       " {'name': '01H7B2B2EWPKN603EV1KZNTAYK.csv', 'container': 'uniswap-v3-pair-call-swap', 'snapshot': None, 'version_id': None, 'is_current_version': None, 'blob_type': <BlobType.BLOCKBLOB: 'BlockBlob'>, 'metadata': {}, 'encrypted_metadata': None, 'last_modified': datetime.datetime(2023, 8, 9, 14, 51, 5, tzinfo=datetime.timezone.utc), 'etag': '0x8DB98E80F19C944', 'size': 174497693, 'content_range': None, 'append_blob_committed_block_count': None, 'is_append_blob_sealed': None, 'page_blob_sequence_number': None, 'server_encrypted': True, 'copy': {'id': None, 'source': None, 'status': None, 'progress': None, 'completion_time': None, 'status_description': None, 'incremental_copy': None, 'destination_snapshot': None}, 'content_settings': {'content_type': 'text/csv', 'content_encoding': None, 'content_language': None, 'content_md5': None, 'content_disposition': None, 'cache_control': None}, 'lease': {'status': 'unlocked', 'state': 'available', 'duration': None}, 'blob_tier': None, 'rehydrate_priority': None, 'blob_tier_change_time': None, 'blob_tier_inferred': None, 'deleted': None, 'deleted_time': None, 'remaining_retention_days': None, 'creation_time': datetime.datetime(2023, 8, 9, 14, 51, 5, tzinfo=datetime.timezone.utc), 'archive_status': None, 'encryption_key_sha256': None, 'encryption_scope': None, 'request_server_encrypted': None, 'object_replication_source_properties': [], 'object_replication_destination_policy': None, 'last_accessed_on': None, 'tag_count': None, 'tags': None, 'immutability_policy': {'expiry_time': None, 'policy_mode': None}, 'has_legal_hold': None, 'has_versions_only': None},\n",
       " {'name': '01H7B2J3M7M35KRR8AFGTCFTKE.csv', 'container': 'uniswap-v3-pair-call-swap', 'snapshot': None, 'version_id': None, 'is_current_version': None, 'blob_type': <BlobType.BLOCKBLOB: 'BlockBlob'>, 'metadata': {}, 'encrypted_metadata': None, 'last_modified': datetime.datetime(2023, 8, 9, 14, 51, 5, tzinfo=datetime.timezone.utc), 'etag': '0x8DB98E80EEFB24B', 'size': 175955367, 'content_range': None, 'append_blob_committed_block_count': None, 'is_append_blob_sealed': None, 'page_blob_sequence_number': None, 'server_encrypted': True, 'copy': {'id': None, 'source': None, 'status': None, 'progress': None, 'completion_time': None, 'status_description': None, 'incremental_copy': None, 'destination_snapshot': None}, 'content_settings': {'content_type': 'text/csv', 'content_encoding': None, 'content_language': None, 'content_md5': None, 'content_disposition': None, 'cache_control': None}, 'lease': {'status': 'unlocked', 'state': 'available', 'duration': None}, 'blob_tier': None, 'rehydrate_priority': None, 'blob_tier_change_time': None, 'blob_tier_inferred': None, 'deleted': None, 'deleted_time': None, 'remaining_retention_days': None, 'creation_time': datetime.datetime(2023, 8, 9, 14, 51, 5, tzinfo=datetime.timezone.utc), 'archive_status': None, 'encryption_key_sha256': None, 'encryption_scope': None, 'request_server_encrypted': None, 'object_replication_source_properties': [], 'object_replication_destination_policy': None, 'last_accessed_on': None, 'tag_count': None, 'tags': None, 'immutability_policy': {'expiry_time': None, 'policy_mode': None}, 'has_legal_hold': None, 'has_versions_only': None},\n",
       " {'name': '01H7B2W171JGMZ013ACWMT76P7.csv', 'container': 'uniswap-v3-pair-call-swap', 'snapshot': None, 'version_id': None, 'is_current_version': None, 'blob_type': <BlobType.BLOCKBLOB: 'BlockBlob'>, 'metadata': {}, 'encrypted_metadata': None, 'last_modified': datetime.datetime(2023, 8, 9, 14, 51, 5, tzinfo=datetime.timezone.utc), 'etag': '0x8DB98E80ED8F95A', 'size': 176962190, 'content_range': None, 'append_blob_committed_block_count': None, 'is_append_blob_sealed': None, 'page_blob_sequence_number': None, 'server_encrypted': True, 'copy': {'id': None, 'source': None, 'status': None, 'progress': None, 'completion_time': None, 'status_description': None, 'incremental_copy': None, 'destination_snapshot': None}, 'content_settings': {'content_type': 'text/csv', 'content_encoding': None, 'content_language': None, 'content_md5': None, 'content_disposition': None, 'cache_control': None}, 'lease': {'status': 'unlocked', 'state': 'available', 'duration': None}, 'blob_tier': None, 'rehydrate_priority': None, 'blob_tier_change_time': None, 'blob_tier_inferred': None, 'deleted': None, 'deleted_time': None, 'remaining_retention_days': None, 'creation_time': datetime.datetime(2023, 8, 9, 14, 51, 5, tzinfo=datetime.timezone.utc), 'archive_status': None, 'encryption_key_sha256': None, 'encryption_scope': None, 'request_server_encrypted': None, 'object_replication_source_properties': [], 'object_replication_destination_policy': None, 'last_accessed_on': None, 'tag_count': None, 'tags': None, 'immutability_policy': {'expiry_time': None, 'policy_mode': None}, 'has_legal_hold': None, 'has_versions_only': None}]"
      ]
     },
     "execution_count": 7,
     "metadata": {},
     "output_type": "execute_result"
    }
   ],
   "source": [
    "blob_service_client = BlobServiceClient.from_connection_string(blobstorage_uri)\n",
    "\n",
    "container_name = \"uniswap-v3-pair-call-swap\"\n",
    "container_client = blob_service_client.get_container_client(container_name)\n",
    "\n",
    "list(container_client.list_blobs())"
   ]
  },
  {
   "cell_type": "code",
   "execution_count": 16,
   "metadata": {},
   "outputs": [
    {
     "name": "stderr",
     "output_type": "stream",
     "text": [
      "100%|██████████| 9/9 [02:09<00:00, 14.41s/it]"
     ]
    },
    {
     "name": "stdout",
     "output_type": "stream",
     "text": [
      "(2761006, 13)\n"
     ]
    },
    {
     "name": "stderr",
     "output_type": "stream",
     "text": [
      "\n"
     ]
    },
    {
     "data": {
      "text/html": [
       "<div>\n",
       "<style scoped>\n",
       "    .dataframe tbody tr th:only-of-type {\n",
       "        vertical-align: middle;\n",
       "    }\n",
       "\n",
       "    .dataframe tbody tr th {\n",
       "        vertical-align: top;\n",
       "    }\n",
       "\n",
       "    .dataframe thead th {\n",
       "        text-align: right;\n",
       "    }\n",
       "</style>\n",
       "<table border=\"1\" class=\"dataframe\">\n",
       "  <thead>\n",
       "    <tr style=\"text-align: right;\">\n",
       "      <th></th>\n",
       "      <th>contract_address</th>\n",
       "      <th>call_success</th>\n",
       "      <th>call_tx_hash</th>\n",
       "      <th>call_trace_address</th>\n",
       "      <th>call_block_time</th>\n",
       "      <th>call_block_number</th>\n",
       "      <th>amountSpecified</th>\n",
       "      <th>data</th>\n",
       "      <th>output_amount0</th>\n",
       "      <th>output_amount1</th>\n",
       "      <th>recipient</th>\n",
       "      <th>sqrtPriceLimitX96</th>\n",
       "      <th>zeroForOne</th>\n",
       "    </tr>\n",
       "  </thead>\n",
       "  <tbody>\n",
       "    <tr>\n",
       "      <th>0</th>\n",
       "      <td>0xabd055069a6b04db7d1547f88dd01cf14ff09cfd</td>\n",
       "      <td>True</td>\n",
       "      <td>0x0d0c1e9262a6c2523a8c663da2d6832142d49684a189...</td>\n",
       "      <td>[0]</td>\n",
       "      <td>2023-08-08 16:25:11.000 UTC</td>\n",
       "      <td>17871378.0</td>\n",
       "      <td>9059324407173505842245</td>\n",
       "      <td>0x00000000000000000000000000000000000000000000...</td>\n",
       "      <td>9059324407173505842245</td>\n",
       "      <td>-266149977598488744</td>\n",
       "      <td>0x3fc91a3afd70395cd496c647d5a6cc9d4b2b7fad</td>\n",
       "      <td>4295128740</td>\n",
       "      <td>True</td>\n",
       "    </tr>\n",
       "    <tr>\n",
       "      <th>1</th>\n",
       "      <td>0xe566e99d65b17974fd9db02e25e24ea8020f7a0e</td>\n",
       "      <td>True</td>\n",
       "      <td>0xd573c5d225343dbfcd5eaed7a3adde15a41ed09c7d63...</td>\n",
       "      <td>[1 0 0 0]</td>\n",
       "      <td>2023-08-08 16:25:11.000 UTC</td>\n",
       "      <td>17871378.0</td>\n",
       "      <td>1000000000000000000000000</td>\n",
       "      <td>0x000000000000000000000000cdf7028ceab81fa0c697...</td>\n",
       "      <td>-80249553</td>\n",
       "      <td>1000000000000000000000000</td>\n",
       "      <td>0x655edce464cc797526600a462a8154650eee4b77</td>\n",
       "      <td>1461446703485210103287273052203988822378723970341</td>\n",
       "      <td>False</td>\n",
       "    </tr>\n",
       "    <tr>\n",
       "      <th>2</th>\n",
       "      <td>0x60594a405d53811d3bc4766596efd80fd545a270</td>\n",
       "      <td>True</td>\n",
       "      <td>0xd395030f2d3649d9b893fc7778a2c340c48fa37772dc...</td>\n",
       "      <td>[1]</td>\n",
       "      <td>2023-08-08 16:25:11.000 UTC</td>\n",
       "      <td>17871378.0</td>\n",
       "      <td>100000000000000000000</td>\n",
       "      <td>0x00000000000000000000000000000000000000000000...</td>\n",
       "      <td>100000000000000000000</td>\n",
       "      <td>-54220858765559472</td>\n",
       "      <td>0x5f1972c05f96f670e105ffb5b1b2a6736abab1e3</td>\n",
       "      <td>4295128740</td>\n",
       "      <td>True</td>\n",
       "    </tr>\n",
       "    <tr>\n",
       "      <th>3</th>\n",
       "      <td>0xa80838d2bb3d6ebaed1978fa23b38f91775d8378</td>\n",
       "      <td>True</td>\n",
       "      <td>0x562f63847b88fd85a1450e9a4d7fcd2eda9ce8e17f89...</td>\n",
       "      <td>[8]</td>\n",
       "      <td>2023-08-08 16:25:11.000 UTC</td>\n",
       "      <td>17871378.0</td>\n",
       "      <td>68918171301562960</td>\n",
       "      <td>0x00000000000000000000000000000000000000000000...</td>\n",
       "      <td>-191535322390282127469</td>\n",
       "      <td>68918171301562960</td>\n",
       "      <td>0xe9e5be2be1a4dd1e792ed7a89b0c7edd75aec743</td>\n",
       "      <td>1461446703485210103287273052203988822378723970341</td>\n",
       "      <td>False</td>\n",
       "    </tr>\n",
       "    <tr>\n",
       "      <th>4</th>\n",
       "      <td>0x9b6aa9a920d67413c030cd8add4c66021a733910</td>\n",
       "      <td>True</td>\n",
       "      <td>0x1759c94915a453caef644c3914b9a996882a66bf8b33...</td>\n",
       "      <td>[2]</td>\n",
       "      <td>2023-08-08 16:25:11.000 UTC</td>\n",
       "      <td>17871378.0</td>\n",
       "      <td>61613429920162908832035680</td>\n",
       "      <td>0x000000000000000000000000e4c9725db696982afb58...</td>\n",
       "      <td>-1994909894777407768</td>\n",
       "      <td>61613429920162908832035680</td>\n",
       "      <td>0x827179dd56d07a7eea32e3873493835da2866976</td>\n",
       "      <td>1461446703485210103287273052203988822378723970341</td>\n",
       "      <td>False</td>\n",
       "    </tr>\n",
       "  </tbody>\n",
       "</table>\n",
       "</div>"
      ],
      "text/plain": [
       "                             contract_address  call_success  \\\n",
       "0  0xabd055069a6b04db7d1547f88dd01cf14ff09cfd          True   \n",
       "1  0xe566e99d65b17974fd9db02e25e24ea8020f7a0e          True   \n",
       "2  0x60594a405d53811d3bc4766596efd80fd545a270          True   \n",
       "3  0xa80838d2bb3d6ebaed1978fa23b38f91775d8378          True   \n",
       "4  0x9b6aa9a920d67413c030cd8add4c66021a733910          True   \n",
       "\n",
       "                                        call_tx_hash call_trace_address  \\\n",
       "0  0x0d0c1e9262a6c2523a8c663da2d6832142d49684a189...                [0]   \n",
       "1  0xd573c5d225343dbfcd5eaed7a3adde15a41ed09c7d63...          [1 0 0 0]   \n",
       "2  0xd395030f2d3649d9b893fc7778a2c340c48fa37772dc...                [1]   \n",
       "3  0x562f63847b88fd85a1450e9a4d7fcd2eda9ce8e17f89...                [8]   \n",
       "4  0x1759c94915a453caef644c3914b9a996882a66bf8b33...                [2]   \n",
       "\n",
       "               call_block_time  call_block_number             amountSpecified  \\\n",
       "0  2023-08-08 16:25:11.000 UTC         17871378.0      9059324407173505842245   \n",
       "1  2023-08-08 16:25:11.000 UTC         17871378.0   1000000000000000000000000   \n",
       "2  2023-08-08 16:25:11.000 UTC         17871378.0       100000000000000000000   \n",
       "3  2023-08-08 16:25:11.000 UTC         17871378.0           68918171301562960   \n",
       "4  2023-08-08 16:25:11.000 UTC         17871378.0  61613429920162908832035680   \n",
       "\n",
       "                                                data          output_amount0  \\\n",
       "0  0x00000000000000000000000000000000000000000000...  9059324407173505842245   \n",
       "1  0x000000000000000000000000cdf7028ceab81fa0c697...               -80249553   \n",
       "2  0x00000000000000000000000000000000000000000000...   100000000000000000000   \n",
       "3  0x00000000000000000000000000000000000000000000...  -191535322390282127469   \n",
       "4  0x000000000000000000000000e4c9725db696982afb58...    -1994909894777407768   \n",
       "\n",
       "               output_amount1                                   recipient  \\\n",
       "0         -266149977598488744  0x3fc91a3afd70395cd496c647d5a6cc9d4b2b7fad   \n",
       "1   1000000000000000000000000  0x655edce464cc797526600a462a8154650eee4b77   \n",
       "2          -54220858765559472  0x5f1972c05f96f670e105ffb5b1b2a6736abab1e3   \n",
       "3           68918171301562960  0xe9e5be2be1a4dd1e792ed7a89b0c7edd75aec743   \n",
       "4  61613429920162908832035680  0x827179dd56d07a7eea32e3873493835da2866976   \n",
       "\n",
       "                                   sqrtPriceLimitX96  zeroForOne  \n",
       "0                                         4295128740        True  \n",
       "1  1461446703485210103287273052203988822378723970341       False  \n",
       "2                                         4295128740        True  \n",
       "3  1461446703485210103287273052203988822378723970341       False  \n",
       "4  1461446703485210103287273052203988822378723970341       False  "
      ]
     },
     "execution_count": 16,
     "metadata": {},
     "output_type": "execute_result"
    }
   ],
   "source": [
    "df_all = None\n",
    "\n",
    "\n",
    "for blob in tqdm(list(container_client.list_blobs())):\n",
    "    assert blob and blob.name\n",
    "\n",
    "    if blob.name.endswith('.csv'):\n",
    "\n",
    "        # download the blob to memory\n",
    "        blob_bytes = container_client.download_blob(blob).readall()\n",
    "\n",
    "        # convert the blob to a dataframe\n",
    "        df = pd.read_csv(io.BytesIO(blob_bytes), encoding='utf-8')\n",
    "\n",
    "        # append the dataframe to the master dataframe\n",
    "        if df_all is None:\n",
    "            df_all = df\n",
    "        else:\n",
    "            df_all = pd.concat([df_all, df], ignore_index=True, axis=0)\n",
    "\n",
    "assert df_all is not None\n",
    "\n",
    "print(df_all.shape)\n",
    "\n",
    "df_all.head()"
   ]
  },
  {
   "cell_type": "code",
   "execution_count": 22,
   "metadata": {},
   "outputs": [
    {
     "name": "stdout",
     "output_type": "stream",
     "text": [
      "(2698106, 12)\n"
     ]
    },
    {
     "data": {
      "text/plain": [
       "contract_address       object\n",
       "call_success             bool\n",
       "call_tx_hash           object\n",
       "call_trace_address     object\n",
       "call_block_time        object\n",
       "call_block_number     float64\n",
       "amountSpecified        object\n",
       "output_amount0         object\n",
       "output_amount1         object\n",
       "recipient              object\n",
       "sqrtPriceLimitX96      object\n",
       "zeroForOne               bool\n",
       "dtype: object"
      ]
     },
     "execution_count": 22,
     "metadata": {},
     "output_type": "execute_result"
    }
   ],
   "source": [
    "df_all = df_all.drop_duplicates(keep='first').drop(columns=['data'])\n",
    "\n",
    "print(df_all.shape)\n",
    "\n",
    "df_all.dtypes"
   ]
  },
  {
   "cell_type": "code",
   "execution_count": 23,
   "metadata": {},
   "outputs": [
    {
     "data": {
      "text/plain": [
       "contract_address                   object\n",
       "call_success                         bool\n",
       "call_tx_hash                       object\n",
       "call_trace_address                 object\n",
       "call_block_time       datetime64[ns, UTC]\n",
       "call_block_number                   int64\n",
       "amountSpecified                    object\n",
       "output_amount0                     object\n",
       "output_amount1                     object\n",
       "recipient                          object\n",
       "sqrtPriceLimitX96                  object\n",
       "zeroForOne                           bool\n",
       "dtype: object"
      ]
     },
     "execution_count": 23,
     "metadata": {},
     "output_type": "execute_result"
    }
   ],
   "source": [
    "# Convert dtypes: call_block_time -> datetime w/ timezone, call_block_number -> int64\n",
    "df_all = df_all.astype({'call_block_time': 'datetime64[ns, UTC]', 'call_block_number': 'int64'})\n",
    "\n",
    "df_all.dtypes"
   ]
  },
  {
   "cell_type": "code",
   "execution_count": 35,
   "metadata": {},
   "outputs": [
    {
     "data": {
      "text/plain": [
       "(1968632,)"
      ]
     },
     "execution_count": 35,
     "metadata": {},
     "output_type": "execute_result"
    }
   ],
   "source": [
    "# Check if any column contains duplicate values\n",
    "df_counts = df_all.groupby(\"call_tx_hash\").count().sort_values(by=\"contract_address\", ascending=False)\n",
    "\n",
    "single_swap_txs = df_counts[df_counts[\"contract_address\"] == 1].index.values\n",
    "\n",
    "single_swap_txs.shape"
   ]
  },
  {
   "cell_type": "code",
   "execution_count": 37,
   "metadata": {},
   "outputs": [
    {
     "data": {
      "text/plain": [
       "(1968632, 12)"
      ]
     },
     "execution_count": 37,
     "metadata": {},
     "output_type": "execute_result"
    }
   ],
   "source": [
    "df_valid = df_all[df_all.call_tx_hash.isin(single_swap_txs)]\n",
    "\n",
    "df_valid.shape"
   ]
  },
  {
   "cell_type": "code",
   "execution_count": 38,
   "metadata": {},
   "outputs": [
    {
     "data": {
      "text/plain": [
       "1968632"
      ]
     },
     "execution_count": 38,
     "metadata": {},
     "output_type": "execute_result"
    }
   ],
   "source": [
    "# Create a connection to PostgreSQL\n",
    "engine = create_engine(postgres_uri)\n",
    "\n",
    "# Create the table\n",
    "df_valid.to_sql(\"swap_limit_price\", engine, if_exists='replace', index=False, chunksize=1000,)\n"
   ]
  },
  {
   "cell_type": "code",
   "execution_count": null,
   "metadata": {},
   "outputs": [],
   "source": []
  }
 ],
 "metadata": {
  "kernelspec": {
   "display_name": "venv",
   "language": "python",
   "name": "python3"
  },
  "language_info": {
   "codemirror_mode": {
    "name": "ipython",
    "version": 3
   },
   "file_extension": ".py",
   "mimetype": "text/x-python",
   "name": "python",
   "nbconvert_exporter": "python",
   "pygments_lexer": "ipython3",
   "version": "3.11.4"
  },
  "orig_nbformat": 4
 },
 "nbformat": 4,
 "nbformat_minor": 2
}
