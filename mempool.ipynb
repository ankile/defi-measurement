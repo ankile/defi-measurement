{
 "cells": [
  {
   "cell_type": "code",
   "execution_count": 2,
   "metadata": {},
   "outputs": [],
   "source": [
    "import keyring\n",
    "\n",
    "import pymongo\n",
    "import pymongoarrow.monkey\n",
    "from pymongoarrow.api import Schema\n",
    "import pyarrow as pa\n",
    "\n",
    "from datetime import datetime"
   ]
  },
  {
   "cell_type": "code",
   "execution_count": 3,
   "metadata": {},
   "outputs": [],
   "source": [
    "MDB_URI = keyring.get_password(\"system\", \"MONGO_CONNECTION_STRING\")"
   ]
  },
  {
   "cell_type": "code",
   "execution_count": 4,
   "metadata": {},
   "outputs": [],
   "source": [
    "# Add extra find_* methods to pymongo collection objects:\n",
    "pymongoarrow.monkey.patch_all()\n",
    "\n",
    "client = pymongo.MongoClient(MDB_URI)\n",
    "database = client.get_database(\"transactions\")\n",
    "collection = database.get_collection(\"mempool\")"
   ]
  },
  {
   "cell_type": "code",
   "execution_count": 10,
   "metadata": {},
   "outputs": [
    {
     "data": {
      "text/plain": [
       "{'_id': ObjectId('648ce10f18e0fbc3c3482f75'),\n",
       " 'hash': '0x303936c1821da2e23c08fe2171947028ac394fe6d7eb5338d2643365a867b348',\n",
       " 'type': 2,\n",
       " 'accessList': [],\n",
       " 'blockHash': None,\n",
       " 'blockNumber': None,\n",
       " 'transactionIndex': None,\n",
       " 'confirmations': 0,\n",
       " 'from': '0x4899951FFa90d493c58DC1db8760f15c8Ed2873A',\n",
       " 'gasPrice': 30.998999649,\n",
       " 'maxPriorityFeePerGas': {'_hex': '0xb2d05e00', '_isBigNumber': True},\n",
       " 'maxFeePerGas': {'_hex': '0x0737af3261', '_isBigNumber': True},\n",
       " 'gasLimit': 361022,\n",
       " 'to': '0x7a250d5630B4cF539739dF2C5dAcb4c659F2488D',\n",
       " 'value': {'_hex': '0x7c585087238004', '_isBigNumber': True},\n",
       " 'nonce': 5,\n",
       " 'data': '0xb6f9de95000000000000000000000000000000000000000000000000000000000000000000000000000000000000000000000000000000000000000000000000000000800000000000000000000000004899951ffa90d493c58dc1db8760f15c8ed2873a00000000000000000000000000000000000000000000000000000000648ce1850000000000000000000000000000000000000000000000000000000000000002000000000000000000000000c02aaa39b223fe8d0a0e5c4f27ead9083c756cc20000000000000000000000002fbed9912927c41e805e2070f4725d10a23f65cb',\n",
       " 'r': '0x3ec77096015513173f748789efa07e133cb6e8d5fc33a6c72872fc43b768be7f',\n",
       " 's': '0x72c6022d23e8b61229dbce344da3d96a6d5a4b36c99cf1c0e335866523936580',\n",
       " 'v': 1,\n",
       " 'creates': None,\n",
       " 'chainId': 1,\n",
       " 'uniswapVersion': 'v2',\n",
       " 'timestamp': 1686954255202.0,\n",
       " 'formattedDate': '2023-06-16T22:24:15.202Z',\n",
       " 'gasPriceRaw': {'_hex': '0x0737af3261', '_isBigNumber': True},\n",
       " 'gasLimitRaw': {'_hex': '0x05823e', '_isBigNumber': True}}"
      ]
     },
     "execution_count": 10,
     "metadata": {},
     "output_type": "execute_result"
    }
   ],
   "source": [
    "collection.find_one()"
   ]
  },
  {
   "cell_type": "code",
   "execution_count": 18,
   "metadata": {},
   "outputs": [
    {
     "data": {
      "text/html": [
       "<div>\n",
       "<style scoped>\n",
       "    .dataframe tbody tr th:only-of-type {\n",
       "        vertical-align: middle;\n",
       "    }\n",
       "\n",
       "    .dataframe tbody tr th {\n",
       "        vertical-align: top;\n",
       "    }\n",
       "\n",
       "    .dataframe thead th {\n",
       "        text-align: right;\n",
       "    }\n",
       "</style>\n",
       "<table border=\"1\" class=\"dataframe\">\n",
       "  <thead>\n",
       "    <tr style=\"text-align: right;\">\n",
       "      <th></th>\n",
       "      <th>_id</th>\n",
       "      <th>timestamp</th>\n",
       "      <th>gasPrice</th>\n",
       "    </tr>\n",
       "  </thead>\n",
       "  <tbody>\n",
       "    <tr>\n",
       "      <th>0</th>\n",
       "      <td>None</td>\n",
       "      <td>NaT</td>\n",
       "      <td>30.999000</td>\n",
       "    </tr>\n",
       "    <tr>\n",
       "      <th>1</th>\n",
       "      <td>None</td>\n",
       "      <td>NaT</td>\n",
       "      <td>30.603247</td>\n",
       "    </tr>\n",
       "    <tr>\n",
       "      <th>2</th>\n",
       "      <td>None</td>\n",
       "      <td>NaT</td>\n",
       "      <td>30.999000</td>\n",
       "    </tr>\n",
       "    <tr>\n",
       "      <th>3</th>\n",
       "      <td>None</td>\n",
       "      <td>NaT</td>\n",
       "      <td>30.603247</td>\n",
       "    </tr>\n",
       "    <tr>\n",
       "      <th>4</th>\n",
       "      <td>None</td>\n",
       "      <td>NaT</td>\n",
       "      <td>30.999000</td>\n",
       "    </tr>\n",
       "    <tr>\n",
       "      <th>...</th>\n",
       "      <td>...</td>\n",
       "      <td>...</td>\n",
       "      <td>...</td>\n",
       "    </tr>\n",
       "    <tr>\n",
       "      <th>64484</th>\n",
       "      <td>None</td>\n",
       "      <td>NaT</td>\n",
       "      <td>8.576287</td>\n",
       "    </tr>\n",
       "    <tr>\n",
       "      <th>64485</th>\n",
       "      <td>None</td>\n",
       "      <td>NaT</td>\n",
       "      <td>9.000000</td>\n",
       "    </tr>\n",
       "    <tr>\n",
       "      <th>64486</th>\n",
       "      <td>None</td>\n",
       "      <td>NaT</td>\n",
       "      <td>10.000000</td>\n",
       "    </tr>\n",
       "    <tr>\n",
       "      <th>64487</th>\n",
       "      <td>None</td>\n",
       "      <td>NaT</td>\n",
       "      <td>10.000000</td>\n",
       "    </tr>\n",
       "    <tr>\n",
       "      <th>64488</th>\n",
       "      <td>None</td>\n",
       "      <td>NaT</td>\n",
       "      <td>16.760000</td>\n",
       "    </tr>\n",
       "  </tbody>\n",
       "</table>\n",
       "<p>64489 rows × 3 columns</p>\n",
       "</div>"
      ],
      "text/plain": [
       "        _id timestamp   gasPrice\n",
       "0      None       NaT  30.999000\n",
       "1      None       NaT  30.603247\n",
       "2      None       NaT  30.999000\n",
       "3      None       NaT  30.603247\n",
       "4      None       NaT  30.999000\n",
       "...     ...       ...        ...\n",
       "64484  None       NaT   8.576287\n",
       "64485  None       NaT   9.000000\n",
       "64486  None       NaT  10.000000\n",
       "64487  None       NaT  10.000000\n",
       "64488  None       NaT  16.760000\n",
       "\n",
       "[64489 rows x 3 columns]"
      ]
     },
     "execution_count": 18,
     "metadata": {},
     "output_type": "execute_result"
    }
   ],
   "source": [
    "schema = Schema({\n",
    "    \"_id\": str,\n",
    "    \"timestamp\": pa.timestamp(\"ms\"),\n",
    "    \"gasPrice\": float,\n",
    "})\n",
    "\n",
    "collection.find_pandas_all(\n",
    "    {\"gasPrice\": {\"$gt\": 0}},\n",
    "    schema=schema,\n",
    ")"
   ]
  },
  {
   "cell_type": "code",
   "execution_count": 24,
   "metadata": {},
   "outputs": [],
   "source": [
    "from pymongoarrow.api import Schema\n",
    "import pandas as pd\n",
    "\n",
    "schema = Schema({\n",
    "    \"_id\": str,\n",
    "    \"timestamp\": float,\n",
    "    \"gasPrice\": float,\n",
    "})\n",
    "\n",
    "df = collection.find_pandas_all({\"gasPrice\": {\"$gt\": 0}}, schema=schema)\n",
    "\n",
    "# Convert the float timestamp to datetime\n",
    "df['timestamp'] = pd.to_datetime(df['timestamp'], unit='ms')\n"
   ]
  },
  {
   "cell_type": "code",
   "execution_count": 25,
   "metadata": {},
   "outputs": [
    {
     "data": {
      "text/html": [
       "<div>\n",
       "<style scoped>\n",
       "    .dataframe tbody tr th:only-of-type {\n",
       "        vertical-align: middle;\n",
       "    }\n",
       "\n",
       "    .dataframe tbody tr th {\n",
       "        vertical-align: top;\n",
       "    }\n",
       "\n",
       "    .dataframe thead th {\n",
       "        text-align: right;\n",
       "    }\n",
       "</style>\n",
       "<table border=\"1\" class=\"dataframe\">\n",
       "  <thead>\n",
       "    <tr style=\"text-align: right;\">\n",
       "      <th></th>\n",
       "      <th>_id</th>\n",
       "      <th>timestamp</th>\n",
       "      <th>gasPrice</th>\n",
       "    </tr>\n",
       "  </thead>\n",
       "  <tbody>\n",
       "    <tr>\n",
       "      <th>0</th>\n",
       "      <td>None</td>\n",
       "      <td>2023-06-16 22:24:15.201999872</td>\n",
       "      <td>30.999000</td>\n",
       "    </tr>\n",
       "    <tr>\n",
       "      <th>1</th>\n",
       "      <td>None</td>\n",
       "      <td>2023-06-16 22:24:15.191000064</td>\n",
       "      <td>30.603247</td>\n",
       "    </tr>\n",
       "    <tr>\n",
       "      <th>2</th>\n",
       "      <td>None</td>\n",
       "      <td>2023-06-16 22:24:15.132999936</td>\n",
       "      <td>30.999000</td>\n",
       "    </tr>\n",
       "    <tr>\n",
       "      <th>3</th>\n",
       "      <td>None</td>\n",
       "      <td>2023-06-16 22:24:16.993999872</td>\n",
       "      <td>30.603247</td>\n",
       "    </tr>\n",
       "    <tr>\n",
       "      <th>4</th>\n",
       "      <td>None</td>\n",
       "      <td>2023-06-16 22:24:15.204999936</td>\n",
       "      <td>30.999000</td>\n",
       "    </tr>\n",
       "    <tr>\n",
       "      <th>...</th>\n",
       "      <td>...</td>\n",
       "      <td>...</td>\n",
       "      <td>...</td>\n",
       "    </tr>\n",
       "    <tr>\n",
       "      <th>64990</th>\n",
       "      <td>None</td>\n",
       "      <td>2023-06-19 21:14:17.736999936</td>\n",
       "      <td>17.678750</td>\n",
       "    </tr>\n",
       "    <tr>\n",
       "      <th>64991</th>\n",
       "      <td>None</td>\n",
       "      <td>2023-06-19 21:14:19.675000064</td>\n",
       "      <td>18.000000</td>\n",
       "    </tr>\n",
       "    <tr>\n",
       "      <th>64992</th>\n",
       "      <td>None</td>\n",
       "      <td>2023-06-19 21:14:23.163000064</td>\n",
       "      <td>18.469492</td>\n",
       "    </tr>\n",
       "    <tr>\n",
       "      <th>64993</th>\n",
       "      <td>None</td>\n",
       "      <td>2023-06-19 21:14:25.440999936</td>\n",
       "      <td>10.000000</td>\n",
       "    </tr>\n",
       "    <tr>\n",
       "      <th>64994</th>\n",
       "      <td>None</td>\n",
       "      <td>2023-06-19 21:14:26.551000064</td>\n",
       "      <td>24.685735</td>\n",
       "    </tr>\n",
       "  </tbody>\n",
       "</table>\n",
       "<p>64995 rows × 3 columns</p>\n",
       "</div>"
      ],
      "text/plain": [
       "        _id                     timestamp   gasPrice\n",
       "0      None 2023-06-16 22:24:15.201999872  30.999000\n",
       "1      None 2023-06-16 22:24:15.191000064  30.603247\n",
       "2      None 2023-06-16 22:24:15.132999936  30.999000\n",
       "3      None 2023-06-16 22:24:16.993999872  30.603247\n",
       "4      None 2023-06-16 22:24:15.204999936  30.999000\n",
       "...     ...                           ...        ...\n",
       "64990  None 2023-06-19 21:14:17.736999936  17.678750\n",
       "64991  None 2023-06-19 21:14:19.675000064  18.000000\n",
       "64992  None 2023-06-19 21:14:23.163000064  18.469492\n",
       "64993  None 2023-06-19 21:14:25.440999936  10.000000\n",
       "64994  None 2023-06-19 21:14:26.551000064  24.685735\n",
       "\n",
       "[64995 rows x 3 columns]"
      ]
     },
     "execution_count": 25,
     "metadata": {},
     "output_type": "execute_result"
    }
   ],
   "source": [
    "df"
   ]
  },
  {
   "cell_type": "code",
   "execution_count": 26,
   "metadata": {},
   "outputs": [],
   "source": [
    "cursor = collection.find({\"gasPrice\": {\"$gt\": 0}})\n",
    "df = pd.DataFrame(list(cursor))\n",
    "df['timestamp'] = pd.to_datetime(df['timestamp'], unit='ms')\n"
   ]
  },
  {
   "cell_type": "code",
   "execution_count": 32,
   "metadata": {},
   "outputs": [
    {
     "data": {
      "text/plain": [
       "to\n",
       "0x7a250d5630B4cF539739dF2C5dAcb4c659F2488D    0.547872\n",
       "0x3fC91A3afd70395Cd496C647d5a6CC9D4B2b7FAD    0.295441\n",
       "0xEf1c6E67703c7BD7107eed8303Fbe6EC2554BF6B    0.081157\n",
       "0xE592427A0AEce92De3Edee1F18E0157C05861564    0.049630\n",
       "0x68b3465833fb72A70ecDF485E0e4C7bD8665Fc45    0.025901\n",
       "Name: count, dtype: float64"
      ]
     },
     "execution_count": 32,
     "metadata": {},
     "output_type": "execute_result"
    }
   ],
   "source": [
    "df.value_counts('to') / len(df)"
   ]
  },
  {
   "cell_type": "code",
   "execution_count": 34,
   "metadata": {},
   "outputs": [],
   "source": [
    "address_to_contract_name = dict([  [\"0xf164fC0Ec4E93095b804a4795bBe1e041497b92a\", \"UniswapV2Router01\"],\n",
    "  [\"0x7a250d5630B4cF539739dF2C5dAcb4c659F2488D\", \"UniswapV2Router02\"],\n",
    "  [\"0xE592427A0AEce92De3Edee1F18E0157C05861564\", \"UniswapV3Router01\"],\n",
    "  [\"0x68b3465833fb72A70ecDF485E0e4C7bD8665Fc45\", \"UniswapV3Router02\"],\n",
    "  [\"0xEf1c6E67703c7BD7107eed8303Fbe6EC2554BF6B\", \"UniversalRouter01\"],\n",
    "  [\"0x3fC91A3afd70395Cd496C647d5a6CC9D4B2b7FAD\", \"UniversalRouter02\"],])\n",
    "\n",
    "\n",
    "# Write the above dictionary to a json file so we can use it across the project\n",
    "import json\n",
    "\n",
    "with open('router_addresses.json', 'w') as fp:\n",
    "    json.dump(address_to_contract_name, fp)\n"
   ]
  },
  {
   "cell_type": "code",
   "execution_count": 37,
   "metadata": {},
   "outputs": [
    {
     "data": {
      "text/plain": [
       "0.81358938291236"
      ]
     },
     "execution_count": 37,
     "metadata": {},
     "output_type": "execute_result"
    }
   ],
   "source": [
    "df.hash.nunique() / len(df)"
   ]
  },
  {
   "cell_type": "code",
   "execution_count": null,
   "metadata": {},
   "outputs": [],
   "source": []
  }
 ],
 "metadata": {
  "kernelspec": {
   "display_name": "venv",
   "language": "python",
   "name": "python3"
  },
  "language_info": {
   "codemirror_mode": {
    "name": "ipython",
    "version": 3
   },
   "file_extension": ".py",
   "mimetype": "text/x-python",
   "name": "python",
   "nbconvert_exporter": "python",
   "pygments_lexer": "ipython3",
   "version": "3.11.0"
  },
  "orig_nbformat": 4
 },
 "nbformat": 4,
 "nbformat_minor": 2
}
