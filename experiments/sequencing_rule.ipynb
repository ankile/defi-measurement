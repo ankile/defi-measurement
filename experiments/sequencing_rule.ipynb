{
 "cells": [
  {
   "cell_type": "code",
   "execution_count": 2,
   "metadata": {},
   "outputs": [],
   "source": [
    "import argparse\n",
    "from functools import partial\n",
    "import json\n",
    "import os\n",
    "import pickle\n",
    "import random\n",
    "import sys\n",
    "\n",
    "from pydantic import BaseModel\n",
    "\n",
    "current_path = sys.path[0]\n",
    "sys.path.append(\n",
    "    current_path[: current_path.find(\"defi-measurement\")]\n",
    "    + \"liquidity-distribution-history\"\n",
    ")\n",
    "\n",
    "from datetime import datetime\n",
    "from typing import Tuple, cast\n",
    "from prisma import Client\n",
    "import asyncio\n",
    "\n",
    "\n",
    "from math import ceil\n",
    "\n",
    "import matplotlib.pyplot as plt\n",
    "import numpy as np\n",
    "import pandas as pd\n",
    "from dotenv import load_dotenv\n",
    "from matplotlib.ticker import MaxNLocator\n",
    "from pool_state import v3Pool\n",
    "from sqlalchemy import create_engine\n",
    "from tqdm import tqdm, trange\n",
    "from multiprocessing import Pool\n",
    "from azure.storage.blob import BlobServiceClient\n",
    "\n",
    "\n",
    "load_dotenv(override=True)\n",
    "\n",
    "\n",
    "from decimal import ROUND_DOWN, Decimal, getcontext\n",
    "\n",
    "getcontext().prec = 100  # Set the precision high enough for our purposes\n",
    "\n",
    "import pandera as pa\n",
    "from pandera.typing import DataFrame, Series\n",
    "\n",
    "\n",
    "\n",
    "# Read in the environment variables\n",
    "postgres_uri = os.environ[\"POSTGRESQL_URI_US\"]\n",
    "blobstorage_uri = os.environ[\"AZURE_STORAGE_CONNECTION_STRING\"]"
   ]
  },
  {
   "cell_type": "code",
   "execution_count": null,
   "metadata": {},
   "outputs": [],
   "source": [
    "# Create the database engine\n",
    "engine = create_engine(postgres_uri)\n",
    "\n",
    "# Get a dataframe of blocks that has enough buys and sells\n",
    "\n"
   ]
  }
 ],
 "metadata": {
  "kernelspec": {
   "display_name": "venv",
   "language": "python",
   "name": "python3"
  },
  "language_info": {
   "codemirror_mode": {
    "name": "ipython",
    "version": 3
   },
   "file_extension": ".py",
   "mimetype": "text/x-python",
   "name": "python",
   "nbconvert_exporter": "python",
   "pygments_lexer": "ipython3",
   "version": "3.11.4"
  },
  "orig_nbformat": 4
 },
 "nbformat": 4,
 "nbformat_minor": 2
}
