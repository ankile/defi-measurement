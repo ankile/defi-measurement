{
 "cells": [
  {
   "cell_type": "markdown",
   "metadata": {},
   "source": [
    "# Measure average swap volume for builders and relays\n"
   ]
  },
  {
   "cell_type": "code",
   "execution_count": 1,
   "metadata": {},
   "outputs": [],
   "source": [
    "%load_ext autoreload\n",
    "%autoreload 2"
   ]
  },
  {
   "cell_type": "code",
   "execution_count": 2,
   "metadata": {},
   "outputs": [],
   "source": [
    "import os\n",
    "import math\n",
    "import pandas as pd\n",
    "from dotenv import load_dotenv\n",
    "import numpy as np\n",
    "\n",
    "import statsmodels.api as sm\n",
    "\n",
    "from tqdm import tqdm\n",
    "from pathlib import Path\n",
    "\n",
    "from concurrent.futures import ThreadPoolExecutor\n",
    "from tqdm import trange, tqdm\n",
    "import numpy as np\n",
    "import pandas as pd\n",
    "\n",
    "import seaborn as sns\n",
    "\n",
    "import sys\n",
    "\n",
    "current_path = sys.path[0]\n",
    "sys.path.append(current_path[: current_path.find(\"defi-measurement\")] + \"liquidity-distribution-history\")\n",
    "\n",
    "sys.path.append(\"..\")\n",
    "\n",
    "import matplotlib.pyplot as plt\n",
    "import matplotlib.ticker as mticker\n",
    "from matplotlib.lines import Line2D\n",
    "\n",
    "# Adjust so all columns in dataframe are shown\n",
    "pd.set_option(\"display.max_columns\", None)\n",
    "\n",
    "# Set pandas display options column width\n",
    "pd.set_option(\"display.max_colwidth\", 1000)"
   ]
  },
  {
   "cell_type": "code",
   "execution_count": 3,
   "metadata": {},
   "outputs": [],
   "source": [
    "postgres_uri = os.environ[\"POSTGRESQL_URI\"]\n",
    "azure_storage_uri = os.environ[\"AZURE_STORAGE_CONNECTION_STRING\"]"
   ]
  },
  {
   "cell_type": "markdown",
   "metadata": {},
   "source": [
    "## General idea: Use ETH as a proxy for swap volume\n",
    "\n",
    "The assumption is that most the swaps happen between ETH and something else. First, though, verify this assumption.\n"
   ]
  },
  {
   "cell_type": "markdown",
   "metadata": {},
   "source": [
    "### How to measure\n"
   ]
  },
  {
   "cell_type": "code",
   "execution_count": 4,
   "metadata": {},
   "outputs": [],
   "source": [
    "weth_address = \"0xc02aaa39b223fe8d0a0e5c4f27ead9083c756cc2\""
   ]
  },
  {
   "cell_type": "markdown",
   "metadata": {},
   "source": [
    "From the below, we see that ~84% of transactions happen to or from ETH, so I think we can argue that it's a fair measure of swap volume.\n"
   ]
  },
  {
   "cell_type": "code",
   "execution_count": 19,
   "metadata": {},
   "outputs": [
    {
     "name": "stdout",
     "output_type": "stream",
     "text": [
      "Total swap count: 25_875_662, ETH swap count: 21_708_158\n",
      "ETH swap percentage: 83.89%\n"
     ]
    }
   ],
   "source": [
    "total_swap_count = pd.read_sql_query(\n",
    "    f\"\"\"\n",
    "    SELECT COUNT(*)\n",
    "    FROM swaps\n",
    "    JOIN factory ON address = pool\n",
    "    \"\"\",\n",
    "    postgres_uri,\n",
    ")[\"count\"][0]\n",
    "\n",
    "eth_swap_count = pd.read_sql_query(\n",
    "    f\"\"\"\n",
    "    SELECT COUNT(*)\n",
    "    FROM swaps\n",
    "    JOIN factory ON address = pool\n",
    "    WHERE token0 = '{weth_address}'\n",
    "        OR token1 = '{weth_address}'\n",
    "    \"\"\",\n",
    "    postgres_uri,\n",
    ")[\"count\"][0]\n",
    "\n",
    "print(f\"Total swap count: {total_swap_count:_}, ETH swap count: {eth_swap_count:_}\")\n",
    "print(f\"ETH swap percentage: {eth_swap_count / total_swap_count:.2%}\")"
   ]
  },
  {
   "cell_type": "markdown",
   "metadata": {},
   "source": [
    "### Measure average volume in ETH for each block\n",
    "\n",
    "The general approach will be to find the mean transaction volume in terms of ETH within each block.\n",
    "\n",
    "Then, we can easily join with the `mev_boost` table and calculate the mean for each builder and relay\n"
   ]
  },
  {
   "cell_type": "code",
   "execution_count": 20,
   "metadata": {},
   "outputs": [
    {
     "name": "stdout",
     "output_type": "stream",
     "text": [
      "Min block: 15_537_940, max block: 17_959_956\n"
     ]
    }
   ],
   "source": [
    "# Find the block range of the swaps that happened after MEV boost was deployed\n",
    "min_max_block = pd.read_sql_query(\n",
    "    f\"\"\"\n",
    "    SELECT MIN(block_number), MAX(block_number)\n",
    "    FROM mev_boost\n",
    "    \"\"\",\n",
    "    postgres_uri,\n",
    ")\n",
    "\n",
    "min_block = min_max_block[\"min\"][0]\n",
    "max_block = min_max_block[\"max\"][0]\n",
    "\n",
    "print(f\"Min block: {min_block:_}, max block: {max_block:_}\")"
   ]
  },
  {
   "cell_type": "code",
   "execution_count": 26,
   "metadata": {},
   "outputs": [],
   "source": [
    "def chunked_query(query, n_rows, chunksize=10_000):\n",
    "    dfs = pd.read_sql_query(\n",
    "        query,\n",
    "        postgres_uri,\n",
    "        chunksize=chunksize,\n",
    "    )\n",
    "\n",
    "    df = pd.concat(tqdm(dfs, total=math.ceil(n_rows / chunksize)))\n",
    "\n",
    "    return df"
   ]
  },
  {
   "cell_type": "code",
   "execution_count": 22,
   "metadata": {},
   "outputs": [
    {
     "name": "stdout",
     "output_type": "stream",
     "text": [
      "Total swap count: 7_091_514\n"
     ]
    }
   ],
   "source": [
    "# Get the total number of swaps that is in scope\n",
    "swaps_count = pd.read_sql_query(\n",
    "    f\"\"\"\n",
    "    SELECT COUNT(*)\n",
    "    FROM swaps\n",
    "    JOIN factory ON address = pool\n",
    "    WHERE (token0 = '{weth_address}'\n",
    "        OR \n",
    "        token1 = '{weth_address}')\n",
    "    AND swaps.block_number >= {min_block}\n",
    "    AND swaps.block_number <= {max_block}\n",
    "    \"\"\",\n",
    "    postgres_uri,\n",
    ")[\"count\"][0]\n",
    "\n",
    "print(f\"Total swap count: {swaps_count:_}\")"
   ]
  },
  {
   "cell_type": "code",
   "execution_count": null,
   "metadata": {},
   "outputs": [],
   "source": [
    "# Get all swaps that happened after MEV boost was deployed\n",
    "# where the token pair is WETH and another token\n",
    "swaps = pd.read_sql_query(\n",
    "    f\"\"\"\n",
    "    -- Selecting rows where token0 is wETH\n",
    "    SELECT swaps.block_number AS block_number, token0 AS token_address, amount0 AS amount\n",
    "    FROM swaps\n",
    "    JOIN factory ON address = pool\n",
    "    WHERE token0 = '{weth_address}'\n",
    "    AND swaps.block_number >= {min_block}\n",
    "    AND swaps.block_number <= {max_block}\n",
    "\n",
    "    UNION ALL\n",
    "\n",
    "    -- Selecting rows where token1 is wETH\n",
    "    SELECT swaps.block_number AS block_number, token1 AS token_address, amount1 AS amount\n",
    "    FROM swaps\n",
    "    JOIN factory ON address = pool\n",
    "    WHERE token1 = '{weth_address}'\n",
    "    AND swaps.block_number >= {min_block}\n",
    "    AND swaps.block_number <= {max_block}\n",
    "    \"\"\",\n",
    "    postgres_uri,\n",
    ")"
   ]
  },
  {
   "cell_type": "code",
   "execution_count": 30,
   "metadata": {},
   "outputs": [
    {
     "name": "stdout",
     "output_type": "stream",
     "text": [
      "Got 9_272_148 swaps in total, across 1_930_592 blocks\n"
     ]
    }
   ],
   "source": [
    "print(f\"Got {len(swaps):_} swaps in total, across {len(swaps['block_number'].unique()):_} blocks\")"
   ]
  },
  {
   "cell_type": "code",
   "execution_count": 28,
   "metadata": {},
   "outputs": [],
   "source": [
    "# Convert the amount to ETH from wei\n",
    "swaps.amount = swaps.amount.astype(float).abs() / 1e18"
   ]
  },
  {
   "cell_type": "code",
   "execution_count": 31,
   "metadata": {},
   "outputs": [
    {
     "data": {
      "text/html": [
       "<div>\n",
       "<style scoped>\n",
       "    .dataframe tbody tr th:only-of-type {\n",
       "        vertical-align: middle;\n",
       "    }\n",
       "\n",
       "    .dataframe tbody tr th {\n",
       "        vertical-align: top;\n",
       "    }\n",
       "\n",
       "    .dataframe thead th {\n",
       "        text-align: right;\n",
       "    }\n",
       "</style>\n",
       "<table border=\"1\" class=\"dataframe\">\n",
       "  <thead>\n",
       "    <tr style=\"text-align: right;\">\n",
       "      <th></th>\n",
       "      <th>block_number</th>\n",
       "      <th>token_address</th>\n",
       "      <th>amount</th>\n",
       "    </tr>\n",
       "  </thead>\n",
       "  <tbody>\n",
       "    <tr>\n",
       "      <th>0</th>\n",
       "      <td>17577508</td>\n",
       "      <td>0xc02aaa39b223fe8d0a0e5c4f27ead9083c756cc2</td>\n",
       "      <td>0.536606</td>\n",
       "    </tr>\n",
       "    <tr>\n",
       "      <th>1</th>\n",
       "      <td>17578272</td>\n",
       "      <td>0xc02aaa39b223fe8d0a0e5c4f27ead9083c756cc2</td>\n",
       "      <td>1.370000</td>\n",
       "    </tr>\n",
       "    <tr>\n",
       "      <th>2</th>\n",
       "      <td>17578589</td>\n",
       "      <td>0xc02aaa39b223fe8d0a0e5c4f27ead9083c756cc2</td>\n",
       "      <td>0.760908</td>\n",
       "    </tr>\n",
       "    <tr>\n",
       "      <th>3</th>\n",
       "      <td>17582383</td>\n",
       "      <td>0xc02aaa39b223fe8d0a0e5c4f27ead9083c756cc2</td>\n",
       "      <td>4.668950</td>\n",
       "    </tr>\n",
       "    <tr>\n",
       "      <th>4</th>\n",
       "      <td>17579971</td>\n",
       "      <td>0xc02aaa39b223fe8d0a0e5c4f27ead9083c756cc2</td>\n",
       "      <td>4.505060</td>\n",
       "    </tr>\n",
       "  </tbody>\n",
       "</table>\n",
       "</div>"
      ],
      "text/plain": [
       "   block_number                               token_address    amount\n",
       "0      17577508  0xc02aaa39b223fe8d0a0e5c4f27ead9083c756cc2  0.536606\n",
       "1      17578272  0xc02aaa39b223fe8d0a0e5c4f27ead9083c756cc2  1.370000\n",
       "2      17578589  0xc02aaa39b223fe8d0a0e5c4f27ead9083c756cc2  0.760908\n",
       "3      17582383  0xc02aaa39b223fe8d0a0e5c4f27ead9083c756cc2  4.668950\n",
       "4      17579971  0xc02aaa39b223fe8d0a0e5c4f27ead9083c756cc2  4.505060"
      ]
     },
     "execution_count": 31,
     "metadata": {},
     "output_type": "execute_result"
    }
   ],
   "source": [
    "swaps.head()"
   ]
  },
  {
   "cell_type": "code",
   "execution_count": 82,
   "metadata": {},
   "outputs": [
    {
     "data": {
      "text/html": [
       "<div>\n",
       "<style scoped>\n",
       "    .dataframe tbody tr th:only-of-type {\n",
       "        vertical-align: middle;\n",
       "    }\n",
       "\n",
       "    .dataframe tbody tr th {\n",
       "        vertical-align: top;\n",
       "    }\n",
       "\n",
       "    .dataframe thead th {\n",
       "        text-align: right;\n",
       "    }\n",
       "</style>\n",
       "<table border=\"1\" class=\"dataframe\">\n",
       "  <thead>\n",
       "    <tr style=\"text-align: right;\">\n",
       "      <th></th>\n",
       "      <th>block_number</th>\n",
       "      <th>amount</th>\n",
       "    </tr>\n",
       "  </thead>\n",
       "  <tbody>\n",
       "    <tr>\n",
       "      <th>0</th>\n",
       "      <td>15537940</td>\n",
       "      <td>9.348220</td>\n",
       "    </tr>\n",
       "    <tr>\n",
       "      <th>1</th>\n",
       "      <td>15537941</td>\n",
       "      <td>34.401677</td>\n",
       "    </tr>\n",
       "    <tr>\n",
       "      <th>2</th>\n",
       "      <td>15537943</td>\n",
       "      <td>29.511673</td>\n",
       "    </tr>\n",
       "    <tr>\n",
       "      <th>3</th>\n",
       "      <td>15537944</td>\n",
       "      <td>0.657583</td>\n",
       "    </tr>\n",
       "    <tr>\n",
       "      <th>4</th>\n",
       "      <td>15537946</td>\n",
       "      <td>11.057775</td>\n",
       "    </tr>\n",
       "    <tr>\n",
       "      <th>...</th>\n",
       "      <td>...</td>\n",
       "      <td>...</td>\n",
       "    </tr>\n",
       "    <tr>\n",
       "      <th>1930587</th>\n",
       "      <td>17863998</td>\n",
       "      <td>0.030000</td>\n",
       "    </tr>\n",
       "    <tr>\n",
       "      <th>1930588</th>\n",
       "      <td>17864000</td>\n",
       "      <td>13.748981</td>\n",
       "    </tr>\n",
       "    <tr>\n",
       "      <th>1930589</th>\n",
       "      <td>17864005</td>\n",
       "      <td>4.991950</td>\n",
       "    </tr>\n",
       "    <tr>\n",
       "      <th>1930590</th>\n",
       "      <td>17864008</td>\n",
       "      <td>0.958249</td>\n",
       "    </tr>\n",
       "    <tr>\n",
       "      <th>1930591</th>\n",
       "      <td>17864015</td>\n",
       "      <td>2.896456</td>\n",
       "    </tr>\n",
       "  </tbody>\n",
       "</table>\n",
       "<p>1930592 rows × 2 columns</p>\n",
       "</div>"
      ],
      "text/plain": [
       "         block_number     amount\n",
       "0            15537940   9.348220\n",
       "1            15537941  34.401677\n",
       "2            15537943  29.511673\n",
       "3            15537944   0.657583\n",
       "4            15537946  11.057775\n",
       "...               ...        ...\n",
       "1930587      17863998   0.030000\n",
       "1930588      17864000  13.748981\n",
       "1930589      17864005   4.991950\n",
       "1930590      17864008   0.958249\n",
       "1930591      17864015   2.896456\n",
       "\n",
       "[1930592 rows x 2 columns]"
      ]
     },
     "execution_count": 82,
     "metadata": {},
     "output_type": "execute_result"
    }
   ],
   "source": [
    "# Calculate mean swap size for each block\n",
    "block_mean_swap_size = swaps.groupby(\"block_number\").amount.mean().to_frame().reset_index()\n",
    "\n",
    "block_mean_swap_size"
   ]
  },
  {
   "cell_type": "code",
   "execution_count": 83,
   "metadata": {},
   "outputs": [
    {
     "data": {
      "text/plain": [
       "True"
      ]
     },
     "execution_count": 83,
     "metadata": {},
     "output_type": "execute_result"
    }
   ],
   "source": [
    "block_mean_swap_size.block_number.is_monotonic_increasing"
   ]
  },
  {
   "cell_type": "markdown",
   "metadata": {},
   "source": [
    "### Combine the mean volume per block with the mev_boost table\n"
   ]
  },
  {
   "cell_type": "code",
   "execution_count": 79,
   "metadata": {},
   "outputs": [
    {
     "data": {
      "text/html": [
       "<div>\n",
       "<style scoped>\n",
       "    .dataframe tbody tr th:only-of-type {\n",
       "        vertical-align: middle;\n",
       "    }\n",
       "\n",
       "    .dataframe tbody tr th {\n",
       "        vertical-align: top;\n",
       "    }\n",
       "\n",
       "    .dataframe thead th {\n",
       "        text-align: right;\n",
       "    }\n",
       "</style>\n",
       "<table border=\"1\" class=\"dataframe\">\n",
       "  <thead>\n",
       "    <tr style=\"text-align: right;\">\n",
       "      <th></th>\n",
       "      <th>block_number</th>\n",
       "      <th>relay</th>\n",
       "      <th>builder</th>\n",
       "    </tr>\n",
       "  </thead>\n",
       "  <tbody>\n",
       "    <tr>\n",
       "      <th>0</th>\n",
       "      <td>15537940</td>\n",
       "      <td>flashbots</td>\n",
       "      <td>Flashbots</td>\n",
       "    </tr>\n",
       "    <tr>\n",
       "      <th>1</th>\n",
       "      <td>15537948</td>\n",
       "      <td>flashbots</td>\n",
       "      <td>Flashbots</td>\n",
       "    </tr>\n",
       "    <tr>\n",
       "      <th>2</th>\n",
       "      <td>15537978</td>\n",
       "      <td>flashbots</td>\n",
       "      <td>Flashbots</td>\n",
       "    </tr>\n",
       "    <tr>\n",
       "      <th>3</th>\n",
       "      <td>15538064</td>\n",
       "      <td>flashbots</td>\n",
       "      <td>Flashbots</td>\n",
       "    </tr>\n",
       "    <tr>\n",
       "      <th>4</th>\n",
       "      <td>15538094</td>\n",
       "      <td>flashbots</td>\n",
       "      <td>Flashbots</td>\n",
       "    </tr>\n",
       "  </tbody>\n",
       "</table>\n",
       "</div>"
      ],
      "text/plain": [
       "   block_number      relay    builder\n",
       "0      15537940  flashbots  Flashbots\n",
       "1      15537948  flashbots  Flashbots\n",
       "2      15537978  flashbots  Flashbots\n",
       "3      15538064  flashbots  Flashbots\n",
       "4      15538094  flashbots  Flashbots"
      ]
     },
     "execution_count": 79,
     "metadata": {},
     "output_type": "execute_result"
    }
   ],
   "source": [
    "# Get the MEV boost information for each block\n",
    "mev_boost = pd.read_sql_query(\n",
    "    f\"\"\"\n",
    "    SELECT block_number, relay, builder\n",
    "    FROM mev_boost\n",
    "    \"\"\",\n",
    "    postgres_uri,\n",
    ")\n",
    "\n",
    "mev_boost.head()"
   ]
  },
  {
   "cell_type": "code",
   "execution_count": 85,
   "metadata": {},
   "outputs": [
    {
     "data": {
      "text/html": [
       "<div>\n",
       "<style scoped>\n",
       "    .dataframe tbody tr th:only-of-type {\n",
       "        vertical-align: middle;\n",
       "    }\n",
       "\n",
       "    .dataframe tbody tr th {\n",
       "        vertical-align: top;\n",
       "    }\n",
       "\n",
       "    .dataframe thead th {\n",
       "        text-align: right;\n",
       "    }\n",
       "</style>\n",
       "<table border=\"1\" class=\"dataframe\">\n",
       "  <thead>\n",
       "    <tr style=\"text-align: right;\">\n",
       "      <th></th>\n",
       "      <th>block_number</th>\n",
       "      <th>amount</th>\n",
       "      <th>relay</th>\n",
       "      <th>builder</th>\n",
       "    </tr>\n",
       "  </thead>\n",
       "  <tbody>\n",
       "    <tr>\n",
       "      <th>0</th>\n",
       "      <td>15537940</td>\n",
       "      <td>9.348220</td>\n",
       "      <td>flashbots</td>\n",
       "      <td>Flashbots</td>\n",
       "    </tr>\n",
       "    <tr>\n",
       "      <th>1</th>\n",
       "      <td>15537941</td>\n",
       "      <td>34.401677</td>\n",
       "      <td>NaN</td>\n",
       "      <td>NaN</td>\n",
       "    </tr>\n",
       "    <tr>\n",
       "      <th>2</th>\n",
       "      <td>15537943</td>\n",
       "      <td>29.511673</td>\n",
       "      <td>NaN</td>\n",
       "      <td>NaN</td>\n",
       "    </tr>\n",
       "    <tr>\n",
       "      <th>3</th>\n",
       "      <td>15537944</td>\n",
       "      <td>0.657583</td>\n",
       "      <td>NaN</td>\n",
       "      <td>NaN</td>\n",
       "    </tr>\n",
       "    <tr>\n",
       "      <th>4</th>\n",
       "      <td>15537946</td>\n",
       "      <td>11.057775</td>\n",
       "      <td>NaN</td>\n",
       "      <td>NaN</td>\n",
       "    </tr>\n",
       "  </tbody>\n",
       "</table>\n",
       "</div>"
      ],
      "text/plain": [
       "   block_number     amount      relay    builder\n",
       "0      15537940   9.348220  flashbots  Flashbots\n",
       "1      15537941  34.401677        NaN        NaN\n",
       "2      15537943  29.511673        NaN        NaN\n",
       "3      15537944   0.657583        NaN        NaN\n",
       "4      15537946  11.057775        NaN        NaN"
      ]
     },
     "execution_count": 85,
     "metadata": {},
     "output_type": "execute_result"
    }
   ],
   "source": [
    "block_mean_swap_size = block_mean_swap_size.merge(mev_boost, on=\"block_number\", how=\"left\")\n",
    "\n",
    "block_mean_swap_size.head()"
   ]
  },
  {
   "cell_type": "code",
   "execution_count": 87,
   "metadata": {},
   "outputs": [
    {
     "data": {
      "text/html": [
       "<div>\n",
       "<style scoped>\n",
       "    .dataframe tbody tr th:only-of-type {\n",
       "        vertical-align: middle;\n",
       "    }\n",
       "\n",
       "    .dataframe tbody tr th {\n",
       "        vertical-align: top;\n",
       "    }\n",
       "\n",
       "    .dataframe thead th {\n",
       "        text-align: right;\n",
       "    }\n",
       "</style>\n",
       "<table border=\"1\" class=\"dataframe\">\n",
       "  <thead>\n",
       "    <tr style=\"text-align: right;\">\n",
       "      <th></th>\n",
       "      <th>block_number</th>\n",
       "      <th>amount</th>\n",
       "      <th>relay</th>\n",
       "      <th>builder</th>\n",
       "    </tr>\n",
       "  </thead>\n",
       "  <tbody>\n",
       "    <tr>\n",
       "      <th>0</th>\n",
       "      <td>15537940</td>\n",
       "      <td>9.348220</td>\n",
       "      <td>flashbots</td>\n",
       "      <td>Flashbots</td>\n",
       "    </tr>\n",
       "    <tr>\n",
       "      <th>1</th>\n",
       "      <td>15537941</td>\n",
       "      <td>34.401677</td>\n",
       "      <td>Altruistic</td>\n",
       "      <td>Altruistic</td>\n",
       "    </tr>\n",
       "    <tr>\n",
       "      <th>2</th>\n",
       "      <td>15537943</td>\n",
       "      <td>29.511673</td>\n",
       "      <td>Altruistic</td>\n",
       "      <td>Altruistic</td>\n",
       "    </tr>\n",
       "    <tr>\n",
       "      <th>3</th>\n",
       "      <td>15537944</td>\n",
       "      <td>0.657583</td>\n",
       "      <td>Altruistic</td>\n",
       "      <td>Altruistic</td>\n",
       "    </tr>\n",
       "    <tr>\n",
       "      <th>4</th>\n",
       "      <td>15537946</td>\n",
       "      <td>11.057775</td>\n",
       "      <td>Altruistic</td>\n",
       "      <td>Altruistic</td>\n",
       "    </tr>\n",
       "  </tbody>\n",
       "</table>\n",
       "</div>"
      ],
      "text/plain": [
       "   block_number     amount       relay     builder\n",
       "0      15537940   9.348220   flashbots   Flashbots\n",
       "1      15537941  34.401677  Altruistic  Altruistic\n",
       "2      15537943  29.511673  Altruistic  Altruistic\n",
       "3      15537944   0.657583  Altruistic  Altruistic\n",
       "4      15537946  11.057775  Altruistic  Altruistic"
      ]
     },
     "execution_count": 87,
     "metadata": {},
     "output_type": "execute_result"
    }
   ],
   "source": [
    "# Fill the MEV boost information for blocks that don't have it with Altruistic\n",
    "block_mean_swap_size.builder = block_mean_swap_size.builder.fillna(\"Altruistic\")\n",
    "block_mean_swap_size.relay = block_mean_swap_size.relay.fillna(\"Altruistic\")\n",
    "\n",
    "block_mean_swap_size.head()"
   ]
  },
  {
   "cell_type": "markdown",
   "metadata": {},
   "source": [
    "#### Visualize results for builders\n"
   ]
  },
  {
   "cell_type": "code",
   "execution_count": 65,
   "metadata": {},
   "outputs": [],
   "source": [
    "# Grab only the builders from the original analysis\n",
    "builders = [\n",
    "    \"mars\",\n",
    "    \"Bob the builder\",\n",
    "    \"buildai.net\",\n",
    "    \"boba-builder.com\",\n",
    "    \"edennetwork.io\",\n",
    "    \"Flashbots SGX\",\n",
    "    \"builder0x69\",\n",
    "    \"lightspeedbuilder.info\",\n",
    "    \"beaverbuild.org\",\n",
    "    \"Flashbots\",\n",
    "    \"payload.de\",\n",
    "    \"eth-builder.com\",\n",
    "    \"BloXroute\",\n",
    "    \"gmbit.co\",\n",
    "    \"rsync-builder.xyz\",\n",
    "    \"Titan Builder\",\n",
    "    \"nfactorial.xyz\",\n",
    "    \"Blocknative\",\n",
    "    \"Manifold\",\n",
    "    \"f1b.io\",\n",
    "    \"Shared/Default\",\n",
    "    \"I can haz block?\",\n",
    "    \"finest artisanal blocks\",\n",
    "    \"0x83bee51799\",\n",
    "    \"Altruistic\",\n",
    "    \"Geth Go\",\n",
    "    \"It's Free Real Estate\",\n",
    "    \"manta-builder\",\n",
    "]"
   ]
  },
  {
   "cell_type": "code",
   "execution_count": 66,
   "metadata": {},
   "outputs": [],
   "source": [
    "# Map the builder names to something more readable\n",
    "name_mapping = {\n",
    "    \"Gambit Labs (https://gmbit.co)\": \"gmbit.co\",\n",
    "    \"BuildAI (https://buildai.net)\": \"buildai.net\",\n",
    "    \"https://edennetwork.io\": \"edennetwork.io\",\n",
    "    \"viva ultrasound&agnostic by 0x69\": \"Viva Ultrasound\",\n",
    "    \"0x83bee51799e65130296f5d60ce7d78119578db6045c3c3631980514abae0be0f9b65fe82eb0c9a79d6d99030112c874c\": \"0x83bee51799\",\n",
    "    \"https://eth-builder.com\": \"eth-builder.com\",\n",
    "}\n",
    "mev_boost.builder = mev_boost.builder.replace(name_mapping)"
   ]
  },
  {
   "cell_type": "code",
   "execution_count": 93,
   "metadata": {},
   "outputs": [
    {
     "data": {
      "text/html": [
       "<div>\n",
       "<style scoped>\n",
       "    .dataframe tbody tr th:only-of-type {\n",
       "        vertical-align: middle;\n",
       "    }\n",
       "\n",
       "    .dataframe tbody tr th {\n",
       "        vertical-align: top;\n",
       "    }\n",
       "\n",
       "    .dataframe thead th {\n",
       "        text-align: right;\n",
       "    }\n",
       "</style>\n",
       "<table border=\"1\" class=\"dataframe\">\n",
       "  <thead>\n",
       "    <tr style=\"text-align: right;\">\n",
       "      <th></th>\n",
       "      <th>block_number</th>\n",
       "      <th>amount</th>\n",
       "      <th>relay</th>\n",
       "      <th>builder</th>\n",
       "    </tr>\n",
       "  </thead>\n",
       "  <tbody>\n",
       "    <tr>\n",
       "      <th>0</th>\n",
       "      <td>15537940</td>\n",
       "      <td>9.348220</td>\n",
       "      <td>flashbots</td>\n",
       "      <td>Flashbots</td>\n",
       "    </tr>\n",
       "    <tr>\n",
       "      <th>1</th>\n",
       "      <td>15537941</td>\n",
       "      <td>34.401677</td>\n",
       "      <td>Altruistic</td>\n",
       "      <td>Altruistic</td>\n",
       "    </tr>\n",
       "    <tr>\n",
       "      <th>2</th>\n",
       "      <td>15537943</td>\n",
       "      <td>29.511673</td>\n",
       "      <td>Altruistic</td>\n",
       "      <td>Altruistic</td>\n",
       "    </tr>\n",
       "    <tr>\n",
       "      <th>3</th>\n",
       "      <td>15537944</td>\n",
       "      <td>0.657583</td>\n",
       "      <td>Altruistic</td>\n",
       "      <td>Altruistic</td>\n",
       "    </tr>\n",
       "    <tr>\n",
       "      <th>4</th>\n",
       "      <td>15537946</td>\n",
       "      <td>11.057775</td>\n",
       "      <td>Altruistic</td>\n",
       "      <td>Altruistic</td>\n",
       "    </tr>\n",
       "    <tr>\n",
       "      <th>...</th>\n",
       "      <td>...</td>\n",
       "      <td>...</td>\n",
       "      <td>...</td>\n",
       "      <td>...</td>\n",
       "    </tr>\n",
       "    <tr>\n",
       "      <th>2129274</th>\n",
       "      <td>17864005</td>\n",
       "      <td>4.991950</td>\n",
       "      <td>bloxroute (max profit)</td>\n",
       "      <td>Titan Builder</td>\n",
       "    </tr>\n",
       "    <tr>\n",
       "      <th>2129275</th>\n",
       "      <td>17864005</td>\n",
       "      <td>4.991950</td>\n",
       "      <td>agnostic Gnosis</td>\n",
       "      <td>Titan Builder</td>\n",
       "    </tr>\n",
       "    <tr>\n",
       "      <th>2129276</th>\n",
       "      <td>17864005</td>\n",
       "      <td>4.991950</td>\n",
       "      <td>ultrasound</td>\n",
       "      <td>Titan Builder</td>\n",
       "    </tr>\n",
       "    <tr>\n",
       "      <th>2129278</th>\n",
       "      <td>17864015</td>\n",
       "      <td>2.896456</td>\n",
       "      <td>bloxroute (max profit)</td>\n",
       "      <td>beaverbuild.org</td>\n",
       "    </tr>\n",
       "    <tr>\n",
       "      <th>2129279</th>\n",
       "      <td>17864015</td>\n",
       "      <td>2.896456</td>\n",
       "      <td>bloxroute (regulated)</td>\n",
       "      <td>beaverbuild.org</td>\n",
       "    </tr>\n",
       "  </tbody>\n",
       "</table>\n",
       "<p>2030822 rows × 4 columns</p>\n",
       "</div>"
      ],
      "text/plain": [
       "         block_number     amount                   relay          builder\n",
       "0            15537940   9.348220               flashbots        Flashbots\n",
       "1            15537941  34.401677              Altruistic       Altruistic\n",
       "2            15537943  29.511673              Altruistic       Altruistic\n",
       "3            15537944   0.657583              Altruistic       Altruistic\n",
       "4            15537946  11.057775              Altruistic       Altruistic\n",
       "...               ...        ...                     ...              ...\n",
       "2129274      17864005   4.991950  bloxroute (max profit)    Titan Builder\n",
       "2129275      17864005   4.991950         agnostic Gnosis    Titan Builder\n",
       "2129276      17864005   4.991950              ultrasound    Titan Builder\n",
       "2129278      17864015   2.896456  bloxroute (max profit)  beaverbuild.org\n",
       "2129279      17864015   2.896456   bloxroute (regulated)  beaverbuild.org\n",
       "\n",
       "[2030822 rows x 4 columns]"
      ]
     },
     "execution_count": 93,
     "metadata": {},
     "output_type": "execute_result"
    }
   ],
   "source": [
    "mev_boost_builders = block_mean_swap_size[block_mean_swap_size.builder.isin(builders)]\n",
    "\n",
    "mev_boost_builders"
   ]
  },
  {
   "cell_type": "code",
   "execution_count": 92,
   "metadata": {},
   "outputs": [
    {
     "data": {
      "text/html": [
       "<div>\n",
       "<style scoped>\n",
       "    .dataframe tbody tr th:only-of-type {\n",
       "        vertical-align: middle;\n",
       "    }\n",
       "\n",
       "    .dataframe tbody tr th {\n",
       "        vertical-align: top;\n",
       "    }\n",
       "\n",
       "    .dataframe thead th {\n",
       "        text-align: right;\n",
       "    }\n",
       "</style>\n",
       "<table border=\"1\" class=\"dataframe\">\n",
       "  <thead>\n",
       "    <tr style=\"text-align: right;\">\n",
       "      <th></th>\n",
       "      <th>block_number</th>\n",
       "      <th>amount</th>\n",
       "      <th>relay</th>\n",
       "      <th>builder</th>\n",
       "    </tr>\n",
       "  </thead>\n",
       "  <tbody>\n",
       "    <tr>\n",
       "      <th>0</th>\n",
       "      <td>15537940</td>\n",
       "      <td>9.348220</td>\n",
       "      <td>flashbots</td>\n",
       "      <td>Flashbots</td>\n",
       "    </tr>\n",
       "    <tr>\n",
       "      <th>1</th>\n",
       "      <td>15537941</td>\n",
       "      <td>34.401677</td>\n",
       "      <td>Altruistic</td>\n",
       "      <td>Altruistic</td>\n",
       "    </tr>\n",
       "    <tr>\n",
       "      <th>2</th>\n",
       "      <td>15537943</td>\n",
       "      <td>29.511673</td>\n",
       "      <td>Altruistic</td>\n",
       "      <td>Altruistic</td>\n",
       "    </tr>\n",
       "    <tr>\n",
       "      <th>3</th>\n",
       "      <td>15537944</td>\n",
       "      <td>0.657583</td>\n",
       "      <td>Altruistic</td>\n",
       "      <td>Altruistic</td>\n",
       "    </tr>\n",
       "    <tr>\n",
       "      <th>4</th>\n",
       "      <td>15537946</td>\n",
       "      <td>11.057775</td>\n",
       "      <td>Altruistic</td>\n",
       "      <td>Altruistic</td>\n",
       "    </tr>\n",
       "    <tr>\n",
       "      <th>...</th>\n",
       "      <td>...</td>\n",
       "      <td>...</td>\n",
       "      <td>...</td>\n",
       "      <td>...</td>\n",
       "    </tr>\n",
       "    <tr>\n",
       "      <th>2129275</th>\n",
       "      <td>17864005</td>\n",
       "      <td>4.991950</td>\n",
       "      <td>agnostic Gnosis</td>\n",
       "      <td>Titan Builder</td>\n",
       "    </tr>\n",
       "    <tr>\n",
       "      <th>2129276</th>\n",
       "      <td>17864005</td>\n",
       "      <td>4.991950</td>\n",
       "      <td>ultrasound</td>\n",
       "      <td>Titan Builder</td>\n",
       "    </tr>\n",
       "    <tr>\n",
       "      <th>2129277</th>\n",
       "      <td>17864008</td>\n",
       "      <td>0.958249</td>\n",
       "      <td>ultrasound</td>\n",
       "      <td>BuildAI (https://buildai.net)</td>\n",
       "    </tr>\n",
       "    <tr>\n",
       "      <th>2129278</th>\n",
       "      <td>17864015</td>\n",
       "      <td>2.896456</td>\n",
       "      <td>bloxroute (max profit)</td>\n",
       "      <td>beaverbuild.org</td>\n",
       "    </tr>\n",
       "    <tr>\n",
       "      <th>2129279</th>\n",
       "      <td>17864015</td>\n",
       "      <td>2.896456</td>\n",
       "      <td>bloxroute (regulated)</td>\n",
       "      <td>beaverbuild.org</td>\n",
       "    </tr>\n",
       "  </tbody>\n",
       "</table>\n",
       "<p>2129280 rows × 4 columns</p>\n",
       "</div>"
      ],
      "text/plain": [
       "         block_number     amount                   relay  \\\n",
       "0            15537940   9.348220               flashbots   \n",
       "1            15537941  34.401677              Altruistic   \n",
       "2            15537943  29.511673              Altruistic   \n",
       "3            15537944   0.657583              Altruistic   \n",
       "4            15537946  11.057775              Altruistic   \n",
       "...               ...        ...                     ...   \n",
       "2129275      17864005   4.991950         agnostic Gnosis   \n",
       "2129276      17864005   4.991950              ultrasound   \n",
       "2129277      17864008   0.958249              ultrasound   \n",
       "2129278      17864015   2.896456  bloxroute (max profit)   \n",
       "2129279      17864015   2.896456   bloxroute (regulated)   \n",
       "\n",
       "                               builder  \n",
       "0                            Flashbots  \n",
       "1                           Altruistic  \n",
       "2                           Altruistic  \n",
       "3                           Altruistic  \n",
       "4                           Altruistic  \n",
       "...                                ...  \n",
       "2129275                  Titan Builder  \n",
       "2129276                  Titan Builder  \n",
       "2129277  BuildAI (https://buildai.net)  \n",
       "2129278                beaverbuild.org  \n",
       "2129279                beaverbuild.org  \n",
       "\n",
       "[2129280 rows x 4 columns]"
      ]
     },
     "execution_count": 92,
     "metadata": {},
     "output_type": "execute_result"
    }
   ],
   "source": [
    "block_mean_swap_size"
   ]
  },
  {
   "cell_type": "code",
   "execution_count": 96,
   "metadata": {},
   "outputs": [
    {
     "data": {
      "text/plain": [
       "Text(0, 0.5, 'Mean swap size (ETH)')"
      ]
     },
     "execution_count": 96,
     "metadata": {},
     "output_type": "execute_result"
    },
    {
     "data": {
      "image/png": "[encoded data removed]",
      "text/plain": [
       "<Figure size 1000x500 with 1 Axes>"
      ]
     },
     "metadata": {},
     "output_type": "display_data"
    }
   ],
   "source": [
    "# Calculate the mean swap size for each builder\n",
    "builder_mean_swap_size = mev_boost_builders.groupby(\"builder\").amount.mean()\n",
    "\n",
    "# Plot it as a histogram\n",
    "fig, ax = plt.subplots(figsize=(10, 5))\n",
    "\n",
    "ax.bar(builder_mean_swap_size.index, builder_mean_swap_size)\n",
    "\n",
    "# Add a line for the overall mean swap size\n",
    "ax.axhline(mev_boost_builders.amount.mean(), color=\"red\", linestyle=\"--\")\n",
    "\n",
    "# Rotate the x-axis labels and align them to the right\n",
    "for tick in ax.get_xticklabels():\n",
    "    tick.set_rotation(45)\n",
    "    tick.set_horizontalalignment(\"right\")\n",
    "\n",
    "ax.set_title(\"Mean swap size distribution for each builder\")\n",
    "ax.set_xlabel(\"Builder\")\n",
    "ax.set_ylabel(\"Mean swap size (ETH)\")"
   ]
  },
  {
   "cell_type": "markdown",
   "metadata": {},
   "source": [
    "#### Visualize results for relays\n"
   ]
  },
  {
   "cell_type": "code",
   "execution_count": 97,
   "metadata": {},
   "outputs": [
    {
     "data": {
      "text/plain": [
       "Text(0, 0.5, 'Mean swap size (ETH)')"
      ]
     },
     "execution_count": 97,
     "metadata": {},
     "output_type": "execute_result"
    },
    {
     "data": {
      "image/png": "[encoded data removed]",
      "text/plain": [
       "<Figure size 1000x500 with 1 Axes>"
      ]
     },
     "metadata": {},
     "output_type": "display_data"
    }
   ],
   "source": [
    "# Calculate the mean swap size for each relay\n",
    "relay_mean_swap_size = block_mean_swap_size.groupby(\"relay\").amount.mean()\n",
    "\n",
    "# Plot it as a histogram\n",
    "fig, ax = plt.subplots(figsize=(10, 5))\n",
    "\n",
    "ax.bar(relay_mean_swap_size.index, relay_mean_swap_size)\n",
    "\n",
    "ax.axhline(block_mean_swap_size.amount.mean(), color=\"red\", linestyle=\"--\")\n",
    "\n",
    "# Rotate the x-axis labels and align them to the right\n",
    "for tick in ax.get_xticklabels():\n",
    "    tick.set_rotation(45)\n",
    "    tick.set_horizontalalignment(\"right\")\n",
    "\n",
    "ax.set_title(\"Mean swap size distribution for each relay\")\n",
    "ax.set_xlabel(\"Relay\")\n",
    "ax.set_ylabel(\"Mean swap size (ETH)\")"
   ]
  },
  {
   "cell_type": "code",
   "execution_count": null,
   "metadata": {},
   "outputs": [],
   "source": []
  }
 ],
 "metadata": {
  "kernelspec": {
   "display_name": "venv",
   "language": "python",
   "name": "python3"
  },
  "language_info": {
   "codemirror_mode": {
    "name": "ipython",
    "version": 3
   },
   "file_extension": ".py",
   "mimetype": "text/x-python",
   "name": "python",
   "nbconvert_exporter": "python",
   "pygments_lexer": "ipython3",
   "version": "3.11.4"
  }
 },
 "nbformat": 4,
 "nbformat_minor": 2
}
