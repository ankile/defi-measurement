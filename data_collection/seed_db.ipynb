{
 "cells": [
  {
   "cell_type": "markdown",
   "metadata": {},
   "source": [
    "# Collect data from the BigQuery database"
   ]
  },
  {
   "cell_type": "code",
   "execution_count": 1,
   "metadata": {},
   "outputs": [],
   "source": [
    "%load_ext autoreload\n",
    "%autoreload 2"
   ]
  },
  {
   "cell_type": "code",
   "execution_count": 2,
   "metadata": {
    "notebookRunGroups": {
     "groupValue": "1"
    }
   },
   "outputs": [],
   "source": [
    "import sys\n",
    "\n",
    "current_path = sys.path[0]\n",
    "sys.path.append(current_path[:current_path.find('defi-measurement')] + \"liquidity-distribution-history\")"
   ]
  },
  {
   "cell_type": "code",
   "execution_count": 3,
   "metadata": {
    "notebookRunGroups": {
     "groupValue": "1"
    }
   },
   "outputs": [
    {
     "data": {
      "text/plain": [
       "True"
      ]
     },
     "execution_count": 3,
     "metadata": {},
     "output_type": "execute_result"
    }
   ],
   "source": [
    "import os\n",
    "from pool_state import v3Pool\n",
    "import numpy as np\n",
    "import matplotlib.pyplot as plt\n",
    "from tqdm import tqdm\n",
    "\n",
    "import json\n",
    "\n",
    "import pandas as pd\n",
    "from prisma import Prisma\n",
    "\n",
    "\n",
    "from dotenv import load_dotenv\n",
    "\n",
    "\n",
    "load_dotenv(override=True)"
   ]
  },
  {
   "cell_type": "code",
   "execution_count": 4,
   "metadata": {
    "notebookRunGroups": {
     "groupValue": "1"
    }
   },
   "outputs": [],
   "source": [
    "postgres_uri = os.getenv(\"POSTGRES_URI\")\n",
    "\n",
    "assert postgres_uri is not None, \"Connection string to Postgres is not set\""
   ]
  },
  {
   "cell_type": "code",
   "execution_count": 5,
   "metadata": {
    "notebookRunGroups": {
     "groupValue": "1"
    }
   },
   "outputs": [],
   "source": [
    "pool_symbols = json.load(open(\"../addresses/pool_tokens.json\", \"r\"))\n",
    "\n",
    "# Take out the 10 first pools of the dictionary\n",
    "# pool_symbols = {k: pool_symbols[k] for k in list(pool_symbols)[:10]}"
   ]
  },
  {
   "cell_type": "code",
   "execution_count": 6,
   "metadata": {
    "notebookRunGroups": {
     "groupValue": "1"
    }
   },
   "outputs": [
    {
     "name": "stdout",
     "output_type": "stream",
     "text": [
      "364,367\n"
     ]
    }
   ],
   "source": [
    "client = Prisma()\n",
    "await client.connect()\n",
    "\n",
    "print(f\"{await client.swap.count():,}\")"
   ]
  },
  {
   "cell_type": "markdown",
   "metadata": {},
   "source": [
    "## Get data for the 10 biggest pools by TVL"
   ]
  },
  {
   "cell_type": "code",
   "execution_count": 7,
   "metadata": {},
   "outputs": [],
   "source": [
    "pool_addresses = [\n",
    "    \"0x88e6a0c2ddd26feeb64f039a2c41296fcb3f5640\",  # USDC-ETH  0.05%\n",
    "    \"0xcbcdf9626bc03e24f779434178a73a0b4bad62ed\",   # WBTC-ETH  0.30%\n",
    "    \"0x5777d92f208679db4b9778590fa3cab3ac9e2168\",  # DAI-USDC  0.01%\n",
    "    \"0x4585fe77225b41b697c938b018e2ac67ac5a20c0\",  # WBTC-ETC  0.05%\n",
    "    \"0xc63b0708e2f7e69cb8a1df0e1389a98c35a76d52\",  # FRAX-USDC 0.05%\n",
    "    \"0x8ad599c3a0ff1de082011efddc58f1908eb6e6d8\",  # USDC-ETH  0.30%\n",
    "    \"0x11b815efb8f581194ae79006d24e0d814b7697f6\",  # ETH-USDT  0.05%\n",
    "    \"0x3416cf6c708da44db2624d63ea0aaef7113527c6\",  # USDC-USDT 0.01%\n",
    "    \"0x7379e81228514a1d2a6cf7559203998e20598346\",  # ETH/sETH2 0.30%\n",
    "    \"0x6c6bc977e13df9b0de53b251522280bb72383700\",  # DAI-USDC  0.05%\n",
    "]"
   ]
  },
  {
   "cell_type": "code",
   "execution_count": 9,
   "metadata": {},
   "outputs": [
    {
     "name": "stderr",
     "output_type": "stream",
     "text": [
      "0x88e6a0c2ddd26feeb64f039a2c41296fcb3f5640:   0%|          | 0/1 [00:00<?, ?it/s]/Users/larsankile/Code/liquidity-distribution-history/pool_state.py:496: UserWarning: pandas only supports SQLAlchemy connectable (engine/connection) or database string URI or sqlite3 DBAPI2 connection. Other DBAPI2 objects are not tested. Please consider using SQLAlchemy.\n",
      "  swaps = pd.read_sql(q, self.conn)\n"
     ]
    }
   ],
   "source": [
    "it = tqdm(pool_addresses[:1])\n",
    "for pool_address in it:\n",
    "    it.set_description(pool_address)\n",
    "    pool = v3Pool(pool_address, initialize=False, update=True, connStr=postgres_uri)"
   ]
  },
  {
   "cell_type": "code",
   "execution_count": null,
   "metadata": {},
   "outputs": [],
   "source": []
  }
 ],
 "metadata": {
  "kernelspec": {
   "display_name": "venv",
   "language": "python",
   "name": "python3"
  },
  "language_info": {
   "codemirror_mode": {
    "name": "ipython",
    "version": 3
   },
   "file_extension": ".py",
   "mimetype": "text/x-python",
   "name": "python",
   "nbconvert_exporter": "python",
   "pygments_lexer": "ipython3",
   "version": "3.11.3"
  },
  "orig_nbformat": 4
 },
 "nbformat": 4,
 "nbformat_minor": 2
}
